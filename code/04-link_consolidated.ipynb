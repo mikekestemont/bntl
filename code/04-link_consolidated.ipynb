{
 "cells": [
  {
   "cell_type": "code",
   "execution_count": 1,
   "metadata": {},
   "outputs": [],
   "source": [
    "from copy import deepcopy\n",
    "import os\n",
    "import math\n",
    "import shutil\n",
    "import re\n",
    "from glob import glob\n",
    "from collections import defaultdict\n",
    "\n",
    "import numpy as np\n",
    "from tqdm import tqdm\n",
    "import pandas as pd\n",
    "pd.set_option('display.max_colwidth', None)\n",
    "import rispy"
   ]
  },
  {
   "cell_type": "code",
   "execution_count": 2,
   "metadata": {},
   "outputs": [],
   "source": [
    "dump_dir = '../data/bntl-db-csv-dump-4March2024'"
   ]
  },
  {
   "cell_type": "markdown",
   "metadata": {},
   "source": [
    "### Recensies\n",
    "\n",
    "Link reviews to the book that they review."
   ]
  },
  {
   "cell_type": "code",
   "execution_count": 3,
   "metadata": {},
   "outputs": [
    {
     "data": {
      "text/html": [
       "<div>\n",
       "<style scoped>\n",
       "    .dataframe tbody tr th:only-of-type {\n",
       "        vertical-align: middle;\n",
       "    }\n",
       "\n",
       "    .dataframe tbody tr th {\n",
       "        vertical-align: top;\n",
       "    }\n",
       "\n",
       "    .dataframe thead th {\n",
       "        text-align: right;\n",
       "    }\n",
       "</style>\n",
       "<table border=\"1\" class=\"dataframe\">\n",
       "  <thead>\n",
       "    <tr style=\"text-align: right;\">\n",
       "      <th></th>\n",
       "      <th>id</th>\n",
       "      <th>ppn</th>\n",
       "      <th>type</th>\n",
       "      <th>jaar</th>\n",
       "      <th>title_description</th>\n",
       "      <th>abstract</th>\n",
       "      <th>url</th>\n",
       "      <th>containing_publication_id</th>\n",
       "      <th>containing_publication_ppn</th>\n",
       "      <th>page_numbers</th>\n",
       "      <th>creator</th>\n",
       "      <th>creation_date</th>\n",
       "      <th>modifier</th>\n",
       "      <th>modification_date</th>\n",
       "      <th>canonical_url</th>\n",
       "    </tr>\n",
       "  </thead>\n",
       "  <tbody>\n",
       "    <tr>\n",
       "      <th>0</th>\n",
       "      <td>254444</td>\n",
       "      <td>NaN</td>\n",
       "      <td>artikeltijdschrift</td>\n",
       "      <td>2009</td>\n",
       "      <td>Campenhout, Frans van. Ropsiennes, de nieuwe dichtbundel van Mark Meekers.\\r\\nIn: Verba (Brussel): 13 (2009) 2 (mei-juli) 14.</td>\n",
       "      <td>Over: Meekers, Mark. Ropsiennes: gedichten bij het leven en werk van Félicien Rops (1833-1898). Leuven: P, 2009.</td>\n",
       "      <td>NaN</td>\n",
       "      <td>NaN</td>\n",
       "      <td>NaN</td>\n",
       "      <td>NaN</td>\n",
       "      <td>19</td>\n",
       "      <td>2009-06-26 11:32:26</td>\n",
       "      <td>19.0</td>\n",
       "      <td>2009-06-26 11:45:26</td>\n",
       "      <td>campenhout_frans_van_ropsienne/campenhout_frans_van</td>\n",
       "    </tr>\n",
       "    <tr>\n",
       "      <th>1</th>\n",
       "      <td>254442</td>\n",
       "      <td>NaN</td>\n",
       "      <td>artikeltijdschrift</td>\n",
       "      <td>2009</td>\n",
       "      <td>Campenhout, Frans van. Dichteres en romancière Liane Bruylants overleden.\\r\\nIn: Verba (Brussel): 13 (2009) 2 (mei-juli) 5-8.</td>\n",
       "      <td>NaN</td>\n",
       "      <td>NaN</td>\n",
       "      <td>NaN</td>\n",
       "      <td>NaN</td>\n",
       "      <td>NaN</td>\n",
       "      <td>19</td>\n",
       "      <td>2009-06-26 11:27:36</td>\n",
       "      <td>19.0</td>\n",
       "      <td>2009-06-26 11:46:40</td>\n",
       "      <td>campenhout_frans_van_dichteres/campenhout_frans_van</td>\n",
       "    </tr>\n",
       "    <tr>\n",
       "      <th>2</th>\n",
       "      <td>313784</td>\n",
       "      <td>NaN</td>\n",
       "      <td>artikeltijdschrift</td>\n",
       "      <td>2018</td>\n",
       "      <td>Lievois, Katrien, Hanne Kloots &amp; Noureddine Nahed. Kif-kif?: Arabische ontleningen in de Nederlandse, Spaanse en Arabische versie van \"Kiffe kiffe demain\".\\r\\nIn: Meertaligheid. Speciaal gedeelte van: Filter (Nijmegen): 25 (2018) 3 (sep) 37-47.</td>\n",
       "      <td>P. 46 Noten; p. 46 Bibliografie; p. 47 Bijlage: vertalingen van \"Kiffe kiffe demain\".</td>\n",
       "      <td>NaN</td>\n",
       "      <td>NaN</td>\n",
       "      <td>NaN</td>\n",
       "      <td>NaN</td>\n",
       "      <td>451</td>\n",
       "      <td>2023-11-29 16:36:19</td>\n",
       "      <td>451.0</td>\n",
       "      <td>2023-11-29 16:40:08</td>\n",
       "      <td>lievois_katrien_hanne_kloots_n/lievois_katrien</td>\n",
       "    </tr>\n",
       "    <tr>\n",
       "      <th>3</th>\n",
       "      <td>171436</td>\n",
       "      <td>862346606</td>\n",
       "      <td>artikeltijdschrift</td>\n",
       "      <td>1965</td>\n",
       "      <td>Interprovinciale Prijs voor monografie aan een Westvlaming, [door] A.S.\\r\\nIn: West-Vlaanderen: 14 (1965) 79 (jan-feb) 66-67.</td>\n",
       "      <td>N.a.v.: Deblaere, Albert. De mystieke schrijfster Maria Petyt, (1623-1677). Gent: Secretarie der Academie, 1962.</td>\n",
       "      <td>NaN</td>\n",
       "      <td>166925.0</td>\n",
       "      <td>853271437</td>\n",
       "      <td>vol. 14 (1965), afl. 79 (jan-feb), p. 66-67.</td>\n",
       "      <td>1</td>\n",
       "      <td>NaT</td>\n",
       "      <td>19.0</td>\n",
       "      <td>2009-06-26 10:25:49</td>\n",
       "      <td>interprovinciale_prijs_voor_mo</td>\n",
       "    </tr>\n",
       "    <tr>\n",
       "      <th>4</th>\n",
       "      <td>246627</td>\n",
       "      <td>NaN</td>\n",
       "      <td>artikelboek</td>\n",
       "      <td>2004</td>\n",
       "      <td>Willaert, Frank. Margaret's booklets: memory in \"Vanden seven sloten\" by Jan van Ruusbroec.\\r\\nIn: Medieval memory: image and text; edited by Frank Willaert, Herman Braet, Tom Mertens, Theofiel Venckeleer. Turnhout: Brepols, 2004, p. 99-128.\\r\\n(Textes et études du Moyen Âge; 27).</td>\n",
       "      <td>Lezing, gehouden op het congres \"Memory in the Middle Ages\" aan de Universiteit Antwerpen, 7-9 maart 2002.</td>\n",
       "      <td>NaN</td>\n",
       "      <td>NaN</td>\n",
       "      <td>NaN</td>\n",
       "      <td>NaN</td>\n",
       "      <td>16</td>\n",
       "      <td>2008-06-18 12:05:19</td>\n",
       "      <td>16.0</td>\n",
       "      <td>2008-06-18 12:15:23</td>\n",
       "      <td>willaert_frank_margaret_s_book/willaert_frank</td>\n",
       "    </tr>\n",
       "    <tr>\n",
       "      <th>...</th>\n",
       "      <td>...</td>\n",
       "      <td>...</td>\n",
       "      <td>...</td>\n",
       "      <td>...</td>\n",
       "      <td>...</td>\n",
       "      <td>...</td>\n",
       "      <td>...</td>\n",
       "      <td>...</td>\n",
       "      <td>...</td>\n",
       "      <td>...</td>\n",
       "      <td>...</td>\n",
       "      <td>...</td>\n",
       "      <td>...</td>\n",
       "      <td>...</td>\n",
       "      <td>...</td>\n",
       "    </tr>\n",
       "    <tr>\n",
       "      <th>302861</th>\n",
       "      <td>254432</td>\n",
       "      <td>NaN</td>\n",
       "      <td>recensie</td>\n",
       "      <td>1962</td>\n",
       "      <td>Plard, Henri. Une mystique flamande retrouvée: Maria Petyt (1623-1677).\\r\\nIn: Études germaniques (Paris): 17 (1962) 3 (juill-sep) 347-354.</td>\n",
       "      <td>NaN</td>\n",
       "      <td>NaN</td>\n",
       "      <td>NaN</td>\n",
       "      <td>NaN</td>\n",
       "      <td>NaN</td>\n",
       "      <td>19</td>\n",
       "      <td>2009-06-26 10:31:29</td>\n",
       "      <td>18.0</td>\n",
       "      <td>2014-01-10 12:31:40</td>\n",
       "      <td>plard_henri_une_mystique_flama/plard_henri</td>\n",
       "    </tr>\n",
       "    <tr>\n",
       "      <th>302862</th>\n",
       "      <td>129705</td>\n",
       "      <td>NaN</td>\n",
       "      <td>recensie</td>\n",
       "      <td>2003</td>\n",
       "      <td>Offermans, Cyrille.  \\r\\nIn: Ons erfdeel (Rekkem): 46 (2003) 3 (juni) 446-448.</td>\n",
       "      <td>NaN</td>\n",
       "      <td>NaN</td>\n",
       "      <td>NaN</td>\n",
       "      <td>NaN</td>\n",
       "      <td>NaN</td>\n",
       "      <td>1</td>\n",
       "      <td>NaT</td>\n",
       "      <td>19.0</td>\n",
       "      <td>2012-12-06 10:04:44</td>\n",
       "      <td>cyrille_offermans_in_ons_erfde/offermans_cyrille_albert_willem_3</td>\n",
       "    </tr>\n",
       "    <tr>\n",
       "      <th>302863</th>\n",
       "      <td>129707</td>\n",
       "      <td>241847133</td>\n",
       "      <td>boek</td>\n",
       "      <td>2003</td>\n",
       "      <td>Nederlands-Afghaanse grammatica = Nīdarlandī-Paśtū paśwayah / Sayed Nasir Ahmad (Sayyid Naṣīr Aḥmad). - 3e, herz. dr. - Utrecht : Nederlands Centrum Buitenlanders, cop. 2003. - XIV, 182 p. ; 24 cm Tekst in het Nederlands en het Pasjtoe. - Ook o.d.t.: Nederlands-Pashto grammatica. - Met lit. opg. ISBN 90-5517-169-7.</td>\n",
       "      <td>P. 181-182 Literatuur.\\n1e-2e dr. ?</td>\n",
       "      <td>NaN</td>\n",
       "      <td>NaN</td>\n",
       "      <td>NaN</td>\n",
       "      <td>NaN</td>\n",
       "      <td>1</td>\n",
       "      <td>NaT</td>\n",
       "      <td>NaN</td>\n",
       "      <td>NaT</td>\n",
       "      <td>nederlands-afghaanse_grammatic/nasir_ahmad_sayed</td>\n",
       "    </tr>\n",
       "    <tr>\n",
       "      <th>302864</th>\n",
       "      <td>254436</td>\n",
       "      <td>NaN</td>\n",
       "      <td>recensie</td>\n",
       "      <td>1964</td>\n",
       "      <td>Degroote, Gilbert.\\r\\nIn: Belgisch tijdschrift voor filologie en geschiedenis (Brussel): 42 (1964) 1, 152-153.</td>\n",
       "      <td>NaN</td>\n",
       "      <td>NaN</td>\n",
       "      <td>NaN</td>\n",
       "      <td>NaN</td>\n",
       "      <td>NaN</td>\n",
       "      <td>19</td>\n",
       "      <td>2009-06-26 10:37:20</td>\n",
       "      <td>18.0</td>\n",
       "      <td>2014-01-10 12:33:47</td>\n",
       "      <td>degroote_gilbert_in_revue_belg/degroote_gilbert</td>\n",
       "    </tr>\n",
       "    <tr>\n",
       "      <th>302865</th>\n",
       "      <td>212197</td>\n",
       "      <td>863135706</td>\n",
       "      <td>tijdschriftofreeks</td>\n",
       "      <td>1974-</td>\n",
       "      <td>Mededelingen van de Vereniging voor Aalsters kultuurschoon (V.V.A.K.). Aalst: V.V.A.K., 1974-....</td>\n",
       "      <td>Afkorting: Meded. Ver. Aalsters Kult.schoon\\r\\nBewerkt: 1 (1974) - 40 (2013) 1 ; 2 ; 41 (2014) 2 ; 3 ; 42 (2015) 2 ; 4 ; 43 (2016) 3 ; 45 (2018) 2</td>\n",
       "      <td>NaN</td>\n",
       "      <td>NaN</td>\n",
       "      <td>NaN</td>\n",
       "      <td>NaN</td>\n",
       "      <td>1</td>\n",
       "      <td>NaT</td>\n",
       "      <td>19.0</td>\n",
       "      <td>2019-06-20 14:10:36</td>\n",
       "      <td>mededelingen_van_de_vereniging_2</td>\n",
       "    </tr>\n",
       "  </tbody>\n",
       "</table>\n",
       "<p>302866 rows × 15 columns</p>\n",
       "</div>"
      ],
      "text/plain": [
       "            id        ppn                type   jaar  \\\n",
       "0       254444        NaN  artikeltijdschrift   2009   \n",
       "1       254442        NaN  artikeltijdschrift   2009   \n",
       "2       313784        NaN  artikeltijdschrift   2018   \n",
       "3       171436  862346606  artikeltijdschrift   1965   \n",
       "4       246627        NaN         artikelboek   2004   \n",
       "...        ...        ...                 ...    ...   \n",
       "302861  254432        NaN            recensie   1962   \n",
       "302862  129705        NaN            recensie   2003   \n",
       "302863  129707  241847133                boek   2003   \n",
       "302864  254436        NaN            recensie   1964   \n",
       "302865  212197  863135706  tijdschriftofreeks  1974-   \n",
       "\n",
       "                                                                                                                                                                                                                                                                                                                   title_description  \\\n",
       "0                                                                                                                                                                                                      Campenhout, Frans van. Ropsiennes, de nieuwe dichtbundel van Mark Meekers.\\r\\nIn: Verba (Brussel): 13 (2009) 2 (mei-juli) 14.   \n",
       "1                                                                                                                                                                                                      Campenhout, Frans van. Dichteres en romancière Liane Bruylants overleden.\\r\\nIn: Verba (Brussel): 13 (2009) 2 (mei-juli) 5-8.   \n",
       "2                                                                               Lievois, Katrien, Hanne Kloots & Noureddine Nahed. Kif-kif?: Arabische ontleningen in de Nederlandse, Spaanse en Arabische versie van \"Kiffe kiffe demain\".\\r\\nIn: Meertaligheid. Speciaal gedeelte van: Filter (Nijmegen): 25 (2018) 3 (sep) 37-47.   \n",
       "3                                                                                                                                                                                                      Interprovinciale Prijs voor monografie aan een Westvlaming, [door] A.S.\\r\\nIn: West-Vlaanderen: 14 (1965) 79 (jan-feb) 66-67.   \n",
       "4                                          Willaert, Frank. Margaret's booklets: memory in \"Vanden seven sloten\" by Jan van Ruusbroec.\\r\\nIn: Medieval memory: image and text; edited by Frank Willaert, Herman Braet, Tom Mertens, Theofiel Venckeleer. Turnhout: Brepols, 2004, p. 99-128.\\r\\n(Textes et études du Moyen Âge; 27).   \n",
       "...                                                                                                                                                                                                                                                                                                                              ...   \n",
       "302861                                                                                                                                                                                   Plard, Henri. Une mystique flamande retrouvée: Maria Petyt (1623-1677).\\r\\nIn: Études germaniques (Paris): 17 (1962) 3 (juill-sep) 347-354.   \n",
       "302862                                                                                                                                                                                                                                                Offermans, Cyrille.  \\r\\nIn: Ons erfdeel (Rekkem): 46 (2003) 3 (juni) 446-448.   \n",
       "302863  Nederlands-Afghaanse grammatica = Nīdarlandī-Paśtū paśwayah / Sayed Nasir Ahmad (Sayyid Naṣīr Aḥmad). - 3e, herz. dr. - Utrecht : Nederlands Centrum Buitenlanders, cop. 2003. - XIV, 182 p. ; 24 cm Tekst in het Nederlands en het Pasjtoe. - Ook o.d.t.: Nederlands-Pashto grammatica. - Met lit. opg. ISBN 90-5517-169-7.   \n",
       "302864                                                                                                                                                                                                                Degroote, Gilbert.\\r\\nIn: Belgisch tijdschrift voor filologie en geschiedenis (Brussel): 42 (1964) 1, 152-153.   \n",
       "302865                                                                                                                                                                                                                             Mededelingen van de Vereniging voor Aalsters kultuurschoon (V.V.A.K.). Aalst: V.V.A.K., 1974-....   \n",
       "\n",
       "                                                                                                                                                  abstract  \\\n",
       "0                                         Over: Meekers, Mark. Ropsiennes: gedichten bij het leven en werk van Félicien Rops (1833-1898). Leuven: P, 2009.   \n",
       "1                                                                                                                                                      NaN   \n",
       "2                                                                    P. 46 Noten; p. 46 Bibliografie; p. 47 Bijlage: vertalingen van \"Kiffe kiffe demain\".   \n",
       "3                                         N.a.v.: Deblaere, Albert. De mystieke schrijfster Maria Petyt, (1623-1677). Gent: Secretarie der Academie, 1962.   \n",
       "4                                               Lezing, gehouden op het congres \"Memory in the Middle Ages\" aan de Universiteit Antwerpen, 7-9 maart 2002.   \n",
       "...                                                                                                                                                    ...   \n",
       "302861                                                                                                                                                 NaN   \n",
       "302862                                                                                                                                                 NaN   \n",
       "302863                                                                                                                 P. 181-182 Literatuur.\\n1e-2e dr. ?   \n",
       "302864                                                                                                                                                 NaN   \n",
       "302865  Afkorting: Meded. Ver. Aalsters Kult.schoon\\r\\nBewerkt: 1 (1974) - 40 (2013) 1 ; 2 ; 41 (2014) 2 ; 3 ; 42 (2015) 2 ; 4 ; 43 (2016) 3 ; 45 (2018) 2   \n",
       "\n",
       "        url  containing_publication_id containing_publication_ppn  \\\n",
       "0       NaN                        NaN                        NaN   \n",
       "1       NaN                        NaN                        NaN   \n",
       "2       NaN                        NaN                        NaN   \n",
       "3       NaN                   166925.0                  853271437   \n",
       "4       NaN                        NaN                        NaN   \n",
       "...     ...                        ...                        ...   \n",
       "302861  NaN                        NaN                        NaN   \n",
       "302862  NaN                        NaN                        NaN   \n",
       "302863  NaN                        NaN                        NaN   \n",
       "302864  NaN                        NaN                        NaN   \n",
       "302865  NaN                        NaN                        NaN   \n",
       "\n",
       "                                        page_numbers  creator  \\\n",
       "0                                                NaN       19   \n",
       "1                                                NaN       19   \n",
       "2                                                NaN      451   \n",
       "3       vol. 14 (1965), afl. 79 (jan-feb), p. 66-67.        1   \n",
       "4                                                NaN       16   \n",
       "...                                              ...      ...   \n",
       "302861                                           NaN       19   \n",
       "302862                                           NaN        1   \n",
       "302863                                           NaN        1   \n",
       "302864                                           NaN       19   \n",
       "302865                                           NaN        1   \n",
       "\n",
       "             creation_date  modifier   modification_date  \\\n",
       "0      2009-06-26 11:32:26      19.0 2009-06-26 11:45:26   \n",
       "1      2009-06-26 11:27:36      19.0 2009-06-26 11:46:40   \n",
       "2      2023-11-29 16:36:19     451.0 2023-11-29 16:40:08   \n",
       "3                      NaT      19.0 2009-06-26 10:25:49   \n",
       "4      2008-06-18 12:05:19      16.0 2008-06-18 12:15:23   \n",
       "...                    ...       ...                 ...   \n",
       "302861 2009-06-26 10:31:29      18.0 2014-01-10 12:31:40   \n",
       "302862                 NaT      19.0 2012-12-06 10:04:44   \n",
       "302863                 NaT       NaN                 NaT   \n",
       "302864 2009-06-26 10:37:20      18.0 2014-01-10 12:33:47   \n",
       "302865                 NaT      19.0 2019-06-20 14:10:36   \n",
       "\n",
       "                                                           canonical_url  \n",
       "0                    campenhout_frans_van_ropsienne/campenhout_frans_van  \n",
       "1                    campenhout_frans_van_dichteres/campenhout_frans_van  \n",
       "2                         lievois_katrien_hanne_kloots_n/lievois_katrien  \n",
       "3                                         interprovinciale_prijs_voor_mo  \n",
       "4                          willaert_frank_margaret_s_book/willaert_frank  \n",
       "...                                                                  ...  \n",
       "302861                        plard_henri_une_mystique_flama/plard_henri  \n",
       "302862  cyrille_offermans_in_ons_erfde/offermans_cyrille_albert_willem_3  \n",
       "302863                  nederlands-afghaanse_grammatic/nasir_ahmad_sayed  \n",
       "302864                   degroote_gilbert_in_revue_belg/degroote_gilbert  \n",
       "302865                                  mededelingen_van_de_vereniging_2  \n",
       "\n",
       "[302866 rows x 15 columns]"
      ]
     },
     "execution_count": 3,
     "metadata": {},
     "output_type": "execute_result"
    }
   ],
   "source": [
    "publications = pd.read_csv(f\"{dump_dir}/publications.csv\", header=0, parse_dates=['creation_date', 'modification_date'])\n",
    "publications['id'] = publications['id'].fillna('')\n",
    "publications"
   ]
  },
  {
   "cell_type": "code",
   "execution_count": 4,
   "metadata": {},
   "outputs": [],
   "source": [
    "publications['title_description'] = [' '.join(p.split()).strip() for p in publications['title_description']]"
   ]
  },
  {
   "cell_type": "code",
   "execution_count": 5,
   "metadata": {},
   "outputs": [
    {
     "data": {
      "text/html": [
       "<div>\n",
       "<style scoped>\n",
       "    .dataframe tbody tr th:only-of-type {\n",
       "        vertical-align: middle;\n",
       "    }\n",
       "\n",
       "    .dataframe tbody tr th {\n",
       "        vertical-align: top;\n",
       "    }\n",
       "\n",
       "    .dataframe thead th {\n",
       "        text-align: right;\n",
       "    }\n",
       "</style>\n",
       "<table border=\"1\" class=\"dataframe\">\n",
       "  <thead>\n",
       "    <tr style=\"text-align: right;\">\n",
       "      <th></th>\n",
       "      <th>id</th>\n",
       "      <th>ppn</th>\n",
       "      <th>type</th>\n",
       "      <th>jaar</th>\n",
       "      <th>title_description</th>\n",
       "      <th>abstract</th>\n",
       "      <th>url</th>\n",
       "      <th>containing_publication_id</th>\n",
       "      <th>containing_publication_ppn</th>\n",
       "      <th>page_numbers</th>\n",
       "      <th>creator</th>\n",
       "      <th>creation_date</th>\n",
       "      <th>modifier</th>\n",
       "      <th>modification_date</th>\n",
       "      <th>canonical_url</th>\n",
       "    </tr>\n",
       "  </thead>\n",
       "  <tbody>\n",
       "    <tr>\n",
       "      <th>26</th>\n",
       "      <td>272188</td>\n",
       "      <td>NaN</td>\n",
       "      <td>recensie</td>\n",
       "      <td>1947</td>\n",
       "      <td>Royen, P. Gerlach O.F.M. In: Levende talen: (1947) 190-191.</td>\n",
       "      <td>NaN</td>\n",
       "      <td>NaN</td>\n",
       "      <td>NaN</td>\n",
       "      <td>NaN</td>\n",
       "      <td>NaN</td>\n",
       "      <td>19</td>\n",
       "      <td>2011-10-06 13:32:35</td>\n",
       "      <td>19.0</td>\n",
       "      <td>2011-10-06 13:33:58</td>\n",
       "      <td>royen_p_gerlach_o_f_m_in_leven/royen_o_f_m_nicolaus_jacobus_hubertus</td>\n",
       "    </tr>\n",
       "  </tbody>\n",
       "</table>\n",
       "</div>"
      ],
      "text/plain": [
       "        id  ppn      type  jaar  \\\n",
       "26  272188  NaN  recensie  1947   \n",
       "\n",
       "                                              title_description abstract  url  \\\n",
       "26  Royen, P. Gerlach O.F.M. In: Levende talen: (1947) 190-191.      NaN  NaN   \n",
       "\n",
       "    containing_publication_id containing_publication_ppn page_numbers  \\\n",
       "26                        NaN                        NaN          NaN   \n",
       "\n",
       "    creator       creation_date  modifier   modification_date  \\\n",
       "26       19 2011-10-06 13:32:35      19.0 2011-10-06 13:33:58   \n",
       "\n",
       "                                                           canonical_url  \n",
       "26  royen_p_gerlach_o_f_m_in_leven/royen_o_f_m_nicolaus_jacobus_hubertus  "
      ]
     },
     "execution_count": 5,
     "metadata": {},
     "output_type": "execute_result"
    }
   ],
   "source": [
    "publications[publications['title_description'] == 'Royen, P. Gerlach O.F.M. In: Levende talen: (1947) 190-191.']"
   ]
  },
  {
   "cell_type": "code",
   "execution_count": 6,
   "metadata": {},
   "outputs": [
    {
     "data": {
      "text/html": [
       "<div>\n",
       "<style scoped>\n",
       "    .dataframe tbody tr th:only-of-type {\n",
       "        vertical-align: middle;\n",
       "    }\n",
       "\n",
       "    .dataframe tbody tr th {\n",
       "        vertical-align: top;\n",
       "    }\n",
       "\n",
       "    .dataframe thead th {\n",
       "        text-align: right;\n",
       "    }\n",
       "</style>\n",
       "<table border=\"1\" class=\"dataframe\">\n",
       "  <thead>\n",
       "    <tr style=\"text-align: right;\">\n",
       "      <th></th>\n",
       "      <th>id</th>\n",
       "      <th>ppn</th>\n",
       "      <th>type</th>\n",
       "      <th>jaar</th>\n",
       "      <th>title_description</th>\n",
       "      <th>abstract</th>\n",
       "      <th>url</th>\n",
       "      <th>containing_publication_id</th>\n",
       "      <th>containing_publication_ppn</th>\n",
       "      <th>page_numbers</th>\n",
       "      <th>creator</th>\n",
       "      <th>creation_date</th>\n",
       "      <th>modifier</th>\n",
       "      <th>modification_date</th>\n",
       "      <th>canonical_url</th>\n",
       "    </tr>\n",
       "  </thead>\n",
       "  <tbody>\n",
       "    <tr>\n",
       "      <th>255901</th>\n",
       "      <td>273</td>\n",
       "      <td>036356891</td>\n",
       "      <td>boek</td>\n",
       "      <td>1947</td>\n",
       "      <td>Caron, Willem Johannes Hubertus. Klank en teken bij Erasmus en onze oudste grammatici. Groningen [etc.]: Wolters, 1947. XII, 140 p. + stellingen.</td>\n",
       "      <td>Proefschrift Vrije Universiteit Amsterdam.\\r\\nOok in: Caron, W. J. H. Klank en teken: verzamelde taalkundige studies; [voor herdr. gereedgemaakt en van een bibliografie voorz. door J. Knol; met medew. van H. J. Brinkman... et al.]. Groningen: Wolters-Noordhoff, 1972, p. 1-128.\\r\\nP. XII Lijst van gebruikte afkortingen; p. 141 Personenregister.\\r\\nO.a. ook over: Richard Dafforne, Anthonis de Huybert, Lambert ten Kate, Petrus Montanus, Arnold Moonen, H. L. Spiegel en Wigardus à Winschooten.</td>\n",
       "      <td>NaN</td>\n",
       "      <td>NaN</td>\n",
       "      <td>NaN</td>\n",
       "      <td>NaN</td>\n",
       "      <td>1</td>\n",
       "      <td>NaT</td>\n",
       "      <td>19.0</td>\n",
       "      <td>2011-10-06 13:37:17</td>\n",
       "      <td>klank_en_teken_bij_erasmus_en/caron_willem_johannes_hubertus</td>\n",
       "    </tr>\n",
       "  </tbody>\n",
       "</table>\n",
       "</div>"
      ],
      "text/plain": [
       "         id        ppn  type  jaar  \\\n",
       "255901  273  036356891  boek  1947   \n",
       "\n",
       "                                                                                                                                        title_description  \\\n",
       "255901  Caron, Willem Johannes Hubertus. Klank en teken bij Erasmus en onze oudste grammatici. Groningen [etc.]: Wolters, 1947. XII, 140 p. + stellingen.   \n",
       "\n",
       "                                                                                                                                                                                                                                                                                                                                                                                                                                                                                                             abstract  \\\n",
       "255901  Proefschrift Vrije Universiteit Amsterdam.\\r\\nOok in: Caron, W. J. H. Klank en teken: verzamelde taalkundige studies; [voor herdr. gereedgemaakt en van een bibliografie voorz. door J. Knol; met medew. van H. J. Brinkman... et al.]. Groningen: Wolters-Noordhoff, 1972, p. 1-128.\\r\\nP. XII Lijst van gebruikte afkortingen; p. 141 Personenregister.\\r\\nO.a. ook over: Richard Dafforne, Anthonis de Huybert, Lambert ten Kate, Petrus Montanus, Arnold Moonen, H. L. Spiegel en Wigardus à Winschooten.   \n",
       "\n",
       "        url  containing_publication_id containing_publication_ppn  \\\n",
       "255901  NaN                        NaN                        NaN   \n",
       "\n",
       "       page_numbers  creator creation_date  modifier   modification_date  \\\n",
       "255901          NaN        1           NaT      19.0 2011-10-06 13:37:17   \n",
       "\n",
       "                                                       canonical_url  \n",
       "255901  klank_en_teken_bij_erasmus_en/caron_willem_johannes_hubertus  "
      ]
     },
     "execution_count": 6,
     "metadata": {},
     "output_type": "execute_result"
    }
   ],
   "source": [
    "publications[publications['title_description'] == 'Caron, Willem Johannes Hubertus. Klank en teken bij Erasmus en onze oudste grammatici. Groningen [etc.]: Wolters, 1947. XII, 140 p. + stellingen.']"
   ]
  },
  {
   "cell_type": "code",
   "execution_count": 7,
   "metadata": {},
   "outputs": [],
   "source": [
    "title2id = dict(zip(publications['title_description'], publications['id']))\n",
    "id2title = dict(zip(publications['id'], publications['title_description']))"
   ]
  },
  {
   "cell_type": "code",
   "execution_count": 8,
   "metadata": {},
   "outputs": [
    {
     "name": "stdout",
     "output_type": "stream",
     "text": [
      "272188\n",
      "273\n"
     ]
    }
   ],
   "source": [
    "print(title2id['Royen, P. Gerlach O.F.M. In: Levende talen: (1947) 190-191.'])\n",
    "print(title2id['Caron, Willem Johannes Hubertus. Klank en teken bij Erasmus en onze oudste grammatici. Groningen [etc.]: Wolters, 1947. XII, 140 p. + stellingen.'])"
   ]
  },
  {
   "cell_type": "code",
   "execution_count": 9,
   "metadata": {},
   "outputs": [
    {
     "name": "stdout",
     "output_type": "stream",
     "text": [
      "Royen, P. Gerlach O.F.M. In: Levende talen: (1947) 190-191.\n",
      "Caron, Willem Johannes Hubertus. Klank en teken bij Erasmus en onze oudste grammatici. Groningen [etc.]: Wolters, 1947. XII, 140 p. + stellingen.\n"
     ]
    }
   ],
   "source": [
    "print(id2title[272188])\n",
    "print(id2title[273])"
   ]
  },
  {
   "cell_type": "code",
   "execution_count": 10,
   "metadata": {},
   "outputs": [],
   "source": [
    "references = pd.read_csv(f'{dump_dir}/publication_publications.csv')\n",
    "rev2ref = dict(zip(references['publication_id'], references['referenced_publication_id']))"
   ]
  },
  {
   "cell_type": "code",
   "execution_count": 11,
   "metadata": {},
   "outputs": [
    {
     "name": "stdout",
     "output_type": "stream",
     "text": [
      "273\n"
     ]
    }
   ],
   "source": [
    "print(rev2ref[272188])"
   ]
  },
  {
   "cell_type": "code",
   "execution_count": 12,
   "metadata": {},
   "outputs": [
    {
     "name": "stdout",
     "output_type": "stream",
     "text": [
      "::: ../data/llm-dump/1940s :::\n",
      "../data/llm-dump/1940s/JOUR_consolidated.ris\n"
     ]
    },
    {
     "name": "stderr",
     "output_type": "stream",
     "text": [
      "100%|██████████| 9897/9897 [00:00<00:00, 986455.33it/s]\n"
     ]
    },
    {
     "name": "stdout",
     "output_type": "stream",
     "text": [
      "::: ../data/llm-dump/1950s :::\n",
      "../data/llm-dump/1950s/JOUR_consolidated.ris\n"
     ]
    },
    {
     "name": "stderr",
     "output_type": "stream",
     "text": [
      "100%|██████████| 6218/6218 [00:00<00:00, 1238669.31it/s]\n"
     ]
    },
    {
     "name": "stdout",
     "output_type": "stream",
     "text": [
      "::: ../data/llm-dump/1960s :::\n",
      "../data/llm-dump/1960s/JOUR_consolidated.ris\n"
     ]
    },
    {
     "name": "stderr",
     "output_type": "stream",
     "text": [
      "100%|██████████| 19387/19387 [00:00<00:00, 1547471.25it/s]\n"
     ]
    },
    {
     "name": "stdout",
     "output_type": "stream",
     "text": [
      "::: ../data/llm-dump/1970s :::\n",
      "../data/llm-dump/1970s/JOUR_consolidated.ris\n"
     ]
    },
    {
     "name": "stderr",
     "output_type": "stream",
     "text": [
      "100%|██████████| 25511/25511 [00:00<00:00, 1641596.31it/s]\n"
     ]
    },
    {
     "name": "stdout",
     "output_type": "stream",
     "text": [
      "::: ../data/llm-dump/1980s :::\n",
      "../data/llm-dump/1980s/JOUR_consolidated.ris\n"
     ]
    },
    {
     "name": "stderr",
     "output_type": "stream",
     "text": [
      "100%|██████████| 34995/34995 [00:00<00:00, 1979923.77it/s]\n"
     ]
    },
    {
     "name": "stdout",
     "output_type": "stream",
     "text": [
      "::: ../data/llm-dump/1990s :::\n",
      "../data/llm-dump/1990s/JOUR_consolidated.ris\n"
     ]
    },
    {
     "name": "stderr",
     "output_type": "stream",
     "text": [
      "100%|██████████| 44498/44498 [00:00<00:00, 1507127.43it/s]\n"
     ]
    },
    {
     "name": "stdout",
     "output_type": "stream",
     "text": [
      "::: ../data/llm-dump/2000s :::\n",
      "../data/llm-dump/2000s/JOUR_consolidated.ris\n"
     ]
    },
    {
     "name": "stderr",
     "output_type": "stream",
     "text": [
      "100%|██████████| 27745/27745 [00:00<00:00, 1614402.35it/s]\n"
     ]
    },
    {
     "name": "stdout",
     "output_type": "stream",
     "text": [
      "::: ../data/llm-dump/2010s :::\n",
      "../data/llm-dump/2010s/JOUR_consolidated.ris\n"
     ]
    },
    {
     "name": "stderr",
     "output_type": "stream",
     "text": [
      "100%|██████████| 20043/20043 [00:00<00:00, 1517143.44it/s]\n"
     ]
    },
    {
     "name": "stdout",
     "output_type": "stream",
     "text": [
      "::: ../data/llm-dump/2020s :::\n",
      "../data/llm-dump/2020s/JOUR_consolidated.ris\n"
     ]
    },
    {
     "name": "stderr",
     "output_type": "stream",
     "text": [
      "100%|██████████| 5238/5238 [00:00<00:00, 1601294.78it/s]"
     ]
    },
    {
     "name": "stdout",
     "output_type": "stream",
     "text": [
      "::: ../data/llm-dump/2030s :::\n",
      "::: ../data/llm-dump/misc :::\n",
      "../data/llm-dump/misc/JOUR_consolidated.ris\n"
     ]
    },
    {
     "name": "stderr",
     "output_type": "stream",
     "text": [
      "\n",
      "100%|██████████| 3483/3483 [00:00<00:00, 2473964.58it/s]\n"
     ]
    }
   ],
   "source": [
    "llm_path = '../data/llm-dump'\n",
    "\n",
    "for decade_folder in sorted(glob(f'{llm_path}/*')):\n",
    "    print(':::', decade_folder, ':::')\n",
    "    decade = decade_folder.split('/')[-1]\n",
    "\n",
    "    for ris_path in sorted(glob(f'{decade_folder}/*_consolidated.ris')):\n",
    "        print(ris_path)\n",
    "        with open(ris_path) as f:\n",
    "            entries = rispy.load(f, encoding='utf-8')\n",
    "        for idx, entry in tqdm(list(enumerate(entries))):\n",
    "            if not 'keywords' in entry or not 'recensie' in entry['keywords']:\n",
    "                continue\n",
    "            if 'notes_abstract' in entry:\n",
    "                pub_title = ' '.join(entry['notes_abstract'].split()).strip()\n",
    "            else:\n",
    "                # this means that we weren't able to structure the item via the LLM...\n",
    "                pub_title = ' '.join(entry['title'].split()).strip()\n",
    "            \n",
    "            ref_title = None\n",
    "            try:\n",
    "                #print('==============================')\n",
    "                #print(pub_title)\n",
    "                pub_id = title2id[pub_title]\n",
    "                #print(pub_id)\n",
    "                ref_id = rev2ref[pub_id]\n",
    "                #print(ref_id)\n",
    "                ref_title = id2title[ref_id]\n",
    "                #print(ref_id, ref_title)\n",
    "            except KeyError:\n",
    "                pass\n",
    "            if ref_title:\n",
    "                entry['reviewed_item'] = ref_title\n",
    "                entries[idx] = entry\n",
    "\n",
    "        out_ris_path = ris_path.replace('.ris', f'_link_{decade}.ris')\n",
    "        with open(out_ris_path, 'w') as bibliography_file:\n",
    "            rispy.dump(entries, bibliography_file)"
   ]
  },
  {
   "cell_type": "code",
   "execution_count": null,
   "metadata": {},
   "outputs": [],
   "source": []
  }
 ],
 "metadata": {
  "kernelspec": {
   "display_name": "py3.11",
   "language": "python",
   "name": "python3"
  },
  "language_info": {
   "codemirror_mode": {
    "name": "ipython",
    "version": 3
   },
   "file_extension": ".py",
   "mimetype": "text/x-python",
   "name": "python",
   "nbconvert_exporter": "python",
   "pygments_lexer": "ipython3",
   "version": "3.11.8"
  }
 },
 "nbformat": 4,
 "nbformat_minor": 2
}
