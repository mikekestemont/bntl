{
 "cells": [
  {
   "cell_type": "code",
   "execution_count": 1,
   "metadata": {},
   "outputs": [],
   "source": [
    "from copy import deepcopy\n",
    "import os\n",
    "import math\n",
    "import shutil\n",
    "import re\n",
    "from glob import glob\n",
    "from collections import defaultdict, Counter\n",
    "\n",
    "import numpy as np\n",
    "from tqdm import tqdm\n",
    "import pandas as pd\n",
    "pd.set_option('display.max_colwidth', None)\n",
    "import rispy"
   ]
  },
  {
   "cell_type": "code",
   "execution_count": 2,
   "metadata": {},
   "outputs": [],
   "source": [
    "dump_dir = '../data/bntl-db-csv-dump-4March2024'"
   ]
  },
  {
   "cell_type": "markdown",
   "metadata": {},
   "source": [
    "### Recensies\n",
    "\n",
    "Link reviews to the book that they review."
   ]
  },
  {
   "cell_type": "code",
   "execution_count": 3,
   "metadata": {},
   "outputs": [
    {
     "data": {
      "text/html": [
       "<div>\n",
       "<style scoped>\n",
       "    .dataframe tbody tr th:only-of-type {\n",
       "        vertical-align: middle;\n",
       "    }\n",
       "\n",
       "    .dataframe tbody tr th {\n",
       "        vertical-align: top;\n",
       "    }\n",
       "\n",
       "    .dataframe thead th {\n",
       "        text-align: right;\n",
       "    }\n",
       "</style>\n",
       "<table border=\"1\" class=\"dataframe\">\n",
       "  <thead>\n",
       "    <tr style=\"text-align: right;\">\n",
       "      <th></th>\n",
       "      <th>id</th>\n",
       "      <th>ppn</th>\n",
       "      <th>type</th>\n",
       "      <th>jaar</th>\n",
       "      <th>title_description</th>\n",
       "      <th>abstract</th>\n",
       "      <th>url</th>\n",
       "      <th>containing_publication_id</th>\n",
       "      <th>containing_publication_ppn</th>\n",
       "      <th>page_numbers</th>\n",
       "      <th>creator</th>\n",
       "      <th>creation_date</th>\n",
       "      <th>modifier</th>\n",
       "      <th>modification_date</th>\n",
       "      <th>canonical_url</th>\n",
       "    </tr>\n",
       "  </thead>\n",
       "  <tbody>\n",
       "    <tr>\n",
       "      <th>0</th>\n",
       "      <td>254444</td>\n",
       "      <td>NaN</td>\n",
       "      <td>artikeltijdschrift</td>\n",
       "      <td>2009</td>\n",
       "      <td>Campenhout, Frans van. Ropsiennes, de nieuwe dichtbundel van Mark Meekers.\\r\\nIn: Verba (Brussel): 13 (2009) 2 (mei-juli) 14.</td>\n",
       "      <td>Over: Meekers, Mark. Ropsiennes: gedichten bij het leven en werk van Félicien Rops (1833-1898). Leuven: P, 2009.</td>\n",
       "      <td>NaN</td>\n",
       "      <td>NaN</td>\n",
       "      <td>NaN</td>\n",
       "      <td>NaN</td>\n",
       "      <td>19</td>\n",
       "      <td>2009-06-26 11:32:26</td>\n",
       "      <td>19.0</td>\n",
       "      <td>2009-06-26 11:45:26</td>\n",
       "      <td>campenhout_frans_van_ropsienne/campenhout_frans_van</td>\n",
       "    </tr>\n",
       "    <tr>\n",
       "      <th>1</th>\n",
       "      <td>254442</td>\n",
       "      <td>NaN</td>\n",
       "      <td>artikeltijdschrift</td>\n",
       "      <td>2009</td>\n",
       "      <td>Campenhout, Frans van. Dichteres en romancière Liane Bruylants overleden.\\r\\nIn: Verba (Brussel): 13 (2009) 2 (mei-juli) 5-8.</td>\n",
       "      <td>NaN</td>\n",
       "      <td>NaN</td>\n",
       "      <td>NaN</td>\n",
       "      <td>NaN</td>\n",
       "      <td>NaN</td>\n",
       "      <td>19</td>\n",
       "      <td>2009-06-26 11:27:36</td>\n",
       "      <td>19.0</td>\n",
       "      <td>2009-06-26 11:46:40</td>\n",
       "      <td>campenhout_frans_van_dichteres/campenhout_frans_van</td>\n",
       "    </tr>\n",
       "    <tr>\n",
       "      <th>2</th>\n",
       "      <td>313784</td>\n",
       "      <td>NaN</td>\n",
       "      <td>artikeltijdschrift</td>\n",
       "      <td>2018</td>\n",
       "      <td>Lievois, Katrien, Hanne Kloots &amp; Noureddine Nahed. Kif-kif?: Arabische ontleningen in de Nederlandse, Spaanse en Arabische versie van \"Kiffe kiffe demain\".\\r\\nIn: Meertaligheid. Speciaal gedeelte van: Filter (Nijmegen): 25 (2018) 3 (sep) 37-47.</td>\n",
       "      <td>P. 46 Noten; p. 46 Bibliografie; p. 47 Bijlage: vertalingen van \"Kiffe kiffe demain\".</td>\n",
       "      <td>NaN</td>\n",
       "      <td>NaN</td>\n",
       "      <td>NaN</td>\n",
       "      <td>NaN</td>\n",
       "      <td>451</td>\n",
       "      <td>2023-11-29 16:36:19</td>\n",
       "      <td>451.0</td>\n",
       "      <td>2023-11-29 16:40:08</td>\n",
       "      <td>lievois_katrien_hanne_kloots_n/lievois_katrien</td>\n",
       "    </tr>\n",
       "    <tr>\n",
       "      <th>3</th>\n",
       "      <td>171436</td>\n",
       "      <td>862346606</td>\n",
       "      <td>artikeltijdschrift</td>\n",
       "      <td>1965</td>\n",
       "      <td>Interprovinciale Prijs voor monografie aan een Westvlaming, [door] A.S.\\r\\nIn: West-Vlaanderen: 14 (1965) 79 (jan-feb) 66-67.</td>\n",
       "      <td>N.a.v.: Deblaere, Albert. De mystieke schrijfster Maria Petyt, (1623-1677). Gent: Secretarie der Academie, 1962.</td>\n",
       "      <td>NaN</td>\n",
       "      <td>166925.0</td>\n",
       "      <td>853271437</td>\n",
       "      <td>vol. 14 (1965), afl. 79 (jan-feb), p. 66-67.</td>\n",
       "      <td>1</td>\n",
       "      <td>NaT</td>\n",
       "      <td>19.0</td>\n",
       "      <td>2009-06-26 10:25:49</td>\n",
       "      <td>interprovinciale_prijs_voor_mo</td>\n",
       "    </tr>\n",
       "    <tr>\n",
       "      <th>4</th>\n",
       "      <td>246627</td>\n",
       "      <td>NaN</td>\n",
       "      <td>artikelboek</td>\n",
       "      <td>2004</td>\n",
       "      <td>Willaert, Frank. Margaret's booklets: memory in \"Vanden seven sloten\" by Jan van Ruusbroec.\\r\\nIn: Medieval memory: image and text; edited by Frank Willaert, Herman Braet, Tom Mertens, Theofiel Venckeleer. Turnhout: Brepols, 2004, p. 99-128.\\r\\n(Textes et études du Moyen Âge; 27).</td>\n",
       "      <td>Lezing, gehouden op het congres \"Memory in the Middle Ages\" aan de Universiteit Antwerpen, 7-9 maart 2002.</td>\n",
       "      <td>NaN</td>\n",
       "      <td>NaN</td>\n",
       "      <td>NaN</td>\n",
       "      <td>NaN</td>\n",
       "      <td>16</td>\n",
       "      <td>2008-06-18 12:05:19</td>\n",
       "      <td>16.0</td>\n",
       "      <td>2008-06-18 12:15:23</td>\n",
       "      <td>willaert_frank_margaret_s_book/willaert_frank</td>\n",
       "    </tr>\n",
       "    <tr>\n",
       "      <th>...</th>\n",
       "      <td>...</td>\n",
       "      <td>...</td>\n",
       "      <td>...</td>\n",
       "      <td>...</td>\n",
       "      <td>...</td>\n",
       "      <td>...</td>\n",
       "      <td>...</td>\n",
       "      <td>...</td>\n",
       "      <td>...</td>\n",
       "      <td>...</td>\n",
       "      <td>...</td>\n",
       "      <td>...</td>\n",
       "      <td>...</td>\n",
       "      <td>...</td>\n",
       "      <td>...</td>\n",
       "    </tr>\n",
       "    <tr>\n",
       "      <th>302861</th>\n",
       "      <td>254432</td>\n",
       "      <td>NaN</td>\n",
       "      <td>recensie</td>\n",
       "      <td>1962</td>\n",
       "      <td>Plard, Henri. Une mystique flamande retrouvée: Maria Petyt (1623-1677).\\r\\nIn: Études germaniques (Paris): 17 (1962) 3 (juill-sep) 347-354.</td>\n",
       "      <td>NaN</td>\n",
       "      <td>NaN</td>\n",
       "      <td>NaN</td>\n",
       "      <td>NaN</td>\n",
       "      <td>NaN</td>\n",
       "      <td>19</td>\n",
       "      <td>2009-06-26 10:31:29</td>\n",
       "      <td>18.0</td>\n",
       "      <td>2014-01-10 12:31:40</td>\n",
       "      <td>plard_henri_une_mystique_flama/plard_henri</td>\n",
       "    </tr>\n",
       "    <tr>\n",
       "      <th>302862</th>\n",
       "      <td>129705</td>\n",
       "      <td>NaN</td>\n",
       "      <td>recensie</td>\n",
       "      <td>2003</td>\n",
       "      <td>Offermans, Cyrille.  \\r\\nIn: Ons erfdeel (Rekkem): 46 (2003) 3 (juni) 446-448.</td>\n",
       "      <td>NaN</td>\n",
       "      <td>NaN</td>\n",
       "      <td>NaN</td>\n",
       "      <td>NaN</td>\n",
       "      <td>NaN</td>\n",
       "      <td>1</td>\n",
       "      <td>NaT</td>\n",
       "      <td>19.0</td>\n",
       "      <td>2012-12-06 10:04:44</td>\n",
       "      <td>cyrille_offermans_in_ons_erfde/offermans_cyrille_albert_willem_3</td>\n",
       "    </tr>\n",
       "    <tr>\n",
       "      <th>302863</th>\n",
       "      <td>129707</td>\n",
       "      <td>241847133</td>\n",
       "      <td>boek</td>\n",
       "      <td>2003</td>\n",
       "      <td>Nederlands-Afghaanse grammatica = Nīdarlandī-Paśtū paśwayah / Sayed Nasir Ahmad (Sayyid Naṣīr Aḥmad). - 3e, herz. dr. - Utrecht : Nederlands Centrum Buitenlanders, cop. 2003. - XIV, 182 p. ; 24 cm Tekst in het Nederlands en het Pasjtoe. - Ook o.d.t.: Nederlands-Pashto grammatica. - Met lit. opg. ISBN 90-5517-169-7.</td>\n",
       "      <td>P. 181-182 Literatuur.\\n1e-2e dr. ?</td>\n",
       "      <td>NaN</td>\n",
       "      <td>NaN</td>\n",
       "      <td>NaN</td>\n",
       "      <td>NaN</td>\n",
       "      <td>1</td>\n",
       "      <td>NaT</td>\n",
       "      <td>NaN</td>\n",
       "      <td>NaT</td>\n",
       "      <td>nederlands-afghaanse_grammatic/nasir_ahmad_sayed</td>\n",
       "    </tr>\n",
       "    <tr>\n",
       "      <th>302864</th>\n",
       "      <td>254436</td>\n",
       "      <td>NaN</td>\n",
       "      <td>recensie</td>\n",
       "      <td>1964</td>\n",
       "      <td>Degroote, Gilbert.\\r\\nIn: Belgisch tijdschrift voor filologie en geschiedenis (Brussel): 42 (1964) 1, 152-153.</td>\n",
       "      <td>NaN</td>\n",
       "      <td>NaN</td>\n",
       "      <td>NaN</td>\n",
       "      <td>NaN</td>\n",
       "      <td>NaN</td>\n",
       "      <td>19</td>\n",
       "      <td>2009-06-26 10:37:20</td>\n",
       "      <td>18.0</td>\n",
       "      <td>2014-01-10 12:33:47</td>\n",
       "      <td>degroote_gilbert_in_revue_belg/degroote_gilbert</td>\n",
       "    </tr>\n",
       "    <tr>\n",
       "      <th>302865</th>\n",
       "      <td>212197</td>\n",
       "      <td>863135706</td>\n",
       "      <td>tijdschriftofreeks</td>\n",
       "      <td>1974-</td>\n",
       "      <td>Mededelingen van de Vereniging voor Aalsters kultuurschoon (V.V.A.K.). Aalst: V.V.A.K., 1974-....</td>\n",
       "      <td>Afkorting: Meded. Ver. Aalsters Kult.schoon\\r\\nBewerkt: 1 (1974) - 40 (2013) 1 ; 2 ; 41 (2014) 2 ; 3 ; 42 (2015) 2 ; 4 ; 43 (2016) 3 ; 45 (2018) 2</td>\n",
       "      <td>NaN</td>\n",
       "      <td>NaN</td>\n",
       "      <td>NaN</td>\n",
       "      <td>NaN</td>\n",
       "      <td>1</td>\n",
       "      <td>NaT</td>\n",
       "      <td>19.0</td>\n",
       "      <td>2019-06-20 14:10:36</td>\n",
       "      <td>mededelingen_van_de_vereniging_2</td>\n",
       "    </tr>\n",
       "  </tbody>\n",
       "</table>\n",
       "<p>302866 rows × 15 columns</p>\n",
       "</div>"
      ],
      "text/plain": [
       "            id        ppn                type   jaar  \\\n",
       "0       254444        NaN  artikeltijdschrift   2009   \n",
       "1       254442        NaN  artikeltijdschrift   2009   \n",
       "2       313784        NaN  artikeltijdschrift   2018   \n",
       "3       171436  862346606  artikeltijdschrift   1965   \n",
       "4       246627        NaN         artikelboek   2004   \n",
       "...        ...        ...                 ...    ...   \n",
       "302861  254432        NaN            recensie   1962   \n",
       "302862  129705        NaN            recensie   2003   \n",
       "302863  129707  241847133                boek   2003   \n",
       "302864  254436        NaN            recensie   1964   \n",
       "302865  212197  863135706  tijdschriftofreeks  1974-   \n",
       "\n",
       "                                                                                                                                                                                                                                                                                                                   title_description  \\\n",
       "0                                                                                                                                                                                                      Campenhout, Frans van. Ropsiennes, de nieuwe dichtbundel van Mark Meekers.\\r\\nIn: Verba (Brussel): 13 (2009) 2 (mei-juli) 14.   \n",
       "1                                                                                                                                                                                                      Campenhout, Frans van. Dichteres en romancière Liane Bruylants overleden.\\r\\nIn: Verba (Brussel): 13 (2009) 2 (mei-juli) 5-8.   \n",
       "2                                                                               Lievois, Katrien, Hanne Kloots & Noureddine Nahed. Kif-kif?: Arabische ontleningen in de Nederlandse, Spaanse en Arabische versie van \"Kiffe kiffe demain\".\\r\\nIn: Meertaligheid. Speciaal gedeelte van: Filter (Nijmegen): 25 (2018) 3 (sep) 37-47.   \n",
       "3                                                                                                                                                                                                      Interprovinciale Prijs voor monografie aan een Westvlaming, [door] A.S.\\r\\nIn: West-Vlaanderen: 14 (1965) 79 (jan-feb) 66-67.   \n",
       "4                                          Willaert, Frank. Margaret's booklets: memory in \"Vanden seven sloten\" by Jan van Ruusbroec.\\r\\nIn: Medieval memory: image and text; edited by Frank Willaert, Herman Braet, Tom Mertens, Theofiel Venckeleer. Turnhout: Brepols, 2004, p. 99-128.\\r\\n(Textes et études du Moyen Âge; 27).   \n",
       "...                                                                                                                                                                                                                                                                                                                              ...   \n",
       "302861                                                                                                                                                                                   Plard, Henri. Une mystique flamande retrouvée: Maria Petyt (1623-1677).\\r\\nIn: Études germaniques (Paris): 17 (1962) 3 (juill-sep) 347-354.   \n",
       "302862                                                                                                                                                                                                                                                Offermans, Cyrille.  \\r\\nIn: Ons erfdeel (Rekkem): 46 (2003) 3 (juni) 446-448.   \n",
       "302863  Nederlands-Afghaanse grammatica = Nīdarlandī-Paśtū paśwayah / Sayed Nasir Ahmad (Sayyid Naṣīr Aḥmad). - 3e, herz. dr. - Utrecht : Nederlands Centrum Buitenlanders, cop. 2003. - XIV, 182 p. ; 24 cm Tekst in het Nederlands en het Pasjtoe. - Ook o.d.t.: Nederlands-Pashto grammatica. - Met lit. opg. ISBN 90-5517-169-7.   \n",
       "302864                                                                                                                                                                                                                Degroote, Gilbert.\\r\\nIn: Belgisch tijdschrift voor filologie en geschiedenis (Brussel): 42 (1964) 1, 152-153.   \n",
       "302865                                                                                                                                                                                                                             Mededelingen van de Vereniging voor Aalsters kultuurschoon (V.V.A.K.). Aalst: V.V.A.K., 1974-....   \n",
       "\n",
       "                                                                                                                                                  abstract  \\\n",
       "0                                         Over: Meekers, Mark. Ropsiennes: gedichten bij het leven en werk van Félicien Rops (1833-1898). Leuven: P, 2009.   \n",
       "1                                                                                                                                                      NaN   \n",
       "2                                                                    P. 46 Noten; p. 46 Bibliografie; p. 47 Bijlage: vertalingen van \"Kiffe kiffe demain\".   \n",
       "3                                         N.a.v.: Deblaere, Albert. De mystieke schrijfster Maria Petyt, (1623-1677). Gent: Secretarie der Academie, 1962.   \n",
       "4                                               Lezing, gehouden op het congres \"Memory in the Middle Ages\" aan de Universiteit Antwerpen, 7-9 maart 2002.   \n",
       "...                                                                                                                                                    ...   \n",
       "302861                                                                                                                                                 NaN   \n",
       "302862                                                                                                                                                 NaN   \n",
       "302863                                                                                                                 P. 181-182 Literatuur.\\n1e-2e dr. ?   \n",
       "302864                                                                                                                                                 NaN   \n",
       "302865  Afkorting: Meded. Ver. Aalsters Kult.schoon\\r\\nBewerkt: 1 (1974) - 40 (2013) 1 ; 2 ; 41 (2014) 2 ; 3 ; 42 (2015) 2 ; 4 ; 43 (2016) 3 ; 45 (2018) 2   \n",
       "\n",
       "        url  containing_publication_id containing_publication_ppn  \\\n",
       "0       NaN                        NaN                        NaN   \n",
       "1       NaN                        NaN                        NaN   \n",
       "2       NaN                        NaN                        NaN   \n",
       "3       NaN                   166925.0                  853271437   \n",
       "4       NaN                        NaN                        NaN   \n",
       "...     ...                        ...                        ...   \n",
       "302861  NaN                        NaN                        NaN   \n",
       "302862  NaN                        NaN                        NaN   \n",
       "302863  NaN                        NaN                        NaN   \n",
       "302864  NaN                        NaN                        NaN   \n",
       "302865  NaN                        NaN                        NaN   \n",
       "\n",
       "                                        page_numbers  creator  \\\n",
       "0                                                NaN       19   \n",
       "1                                                NaN       19   \n",
       "2                                                NaN      451   \n",
       "3       vol. 14 (1965), afl. 79 (jan-feb), p. 66-67.        1   \n",
       "4                                                NaN       16   \n",
       "...                                              ...      ...   \n",
       "302861                                           NaN       19   \n",
       "302862                                           NaN        1   \n",
       "302863                                           NaN        1   \n",
       "302864                                           NaN       19   \n",
       "302865                                           NaN        1   \n",
       "\n",
       "             creation_date  modifier   modification_date  \\\n",
       "0      2009-06-26 11:32:26      19.0 2009-06-26 11:45:26   \n",
       "1      2009-06-26 11:27:36      19.0 2009-06-26 11:46:40   \n",
       "2      2023-11-29 16:36:19     451.0 2023-11-29 16:40:08   \n",
       "3                      NaT      19.0 2009-06-26 10:25:49   \n",
       "4      2008-06-18 12:05:19      16.0 2008-06-18 12:15:23   \n",
       "...                    ...       ...                 ...   \n",
       "302861 2009-06-26 10:31:29      18.0 2014-01-10 12:31:40   \n",
       "302862                 NaT      19.0 2012-12-06 10:04:44   \n",
       "302863                 NaT       NaN                 NaT   \n",
       "302864 2009-06-26 10:37:20      18.0 2014-01-10 12:33:47   \n",
       "302865                 NaT      19.0 2019-06-20 14:10:36   \n",
       "\n",
       "                                                           canonical_url  \n",
       "0                    campenhout_frans_van_ropsienne/campenhout_frans_van  \n",
       "1                    campenhout_frans_van_dichteres/campenhout_frans_van  \n",
       "2                         lievois_katrien_hanne_kloots_n/lievois_katrien  \n",
       "3                                         interprovinciale_prijs_voor_mo  \n",
       "4                          willaert_frank_margaret_s_book/willaert_frank  \n",
       "...                                                                  ...  \n",
       "302861                        plard_henri_une_mystique_flama/plard_henri  \n",
       "302862  cyrille_offermans_in_ons_erfde/offermans_cyrille_albert_willem_3  \n",
       "302863                  nederlands-afghaanse_grammatic/nasir_ahmad_sayed  \n",
       "302864                   degroote_gilbert_in_revue_belg/degroote_gilbert  \n",
       "302865                                  mededelingen_van_de_vereniging_2  \n",
       "\n",
       "[302866 rows x 15 columns]"
      ]
     },
     "execution_count": 3,
     "metadata": {},
     "output_type": "execute_result"
    }
   ],
   "source": [
    "publications = pd.read_csv(f\"{dump_dir}/publications.csv\", header=0, parse_dates=['creation_date', 'modification_date'])\n",
    "publications['id'] = publications['id'].fillna('')\n",
    "publications"
   ]
  },
  {
   "cell_type": "code",
   "execution_count": 4,
   "metadata": {},
   "outputs": [],
   "source": [
    "publications['title_description'] = [' '.join(p.split()).strip() for p in publications['title_description']]"
   ]
  },
  {
   "cell_type": "code",
   "execution_count": 5,
   "metadata": {},
   "outputs": [
    {
     "data": {
      "text/html": [
       "<div>\n",
       "<style scoped>\n",
       "    .dataframe tbody tr th:only-of-type {\n",
       "        vertical-align: middle;\n",
       "    }\n",
       "\n",
       "    .dataframe tbody tr th {\n",
       "        vertical-align: top;\n",
       "    }\n",
       "\n",
       "    .dataframe thead th {\n",
       "        text-align: right;\n",
       "    }\n",
       "</style>\n",
       "<table border=\"1\" class=\"dataframe\">\n",
       "  <thead>\n",
       "    <tr style=\"text-align: right;\">\n",
       "      <th></th>\n",
       "      <th>id</th>\n",
       "      <th>ppn</th>\n",
       "      <th>type</th>\n",
       "      <th>jaar</th>\n",
       "      <th>title_description</th>\n",
       "      <th>abstract</th>\n",
       "      <th>url</th>\n",
       "      <th>containing_publication_id</th>\n",
       "      <th>containing_publication_ppn</th>\n",
       "      <th>page_numbers</th>\n",
       "      <th>creator</th>\n",
       "      <th>creation_date</th>\n",
       "      <th>modifier</th>\n",
       "      <th>modification_date</th>\n",
       "      <th>canonical_url</th>\n",
       "    </tr>\n",
       "  </thead>\n",
       "  <tbody>\n",
       "    <tr>\n",
       "      <th>26</th>\n",
       "      <td>272188</td>\n",
       "      <td>NaN</td>\n",
       "      <td>recensie</td>\n",
       "      <td>1947</td>\n",
       "      <td>Royen, P. Gerlach O.F.M. In: Levende talen: (1947) 190-191.</td>\n",
       "      <td>NaN</td>\n",
       "      <td>NaN</td>\n",
       "      <td>NaN</td>\n",
       "      <td>NaN</td>\n",
       "      <td>NaN</td>\n",
       "      <td>19</td>\n",
       "      <td>2011-10-06 13:32:35</td>\n",
       "      <td>19.0</td>\n",
       "      <td>2011-10-06 13:33:58</td>\n",
       "      <td>royen_p_gerlach_o_f_m_in_leven/royen_o_f_m_nicolaus_jacobus_hubertus</td>\n",
       "    </tr>\n",
       "  </tbody>\n",
       "</table>\n",
       "</div>"
      ],
      "text/plain": [
       "        id  ppn      type  jaar  \\\n",
       "26  272188  NaN  recensie  1947   \n",
       "\n",
       "                                              title_description abstract  url  \\\n",
       "26  Royen, P. Gerlach O.F.M. In: Levende talen: (1947) 190-191.      NaN  NaN   \n",
       "\n",
       "    containing_publication_id containing_publication_ppn page_numbers  \\\n",
       "26                        NaN                        NaN          NaN   \n",
       "\n",
       "    creator       creation_date  modifier   modification_date  \\\n",
       "26       19 2011-10-06 13:32:35      19.0 2011-10-06 13:33:58   \n",
       "\n",
       "                                                           canonical_url  \n",
       "26  royen_p_gerlach_o_f_m_in_leven/royen_o_f_m_nicolaus_jacobus_hubertus  "
      ]
     },
     "execution_count": 5,
     "metadata": {},
     "output_type": "execute_result"
    }
   ],
   "source": [
    "publications[publications['title_description'] == 'Royen, P. Gerlach O.F.M. In: Levende talen: (1947) 190-191.']"
   ]
  },
  {
   "cell_type": "code",
   "execution_count": 6,
   "metadata": {},
   "outputs": [
    {
     "data": {
      "text/html": [
       "<div>\n",
       "<style scoped>\n",
       "    .dataframe tbody tr th:only-of-type {\n",
       "        vertical-align: middle;\n",
       "    }\n",
       "\n",
       "    .dataframe tbody tr th {\n",
       "        vertical-align: top;\n",
       "    }\n",
       "\n",
       "    .dataframe thead th {\n",
       "        text-align: right;\n",
       "    }\n",
       "</style>\n",
       "<table border=\"1\" class=\"dataframe\">\n",
       "  <thead>\n",
       "    <tr style=\"text-align: right;\">\n",
       "      <th></th>\n",
       "      <th>id</th>\n",
       "      <th>ppn</th>\n",
       "      <th>type</th>\n",
       "      <th>jaar</th>\n",
       "      <th>title_description</th>\n",
       "      <th>abstract</th>\n",
       "      <th>url</th>\n",
       "      <th>containing_publication_id</th>\n",
       "      <th>containing_publication_ppn</th>\n",
       "      <th>page_numbers</th>\n",
       "      <th>creator</th>\n",
       "      <th>creation_date</th>\n",
       "      <th>modifier</th>\n",
       "      <th>modification_date</th>\n",
       "      <th>canonical_url</th>\n",
       "    </tr>\n",
       "  </thead>\n",
       "  <tbody>\n",
       "    <tr>\n",
       "      <th>255901</th>\n",
       "      <td>273</td>\n",
       "      <td>036356891</td>\n",
       "      <td>boek</td>\n",
       "      <td>1947</td>\n",
       "      <td>Caron, Willem Johannes Hubertus. Klank en teken bij Erasmus en onze oudste grammatici. Groningen [etc.]: Wolters, 1947. XII, 140 p. + stellingen.</td>\n",
       "      <td>Proefschrift Vrije Universiteit Amsterdam.\\r\\nOok in: Caron, W. J. H. Klank en teken: verzamelde taalkundige studies; [voor herdr. gereedgemaakt en van een bibliografie voorz. door J. Knol; met medew. van H. J. Brinkman... et al.]. Groningen: Wolters-Noordhoff, 1972, p. 1-128.\\r\\nP. XII Lijst van gebruikte afkortingen; p. 141 Personenregister.\\r\\nO.a. ook over: Richard Dafforne, Anthonis de Huybert, Lambert ten Kate, Petrus Montanus, Arnold Moonen, H. L. Spiegel en Wigardus à Winschooten.</td>\n",
       "      <td>NaN</td>\n",
       "      <td>NaN</td>\n",
       "      <td>NaN</td>\n",
       "      <td>NaN</td>\n",
       "      <td>1</td>\n",
       "      <td>NaT</td>\n",
       "      <td>19.0</td>\n",
       "      <td>2011-10-06 13:37:17</td>\n",
       "      <td>klank_en_teken_bij_erasmus_en/caron_willem_johannes_hubertus</td>\n",
       "    </tr>\n",
       "  </tbody>\n",
       "</table>\n",
       "</div>"
      ],
      "text/plain": [
       "         id        ppn  type  jaar  \\\n",
       "255901  273  036356891  boek  1947   \n",
       "\n",
       "                                                                                                                                        title_description  \\\n",
       "255901  Caron, Willem Johannes Hubertus. Klank en teken bij Erasmus en onze oudste grammatici. Groningen [etc.]: Wolters, 1947. XII, 140 p. + stellingen.   \n",
       "\n",
       "                                                                                                                                                                                                                                                                                                                                                                                                                                                                                                             abstract  \\\n",
       "255901  Proefschrift Vrije Universiteit Amsterdam.\\r\\nOok in: Caron, W. J. H. Klank en teken: verzamelde taalkundige studies; [voor herdr. gereedgemaakt en van een bibliografie voorz. door J. Knol; met medew. van H. J. Brinkman... et al.]. Groningen: Wolters-Noordhoff, 1972, p. 1-128.\\r\\nP. XII Lijst van gebruikte afkortingen; p. 141 Personenregister.\\r\\nO.a. ook over: Richard Dafforne, Anthonis de Huybert, Lambert ten Kate, Petrus Montanus, Arnold Moonen, H. L. Spiegel en Wigardus à Winschooten.   \n",
       "\n",
       "        url  containing_publication_id containing_publication_ppn  \\\n",
       "255901  NaN                        NaN                        NaN   \n",
       "\n",
       "       page_numbers  creator creation_date  modifier   modification_date  \\\n",
       "255901          NaN        1           NaT      19.0 2011-10-06 13:37:17   \n",
       "\n",
       "                                                       canonical_url  \n",
       "255901  klank_en_teken_bij_erasmus_en/caron_willem_johannes_hubertus  "
      ]
     },
     "execution_count": 6,
     "metadata": {},
     "output_type": "execute_result"
    }
   ],
   "source": [
    "publications[publications['title_description'] == 'Caron, Willem Johannes Hubertus. Klank en teken bij Erasmus en onze oudste grammatici. Groningen [etc.]: Wolters, 1947. XII, 140 p. + stellingen.']"
   ]
  },
  {
   "cell_type": "code",
   "execution_count": 7,
   "metadata": {},
   "outputs": [
    {
     "data": {
      "text/html": [
       "<div>\n",
       "<style scoped>\n",
       "    .dataframe tbody tr th:only-of-type {\n",
       "        vertical-align: middle;\n",
       "    }\n",
       "\n",
       "    .dataframe tbody tr th {\n",
       "        vertical-align: top;\n",
       "    }\n",
       "\n",
       "    .dataframe thead th {\n",
       "        text-align: right;\n",
       "    }\n",
       "</style>\n",
       "<table border=\"1\" class=\"dataframe\">\n",
       "  <thead>\n",
       "    <tr style=\"text-align: right;\">\n",
       "      <th></th>\n",
       "      <th>id</th>\n",
       "      <th>ppn</th>\n",
       "      <th>type</th>\n",
       "      <th>jaar</th>\n",
       "      <th>title_description</th>\n",
       "      <th>abstract</th>\n",
       "      <th>url</th>\n",
       "      <th>containing_publication_id</th>\n",
       "      <th>containing_publication_ppn</th>\n",
       "      <th>page_numbers</th>\n",
       "      <th>creator</th>\n",
       "      <th>creation_date</th>\n",
       "      <th>modifier</th>\n",
       "      <th>modification_date</th>\n",
       "      <th>canonical_url</th>\n",
       "    </tr>\n",
       "  </thead>\n",
       "  <tbody>\n",
       "    <tr>\n",
       "      <th>192626</th>\n",
       "      <td>279543</td>\n",
       "      <td>NaN</td>\n",
       "      <td>boek</td>\n",
       "      <td>2012</td>\n",
       "      <td>Ene andre tale: tendensen in de Middelnederlandse late ridderepiek; onder redactie van An Faems en Marjolein Hogenbirk. Hilversum: Verloren, 2012. 318 p. (Middeleeuwse studies en bronnen; 131).</td>\n",
       "      <td>ISBN 978-90-8704-224-0.\\r\\n\\r\\nP. 11-36 De Middelnederlandse late ridderepiek: 'bleeke spookgestalten' krijgen kleur; [inleiding], door An Faems; p. 291-311 Literatuurlijst; p. 312-316 Register van auteurs en werken; p. 317-318 Register van handschriften en drukken.</td>\n",
       "      <td>NaN</td>\n",
       "      <td>NaN</td>\n",
       "      <td>NaN</td>\n",
       "      <td>NaN</td>\n",
       "      <td>17</td>\n",
       "      <td>2012-12-18 10:33:38</td>\n",
       "      <td>17.0</td>\n",
       "      <td>2012-12-18 10:47:42</td>\n",
       "      <td>ene_andre_tale_tendensen_in_de/faems_an</td>\n",
       "    </tr>\n",
       "    <tr>\n",
       "      <th>192627</th>\n",
       "      <td>279544</td>\n",
       "      <td>NaN</td>\n",
       "      <td>artikelboek</td>\n",
       "      <td>2012</td>\n",
       "      <td>Janssens, Jef. De Middelnederlandse ridderepiek in de veertiende eeuw: postmodern of voorzichtig vernieuwend? In: Ene andre tale: tendensen in de Middelnederlandse late ridderepiek; onder redactie van An Faems en Marjolein Hogenbirk. Hilversum: Verloren, 2012, p. 37-52. (Middeleeuwse studies en bronnen; 131).</td>\n",
       "      <td>NaN</td>\n",
       "      <td>NaN</td>\n",
       "      <td>NaN</td>\n",
       "      <td>NaN</td>\n",
       "      <td>NaN</td>\n",
       "      <td>17</td>\n",
       "      <td>2012-12-18 10:49:56</td>\n",
       "      <td>17.0</td>\n",
       "      <td>2012-12-18 11:04:27</td>\n",
       "      <td>janssens_jef_de_middelnederlan/janssens_jozef_d</td>\n",
       "    </tr>\n",
       "    <tr>\n",
       "      <th>192636</th>\n",
       "      <td>279545</td>\n",
       "      <td>NaN</td>\n",
       "      <td>artikelboek</td>\n",
       "      <td>2012</td>\n",
       "      <td>Meulen, Janet F. van der. Vrouwen van Avesnes: een nieuwe Alexander in de Lage Landen. In: Ene andre tale: tendensen in de Middelnederlandse late ridderepiek; onder redactie van An Faems en Marjolein Hogenbirk. Hilversum: Verloren, 2012, p. 55-81. (Middeleeuwse studies en bronnen; 131).</td>\n",
       "      <td>NaN</td>\n",
       "      <td>NaN</td>\n",
       "      <td>NaN</td>\n",
       "      <td>NaN</td>\n",
       "      <td>NaN</td>\n",
       "      <td>17</td>\n",
       "      <td>2012-12-18 11:04:28</td>\n",
       "      <td>17.0</td>\n",
       "      <td>2012-12-18 11:30:35</td>\n",
       "      <td>meulen_janet_f_van_der_vrouwen/meulen_janet_f_van_der</td>\n",
       "    </tr>\n",
       "    <tr>\n",
       "      <th>192646</th>\n",
       "      <td>279549</td>\n",
       "      <td>NaN</td>\n",
       "      <td>artikelboek</td>\n",
       "      <td>2012</td>\n",
       "      <td>Reynders, Anne. \"Ghi heren, ic houde in ware wort dat ghi van Alexandre gehort hebt\": de Middelnederlandse vertalingen van de Oudfranse \"Florimont\" en \"Voeux du paon\". In: Ene andre tale: tendensen in de Middelnederlandse late ridderepiek; onder redactie van An Faems en Marjolein Hogenbirk. Hilversum: Verloren, 2012, p. 83-101. (Middeleeuwse studies en bronnen; 131).</td>\n",
       "      <td>NaN</td>\n",
       "      <td>NaN</td>\n",
       "      <td>NaN</td>\n",
       "      <td>NaN</td>\n",
       "      <td>NaN</td>\n",
       "      <td>17</td>\n",
       "      <td>2012-12-18 11:30:35</td>\n",
       "      <td>18.0</td>\n",
       "      <td>2014-02-18 08:58:59</td>\n",
       "      <td>reynders_anne_ghi_heren_ic_hou/reynders_anne</td>\n",
       "    </tr>\n",
       "    <tr>\n",
       "      <th>192647</th>\n",
       "      <td>279552</td>\n",
       "      <td>NaN</td>\n",
       "      <td>artikelboek</td>\n",
       "      <td>2012</td>\n",
       "      <td>Brandsma, Frank. Florimont 2.0 (editie, vertaling, context); [kritische kanttekeningen en redactie: Bart Besamusca]. In: Ene andre tale: tendensen in de Middelnederlandse late ridderepiek; onder redactie van An Faems en Marjolein Hogenbirk. Hilversum: Verloren, 2012, p. 103-121. (Middeleeuwse studies en bronnen; 131).</td>\n",
       "      <td>NaN</td>\n",
       "      <td>NaN</td>\n",
       "      <td>NaN</td>\n",
       "      <td>NaN</td>\n",
       "      <td>NaN</td>\n",
       "      <td>17</td>\n",
       "      <td>2012-12-18 11:42:01</td>\n",
       "      <td>18.0</td>\n",
       "      <td>2014-02-18 09:00:05</td>\n",
       "      <td>brandsma_frank_florimont_2_0_e/brandsma_frank_p_c</td>\n",
       "    </tr>\n",
       "    <tr>\n",
       "      <th>192655</th>\n",
       "      <td>279558</td>\n",
       "      <td>NaN</td>\n",
       "      <td>artikelboek</td>\n",
       "      <td>2012</td>\n",
       "      <td>Lens, Mieke. Huge van Bordeeus: avontuur voor de stedelijke burgerij? In: Ene andre tale: tendensen in de Middelnederlandse late ridderepiek; onder redactie van An Faems en Marjolein Hogenbirk. Hilversum: Verloren, 2012, p. 125-150. (Middeleeuwse studies en bronnen; 131).</td>\n",
       "      <td>NaN</td>\n",
       "      <td>NaN</td>\n",
       "      <td>NaN</td>\n",
       "      <td>NaN</td>\n",
       "      <td>NaN</td>\n",
       "      <td>17</td>\n",
       "      <td>2012-12-18 11:52:14</td>\n",
       "      <td>17.0</td>\n",
       "      <td>2012-12-18 12:18:43</td>\n",
       "      <td>lens_mieke_huge_van_bordeeus_a/lens_maria_johanna</td>\n",
       "    </tr>\n",
       "    <tr>\n",
       "      <th>192668</th>\n",
       "      <td>279570</td>\n",
       "      <td>NaN</td>\n",
       "      <td>artikelboek</td>\n",
       "      <td>2012</td>\n",
       "      <td>Claassens, Geert H.M. \"Doe leefde hi soe heilichlike\": Seghelijn van Jherusalem tussen ridderepiek en hagiografie. In: Ene andre tale: tendensen in de Middelnederlandse late ridderepiek; onder redactie van An Faems en Marjolein Hogenbirk. Hilversum: Verloren, 2012, p. 195-212. (Middeleeuwse studies en bronnen; 131).</td>\n",
       "      <td>NaN</td>\n",
       "      <td>NaN</td>\n",
       "      <td>NaN</td>\n",
       "      <td>NaN</td>\n",
       "      <td>NaN</td>\n",
       "      <td>17</td>\n",
       "      <td>2012-12-18 13:48:00</td>\n",
       "      <td>31.0</td>\n",
       "      <td>2020-05-29 13:52:35</td>\n",
       "      <td>claassens_geert_h_m_doe_leefde/claassens_gerard_henricus_marie</td>\n",
       "    </tr>\n",
       "    <tr>\n",
       "      <th>192673</th>\n",
       "      <td>279569</td>\n",
       "      <td>NaN</td>\n",
       "      <td>artikelboek</td>\n",
       "      <td>2012</td>\n",
       "      <td>Tersteeg, Jacques. Een Vlaamse schandaalgeschiedenis en sleutelroman?: de Middelnederlandse fragmenten van de 'Borchgrave van Couchi' en de oudfranse prozaroman 'Baudoin de Flandre'. In: Ene andre tale: tendensen in de Middelnederlandse late ridderepiek; onder redactie van An Faems en Marjolein Hogenbirk. Hilversum: Verloren, 2012, p. 151-194. (Middeleeuwse studies en bronnen; 131).</td>\n",
       "      <td>NaN</td>\n",
       "      <td>NaN</td>\n",
       "      <td>NaN</td>\n",
       "      <td>NaN</td>\n",
       "      <td>NaN</td>\n",
       "      <td>17</td>\n",
       "      <td>2012-12-18 12:18:44</td>\n",
       "      <td>17.0</td>\n",
       "      <td>2012-12-18 13:47:59</td>\n",
       "      <td>tersteeg_jacques_een_vlaamse_s/tersteeg_jacobus_johannes_theodorus_maria</td>\n",
       "    </tr>\n",
       "    <tr>\n",
       "      <th>192689</th>\n",
       "      <td>279574</td>\n",
       "      <td>NaN</td>\n",
       "      <td>artikelboek</td>\n",
       "      <td>2012</td>\n",
       "      <td>Biemans, Jos A.A.M. Conventies, standaarden en varianten: verschillende mogelijkheden en keuzes bij de vormgeving van handschriften met berijmde Middelnederlandse ridderepiek. In: Ene andre tale: tendensen in de Middelnederlandse late ridderepiek; onder redactie van An Faems en Marjolein Hogenbirk. Hilversum: Verloren, 2012, p. 215-257. (Middeleeuwse studies en bronnen; 131).</td>\n",
       "      <td>NaN</td>\n",
       "      <td>NaN</td>\n",
       "      <td>NaN</td>\n",
       "      <td>NaN</td>\n",
       "      <td>NaN</td>\n",
       "      <td>17</td>\n",
       "      <td>2012-12-18 14:05:46</td>\n",
       "      <td>17.0</td>\n",
       "      <td>2012-12-18 14:30:55</td>\n",
       "      <td>biemans_jos_a_a_m_conventies_s/biemans_joseph_adrianus_anthony_maria</td>\n",
       "    </tr>\n",
       "    <tr>\n",
       "      <th>192697</th>\n",
       "      <td>279578</td>\n",
       "      <td>NaN</td>\n",
       "      <td>artikelboek</td>\n",
       "      <td>2012</td>\n",
       "      <td>Kestemont, Mike. Een \"assonantic revival\"?: een kwantitatief diachroon onderzoek naar de assonantie in de Middelnederlandse ridderepiek, met bijzondere aandacht voor de veertiende eeuw. In: Ene andre tale: tendensen in de Middelnederlandse late ridderepiek; onder redactie van An Faems en Marjolein Hogenbirk. Hilversum: Verloren, 2012, p. 215-257. (Middeleeuwse studies en bronnen; 131).</td>\n",
       "      <td>NaN</td>\n",
       "      <td>NaN</td>\n",
       "      <td>NaN</td>\n",
       "      <td>NaN</td>\n",
       "      <td>NaN</td>\n",
       "      <td>17</td>\n",
       "      <td>2012-12-18 14:30:55</td>\n",
       "      <td>31.0</td>\n",
       "      <td>2017-10-25 09:04:45</td>\n",
       "      <td>kestemont_mike_een_assonantic/kestemont_mike</td>\n",
       "    </tr>\n",
       "  </tbody>\n",
       "</table>\n",
       "</div>"
      ],
      "text/plain": [
       "            id  ppn         type  jaar  \\\n",
       "192626  279543  NaN         boek  2012   \n",
       "192627  279544  NaN  artikelboek  2012   \n",
       "192636  279545  NaN  artikelboek  2012   \n",
       "192646  279549  NaN  artikelboek  2012   \n",
       "192647  279552  NaN  artikelboek  2012   \n",
       "192655  279558  NaN  artikelboek  2012   \n",
       "192668  279570  NaN  artikelboek  2012   \n",
       "192673  279569  NaN  artikelboek  2012   \n",
       "192689  279574  NaN  artikelboek  2012   \n",
       "192697  279578  NaN  artikelboek  2012   \n",
       "\n",
       "                                                                                                                                                                                                                                                                                                                                                                                           title_description  \\\n",
       "192626                                                                                                                                                                                                     Ene andre tale: tendensen in de Middelnederlandse late ridderepiek; onder redactie van An Faems en Marjolein Hogenbirk. Hilversum: Verloren, 2012. 318 p. (Middeleeuwse studies en bronnen; 131).   \n",
       "192627                                                                                Janssens, Jef. De Middelnederlandse ridderepiek in de veertiende eeuw: postmodern of voorzichtig vernieuwend? In: Ene andre tale: tendensen in de Middelnederlandse late ridderepiek; onder redactie van An Faems en Marjolein Hogenbirk. Hilversum: Verloren, 2012, p. 37-52. (Middeleeuwse studies en bronnen; 131).   \n",
       "192636                                                                                                       Meulen, Janet F. van der. Vrouwen van Avesnes: een nieuwe Alexander in de Lage Landen. In: Ene andre tale: tendensen in de Middelnederlandse late ridderepiek; onder redactie van An Faems en Marjolein Hogenbirk. Hilversum: Verloren, 2012, p. 55-81. (Middeleeuwse studies en bronnen; 131).   \n",
       "192646                     Reynders, Anne. \"Ghi heren, ic houde in ware wort dat ghi van Alexandre gehort hebt\": de Middelnederlandse vertalingen van de Oudfranse \"Florimont\" en \"Voeux du paon\". In: Ene andre tale: tendensen in de Middelnederlandse late ridderepiek; onder redactie van An Faems en Marjolein Hogenbirk. Hilversum: Verloren, 2012, p. 83-101. (Middeleeuwse studies en bronnen; 131).   \n",
       "192647                                                                       Brandsma, Frank. Florimont 2.0 (editie, vertaling, context); [kritische kanttekeningen en redactie: Bart Besamusca]. In: Ene andre tale: tendensen in de Middelnederlandse late ridderepiek; onder redactie van An Faems en Marjolein Hogenbirk. Hilversum: Verloren, 2012, p. 103-121. (Middeleeuwse studies en bronnen; 131).   \n",
       "192655                                                                                                                      Lens, Mieke. Huge van Bordeeus: avontuur voor de stedelijke burgerij? In: Ene andre tale: tendensen in de Middelnederlandse late ridderepiek; onder redactie van An Faems en Marjolein Hogenbirk. Hilversum: Verloren, 2012, p. 125-150. (Middeleeuwse studies en bronnen; 131).   \n",
       "192668                                                                         Claassens, Geert H.M. \"Doe leefde hi soe heilichlike\": Seghelijn van Jherusalem tussen ridderepiek en hagiografie. In: Ene andre tale: tendensen in de Middelnederlandse late ridderepiek; onder redactie van An Faems en Marjolein Hogenbirk. Hilversum: Verloren, 2012, p. 195-212. (Middeleeuwse studies en bronnen; 131).   \n",
       "192673     Tersteeg, Jacques. Een Vlaamse schandaalgeschiedenis en sleutelroman?: de Middelnederlandse fragmenten van de 'Borchgrave van Couchi' en de oudfranse prozaroman 'Baudoin de Flandre'. In: Ene andre tale: tendensen in de Middelnederlandse late ridderepiek; onder redactie van An Faems en Marjolein Hogenbirk. Hilversum: Verloren, 2012, p. 151-194. (Middeleeuwse studies en bronnen; 131).   \n",
       "192689            Biemans, Jos A.A.M. Conventies, standaarden en varianten: verschillende mogelijkheden en keuzes bij de vormgeving van handschriften met berijmde Middelnederlandse ridderepiek. In: Ene andre tale: tendensen in de Middelnederlandse late ridderepiek; onder redactie van An Faems en Marjolein Hogenbirk. Hilversum: Verloren, 2012, p. 215-257. (Middeleeuwse studies en bronnen; 131).   \n",
       "192697  Kestemont, Mike. Een \"assonantic revival\"?: een kwantitatief diachroon onderzoek naar de assonantie in de Middelnederlandse ridderepiek, met bijzondere aandacht voor de veertiende eeuw. In: Ene andre tale: tendensen in de Middelnederlandse late ridderepiek; onder redactie van An Faems en Marjolein Hogenbirk. Hilversum: Verloren, 2012, p. 215-257. (Middeleeuwse studies en bronnen; 131).   \n",
       "\n",
       "                                                                                                                                                                                                                                                                          abstract  \\\n",
       "192626  ISBN 978-90-8704-224-0.\\r\\n\\r\\nP. 11-36 De Middelnederlandse late ridderepiek: 'bleeke spookgestalten' krijgen kleur; [inleiding], door An Faems; p. 291-311 Literatuurlijst; p. 312-316 Register van auteurs en werken; p. 317-318 Register van handschriften en drukken.   \n",
       "192627                                                                                                                                                                                                                                                                         NaN   \n",
       "192636                                                                                                                                                                                                                                                                         NaN   \n",
       "192646                                                                                                                                                                                                                                                                         NaN   \n",
       "192647                                                                                                                                                                                                                                                                         NaN   \n",
       "192655                                                                                                                                                                                                                                                                         NaN   \n",
       "192668                                                                                                                                                                                                                                                                         NaN   \n",
       "192673                                                                                                                                                                                                                                                                         NaN   \n",
       "192689                                                                                                                                                                                                                                                                         NaN   \n",
       "192697                                                                                                                                                                                                                                                                         NaN   \n",
       "\n",
       "        url  containing_publication_id containing_publication_ppn  \\\n",
       "192626  NaN                        NaN                        NaN   \n",
       "192627  NaN                        NaN                        NaN   \n",
       "192636  NaN                        NaN                        NaN   \n",
       "192646  NaN                        NaN                        NaN   \n",
       "192647  NaN                        NaN                        NaN   \n",
       "192655  NaN                        NaN                        NaN   \n",
       "192668  NaN                        NaN                        NaN   \n",
       "192673  NaN                        NaN                        NaN   \n",
       "192689  NaN                        NaN                        NaN   \n",
       "192697  NaN                        NaN                        NaN   \n",
       "\n",
       "       page_numbers  creator       creation_date  modifier  \\\n",
       "192626          NaN       17 2012-12-18 10:33:38      17.0   \n",
       "192627          NaN       17 2012-12-18 10:49:56      17.0   \n",
       "192636          NaN       17 2012-12-18 11:04:28      17.0   \n",
       "192646          NaN       17 2012-12-18 11:30:35      18.0   \n",
       "192647          NaN       17 2012-12-18 11:42:01      18.0   \n",
       "192655          NaN       17 2012-12-18 11:52:14      17.0   \n",
       "192668          NaN       17 2012-12-18 13:48:00      31.0   \n",
       "192673          NaN       17 2012-12-18 12:18:44      17.0   \n",
       "192689          NaN       17 2012-12-18 14:05:46      17.0   \n",
       "192697          NaN       17 2012-12-18 14:30:55      31.0   \n",
       "\n",
       "         modification_date  \\\n",
       "192626 2012-12-18 10:47:42   \n",
       "192627 2012-12-18 11:04:27   \n",
       "192636 2012-12-18 11:30:35   \n",
       "192646 2014-02-18 08:58:59   \n",
       "192647 2014-02-18 09:00:05   \n",
       "192655 2012-12-18 12:18:43   \n",
       "192668 2020-05-29 13:52:35   \n",
       "192673 2012-12-18 13:47:59   \n",
       "192689 2012-12-18 14:30:55   \n",
       "192697 2017-10-25 09:04:45   \n",
       "\n",
       "                                                                   canonical_url  \n",
       "192626                                   ene_andre_tale_tendensen_in_de/faems_an  \n",
       "192627                           janssens_jef_de_middelnederlan/janssens_jozef_d  \n",
       "192636                     meulen_janet_f_van_der_vrouwen/meulen_janet_f_van_der  \n",
       "192646                              reynders_anne_ghi_heren_ic_hou/reynders_anne  \n",
       "192647                         brandsma_frank_florimont_2_0_e/brandsma_frank_p_c  \n",
       "192655                         lens_mieke_huge_van_bordeeus_a/lens_maria_johanna  \n",
       "192668            claassens_geert_h_m_doe_leefde/claassens_gerard_henricus_marie  \n",
       "192673  tersteeg_jacques_een_vlaamse_s/tersteeg_jacobus_johannes_theodorus_maria  \n",
       "192689      biemans_jos_a_a_m_conventies_s/biemans_joseph_adrianus_anthony_maria  \n",
       "192697                              kestemont_mike_een_assonantic/kestemont_mike  "
      ]
     },
     "execution_count": 7,
     "metadata": {},
     "output_type": "execute_result"
    }
   ],
   "source": [
    "publications[publications['title_description'].str.contains('Ene andre tale:')]"
   ]
  },
  {
   "cell_type": "code",
   "execution_count": 8,
   "metadata": {},
   "outputs": [],
   "source": [
    "title2id = dict(zip(publications['title_description'], publications['id']))\n",
    "title2ptype = dict(zip(publications['title_description'], publications['type']))\n",
    "id2title = dict(zip(publications['id'], publications['title_description']))"
   ]
  },
  {
   "cell_type": "code",
   "execution_count": 9,
   "metadata": {},
   "outputs": [
    {
     "name": "stdout",
     "output_type": "stream",
     "text": [
      "272188\n",
      "273\n"
     ]
    }
   ],
   "source": [
    "print(title2id['Royen, P. Gerlach O.F.M. In: Levende talen: (1947) 190-191.'])\n",
    "print(title2id['Caron, Willem Johannes Hubertus. Klank en teken bij Erasmus en onze oudste grammatici. Groningen [etc.]: Wolters, 1947. XII, 140 p. + stellingen.'])"
   ]
  },
  {
   "cell_type": "code",
   "execution_count": 10,
   "metadata": {},
   "outputs": [
    {
     "name": "stdout",
     "output_type": "stream",
     "text": [
      "Royen, P. Gerlach O.F.M. In: Levende talen: (1947) 190-191.\n",
      "Caron, Willem Johannes Hubertus. Klank en teken bij Erasmus en onze oudste grammatici. Groningen [etc.]: Wolters, 1947. XII, 140 p. + stellingen.\n"
     ]
    }
   ],
   "source": [
    "print(id2title[272188])\n",
    "print(id2title[273])"
   ]
  },
  {
   "cell_type": "code",
   "execution_count": 11,
   "metadata": {},
   "outputs": [],
   "source": [
    "references = pd.read_csv(f'{dump_dir}/publication_publications.csv')\n",
    "rev2ref = dict(zip(references['publication_id'], references['referenced_publication_id']))"
   ]
  },
  {
   "cell_type": "code",
   "execution_count": 12,
   "metadata": {},
   "outputs": [
    {
     "name": "stdout",
     "output_type": "stream",
     "text": [
      "273\n"
     ]
    }
   ],
   "source": [
    "print(rev2ref[272188])"
   ]
  },
  {
   "cell_type": "code",
   "execution_count": 13,
   "metadata": {},
   "outputs": [
    {
     "name": "stdout",
     "output_type": "stream",
     "text": [
      "::: ../data/llm-dump/1940s :::\n",
      "../data/llm-dump/1940s/JOUR_consolidated.ris\n"
     ]
    },
    {
     "name": "stderr",
     "output_type": "stream",
     "text": [
      "100%|██████████| 9897/9897 [00:00<00:00, 1053418.94it/s]\n"
     ]
    },
    {
     "name": "stdout",
     "output_type": "stream",
     "text": [
      "::: ../data/llm-dump/1950s :::\n",
      "../data/llm-dump/1950s/JOUR_consolidated.ris\n"
     ]
    },
    {
     "name": "stderr",
     "output_type": "stream",
     "text": [
      "100%|██████████| 6218/6218 [00:00<00:00, 1266643.14it/s]\n"
     ]
    },
    {
     "name": "stdout",
     "output_type": "stream",
     "text": [
      "::: ../data/llm-dump/1960s :::\n",
      "../data/llm-dump/1960s/JOUR_consolidated.ris\n"
     ]
    },
    {
     "name": "stderr",
     "output_type": "stream",
     "text": [
      "100%|██████████| 19387/19387 [00:00<00:00, 1751798.26it/s]\n"
     ]
    },
    {
     "name": "stdout",
     "output_type": "stream",
     "text": [
      "::: ../data/llm-dump/1970s :::\n",
      "../data/llm-dump/1970s/JOUR_consolidated.ris\n"
     ]
    },
    {
     "name": "stderr",
     "output_type": "stream",
     "text": [
      "100%|██████████| 25511/25511 [00:00<00:00, 1859817.66it/s]\n"
     ]
    },
    {
     "name": "stdout",
     "output_type": "stream",
     "text": [
      "::: ../data/llm-dump/1980s :::\n",
      "../data/llm-dump/1980s/JOUR_consolidated.ris\n"
     ]
    },
    {
     "name": "stderr",
     "output_type": "stream",
     "text": [
      "100%|██████████| 34995/34995 [00:00<00:00, 2017229.48it/s]\n"
     ]
    },
    {
     "name": "stdout",
     "output_type": "stream",
     "text": [
      "::: ../data/llm-dump/1990s :::\n",
      "../data/llm-dump/1990s/JOUR_consolidated.ris\n"
     ]
    },
    {
     "name": "stderr",
     "output_type": "stream",
     "text": [
      "100%|██████████| 44498/44498 [00:00<00:00, 1636918.20it/s]\n"
     ]
    },
    {
     "name": "stdout",
     "output_type": "stream",
     "text": [
      "::: ../data/llm-dump/2000s :::\n",
      "../data/llm-dump/2000s/JOUR_consolidated.ris\n"
     ]
    },
    {
     "name": "stderr",
     "output_type": "stream",
     "text": [
      "100%|██████████| 27745/27745 [00:00<00:00, 1733852.29it/s]\n"
     ]
    },
    {
     "name": "stdout",
     "output_type": "stream",
     "text": [
      "::: ../data/llm-dump/2010s :::\n",
      "../data/llm-dump/2010s/JOUR_consolidated.ris\n"
     ]
    },
    {
     "name": "stderr",
     "output_type": "stream",
     "text": [
      "100%|██████████| 20043/20043 [00:00<00:00, 1562689.33it/s]\n"
     ]
    },
    {
     "name": "stdout",
     "output_type": "stream",
     "text": [
      "::: ../data/llm-dump/2020s :::\n",
      "../data/llm-dump/2020s/JOUR_consolidated.ris\n"
     ]
    },
    {
     "name": "stderr",
     "output_type": "stream",
     "text": [
      "100%|██████████| 5238/5238 [00:00<00:00, 1531634.44it/s]"
     ]
    },
    {
     "name": "stdout",
     "output_type": "stream",
     "text": [
      "::: ../data/llm-dump/misc :::\n",
      "../data/llm-dump/misc/JOUR_consolidated.ris\n"
     ]
    },
    {
     "name": "stderr",
     "output_type": "stream",
     "text": [
      "\n",
      "100%|██████████| 3483/3483 [00:00<00:00, 2275153.53it/s]\n"
     ]
    }
   ],
   "source": [
    "llm_path = '../data/llm-dump'\n",
    "\n",
    "for decade_folder in sorted(glob(f'{llm_path}/*')):\n",
    "    print(':::', decade_folder, ':::')\n",
    "    decade = decade_folder.split('/')[-1]\n",
    "\n",
    "    for ris_path in sorted(glob(f'{decade_folder}/JOUR_consolidated.ris')):\n",
    "        print(ris_path)\n",
    "        with open(ris_path) as f:\n",
    "            entries = rispy.load(f, encoding='utf-8')\n",
    "        for idx, entry in tqdm(list(enumerate(entries))):\n",
    "            if not 'keywords' in entry or not 'recensie' in entry['keywords']:\n",
    "                continue\n",
    "            if 'notes_abstract' in entry:\n",
    "                pub_title = ' '.join(entry['notes_abstract'].split()).strip()\n",
    "            else:\n",
    "                # this means that we weren't able to structure the item via the LLM...\n",
    "                pub_title = ' '.join(entry['title'].split()).strip()\n",
    "            \n",
    "            ref_title = None\n",
    "            try:\n",
    "                #print('==============================')\n",
    "                #print(pub_title)\n",
    "                pub_id = title2id[pub_title]\n",
    "                #print(pub_id)\n",
    "                ref_id = rev2ref[pub_id]\n",
    "                #print(ref_id)\n",
    "                ref_title = id2title[ref_id]\n",
    "                #print(ref_id, ref_title)\n",
    "            except KeyError:\n",
    "                pass\n",
    "            if ref_title:\n",
    "                entry['reviewed_item'] = ref_title\n",
    "                entries[idx] = entry\n",
    "\n",
    "        out_ris_path = ris_path.replace('.ris', f'_link_{decade}.ris')\n",
    "        with open(out_ris_path, 'w') as bibliography_file:\n",
    "            rispy.dump(entries, bibliography_file)"
   ]
  },
  {
   "cell_type": "markdown",
   "metadata": {},
   "source": [
    "## Boeken"
   ]
  },
  {
   "cell_type": "code",
   "execution_count": 14,
   "metadata": {},
   "outputs": [],
   "source": [
    "ref2revs = defaultdict(list)\n",
    "for rev, ref in rev2ref.items():\n",
    "    ref2revs[ref].append(rev)"
   ]
  },
  {
   "cell_type": "code",
   "execution_count": 15,
   "metadata": {},
   "outputs": [],
   "source": [
    "def get_reviews(pub_title):\n",
    "    try:\n",
    "        pub_id = title2id[pub_title]\n",
    "    except KeyError:\n",
    "        return None\n",
    "    \n",
    "    reviews = []\n",
    "    for rev in ref2revs[pub_id]:\n",
    "        try:\n",
    "            reviews.append(id2title[rev])\n",
    "        except KeyError:\n",
    "            continue\n",
    "    \n",
    "    if reviews:\n",
    "        return 'Recensies: ' + ' | '.join(reviews)"
   ]
  },
  {
   "cell_type": "code",
   "execution_count": 16,
   "metadata": {},
   "outputs": [
    {
     "name": "stdout",
     "output_type": "stream",
     "text": [
      "Recensies: Debrabandere, Frans. In: Biekorf (Brugge): 109 (2009) 3 (sep) 358-359. | Hüning, Matthias. Kroniek van de taalkunde 2008. In: Internationale Neerlandistiek (Woubrugge): 47 (2009) 3 (okt) 50-54. | Zeijlstra, Hedde. In: Tijdschrift voor Nederlandse taal- & letterkunde, TNTL (Leiden): 126 (2010) 1, 94-95. | Sels, Koen. In: De leeswolf (Antwerpen): 15 (2009) 5 (juni) 377. | Marynissen, Ann. In: Internationale Neerlandistiek (Amsterdam): 48 (2010) 1 (feb) 57-60. | Boonen, Ute K. In: Jubileumnummer 1963-2012 Internationale Neerlandistiek; [redactie Ralf Grüttemeier et al.]. Speciaal nummer van: Internationale neerlandistiek (Amsterdam): 50 (2012) 1 (jan) 149-151. | Devos, Filip. Monumentale historische syntax. In: Over taal (Kortrijk-Heule): 48 (2009) 5 (nov-dec) 136-137.\n"
     ]
    }
   ],
   "source": [
    "print(get_reviews('Horst, J. M. van der. Geschiedenis van de Nederlandse syntaxis. Leuven: Universitaire Pers Leuven, 2008. 2 dl. (2014 p.).'))"
   ]
  },
  {
   "cell_type": "code",
   "execution_count": 17,
   "metadata": {},
   "outputs": [
    {
     "name": "stdout",
     "output_type": "stream",
     "text": [
      "::: ../data/llm-dump/1940s :::\n",
      "../data/llm-dump/1940s/BOOK_consolidated.ris\n"
     ]
    },
    {
     "name": "stderr",
     "output_type": "stream",
     "text": [
      "100%|██████████| 1442/1442 [00:00<00:00, 347636.88it/s]\n"
     ]
    },
    {
     "name": "stdout",
     "output_type": "stream",
     "text": [
      "../data/llm-dump/1940s/CHAP_consolidated.ris\n"
     ]
    },
    {
     "name": "stderr",
     "output_type": "stream",
     "text": [
      "100%|██████████| 1764/1764 [00:00<00:00, 4311627.19it/s]\n"
     ]
    },
    {
     "name": "stdout",
     "output_type": "stream",
     "text": [
      "../data/llm-dump/1940s/JFULL_consolidated.ris\n"
     ]
    },
    {
     "name": "stderr",
     "output_type": "stream",
     "text": [
      "100%|██████████| 68/68 [00:00<00:00, 1620526.55it/s]\n"
     ]
    },
    {
     "name": "stdout",
     "output_type": "stream",
     "text": [
      "../data/llm-dump/1940s/JOUR_consolidated.ris\n"
     ]
    },
    {
     "name": "stderr",
     "output_type": "stream",
     "text": [
      "100%|██████████| 9897/9897 [00:00<00:00, 6158906.04it/s]\n"
     ]
    },
    {
     "name": "stdout",
     "output_type": "stream",
     "text": [
      "::: ../data/llm-dump/1950s :::\n",
      "../data/llm-dump/1950s/BOOK_consolidated.ris\n"
     ]
    },
    {
     "name": "stderr",
     "output_type": "stream",
     "text": [
      "100%|██████████| 917/917 [00:00<00:00, 340249.18it/s]\n"
     ]
    },
    {
     "name": "stdout",
     "output_type": "stream",
     "text": [
      "../data/llm-dump/1950s/CHAP_consolidated.ris\n"
     ]
    },
    {
     "name": "stderr",
     "output_type": "stream",
     "text": [
      "100%|██████████| 1161/1161 [00:00<00:00, 5558889.21it/s]\n"
     ]
    },
    {
     "name": "stdout",
     "output_type": "stream",
     "text": [
      "../data/llm-dump/1950s/JFULL_consolidated.ris\n"
     ]
    },
    {
     "name": "stderr",
     "output_type": "stream",
     "text": [
      "100%|██████████| 17/17 [00:00<00:00, 902571.75it/s]\n"
     ]
    },
    {
     "name": "stdout",
     "output_type": "stream",
     "text": [
      "../data/llm-dump/1950s/JOUR_consolidated.ris\n"
     ]
    },
    {
     "name": "stderr",
     "output_type": "stream",
     "text": [
      "100%|██████████| 6218/6218 [00:00<00:00, 5581036.22it/s]\n"
     ]
    },
    {
     "name": "stdout",
     "output_type": "stream",
     "text": [
      "::: ../data/llm-dump/1960s :::\n",
      "../data/llm-dump/1960s/BOOK_consolidated.ris\n"
     ]
    },
    {
     "name": "stderr",
     "output_type": "stream",
     "text": [
      "100%|██████████| 2185/2185 [00:00<00:00, 373682.13it/s]\n"
     ]
    },
    {
     "name": "stdout",
     "output_type": "stream",
     "text": [
      "../data/llm-dump/1960s/CHAP_consolidated.ris\n"
     ]
    },
    {
     "name": "stderr",
     "output_type": "stream",
     "text": [
      "100%|██████████| 4084/4084 [00:00<00:00, 5761701.16it/s]\n"
     ]
    },
    {
     "name": "stdout",
     "output_type": "stream",
     "text": [
      "../data/llm-dump/1960s/JFULL_consolidated.ris\n"
     ]
    },
    {
     "name": "stderr",
     "output_type": "stream",
     "text": [
      "100%|██████████| 190/190 [00:00<00:00, 3320490.67it/s]"
     ]
    },
    {
     "name": "stdout",
     "output_type": "stream",
     "text": [
      "../data/llm-dump/1960s/JOUR_consolidated.ris\n"
     ]
    },
    {
     "name": "stderr",
     "output_type": "stream",
     "text": [
      "\n",
      "100%|██████████| 19387/19387 [00:00<00:00, 5676834.10it/s]\n"
     ]
    },
    {
     "name": "stdout",
     "output_type": "stream",
     "text": [
      "::: ../data/llm-dump/1970s :::\n",
      "../data/llm-dump/1970s/BOOK_consolidated.ris\n"
     ]
    },
    {
     "name": "stderr",
     "output_type": "stream",
     "text": [
      "100%|██████████| 3623/3623 [00:00<00:00, 402467.45it/s]\n"
     ]
    },
    {
     "name": "stdout",
     "output_type": "stream",
     "text": [
      "../data/llm-dump/1970s/CHAP_consolidated.ris\n"
     ]
    },
    {
     "name": "stderr",
     "output_type": "stream",
     "text": [
      "100%|██████████| 6650/6650 [00:00<00:00, 6394342.41it/s]\n"
     ]
    },
    {
     "name": "stdout",
     "output_type": "stream",
     "text": [
      "../data/llm-dump/1970s/JFULL_consolidated.ris\n"
     ]
    },
    {
     "name": "stderr",
     "output_type": "stream",
     "text": [
      "100%|██████████| 273/273 [00:00<00:00, 3948431.01it/s]\n"
     ]
    },
    {
     "name": "stdout",
     "output_type": "stream",
     "text": [
      "../data/llm-dump/1970s/JOUR_consolidated.ris\n"
     ]
    },
    {
     "name": "stderr",
     "output_type": "stream",
     "text": [
      "100%|██████████| 25511/25511 [00:00<00:00, 5736697.91it/s]\n"
     ]
    },
    {
     "name": "stdout",
     "output_type": "stream",
     "text": [
      "::: ../data/llm-dump/1980s :::\n",
      "../data/llm-dump/1980s/BOOK_consolidated.ris\n"
     ]
    },
    {
     "name": "stderr",
     "output_type": "stream",
     "text": [
      "100%|██████████| 6722/6722 [00:00<00:00, 398576.58it/s]\n"
     ]
    },
    {
     "name": "stdout",
     "output_type": "stream",
     "text": [
      "../data/llm-dump/1980s/CHAP_consolidated.ris\n"
     ]
    },
    {
     "name": "stderr",
     "output_type": "stream",
     "text": [
      "100%|██████████| 12289/12289 [00:00<00:00, 5953315.07it/s]\n"
     ]
    },
    {
     "name": "stdout",
     "output_type": "stream",
     "text": [
      "../data/llm-dump/1980s/JFULL_consolidated.ris\n"
     ]
    },
    {
     "name": "stderr",
     "output_type": "stream",
     "text": [
      "100%|██████████| 619/619 [00:00<00:00, 3494312.48it/s]\n"
     ]
    },
    {
     "name": "stdout",
     "output_type": "stream",
     "text": [
      "../data/llm-dump/1980s/JOUR_consolidated.ris\n"
     ]
    },
    {
     "name": "stderr",
     "output_type": "stream",
     "text": [
      "100%|██████████| 34995/34995 [00:00<00:00, 6039818.47it/s]\n"
     ]
    },
    {
     "name": "stdout",
     "output_type": "stream",
     "text": [
      "::: ../data/llm-dump/1990s :::\n",
      "../data/llm-dump/1990s/BOOK_consolidated.ris\n"
     ]
    },
    {
     "name": "stderr",
     "output_type": "stream",
     "text": [
      "100%|██████████| 7992/7992 [00:00<00:00, 356517.85it/s]\n"
     ]
    },
    {
     "name": "stdout",
     "output_type": "stream",
     "text": [
      "../data/llm-dump/1990s/CHAP_consolidated.ris\n"
     ]
    },
    {
     "name": "stderr",
     "output_type": "stream",
     "text": [
      "100%|██████████| 14247/14247 [00:00<00:00, 5489779.43it/s]\n"
     ]
    },
    {
     "name": "stdout",
     "output_type": "stream",
     "text": [
      "../data/llm-dump/1990s/JFULL_consolidated.ris\n"
     ]
    },
    {
     "name": "stderr",
     "output_type": "stream",
     "text": [
      "100%|██████████| 660/660 [00:00<00:00, 3666543.89it/s]\n"
     ]
    },
    {
     "name": "stdout",
     "output_type": "stream",
     "text": [
      "../data/llm-dump/1990s/JOUR_consolidated.ris\n"
     ]
    },
    {
     "name": "stderr",
     "output_type": "stream",
     "text": [
      "100%|██████████| 44498/44498 [00:00<00:00, 5956029.47it/s]\n"
     ]
    },
    {
     "name": "stdout",
     "output_type": "stream",
     "text": [
      "::: ../data/llm-dump/2000s :::\n",
      "../data/llm-dump/2000s/BOOK_consolidated.ris\n"
     ]
    },
    {
     "name": "stderr",
     "output_type": "stream",
     "text": [
      "100%|██████████| 6229/6229 [00:00<00:00, 368599.32it/s]"
     ]
    },
    {
     "name": "stdout",
     "output_type": "stream",
     "text": [
      "../data/llm-dump/2000s/CHAP_consolidated.ris\n"
     ]
    },
    {
     "name": "stderr",
     "output_type": "stream",
     "text": [
      "\n",
      "100%|██████████| 11027/11027 [00:00<00:00, 5850062.00it/s]\n"
     ]
    },
    {
     "name": "stdout",
     "output_type": "stream",
     "text": [
      "../data/llm-dump/2000s/JFULL_consolidated.ris\n"
     ]
    },
    {
     "name": "stderr",
     "output_type": "stream",
     "text": [
      "100%|██████████| 479/479 [00:00<00:00, 3110017.98it/s]\n"
     ]
    },
    {
     "name": "stdout",
     "output_type": "stream",
     "text": [
      "../data/llm-dump/2000s/JOUR_consolidated.ris\n"
     ]
    },
    {
     "name": "stderr",
     "output_type": "stream",
     "text": [
      "100%|██████████| 27745/27745 [00:00<00:00, 5972642.40it/s]\n"
     ]
    },
    {
     "name": "stdout",
     "output_type": "stream",
     "text": [
      "::: ../data/llm-dump/2010s :::\n",
      "../data/llm-dump/2010s/BOOK_consolidated.ris\n"
     ]
    },
    {
     "name": "stderr",
     "output_type": "stream",
     "text": [
      "100%|██████████| 3891/3891 [00:00<00:00, 356737.71it/s]"
     ]
    },
    {
     "name": "stdout",
     "output_type": "stream",
     "text": [
      "../data/llm-dump/2010s/CHAP_consolidated.ris\n"
     ]
    },
    {
     "name": "stderr",
     "output_type": "stream",
     "text": [
      "\n",
      "100%|██████████| 6300/6300 [00:00<00:00, 4798277.68it/s]\n"
     ]
    },
    {
     "name": "stdout",
     "output_type": "stream",
     "text": [
      "../data/llm-dump/2010s/JFULL_consolidated.ris\n"
     ]
    },
    {
     "name": "stderr",
     "output_type": "stream",
     "text": [
      "100%|██████████| 442/442 [00:00<00:00, 3944430.57it/s]"
     ]
    },
    {
     "name": "stdout",
     "output_type": "stream",
     "text": [
      "../data/llm-dump/2010s/JOUR_consolidated.ris"
     ]
    },
    {
     "name": "stderr",
     "output_type": "stream",
     "text": [
      "\n"
     ]
    },
    {
     "name": "stdout",
     "output_type": "stream",
     "text": [
      "\n"
     ]
    },
    {
     "name": "stderr",
     "output_type": "stream",
     "text": [
      "100%|██████████| 20043/20043 [00:00<00:00, 5559949.41it/s]\n"
     ]
    },
    {
     "name": "stdout",
     "output_type": "stream",
     "text": [
      "::: ../data/llm-dump/2020s :::\n",
      "../data/llm-dump/2020s/BOOK_consolidated.ris\n"
     ]
    },
    {
     "name": "stderr",
     "output_type": "stream",
     "text": [
      "100%|██████████| 825/825 [00:00<00:00, 344445.63it/s]\n"
     ]
    },
    {
     "name": "stdout",
     "output_type": "stream",
     "text": [
      "../data/llm-dump/2020s/CHAP_consolidated.ris\n"
     ]
    },
    {
     "name": "stderr",
     "output_type": "stream",
     "text": [
      "100%|██████████| 1627/1627 [00:00<00:00, 4595375.49it/s]\n"
     ]
    },
    {
     "name": "stdout",
     "output_type": "stream",
     "text": [
      "../data/llm-dump/2020s/JFULL_consolidated.ris\n"
     ]
    },
    {
     "name": "stderr",
     "output_type": "stream",
     "text": [
      "100%|██████████| 161/161 [00:00<00:00, 2597242.09it/s]\n"
     ]
    },
    {
     "name": "stdout",
     "output_type": "stream",
     "text": [
      "../data/llm-dump/2020s/JOUR_consolidated.ris\n"
     ]
    },
    {
     "name": "stderr",
     "output_type": "stream",
     "text": [
      "100%|██████████| 5238/5238 [00:00<00:00, 5269792.36it/s]\n"
     ]
    },
    {
     "name": "stdout",
     "output_type": "stream",
     "text": [
      "::: ../data/llm-dump/misc :::\n",
      "../data/llm-dump/misc/BOOK_consolidated.ris\n"
     ]
    },
    {
     "name": "stderr",
     "output_type": "stream",
     "text": [
      "100%|██████████| 1182/1182 [00:00<00:00, 324200.06it/s]\n"
     ]
    },
    {
     "name": "stdout",
     "output_type": "stream",
     "text": [
      "../data/llm-dump/misc/CHAP_consolidated.ris\n"
     ]
    },
    {
     "name": "stderr",
     "output_type": "stream",
     "text": [
      "100%|██████████| 470/470 [00:00<00:00, 3179553.03it/s]\n"
     ]
    },
    {
     "name": "stdout",
     "output_type": "stream",
     "text": [
      "../data/llm-dump/misc/JFULL_consolidated.ris\n"
     ]
    },
    {
     "name": "stderr",
     "output_type": "stream",
     "text": [
      "100%|██████████| 6051/6051 [00:00<00:00, 6451381.17it/s]\n"
     ]
    },
    {
     "name": "stdout",
     "output_type": "stream",
     "text": [
      "../data/llm-dump/misc/JOUR_consolidated.ris\n"
     ]
    },
    {
     "name": "stderr",
     "output_type": "stream",
     "text": [
      "100%|██████████| 3483/3483 [00:00<00:00, 6868246.75it/s]\n"
     ]
    }
   ],
   "source": [
    "llm_path = '../data/llm-dump'\n",
    "\n",
    "for decade_folder in sorted(glob(f'{llm_path}/*')):\n",
    "    print(':::', decade_folder, ':::')\n",
    "    decade = decade_folder.split('/')[-1]\n",
    "\n",
    "    for ris_path in sorted(glob(f'{decade_folder}/*_consolidated.ris')):\n",
    "        print(ris_path)\n",
    "        with open(ris_path) as f:\n",
    "            entries = rispy.load(f, encoding='utf-8')\n",
    "        \n",
    "        for idx, entry in tqdm(list(enumerate(entries))):\n",
    "            if not entry['type_of_reference'] == 'BOOK':\n",
    "                continue\n",
    "            if 'notes_abstract' in entry:\n",
    "                pub_title = ' '.join(entry['notes_abstract'].split()).strip()\n",
    "            else:\n",
    "                # this means that we weren't able to structure the item via the LLM...\n",
    "                pub_title = ' '.join(entry['title'].split()).strip()\n",
    "            \n",
    "            reviews = get_reviews(pub_title)\n",
    "            if reviews:\n",
    "                entry['research_notes'] = reviews\n",
    "                entries[idx] = entry\n",
    "\n",
    "        out_ris_path = ris_path.replace('.ris', f'_link_{decade}.ris')\n",
    "        with open(out_ris_path, 'w') as bibliography_file:\n",
    "            rispy.dump(entries, bibliography_file)"
   ]
  },
  {
   "cell_type": "markdown",
   "metadata": {},
   "source": [
    "## Chapters"
   ]
  },
  {
   "cell_type": "code",
   "execution_count": 18,
   "metadata": {},
   "outputs": [
    {
     "name": "stdout",
     "output_type": "stream",
     "text": [
      "::: ../data/llm-dump/misc :::\n",
      "../data/llm-dump/misc/CHAP_consolidated.ris\n"
     ]
    },
    {
     "name": "stderr",
     "output_type": "stream",
     "text": [
      "100%|██████████| 470/470 [00:00<00:00, 383974.07it/s]\n"
     ]
    },
    {
     "name": "stdout",
     "output_type": "stream",
     "text": [
      "::: ../data/llm-dump/2020s :::\n",
      "../data/llm-dump/2020s/CHAP_consolidated.ris\n"
     ]
    },
    {
     "name": "stderr",
     "output_type": "stream",
     "text": [
      "100%|██████████| 1627/1627 [00:00<00:00, 401821.39it/s]\n"
     ]
    },
    {
     "name": "stdout",
     "output_type": "stream",
     "text": [
      "::: ../data/llm-dump/2010s :::\n",
      "../data/llm-dump/2010s/CHAP_consolidated.ris\n"
     ]
    },
    {
     "name": "stderr",
     "output_type": "stream",
     "text": [
      "100%|██████████| 6300/6300 [00:00<00:00, 355750.98it/s]\n"
     ]
    },
    {
     "name": "stdout",
     "output_type": "stream",
     "text": [
      "::: ../data/llm-dump/2000s :::\n",
      "../data/llm-dump/2000s/CHAP_consolidated.ris\n"
     ]
    },
    {
     "name": "stderr",
     "output_type": "stream",
     "text": [
      "100%|██████████| 11027/11027 [00:00<00:00, 317897.51it/s]\n"
     ]
    },
    {
     "name": "stdout",
     "output_type": "stream",
     "text": [
      "::: ../data/llm-dump/1990s :::\n",
      "../data/llm-dump/1990s/CHAP_consolidated.ris\n"
     ]
    },
    {
     "name": "stderr",
     "output_type": "stream",
     "text": [
      "100%|██████████| 14247/14247 [00:00<00:00, 361139.14it/s]\n"
     ]
    },
    {
     "name": "stdout",
     "output_type": "stream",
     "text": [
      "::: ../data/llm-dump/1980s :::\n",
      "../data/llm-dump/1980s/CHAP_consolidated.ris\n"
     ]
    },
    {
     "name": "stderr",
     "output_type": "stream",
     "text": [
      "100%|██████████| 12289/12289 [00:00<00:00, 405173.97it/s]\n"
     ]
    },
    {
     "name": "stdout",
     "output_type": "stream",
     "text": [
      "::: ../data/llm-dump/1970s :::\n",
      "../data/llm-dump/1970s/CHAP_consolidated.ris\n"
     ]
    },
    {
     "name": "stderr",
     "output_type": "stream",
     "text": [
      "100%|██████████| 6650/6650 [00:00<00:00, 430872.83it/s]"
     ]
    },
    {
     "name": "stdout",
     "output_type": "stream",
     "text": [
      "::: ../data/llm-dump/1960s :::\n",
      "../data/llm-dump/1960s/CHAP_consolidated.ris\n"
     ]
    },
    {
     "name": "stderr",
     "output_type": "stream",
     "text": [
      "\n",
      "100%|██████████| 4084/4084 [00:00<00:00, 478786.30it/s]\n"
     ]
    },
    {
     "name": "stdout",
     "output_type": "stream",
     "text": [
      "::: ../data/llm-dump/1950s :::\n",
      "../data/llm-dump/1950s/CHAP_consolidated.ris\n"
     ]
    },
    {
     "name": "stderr",
     "output_type": "stream",
     "text": [
      "100%|██████████| 1161/1161 [00:00<00:00, 421062.42it/s]\n"
     ]
    },
    {
     "name": "stdout",
     "output_type": "stream",
     "text": [
      "::: ../data/llm-dump/1940s :::\n",
      "../data/llm-dump/1940s/CHAP_consolidated.ris\n"
     ]
    },
    {
     "name": "stderr",
     "output_type": "stream",
     "text": [
      "100%|██████████| 1764/1764 [00:00<00:00, 421173.35it/s]\n"
     ]
    }
   ],
   "source": [
    "llm_path = '../data/llm-dump'\n",
    "\n",
    "for decade_folder in sorted(glob(f'{llm_path}/*'))[::-1]:\n",
    "    print(':::', decade_folder, ':::')\n",
    "    decade = decade_folder.split('/')[-1]\n",
    "\n",
    "    for ris_path in sorted(glob(f'{decade_folder}/CHAP_consolidated.ris')):\n",
    "        print(ris_path)\n",
    "        with open(ris_path) as f:\n",
    "            entries = rispy.load(f, encoding='utf-8')\n",
    "        \n",
    "        for idx, entry in tqdm(list(enumerate(entries))):\n",
    "            if not entry['type_of_reference'] == 'CHAP':\n",
    "                continue\n",
    "            if 'notes_abstract' in entry:\n",
    "                pub_title = ' '.join(entry['notes_abstract'].split()).strip()\n",
    "            else:\n",
    "                # this means that we weren't able to structure the item via the LLM...\n",
    "                pub_title = ' '.join(entry['title'].split()).strip()\n",
    "            pub_id = title2id[pub_title]\n",
    "            containing_title = None\n",
    "            try:\n",
    "                containing_id = rev2ref[pub_id]\n",
    "                containing_title = id2title[containing_id]\n",
    "            except KeyError:\n",
    "                continue\n",
    "\n",
    "            if containing_title:\n",
    "                #print(pub_title[:80], title2id[pub_title])\n",
    "                #print('       ->', containing_title)\n",
    "                entry['custom3'] = containing_title\n",
    "                entries[idx] = entry\n",
    "\n",
    "        out_ris_path = ris_path.replace('.ris', f'_link_{decade}.ris')\n",
    "        with open(out_ris_path, 'w') as bibliography_file:\n",
    "            rispy.dump(entries, bibliography_file)\n",
    "\n"
   ]
  },
  {
   "cell_type": "code",
   "execution_count": 19,
   "metadata": {},
   "outputs": [
    {
     "name": "stdout",
     "output_type": "stream",
     "text": [
      "312401\n"
     ]
    }
   ],
   "source": [
    "pub_title = 'Caers, Bram en Mike Kestemont. The cultural and historical context of the low countries. In: The Arthur of the Low Countries: the Arthurian legend in Dutch and Flemish literature; Bart Besamusca & Frank Brandsma (ed.). Cardiff: University of Wales Press, 2021, p. 7-30. (Arthurian literature in the Middle Ages; X).'\n",
    "pub_id = title2id[pub_title]\n",
    "print(pub_id)"
   ]
  },
  {
   "cell_type": "markdown",
   "metadata": {},
   "source": [
    "## Themanummers"
   ]
  },
  {
   "cell_type": "code",
   "execution_count": 20,
   "metadata": {},
   "outputs": [
    {
     "data": {
      "text/plain": [
       "(['Deijl, Lucas van der. In: Nederlandse letterkunde (Amsterdam): 25 (2020) 3 (dec) 281-283.'],\n",
       " ['Kestemont, Mike & Luc Herman. Kunnen machines (literatuur) lezen? In: Theorie en de digitale geesteswetenschappen; red. Mike Kestemont en Dirk van Hulle. Speciaal nummer van: Tijdschrift voor Nederlandse taal- en letterkunde, TNTL (Leiden): 135 (2019) 4, 316-328.',\n",
       "  'Velde, Freek van de, Karlien Franco & Dirk Geeraerts. Reality check voor de kwantitatieve Nederlandse taalkunde: laveren tussen de Scylla van het conservatisme en de Charybdis van de zelfgenoegzaamheid. In: Theorie en de digitale geesteswetenschappen; red. Mike Kestemont en Dirk van Hulle. Speciaal nummer van: Tijdschrift voor Nederlandse taal- en letterkunde, TNTL (Leiden): 135 (2019) 4, 329-343.',\n",
       "  \"Zundert, J. J. van & K. H. van Dalen-Oskam. Joris en Karina's Holistisch Letterkundig Onderzoeksbureau. In: Theorie en de digitale geesteswetenschappen; red. Mike Kestemont en Dirk van Hulle. Speciaal nummer van: Tijdschrift voor Nederlandse taal- en letterkunde, TNTL (Leiden): 135 (2019) 4, 357-372.\",\n",
       "  'Smeets, Roel. Tussen de regels: representatie-kritiek in de Digital Humanities. In: Theorie en de digitale geesteswetenschappen; red. Mike Kestemont en Dirk van Hulle. Speciaal nummer van: Tijdschrift voor Nederlandse taal- en letterkunde, TNTL (Leiden): 135 (2019) 4, 373-383.',\n",
       "  'Sijs, Nicoline van der. Historische taalkunde en Digital Humanities: samen naar een mooie toekomst. In: Theorie en de digitale geesteswetenschappen; red. Mike Kestemont en Dirk van Hulle. Speciaal nummer van: Tijdschrift voor Nederlandse taal- en letterkunde, TNTL (Leiden): 135 (2019) 4, 384-405.',\n",
       "  'Stronks, Els. De macht van het woord met het getal ontleed. In: Theorie en de digitale geesteswetenschappen; red. Mike Kestemont en Dirk van Hulle. Speciaal nummer van: Tijdschrift voor Nederlandse taal- en letterkunde, TNTL (Leiden): 135 (2019) 4, 406-415.',\n",
       "  'Craenenbroeck, Jeroen van & Marjo van Koppen. Theoretische taalkunde in het digitale tijdperk: a match made in heaven. In: Theorie en de digitale geesteswetenschappen; red. Mike Kestemont en Dirk van Hulle. Speciaal nummer van: Tijdschrift voor Nederlandse taal- en letterkunde, TNTL (Leiden): 135 (2019) 4, 416-432.',\n",
       "  'Dijn, Melina de, Eline Zenner, Stefano de Pascale & Liesbet Heyvaert. Hoe digital zijn de humanities-opleidingen?: een perceptiestudie aan de faculteit Letteren van KU Leuven. In: Theorie en de digitale geesteswetenschappen; red. Mike Kestemont en Dirk van Hulle. Speciaal nummer van: Tijdschrift voor Nederlandse taal- en letterkunde, TNTL (Leiden): 135 (2019) 4, 433-452.',\n",
       "  'Temmerman, Tanja en Jeroen van Craenenbroeck. Over corpora, intuïties, en idiomen. In: Theorie en de digitale geesteswetenschappen; red. Mike Kestemont en Dirk van Hulle. Speciaal nummer van: Tijdschrift voor Nederlandse taal- en letterkunde, TNTL (Leiden): 135 (2019) 4, 453-464.',\n",
       "  'Hulle, Dirk van. De logica van de tekstversie in digitaal geschreven literatuur. In: Theorie en de digitale geesteswetenschappen; red. Mike Kestemont en Dirk van Hulle. Speciaal nummer van: Tijdschrift voor Nederlandse taal- en letterkunde, TNTL (Leiden): 135 (2019) 4, 465-477.'])"
      ]
     },
     "execution_count": 20,
     "metadata": {},
     "output_type": "execute_result"
    }
   ],
   "source": [
    "def special_issue_references(pub_title):\n",
    "    reviews, articles = [], []\n",
    "\n",
    "    try:\n",
    "        pub_id = title2id[pub_title]\n",
    "    except KeyError:\n",
    "        return None, None\n",
    "    \n",
    "    for entry in ref2revs[pub_id]:\n",
    "        entry_title = None\n",
    "        try:\n",
    "            entry_title = id2title[entry]\n",
    "        except KeyError:\n",
    "            continue\n",
    "        \n",
    "        if title2ptype[entry_title] == 'recensie':\n",
    "            reviews.append(entry_title)\n",
    "        elif title2ptype[entry_title] == 'artikeltijdschrift':\n",
    "            articles.append(entry_title)\n",
    "\n",
    "    return reviews, articles\n",
    "\n",
    "    \n",
    "pub_title = 'Theorie en de digitale geesteswetenschappen; red. Mike Kestemont en Dirk van Hulle. Hilversum: Verloren, 2019. 177 p. Speciaal nummer van: Tijdschrift voor Nederlandse taal- en letterkunde, TNTL (Leiden): 135 (2019) 4, 301-477.'\n",
    "special_issue_references(pub_title)"
   ]
  },
  {
   "cell_type": "code",
   "execution_count": 21,
   "metadata": {},
   "outputs": [],
   "source": [
    "def get_jour_by_title(decade_folder):\n",
    "    jour_file = f'{decade_folder}/JOUR_consolidated.ris'\n",
    "    with open(jour_file) as f:\n",
    "        entries = rispy.load(f, encoding='utf-8')\n",
    "\n",
    "    jour_by_title = {}\n",
    "    for entry in entries:\n",
    "        if not entry['type_of_reference'] == 'JOUR':\n",
    "            continue\n",
    "\n",
    "        if 'notes_abstract' in entry:\n",
    "            jour_title = ' '.join(entry['notes_abstract'].split()).strip()\n",
    "        else:\n",
    "            # this means that we weren't able to structure the item via the LLM...\n",
    "            jour_title = ' '.join(entry['title'].split()).strip()\n",
    "    \n",
    "        jour_by_title[jour_title] = entry\n",
    "    \n",
    "    return jour_by_title\n",
    "\n",
    "def aggregate_special_issue_info(jour_by_title, article_titles):\n",
    "    fields = ['journal_name', 'number', 'volume', 'ISSN']\n",
    "    cnt = defaultdict(Counter)\n",
    "    for article_title in article_titles:\n",
    "        try:\n",
    "            entry = jour_by_title[article_title]\n",
    "        except KeyError:\n",
    "            continue\n",
    "\n",
    "        for f in fields:\n",
    "            if f in entry:\n",
    "                cnt[f][entry[f]] += 1\n",
    "\n",
    "    aggregated = {}\n",
    "    if cnt:\n",
    "        for f in fields:\n",
    "            if f in cnt:\n",
    "                try:\n",
    "                    aggregated[f] = cnt[f].most_common(1)[0][0]\n",
    "                except ValueError:\n",
    "                    aggregated[f] = None\n",
    "\n",
    "    return aggregated\n"
   ]
  },
  {
   "cell_type": "code",
   "execution_count": 22,
   "metadata": {},
   "outputs": [
    {
     "name": "stdout",
     "output_type": "stream",
     "text": [
      "::: ../data/llm-dump/misc :::\n",
      "../data/llm-dump/misc/JFULL_consolidated.ris\n"
     ]
    },
    {
     "name": "stderr",
     "output_type": "stream",
     "text": [
      "100%|██████████| 6051/6051 [00:00<00:00, 208402.99it/s]"
     ]
    },
    {
     "name": "stdout",
     "output_type": "stream",
     "text": [
      "Artikels: Caers, Agnès. Renaat Ramon, le renaissant. In: Archipel (Antwerpen): (2007) 25, 11-31. | Germoz, Alain. In memoriam Wann\n",
      "Artikels: Hendrickx, Harrie. Anton van de Velde (1895-1983). In: Scot (Schoten): 41 (2014) 148 (aug) 14.090-14.111. | Hendrickx, H\n",
      "Artikels: Sergier, Matthieu. Tussen verlangen en ontnuchtering: oscillatie en proliferatie in de romans van Frans Kellendonk (1951\n",
      "Artikels: Boereboom, M. In memoriam Robert Herberigs (19 juni 1886 - 20 september 1974). In: Jaarboek; Koninklijke Academie voor W\n",
      "Artikels: Dierick, A. P. Modernist tendencies in the literature of te Low Countries 1880-1920. In: The Low Countries: division and\n",
      "Artikels: Schoors, Antoon. Bijbel en bijbelvertalingen. In: Dossier I: \"Bijbelvertalen voor de eenentwingste eeuw\". Speciaal gedee\n",
      "Artikels: Pessemier 's Gravendries, Paul de. De kunstenaarsconnectie rond het Slot van Laarne tijdens het interbellum. In: Histori\n",
      "Artikels: Leys, O. Kanttekeningen bij de zinsnegatie in het Nederlands. In: Leuvense bijdragen (Leuven): 98 (2012) 188-200. | Dros\n",
      "Artikels: Fraeters, Veerle & Frank Willaert. De vrome hartstocht van Hadewijch: dertiende-eeuwse minnemystiek. In: AlfabetA (Antwe\n",
      "Artikels: Paulussen, H.; L. Macken, J. Trushkina, P. Desmet, W. Vandeweghe. Dutch Parallel Corpus: a multifunctional and multiling\n",
      "Artikels: Kourie, Celia. The Trinitarian mysticism of Jan van Ruusbroec (1293-1381). In: Studies in spirituality (Leuven): 18 (200\n",
      "Artikels: Vloeberghs, Katrien. Pedagogie van de herinnering: de Holocaust in de jeugdliteratuur vandaag. In: Bijdragen tot de eige\n",
      "Artikels: Bollen, Luc. Aan Eddy Alfred Ots...: een afscheid. In: Gooik (Gooik): 17 (2002) 58 (dec) 15. | Ots, Eddy A. Cypriaan Ver\n",
      "Artikels: Bouchaute, Piet van. Toespraak. In: Bijdragen aan de geschiedenis van het kanton Hamme (Hamme): 16 (2008) 7-25. | Herden\n",
      "Artikels: Heijting, W. \"Voorsichtich ghelyck de slangen: en onnoosel als de duyven\": de Dordtse uitgever François Boels. In: J. va\n",
      "Artikels: Haven, Cornelis van der. Neptun die Arme abgeschlagen...: Die literarische Entmythologisierung der freien Handelsstadt i\n",
      "Artikels: Besamusca, Bart. The prevalence of verse in medieval Dutch and English Arthurian fiction. In: The journal of English and\n",
      "Artikels: Gilliams, Maurice. Aantekeningen over de dichters van het Vlaamse vaderland. In: De boekenmolen (Amsterdam): 7 (1939) 3 \n",
      "Artikels: Vooys, C. G. N. de. Een belangrijk probleem miskend. In: Dietsche warande en Belfort: 22 (1922) 3 (mrt) 257-263. | Weste\n",
      "Artikels: Stoughton, Nigel. The first foreign phrasebook: Noel van Barlement's \"Colloquia et dictionariolum\". In: The book collect\n",
      "Artikels: Bogaert, Julie van & Timothy Colleman. On the grammaticalization of \"('t) schijnt\" \"it seems\" as an evidential particle \n",
      "Artikels: Briele, Luc van den. Het toneelwerk van Filip de Pillecyn. In: Filip de Pillecyn studies (Hamme): 7 (2011) 7-81. | There\n",
      "Artikels: Mandos, H. Een zestiende- eeuws Tilburgs registertje met spreekwoorden. In: Actum Tilliburgis (Tilburg): 9 (1978) 1, 25-\n",
      "Artikels: Everaerts, Jan-Pieter. Frans Buyens: stamvader van de Belgische \"sociale cinema\". In: Film en televisie (Brussel): (2004\n",
      "Artikels: Huijnink, Jan. 'Het stenen gezicht' gedroomd. In: Vestdijkkroniek (Heelsum): (2007) 110 (dec) 49-65. | Fobelets, Glen. D\n",
      "Artikels: Reijnders, Karel. H. H. J. Maas: kroniekschrijver van misstanden. In: Brabantia ('s-Hertogenbosch): 6 (1957) 193-202.\n",
      "Artikels: Knibbe, Hester. Beste Hadewijch, Rotterdam, mei 2007. In: Hadewijch; samenstelling Hans Groenewegen. Speciaal nr. van: R\n",
      "Artikels: Honings, Rick. 'Oranje boven! het Vrycorps onder!': de letterkundige verwerking van het oproer van ' 1784' in Leiden. In\n",
      "Artikels: Gussenhoven, C. and R.H. Bremmer Jr. Voiced fricatives in Dutch: sources and present-day usage. In: NOWELE (Odense): (19\n",
      "Artikels: Keyser, P. de. De kunsthistorische betekenis van \"Den getrouwen leidsman in Rome\" van Wibrand de Geest de Jonge. In: Gen\n",
      "Artikels: Rooden, Aukje van, Frans Ruiter & Wilbert Smulders. De ethiek van de autonomie. In: Wijsgerig perspectief (Amsterdam): 5\n",
      "Artikels: Herreman, R. Proeve van inleiding tot het werk van F. V. Toussaint van Boelaere. In: Forum (Rotterdam): 4 (1935) 3 (mrt)\n",
      "Artikels: Dietz, Feike. Sprekende beelden, sprekende woorden. In: Kunstlicht (Amsterdam): 30 (2009) 3-4, 40-46. | Schoor, Rob van \n",
      "Artikels: Wesselo, J. J. Boon en de bende van Boin. In: Raam (Tilburg/Utrecht): (1972) 90 (dec) 56-62. | Wesselo, J. J. Een zanger\n",
      "Artikels: Groenewegen, Hans. Alom afwezige. In: Bres ('s-Gravenhage): (2006) 237, 72-78.\n",
      "Artikels: Buikema, R.L., E. Wesseling. Contesting consensus culture: the case of Dutch Gothic. In: Journal of European studies: 41\n",
      "Artikels: Jacobs Barensen, P. M. Martinus Nijhoff III: in de voetstappen van de vreemdeling (over Het Uur U). In: In de waagschaal\n",
      "Artikels: Eggermont-Molenaar, Mary. De Grauwe Beer en de Graaf in \"De indiaan\" van Simon Vestdijk. In: Canadian journal of Netherl\n",
      "Artikels: Ginneken, J. J. A. van. De smak- of zuigklanken. In: Onze taaltuin (Maastricht): 7 (1938) 3 (juli) 69-94. | Roy van Zuyd\n",
      "Artikels: Weststeijn, Arthur. The power of 'pliant stuff': fables and frankness in seventeenth-century Dutch republicanism. In: Jo\n",
      "Artikels: Wilbrink, Hans. Hildegard en Hadewijck, mystiek van uitkeer en inkeer. In: Madoc (Utrecht): 20 (2006) 3 (najaar) 160-168\n",
      "Artikels: Thoomes, Daan. Vredesopvoeding à la Bollnow. In: Voorwerk (Amsterdam): 16 (2000) 2, 50-55.\n",
      "Artikels: Keymeulen, Jacques van. Afrikaans en de Nederlandse kustdialecten. In: Bulletin des séances; Académie Royale des Science\n",
      "Artikels: Bel, Jacqueline. Congo, de missie en de literatuur: over David van Reybrouck, J. G. Schoup en Amaat Vyncke. In: Tydskrif\n",
      "Artikels: Simon, Eckehard. The case for medieval philology. In: Comparative literature studies (Pennsylvania): 27 (1990) 1, 16-20.\n",
      "Artikels: Goossens, Jan. In memoriam Gilbert A. R. de Smet. In: Korrespondenzblatt des Vereins für Niederdeutsche Sprachforschung \n",
      "Artikels: Daems, F. Beter (leren) spellen in 2005? In: Nova et vetera (Brussel): 83 (2005-2006) 3 (feb 2006) 146-163.\n",
      "Artikels: Klein, Ben. Reine pohesie. In: Het Kahier (Antwerpen): (1958) 11, 36-38.\n",
      "Artikels: Portret: Herman Teirlinck. In: Getuigen voor kunst (Gent): 45 (2003) 1 (jan) 24-25. | Debeck, Willem. Portret: Egied Ste\n",
      "Artikels: Speliers, Hedwig. Oude koeien uit de (nieuwe) sloot halen. In: Diagram (Antwerpen): 1 (1963-1964) 1 (jan 1963) 92-93. | \n",
      "Artikels: Bousset, Hugo. Tocht naar binnen. In: Dimensie: 1 (1976-1977) 4 (juli 1977) 149-152.\n",
      "Artikels: Stroop, Jan. Het ABN: onmisbare spreeknorm en 'decoder': uniforme uitspraak als redmiddel van communicatie. In: Onze taa\n",
      "Artikels: Jespers, Henri-Floris. Ludo Andries' spiegelvrees. In: Trap (Antwerpen): 4 (1978-1979) 1 (okt 1978) [7].\n",
      "Artikels: Gysen, René. Het groeiend onbehagen van Hugo Raes. In: Kunst van nu (Amsterdam): 3 (1965-1966) 12 (dec 1966) 4.\n",
      "Artikels: Brandsma, Titus. Groei en uitbloei van het mystieke leven volgens de H. Teresia en den Z. Joannes Ruusbroec. In: Ruusbro\n",
      "Artikels: Bobine, Rik. Van en over Walschap. In: Lektuurgids (Antwerpen): 17 (1970) 5-6, 135-136.\n",
      "Artikels: Andriesse, Peter. [Kroniek]. In: Seq (Amsterdam): 1 (1969) 1 (mrt) 19.\n",
      "Artikels: Delvigne, Rob. Hofland in ongenade bij Hermans. In: De God van Nederland (Amsterdam): 1 (2011-2012) 1 (okt 2011) 22-23. \n",
      "Artikels: Geeraerts, Jef. Ik ben een linkse bourgeois. In: Werk van nu (Brussel): 2 (1967) 103-108.\n",
      "Artikels: Slechten, Patrick, Lambert Maurussen. Bilzers aan het Frans ontleend. In: Bilisium (Bilzen): 38 (2013) 1 (feb-mrt) 5594-\n",
      "Artikels: Geerts, Ton. \"Eene opzettelijke misleiding\": drie \"nieuwe\" bedriegers van Willem Bilderdijk. In: Het Bilderdijk-Museum (\n",
      "Artikels: De Roode Roos: zinnespelen en andere tooneelstukken der zestiende eeuw; voor het eerst naar het Hasseltsche handschrift \n",
      "Artikels: Pierrard, J. M. Thierry Coelde. In: Ucclensia (Ukkel): (1979) [77] (sep) 1-5. | Huygen, Kris. Herman Teirlinck (1879-196\n",
      "Artikels: Vannoppen, Henri. Literair en artistiek toerisme in Midden-Brabant. In: Midden-Brabant (Kortenberg): 18 (2003) 1 (jan-mr\n",
      "Artikels: Andeweg, Agnes. Een oud-Zeeuwse vaderlandse Sage? De Vliegende Hollander, Terneuzen en het ANV. In: Neerlandia (Gent): 1\n",
      "Artikels: Veen, Adriaan van der. De weg naar literaire integratie. In: Studium generale (Leiderdorp): 8 (1962) 9 (sep) 278-284.\n",
      "Artikels: Antwerpen-Centraal viert feest met een literaire stationsroman: Herman Brusselmans, Joke van Leeuwen, Tom Naegels, Anne \n",
      "Artikels: Korteweg, Anton. \"Beneden steeds die astmahoest van Gerrit Borgers\": het Letterkundig Museum in de literatuur. In: Jaarb\n",
      "Artikels: Goddeeris, John. Lagae's herdenkingsplaat voor moeder Gezelle te Wingene. In: Mandeldal (Roeselare): 23 (1998) 5 (sep-ok\n",
      "Artikels: Overlijden: E. H. Suenaert; Gaston van der Gucht. In: Mededelingen van de Heemkundige Kring van Erpe-Mere (Mere): 49 (20\n",
      "Artikels: Seberechts, Frank. Overweldigd door muziek: Jos Watelet (1881-1951). In: De krijter (Wommelgem): 37 (2003) 7-25.\n",
      "Artikels: Bosmans, Jos. Miéver kal. In: De Reengenoten (Meeuwen): 1 (1980-1981) 1 ([1980]) 19-20; 2 ([1981]) 14-15. | Bosmans, Jos\n",
      "Artikels: Pennynck, Stefaan. \"Daniël, mijn vriend\": voorstelling en analyse van een kortverhaal van Gaston Duribreux als literair \n",
      "Artikels: Roland Holst, A. Twee dichters terzijde. In: Tirade (Amsterdam): 10 (1966) 118 (okt) 638-640. | Siebelink, Jan. Alles wo\n",
      "Artikels: Camp, Modest van. De geschiedschrijver van Merksem: Floris Prims °1882-+1954. In: Kijkuit (Merksem): 32 (2004) 126, 27-3\n",
      "Artikels: Peleman, Luc. De Durme tussen gisteren en vandaag (10): Poëzie - deel 1. In: Braem (Elversele): 47 (2015) 1 (mrt) 6-24. \n",
      "Artikels: Opening tentoonstelling \"Een huis, een havenlicht\": kunstcollectie Anton van Wilderode te gast in Melle Transept PC Cari\n",
      "Artikels: Mertens, Phil. Paul van Ostaijen, promotor van de moderne schilderkunst. In: Artisjok (Deurne): 1 (1968) 2 (apr) 47-56.\n",
      "Artikels: Blondeel, Werner. Familienamen te Ingelmunster I-XII. In: Heemkundige Kring Den Hert (Ingelmunster): 10 (1989) 20 (dec) \n",
      "Artikels: Segers, Gerd. Een dankwoord herschreven. In: P.E.N.-tijdingen: (2010) 1 (jan-mrt) 46-49. | Istendael, Geert van. Fragmen\n",
      "Artikels: Declercq, Gerard. Een vergeten West-Outerse beroemdheid: Jozef Samyn. In: Dovie-kroniek (Kemmel): 2 (1989) 1, 8-11. | Be\n",
      "Artikels: Messet, H. Lettres néerlandaises. In: Mercure de France (Paris): 19 (1980) 75 (sep-oct) 355-359.\n",
      "Artikels: Mierlo, J. Van, jr. [Over: Hermans, Godfried. Wereldeinde. Brussel: De Vlaamsche Boekhandel, 1907]. In: Jong Dietschland\n",
      "Artikels: Cammaerts, Émile. Guido Gezelle, prêtre-poète. In: Revue de Belgique (Bruxelles): 42 (1909) IIème série, 56 (août) 297-3\n",
      "Artikels: Esman, Eddy. 'Je moet altijd enige deemoed aan de dag leggen': Johan Doesburg en Kees Hulst en het script voor 'Tirza'. \n",
      "Artikels: Madelein, Christophe. Juigchen in den adel der menschelijke natuur: het verhevene in de Nederlanden (1770-1830). In: B.G\n",
      "Artikels: Taal in bedrijf. In: Van Dale taalbrief (Utrecht): 4 (1995) 1-2, 5-6; 4 (1995) 3, 5-6; 4 (1995) 4, 5-6; 4 (1995) 5, 5-6;\n",
      "Artikels: In memoriam Leo Geerts. In: Schrijversblad (Antwerpen): 1 (1991-1992) 1 (okt 1991) 2. | Hand en schouder: [interview met\n",
      "Artikels: Veer, Janneke van der. \"Uit de chaos komt het licht\": portret van margedrukker Silvia Zwaaneveldt. In: Boekenpost (Groni\n",
      "Artikels: Royen, Harry van. Moord versus volkslied. In: Osschaert (Hamme): 3 (1989) 4, 77-84. | Roover, R. de. Edward Poppe en Fil\n",
      "Artikels: Gevaert, Gerard. Kruishoutems dialect = Kersoudems diejalekt. In: Jaarboek \"Hultheim\" (Kruishoutem): 1 (2002 [versch. 20\n",
      "Artikels: Schelde, Jan Van de. \"De Witte\" als filmstar. In: Tooneelleven (Antwerpen): 1 (1934-1935) 2 (6 oktober 1934) 20-22. | Bo\n",
      "Artikels: Gerardimontium of Geroladimontem [sic]? Geraardsbergen of Geraldsberg? door Jan Coppens. In: De heemschutter (Geraardsbe\n",
      "Artikels: Ambrozijn twintig jaar in broosheid gedragen: een terugblik op de jubileumactiviteiten. In: Ambrozijn (Vleteren): 20 (20\n",
      "Artikels: Janssens, Marcel. Met taal als hoofdthema. In: Openbaar (Antwerpen): 32 (2002) 1 (jan-mrt) 3-10. | Splenter, Myriam de. \n",
      "Artikels: Verbeke, Annelies. Een opgemerkt debuut van Annelies Verbeke. In: VFL-bulletin (Berchem): (2005) 1 (juli-sep) 11. | Hond\n",
      "Artikels: Marchand, James. Professor doctor Marcel Hoebeke: een bibliografie en een hommage. In: Handelingen van de Geschied- en O\n",
      "Artikels: Johach, Eva. Schwärmen nach fernen Geliebten: Naturpoesie und Geschlechtermetaphysik in Maurice Maeterlincks \"Das leben \n",
      "Artikels: Beerkens, Roos. Rezeptiver Multilingualismus im deutsch-niederländischen Grenzgebiet: ein Vergleich der internationalen \n",
      "Artikels: Hollander, A. A. den en U. B. Schmid. Zur Geschichte einer verlorenen mittelniederländischen Evangelienharmonie: Die Han\n",
      "Artikels: Berg, Marcel van den. Een boekje vol vriendschap: het poëziealbum in Vlaanderen. In: Ethnologia Flandrica (Leuven): 21 (\n",
      "Artikels: Lampo, Jan. \"Neen, Lampo wijst ons niet naar het Oosten\": de receptie van het vroege werk van Hubert Lampo in de pers va\n",
      "Artikels: Rost, Nico. Een uitermate schadelijke bekroning. In: Nieuwe stem (Arnhem): 17 (1962) 5 (mei) 290-296. | Verburg-Brinkman\n",
      "Artikels: Outers, Jean-Luc. Editorial: la mort d'Hugo Claus. In: Le carnet et les instants (Bruxelles): (2008) 152 (mai) 1. | Crug\n",
      "Artikels: Demeulenaere, Nadine. Kerkhofblommen voor Eduard van den Bussche (1840-1858). In: Het gebied van Staden (Staden): (2001)\n",
      "Artikels: Helsen, Jos. Van het Oosteneinde tot het Wetschot: bijdrage tot de toponymie van de fusiegemeente Beerse. In: Jaarboek H\n",
      "Artikels: Vanderhaeghe, Pat. Begeesterd door taal: interview met Nienke Rooijakkers. In: Acc'enten (St.-Niklaas): 7 (2002-2003) 1 \n",
      "Artikels: Lateur, Patrick. Stijn Streuvels en Ausonius' \"Mosella\": lezing voor het Stijn Streuvelsgenootschap bij de voorstelling \n",
      "Artikels: Horsten, Toon. Jakob Smits en Jan van Nijlen: vrienden voor het leven, en wat erna komt. In: Jakob Smits (Mol): 29 (2006\n",
      "Artikels: Winkel, Roel Vande & Ine Van linthout. Een Duitse Schellebelle. In: Mores (Brussel): 8 (2007) 1 (jan-mrt) 12-14. | Jacob\n",
      "Artikels: Huys, Paul. Bij een dichtbundel van molinoloog Paul Bauters. In: Molenecho's (Zulte): 35 (2007) 3-4 (aug-dec) 376-377. |\n",
      "Artikels: Groot, Peter de. Dialogisch: interview met Joep Kuiper. In: Krakatau (Rotterdam): (2004) 25, [10-14]. | Belleman, Bas. P\n",
      "Artikels: [Onderwijs aan buitenlanders]. In: Nederlands buitengaats (Brussel): (1977) 1 ([feb]) 1-21. | Van de Woestijne herdacht.\n",
      "Artikels: Hanssens, Dirk. Bidden met poëzie. In: Aggiornamento: 38 (2006) 1 (jan-mrt) 52-61. | Blijlevens, Klaas. Minne heeft mij \n",
      "Artikels: Louis, Yves. Biografie van Frans Dumoleyn, chirurg en humanist (1871-1922); met aanvullingen door Frank Baete. In: De Tw\n",
      "Artikels: Hulle, Jooris van. Renaat Ramon: dichter, essayist, beeldend kunstenaar. In: Letternieuws (Merksem): 20 (2008) (3e trim)\n",
      "Artikels: Thijs, Alfons. Het schouwtoneel van de eerste generatie Antwerpse volkskundigen: vriendschappen en tegenstellingen (1887\n",
      "Artikels: Humbeeck, Kris. L. P. Boon, het erotische/pornografische werk. In: Alumni (Antwerpen): 4 (2008) 2 (juli) 14-15. | Portoc\n",
      "Artikels: Verstraete, Erik. De dood met de kogel: een roman over Leo Vindevogel. In: Malpertuus (Antwerpen): (2006) (juli-sep) 3-8\n",
      "Artikels: Smedts, Willy. ANNA. In: Mededelingenblad van de Leuvense Germanistenvereniging (Leuven): 24 (2011) 2, 1-4. | Nulens, De\n",
      "Artikels: Verstraete, Erik. Ernest van der Hallen, pelgrim naar het licht. In: De pelgrim (Mechelen): 25 (2009) 96 (mrt) 18-21.\n",
      "Artikels: Le Loup, Willy. Gezelle en Streuvels. In: Museumbulletin (Brugge): 27 (2007) 3 (juli-sep) 15. | Le Loup, Willy. Het Guid\n",
      "Artikels: Brems, Elke. Een lek in het zwijgen. In: Muziek & woord (Brussel): 33 (2007) 394 (juli) 17. | Peeters, Patrick. Een daad\n",
      "Artikels: Peeters, Evert. Onstuitbare tijd: de melancholische ondertoon van de romantische geschiedschrijving in België. In: Feit \n",
      "Artikels: Boerrigter, Reina. Straatnamen, een kwestie van betekenis. In: Respons (Amsterdam): (2003) 6, 5-12. | Berg, Boudewijn va\n",
      "Artikels: Gijsen, Marnix. Ecce homo. In: K & C: kunst & kultuuragenda (Brussel): 1 (1968) 31 (23 okt) 16. | Gijsen, Marnix. Gangre\n",
      "Artikels: Noordegraaf, Jan. Nederlands na Stuyvesant (1602?-1672): honderd jaar studie van het \"Leeg Duits\" (Low Dutch). In: CAANS\n",
      "Artikels: Roland Holst, A. Van Eeden vrijgesproken [gevolgd door] Van twee landen. In: Mededelingen; Frederik van Eeden-Genootscha\n",
      "Artikels: Musschoot, Anne-Marie. In memoriam Antonin van Elslander. In: Annales; Fondation Maurice Maeterlinck (Gand): 32 (2001) 1\n",
      "Artikels: Feitsma, A. Interlingual communication Dutch-Frisian: a model for Scotland? In: Fryx (Leeuwarden): 5 (1984) 4 (sep) 97-1\n",
      "Artikels: Devriese, Luc. Watergebonden plaatsnamen: in het middeleeuwse Gent: een alfabet. In: Gandavum (Sint-Amandsberg): 11 (200\n",
      "Artikels: Mourik, C. van. C.O. Jellema: freon en dichter. In: Lyts Frisia (Grins): 56 (2007) 1 (mrt) 12-15. | Hoekema, T. Ta it Fr\n",
      "Artikels: Klein, Maarten. De beschrijving van het Nederlands in de twintigste eeuw (1-2; slot). In: VakTaal (Bussum): 21 (2008) 1,\n",
      "Artikels: Schutter, Dirk de. \"... bleven de woorden ons in de keel steken\": over kampliteratuur. In: Freespace Nieuwzuid (Kessel-L\n",
      "Artikels: Reugebrink, Marc. Barbarber. In: Yang (Gent): 43 (2007) 3 (okt) 349-351. | Reugebrink, Marc. Daalen, Bob van: Verzamelde\n",
      "Artikels: Wauters, Wendy. \"Extracting the Stone of Madness\" in perspective: the cultural and historical development of an enigmati\n",
      "Artikels: Biemans, J. en H. Jaspers. Straatnamen, 1-18. In: De Aa-kroniek (Budel): 2 (1983) 2, 47-51. | Biemans, J. en H. Jaspers.\n",
      "Artikels: Peeters, Lowie. Het woord als antwoord. In: Rijmtijd (Schoten): (2007) 51 (aug) 5-7. | Zijlstra, Wiro. Gezelleaantekenin\n",
      "Artikels: Dillen, Rosette. Dichter Stan Hodister (°1876 +1954) - ook in Wechel - roemloos vergeten. In: Jaarboek Heemkundige Kring\n",
      "Artikels: Stipriaan, René van. At the speed of writing, and beyond: a short history of the Digital Library of Dutch Literature (DB\n",
      "Artikels: Heyligen, Martin. In memoriam Ivo Michiels. In: Jaarboek Mortselse Heemkundige Kring (Mortsel): (2012-2013) 266-274. | H\n",
      "Artikels: Bolckmans, Miel. De betekenis van de naam Rijkevorsel. In: Jaarboek Heemkundige Kring Rijkevorsel (Rijkevorsel): 30 (200\n",
      "Artikels: Goeminne, Luc. De familienamen Coorevits en Crevits. In: Jaarboek van de Geschied- en Heemkundige Kring \"De Gaverstreke\"\n",
      "Artikels: Rostyne, Rik van de. Jef Tinel en zijn jaren in Maldegem. In: Jaarboek Heemkundige Kring \"Het Ambacht Maldegem\" (Maldege\n",
      "Artikels: Leiker, Sjoerd. In memoriam L. P. J. Braat. In: PEN kwartaal (Maastricht): 13 (1982) 49 (okt) 3-8.\n",
      "Artikels: Vandeginste, Hendrik. \"Torrebrand\": maatschappelijke achtergrond bij een gedicht van Gezelle. In: Het Houtland (Torhout)\n",
      "Artikels: Maes, Herman. Deinze en de Wakkense de Borchgrave. In: Bijdragen tot de geschiedenis van Deinze en de Leiestreek (Deinze\n",
      "Artikels: Aerts, Erik. The multiple cat: aspects of the Medieval and Early Modern relationship between man and cat in the Low Coun\n",
      "Artikels: Vanlandschoot, Romain. 1890-1896: een brandende tijd: achtergronden Tieltse collegejaren René de Clercq (1877-1932). In:\n",
      "Artikels: Hollaar, Henk. Rhetoric before the Dutch revolt: Rotterdam's 1561 rhetoricians' assembly, a proto parliament. In: Europe\n",
      "Artikels: Braekman, W. L. Een nieuw zestiende-eeuws medisch manuscript uit Gelderland. In: Scientiarum historia (Leuven): 31 (2005\n",
      "Artikels: Los, Frans J. Hypothèse: l'affaire des manuscrits \"Oera Linda\". In: Nouvelle école (Paris): ([1973]) 24 (hiver 1973-1974\n",
      "Artikels: Overwijn, J. F. Eenige opmerkingen omtrent het \"Oera Linda boek\". In: Westfriesch jaarboek (Utrecht): ser. 1 (1940) 3, 1\n",
      "Artikels: Gompel, Wim van. Ons eige taol. In: Kroniek van de Kempen (Hapert): (1981 [versch. 1982]) 73-83; (1982 [versch. 1983]) 1\n",
      "Artikels: De gilden van Rhetorica te West-Nieuwkerke in 1614. In: Fragmenta (Tielt): 1ste rks, 3 (1888-1889) 3 (jan 1889) 228-229 \n",
      "Artikels: Kocks, G. H. Oetstuksels. In: Medewerkerscontact Drents woordenboek (Groningen): 4 (1976) 1, 2-5; 2-3, 32; 5 (1977) 1, 1\n",
      "Artikels: Span, A. Thet Oera Linda Bok (het Oera Linda Boek): waarheid of verzinsel? In: Archaeologische berichten (Doetinchem): (\n",
      "Artikels: Drewes, J. B. Pionierschap der Franken onder de Neerlandici? In: Van taal tot taal (Hilversum): 6 (1962) 3 (mei) 52-53.\n",
      "Artikels: Register op Jaarboeken Zannekin nrs. 11 t/m 20; eindred.: M. Cailliau. In: Jaarboek; uitgegeven door de Vereniging/Stich\n",
      "Artikels: Vriendt, Sera de. Over het nut van onderzoek over de grammatica van dialecten. In: Brussels dialect (Brussel): 16 (2007)\n",
      "Artikels: Vanhecke, Johan. Terugkeer naar Atlantis: Houtekiet editie uit 2000. In: De Scheldebode (Purmerend): 6 (2009) 1 (okt) 17\n",
      "Artikels: Kamp, Elly. Ferdinand Bordewijk en Johanna Bordewijk-Roepman: een bijzonder Haags echtpaar. In: Genealogie ('s-Gravenhag\n",
      "Artikels: Poelmans, Wilfried. [Over: Kort Amerikaans: een beeldverhaal; Jan Wolkers [tekst]; Dick Matena [ill.]. Amsterdam: De Bez\n",
      "Artikels: Overlaet, Kim. \"... zo comt men ter stadt van Alkayeren...\": een analyse van de representatie van Caïro in laatvijftiend\n",
      "Artikels: Raemdonck, Bert van, Ron van den Branden. In oorlogsnood: over het dagboek van Virginie Loveling. In: Cahiers de la docu\n",
      "Artikels: Vankersschaever, Sarah. De pasvorm van een gedroomde orde: een analyse van \"De onkuisheid\" van Hugues C. Pernath. In: Me\n",
      "Artikels: Geest, François de. Henri van Daele (1946-2010). In: Jaarboek Heem- en Oudheidkundige Kring van Zele (Zele): 41 (2010 [v\n",
      "Artikels: Bart Plouvier, laureaat Provinciale prijs voor literatuur 2003. In: Jaarboek Gemeentemuseum van Temse (Temse): (2004 [ve\n",
      "Artikels: Polman, Mariël. De atelierwoning van Theo van Doesburg in Meudon-Val-Fleury: \"Kunst is niet 'n zijn, maar 'n worden\". In\n",
      "Artikels: Fred J. A. Mostert. Metathese in Germaanse talen. In: De taalkundige (Brussel): 52 (2006) 1 (jan-mrt) 30-32.\n",
      "Artikels: Jansen, Henrike. De \"eductio ad absurdum\": argumentatievorm versus argumentatieschema. In: Tijdschrift voor taalbeheersi\n",
      "Artikels: Simons, J. [Over: Heijermans, Herman. Brief in schemer; De buikspreker; Een heerenhuis te koop: drie eenakters. Amsterda\n",
      "Artikels: Stappen, Jos van. Edgard Blancquaert en het N.I.R. In: Ter Palen (Buggenhout): 33 (2009) 3 (sep) 81-89. | Stappen, Jos v\n",
      "Artikels: Martens, Erik. 1867: Multatuli flirt met de Vlaamse Beweging. In: Teksten, kommentaren en studies (Wijnegem): (2009) 135\n",
      "Artikels: Wille, Erik. Oorlogsliederen (1914-1918). In: Baeckelandt, Roger, Jos de Doncker, Erik Wille. Herdenking van de \"Groote \n",
      "Artikels: Witte, Muriël de. \"Waar minne één wordt met de mensen...\" (Hadewijch, 29ste brief). In: Nieuw leven (Gent): 57 (2003) 1 \n",
      "Artikels: Severen, Antoon van. A. C. Vander Cruyssen en zijn roman over \"eenen kweekeling\" van de Hervormingsschool (1872). In: Ou\n",
      "Artikels: Nelissen, J. Pater Mathieu Knevels. In: Oters jaarboek (Neeroeteren): 9 (2007) 16-18. | Gerits, Jan. Pieter-Jan Maas (18\n",
      "Artikels: Swinnen, Louis. Een knipoog van Boon naar een molenaar. In: Molse tijdingen (Mol): 14 (2006) 192-195. | Vos, Paul. De ee\n",
      "Artikels: Walschap, Gerard. [Over: Roelants, Maurice. Komen en gaan. Rotterdam: Nijgh & Van Ditmar, 1927]. In: Hooger leven (Averb\n",
      "Artikels: Sluijs, Marleen van der. Cees Wilkeshuis: kennismaking met een veelzijdig schrijver. In: Deventer jaarboek; Vereniging O\n",
      "Artikels: Demedts, André. Zuidnederlandse letterkunde In: De periscoop (Brussel): 27 (1976-1977) 7 (mei 1977) 1; 3. | Demedts, And\n",
      "Artikels: Heiden, Henri van der, Ode aan het woord. Dorsvloer vol Confetti. In: Literatief (Groningen): 24 (2009) 2 (dec) 25. | Sm\n",
      "Artikels: Papin, Kristof. Over marktzangers van en marktliederen uit Poperinge (16e-20e eeuw). In: Aan de Schreve (Poperinge): 30 \n",
      "Artikels: McGinn, Bernard. The significance of Ruusbroec's mystical theology. In: Louvain studies (Louvain): 31 (2006) 1-2 (Spring\n",
      "Artikels: Korte historiek van het tijdschrift Heibel; door de redactie. In: Heibel (Olen): 11 (2006) 1 (jan) 4-5. | Depeuter, Fran\n",
      "Artikels: Hübner, Annemarie. Middelnederduits-Nederlands als specifieke Hamburger combinatie. In: Verslag van het ... Colloquium v\n",
      "Artikels: Moor, Wam de. Op de knieën van verrukking of het innemende gedicht. In: Streven (Antwerpen): 74 (2007) 1 (jan) 66-72. | \n",
      "Artikels: Grüttemeier, Ralf. Sprachskepsis im Modernismus: eine Texteigenschaft?: anhand von Carry van Bruggen: Eva (1927). In: Ne\n",
      "Artikels: Mareel, Samuel. Urban literary propaganda on the battle of Pavia: Cornelis Everaert's \"Tspel van den Hooghen Wynt ende Z\n",
      "Artikels: Ludriks, Huib. Leven als een vorst; 1-2. In: Hermans-magazine (Amsterdam): 15 (2006) 61 (dec) 8-12; 16 (2007) 62 (mrt) 4\n",
      "Artikels: Dera, Jeroen. In de mime van steeds minder plaats: over \"De slalom soft\" van Paul Bogaert. In: Dietsche warande & Belfor\n",
      "Artikels: Kloek, Joost. Politiek pragmatisme versus religieuze rechtzinnigheid: de \"Oratio pro comoedia\" van Pieter Burman en haar\n",
      "Artikels: Ceulemans, Adelheid. Het verleden verklankt in \"De Belgische natie\" van Jacob Kats en Peter Benoit. In: Forum (Antwerpen\n",
      "Artikels: Eickmans, Heinz. \"Vechten tegen de Mannschaft\": über die Verwendung deutscher Wörter in der niederländischen und flämisc\n",
      "Artikels: Mussche, Achilles. Karel van de Woestijne: synthetische beschouwing. In: Mededeelingen van het Karel van de Woestijne-Ge\n",
      "Artikels: Gerits, Jan. Ter nagedachtenis aan Jaak Venken (1926-2006), een vruchtbare Maaslandse volksverteller. In: Heemkunde Limb\n",
      "Artikels: Hart, Maarten 't. De terugkeer naar het heden. In: Maatstaf ('s-Gravenhage): 26 (1978) 2 (feb) 22-37. | Huberts, W.S. Ge\n",
      "Artikels: Hecke, Marc van. Woensdag 28 oktober 1914 - het korte oponthoud van Pater Hilarion Thans te Schellebelle. In: Rond de st\n",
      "Artikels: Posman, André. Onbekende aspecten van Jan Frans Willems. In: Rechtuit (Gent): 14 (2008) 2 (juni) 5-6. | Stynen, Ludo. Wi\n",
      "Artikels: Hoornik, Ed. De nieuwe generatie. In: Groot Nederland (Amsterdam): 37 (1939) II, 12 (dec) 610-619. | Coenen, Frans. [Ove\n",
      "Artikels: Beekman, Klaus. Tegen de avant-garde: estheten en realisten in de tegenaanval op historische avant-gardisten. In: Phrasi\n",
      "Artikels: Schröder, Rudolf Alexander. Flämische Lyrik, II. Guido Gezelle. In: Der Belfried (Leipzig): 1 (1916-1917) 4 (Okt 1916) 1\n",
      "Artikels: Teske, Hans. Der Dichter Filip de Pillecijn. In: Dichtung und Volkstum (Stuttgart): 42 (1942) 3, 15-31.\n",
      "Artikels: Ooms, Miet. De positie van Herk-de-Stad ten opzichte van de Getelijn: op de grens tussen Limburg en Brabant. In: Jaarboe\n",
      "Artikels: Hart, Kees 't. Oe, ie, oe, ah, ah. In: De revisor: jaarboek voor nieuwe literatuur (Amsterdam): 1 (2010) 49-60. | Stoffe\n",
      "Artikels: Fernhout, Ellen van & Hellmuth van Berlo. Vlaams of Nederlands in Noord-Frankrijk? In: De Franse Nederlanden (Rekkem): 3\n",
      "Artikels: Brems, Elke. Noise and nostalgia: the literary identities of Brussels in contemporary Dutch literature. In: The modern l\n",
      "Artikels: Bouws, Everard. Hedendaagsche Nederlandsche Schrijvers. I. Menno ter Braak. In: Die nuwe brandwag (Pretoria): 2 (1930) 4\n",
      "Artikels: Liedekerke, Maurits van. Poëtische bespiegelingen door Edith Claus. In: Het oude land van Edingen en omliggende (Herne):\n",
      "Artikels: Boulonois, Inge. De vreemde vreugde die dat ondenkbare schept: het dubbeltalent Henk van Loenen/Julien Holtrigter. In: D\n",
      "Artikels: Leupen, J. Over Arthur van Schendel en zijn roman \"Een Hollands drama\". In: Bzzlletin (Den Haag): 5 (1976-1977) 38 (sep)\n",
      "Artikels: Hart, Kees 't, Vincent Schmitz en Han van der Vegt. Juryrapport Literaire Prijs van de provincie Gelderland 2011. In: Pa\n",
      "Artikels: Vries, Theun de. De literaire verschijning van S. Vestdijk. In: De stem (Arnhem): 16 (1936) II, 10 (okt) 972-979. | Voor\n",
      "Artikels: Timmerman, Ludo. \"Een gheneuchelijck Spelkensboeck\" uit de zestiende eeuw. In: Jaarboek [van de] Koninklijke Soevereine \n",
      "Artikels: Cosijn, P. J. De glossae Lipsianae. In: De taal- en letterbode (Haarlem): 6 (1875) 1-5.\n",
      "Artikels: Teirlinck, Frank. August de Boeck's music in concerts and broadcasts during the Second World War; translated by Guy A. J\n",
      "Artikels: Mulder, Frank. Nederlandse en Vlaamse denkers - Politieke filosofie: de jaren '30: Menno ter Braak. In: Filosofie magazi\n",
      "Artikels: Kalmthout, Ton van. Translation as a complementary factor in cultural repertoire formation. In: Transfer and integration\n",
      "Artikels: Balogh, Katalin. Over thema's en motieven in de literaire en muzikale vormanalyse. In: AMOS-ETVN (Wenen): 3 (2006) 2 (ju\n",
      "Artikels: Vos, Lukas de. In memoriam: een stuk koloniaal geheugen verdwijnt (Walter Geerts, 1929-2011). In: Meervoud (Brussel): 19\n",
      "Artikels: Weis, Monique. Les interventions de Philippe de Marnix aux assemblées impériales. In: Bulletin - chronique de la Société\n",
      "Artikels: Lijst van de leden van de Vereeniging van Letterkundigen met opgave van hun boeken sinds 1925 verschenen. In: Het boek i\n",
      "Artikels: Jong, Marita de. Levenslang gebrek aan vertrouwen. In: De moanne (Boalsert): 7 (2008) 3 (mrt) 36-39. | Reitsma, Anneke. \n",
      "Artikels: Vanvolsem, Johan. Toponiemen van Groot-Halle: verklarend register (deel III-V). In: Hallensia (Halle): 30 (2008) 1 (jan-\n",
      "Artikels: Klooster, Wim. De toekomst van het Nederlands. In: Nieuwsbrief Orde van den Prince (Antwerpen): 30 (2010-2011) 2 (nov-de\n",
      "Artikels: Aalberse, Suzanne, Jan Don. Person and number syncretisms in Dutch. In: Morphology (Dordrecht): 21 (2011) 2, 327-350.\n",
      "Artikels: Heymans, Frans en Hendrik Defoort. Van Dante Alighieri tot www.literair.gent.be. In: Bibliotheek- & archiefgids (Antwerp\n",
      "Artikels: Delvigne, Rob en Leo Ross: dichter bij Eekhoud. In: Gay (Amsterdam): (2003) 119-128.\n",
      "Artikels: Stronks, Els. Jan Luyken's first emblem book and the revival of the Dutch love emblem. In: Emblematica (New York): 15 (2\n",
      "Artikels: Lenaerts, Romain. Bekende Truienaars: de familie Vriamont. In: De bink (Sint-Truiden): 13 (2010) 50 (3e kwart) 5-13. | R\n",
      "Artikels: Marja, A. Waarde heer Vestdijk. In: Tzum (Groningen): (2008) 43, 42-43. | Heytze, Ingmar. Schetsboek. In: Tzum (Groninge\n",
      "Artikels: Lagast, Alexia. Omitted in manuscript, praised in print: nameless noblemen in the Middle Dutch travel narrative \"Tvoyage\n",
      "Artikels: Vanhecke, Johan. De fotocollectie van het Letterenhuis. In: Mededelingenblad van de Belgische Vereniging voor nieuwste g\n",
      "Artikels: Calsius, Mariet. De schatten van de Wijngaard. In: Tijdingen AMVB (Brussel): 27 (2006) 4 (dec) 17-18. | Peeters, Yvo. De\n",
      "Artikels: Swinnen, Aagje. De gebenedijde woorden van een \"crone\": \"De vermaledijde vaders\" als het ontwikkelingsverhaal van een vr\n",
      "Artikels: Parlevliet, Sanne. Foxing the child: the cultural transmission of pedagogical norms and values in Dutch rewritings of li\n",
      "Artikels: Groenewegen, Rob. Het Niets dat achter alle dingen dreigt: Jo Otten als exponent van de angst en onzekerheid. In: Ons Ro\n",
      "Artikels: Rymenants, Koen. E. du Perron en de \"oorlogsgeneratie\" in Elsevier's Geïllustreerd Maandschrift. In: Cahiers voor een le\n",
      "Artikels: Embrechts, Joke. Groenten uit Balen: een film van Frank van Mechelen. In: Beeld express (Antwerpen): 4 (2011-2012) 5 (ja\n",
      "Artikels: Joby, Chris. The use of Greek in the poetry of Constantijn Huygens. In: Humanistica Lovaniensia (Leuven): 60 (2011) 219-\n",
      "Artikels: Meijer, Maaike. De strategie van de afstand: over het oeuvre van Marga Minco. In: Jan Campertprijzen (Nijmegen): (2005) \n",
      "Artikels: Foncke, R. Vlaamse en Hollandse plaatsnamen in Albrecht Dürer's \"Tagebuch der Reise in die Niderlande\". In: Mededeelinge\n",
      "Artikels: Janssens, B. \"Geloof is alles, behalve door mij bedacht\": belijdenispoëzie van Willem Jan Otten. In: Theologie en litera\n",
      "Artikels: Lissens, R. F. \"Wrakken\": proeve van interpretatie. In: Vormen (Antwerpen): 3 (1938-1939) 12 (apr 1939) 361-376.\n",
      "Artikels: Kwanten, Godfried. Rondom Gezelle: archief Jozef Boets, Gezelle-onderzoeker. In: KADOC nieuwsbrief (Leuven): (2009) 3, 8\n",
      "Artikels: Vandenbussche, Liselotte, Griet Vandermassen, Marysa Demoor & Johan Braeckman. Grappling with evolutionary theory: femin\n",
      "Artikels: Vandepitte, Sonia, Liselotte Vandenbussche & Brecht Algoet. Travelling certainties: Darwin’s doubts and their Dutch tran\n",
      "Artikels: Verstraete, Pieter Jan. \"Ik wil mij niet langer verzetten tegen het verschijnen ervan\": Staf de Clercq en Ward Hermans. \n",
      "Artikels: Boschvogel, F. R. Roem van het Houtland: Warden Oom. In: Berichten uit Hoogrijke (Aartrijke): 6 (2009) 21 (jan-mrt) 3-6.\n",
      "Artikels: De Interprovinciale prijzen [voor letterkunde]. In: Provincie West-Vlaanderen, Dienst voor Culturele Aangelegenheden: ja\n",
      "Artikels: Koenen, Mieke. De erfenis der meesters goed beheerd: vertalingen uit de literaire nalatenschap van Ida Gerhardt. In: Sch\n",
      "Artikels: Dendale, Patrick, Frank Brisard & Willy Vandeweghe. Bref historique du Cercle belge de linguistique. In: Ceci est-il de \n",
      "Artikels: Thienen, Jos van. De mannelijke kraambedmetafoor in \"De draaideur\" van A. F. Th. van der Heijden. In: Het persoonlijke i\n",
      "Artikels: Cornet, Ineke and Martin Sebastian Kallungal. Why study liturgical mysticism?: a historico-systematic theological reflec\n",
      "Artikels: Dijck, Leen van. Letterenhuis: erkenning. In: Jaarverslag Musea Antwerpen; Stad Antwerpen (Antwerpen): 1 (2003 [versch. \n",
      "Artikels: Boas, Jacob. Networking Exile: Going Dutch Émigré Writers in the Netherlands, 1933–1940, and One Dutchman’s Assessment (\n",
      "Artikels: Marsman, H. Traditie en vernieuwing. In: De Vrije bladen (Amsterdam): 3 (1926) 1 (jan) 5-8. | Marsman, H. De sprong in h\n",
      "Artikels: Korsten, Frans-Willem. Apostrophe, witnessing and its essentially theatrical modes of address: Maria Dermoût on Pattimur\n",
      "Artikels: Dietz, Feike, Els Stronks. German religious emblems as stimuli of visual culture in the Dutch Republic. In: Church histo\n",
      "Artikels: Verstraete, Erik. Hendrik Carette: romantisch dichter, Diets aristocraat, erudiete spotvogel. In: ADJV-schriften (Ieper)\n",
      "Artikels: Dols, W. Iets over Limburgsche dialecten. In: Publications de la Société Historique et Archéologique dans le Limbourg (M\n",
      "Artikels: Deflo, Lionel. De dichter en toneelschrijver Hedwig Verlinde (1945-2009). In: Wibilinga (Wevelgem): 25 (2012) 1, 39-50. \n",
      "Artikels: Vuyst, Julien de. Een hit uit vroeger eeuwen: het geestelijk kaartspel. In: Ons heem (Mechelen): 62 (2009) 4 (okt-dec) 2\n",
      "Artikels: Draye, Henri. [In memoriam Hendrik Willem Klemens Aelvoet]. In: Naamkunde (Leuven): 2 (1970) 3-4, 247.\n",
      "Artikels: Linders, Joke. Feit of fictie: de autobiografie als puzzel. In: Biografie bulletin (Amsterdam): 19 (2009) 3 (najaar) 80-\n",
      "Artikels: Westerbeek, Jette en Karen van Rooijen-Mutsaers. Is het stigma op depressie veranderd?: het verhaal van patiënten. In: T\n",
      "Artikels: Stronks, Els. Never to coincide: the identities of Dutch protestants and Dutch catholics in religious emblematics In: Jo\n",
      "Artikels: Sahm, Heike. Gabe und Gegengabe, Raub und Vergeltung: Reziprozität in der mittelhochdeutschen Epik. In: Zeitschrift für \n",
      "Artikels: Bakker, Matthijs. De vertaler als butler: Kristien Hemmerechts over het vertalen van literatuur. In: Filter (Nijmegen): \n",
      "Artikels: Straeten, Bart van der. Anders dan de dood: liefdesgedichten van Mark Insingel. In: Ons erfdeel (Rekkem): 50 (2007) 4 (n\n",
      "Artikels: Lierop, Karin van \"Oumense het blotvoet gebruik\": Nederlandse taalresten in de variëteiten van het Afrikaans. In: Lexiko\n",
      "Artikels: Woude, Johan van der. Geschiedenis van twee temperamenten. In: Het nieuwe boek (Baarn): 2 (1964) 9-10 (sep-okt) 357-362.\n",
      "Artikels: Campenhout, Nico van. Brigitte Raskin in dialoog met Lucianus van Samosata. In: Tijdingen uit Leuven (Leuven): (2007) 14\n",
      "Artikels: Ryssel, Daniël van. Vergeten Gentse schrijvers: Van Zeve(n)cotte Jacob (Gent) 1596 Harderwijk (NL) 1642). In: Ghendtsche\n",
      "Artikels: Bleeker, Elli. Lezen met generatie M: digitale ontwikkelingen in de kinder- en jeugdliteratuur. In: De leeswelp (Antwerp\n",
      "Artikels: Arnouts, Yella. [Over: Tongele, Mark van. Lichtspraak: gedichten. Amsterdam [etc.]: Atlas, 2008]. In: De leeswolf (Antwe\n",
      "Artikels: Stroobants, A. Dr. Hypolite van Duyse (Dendermonde 1798-1867). In: Dendermondse museum- en archiefberichten (Dendermonde\n",
      "Artikels: Dehaen, Carl. Stijn Streuvels: eeuwfeest van zijn roman De vlaschaard. In: Handelingen Koninklijke Geschied- en Oudheidk\n",
      "Artikels: Huybrechts, Kristin M. Triumphus Iesu oft godliicke lofsangen: een geestelijk liedboek ontstaan in het klooster Sion te \n",
      "Artikels: Kempen, Michiel van. Tien stellingen over Nederlands-Caraïbische letteren. In: Oso (Leiden): 27 (2008) 1 apr) 143-148. |\n",
      "Artikels: Brolsma, Marjet. Bespiegelingen over de ondergang van het Avondland: een casestudy naar cultuurtransfer in Nederlandse t\n",
      "Artikels: Voorwinden, Norbert. In Memoriam Prof. Dr. C. Soeteman. In: Amsterdamer Beiträge zur älteren Germanistik (Amsterdam): 62\n",
      "Artikels: Zonneveld, Peter van. Rumphius in Massachusetts: in memoriam E. M. Beekman (1939-2008). In: Indische letteren (Leiden): \n",
      "Artikels: Daele, Rik van. Wat als... In: Tiecelijn (Sint-Niklaas): 29 (2016) 7-9. | Nieuwenhuis, Mark. Walter van Egmond en Boudew\n",
      "Artikels: Hendrickx, Julie. Stichting Lezen: een gesprek met directeur Majo de Saedeleer. In: Meta (Antwerpen): 87 (2011) 1, 28-29\n",
      "Artikels: Estor, Annemarie. Terwijl je eigenlijk dringend weg moet. In: Streven (Antwerpen): 78 (2011) 7 (juli-aug) 664-665. | Tin\n",
      "Artikels: Bonset, I. K. Tot een constructieve dichtkunst. In: Mécano (Leiden): (1923) 4-5, [11].\n",
      "Artikels: Wackers, Paul. Editing Van den vos Reynaerde. In: Variants: the journal of the European society for textual scholarship:\n",
      "Artikels: Bel, Jacqueline. Migration, literature and cultural memory. In: Journal of romance studies: 11 (2011) 1 (spring) 87-97.\n",
      "Artikels: Moser, Nelleke. Migrants and merchants: early modern Dutch readers compared to their English contemporaries. In: The Hun\n",
      "Artikels: Perre, Nathalie van der. Rudy Vanschoonbeek: voorzitter van de VUV. In: iTems (Brussel): (2015) 11 (okt) 8-9.\n",
      "Artikels: Beele, Wilfried. Het woord \"erfscheider\" en enkele synoniemen. In: Iepers kwartier (Ieper): 45 (2009) 4 (okt-dec) 117-11\n",
      "Artikels: Vandenbussche, Liselotte. Een vergeten intellectuele duizendpoot: de veelzijdige carrière van Caecilia Ameye. In: Histor\n",
      "Artikels: Mellaerts, Betty. Inleiding bij de presentatie van \"Wurgend mooi\", thriller van Wim Menheer, 't Toreke in Tienen, vrijda\n",
      "Artikels: Lams, Guido. Notaris Hendrik Persyn (1857-1933). In: Jaarboek Ons Wingene (Wingene): 13 (2010) 33-66. | Patteeuw, Jo. De\n",
      "Artikels: Bulck, Gaston van. Een buitensluit op Sint-Thomasdag, verhaalt [sic] door de Antwerpse schrijver Eugeen Zetternam in 184\n",
      "Artikels: Adriaensen, Brigitte, Koen Rymenants, Dagmar Vandebosch & Laurence van Nuijs. La guerra civil española en las revistas l\n",
      "Artikels: Onckelen, Lieve van. \"Dat Vlaanderen dan zijn uur erkenne...\" of \"Eer Vlaanderen vergaat\". In: Bormshuis - Broederband (\n",
      "Artikels: Vier brieven van G. Walschap aan Pater Jans; [uitgegeven door] J. Spanhove. In: Geschied- en Heemkundige Kring van Londe\n",
      "Artikels: Pletinckx, Lode. In D'Hâ staat de \"schip achter de dee\" en lopen \"de miern op de miern\". In: Ascania (Asse): 50 (2007) 3\n",
      "Artikels: Huys, Paul. \"Mijn dierbaar Wonterghem\", een liedje uit de schoolstrijd van 1879. In: Contactblad van de Kring voor gesch\n",
      "Artikels: Calsius, Jan. E. H. Riemst: Jan Mathijs Winters (1864-1935), priester, dichter, prozaschrijver, taalkundige. In: Markant\n",
      "Artikels: Reyniers, Johan. Auschwitz is geen Europese hoofdstad: een reis door de nieuwe roman van Koen Peeters. In: Rekto: verso \n",
      "Artikels: Lierop-Debrauwer, Helma van. Two of a kind?: developments in Dutch and German children's literature after 1945. In: Fors\n",
      "Artikels: Pays-Bas. In: Bulletin bibliographique de la Société Rencesvals (Paris): 6 (1971) 121-127; 7 (1972) 85-89; 8 (1973-1974)\n",
      "Artikels: Jansen, Jos. Dialectverlies bij Lommelaren. In: Te Lomelle op die Campine (Lommel): 39 (2013) 4 (dec) 19-25.\n",
      "Artikels: Vereeck, Hugo. Constantijn Huygens. In: Antwerpsche tydinghen (Antwerpen): 29 (2008) 4 (okt-dec) 141-146. | Pas, Hugo. D\n",
      "Artikels: Damme, Els van en Yves T'Sjoen. \"Zijde bij de Hitlerjeugd nie meer dan?\": \"Vooruit\" en Pierken de Spiegelleire op het br\n",
      "Artikels: Putte, Guy vande. Het toponymische taallandschap te Huldenberg. In: Huldenbergs heemblad (Huldenberg): 25 (2006) 3, 204-\n",
      "Artikels: Avert, Walter van den, René Beyst. Als de brem bloeit staat de heide dag en nacht in vlam en vuur. In: Heemkunde Gouw An\n",
      "Artikels: Besamusca, A. A. M., Thea Summerfield, Hans van Dijk. Karel ende Elegast. In: Olifant (Winnipeg, Manitoba): 26 (2011) 2,\n",
      "Artikels: Block, Bart de. Termieten versus de witte olifant. In: Kluger Hans (Gent): 1 (2009) 3 (sep) 4-6. | [Over: Ruyssevelt, Ro\n",
      "Artikels: Elst, J. vander. De dichter Prosper van Langendonck. In: Haachts oudheid- en geschiedkundig tijdschrift (Haacht): 22 (20\n",
      "Artikels: Sleiderink, Remco & Bram Vannieuwenhuyze. Everard T'Serclaes: beeldvorming en \"lieux de mémoire\" rond een Brusselse stad\n",
      "Artikels: Anthoni, Patrick. Jan van Nijlen, 1884-1965. In: Scilla (Schilde): 48 (2015) 4 (dec) 10-13. | Konnegem, Frank van. Jozef\n",
      "Artikels: Peeters, Lowie. Ik voel mij aan zijn tegenwil verwant. In: Nieuwsbrief Internationale Vriendenkring Anton van Wilderode \n",
      "Artikels: Campert, Jan. [Over: Eysselsteyn, Ben van. Tusschen Zuiderkruis en Poolster. Den Haag: Leopold, 1937]. In: Elseviers geï\n",
      "Artikels: Strauss, Danie. 'n Sonderlinge wysgerig-estetiese verbindingslyn: Bilderdijk, Dooyeweerd en Malherbe. In: Tydskrif vir g\n",
      "Artikels: Cobbaert, Tom. Zulke taal, zulk volk: Studiekring Vlaams en Vrank. In: ADVN mededelingen (Antwerpen): (2008) 20 (2e trim\n",
      "Artikels: Schutter, Dirk de. Het geheim van de literatuur. In: De uil van Minerva (Gent): 24 (2011) 2, 57-70. | Kesel, Marc de. Ee\n",
      "Artikels: Eidecker, Martina Elisabeth. Notwendiges Streben und notwendiger Verlust: ironisierte Dekonstruktion und [poetischer] Ko\n",
      "Artikels: Kalla, Barbara en Phil van Schalkwyk. \"Danksy die dinge\": die huis en die self in enkele na-oorlogse Nederlandstalige en\n",
      "Artikels: Vandenbroucke, Dieter. Dansen op een vulkaan: Victor J. Brunclair als representant van de activistische tegentraditie in\n",
      "Artikels: Caluwaerts, Jan. De Brabantse voorouders van Hendrik Conscience (1812-1883). In: Brabant Cronikel: 16 (2012) 6 (nov-dec)\n",
      "Artikels: Heynickx, Rajesh. Pelgrimkunst: religie en moderniteit 1910-1940. In: Openbaar kunstbezit in Vlaanderen (Gent): 46 (2008\n",
      "Artikels: Tommissen, Piet. A propos \"Ter waarheid\". In: Nieuwsbrief Joris van Severen (Ieper): 12 (2008) 4 (4e trim) 4-9. | [Anony\n",
      "Artikels: Pieters, Marcel. Hier spreekt men Lokers: kiekestrontjes, 105-126. In: De Souvereinen (Lokeren): 41 (2010) 2 (apr-juni) \n",
      "Artikels: Nachtergaele, Vic. De Uilenspiegels van Hugo Claus in het Frans. In: Ulieden spiegel (Damme): 11 (2002) 17-21. | Nachter\n",
      "Artikels: D'Hondt, Jan. Een merkwaardige inkijk in het laatste levensjaar van drukker Pieter de Sloovere, 1767. In: Brugs ommeland\n",
      "Artikels: Te vroeg voor sleet op het topstukkendecreet: Gruuthuse-handschrift: Vlaams erfgoed in de uitverkoop? In: Omtrent (Leuve\n",
      "Artikels: Beele, Wilfried. Van laken gesproken. In: Gidsenkroniek Westland (Ieper): 30 (1992) 2, 37-46. | Beele, Wilfried. De Iepe\n",
      "Artikels: Vastiau, Michel. Joannes Josephus Vandenelsken, alias Keuremenne. In: En het dorp zal duren... (Beersel): (2009) 43 (jul\n",
      "Artikels: Mijnsbrugge, Paula vander. Viering 150 jaar Omer Wattez. In: Businarias (Maarkedal): 12 (2008) 34 (jan) 31-33. | Lange, \n",
      "Artikels: Rzoska, Björn. Afdeling volkskunde; wetenschappelijk assistent --> onderzoeker; afdelingshoofd: reflecties bij het overl\n",
      "Artikels: Crous, Marius. Lanoye se donker humor. In: Literator (Potchefstroom): 30 (2009) 2 (aug) 184-185. | Taljard, M. Herman de\n",
      "Artikels: Janse, Mark. E.M. Uhlenbeck (1913-2003) and the Royal Netherlands Institute of Southeast Asian and Caribbean Studies (KI\n",
      "Artikels: Istasse, Nathaël. J. Ravisius Textor (c. 1492-1522) source of a Leonhard Lechner motet (1581)? In: In Monte Artium (Turn\n",
      "Artikels: Kempeneers, Paul T. C. De Waroetsen eusel. In: Oost-Brabant (Leuven): 45 (2008) 1 (jan-mrt) 28. | Kempeneers, Paul T. C.\n",
      "Artikels: Vandommele, Joost. Het gedicht Gent. In: Nieuwsbrief Stichting René de Clercq (Deerlijk): (2005) 13-16. | Boyens, Piet. \n",
      "Artikels: Thienen, Jos van. Een soldaat van halfdriedonker: (Louis Paul Boon ingekwartierd bij de familie Vermeyen in Tessenderlo \n",
      "Artikels: Cw. Frans Meertens. In: Mededelingen Vereniging van Vlaams-Nationale Auteurs (Baardegem): 34 (2010) 196 (jan-feb) [37]. \n",
      "Artikels: Kok, Harry de. In memoriam Eugeen van Autenboer (1920-2008). In: Post factum (Antwerpen): 1 (2009) 177-181. | Baeck-Schi\n",
      "Artikels: Hilderdink, Koen. 'O god, ik duizel van mijn eigen haat!': over de Bilthovense nalatenschap van Paul Rodenko. In: De par\n",
      "Artikels: Hanssens, Dirk. De \"monnik\" Mozes in dichter Hubert van Herreweghen. In: De kovel (Leuven): 3 (2010) 11 (jan) 66-70. | L\n",
      "Artikels: Abeele, Andries van den. Het enigma van de genealogie Gruuthuse: veel vragen en enkele antwoorden. In: Vlaamse stam (Ant\n",
      "Artikels: Pleij, Herman. Restyling “wisdom,” remodeling the nobility, and caricaturing the peasant: urban literature in the late m\n",
      "Artikels: Elst, Herman van. De herkomst van de Olense straatnamen. In: Lindeblad (Olen): 30 (2004) 60 (winter) 3-32. | Verstappen,\n",
      "Artikels: Janssenswillen, Paul. Vernederlandsing voor de eindstreep?: de taalsituatie in het middelbaar onderwijs voor jongens in \n",
      "Artikels: Jongen, Ludo. Van held tot hufter: Jacob van Maerlant en zijn klassieke bronnen. In: Middeleeuws epos; gastredactie Piet\n",
      "Artikels: Icks, Martijn. \"Kunstig beweeg van onzichtbare spieren\": het favoriete fragment van... Martijn Icks. In: Arabesken (Den \n",
      "Artikels: Kalmthout, Ton van. Batailles et idées futuristes: seventeen letters from F. T. Marinetti, 1912-1913. In: Simiolus (Amst\n",
      "Artikels: Imschoot, Tom Van. Politiek begint in het gezin. In: nY (Gent): (2009) 2, 290-298. | Bastelaere, Dirk van. No fusion no \n",
      "Artikels: Hoorebeeck, C. van. La Ville, le Prince et leurs officiers en Flandre à la fin du Moyen Âge: livres et lectures de la fa\n",
      "Artikels: Meensel, Jef van. Het Davidsfonds van de Geelse Sint-Amandsparochie tot 1914: slechts vijf uitschieters in zijn werking.\n",
      "Artikels: Ridder, Matthijs de. Zijn koortsig ijlen: twee onbekende gedichten van de literaire activist Gaston Burssens. In: Zuurvr\n",
      "Artikels: 'T Jonck, Pieter. Excessief burgerlijke religiositeit. In: Etcetera (Leuven): 25 (2007) 109 (dec) 71-73. | Dansen met de\n",
      "Artikels: Young, David. Theory versus practice: the case for pragmatic translation. In: Literary translation: current issues and n\n",
      "Artikels: Goossens, Edgard. Over de Duitse verfilming van Streuvels \"De vlaschaard\". In: De zeven torens (Peer): 23 (2008) 1 (jan-\n",
      "Artikels: Dera, Jeroen. De lachspiegels van Transvaal: Braakensieks prenten over de Boerenoorlog in De Amsterdammer. In: Frame (Ut\n",
      "Artikels: Poulain, Norbert. \"Modern, al te modern\"?: moderne grafiek van Jos Léonard voor de \"zachte vooizekens\" van Alice Nahon. \n",
      "Artikels: Ruys, Robert. Reinaertprijs 2008. In: Contactblad van het Verbond der kringen voor heemkunde in Oost-Vlaanderen (Sint-Am\n",
      "Artikels: Esch, Toon. \"Kaas\" van Willem Elsschot gelezen als redactionele roman. In: Gierik (Ekeren): 25 (2007) 96 (herfst) 12-71.\n",
      "Artikels: Borré, Jos. De correspondentie van Gerard Walschap met dr. Karel van Acker. In: Jaarboek Gerard Walschap Genootschap (An\n",
      "Artikels: Mussche, Omer. Cyriel Buysse herdacht. In: Heemkundige bijdragen uit het Meetjesland (Eeklo): 23 (2009) 2 (2e trim) 80-8\n",
      "Artikels: Bussche, Jozef van den. \"Een boerken van Sinaai\": Edgard Tinel (1854-1912). In: Het teken (Wezembeek-Oppem): 77 (2004-20\n",
      "Artikels: Westenbroek, J. J. M. Gezelles \"Goddelijke beschouwingen\": \"de bekroning van zijnen arbeid\". In: Biekorf (Brugge): 107 (\n",
      "Artikels: Verdonck, Jan. Lichterveldse dialectwoorden in Gezelles \"Loquela\". In: Jaarboek van de Heemkundige kring Karel van de Po\n",
      "Artikels: Vercammen, Louis. Beatrijs. In: De spycker (Essen): 70 (2013) 73-74.\n",
      "Artikels: Löffler, Anette. Ein neuer Textzeuge von \"Abrahams uytgangh\" aus den Beständen des Duisburger Stadtarchivs. In: Zeitschr\n",
      "Artikels: Wartaal voor een beter begrip. In: Weirdo's (Boortmeerbeek): 20 (2007) 77 (apr) 29-30. | Deleu, Thierry. Grote en kleine\n",
      "Artikels: Vitáčková, Martina. Schrijven als vrouw: nieuw concept van moederschap in hedendaagse Nederlandse literatuur geschreven \n",
      "Artikels: Dorleijn, Gillis J. De plaats van tekstanalyse in een institutioneel-poëticale benadering. In: Nederlandse letterkunde (\n",
      "Artikels: Kalse, Margot. De pijn van Focq. In: Fumus (Soest): 7 (2009). | Hanou, André. Heros en de goocheltrucs. In: Fumus (Soest\n",
      "Artikels: Gehrke, Berit. Goals and sources in event structure. In: Linguistics in the Netherlands (Leiden): 24 (2007) 86-98. | Kam\n",
      "Artikels: Vos, Lukas de. Prijs van Verdienste 2012: alleen onbeslistheid staat vast (en dan nog): de mens als helse machine in het\n",
      "Artikels: Brouwers, Toon. In memoriam Alfons van Impe. In: De auteur (Antwerpen): (2005) 2 (juni) 17. | Decerf, Frank. Laudatio Di\n",
      "Artikels: Buul, Anne van. \"Scheppers van het schoone boek\": de invloed van de Engelse boekvernieuwingen op P. C. Boutens en andere\n",
      "Artikels: Deneire, Tom. An overlooked letter from Justus Lipsius to Abraham Ortelius, 6 August 1593, dealing with Jacobus Monavius\n",
      "Artikels: Wiersum, E. Jacob Kortebrant. In: Rotterdamsch jaarboekje (Rotterdam): (1914) 54-64.\n",
      "Artikels: Bormans, Peter. Stalin in de Nederlandse (en andere) letteren. In: Kruispunt (Brugge): (2009) 198-199 (mrt) 5-51. | Heuz\n",
      "Artikels: Blancquaert, E. Noord- en Zuidnederlandsche schakeeringen in de Beschaafd-Nederlandsche uitspraak. In: Verslagen en mede\n",
      "Artikels: Geirnaert, Noël. Middeleeuwse literaire fragmenten zichtbaar door de restauratie van een 16de-eeuws resolutieboek. In: A\n",
      "Artikels: Gielen, Wim. \"Van den Vos Reynaerde\": twee volledige handschriften en drie fragmenten. In: Jaarboek van het Nederlands G\n",
      "Artikels: Verhellen, Stefaan. In memoriam Felicien de Tollenaere erelid van de G.O.K. In: Annalen Geschied- en Oudheidkundige Krin\n",
      "Artikels: Thienen, Jos van. Koken met Minus. In: Mededelingsblad en verzamelde opstellen (Antwerpen): 22 (2005-2006) 89 (jan-mrt 2\n",
      "Artikels: Vilder, Herman de. Maurits Bilcke (1913-1993). In: Melijn (Tervuren): (2019) 3 (juli-sep) 7-9. | Vilder, Herman de. Ward\n",
      "Artikels: Praet, Dirk. Bij het overlijden van tante Susanna: Aen den Heere Jan Caerle de Cordes op zijn Casteel van Wichelen. In: \n",
      "Artikels: David, Jan. Het toneelleven in Ardooie en Koolskamp: op de planken en achter de scène. In: Jaarboek van de Heemkundige K\n",
      "Artikels: Meirhaeghe, Herman. In het huis zijns moeders...: genealogie Sielbo: voorouders van Karel en Gustave van de Woestijne. I\n",
      "Artikels: Byttebier, Freddy. Hier klapt men Deerlijks. In: Derlike (Deerlijk): 2 (1979-1980) 4 (apr-juni 1980) 116; 3 (1980-1981) \n",
      "Artikels: Laet, Lieven de. Onze man in Oost-Europa. In: Staalkaart (Mechelen): 1 (2009-2010) 1 (sep-okt 2009) 81-83. | Cloosterman\n",
      "Artikels: Delmeire, Roger. Omtrent Groenendaal te Landen en de Brabantse mysticus Jan van Ruusbroec. In: Ons Landens erfdeel (Land\n",
      "Artikels: Van Coillie, Jan. Voorlezen als ontmoeting tussen culturen : de Boekenbende aan huis. In: Leesgoed (Den Haag): 29 (2002)\n",
      "Artikels: Kragl, Florian. Höfische Bösewichte?: Antagonisten als produktive Systemfehler im mittelalterlichen Roman. In: Zeitschri\n",
      "Artikels: Draye, H. Professor Karl Bischoff zum 70. Geburtstag. In: Onoma (Louvain): 19 (1975) 3, 415-418.\n",
      "Artikels: Postma, Wiegertje. Een uitgestippled leven: Sanneke van Hassel over haar roman \"Nest\". In: Passionate (Rotterdam): 17 (2\n",
      "Artikels: Istendael, Geert van. Crits 65. In: Poëziekrant (Gent): 32 (2008) 1 (jan-feb) 71. | Ramon, Renaat. Maat en magie. In: Po\n",
      "Artikels: Verreyken, Katrien. Spellingversie 6.2 is in aantocht. In: Magazine Universiteit Antwerpen (Antwerpen): (2011) 02 (dec) \n",
      "Artikels: Ryckeboer, Hugo. Bacht'n de kupe. In: Diealektgazette van Bacht'n de Kuupe (Veurne): 1 (2006-2007) 2 (juli 2006) 2-4. | \n",
      "Artikels: Dalen-Oskam, Karina van. Immer nach Norden: Gebrauch und Funktion von Eigennamen im Roman \"Oben ist es still\" von Gerbra\n",
      "Artikels: Sierhuis, Freya. The rhetoric of religious dissent: anti-calvinism, satire and the Arminian controversy in the Dutch Rep\n",
      "Artikels: Lekens, Luc. Beeldhouwer Emiel Poetou. In: Dronghine (Drongen): 29 (2010) 56-64. | Huys, Paul. Zeger van Kortrijk, heer \n",
      "Artikels: Geirnaert, Noël. Jan van Hulst, een naam in Brugge en de polderstreek (circa 1400). In: Rond de poldertorens (Oostkerke)\n",
      "Artikels: Hoek, Michel van der. Old Franconian and Middle Dutch <gh> and velar palatalization. In: Beiträge zur Geschichte der deu\n",
      "Artikels: Barten, Egbert. Dutch anti-semitic colour animation in world war II: Robert van Genechten's Van den vos Reynaerde (1943)\n",
      "Artikels: Meder, Theo. In search of the Dutch lore of the land: old and new legends throughout the Netherlands: [1] In: Folklore (\n",
      "Artikels: Haas, Anna de. Een onbekende traditie in de Amsterdamse schouwburg: de tussenspelen in Focquenbrochs \"Min in ’t Lazarush\n",
      "Artikels: Campert, Remco. De markies en de dood. In: Bijster (Amsterdam): 1 (1969-1970) 4, 2. | Hermans, Willem Frederik. Reina Pr\n",
      "Artikels: Joosten, Jos. Twee sporen van Mariken van Nieumeghen: aantekeningen bij een nieuwe vertaling. In: Jaarboek Numaga (Nijme\n",
      "Artikels: Ceustermans, Fil. Het dialect van Meerhout. In: Meerhouts patrimonium (Meerhout): 18 (2001) 76 (dec) 6-12; 19 (2002) 77 \n",
      "Artikels: Bogman, Sjef. De kracht van het ongrijpbare: een interview met Cyrille Offermans. In: Literatuur (Utrecht): 1 (1984) 3 (\n",
      "Artikels: Hemeldonck, Walter van. Bij de 70ste verjaardag van het overlijden van Maurits Sabbe (1873-1928): is hij nog leesbaar? I\n",
      "Artikels: Lierop-Debrauwer, Helma. South Africa in Dutch children's literature, 1899-1901; the U-Huhu stories of Nynke van Hichtum\n",
      "Artikels: Kestemont, Mike, Walter Daelemans and Guy De Pauw. Weigh your words: memory-based lemmatization for Middle Dutch. In: Li\n",
      "Artikels: Saalmink, Louis. Xavier Marmier, Nederlands poëzie in vertaling en Hieronymus van Alphen. In: De negentiende eeuw (Leide\n",
      "Artikels: Zuiderent, Ad. Moord, wetenschap en eeuwigheid: bij het eredoctoraat voor de schrijver Gerrit Krol. In: In de marge (Ams\n",
      "Artikels: Raeymaekers, Joris. Weten waarom: doordacht epos over politiek en film. In: Driemaandelijks tijdschrift van de Auschwitz\n",
      "Artikels: Vertongen, Aloys. Bijdrage tot de geschiedenis van het Belgisch ex libris. In: Boekmerk (Sint-Niklaas): (2008) 25, 14-21\n",
      "Artikels: Devroe, Hans. Veertien-achttien: schok en schande. In: WeL (Leuven): 31 (2014) 1 (mrt) 7-40. | Hauman, Remi. \"De getuige\n",
      "Artikels: Keersmaekers, Frank. 75 jaar De Witte: een expo om niet te missen! In: Duffla (Duffel): 19 (2008-2009) 4 (2009) 146b-154\n",
      "Artikels: Daniëls, Wim. L'étonnement devant la richesse de la langue: \"Onze taal\" célèbre ses 75 ans; trad. du néerlandais par W. \n",
      "Artikels: Hendrickx, Bert. 200 jaar Renier Snieders als schrijver en geneesheer. In: Taxandria nieuws (Turnhout): 30 (2012) 4, 25-\n",
      "Artikels: Priem, Hendrik. Izegem(naars) tijdens de Eerste Wereldoorlog in de literatuur. In: Ten Mandere (Izegem): 54 (2014) 160 (\n",
      "Artikels: Raeymaekers, Walter. Al gelezen? In: Zeven Neten (Retie): 20 (2013) 3 (sep) 21-23. | Raeymaekers, Walter. Retie in de pl\n",
      "Artikels: Verheyden, Dirk. De jeugdjaren van Wies Moens (1898 - NL - Neerbeek, 1982). In: Heemkring Marcel Bovyn (Sint-Gillis-bij-\n",
      "Artikels: Janssens, Marcel. Contemporary Dutch literature in a European context. In: Annali dell'Istituto Universitario Orientale.\n",
      "Artikels: Vinck, Leen. Driespleinen in Groot-Haaltert. In: Mededelingen Heemkring Haaltert (Haaltert): 19 (1999) 4, 17-22; 20 (200\n",
      "Artikels: Gerbrandy, Piet. De alziende duif: \"Beschoten maaltijd\" van H. H. ter Balkt. In: Awater (Amsterdam): 6 (2007) 3 (najaar)\n",
      "Artikels: Hulle, Dirk van. De Beckett van Hugo Claus: genese, zelfreceptie en \"wat hem aan rede restte\". In: Spiegel der letteren \n",
      "Artikels: Lambrechts, Giele. Een Antwerpse schrijver in Kalmthout. In: Calmpthoutania (Kalmthout): 62 (2010) 1, 35-40. | Neys, Ron\n",
      "Artikels: Hees, Ivo van. De jaren vijftig: op weg naar een andere tijd...: artistiek en cultureel leven na de Tweede Wereldoorlog \n",
      "Artikels: Gaij, Marc. De tocht naar Tervueren: een Nederlandse satire over een hoofdpersonage uit de Belgische omwenteling van 183\n",
      "Artikels: Gevaert, Herman. 1812-2012: jubileumjaar Hendrik Conscience. In: Daens vandaag (Aalst): 36 (2012) 3 (mei) 17-25. | Strij\n",
      "Artikels: Groote, Maria de. \"Den Dries\", een verdrongen toponiem in de gemeente Destelbergen. In: Heemkundig nieuws (Sint-Amandsbe\n",
      "Artikels: Siertsema, Bettine. Het geloof van Abel Herzberg. In: Tijdschrift voor theologie (Amsterdam): 51 (2011) 3 (herfst) 277-2\n",
      "Artikels: Hoven, Peter van den. Soms moet je je engageren, anders ben je een lor: gesprek met Edward van de Vendel over de Slash-r\n",
      "Artikels: Poniatowska, Patrycja. \"As you are well pronounced by all external warrants\": women's bodies and women's places in 17th-\n",
      "Artikels: Beekman, Klaus. Rumoer rond Rupert: over de legitimatie van plagiaat. In: Internationale neerlandistiek (Woubrugge): 47 \n",
      "Artikels: Elslander, A. van, J. Weisgerber, J. Aerts. [Over: Elmbt, François van. De agenda's en carnets van Karel van de Woestijn\n",
      "Artikels: Dantzig, Rudi van. Brief aan het nageslacht. In: Nexus (Tilburg): (2005) 43, 33-50. | Prick, Harry G. M. Een nooit verlo\n",
      "Artikels: Streuvels' erfenis veilig opgeborgen. In: In de steigers (Brugge): 16 (2009) 3, 77-78. | Anseeuw, Annelies. Kunstenwerke\n",
      "Artikels: [Werkzaamheden van de Academie in 2013]. In: Jaarboek van de Koninklijke Academie voor Nederlandse Taal- en Letterkunde \n",
      "Artikels: \"Ze draagt een beehaatje | van blaadjes\": poëzie maken met mensen met een verstandelijke beperking; interview met Alain \n",
      "Artikels: Buczek. Katarzyna. Old Frisian and Anglo-Saxon legal texts: a stylistic comparison. In: Academic Journal of Modern Philo\n",
      "Artikels: Mertens, Thom. Private revelation and public relevance in the Middle Dutch sermon cycle \"Jhesus collacien\". In: Medieval\n",
      "Artikels: Parsons, Ben, Bas Jongenelen. 'The Sermon on Saint Nobody': a verse translation of a Middle Dutch parodic sermon. In: Jo\n",
      "Artikels: Hennecke, Susanne. Barth unter Dichtern: Aspekte niederländischer Barthrezeptionen und die geisteswissenschaftliche Faku\n",
      "Artikels: Wal, Marijke van der and Gijsbert Rutten. The Practice of letter writing: skills, models, and early modern Dutch manuals\n",
      "Artikels: Rosenzweig, Gabriel. La edición en neerlandés de 'La sombra del Caudillo'. In: Literatura mexicana (México): 23 (2012) 2\n",
      "Artikels: Parlevliet, Sanne. Hunting Reynard: how Reynard the Fox tricked his way into English and Dutch children’s literature. In\n",
      "Artikels: Elk, Martine van. True fire, noble flame: friendship poetry by Katharina Lescailje, Cornelia van der Veer, and Katherine\n",
      "Artikels: Brinkman, Herman. Hoffmann von Fallersleben and Dutch medieval folksong. In: European studies: 26 (2008) 255-269. | Math\n",
      "Artikels: Stronks, Els. Literature and the shaping of religious identities: the case of the protestant religious emblem in the Dut\n",
      "Artikels: Pauwels, Jan. \"Propre à donner une idée de mon savoir-faire\": een onbekende brief van Jan Frans Willems aan Karel van Hu\n",
      "Artikels: Papin, Kristof. De joodse roots van de vader van de Vlaamse chirurgie Jan Yperman: een discussienota. In: Westhoek (Iepe\n",
      "Artikels: Drèze, Céline. Un corpus inédit de méditations pour le carême, conservé dans le fonds d'archives jésuites à Anvers (XVII\n",
      "Artikels: Truyens, Edwin. Och, kon ik toch die merel zijn. In: Kort manifest (Kontich): 25 (2007) 152 (jan-feb) 13-14. | Truyens, \n",
      "Artikels: Decorte, Luc. [Oa. over: Hermans, W. F. Het Frans van Van Dale: Grand Hôtel der Nederlandse taal zou eigenlijk een beter\n",
      "Artikels: Doorn, Th. H. van. Twee interpretaties en de bedoeling van de dichter. In: Levende talen (Utrecht): (1973) 294 (jan) 9-1\n",
      "Artikels: Arren, Raymond. Raf Seys, bijna... een Bruggeling. In: Jaarboek Spaenhiers (Koekelare): 20 (2012 [versch. 2013]) 9. | He\n",
      "Artikels: Harmens, Erik Jan. [Toelichting bij \"Goede raadhuizen\"]. In: Deus ex machina (Schilde): 31 (2007) 122 (sep) 38-39. | Beu\n",
      "Artikels: Calsius, Mariet. Boekhandel Gudrun: Vander Leest en Vandeven: een huis zonder boekenkast is geen woning. In: Arduin (Bru\n",
      "Artikels: Oosterhof, Albert en Evie Coussé. Corpusgebaseerd semantisch onderzoek: troeven en beperkingen van het CGN. In: Nederlan\n",
      "Artikels: Schryver, Fredy de. Louis Paul Boon in Nieuwerkerken. In: LiNiAal (Nieuwerkerken-Aalst): 35 (2012) 1 (mrt) 26-33.\n",
      "Artikels: Campenhout, Nico van. E. H. Jozef de Wilde (1906-1993) over plaatselijke en regionale geschiedschrijving. In: Annalen va\n",
      "Artikels: Boer, Eugenie. Potgieter en Sint-Nicolaas: bien étonnés de se trouver ensemble - of toch niet? In: Nieuw letterkundig ma\n",
      "Artikels: Roelstraete, J. Heulse personages in \"Heule\" van Streuvels. In: Heulespiegel (Heule): 28 (2012) 56 (dec) 11-31. | Maes, \n",
      "Artikels: Hollander, Ineke den. Van boudoir naar studeerkamer: gender en interieurs in negentiende-eeuwse Nederlandse romans. In: \n",
      "Artikels: Ector, Jef. De oudheid in verhalen van de eenentwintigste eeuw: 2001-2005. In: Kleio (Kapellen): 38 (2008-2009) 3 (apr-j\n",
      "Artikels: Goris, Jan-M. Renaat Bulckens (Herentals, 2 april 1931 - Herentals, 25 april 2006). In: Historisch jaarboek van Herental\n",
      "Artikels: Debrabandere, Frans. Nonnenscheetjes. In: WVD-contact (Gent): 25 (2011) 2 (dec) 11-14. | Triest, Liesbet en Tineke de Pa\n",
      "Artikels: Baere, C. De. De Zuidnederlandse Maatschappij voor Taal- en Letterkunde en Geschiedenis. In: Handelingen [van de] Zuidne\n",
      "Artikels: Blokker, Lisette. \"Dit navolghende sijn sermoenen ende es wat verclaers vanden gheboden gods\": vijftiende-eeuwse Gentse \n",
      "Artikels: Coppens, Jan. Vliegenbouters en het dialect op internet. In: Gerardimontium (Geraardsbergen): (2004) 193 (jan-feb) 34-37\n",
      "Artikels: Vannieuwenhuyze, Bram. Brusselse waternamen; met medewerking van Paul Kempeneers, Karel Leenders en Vic Mennen. In: Cahi\n",
      "Artikels: Duyse, Dirk van. Bij het overlijden van Wannes van de Velde (1937-2008): een veelzijdig artiest met wortels in Doel. In:\n",
      "Artikels: Creve, Wies. Wachtebeeks dialect: woorden en uitdrukkingen. In: Jaarboek Heemkundige Kring De Vierschaar (Wachtebeke): 4\n",
      "Artikels: Jürgs, Jana. \"Een yeghelijc kersten mensche es sculdich te weten drie dinghen: als wat hij ghelouen sal, wat hij bidden \n",
      "Artikels: Verschillende uitspraken door de Zuidnederlandsche Maatschappij van Taalkunde sedert hare stichting gedaan. In: Handelin\n",
      "Artikels: Liagre, Guy L. J. \"Het verdriet van België\": realistische Bildungsroman of maçonniek palimpsest? In: Acta macionica (Bru\n",
      "Artikels: Devos, Magda. Noordgermaanse kenmerken in het Vlaams en het Zeeuws. In: Appeltjes van het Meetjesland (Evergem): 62 (201\n",
      "Artikels: Acda, Gerard M.W. & Joke E. Korteweg. 'Hier is de wereld niets dan waaiend schuim': maritieme literatuur in de negentien\n",
      "Artikels: Defoort, Hendrik. De waan van de dag als erfgoed?: omtrent de \"nieuws-, vak- en kiesbladen\" van de Universiteitsbiblioth\n",
      "Artikels: Bossche, Stefan van den. De blauwe bron in de rots: over de dichter Georg Trakl (1887-1914). In: Jonggestorven schrijver\n",
      "Artikels: Vandenberghe, Karen. Letterenhuis In: Jaarboek Musea en Erfgoed Antwerpen (Antwerpen): 6 (2008 [versch. 2009]) 69-71. | \n",
      "Artikels: Eenoo, Romain van. De Brugse pers en de Vlaamse Beweging, 1849-1857. In: Huldenummer voor Luc Devliegher, voorzitter van\n",
      "Artikels: Miedema, Hessel. De ontwikkeling van de kunsttheorie in de Hollandse Gouden Eeuw II: Karel van Mander. In: Oud-Holland (\n",
      "Artikels: Mareel, Samuel. Urban literary patronage in the early modern Low Countries: public festive culture and individual Author\n",
      "Artikels: Vries, Anne de jr. Een zondagskind. In: Nieuwsbrief voor afgestudeerden van de opleiding Nederlands aan de Vrije Univers\n",
      "Artikels: Lange, Sylvain de. Een hommage aan Daniël Robberechts. In: Triverius (Brakel): 42 (2012) 2 (apr) 65-67. | Gezels, Elisab\n",
      "Artikels: Leemans, Guy. Dichter in hart en nieren: Jozef Vandromme tovert met woorden. In: Die Chronycke Bachten de Kupe (Nieuwpoo\n",
      "Artikels: Maele, Romain John van de. Over de jeugd- en kinderboeken van Baziel Boel. In: Heemkundige Kring De Faluintjes (Herderse\n",
      "Artikels: Driessche, Luc van. Professor Jozef van Haver (1926-2009). In: Salvator mededelingen (Wieze): 19 (2009) 60 (juli-sep) 4-\n",
      "Artikels: Halsema, Dick van. De dichter J.H. Leopold en Arnhem. In: Arnhems historisch tijdschrift (Arnhem): 33 (2013) 4 (dec) 208\n",
      "Artikels: Gerits, Jan. Martinus Stoffels (1904-1948) en de stichting van de Vereniging van Limburgse Schrijvers. In: Oostland (Ber\n",
      "Artikels: Martin, Willy. Het einde van het Nederlands als wetenschapstaal?: \"Als een Nederlandstalige wetenschapper uitsluitend in\n",
      "Artikels: Blancquaert, E. & C. Tavernier-Vereecken. Keulse potten. In: Rheinische Vierteljahrsblätter (Bonn): 17 (1952) 1-2, 51-58\n",
      "Artikels: Caspers, Johanneke. Punt, komma of vraagteken?: de waarneming van zinsfinale intonatie door eerste- en tweedetaalspreker\n",
      "Artikels: Wal, Joost de. Haagse hommage: de beeldende kunst in het liber amicorum Gerrit Achterberg (1955). In: Jaarboek Gerrit Ac\n",
      "Artikels: Stroobants, A. E. H. Jozef de Brouwer (1909-1984). In: Ledenblad van de Heemkundige Kring Denderland (Hofstade-Gijzegem)\n",
      "Artikels: Bense, Lilian. Jan Fabre in Venetië. In: <H>art (Edegem): (2009) 54 (16 juli) 21. | Devriendt, Indra. Jan Vanriet. In: <\n",
      "Artikels: Droste, Flip. Het denken van de dichter. Deel 1. In: Filosofie (Leuven): 24 (2014) 3 (mei-juni) 55.\n",
      "Artikels: Tack, Gil. Renier Snieders, geneesheer in Turnhout. In: Het Bezemklokje (Turnhout): 6 (2013) 16 (feb) 20-22.\n",
      "Artikels: Goddeeris, John. Het Willemsfonds in Roeselare (1866-1876) of \"Men prijst een stuur begin\". In: Erfgoed Roeselare (Roese\n",
      "Artikels: Hecke, Gust. van. [Over: Assche, Piet van. De poel: drama in drie bedrijven. Antwerpen: Janssens, 1909]. In: De boomgaar\n",
      "Artikels: Noorden, Gust van. De literatuur van Noord & Zuid. In: Nieuw leven (Gent): 1 (1907) 4 (25 aug) 25-28. | Noorden, Gust va\n",
      "Artikels: Hecke, Gust. van. In den Nederlandschen Schouwburg van Antwerpen: \"Jeptha, of Offerbelofte\", treurspel van Joost van den\n",
      "Artikels: Vitse, Sven. Weigering of woekering: enkele aspecten van het literaire en politieke engagement van Raster (1977-2009). I\n",
      "Artikels: Haerynck, Jean-Paul den. Literair Gent: een samenwerkingstraject voor het ontsluiten en beheren van literair erfgoed. In\n",
      "Artikels: Mersch, Bert. De plaatsnaam Maaseik in de loop der eeuwen. In: Limburg - Het oude Land van Loon (Hasselt): 92 (2013) 4 (\n",
      "Artikels: Guarnieri, Romana. Per la fortuna di Ruusbroec in Italia. In: Rivista di storia della chiesa in Italia (Milano): 6 (1952\n",
      "Artikels: Desmedt, M. E. H. Noterdaeme en het Maerlant-probleem. In: Snellinghem (Snellegem): 27 (2014) 2, 2918-2925. | Desmedt, M\n",
      "Artikels: Maximilianus (O. F. M. Cap.), P. Vergilius en \"Joannes de Boetgezant\". In: Annalen [van de] Vereeniging tot het Bevorder\n",
      "Artikels: Lagrain, Robert. Gezelle in de belangstelling. In: Ministrando (Brugge) 26 (1990) 20 (15 dec) 581-584.\n",
      "Artikels: Blijlevens, Klaas. Op bezoek bij Ruusbroec. In: Golfslag (Brussel): 3 (2009) 1 (jan-mrt) 3-9; 2 (apr-juni) 79-85; 3 (jul\n",
      "Artikels: Debrabandere, F. Gezelle in slecht Frans en dito Duits. In: Brugge die scone (Brugge): 20 (1999) 1 (lente) 16. | Abeele,\n",
      "Artikels: Wierda, Lydia. Jos Hermans: teacher for life. In: Quaerendo: 41 (2011) 3-4 (autumn-winter) 209-213. | Gerritsen-Geywitz,\n",
      "Artikels: Mattelaer, Paul B. Burgemeester dokter Eugène Mattelaer, een biografie; met medewerking van Danny Lannoy. In: Cnocke is \n",
      "Artikels: Versluys, Luc. Ruusbroec... een mysticus of mystieker, in de wolken... wereldvreemd! In: Zoniën (Hoeilaart): 26 (2002) 2\n",
      "Artikels: Nieuwenhuysen, Pierre van. Promenade toponymique à Ganshoren: la découverte de l'histoire de la commune par ses anciens \n",
      "Artikels: Elst, Jan vander. 150 jaar geleden werd de dichter Prosper van Langendonck geboren. In: Rotsvast Rotselaar (Rotselaar): \n",
      "Artikels: Pekelder, J. Genuscongruentieverschijnselen binnen de Nederlandse NP. In: Germanistica Pragensia (Praha): 23 (2014) 119-\n",
      "Artikels: Pekelder, J. Subject scrambling in the middle field: the case of modern Dutch. In: The Czech and Slovak Linguistic Revie\n",
      "Artikels: Pekelder, J. Prédicats atypiques en néerlandais contemporain: le cas du type \"overvallen\". In: Syntaxe & sémantique (Cae\n",
      "Artikels: Gillé, A. Lodewijk Scheltjens. In: Tooneelgids (Tienen): 9 (1923) 1, 1-4. | Thuysbaert, Prosper. Het repertorium. In: To\n",
      "Artikels: Oosterhoff, Tonnus. Ik wil Jeroen Mettes aan het werk zien (maar het lukt mij niet). In: \"Brussel\". Speciaal nr. van: Te\n",
      "Artikels: Schutter, Georges De. De ontwikkeling van negatiepatronen met niet-negatieve onbepaalde kwantoren in de Midden- en Zuid-\n",
      "Artikels: Duyse, Prudens van. Egidius Sacré, een der laetste rederijkers-poëten van België. In: Nederduitsch letterkundig jaarboek\n",
      "Artikels: Koopmans, Joop W. Weyerman in Westdongeradeel?: een ontmoeting met de Friese edelman Hessel Aylva, circa 1734. In: Meded\n",
      "Artikels: Vandevyvere, Guido. Was Roubaix ooit Robeke? In: Zannekin (Ieper): 26 (2009) 1 (1e trim) 6-10. | Ryckeghem, Gijs van. Ee\n",
      "Artikels: Dries, Luk van den. Jan Fabres verovering van de Cour d'Honneur. In: Proscenium (Brussel): 9 (2005) 36 (sep) 13-16. | We\n",
      "Artikels: Bommeljé, Bastiaan. Geen angst voor clichés: het 'Rapport literaire tijdschriften' 2003 is wel erg mild. In: Hollands ma\n",
      "Artikels: Hanlo, Jan. De kansen van de hedendaagse poëzie. In: Blurb (Amsterdam): 1 (1951) 6 (feb) 5. | Hermans, Willem Frederik. \n",
      "Artikels: Colledge, Eric. \"The Treatise of Perfection of the Sons of God\": a fifteenth-century English Ruysbroek translation. In: \n",
      "Artikels: Abeele, Andries Van den. De Club van Belgen in Parijs onder Napoleon: toen de woorden \"Belg\" en \"Vlaming\" synoniem waren\n",
      "Artikels: Taymans, Huguette. De Gentse rederijkerskamer \"De Fonteine\". In: Jaarboek van het Europees Genootschap voor Munt- en Pen\n",
      "Artikels: Claes, Frans. Inleiding tot de studie van de toponymie. In: Heemspiegel ('s-Gravenwezel): 14 (1993) 3, 2-6.\n",
      "Artikels: Meulen, Dik van der en Gerlach Storm de Grave. Drie brieven: Multatuli, Tine en Edu Douwes Dekker. In: Jaarboek Multatul\n",
      "Artikels: Bulhof, Francis. Perspective: the Dutch connection. In: Dimension (Austin): (1978) spec. afl., 7-11.\n",
      "Artikels: Berat, Daniël. Pastoor Leroy, meesterverteller (1858-1939). In: Avondmijmeringen (Kortrijk): 36 (2006) 5 (sep-okt) 293-2\n",
      "Artikels: Lambrechts-Augustijns, Hugo. Onze-Lieve-Vrouw van Vlaanderen. In: De drie rozen ('s-Gravenwezel): 44 (2010) 173 (1e trim\n",
      "Artikels: Gucht, Jozef van. Edgard Blancquaert, strijder bij de koloniale strijdmacht in Congo. In: De oorlogskrant (Dendermonde):\n",
      "Artikels: Man, Bart de. Poging tot polemiek met Poll. In: De brakke hond (Antwerpen): 7 (1990) 25, 4-8 | Grauws, Gilbert; Frankie \n",
      "Artikels: Feremans, Steph. Wat schreef en schilderde Herman Bogaerd? In: Laca tijdingen (Laken): 21 (2010) 4 (okt-dec) 4-13.\n",
      "Artikels: Leen, Michiel. Voorbij de ironie met Jeroen Olyslaegers: \"Ik heb gouden bladzijden geschreven\". In: Oogst (Antwerpen): (\n",
      "Artikels: Het laatste levensjaar van Guido Gezelle. In: Brugse gidsenkroniek (Brugge): 32 (1999) 3 (mrt) 148-155.\n",
      "Artikels: Uhlenbeck, E. M. Betekenis en syntaxis. In: Forum der letteren (Leiden): 5 (1964) 2, 67-82.\n",
      "Artikels: Cornips, Leonie. Taalcultuur - Cité Duits. In: Eisden (Eisden): 31 (2014) 2 (apr-juni) 45-46. | Cité Duits: onder profes\n",
      "Artikels: Westerlinck, Albert. Enkele aspecten van de hedendaagse katholieke roman. In: Universitas (Leuven): 13 (1951-1952) 1, 11\n",
      "Artikels: Houdenhove, Frans van. Op stap met literaire vrienden. In: De gids (Kortrijk): (2015) 154 (mrt) 29-33; 156 (aug) 69-72; \n",
      "Artikels: Janssen, Frans A. Boekenmaken. In: Optima (Amsterdam): 2 (1984) 1 (jan) 64-66; 2 (apr) 145-149; 4 (dec) 290-295; 3 (1985\n",
      "Artikels: Perre, Rudolf van de. Vaarwel dan, poëzie. In: Nieuwe stemmen (Aalst): 16 (1959-1960) 1 (okt-nov 1959) 14-17.\n",
      "Artikels: Mulders, J. van. De taal van Eva, of Dutch as she is wrotten. In: Revue des langues vivantes: 30 (1964) 3, 244-250.\n",
      "Artikels: Assche, Hilda van. Bibliografie. In: Over René Gysen; samengesteld door de redactie van Komma. Speciaal nummer van: Komm\n",
      "Artikels: Uyttenhove, Lieve. \"Want God es eene vloeyende ebbende zee\": triniteit bij Jan van Ruusbroec als sleutel tot het mystiek\n",
      "Artikels: Strobbe, Arnold. Zijt ge van Lue dan? Volkswijsheid uit Lotenhulle. In: Het Land van Nevele (Landegem): 38 (2007) 2 (jun\n",
      "Artikels: De Guido Gezelle van Beverlo!: pastoor-dichter Clemens Vanderstraeten. In: Erfwacht (Beverlo): 28 (2017-2018) 111 (mei-a\n",
      "Artikels: Bax, D. Vier overwinteringen op Nova-Zembla. In: De nieuwe taalgids (Groningen):34 (1940) 1-6. | Verdenius, A. A. \"Eensl\n",
      "Artikels: Schouteet, A. & E. I. Strubbe. Analytische inhoud en registers op de Handelingen van ons Genootschap 1940-1963. In: Anna\n",
      "Artikels: Demulder, Bram. Lateur \"Lator\": de oudheid in veelvoud bij ons gebracht: laudatio voor Patrick Lateur. In: Bulletin: tij\n",
      "Artikels: Pée, Leo. Onthulling van de gedenkplaat \"Jan Broeckaert\" 28 januari 2012. In: Gedenkschriften van de Oudheidkundige Krin\n",
      "Artikels: Minneboo, Michael. Kees van Kooten over zijn liefde voor tekeningen: \"Een goede cartoon zet je aan het denken\": intervie\n",
      "Artikels: \"Pourquoi écrivez-vous?\": une grande enquête de la R.T.F. auprès de 76 écrivains français et étrangers. In: La table ron\n",
      "Artikels: Thije, Jan D. ten. Taalanalyse in een meertalige asielprocedure. In: In gesprek; Henk Lammers (gastredacteur). Speciaal \n",
      "Artikels: Thoomes, Daan. Poëzie over, voor en van schoolkinderen. In: Lessen (Rotterdam): 6 (2011) 2 (dec) 14-16. | Thoomes, Daan.\n",
      "Artikels: Provinciale prijs voor letterkunde. In: Cultureel jaarboek van de provincie Oost-Vlaanderen (Gent): 57 (2003 [verschenen\n",
      "Artikels: Nieuwenhuizen, Peter. Bilderdijk en Büch: gefnuikte arenden als venster op de geschiedenis. In: Büchmania magazine (Leid\n",
      "Artikels: Weilnböck, Harald. Who is afraid of Dorbeck?: the romantic seduction of the reader and the implosion of bourgeois percep\n",
      "Artikels: Wispelaere, Paul de. \"Kraamanijs\": debuutroman van Marcel van Maele. In: De Vlaamse gids (Antwerpen): 50 (1966) 11 (nov)\n",
      "Artikels: Snijder, Lieselotte de. De puzzel van de poëzie: drie dichters over de kracht van woorden. In: Davidsfonds cultuurmagazi\n",
      "Artikels: Bruaene, Anne-Laure. Brotherhood and sisterhood in the Chambers of rhetoric in the southern Low Countries. In: The sixte\n",
      "Artikels: Proot, Goran. Converging design paradigms: long-term evolutions in the layout of title pages of Latin and vernacular edi\n",
      "Artikels: Groenewegen, Rob. Altijd maar weer in beweging: de rusteloosheid van Jo Otten (1901-1940). In: Extaze (Den Haag): (2011)\n",
      "Artikels: Ramakers, Bart. \"Literatuur is overal\": tekst en context in het werk van Herman Pleij. In: Neerlandistiek.nl 09.01d, pla\n",
      "Artikels: Everaerts, Jan-Pieter. In memoriam Frans Buyens (1924-2004): stamvader van de Belgische sociale cinema werd 80. In: Vlaa\n",
      "Artikels: Coussemaker-van Robais, Solange de. Le Comité flamand de France (1853-1940), société savante ou mouvement régionaliste? \n",
      "Artikels: Meylaerts, Reine. La traduction dans la culture multilingue: à la recherche des sources, des cibles et des territoires. \n",
      "Artikels: Delvigne, Rob. Rondom Het behouden huis. In: WFH-verzamelkrant: 3 (1993-1994) 9 (dec. 1993) 22-25.\n",
      "Artikels: Evenepoel, Walter. Hubert van Herreweghen: terugblik op een dorp. In: Rausa (Pamel): 1 (2013) 2 (mrt) 11-14. | Evenepoel\n",
      "Artikels: Schrover, Wouter. Euthanasie en hulp bij zelfdoding in de Nederlandse romanliteratuur. In: Thema Een goede dood. Speciaa\n",
      "Artikels: De passie van de boekhandelaar. In: Confituur (Kapellen): (2015) 1 (sep) 8-9; 2 (dec) 8-9; (2016) 3 (juni) 8-9; 4 (sep) \n",
      "Artikels: Wuttke, Ulrike. Wissentransfer zwischen \"Latinitas\" und Volkssprache: Die Endkaiserlegende in der \"Fünften Partie\" des m\n",
      "Artikels: Velle, Peter. De Stationsstraat: een geschiedenis van bier, zeep, suiker, klei en stoom. In: Jaarboek Erfgoedkring 8460 \n",
      "Artikels: Tot opvoeding en versterking van den volksgeest. In: LA magazine (Gent): 3 (2018) 8-10. | Van Crombrugghe's Genootschap \n",
      "Artikels: Tijdschriftenrapport 2001. In: Jaarverslag [van het] Vlaams Fonds voor de Letteren (Berchem): (2002 [versch. 2003]) Bijl\n",
      "Artikels: Marion, Olga van. Het \"Princesse Liet-boec\" van 1605: eigentijdse thema's onder het mom van klassieke personages. In: Br\n",
      "Artikels: Stapel, Rombert & Jenine de Vries. Leydis, Pauli and Berchen revisited: collective history writing in the Low Countries \n",
      "Artikels: Pré, Kirsten de. De \"Indische\" Post. In: Metaal (Leiden): 5 (2008) 2 (nov) 8-10. | Beelen, Coen van & Jelmer Birkhoff. \"\n",
      "Artikels: Martens, Rutger. Interview met Jan Brokken. In: Op ruwe planken (Nijmegen): 8 (2009) 4 (juni) 47-52. | Lenting, Tom. 200\n",
      "Artikels: Dhondt, 1937 - Astère Michel Dhondt. In: Mededelingen van de Documentatiedienst; Nederlands Letterkundig Museum; Archief\n",
      "Artikels: Noordegraaf, Jan. Het WNT in oorlogstijd. In: Trefwoord, tijdschrift voor lexicografie 2011 (september), 1-14.\n",
      "Artikels: Roelandts, Karel. Anticipatie van konsonant. In: Mededelingen van de Vereniging voor Naamkunde te Leuven en de Commissie\n",
      "Artikels: Woestijne, Karel van de. Jongere Vlaamsche letteren, 1-2. In: Ruimte (Antwerpen): 2 (1921) 8 (oct) 97-105.\n",
      "Artikels: Dibbets, G.R.W. Taalgebruik in De Heuiters \"Nederduitse orthographie\" (1581) en Spiegels \"Twe-spraack vande Nederduitsch\n",
      "Artikels: Albert-Balázsi, Júlia. Evolutie van vaktalen in het Nederlandse en Hongaarse taalgebied. In: In memoriam Kata Damokos; [\n",
      "Artikels: Vanpée, Dominique. Over het ontstaan van de toponymie van \"den Beurre\" (borre/borne) en de waterkers in Loonbeek. In: Te\n",
      "Artikels: Piet Thomas (°Aalst, 20 april 1929); naar een tekst van Christiaan Germonpré. In: Curtricke (Kortrijk): 39 (2004) 301 (o\n",
      "Artikels: Moser, Nelleke. \"Toutes les oeuvres qu'il ait jamais composées\": de l'ouvrage à l'oeuvre dans la littérature d'expressio\n",
      "Artikels: Jan-Campert-prijzen 2009: Alfred Schaffer: \"Kooi\". In: Jan Campert-Stichting Jaarboek (Den Haag): (2009 [versch. 2010]) \n",
      "Artikels: Reijmerink, Johan. Nijhoffs gedicht \"Het Veer\": een Jungiaanse lezing. In: Jaarboek van de C. G. Jung Vereniging Nederla\n",
      "Artikels: Gerits, Joris. Herman de Coninck (1944-1997). In: Jaarboek Koninklijke Oud-Leerlingenbond Sint-Romboutscollege Mechelen \n",
      "Artikels: Kahraman, Gülcan. Mustafa Kör: \"Taal is honing voor mij: eenmaal ik proef, wil ik meer\". In: Akrostiş (Beringen): (2016)\n",
      "Artikels: Verboven, Hans. De betekenis van de naam Averbode: een overzicht van de gangbare verklaringen en een poging tot een defi\n",
      "Artikels: Maanen, Aad van. \"Wij zijn de onzichtbare meesters der samenleving\": de Antwerpse pers in de negentiende eeuw. In: Histo\n",
      "Artikels: Durme, Luc van en Antoine de Smet. De plaatsnamen van Gavere en zijn deelgemeenten zoals die voorkomen op het Popp-plan.\n",
      "Artikels: Roobaert, Bernard. Een overzicht van de dorpsnamen van West-Brabant. In: Eigen schoon en De Brabander: 91 (2008) 4 (okt-\n",
      "Artikels: Smith, David J. Sweelinck Symposium: International Sweelinck Symposium, Utrecht, 27 August - 1 September 1999. In: Early\n",
      "Artikels: Gehuchten, François van. \"Schoolmeester\" van Alfons Sevens: een roman over de kiesstrijd van Seraf Lambreghts in Klein-V\n",
      "Artikels: Paardt, Rudi van der. [Over: Boose, Johan de. Gaius. Antwerpen: De Bezige Bij Antwerpen, 2013]. In: Lexicon van literair\n",
      "Artikels: Balbaert, Roger. Stanislas Petrus Alexander Blereau: notaris - politieker - schrijver. In: 't Bruggeske (Kapellen): 50 (\n",
      "Artikels: Rossiau, Egied. Oorsprong en betekenis van een aantal Mechelse woorden (en uitdrukkingen) (11-14; 16-18). In: De Mechele\n",
      "Artikels: Bloemendal, Jan en Arjan van Dixhoorn. \"De scharpheit van een gladde tong\": literaire teksten en publieke opinievorming \n",
      "Artikels: Cahier: \"Voix poétiques de Flandre\"; présentation, choix et traduction de Daniel Cunin. In: Nunc, revue (Clichy): 36 (20\n",
      "Artikels: Jensen, Lotte. \"Toen 't volk als uit één' mond, lang leve Oranje! riep\": orangisme in het vredesjaar 1748. In: Tijdschri\n",
      "Artikels: Onthulling op 3 september 2017 van een gedenkplaat voor Paul van Ostaijen in de Naamsestraat 70 te Brussel. In: Ons Brus\n",
      "Artikels: Elk, Martine van. \"Before she ends up in a brothel\": public femininity and the first actresses in England and the Low Co\n",
      "Artikels: Blondeau, Thomas. Whatcha writin' for? In: De revisor (Amsterdam): 36 (2009) 6 (dec) 5-17. | Gerbrandy, Piet. Aan de voe\n",
      "Artikels: Klein, Maarten. Ralph Waldo Emerson and the Dutch novelist Louis Couperus (1863-1923). In: Dutch crossing (London): 29 (\n",
      "Artikels: Habex, Jef. Ook Genk verscheen in Hans' Kinderbibliotheek. In: Heidebloemke (Genk): 71 (2012) 6, 19-22.\n",
      "Artikels: Deploige, Jeroen, Bert Callens, Philippe Demonty, Guy de Tré. Remedying the obsolescence of digitised surveys of medieva\n",
      "Artikels: Sánchez Romero, Francisco. Intercambio lingüístico español-neerlandés: período bajo la Corona Española (1496-1714) de lo\n",
      "Artikels: Kleijnen, Stijn. Het ontzet van Roermond (1577-1578) op de Spaanse planken. In: De Maasgouw: tijdschrift voor Limburgse \n",
      "Artikels: Stroobants, Aimé. Gebeten van de muze: Julienne Verhas. In: Cronycke (Dendermonde): 28 (2012) (mrt-apr) 9. | Stroobants,\n",
      "Artikels: Altena, Peter. Schandaal in Delft. List en leugen in 'De Delfsche Juffer' (1758). In: Delfia Batavorum jaarboek ... / Ge\n",
      "Artikels: Foncke, Robert. Gvilielmi van-der Borcht: \"Brvsselschen Blom-hof van Cvpido\": kinderspelen te Brussel in de eerste helft\n",
      "Artikels: Acker, K. G. van. De gemeentenamen eindigend op -seli/sali versus die op -hem/gem, getoetst aan de Merelbeekse situatie.\n",
      "Artikels: Storme, Patrick, Erik Fransen, Karolien De Wael & Joost Caen. X-Ray fluorescence as an analytical tool for studying the \n",
      "Artikels: Boehmer, Elleke & Sarah De Mul. Towards a Neerlandophone Postcolonial Studies. In: DiGeSt (Gent): 1 (2014) 1, 61-72.\n",
      "Artikels: Sintobin, Tom. Oostende in de Nederlandse literatuur. In: De grote rede (Oostende): (2011) 29 (feb) 9-18. | Zeewoorden: \n",
      "Artikels: Tempels, Roger. De kinderjaren van Anton van Wilderode, een stukje Moerbeekse geschiedenis (1918-1932). In: Heemkundige \n",
      "Artikels: Mathijsen, Marita. De \"echte\" historische roman en het \"echte\" Scottiaanse dichtverhaal in \"de moderne tijd\". In: De mod\n",
      "Artikels: Clemen, Sam van & Sofie Wauters. [Jozef Weyns]. In: 't Swanekoeriertje (Heist-op-den-Berg): 42 (2013) 1 (jan-feb) 3-6; 2\n",
      "Artikels: Berckmans, Frits. Atuatuca aan de Schelde. In: Tongerse annalen (Tongeren): 31 (2017) 4 (dec) 93-100.\n",
      "Artikels: Wallet, Bart. Zonder schaamte. In: Schuld; [Gerda van de Haar inleiding ... et al.]. Speciaal nummer van: Liter (Zoeterm\n",
      "Artikels: Roegiers, Jan. Vijf eeuwen bibliotheekgeschiedenis. In: Ex officina (Leuven): 1 (1984) 1, 7-13. | Coppens, C. Recente aa\n",
      "Artikels: Janssen, Herman. Hugo de Groot sliep niet in de Zwaan!: overlevering blijkt een fabeltje. In: Van Wirskaante (Baarle-Her\n",
      "Artikels: Huysman, Joke. Reimond Stijns (1850-1905): het bewogen leven van de meest beroemde Mullemnaar, schrijver van \"Hard labeu\n",
      "Artikels: Vuyst, Julien de. Sylvain de Rouck (1896-1964): schoolmeester en pedagoog. In: De hellebaard (Herzele): 16 (2018) 1 (mrt\n",
      "Artikels: Wyckmans, Paul. Bekende Kontichnaren: dichter en letterkundige Karel Vertommen (deel I). In: Reineringen (Kontich): 9 (2\n",
      "Artikels: Vuylsteke Vanfleteren, Katrien. Aars!: een onbeschaamde kijk op de politieke dimensie van de \"Oresteia\". In: Oidipous ti\n",
      "Artikels: Vaes, Jan. Een markant ex libris van kunstenaar Broeder Max voor dichter Karel Vertommen. In: Graphia (Sint-Niklaas): (2\n",
      "Artikels: Strycker, Carl De. [Over: Ducal, Charles. Toegedekt met een liedje: gedichten. Amsterdam [etc.]: Atlas, 2009]. In: Vlaan\n",
      "Artikels: Pennen, Wilma van der. Imme Dros. In: Lexicon van de jeugdliteratuur (Antwerpen): (2017) 97 (feb) 1-17. | Pennen, Wilma \n",
      "Artikels: [Lindemans, Dirk]. Bruegel, Pol de Mont en het Pajottenland. In: Sint-Gertrudisblad (Ternat): 42 (2019) 1 (mrt) 7-12; 2 \n",
      "Artikels: Goossens, Jan, Jos Thijs. Jos Molemans. In: De drei boge (Neerpelt): 14 (2019) (juni) 1065-1067.\n",
      "Artikels: Deschamps, Karen en Willy Smedts. De beschrijving en normering van Belgisch Nederlands: een confrontatie tuusen twee mod\n",
      "Artikels: Goeminne, Luc. Saksische voornamen versus Frankische voornamen in Noord-West-Frankrijk en Vlaanderen in de Vroege-Middel\n",
      "Artikels: Acke, Daniel. Le réalisme magique et les lettres françaises: quelques réflexions sur Hubert Lampo, les lettres belges et\n",
      "Artikels: Knapp, Fritz Peter. In search of the lost French \"Ur-Renart\". In: Reinardus (Grave): 22 (2010) 65-75. | Wackers, Paul. \"\n",
      "Artikels: Keymeulen, Jacques van. Enkele notities in de marge van het Woordenboek van de Vlaamse Dialekten: het ambacht van de kui\n",
      "Artikels: Elias, Willem. Louis Paul Boon, erotomaan, wetenschapper of filosoof?: naar aanleiding van de opvoering \"Mieke Maaike's \n",
      "Artikels: Schenkeveld, Margaretha H. Het dagboek van Willem de Clercq tegen de achtergrond van het 'Journal intime' van Henri-Fréd\n",
      "Artikels: Gennip, Joep van. Franciscus Mijleman (1610-1667): een jezuïetenmissionaris werkzaam in de Ommelanden in de zeventiende \n",
      "Artikels: Keymeulen, Jacques van. Wondelgem in het Oost-Vlaamse dialectenlandschap. In: Vroonstalle jaarboek (Gent-Wondelgem): 1 (\n",
      "Artikels: Pach, Hilde. Kosher Dutch: the fate of Yiddish in the Netherlands; translated by Chris Emery. In: The Low Countries (Rek\n",
      "Artikels: Vincke, André. Jules Lagae en zijn Gezelle-medaille. In: Numismatica Brugge en het Vrije (Brugge): 23 (2013) 1 (jan) 6-1\n",
      "Artikels: Maes, Oswald. De zuster van Guido Gezelle, Florence, te Passendale. In: Het Zonneheem (Zonnebeke): 35 (2006) 3, 24-28.\n",
      "Artikels: Vandenbulcke [sic], Hein. Het dialect van Dadizele ofte het Deizels. In: Dadingisila (Dadizele): 6 (1997) 144-155; 7 (19\n",
      "Artikels: [Russell, C. W.]. Flemish literature: Hendrik Concience's tales. In: The Dublin review (London): (1846) 41 (Sep) 163-184\n",
      "Artikels: Depuydt, Els. Naar een Gezelle van deze eeuw: een dichter in de Brugse erfgoedbibliotheek. In: Koorts (Leuven): (2021) 1\n",
      "Artikels: Morrée, Cécile de. De middeleeuwse vier jaargetijden: Middelnederlandse religieuze liederen in seizoensgebonden verzamel\n",
      "Artikels: Geerdink, Nina. Economic advancement and reputation strategies: seventeenth-century Dutch women writing for profit. In: \n",
      "Artikels: Twycross, Meg. The Flemish \"Ommegang\" and its pageant cars. In: Medieval English theatre journal (Lancaster): 2 (1980) 1\n",
      "Artikels: Bussels, Stijn. Staging tableaux vivants in the theatre of the Dutch golden age. In: Revue d'art canadienne = Canadian a\n",
      "Artikels: Albert, Mandy Lowell. The \"Play about common trade\" and \"Play about empty purse\": Cornelis Everaert's Prequels to \"Elcke\n",
      "Artikels: Janson, Carol. Visualising the Dutch revolt: A Haarlem theater print of the sixteenth century. In: Source: notes in the \n",
      "Artikels: Dumolyn, Jan en Jelle Haemers. \"Let each man carry on with his trade and remain silent\": iddle-class ideology in the urb\n",
      "Artikels: Nico Gunzburg veranderde de UGent, de criminologie en een stukje van de wereld. In: UGent magazine (Gent): (2022) 4, 30-\n",
      "Artikels: Rooy, Bertus van & Rias van den Doel. Dutch and Afrikaans as post-pluricentric languages. In: International journal of t\n",
      "Artikels: Tollebeek, Jo. Pirenne en Fredericq: over historiografische ambities omstreeks 1900. In: Handelingen der Maatschappij vo\n",
      "Artikels: Noordegraaf, Jan. Een vergeten burgemeester: over J. L. Nierstrasz. In: De viersprong (Alphen aan den Rijn): 36 (2019) 1\n",
      "Artikels: Louw, Gilbert van de. \"La reine des elfes\" de Hubert Lampo: conte philosophique. In: Le conte dans les littératures germ\n",
      "Artikels: Joordens, Hanneke. Archief Frans van Dooren. In: Incontri (Utrecht): NS 27 (2012) 1, 135-136. | Pierguido, Stefano. Stud\n",
      "Artikels: Hermsen, Joke J., Allard Schröder, Dirk van Weelden. Frans Kellendonk-prijs 2008: advies van de commissie van voordracht\n",
      "Artikels: Michiels, Karel. Schilder-dichter Herman Broeckaert (1878-1930) 75 jaar geleden overleden. In: Mededelingen van de Veren\n",
      "Artikels: Mareel, Samuel. For prince and townsmen: an elegy by Anthonis de Roovere on the death of Charles the Bold. In: Mediaeval\n",
      "Artikels: Geysen, Inge. Twee gipsen Gezellebeelden. In: Schatten van vrienden. Speciaal nr. van: MB: Musea Brugge Magazine (Brugge\n",
      "Artikels: Vancolen, Paul. Hendrik Conscience en Kortrijk 1857-1868. In: De Leiegouw (Kortrijk): 49 (2007) 1, 5-78. | Debrabandere,\n",
      "Artikels: Volder, Bart de. [Over: Weemoedt, Lévi. De ziekte van Lodesteijn. Amsterdam: Contact, 1986]. In: Schoontijd (St.-Amandsb\n",
      "Artikels: Rossem, Stijn van. Politieke prenten: de Brabantse Omwenteling in vogelvlucht. In: Jaarboek Achttiende Eeuw (Hilversum):\n",
      "Artikels: Kocken, Marcel. Remy C. van de Kerckhove: herinneringen. In: Handelingen van de Koninklijke Kring voor Oudheidkunde, Let\n",
      "Artikels: Samang, Fabian van, Fransiska Louwagie en Anna Scanlon. Anne Frank, het succes van een symbool. In: Getuigen tussen gesc\n",
      "Artikels: Herreweghe, Johan van. In memoriam Antoon Lowyck. In: De Nederlanden \"extra muros\" (Ieper): 28 (2006) 146-147. | Verstra\n",
      "Artikels: Brinkman, Cok et al. Discussie over een \"naar\" (?) boek (Simon van het Reve, \"De Avonden\"). In: Nederlandsche bibliograp\n",
      "Artikels: Hoeksema, Jack. Distributieprofielen van negatief-polaire uitdrukkingen: een vergelijking met het Nederlands, Engels en \n",
      "Artikels: Ceulemans, Adelheid. \"Eene onloochenbare verwantschap\": muziek en literatuur in Vlaamse liedbundels uit de negentiende e\n",
      "Artikels: Anbeek, Ton. De mythe van de doorgesneden dubbelmens. In: Hermeneus: 82 (2010) 5, 205-209. | Schrijvers, Piet. Hoeveel n\n",
      "Artikels: Bie, Marc de. Persoonsbeschrijvingen in het Baardegems. In: Jaarboek Heemkundige Kring De Faluintjes (Herdersem): 4 (202\n",
      "Artikels: Callewaert, Dirk. Wat is er aan de hand?: hand, vingers en vuist in taal en omgang, recht, religie en magie. In: Volksku\n",
      "Artikels: Pierrart, Thomas. Nooit nu: over toekomstverbeelding in hedendaagse toekomstliteratuur. In: Toekomstbeelden; ad hoc-reda\n",
      "Artikels: Piryns, Piet. \"Jullie waren fantastisch aan mijn sterfbed\". In: Apache magazine (Borgerhout): (2021) 2 (lente) 16-17. | \n",
      "Artikels: Kijk eens naar het firmament!. In: Goud (Oudenaarde): 1 (2021) 1, 16-17. | Mast, Anita vander. Vergeten poëten: een erfg\n",
      "Artikels: Clemens, Theo. Met dank aan de censor: de informatieve waarde van precensuursporen in katholiek drukwerk uit de Nederlan\n",
      "Artikels: Laet, Danny de. In memoriam Eddy C. Bertin (1944-2018): de villa's van Eddy C. Bertin. In: Serial thriller (Antwerpen): \n",
      "Artikels: Kiekens, Ine. A heretic in Groenendaal?: the impact of In agro dominico in the Low Countries in the light of \"Vanden Twa\n",
      "Artikels: \"Shtijl\" slaat aan. In: Sonar (Leuven): (2020) 1 (sep) 30-32. | Zijn we uitgelezen? In: Sonar (Leuven): (2020) 1 (sep) 2\n",
      "Artikels: Steenbrugge, Charlotte. Physical Sight and Spiritual Light in Three Sixteenth-Century Plays of the Low Countries. In: Ma\n",
      "Artikels: Vanlandschoot, Romain. De unieke betekenis van \"Ter Waarheid\" 1921-1922 en het cultuurpolitieke klimaat in Vlaanderen na\n",
      "Artikels: Ghillebaert, Christian. Être et ne pas être à Flêtre: remarques sur le poème de Guido Gezelle (octobre 1895). In: Bullet\n",
      "Artikels: Nikolić, Srđan. \"De toekomst zal anders zijn, de toekomst zal mooier zijn!\": drie Joegoslavische vertalers van Multatuli\n",
      "Artikels: Grootaers, L. Dialectisch kleingoed. In: Leuvensche bijdragen, Bijblad (Leuven): 31 (1939) 3-4, 77-83.\n",
      "Artikels: Hoste, Anselm. [Beatrijs van Nazareth]. In: Librije (Assebroek): 3 (1967) 3-4 (juli-dec) 58-59.\n",
      "Artikels: Slob, Marjan. De hal waarin we allemaal schaatsen. In: De lage landen (Rekkem): 66 (2023) 1 (feb) 62-71. | Marnef, Guido\n",
      "Artikels: Poorter, André de. Gaston Martens en de Zultse kermisdagen in 1922. In: Bijdragen tot de geschiedenis en de folklore van\n",
      "Artikels: Marres, R. Had Gerrit Achterberg een Oedipuscomplex? In: Achterbergkroniek: 12 (1993) 2 [= 23] (nov) 14-20.\n",
      "Artikels: Verleyen, Wilfried. De Affligemse priester-monnik Dr. Robert Demuynck (1900-1982) en zijn relatie met Cyriel Verschaeve.\n",
      "Artikels: Stronks, Els. Dutch religious love emblems: reflections of faith and toleration in the later 17th century. In: Literatur\n",
      "Artikels: Paasman, Bert. Kun je nog zingen over Indië. In: Indische letteren (Oude-Wetering): 22 (2007) 3 (sep) 146-170 | Veer, Co\n",
      "Artikels: Keymeulen, Jacques van en Kathy Rys. Intersystemic correspondence rules and headwords in Dutch dialect lexicography. In:\n",
      "Artikels: Gilias, Guy. De visie van J. B. Van Hellemont [=Helmont] over de pest (de zwarte dood) tegenover de klassieke opvattinge\n",
      "Artikels: Jespers, Henri-Floris. La Fleur en papier doré (2/4). In: Connexion (Bruxelles): (2009) 17 (avr) 12-16; 18 (mai) 24-27. \n",
      "Artikels: Buelens, Geert. The silence of the Somme: sound and realism in British and Dutch poems mediating \"The Battle of the Somm\n",
      "Artikels: Vermeiren, Hugo. Herman van Winsen, auteur van \"Gespleten drieluik\". In: Polderheem (Antwerpen): 44 (2009) 2 (apr-juni) \n",
      "Artikels: Houdé, Chantal. La caracola: oeuvre de l'artiste Tone Brulin (°Anvers 1926): Station de métro Bizet à Anderlecht: toute \n",
      "Artikels: F. D. N. Hulde aan Jos de Haes. In: Nieuws van de UFSAL (Brussel): 2 (1975-1976) 4 (apr-mei) 21-22.\n",
      "Artikels: Franck, Maarten Charles J. 'Daer en is geen liefde of barmherticheyt meer in ons': percepties over criminalitiet en crim\n",
      "Artikels: Verthé, Arthur. [Over: Bergeyck, Jacques. De levende doden. Antwerpen [etc.]: Standaard-Boekhandel, 1960]. In: Band en Z\n",
      "Artikels: Stronks, Els. Het beeld bij het woord onder gereformeerde censuur. In: Delineavit et sculpsit ('s-Gravenhage): (2010) 34\n",
      "Artikels: Buysse, Cyriel. La première lecture de \"L'Oiseau bleu\". In: Maurice Maeterlinck. Speciaal nr. van: Gand artistique (Gand\n",
      "Artikels: Dijk, Yra van. Kitsch geen bezwaar: de poëzie van Houellebecq en Grunberg. In: De volksverheffing (Amsterdam): (2006) 11\n",
      "Artikels: Janssens, Gustaaf. \"Worden er dadelijk geen maatregelen getroffen, dan gaat België naar de afgrond\": Alfons van de Perre\n",
      "Artikels: Lens, Arthur. D'Eycken Boom te Lier. In: De woonstede door de eeuwen heen (Brussel): (1987) 74 (2e kwartaal) 1-17.\n",
      "Artikels: Graft, Guillaume van der. Weigering om gedicht in handschrift af te laten drukken. In: Het: blad van nú (Bilthoven): 21 \n",
      "Artikels: Heylen, Herman en Veerle Olyslager. Maria Rosseels (1916-2005): \"De jaren in Oostmalle waren de mooiste van mijn leven\".\n",
      "Artikels: Wilderode, Anton van. Bij de viering van Bert Peleman - 75. In: Karel Bulsfonds (Brussel): (1990) 3 (zomer) 7.\n",
      "Artikels: Haft, Lloyd. Terug tot de orde: een doorgroeiende ontmoeting met F. C. Terborgh. In: Gedicht. Geen gedicht; samenstellin\n",
      "Artikels: Reijmerink, Johan. De dagdroom van de wandelaar: een literatuur-psychologische lezing van het gedicht \"De wandelaar\" van\n",
      "Artikels: Avert, Walter van der. Oelegemse toponiemen. In: Contactblad Heemkundige Kring De Brakken Oelegem (Oelegem): 27 (2008) 4\n",
      "Artikels: Perdu, Carmen. Oorlogsgruwel in de frontpoëzie: Daan Boens: de Verrijzenis (1920). In: Van mensen & dingen (Gent): 9 (20\n",
      "Artikels: Schuchardt, Hugo. Zum Negerholländischen von St. Thomas. In: Tijdschrift voor Nederlandse taal- en letterkunde, TNTL (Le\n",
      "Artikels: Gerits, Jan. Liefdespoëzie van de Tongerlose dichter Martinus Stoffels (1904-1948). In: Het èzendröpke (Bree): 27 [i.e. \n",
      "Artikels: Deprez, Arne. Guy van Hoof: de kroon op het werk. In: Portulaan (Antwerpen): 18 (2002) 70 (2e kwartaal) 6-8. | Hoof, Guy\n",
      "Artikels: Ghyselen, Anne-Sophie. West-Vlamingen en het \"muggengeheugen\": feiten en fictie. In: Over taal (Kortrijk-Heule): 56 (201\n",
      "Artikels: Vinage, Béatrice du. Sonnenstunde mit Flanderns Dichter: Ein Nachmittag bei Felix Timmermans: Sonderbericht für den Berl\n",
      "Artikels: Houdt, Zr. Caritas van. De taal van het gebed. In: 48e Liturgisch Congres, Blankenberge 8-9 december 2003. \"Wij kunnen o\n",
      "Artikels: Vermoortel, Philip. Pauvre et malade: Multatuli à Spa; traduit du néerlandais par J. Martin. In: Histoire et archéologie\n",
      "Artikels: Habex, Jef. Gezelle en Limburg in de 19de eeuw. In: Bibem (Gent): 12 (1998) 4, 2-6. | Habex, Jef. Poëzie \"nu\" als Assepo\n",
      "Artikels: Bonset, I. K. Van de beeldende letteren. In: De stijl (Delft): 7 (1926) 73-74, 2-3. | Bonset, I. K. Over het nieuwe vers\n",
      "Artikels: Vries, Jan de. Die holländische Literatur. In: Niederländisches Jahrbuch (München): (1923) 156-163.\n",
      "Artikels: Vooys, C. G. N. de. Bestaat de oude flexie \"blijkens het huidige Nederlandsche vers en proza in vollen bloei\"? In: Veree\n",
      "Artikels: Hogenkamp, Hans. Straatrumour: essay. In: Bunker Hill (Amsterdam): 9 (2006) 33 (mei) 4-7. | Speet, Fleur. Geerten Meijsi\n",
      "Artikels: Janse, Mark. Eerst effe gonepse en dan gaan we psonisse: aantekeningen bij een Grieks-Hollands mengtaaltje. In: Tetradio\n",
      "Artikels: Gerits, Joris. Verzen voor een bleek en mager lief en van een bleke roofridder: \"Aan Fine\" van Willem Elsschot en \"Nog e\n",
      "Artikels: Blondeau, Roger A. Apotheker Leo Jules Vandewiele (1910-2004): een monument uit de geschiedenis van de farmacie. In: Ges\n",
      "Artikels: Smedt, Etienne de. Op keizerlijk Japans: de luxe-edities van de werken van Felix Timmermans. In: Zilveren verpozingen (L\n",
      "Artikels: Troyer, Ronald de. Vlaamse volksliederen in Oostende: Sinte Maartensliederen, Sint Niklaasliederen, Engel Gabriëlliedere\n",
      "Artikels: Laeken, Pierre van. Joseph de Haes °Leuven 22-04-1921 en +Jette 01-03-1974. In: 't Kandelaartje: 30 (2014) 2 (juni) 41-4\n",
      "Artikels: Schryver, Johan de, Anneke Neijt, Pol Ghesquière and Mirjam Ernestus. Zij surfde, maar hij durfte niet: de spellingprobl\n",
      "Artikels: Persoon, Willem. De stille zanger uit het Land van Waas: tien jaar geleden overleed Anton van Wilderode. In: D'Euzie (St\n",
      "Artikels: Nieuwenhuizen, Peter. Het ABC van boekdrukker Van Paddenburg. In: Oud-Utrecht (Utrecht): 92 (2019) 4 (aug) 146-150.\n",
      "Artikels: Nolens, Leonard. Blijvend vertrek. In: NWT: nieuw wereldtijdschrift (Antwerpen): 10 (1993) 1 (jan-feb) 56-63. | Coninck,\n",
      "Artikels: Nieuwenhuizen, Peter. Rollen en rondelen in Het Esbatement van den Luijstervinck. In: Schoon schip '93 (Groningen): 14 (\n",
      "Artikels: Wispelaere, Paul de. Drie realistische fabels van Sybren Polet. In: Nieuw Vlaams tijdschrift (Antwerpen): 21 (1968) 9 (n\n",
      "Artikels: Ekkers, Remco. Herinneringen aan Fritzi ten Harmsen van der Beek. In: De gids (Amsterdam): 173 (2010) 5 (aug) 561-567. |\n",
      "Artikels: Ghyselen, Anne-Sophie en Jacques Van Keymeulen. Implicational scales in colloquial Belgian Dutch. In: Dialectologia et g\n",
      "Artikels: Vandenbosch, Maria. Hubert van Herreweghen. In: Molenbecca (Sint-Jans-Molenbeek): 10 (2010) 40 (jan) 3-7. | Binst, Jean-\n",
      "Artikels: Dera, Jeroen. \"Hoe ze maar bleven emmeren tot ik kon lopen\": productief omgaan met interpretatieverschillen in het poëzi\n",
      "Artikels: Rooms, Jan. De geschiedenis van de rederijkerij. In: Ons camers và rhetorike (Oudenaarde): 15 (2002) 1 (1e kwart) [9-17]\n",
      "Artikels: Gilliams, Maurice. [Over: Walschap, Gerard. Celibaat. Rotterdam: Nijgh & Van Ditmar, 1934]. In: Contact (Antwerpen, 1934\n",
      "Artikels: Schreuders, Liesje en Menno Voskuil. Het vitale belang van kunst: een vraaggesprek met Maxim Februari. In: Accolade (Lei\n",
      "Artikels: Snoek, Kees. \"Pierrot is eindlik naar de maan\": Du Perrons fantaisisme in de kwatrijnen van \"Filter\". In: ZL (Kessel-Lo)\n",
      "Artikels: Vermeylen, Aug. Karel van de Woestijne, glorie van onze taal. In: Karel-van-de-Woestijnenummer; [redactie: Herman Teirli\n",
      "Artikels: Durnez, Gaston. Van Rodenbach naar Duvel: overpeinzingen van een ullewupper. In: Jaarwerk (Brugge): (2014-2015 [versch. \n",
      "Artikels: Nieuwenhuizen, Peter. Ontdekkingsreiziger Paul Julien: een chemicus, antropoloog, schrijver en verteller zoekt zijn weg \n",
      "Artikels: Lierop-Debrauwer, Helma van. The power of dialogue: religion in contemporary Dutch novels for children. In: Internationa\n",
      "Artikels: Verhave, Joke & Jan Peter Verhave. Geknipt, gedicht, gekruisigd: kunstzinnige activiteiten door of voor Anna Maria van S\n",
      "Artikels: Vogelaer, Gunther de. Een situering van het Nieuwkerks dialect. In: Nieuwkerkse kronieken (Nieuwkerken-Waas): 15 (2010) \n",
      "Artikels: Pekelder, J. Le tertium comparationis en linguistique contrastive: problèmes et méthodes. In: Linguistica Pragensia (Pra\n",
      "Artikels: Schalkwyk, Phil van. Die \"onbenul\" van negentig: Nederlandse lettere en identiteit met verwysing na Charlotte Mutsaers e\n",
      "Artikels: Roobaert, Bernard. Le nom de Graty (Hoves). In: Annales du Cercle Archéologique d'Enghien (Enghien): 40 (2007) 29-40.\n",
      "Artikels: Uyttersprot, Marc. De Catharinisten in de tijd van het Verenigd Koninkrijk (1815-1830). In: Mededelingen van de Verenigi\n"
     ]
    },
    {
     "name": "stderr",
     "output_type": "stream",
     "text": [
      "\n"
     ]
    },
    {
     "name": "stdout",
     "output_type": "stream",
     "text": [
      "::: ../data/llm-dump/2020s :::\n",
      "../data/llm-dump/2020s/JFULL_consolidated.ris\n"
     ]
    },
    {
     "name": "stderr",
     "output_type": "stream",
     "text": [
      "100%|██████████| 161/161 [00:00<00:00, 74060.42it/s]\n"
     ]
    },
    {
     "name": "stdout",
     "output_type": "stream",
     "text": [
      "Artikels: Gerbrandy, Piet. De feniks, de zwaan en de nachtegaal: verticaal lezen in de Late Oudheid en Middeleeuwen. In: Grenzen i\n",
      "Artikels: Maris, Berthold van. Niets maakbaarder dan spelling! (Toch?). In: Hoe maakbaar is taal? Speciaal gedeelte van: Onze taal\n",
      "Artikels: Meeus, Ronald. Gamen is lezen. In: Power-up: literatuur en videogames; curator: Arnoud van Adrichem. Speciaal nr. van: D\n",
      "Artikels: Doolan, Paul. Reservoirs of violence: Beb Vuyk's postcolonial stories. In: Seventy-five years after the end of World War\n",
      "Artikels: Spits, Frits. Over liefde voor het Nederlandstalige lied: op de golven dansen wij. In: Het Nederlandstalige lied; [gastr\n",
      "Artikels: Steurs, Frieda. Language is business!: on the impact of linguistic applications in our society. In: Special Proceedings \n",
      "Artikels: Beheydt, Ludo. Cultural identity and language in the Low Countries. In: Special Proceedings issue of the CAANS-ACAÉN mee\n",
      "Artikels: Demeyer, Hans. Werelden inrichten na het verlies van gemeenschap: beelden van gemeenschap in hedendaagse poëzie en proza\n",
      "Artikels: Viljoen, Hein. Van Dido tot Penelope: creolisering van de klassieken bij Elisabeth Eybers. In: Literatuur op reis. Speci\n",
      "Artikels: Horst, Joop van der. Hoe de spreektaal de échte taal werd: de veranderingen in de negentiende eeuw. In: De negentiende e\n",
      "Artikels: Pous, Irene de. Vanaf nu een \"redactrice\": zoektocht naar een passende functienaam. In: Taal en gender. Speciaal gedeelt\n",
      "Artikels: Vanacker, Hans. À mi-chemin entre Amsterdam et Paris: cinquante ans de \"Septenbrion\" et de relations culturelles néerlan\n",
      "Artikels: Haute, Emilie van. Une architecture institutionnelle complexe: le statut politique de Bruxelles. In: Dossier: Labo Bxl: \n",
      "Artikels: Noord, Lidewey van. L'élastique ou le chasse-patate: ou comment la langue française m'a fait entrer dans l'univers du cy\n",
      "Artikels: Groen, Ruben in 't. La langue du voisin: l'enseignement du néerlandais dans le nord de la France. In: Dossier: Convergen\n",
      "Artikels: Meijer, Maaike. L'homme relégué à l'arrière-plan: le roman lesbien contemoporain aux Pays-Bas. In: Dossier: L'origine du\n",
      "Artikels: Bossenbroek, Martin. De Witte Onschuld van Multatuli. In: Multatuli leeft; Sjoerd van Faassen en Hans Renders. Speciaal \n",
      "Artikels: Koppenol, Johan. Deugd verheugt: moreel management in de vroegmoderne Nederlanden. In: Themadossier: Deugd en ondeugd: m\n",
      "Artikels: Houthoofd, André & Augusta Houthoofd. De naam Houthoofd. In: Dossier: familienamen. Speciaal nr. van: Vlaamse stam (Antw\n",
      "Artikels: Thiers, Paul. Bibliografie van \"De blijde dag\". In: Een vreemde dag: Stijn Streuvels' \"De blijde dag\"; onder redactie va\n",
      "Artikels: Sleiderink, Remco, Helleke van den Braber, Nina Geerdink en Laurens Ham. Naar een diachrone blik op de verdiensten van N\n",
      "Artikels: Lierop-Debrauwer, Helma van. De \"tomboys\" van Tine van Berken: genderscripts in \"Een klaverblad van vier\" en \"De dochter\n",
      "Artikels: Laureys, Tom. Behoud de begeerte, maar beheers ze: het seksueel rationalisme van Hadriaan Beverland en Lodewijk Meyer. I\n",
      "Artikels: Thiers, Paul. Bibliografie van \"Grootmoederken\". In: Stijn Streuvels en het toneel; onder redactie van Marcel de Smedt. \n",
      "Artikels: Velde, Freek van de & Joop van der Horst. De taalwetenschap: een plaatsbepaling. In: De taalwetenschap: een plaatsbepali\n",
      "Artikels: Vanlandschoot, Romain. De exil-geschriften van Cyriel Verschaeve voltooid in Solbad Hall 1944-1946. In: Solbad-Hall 70 j\n",
      "Artikels: Ummelen, Bert. Aalst, Boon en de vergankelijkheid: wandeling door de stad van Louis Paul Boon. In: Louis Paul Boon. Spec\n",
      "Artikels: Postma, Ferenc. Ex libris Steph. S. Mányoki. Zeldzaam academisch drukwerk uit Franeker in de Klimo Bibliotheek te Pécs. \n",
      "Artikels: Daele, Rik van. De Reynaertcollectie van Herman Heyse (1937-1992). In: Verzameldingen; [red. Yvan De Maesschalck... et a\n",
      "Artikels: Bollaert, André. Cyriel Buysse over Poesele en de Poeselaars. In: Bollaert, André. 900 jaar Poesele (1121-2021). Speciaa\n",
      "Artikels: Hollander, August den & Mirella Klomp. Het lijdensverhaal uit het Middelnederlandse \"Leven van Jezus\": kritische editie \n",
      "Artikels: Goudriaan, Koen. The Spirituality of \"De imitatione Christi\": a historian's reflection on asceticism and mysticism in th\n",
      "Artikels: Meijer Drees, Marijke. \"Ik, Vondel\" (2017) van Hans Croiset als fictieve autobiografie. In: [Themanummer romananalyse]; \n",
      "Artikels: Molenaar, Sven. \"De trou schijnt schoon\": over libertijnse literatuur in de laatzeventiende-eeuwse Zuidelijke Nederlande\n",
      "Artikels: Grave, Jaap. Johannes Franck: een carrière in de marge. In: Over universitaire culturen, toen en nu. Speciaal nummer van\n",
      "Artikels: Mathijsen, Marita. Ten voordele van... liefdadigheidsuitgaven in de negentiende eeuw. In: Crisis en catastrofe: de Neder\n",
      "Artikels: Sintobin, Tom & Marguérite Corporaal. \"Turf is nu eenmaal een vruchtbaar terrein voor de fantasie\": de literaire verbeel\n",
      "Artikels: Mantingh, Erwin & Marijke Meijer Drees. Nederlandse letterkunde: tijdschrift, vakwetenschap, schoolvak. In: [Themanummer\n",
      "Artikels: Bettens, Jan. Alsof ik aan de liefde heb gedaan. In: Roger Van de Velde; samenstelling: Jan Bettens; eindredactie: Koen \n",
      "Artikels: Coussens, Evelyne. Kindje met een dubbel statuut. In: Theaterliteratuur; samenstelling: Nico Boon, Stijn Devillé, Xandry\n",
      "Artikels: Moragie, Max. De zelf gecreëerde ongrijpbaarheid. In: Mythomanie; samenstelling: Michiel Kroese & Wim Michiel; eindredac\n",
      "Artikels: Keteleer, Hilde. Niet-strategische overwegingen. In: Vertaling; samenstelling: Ernest De Clerck; eindredactie: Koen van \n",
      "Artikels: Lecompte, Delphine. Bedankt voor de angst, Belinda. In: Angst; samenstelling: Virginia Platteau; eindredactie: Koen van \n",
      "Artikels: Troch, David. Wiskundeleraar. In: Potentiële literatuur; samenstelling: Sylvie Marie en Max Moragie; eindredactie: Koen \n",
      "Artikels: Pleysier, Leo. Ziende blind. In: \"Met andermans woorden is niets te beginnen\": Maurice Gilliams; Bart Meuleman, Leen Hue\n",
      "Artikels: Barnard, Benno. Licht geschifte kinderboeken. In: Het oerboek: portretten van de schrijver als jonge lezer; Arnoud van A\n",
      "Artikels: Berckmans, J. M. H. OH SUPERMAN OH RECHTER OH ANTHONY OH MA EN PA; inleiding en selectie door Chris Ceustermans. In: Sch\n",
      "Artikels: Azzouzi, Fikry El. Een irritant pestjoch. In: Satire: de gespierde lach; Hugo Bousset & Dirk Leyman (red.). Speciaal ged\n",
      "Artikels: Pylyser, Charlotte. Hoe \"Vlaams\" is de [grote, kleine] Vlaamse graphic novel? In: De Grote Vlaamse Striproman; Sébastien\n",
      "Artikels: Kurvers, Jeanne & Roel van Steensel. Over de drempels van geletterdheid: laaggeletterde ouders helpen hun jonge kind te \n",
      "Artikels: Weyden, Esohe. Tussentaal. In: Horen en gehoord worden: luisterliteratuur in de Lage Landen; Jens Meijen (red.). Speciaa\n",
      "Artikels: Keteleer, Hilde. Vergrendelde deuren. In: [Paul van Ostaijen en Maurice Carême]. Speciaal gedeelte van: Ambrozijn (Vlete\n",
      "Artikels: Odijk, Jan. De verleidingen en gevaren van GrETEL. In: Dag van de Nederlandse Zinsbouw 12; red. Timothy Colleman, Hans B\n",
      "Artikels: Pinget, Anne-France. First language effects on the identification and evaluation of second language speech: the case of \n",
      "Artikels: Warnar, Geert. De andere Mertens: Jacob van Maerlant Martijn-dialogen als drieluik. In: Geest in letteren gespiegeld: es\n",
      "Artikels: Missinne, Lut. \"Een plasje water en een mus\": verdichte plaatsen in de poëzie van Hubert van Herreweghen. In: Hubert van\n",
      "Artikels: Lauwereyns, Jan. De dagpoort. In: Tussenruimte; Jan Lauwereyns & Tomohiro Hanada (red.). Speciaal gedeelte van: Dietsche\n",
      "Artikels: Corver, Norbert. Generatieve syntaxis van het Nederlands: standen van zaken en een casusstudie. In: Dag van de Nederland\n",
      "Artikels: Steurs, Frieda & Kris Heylen. De Waagmeester van de woordenschat. In: [Dirk Geeraerts;] red. Ad Foolen. Amsterdam: Amste\n",
      "Artikels: Dijcks, Evi & Olga van Marion. \"Mogt wetenschap de ziel bekooren\": vriendschap en geleerdheid binnen Nederlands eerste v\n",
      "Artikels: Daele, Rik van. De fabel van \"De vos en de ooievaar\" in een veertiende-eeuws Maaslands antifonarium uit de collectie van\n",
      "Artikels: Degrave, Pauline & Philippe Hiligsmann. De behoefte aan vreemde talen van jonge universitair opgeleiden op de werkvloer \n",
      "Artikels: Huigen, Siegfried. Een Indië van papier: het lange leven van François Valentyns \"Oud en Nieuw Oost-Indiën\" in de negenti\n",
      "Artikels: Ikram Elmorabet. In: Demarrage!; samenstelling: Virginie Platteau en Anneleen van Offel; eindredactie: Koen van Baelen. \n",
      "Artikels: Adolphe, Jean-Marc. Le jeu décomplexé: le théâtre flamand vu de France. In: Dossier: Les arts de la scène / Le virus du \n",
      "Artikels: Muller, Hans. Samenwerken met Eric de Volder 1988-1992. In: Eric de Volder; gastredactie: Benjamin van Tourhout. Speciaa\n",
      "Artikels: Severi, Esther. Een theater in wording voor een maatschappij in wording: het politieke engagement van Marianne Van Kerkh\n",
      "Artikels: Hengel, Mirjan van. Een stoel op het plein. In: Van de zegen en de vloek der ouderdom; Alicja Gescinska (red.). Speciaal\n",
      "Artikels: Mertens, Thom. \"Jhesus collacien\": een Middelnederlandse visioenprekenbundel. In: \"Jhesus collacien\"; Kees Schepers, Tho\n",
      "Artikels: Abicht, Ludo. Toen \"Rerum novarum\" nog \"revolutie\" betekende: of waarom \"links\" en \"rechts\" nog steeds zinvolle labels z\n",
      "Artikels: Groot, Pepijn de. Een ongeleid projectiel in de kunsten: een portret van de Marokkaans-Nederlandse rapper-dichter Omar D\n",
      "Artikels: Vitse, Sven. Elastisch of van glas?: verschillen tussen hedendaags Vlaams en Nederlands proza. In: Schotse literatuur; s\n",
      "Artikels: Schut, Bouke. Sofie Verraest: \"De literatuur is mij als het ware voor geweest om aan de norm te ontsnappen\". In: Demarag\n",
      "Artikels: Meulenbelt, Anja. Eindelijk erkenning voor wat ook werk is. In: Dodelijk werk; samenstelling: Koen van Baelen; eindredac\n",
      "Artikels: Delaet, Margot. Over de canon. In: F*ministi; samenstelling: Bouke Schut en Stefanie Huysmans-Noorts; eindredactie: Koen\n",
      "Artikels: Vlaar, Maria. Het geheime zelf of de zinkgaten van de biograaf: een essay. In: De bronnen van de biograaf; samenstelling\n",
      "Artikels: Vliet, H. T. M. van. Feit en mystiek: de zichtbare en onzichtbare wereld in \"De stille kracht\". In: De stille kracht. Sp\n",
      "Artikels: Vandevoorde, Hans. Extatische begoochelingen: aantekeningen bij een oerboek van Maurice Gilliams. In: Begrijpend lezen; \n",
      "Artikels: Februari, Maxim. De kunst om in ongenade te vallen. In: De temperatuur van de literatuur. Speciaal gedeelte van: De lage\n",
      "Artikels: Schoenaers, Dirk. Een verloren hoofdstukje van de \"Brabantsche yeesten?\": Vanden parlementen die te Mechlen lagen ende a\n",
      "Artikels: Pos, Arie. Een monumentale mislukking: Gerrit Komrij en Olympia Press Nederland. In: [Gerrit Komrij; redactie: Manu van \n",
      "Artikels: Leufkens, Sterre. Beter spreken door meer te zwijgen. In: Ssst... Thema: de kracht van stilte. Den Haag: Genootschap Onz\n",
      "Artikels: Berghe, Ruben vanden & Siebe Bluijs. De verbeelding van het internet in de Nederlandse literatuur van de jaren negentig.\n",
      "Artikels: Ackermans, Linda. \"Hoe het voelt om een meisje te zijn\": representaties van adolescentie in de roman \"Regeneratie\" van E\n",
      "Artikels: Demets, Lisa. French literature in mono- and multilingual social contexts: the production and reception of French litera\n",
      "Artikels: Ooms, Miet. Het Nederlands in feiten en cijfers. In: Nederlands is een werkwoord. Speciaal gedeelte van: De lage landen \n",
      "Artikels: Magiels, Geerdt. Darwins loflied: het meerstemmige dierenkoor van P. C. Hooft-prijswinnaar Tijs Goldschmidt. In: Allemaa\n",
      "Artikels: Fruyt, Myrdhin de. Reinhart, of natuur en verbeelding: een ecokritische analyse van de verhouding tussen mens en natuurl\n",
      "Artikels: Dijcks, Evi. \"Laet de zuivre trouw en liefde van Beleid nooit slippen uit uw oogen\": allegorieën en engagement in \"Het f\n",
      "Artikels: Burki, Ulrike. Voor Conscience en vaderland!: de uitbeelding van Hendrik Consciences \"De Boerenkrijg\" (1853) op de Consc\n",
      "Artikels: Groot, Kees de. Uitgekristaliseerd en vloeibaar: de verbeelding van religie in beeldverhalen. In: Religie en spiritualit\n",
      "Artikels: Bossche, Sven van den. Van gender tot genot: de travestiecollage als trans verhaalvorm in \"Het grimmige genieten\" (1992)\n",
      "Artikels: Davelaar, Loranne. \"Ik trek mij terug en wacht\": water, gender en tijd in gedichten van Roland Holst, Vasalis en Prins. \n",
      "Artikels: Peeters, Eline & Sander Bax. Leren de wereld te lezen: op weg naar een intermediale literatuurdidactiek. In: Intermedial\n",
      "Artikels: Velden, Jeske van der. Heldin of voortreffelijke dienstmaagd?: leven en werk van Rosey Pool. In: Uitsluiting & vertaling\n",
      "Artikels: Pauwels, Frauke. Hoe kinderboeken Reynaert jong houden. In: Kinder- en jeugdboeken; [red. Yvan De Maesschalck... et al.]\n",
      "Artikels: Fijhoff, Willem. Multilingualism and plurilingualism. Language use, teaching and proficiency in the Dutch Republic as so\n",
      "Artikels: Willemse, Leo. Het spook en de schaduw: een leesverslag. In: Uit de archieven. Speciaal nr. van: Vestdijkkroniek (Heemst\n",
      "Artikels: Boone, Marc & Tom Verschaffel. \"Et pour les Belges la même chose\"?: het Vlaamse aandeel in de bmgn. In: 50 jaar BMGN: om\n",
      "Artikels: Stipriaan, René van. Bredero’s roem en vergetelheid: het debet en credit van de herdenkingscultuur. In: Bredero; Arie-Ja\n",
      "Artikels: Pettegree, Andrew en Arthur der Weduwen. Forms, handbills and affixed posters: surveying the ephemeral print production \n",
      "Artikels: Carnelos, Laura. Popular print under the press: strategies, practices and materials. In: European dimensions of popular \n",
      "Artikels: Pijpops, Dirk. What is an alternation?: six answers. In: The wealth and breadth of construction-based research; [gastred\n",
      "Artikels: Wyngaerd, Emma vanden, Renata Enghels, Mena B. Lafkioui en Marie Steffens. Introduction: current perspectives on codeswi\n",
      "Artikels: Andries, Fien, Geert Brône, Myriam Vermeerbergen. Stance in Flemish Sign Language: a multimodal and polysemiotic phenome\n",
      "Artikels: Bel, Jacqueline. Streuvels in context: Dostojevski, Flaubert en Van Deyssel. In: Stijn Streuvels 150 jaar: een internati\n",
      "Artikels: Lieshout, Ted van. Langzaam verdwijn ik uit de tijd. In: Verboden stemmen. Speciaal nummer van: Tirade (Amsterdam): 67 (\n",
      "Artikels: Provoost, Anne. \"Ik val regelmatig flauw, maar laat het niet zien\": zelfinterview van een laatbloeier. In: Laatbloeiers;\n",
      "Artikels: Sicking, Anja. Po tisch. In: Geloof. Speciaal nummer van: Tirade (Amsterdam): 66 (2022) (jun) [=488] 6-11. | Hemmerechts\n",
      "Artikels: Marie, Sylvie. \"Ja, écht, ik houd het meest van vertaalde poëzie\": interview met Rand Helawi door Sylvie Marie. In: Dema\n",
      "Artikels: Binsbergen, Hannah van. Een emmer grondels. In: Horrornummer. Speciaal nummer van: Tirade (Amsterdam): 65 (2021) (dec) [\n",
      "Artikels: Verduin, Lodewijk. Gesprek met een vriend: E. du Perron, \"Verzameld werk 2\" (1955). In: Op de plank: 75 jaar Uitgeverij \n",
      "Artikels: Kleinherenbrink, Arjen. Leven in kritieke zones. In: Zoöp. Speciaal gedeelte van: De gids (Amsterdam): 185 (2022) 5, 14-\n",
      "Artikels: Gerbrandy, Piet. Het goede bestaat niet. In: Goeddoen. Speciaal gedeelte van: De gids (Amsterdam): 185 (2022) 4, 22-23.\n",
      "Artikels: Weijers, Niña. Bevoorrechte gebieden, of: de red herring is een red herring. In: Detective. Speciaal gedeelte van: De gi\n",
      "Artikels: Barbiers, Sjef. Laboratoriumzinnen in het tijdperk van de kwantitatieve taalkunde. In: 25 jaar Nederlandse taalkunde / D\n",
      "Artikels: Konvička, Martin en Kristin Stöcker. (Non-)Ellipses in Dutch, English, and German: the case of because X. In: A Germanic\n",
      "Artikels: Aluç, Mira. Rondhangen. In: Mode, meerstemmig. Speciaal gedeelte van: De gids (Amsterdam): 184 (2021) 1, 10-11. | Gerbra\n",
      "Artikels: Dekker, Nikki. Levende deeltjes. In: Geesten. Speciaal gedeelte van: De gids (Amsterdam): 183 (2020) 1, 9. | Daalen, Mar\n",
      "Artikels: Fresco, Louise O. Be-smet. In: Pijnlijke woorden. Speciaal gedeelte van: De gids (Amsterdam): 183 (2020) 2, 3. | Tedja, \n",
      "Artikels: Versteeg, Wytske. Chiaroscuro. In: De langste nacht. Speciaal gedeelte van: De gids (Amsterdam): 183 (2020) 6, 12-13. | \n",
      "Artikels: Vries, Daan Remmerts de. Het verdwijnen van de lege ruimte. In: Waar wil je bij horen? Speciaal gedeelte van: De gids (A\n",
      "Artikels: Sonnenschein, Johan. Welkom in Holland? In: Het zestde zintuig. Speciaal gedeelte van: De gids (Amsterdam): 183 (2020) 4\n",
      "Artikels: Weelden, Dirk van. Ik verdom het. In: Doe-het-zelf-design. Speciaal gedeelte van: De gids (Amsterdam): 183 (2020) 5.,\n",
      "Artikels: Vliet, Rietje van. \"O koene pofhans van parnas!\": het psalmendebat tussen Walcheren en Leiden (1756-1760). In: Muziek en\n",
      "Artikels: Menkveld, Emilia, Heleen Oomen, Elies Smeyers en Eva Wissenburg. Jonge vertalers: met uitsterven bedreigd?: woord vooraf\n",
      "Artikels: Naaijkens, Ton. Het verhaaljaar 2021: een ingetogen inleiding. In: Het vertaaljaar 2021. Speciaal nummer van: Filter (Ni\n",
      "Artikels: Bindervoet, Erik. Tractatus translatiano-philosophicus. In: Al die wrijvingen. Speciaal nummer van: Filter (Nijmegen): 2\n",
      "Artikels: Bernaerts, Lars. Het hoorspel van de telefonerende stem: Ramsey Nasrs \"De andere stem\" als antwoord op Jean Cocteaus \"La\n",
      "Artikels: Joosten, Jos. Het einde vaan het literaire pact? In: Betere waarheid: over hedendaagse literaire non-fictie; Arnoud van \n",
      "Artikels: Schyns, Désirée, Ilse Logie en Elies Smeyers. Wat blijft: archiefwerk, vertaalgedachtenis. In: Vertalersarchieven. Nijme\n",
      "Artikels: Nieuwenhuis, Ivo. Tegen satire: mythes over humor en spot. In: Satire. Speciaal nummer van: Vooys (Utrecht): 38 (2020) 2\n",
      "Artikels: Beek, Suzanne van der. Gi-ga-groene vertalingen. In: Kinder- en jeugdboeken in vertaling. Speciaal gedeelte van: Filter \n",
      "Artikels: Bruyn, Ben de. Klimaat, migratie en evolutie in \"Gun Island\" en \"Grand Hotel Europa\". In: Animal studies. Speciaal numme\n",
      "Artikels: Bekius, Lamyk. Door de ogen van een toetsenbord: inzoomen op het literaire schrijfproces via born-digital tekstgenetisch\n",
      "Artikels: Naaijkens, Ton. Het vertaaljaar 2022. In: Het vertaaljaar 2022. Speciaal nummer van: Filter (Nijmegen): 30 (2023) 1 (mrt\n",
      "Artikels: Beek, Suzanne van der en Rosalyn Borst. Seksistische sprookjes en feministische vertalingen. In: Voor, van & over vrouwe\n",
      "Artikels: Jensen, Lotte. De schoonheid van een ramp: de culturele verbeelding van de watersnood van 1799. In: Rampspoed. Speciaal \n",
      "Artikels: Dietz, Feike. Literatuuronderwijs als bijvangst?: wat we kunnen leen van hoe achttiende-eeuwse leerboeken literaire vaar\n",
      "Artikels: Thierens, Sanne. Van mjoeziekul tot verboden liefde: Annie M. G. Schmidt en haar musicals. In: Muziek. Speciaal nummer v\n",
      "Artikels: Minnaard, Liesbeth. Het meervoudige monster: hoe Jacob Israël de Haans \"Het monster van China\" in en voorbij hokjes denk\n",
      "Artikels: Haan, Martin de. Ai ai ai!: reactie op het ATLAS/ATLF-manifest. In: Mens & machine. Speciaal nummer van: Filter (Nijmege\n",
      "Artikels: Scholten, Anneloek. Van \"onderlinge hulp\" naar \"onkunde en vooroordeel\": de omslag in literaire representaties van tegen\n",
      "Artikels: Borowski, Andrzej. Narratie en synthese – een praktisch probleem voor de lezing van literatuurgeschiedenis: Casus: Morci\n",
      "Artikels: Naaijkens, Ton. Het vertaaljaar 2020 - toch nog feest. In: Het vertaaljaar 2020. Speciaal gedeelte van: Filter (Enschede\n",
      "Artikels: Naaijkens, Ton. Het vertaaljaar 2019 - ter inleiding. In: Het vertaaljaar 2019. Speciaal gedeelte van: Filter (Nijmegen)\n",
      "Artikels: Debruyne, Heleen. Pornografie, vriendin of vijand? In: Hoe bevrijd is onze seksualiteit? Speciaal gedeelte van: De lage \n",
      "Artikels: Geest, Paul van. Onenigheid en tweesporenbeleid: de visie op slaven in de katholieke kerk tot de achttiende eeuw en hoe \n",
      "Artikels: Baay, Reggie. Halt, ellendig produkt [...] en verdwyn! In: Bekende en minder bekende Nederlanders en hun favoriete passa\n",
      "Artikels: Leerdam, Andrea van. Gezond oud worden met de adviezen van een schaapherder. In: Mens en natuur in de Middeleeuwen. Spec\n",
      "Artikels: Verhoeven, Gerrit. Tijdloos: een inleiding \"in den haest\". In: Themadossier: Tijdloos?: op zoek naar het ritme van het d\n",
      "Artikels: Vergeer, Tim. Dromen over China: oriëntalistische beelden van China in twee zeventiende-eeuwse tragedies. In: Themadossi\n",
      "Artikels: Vugt, Ingeborg van. Netwerken in de vroegmoderne tijd: de vrienden en vijanden van Nicolaas Heinsius. In: Themadossier I\n",
      "Artikels: Rovers, Daniël. Een leesdier. In: Jonge vertalers. Speciaal gedeelte van: Filter (Nijmegen): 27 (2020) 2 (juni) 8-12. | \n",
      "Artikels: Haan, Martin de. De vertaler als auteur. In: The state of translation 2020. Speciaal gedeelte van: Filter (Nijmegen): 27\n",
      "Artikels: Verhasselt, Ruben. Mijn debuut: hoe ik er twee keer voor werd betaald en nog eens duizend gulden toe kreeg. In: Vertaalm\n",
      "::: ../data/llm-dump/2010s :::\n",
      "../data/llm-dump/2010s/JFULL_consolidated.ris\n"
     ]
    },
    {
     "name": "stderr",
     "output_type": "stream",
     "text": [
      "100%|██████████| 442/442 [00:00<00:00, 77393.44it/s]\n"
     ]
    },
    {
     "name": "stdout",
     "output_type": "stream",
     "text": [
      "Artikels: Boer, David de. Picking up the pieces: catholic material culture and iconoclasm in the Low Countries. In: Beeldenstorm: \n",
      "Artikels: Vandendriessche, Joris en Liesbet Nys. Expansion through separation: the linguistic conflicts at the University of Leuve\n",
      "Artikels: Menkveld, Emilia. Koudwatervrees. In: Een waaier van emoties. Speciaal nummer van: Filter (Nijmegen): 25 (2018) 4 (dec) \n",
      "Artikels: Kok, Marije. Over haastvertalingen en woordkunstenaars. In: Het vertaaljaar 2016. Speciaal gedeelte van: Filter (Nijmege\n",
      "Artikels: Spiessens, Anneleen. De ironische vertaling: \"Kommandant in Auschwitz\". In: Oorlog & Vertalen. Speciaal gedeelte van: Fi\n",
      "Artikels: Wissenburg, Eva. Echte mensen in een getekende wereld. In: Beeld en woord. Speciaal gedeelte van: Filter (Nijmegen): 24 \n",
      "Artikels: Groot, Ger. Een stoutmoedige standaard: Diederik Boomsma's vertaling van Ortega y Gassets \"De opstand van de massamens\".\n",
      "Artikels: Walstijn, Wilbert van. Roman en film: concurrente of symbiose? In: Vestdijk en de film. Speciaal gedeelte van: Vestdijkk\n",
      "Artikels: Altena, Peter. Uit de schrijffabriek: Gerrit Paape (1752-1803) als industrieel vertaler van Duitse literatuur. In: Portr\n",
      "Artikels: Veth, Mirjam de. Tylia, een onvoltooid portret. In: Portretten. Speciaal gedeelte van: Filter (Nijmegen): 23 (2016) 4 (d\n",
      "Artikels: Smits, Ivo. Hartzeer van de moderne mens. In: Het vertaaljaar 2014. Speciaal gedeelte van: Filter (Nijmegen): 22 (2015) \n",
      "Artikels: Franssen, Thomas. Vertaalstromen in fictie en poëzie tussen 1981 en 2009. In: Vertaalkritiek. Speciaal gedeelte van: Fil\n",
      "Artikels: Smits, Ivo. \"Zijt gij het mijn prins? vroeg ze hem. Dan hebt ge wel lang op U laten wachten.\": Nederlandse hervertalinge\n",
      "Artikels: Beurskens, Huub. Murray in de lage landen. In: Het vertaaljaar 2013. Speciaal gedeelte van: Filter (Nijmegen): 21 (2014)\n",
      "Artikels: Brandsma, Frank. Harig, maar welbespraakt en alwetend: baby Merlijn en Merlijn als wildeman. In: Het lichaam. Speciaal n\n",
      "Artikels: Adams, Sarah & Kornee van der Haven. De schertsende dukaten van een opperkoopman: over de breuklijnen van een abolitioni\n",
      "Artikels: Sijs, Nicoline van der. Spaans in het Nederlands, en andersom. In: Thema: het Spaans. Speciaal nr. van: Onze taal (Den H\n",
      "Artikels: Lubbers, Arnold. Het Noord-Nederlandse leesgezelschap in het Verenigd Koninkrijk der Nederlanden: broedplaats voor natio\n",
      "Artikels: Baan, Els de. Praten via je kleding: wat zeggen teksten op shirts? In: De taal van kleding. Speciaal gedeelte van: Onze \n",
      "Artikels: Loosbroek, Sebastiaan van. Grof gedicht voor 150 euro: hoe goed zijn de sinterklaasrijmen van het internet? In: De taal \n",
      "Artikels: Ockeley, Jaak. Jan Lindemans, naamkundige en beoefenaar van de lokale geschiedschrijving. In: Bijzonder jubileumnummer n\n",
      "Artikels: Broeck, Walter van den. Proeve van serendipiteus epibreren. In: Het Turnhoutse geheugen van Brabant: opstellen over de g\n",
      "Artikels: In memoriam Alfred Schaffer: gesprek. In: In memoriam; [redactie Ester Naomi Perquin... et al.]. Speciaal nummer van: Ti\n",
      "Artikels: Halsema, Dick van. 'Waar hij zoo lang heeft gewoond': bezoekers op de kamer van Leopold. In: De kamer van Leopold; speci\n",
      "Artikels: Bakker, Gerbrand. Iconoclasme. In: Een kamer in het verleden; [met medewerking van Jeroen van Kan... et al.]. Speciaal n\n",
      "Artikels: Franssen, Gaston. De illusie van intimiteit: het popidool als model voor het schrijverschap van Boudewijn Büch. In: Them\n",
      "Artikels: Hofstra, Tette. Zum niederländischen Wort „zeep“ und seinen Verwandten. In: Thi Timit Lof: Festschrift für Arend Quak zu\n",
      "Artikels: Bekkering, Harry. In memoriam Gerard de Vriend (1943-2010). In: Literatuur zonder leeftijd (Leidschendam): 24 (2010) 81 \n",
      "Artikels: Sterck, Marita de. Dag Henri, dag maten van Henri, Fiere Sicambers altegader. In: Thema: Henri van Daele; redactie Bea R\n",
      "Artikels: Vitse, Sven. Over barbaarsheid en linksigheid: enkele bedenkingen bij recent geëngageerd proza. In: Dossier Links; [Arno\n",
      "Artikels: Rutten, Gijsbert. Normalisering en zelfstilering: sociolinguïstische aspecten van het journaal van Arie Knock (1763-1816\n",
      "Artikels: Borrie, Gilles W.B.B. Herinneringen en ontmoetingen: burgemeester, historicus, vrijmetselaar. In: 150 jaar Frederik van \n",
      "Artikels: Nissen, Peter. Het verlangen naar de hemel: culturele representaties van oude en nieuwe vormen van religiositeit in de n\n",
      "Artikels: Berg, Willem van den. Van voor- en schaduwlopers. In: In de schaduw van de meester: bijdragen aangeboden aan Prof. Dr. P\n",
      "Artikels: Brunetti, Simona, Marco Prandoni. The Herla projects in Flanders; ingeleid door Els Stronks. In: Themadossier: internati\n",
      "Artikels: Vlist, Ed van der & Kathryn M. Rudy. Het geschreven boek in Nederland tot omstreeks 1400: continuïteit en emancipatie. I\n",
      "Artikels: Janssens, Marcel. Stijn Streuvels internationaal bekeken. In: Stijn Streuvels en de Europese literatuur; onder redactie \n",
      "Artikels: Dorleijn, Gillis. De auteur: levende dode en amfibie: over de wisselende blik van de literatuurwetenschapper en zijn oog\n",
      "Artikels: Maijer, Sanne de. Een moderne kijk op de klassieken. In: Max van der Kamp scriptieprijs 2009: vier nominaties en een win\n",
      "Artikels: Daalder, Saskia. Wat aan de AVT voorafging: de Nederlandsche Phonologische Werkgemeenschap. In: Daalder, Saskia, Ad Fool\n",
      "Artikels: Hertmans, Stefan. Op het kruispunt. In: Paul de Wispelaere, tussen Vlaanderen en Nederland. Speciaal nummer van: Boelvaa\n",
      "Artikels: Bastiaanse, Roelien. Dutch as an SOV language revisited: psychologische en neurologische evidentie voor Koster (1975). I\n",
      "Artikels: Coux, Johanna de. De blauwe noot: over autofiction in \"Nergensman\" van P. F. Thomése. In: Dossier: After postmodernism; \n",
      "Artikels: Sonnenschein, Johan. De onderneming redden: \"Buurtkinderen\" als voorlopig eindpunt. In: Dossier: Arjen Duinker; [Arnoud \n",
      "Artikels: Krikke, Pauline. Toespraak van de burgemeester van Arnhem bij het jubileumsymposium van de Werkgroep Indisch-Nederlandse\n",
      "Artikels: Herwaarden, Jan van. Opgelegde bedevaarten, een populaire praktijk de de laatmiddeleeuwse Nederlanden. In: Straffen in d\n",
      "Artikels: Hoven, Paul van den. Een strafrechtelijke uitspraak als tekstueel stelsel. In: Intertekstualiteit in het strafrechtelijk\n",
      "Artikels: Schouten, Rob. De nieuwe aarde. In: Hemelse en andere verhalen; [onder redactie van Jacqueline Bel ... et al.]. Speciaal\n",
      "Artikels: Graaff, Wendy de. Het leven zit vol geheimen. In: Thema geheimen; [redactie Karin Kustermans ... et al.]. Speciaal numme\n",
      "Artikels: Kustermans, Karin. 'Er zal altijd iets van mijn moeder overblijven'. In: Annie 100!; [redactie Karin Kustermans ... et a\n",
      "Artikels: Haar, Gerda van de. Ik zie oogbollen en ik voel iets, hoe komt dat?: Oek de Jong herlezen 1 - over \"Opwaaiende zomerjurk\n",
      "Artikels: Ankersmit, Frank. Waarheid is nodig maar niet genoeg in de republiek der letteren. In: Re: publiek der letteren; [redact\n",
      "Artikels: Goedegebuure, Jaap. Apostel van het nieuwe ongeloof. In: Symposium \"De toekomst der religie\": themanummer; [Jaap Goedege\n",
      "Artikels: Peppelenbos, Coen. Schetsboek In: Tzum 50: jubileumnummer!. Speciaal nummer van: Tzum (Groningen): (2010) 50 (aug) 2-8.\n",
      "Artikels: Vanacker, Luc. Leven en werk van Wilfried Beele. In: Liber amicorum dr. Wilfried Beele. Speciaal nr. van: Westhoek (Iepe\n",
      "Artikels: Verbruggen, Christophe. Hoe literair internationalisme organiseren?: de \"vervlochten\" geschiedenis van de Belgische PEN-\n",
      "Artikels: François, Peter. Catalogus: De schatten van 2010: selectie uit de recente aanwinsten: Zuidwestbrabants Museum Halle, 1 m\n",
      "Artikels: Werkman, Hans. Een biografie heeft een houdbaarheidsdatum: het derde boek over Willem de Mérode. In: Veelzijdige portret\n",
      "Artikels: Devroe, Hans. Zinsontleding: beknopt overzicht van de evolutie. In: De zin van de zin; [redactie: Hans Devroe]. Speciaal\n",
      "Artikels: Michiels, Ivo. Op weg naar Nunavut. In: Ivo Michiels. Speciaal nummer van: Deus ex machina (Schilde): 35 (2011) 138-139 \n",
      "Artikels: Ramon, Renaat. Brandschone gramschap: \"De Tafelronde\", poesia visiva en Paul de Vree en Jan van der Hoeven. In: Bruges-l\n",
      "Artikels: Steenmeijer, Maarten: Uit de fles: de Amerikaanse en de Nederlandse Lorca. In: Transatlantische ontmoetingen: Amerikaans\n",
      "Artikels: Waal, Willemjan van der. Seizoenen verdicht. In: Schriftuur (Heerde): (2011) [1] (voorjaar) 6-7. | Duinker, Arjen. Maakt\n",
      "Artikels: Reedijk-Boersma, Laura. Seizoenen verdicht. In: Schriftuur (Heerde): (2011) [2] (najaar) 6-10. | Wijk, Trudy van. En hoo\n",
      "Artikels: Visser, Kees. Seizoenen verdicht. In: Schriftuur (Heerde): (2012) [1] (voorjaar) 3-6. | Bolle, Erik. Interview met Kees \n",
      "Artikels: Blink, Joop van den. Seizoenen verdicht. In: Schriftuur (Heerde): (2010) [2] (najaar) 7-12. | Wijk, Trudy van. Dit is he\n",
      "Artikels: Keulen, Dirk van. Seizoenen verdicht. In: Schriftuur (Heerde): (2010) [1] (voorjaar) 2-5. | Fles, Olga. Verslag van de n\n",
      "Artikels: Bekkering, Harry. Springer en de anderen. In: Themanummer F. Springer; [met bijdragen van Peter van Zonneveld... et al.]\n",
      "Artikels: Ros, Bea. Young adult: genre of leeftijdscategorie? In: Thema: Young adult-literature; [onder redactie van: Harry Bekker\n",
      "Artikels: Gemert, Lia van, Marrigje Paijmans en Sabine Muller. Big business!: literatuur als handelswaar in de Gouden Eeuw. In: Th\n",
      "Artikels: Kunst, Irene en Emmely Siebrecht. \"Sekere mate van sukses\": Henk Prins en de \"Literatuur van die Lae Lande\". In: Prins &\n",
      "Artikels: Desmedt, Marc. Wie was Hendrik Conscience? In: [Hendrik Conscience-nummer; samengesteld door de redactieraad]. Speciaal \n",
      "Artikels: Hiligsmann, Philippe. 1980: het Taalunieverdrag. In: Jubileumnummer 1963-2012 Internationale Neerlandistiek; [redactie R\n",
      "Artikels: Vries, Boudien de. \"Een machtig middel om de beschaving vooruit te brengen\": de openbare bibliotheek in Groot-Brittanië \n",
      "Artikels: Pardon, Sarah & Jürgen Pieters. Het verleden dichterbij brengen: literatuur als bron van historische kennis? In: Geschie\n",
      "Artikels: Oosterman, Johan. \"In Duitschland mogt nog wel iets schuilen\": W. J. A. Jonckbloet (1817-1885) en zijn Duitse voorbeelde\n",
      "Artikels: Kalmthout, Ton van. De duurzaamste momenten van vervlogen tijden: P. A. M. Boele van Hensbroeks \"Der wereld letterkunde,\n",
      "Artikels: Wesseling, Lies. Alleen helden van papier zijn rond: Kikker & Pad tussen oraliteit en schriftelijkheid. In: Helden, idol\n",
      "Artikels: Lusignan, Serge. Une source pour l'histoire sociolinguistique du français picard. In: Reynaert abroad: \"Van den vos Reyn\n",
      "Artikels: Brüll, Jean. Jean Brüll, herinneringen van een oudgediende. In: De Utrechtse boekhouder (Utrecht): 1 (2011) 1 [1], 1-7. \n",
      "Artikels: Verstraeten, Pieter. Het buitenland als referentiekader: de casus van het literaire expressionisme in Vlaanderen. In: Re\n",
      "Artikels: Caluwe, Johan De & Evelien van Renterghem. Regiolectisering en de opkomst van tussentaal in Vlaanderen. In: Linguistic a\n",
      "Artikels: Jensen, Lotte. Typisch Nederlands: literaire huiselijkheid in de 19e eeuw. In: Thuis in Holland: themanummer; redactie: \n",
      "Artikels: Koning, Jan de. De betekenis van Noord-Holland binnen vroegmiddeleeuws Frisia. In: Spoaren fan it Frysk en de Friezen yn\n",
      "Artikels: Waterschoot, Jos van. \"Vrouwen zijn niet allemaal even belangrijk, hoogstens allemaal interessant\": interview met Els Kl\n",
      "Artikels: Anker, Robert. Een stuurloze moraliteit. In: De eerste eeuw van Boon: herdenkingsuitgave ter gelegenheid van het honderd\n",
      "Artikels: Besser, Stephan. Neurocultuur: een kleine verkenning. In: Dossier neurocultuur; [onder redactie van Peter Verhelst... et\n",
      "Artikels: Vervaeck, Bart. Profiel van een piraat: over het proza van Peter Holvoet-Hanssen. In: Dossier vijftig na zestig; [onder \n",
      "Artikels: Kregting, Marc. \"As sugar to my coffee\": Ron Silliman en Language in de Lage Landen. In: Doek; [hoofdredactie: Arnoud va\n",
      "Artikels: Kets, Annemarie. Van vriendendienst naar wetenschap: edities van 19de- en 20ste-eeuwse correspondenties nader bekeken. I\n",
      "Artikels: Nellen, Henk en Steven Surdèl. \"Barbaric and uneducated\"?: modesty unveiled in the vernacular editions by Cornelis Van G\n",
      "Artikels: Gielkens, Jan. \"Broek uit voor de fuhrer\": over Nederlandstalige concentratiekamppulp. In: Begeerte & macht: over lust i\n",
      "Artikels: Groot, Patricia de. Hella S. Haasse of de rol van de verbeelding. In: Themanummer Hella S. Haasse; [Pamela Pattynama... \n",
      "Artikels: Nieuwenhuis, Ivo. Outsiders on the inside: the eccentric Enlightenment of Pieter van Woensel. In: Centre and periphery i\n",
      "Artikels: Jong, Alpita de. Experiment met een voorname en veelzijdige achttiende-eeuwer. In: Thema: Meinard Tydeman; [hoofdredacti\n",
      "Artikels: Rovers, Eva. Boudewijn Büch en het Goetheaanse spel met feit en fictie. In: Thema: Dichtung und Wahrheit; [hoofdredactie\n",
      "Artikels: Thiers, Paul. Bibliografie van \"Avelghem\". In: Stijn Streuvels en \"Avelghem\": \"Weeral en nog eens: voor mijn plezier\"; o\n",
      "Artikels: Thiers, Paul. Bibliografie van \"Ingoyghem I en II\". In: Stijn Streuvels en \"Ingoyghem\": \"Dezen keer is het niet voor mij\n",
      "Artikels: Kalmthout, Ton van. De beoefening van de Couperus-kunde: hoofdlijnen en discussiepunten in de wetenschappelijke literatu\n",
      "Artikels: Ivo van Hove: \"Toneel is de kunstvorm van de eenentwintigste eeuw\": interview door Johan Reyniers. In: Extra uitgave; [h\n",
      "Artikels: Haarnack, Carl. Buku-Bibliotheca Surinamica. In: Slavernij verbeeld; [redactie J. F. Heijbroek... et al.]. Speciaal numm\n",
      "Artikels: Daróczi, Anikó. Herinnering, kennisse en verwoording: momenten van inzicht in enkele oude Nederlandse teksten. In: Liter\n",
      "Artikels: Krevelen, Laurens van. Reinold Kuipers: vervuld van letters en letteren. In: Themanummer: Reinold Kuipers (1914-2005), u\n",
      "Artikels: Aa, Manu van der. Paul-Gustave van Hecke (1887-1967), een levensschets. In: Paul-Gustave van Hecke (1887-1967); [redacti\n",
      "Artikels: Boonen, Ute. Volgordevariatie in twee- en meerledige hypotactische en paratactische werkwoordclusters in Middelnederland\n",
      "Artikels: Lierop-Debrauwer, Helma van. Twee stappen voorwaarts, één stap terug: de academische studie van de jeugdliteratuur in Ne\n",
      "Artikels: Pósán, László. Een klein land op het strijdtoneel van de grote mogendheden: de buitenlandse politiek van Nederland in de\n",
      "Artikels: Pusztai, Gábor. Interview met Gerard Termorshuizen. In: Beeldvorming; [redactie: Gábor Pusztai, Réka Bozzay, Gert Loosen\n",
      "Artikels: Voskuil, Menno. 1913: Couperus vijftig jaar! In: 150 jaar Louis Couperus; [eindredactie Liesje Schreuders]. Speciaal num\n",
      "Artikels: Hermkens, Harrie, Jan Noordegraaf, Nicoline van der Sijs. The Tawagonshi tale: can linguistic analysis prove the Tawagon\n",
      "Artikels: Wal, Marko van der. Altijd ontkomen aan de \"cul-de-sac\": \"Trotwaer\" (januari 1969 - augustus 2002). In: Kerkhof van verd\n",
      "Artikels: Coillie, Jan Van en Walter Verschueren. De erfenis van een vertalende duizendpoot: J. J. A. Goeverneur als vertaler voor\n",
      "Artikels: Willems, Wim. Een vergeten erflater uit de Indische kolonie: de schrijver Tjalie Robinson (1911-1974). In: Vergeten verl\n",
      "Artikels: Breeuwsma, Gerrit. Wat weet jij nou van de oorlog ...: kind en oorlog in biografisch perspectief. In: Thema: Het kind in\n",
      "Artikels: Stassaert, Lucienne. Het alles en niks bezitten van alles en niks: een portret van Marcel van Maele (Brugge 1931 - Antwe\n",
      "Artikels: Nolens, Leonard. Dankwoord bij de ontvangst van de Prijs der Nederlandse Letteren. In: Leonard Nolens; met bijdragen van\n",
      "Artikels: Thiers, Paul. Stijn Streuvels en Het Lijsternest: genese van een droomwoning. In: [Heropening van Het Lijsternest; redac\n",
      "Artikels: Dewulf, Jeroen. Dutch elements in the New York contact zone: traces of the Dutch language and literature in Sojourner Tr\n",
      "Artikels: Geurts, Anna P. H. Reizen en schrijven door Noord-Nederlanders: een overzicht. In: Op reis in de negentiende eeuw: thema\n",
      "Artikels: Havere, Timo van. Dichter en archivaris, Prudens van Duyse en het Stadsarchief van Gent. In: [Prudens van Duyse en het S\n",
      "Artikels: Dalen-Oskam, Karina van. Epistolary voices: the case of Elisabeth Wolff and Agatha Deken. In: \"Digital Humanities 2013: \n",
      "Artikels: Leen, Michiel. \"Dit is een opdracht, maar een eervolle opdracht\": dubbelinterview met Anne Vegter en Charles Ducal, Nede\n",
      "Artikels: Gerbrandy, Piet. Diverse tinten paars: Luceberts Lilith en de rooms-katholieke mis. In: Plagiaat...!?; ad hoc-redactie: \n",
      "Artikels: Govaerts, Bert. Oorlog & drukinkt: Ernest Claes aan het front en in het achterland. In: Schrijvers in de Eerste Wereldoo\n",
      "Artikels: Derolez, Albert. Medieval libraries in the Low Countries: thoughts for an integrated approach. In: A bunch of books: boo\n",
      "Artikels: Jensen, Lotte. Lang leve de dode dichter!: schrijversherdenkingen en literaire fancultuur rond 1800. In: Literaire fancu\n",
      "Artikels: Verhasselt, Sarah. [Over: Stoffels, Karlijn. Zuiderzeeballade. Amsterdam [etc.]: Querido, 2011]. In: Vlaanderen (Roesela\n",
      "Artikels: Wildemeersch, Georges. Het vroege modernisme van Hugo Claus. In: Hugo Claus; samenstelling: Kris Landuyt. Speciaal numme\n",
      "Artikels: Rovers, Eva. \"En ik bemin de dood, en om de dood alleen\": doodsangst en doodsverlangen bij Boudewijn Büch. In: Thema: Me\n",
      "Artikels: Trudgill, Peter. The role of Dutch in the development of East Anglian English. In: Binnen- en buitengaatse perspectieven\n",
      "Artikels: Schellens, Peter Jan. De toon van het debat: een stilistisch en argumentatief perspectief. In: De klas van Schellens: [g\n",
      "Artikels: Nieuwenhuis, Ivo. De vele gezichten van satire. In: Themanummer satire. Speciaal nummer van: De negentiende eeuw (Hilver\n",
      "Artikels: Kalmthout, Ton van. Een meester in het minder grootse genre der novelle: het onthaal van Hendrik Conscience in Nederland\n",
      "Artikels: Parys, Joris van. \"We moeten dus ergens afspreken\": Cyriel Buysse poseert voor Frans Masereel (1929). In: Jubileumeditie\n",
      "Artikels: Sintobin, Tom. \"Kolossaal van poëzie\": lyrische aspecten van Vlaams proza uit het fin de siècle. In: Een eeuw lyrisch pr\n",
      "Artikels: Haas, Anna de. Mercuriseren is sappelen: de \"Amsterdamsche Merkurius\" (1710-1722) van Jan van Gijsen. In: Satirische tij\n",
      "Artikels: Kouwenberg, Silvia. The historical context of creole language emergence in Dutch Guiana. In: Dutch and colonial expansio\n",
      "Artikels: Bossche, Stefan van den. Een nieuwe tijdgeeststijl wordt geboren: Herman Teirlinck en Karel Maes. In: Schrijvers / schil\n",
      "Artikels: Sanders, Mathijs. Beweren of bewijzen: modellen in de Nederlandse literatuurkritiek rond 1917. In: Themanummer: Modellen\n",
      "Artikels: Rovers, Daniël. De Petteflet (Annie M. G. Schmidt). In: 50 fictieve gebouwen; Christophe van Gerrewey (red.). Speciaal n\n",
      "Artikels: Bergh, Tewin van den en Wilke de Braal. Door diepten komen we tot waarheid: in gesprek met \"bekeringsdeskundige\" Hans va\n",
      "Artikels: Thiers, Paul. Vertalingen door Stijn Streuvels: in boekvorm verschenen titels (chronologisch gerangschikt). In: Stijn St\n",
      "Artikels: Waterschoot, Werner. Felix de Vigne als boekillustrator. In: Le livre illustré en Belgique (1800-1865): Colloque interna\n",
      "Artikels: Goudriaan, Koen. De franciscanen, de leken en de drukpers. In: Franciscaanse observantie en religieuze literatuur; uitge\n",
      "Artikels: Fraeters, Veerle. Lyrische lessen: personificatie als mystagogisch middel in de \"Liederen\" van Hadewijch. In: Poëzieanal\n",
      "Artikels: Servaes, Paul. Klein-Brabant in de eeuw van Conscience. In: Klein-Brabant in de eeuw van Conscience; eindredactie: Benny\n",
      "Artikels: Schaepdrijver, Sophie De. Lijdzaamheid als inspanning: de bezetting van '14-'18 in dagboeken. In: Oorlogsdagboeken; Marc\n",
      "Artikels: Pekelder, J. Le Principe d’Inhérence revisité: linéarisation des compléments d’objet direct et de direction en néerlanda\n",
      "Artikels: Gorus, Kim. \"Rewind. Random. Play\": tekstrecyclage als oeuvrestrategie in het werk van Peter Verhelst. In: Remakes in de\n",
      "Artikels: Vanlandschoot, Romain. Jozef Ferdinand Toussaint (1807-1885), ijveraar voor de Vlaamse taal: 15 oktober 1830. In: Servar\n",
      "Artikels: Eygen, Hubert van. Frank is gevlogen.... In: 1963-2014: een geval apart; [samengesteld door Hubert van Eygen]. Speciaal \n",
      "Artikels: Raat, G. F. H. Een ongelikte beer en Charlie Chaplin: Elsschot over Boon en Boon over Elsschot. In: Willem Elsschot. Spe\n",
      "Artikels: Cornilly, Jeroen. Luxe-editie van \"De drievoudige smaad aan de schoonheid\" van Henry van de Velde (1933). In: 50 jaar We\n",
      "Artikels: Vroomkoning, Victor. Hoor je de zee? In: H2O: water in woord en beeld; ad hoc-redactie: René Hooyberghs, Guy Commerman, \n",
      "Artikels: Leeuwen, Joke van. Poëzie om tegen te komen. In: Literatuurdragers in de openbare ruimte; Matthieu Sergier & Stéphanie V\n",
      "Artikels: Obe Alkema. In: Poëtica 2015; curatoren: Arno van Vlierberghe, Mathijs Tratsaert en Ton van 't Hof. Speciaal nr. van: De\n",
      "Artikels: Meier, Jan M. Op de schommel tussen vorm en vent: over het metaforische denken van Hedwig Speliers. In: Hedwig Speliers;\n",
      "Artikels: Dixhoorn, Arjan van. Monumentalizering van een festival: het Antwerpse landjuweel van 1561 als historische gebeurtenis. \n",
      "Artikels: Kiekens, Ine. Soliloquium, Soliloque en Alleen-spreken: de handschriftelijke verspreiding van Hugo van St.-Victors \"Soli\n",
      "Artikels: Coussé, Evie. Constructional complexification: the rise of double modal constructions in Dutch. In: Constructions in var\n",
      "Artikels: Vismans, Roel & Veronika Wenzel. Dutch between English and German: language learners' perceptions of linguistic distance\n",
      "Artikels: Eynde, Frank van, Liesbeth Augustinus, Ineke Schuurman & Vincent Vandeghinste. \"Hebben\" of \"zijn\" bij IPP's. In: Sprache\n",
      "Artikels: Dijk, Yra van. 'Op inspiratie wacht je niet': plagiaat, imitatie en 're-anactment' in de romans van Arnon Grunberg. In: \n",
      "Artikels: Delvigne, Rob. Te gek voor woorden: Paranoia, de film. In: Het motorzijspan van Willem Frederik Hermans: over leven en w\n",
      "Artikels: Horsten, Toon. Tropenhelm en vlindernet: over de \"graphic poem\". In: Graphic poem; samengesteld door Lies van Gasse en P\n",
      "Artikels: Hulle, Dirk van. De autograaf en het \"pentimenti\"-model: een verkenning van het Claus-archief. In: Het Claus-archief. Sp\n",
      "Artikels: Janssens, Jozef. De brief van pape Jan. In: De valse Middeleeuwen. Speciaal nummer van: Madoc (Utrecht): 28 (2014) 4, 24\n",
      "Artikels: Put, Kris van. \"About which we want to speak now\": Beatrice of Nazareth's reason for writing \"Uan seuen manieren van hei\n",
      "Artikels: Schutter, Georges de. De structuralist P. C. Paardekooper en de variatielinguïstiek. In: Nagelaten wetenschappelijk werk\n",
      "Artikels: Loon, Jozef van. Lanaken en de vroegste geschiedenis van Franken en Merovingen. In: Een leven lang taal- en literatuurwe\n",
      "Artikels: Bouwmeester, Gerard, Nina Geerdink & Laurens Ham. Een veelstemmig verhaal: auteurschap in de \"Geschiedenis van de Nederl\n",
      "Artikels: Goud, Marco. In het oog gehouden: het geheimzinnige seksleven van P. C. Boutens (1870-1943). In: Seks in de biografie; [\n",
      "Artikels: Paasman, Bert. \"Ik, Rhijnvis Feith\", of de laatste Nederlandse maagd (1783). In: 250 jaar Maatschappij der Nederlandse L\n",
      "Artikels: Arrabal, Fernando. Discours prononcé à l'occasion de la remise du \"Prix International Pier Paolo Pasolini\" à Hugo Claus.\n",
      "Artikels: Dencher, Alexander. Hendrick Goltzius and Henry the Great: Netherlandish printmakers and the portrait of Henri IV of Fra\n",
      "Artikels: Lok, Matthijs. \"Een geheel nieuw tijdvak van ons bestaan\": de herinnering aan de Nederlandse Opstand en de temporaliteit\n",
      "Artikels: Corver, Norbert. Emotion in the build of Dutch: deviation, augmentation and duplication. In: Emoties in taal en literatu\n",
      "Artikels: Absillis, Kevin. De ruïnes van Utopia: hoe het maakbare paradijs verschrompelde tot hekwerkwijk. In: Utopia; Emmanuel Wa\n",
      "Artikels: Goldstone, Andrew. Autonomy proliferates = Autonomie bloeit. In: The ethics of autonomy: the case of Willem Frederik Her\n",
      "Artikels: Vermeer, Leonieke. \"Papa is weder ongesteld\": ziektebeleving in negentiende-eeuwse egodocumenten. In: Wel en onwel: het \n",
      "Artikels: Warnar, Geert. The books of Pieter Pouwelsz: literature, law and late medieval textual culture in the Low Countries. In:\n",
      "Artikels: Folkerts, Suzan. Reading the Bible lessons at home: holy writ and lay readers in the Low Countries. In: Challenging the \n",
      "Artikels: Goudriaan, Koen. The Devotio Moderna and commemoration: the case of St Margaret's convent in Gouda. In: Manuscript and M\n",
      "Artikels: Baelen, Carlo van. Frankfurter Buchmesse: handel in / en cultuur: over de betekenis van de internationale boekenvakbeurs\n",
      "Artikels: Dera, Jeroen. The scullery of the broadcasting house: female writers and the literary Features of the Dutch broadcasting\n",
      "Artikels: Bienefeldt, Aristide von. Schetsboek. In: De roze letteren. Speciaal nummer van: Tzum (Groningen): (2011) 53-54 (juni) 2\n",
      "Artikels: Dera, Jeroen. \"Niets dan mijn waarlijk woord\": aantekeningen over de analyse van performancepoëzie. In: Themanummer: Lit\n",
      "Artikels: Ghyselen, Anne-Sophie, Steven Delarue & Chloé Lybaert. Studying standard language dynamics in Europe: advances, issues &\n",
      "Artikels: Barnas, Maria. De jijboom. In: Letterkundige Music Hall: Anton Korteweg uitgezwaaid, door negenenvijftig dichters, vijf \n",
      "Artikels: Bent, Jaap van der. Tussen alle bewegingen steeds in beweging: leven en werk van Louis Lehmann. In: Wie is L. Th. Lehman\n",
      "Artikels: Korsten, Frans-Willem. Grondslagen, situaties en houdingen. In: Fundamenten van de literatuurwetenschap. Speciaal nummer\n",
      "Artikels: Prudon, An. New configurations: a conversation between Elleke Boehmer and Wim Manuhutu. In: Transnationalisme & wereldli\n",
      "Artikels: Wal, Nick ter. In de sterren geschreven als opgegeven: een zoektocht naar het debuut van Remco Campert. In: Remco Camper\n",
      "Artikels: Huijser, Wim. \"Hierover schrijven wij niet\": de literaire Rijnreis op het Narrenschip. In: Groeten uit Duitsland. Specia\n",
      "Artikels: Schürr, Diether. Hiltibrants Gottvertrauen. In: Amsterdamer Beiträge zur älteren Germanistik (Amsterdam): 68 (2011) 1-25\n",
      "Artikels: Victoria, Ivo. Wat het is met jazz en mij. In: Jazz leeft!; ad hoc-redacteur Chris Ceustermans. Speciaal gedeelte van: G\n",
      "Artikels: Brems, Elke; Mathijs Sanders en Liselotte Vandenbussche. Het Frans als \"lingua franca\" in de Lage Landen (1800-1914). In\n",
      "Artikels: Meuwese, Martine. Aap. In: Dertig dieren in de Middeleeuwen. Speciaal nummer van: Madoc (Utrecht): 30 (2016) 4, 196-197.\n",
      "Artikels: Hertmans, Stefan. \"Tervaete\"; translated by Donald Gardner. In: The singing of the scythe: poetry of the First World War\n",
      "Artikels: Kors, Mikel M. Studie en kritische tekstuitgave van Henricus Pomerius' \"De origine monasterii Viridis Vallis\". In: Groen\n",
      "Artikels: Smeyers, Elies. Hugo Claus in Franse vertaling: een Belgisch verhaal in een Parijs jasje. In: Buitenlandse bemiddelaars;\n",
      "Artikels: McGinn, Bernard. A sixteenth-century mystical renaissance in the eastern Netherlands. In: 1517-1545: the northern experi\n",
      "Artikels: Esser, Raingard. \"Ofter gheen water op en hadde gheweest\": narratives of resilience on the Dutch coast in the seventeent\n",
      "Artikels: Callewaert, Ferdy. Emiel Ramoudt. In: Merkwaardige figuren in West-Vlaanderen: opmerkelijke mensen na de Groote Oorlog. \n",
      "Artikels: Rovers, Daniël. Een meisje van haast vijftien. In: Oerscènes. Speciaal gedeelte van: nY (Gent): (2017) 33, 33-39. | Atan\n",
      "Artikels: Nguyễn, Nam Chi. Het juiste aandeel ultraviolet. In: [Meerstemmigheid en gemeenschap]. Speciaal gedeelte van: nY (Gent):\n",
      "Artikels: Wackers, Paul. De Nederlandse Reynaert-traditie in prenationaal, nationaal en transnationaal perspectief. In: Jubileumnu\n",
      "Artikels: Vriesendorp, Hielke & Gijsbert Rutten. \"Omg zo fashionably english\": codeswitching to English as an identity practice in\n",
      "Artikels: Verdeyen, Paul. De eerste mystieke schrijver van de Lage Landen: leven en werk van Willem van Saint-Thierry. In: Dossier\n",
      "Artikels: Praet, Stijn. Een onwaarschijnlijk verhaal: de Latijnse \"sprookjes\" van een cisterciënzer. In: Fantastische verhalen in \n",
      "Artikels: Engelbrecht, Wilken. \"De Leeuw van Vlaanderen\" in het Tsechisch: waarom zo laat en waarom driemaal? In: De Leeuw van Vla\n",
      "Artikels: Dixhoorn, Arjan van. De metamorfosen van Zeeland: \"Dye Cronijcke van Zeelandt\" (1551) als filosofisch traktaat. In: Lite\n",
      "Artikels: Meijer Drees, Marijke. Blameren en demoniseren: satirische pamfletliteratuur in de zeventiende-eeuwse Republiek. In: Bur\n",
      "Artikels: Hanselaer, An-Katrien & Jeroen Deploige. \"Van groeter bannicheit hoers herten\": de conditionering van de alledaagse gevo\n",
      "Artikels: Neven, Evelien. Meneer Vissers hele lijstjes: een analyse van de literaire lijsten in de roman van Vestdijk. In: Lijsten\n",
      "Artikels: Teeuwen, Mariken. Geleerdheid in de marge: de haken en ogen aan het maken van een editie van middeleeuws commentaar. In:\n",
      "Artikels: Vandeweghe, Willy. Bibliografie Georges De Schutter 2000-2011. In: Huldenummer voor Georges De Schutter; redactie: Willy\n",
      "Artikels: Fraeters, Veerle. Gedoopt in Gods diepte: liturgie en mystiek in het zesde visioen van Hadewijch. In: Libros sempiternum\n",
      "Artikels: Augais, Thomas. Paul Valéry, Henri Mondor, Ludo Van Bogaert: approche des lieux de sociabilité médico-littéraires (1918-\n",
      "Artikels: Willaert, Frank. \"On la suit, elle l'inaperçue\": à la recherche de Hadewijch, mystique brabançonne; traduction Daniel Cu\n",
      "Artikels: Ferket, Johanna. \"De eenen kijvage is soo ras niet gedaen, of de andere die vanght weer aen\": bejaarde vrouwen en maatsc\n",
      "Artikels: Wildemeersch, Georges. \"Als je dit leest ben ik geweest\": over het archief en het oeuvre van Hugo Claus. In: Omtrent Hug\n",
      "Artikels: Deinsen, Lieke van. \"That way our tastes differ\": defining vernacular literary taste and tradition in the early eighteen\n",
      "Artikels: Ruiter, Frans. Kleine meditatie over een \"cadeau d'une merde\": \"Het grote medelijden\" van Willem Frederik Hermans. In: D\n",
      "Artikels: Hagen, Edwina & Joris Oddens. Self-fashioning in the eighteenth century: a brief historiographical introduction. In: Sel\n",
      "Artikels: Weduwen, Arthur der. Competition, choice and diversity in the newspaper trade of the Dutch Golden Age. In: The newspaper\n",
      "Artikels: Aarts, C. J. Zondagsdichtersfestival: poëzie uit liefhebberij. In: Gerrit Komrij; gastredacteur Arie Pos. Speciaal numme\n",
      "Artikels: Goudriaan, Koen. Het Sint-Agnesklooster en de Moderne Devotie. In: De Arnhemse mystieke preken in context; uitgegeven do\n",
      "Artikels: Parente, James A. jr. Romancing the nation: history and the origins of the novel in the German Empire and the Netherland\n",
      "Artikels: D'Hulst, Lieven, Maud Gonne, Tessa Lobbes, Reine Meylaerts & Tom Verschaffel. Towards a multipolar model of cultural med\n",
      "Artikels: Bettens, Jan. Definitieve diagnose vooralsnog uitgesloten. In: J. M. H. Berckmans; samenstelling Jan Bettens en Chris Ce\n",
      "Artikels: Sanders, Mathijs. Een uurtje met Dirk Coster: de self-fashioning van een informant. In: [Themanummer Mary Kemperink]; re\n",
      "Artikels: Wuyts, Eva. Een nieuw hoofdstuk voor erfgoedbibliotheken. In: 10 jaar Vlaamse Erfgoedbibliotheek; gastredactie David Cop\n",
      "Artikels: Breës, Toon. \"In oorlogstijd\", een belangrijk en typisch streuveliaans tijdsdocument. In: \"Gedurig op den uitkijk\": Stij\n",
      "Artikels: Vroomen, Ingmar & Lidewij Nissen. Cijferschrift en spionage: de geheime correspondentie van raadpensionaris Johan de Wit\n",
      "Artikels: Vanhecke, Johan. De reuzen. In: Een dozijn voor Leen. Speciaal gedeelte van: Zuurvrij (Antwerpen): (2018) 34 (juni) 10-1\n",
      "Artikels: Thiers, Paul. Bibliografie van \"Langs de wegen\". In: \"Jan Vindeveughel, peerdeknecht\". Stijn Streuvels' \"Langs de wegen\"\n",
      "Artikels: Rooijackers, Lisa. Al vintage voordat het cool was: hoe Hugo Claus aantoont dat literatuur trends overstijgt. In: Vintag\n",
      "Artikels: Olyslaegers, Jeroen. Omtrent de nevelen: brief aan Michiels. In: Met Ivo Michiels, in gesprek. Speciaal gedeelte van: Di\n",
      "Artikels: Sintobin, Tom. \"Maar Gaston toch\": D. W. en B.-weekends aan zee. In: Kamer in Oostende; Koen Peeters en Koen Broucke (re\n",
      "Artikels: Rymenants, Koen. Een waardig genre: de theorie van het ZKV volgens A. L. Snijders. In: Microfictie; [samensteller: Sofie\n",
      "Artikels: Devriese, Tim. Was Guido gay?: was Guido Gezelle, een van Vlaanderens grootste literaire helden, homoseksueel? En waarom\n",
      "Artikels: Sergier, Matthieu. En scène!: de biografie als zichtbaar verlies. In: Biografie; gastredactie: Tom Sintobin & Hans Vande\n",
      "Artikels: Meer, Anne-Fleur van der. \"Ik kan niet genezen van een kwaal die ik niet ken\": depressie en intertekstualiteit in \"Kikke\n",
      "Artikels: Deijl, Lucas van der, Feike Dietz & Els Stronks. Literatuur leren onderzoeken in de klas: hoe de \"Geschiedenis van de Ne\n",
      "Artikels: Ommen, Kasper van. Boek en tijdschrift in 1918. In: Honderd jaar na 1918; [redactie: Rick Honings, Kasper van Ommen (bee\n",
      "Artikels: Borst, Manon. Het schrijfkistje van Anna Maria: of: wie schrijft die blijft. In: Een brievennummer; [redactie: Stefan va\n",
      "Artikels: Honings, Rick. Vriendelijke huisgezellen of \"ingevleeschde\" duivels: Willem Bilderdijk en de dieren. In: Mens en dier. S\n",
      "Artikels: Reynaert, Joris. Middelnederlandse wandteksten en grafschriften op rijm. In: Buiten het boek; gastredactie Samuel Mareel\n",
      "Artikels: Strien, Ton van. De Bijbel voor gelovigen: het bijbels epos in de achttiende eeuw. In: Nieuwe perspectieven op het Neder\n",
      "Artikels: Jensen, Lotte & Rick Honings. \"Het zomersch land onder de vuren lucht\": over de toekomst van de studie van de Nederlands\n",
      "Artikels: Scheltiens, Vincent. De zomer van 1917 in context. In: De hete zomer van 1917. Speciaal nummer van: Wetenschappelijke ti\n",
      "Artikels: Hulstijn, Jan H. Honderd jaar theorie en onderzoek van tweedetaalverwerving: afgedankte inzichten en nog onopgeloste raa\n",
      "Artikels: Missinne, Lut & Irina Michajlova. Anne Frank in de DDR en Rusland. In: [Nederlandstalige literatuur in het communistisch\n",
      "Artikels: Heerma van Voss, Daan en Thomas Heerma van Voss. Dialoog Ex Machina. In: Samenschrijven; samenstelling Sylvie Marie. Spe\n",
      "Artikels: Leen, Michiel. \"Mijn parcours garandeert niets voor de toekomst\". In: De woorden en de wegen: hedendaagse Nederlandstali\n",
      "Artikels: Eekhout, Marianne. Op de weegschaal: de allegorie van Abraham van der Eyck op de Bestandstwisten (1721). In: Themadossie\n",
      "Artikels: Niermeijer, Saar. Aardappelen met een \"brave Nederlandse gehaktbal\" en spruitjeslucht: over het Nederlandse negatieve, n\n",
      "Artikels: Hertmans, Stefan. Goede bedoelingen en sceptische leerlingen: het literatuuronderwijs. In: Literatuuronderwijs; samenste\n",
      "Artikels: Janssens, Jozef. Het Tapijt van Assenede. In: De populaire middeleeuwen. Speciaal nummer van: Madoc (Utrecht): 32 (2018)\n",
      "Artikels: Bergen, Saskia van. Het middeleeuwse verlichte handschrift in het tijdperk van digitale reproductie. In: Surrogaat of re\n",
      "Artikels: Wijngaarden, Veerle van, Gaia Willemars en Laura Keulartz. De schaamte voorbij. In: Schaamte(loos); samenstellers Harrië\n",
      "Artikels: Thiers, Paul. Bibliografie van \"De oogst\". In: \"Nu danst de zonne\": Stijn Streuvels' \"De oogst\" en \"De werkman\"; onder r\n",
      "Artikels: Ham, Laurens. 2010: kunstenaars protesteren tegen cultuurbezuinigingen tijdens de Schreeuw om Cultuur. In: Het literair \n",
      "Artikels: Delmotte, Alain. Over een nood aan bomen in de woorden. In: Het bos; samenstelling Michiel Kroese, Wim Michiel, Virginie\n",
      "Artikels: Vandemeulebroecke, Leentje. Grootvader, Ze kennen u niet die mijn spelend vers op vleugels droeg. In: Stijn Streuvels!; \n",
      "Artikels: Loon, Jozef van. Is het Nederlands wereldkampioen sjwa? In: Drie visies op de frequentste klank van het Nederlands: een \n",
      "Artikels: Guść, Iwona. Maczkowcy wkrainie tulipanów: o polskich weteranach w Holandiii okonflikcie pamięci. In: Minione, teraźniej\n",
      "Artikels: Geest, Dirk de. Anton van Wilderode, de laatste der priester-dichters? In: Anton van Wilderode, leraar in de letteren; r\n",
      "Artikels: Processen van \"place-making\" door talige praktijken in Tilburg, Heerlen en Genk: parodie van de Braboneger en Getske Boy\n",
      "Artikels: Dixhoorn, Arjan van, Samuel Mareel and Bart Ramakers. The relevance of the Netherlandish rhetoricians. In: The knowledge\n",
      "Artikels: Haven, Kornee van der. Verdoofde klachten over een stomme mond: de vroegmoderne lijkzang als collectieve emotionele prak\n",
      "Artikels: Straver, Hans. Liefhebber, meer dan kenner der Natuurlijke Historie: Maurits Ver Huell op Banda. In: Reizen in Indië. Sp\n",
      "Artikels: Pattynama, Pamela. \"Tjoet Nja Din\" en \"Tjoet Nja' Dhien\": her-herinneringen aan de Atjeese verzetsheldin in boek en film\n",
      "Artikels: Termorshuizen, Gerard. \"Het was of de pijn als een losgelaten duivel haar met onoverwinnelijke overmacht bestormde\": de \n",
      "Artikels: Snelders, Lisanne. De culturele herinnering aan Nederlands-Indië en het denken over verschil in de afterlives van Pramoe\n",
      "Artikels: Pieterse, Saskia. \"Hij zou onder diens ogen een vent zijn\": mannelijke homosociale verlangens in de romans van Menno ter\n",
      "Artikels: Lateur, Patrick. \"Als een stroelend watertje...\": rondom \"Lente\". In: Uitgelezen werk: Stijn Streuvels na vijftig jaar; \n",
      "Artikels: Coppen, Peter-Arno, Jimmy van Rijt, Astrid Wijnands & Roy Dielemans. Vakdidactisch onderzoek naar grammaticaonderwijs in\n",
      "Artikels: Kestemont, Mike & Luc Herman. Kunnen machines (literatuur) lezen? In: Theorie en de digitale geesteswetenschappen; red. \n",
      "Artikels: Jensen, Lotte. Spektakel en amusement: Robinson Crusoe op het toneel in Nederland rond 1800. In: 300 jaar Robinson Cruso\n",
      "Artikels: Bistkey, István. Humanisten uit de Lage Landen in Hongarije in de 16de eeuw. In: Handel, migratie, hulp: betrekkingen tu\n",
      "Artikels: Jong, Jaap de. Meer verbazend en treffend dan overtuigend: de retorica van Max Havelaars toespraak tot de Hoofden van Le\n",
      "Artikels: Banga, Arina. \"Erwtensoep\" is geen \"borsóleves\": vormverschillen tussen Nederlandse en Hongaarse samenstellingen veroorz\n",
      "Artikels: Pusztai, Gábor. Hongaren in de koloniën: in plaats van een inleiding. In: Tropisch avontuur: Hongaren in de koloniën; [r\n",
      "Artikels: Mooij, Annet. De \"topic of the day\": Mina Krusemans weerzien met Indië. In: Indische beroemdheden. Speciaal nummer van: \n",
      "Artikels: Bel, Jacqueline. Indië als exotisch lustoord?: opvattingen over seksualiteit in de koloniale roman rond 1900. In: Liefde\n",
      "Artikels: Pusztai, Gábor. In het land van de koppensnellers: de representatie van Borneo in de reisliteratuur van de 19de eeuw. In\n",
      "Artikels: Bujtás, László Zsigmond. Het Nederlandbeeld van de tot de galeien veroordeelde Hongaarse predikanten. In: Nederlandse he\n",
      "Artikels: Daele, Rik van. Zoete woorden. In: Vossen: expeditie in het land van Reynaert. Extra nummer van: Openbaar Kunstbezit in \n",
      "Artikels: Pusztai, Gábor. Onze man in Nagasaki: de gefantaseerde diplomatieke dienst van András Jelky in Japan. In: Diplomatenschr\n",
      "Artikels: Arblaster, John. The mystical fulfilment of a spiritual idea: common love in Baldwin of Forde, Beatrice of Nazareth, and\n",
      "Artikels: Meulen, Dik van der & Cyril van den Hoogen. Hermans en Multatuli: een vriendschap voor het leven. In: Extra Jaarboek: W.\n",
      "Artikels: Rademakers, Anna. Jacobus Josephus Eeckhout: wederwaardigheden van een Belgische schilder in Den Haag (1831-1844). In: M\n",
      "Artikels: Craenenbroeck, Jeroen van. Dialectologie en Nederlandse zinsbouw. In: Dag van de Nederlandse Zinsbouw 11; red. Hans Broe\n",
      "Artikels: Bastiaanse, Roelien & Hans Bennis. Productie en begrip van voorzetsels bij sprekers met agrammatische en vloeiende afasi\n",
      "Artikels: Grijzenhout, Janet. De vijf pilaren van de fonologie. In: [Themanummer Taalportaal]; red. Ronny Boogaart & Kristel van G\n",
      "Artikels: Heuven, Vincent J. van. Prosody and sentence type in Dutch. In: Dag van de Nederlandse Zinsbouw 9; red. Hans Broekhuis, \n",
      "Artikels: Beekhuizen, Barend. De zijnsstatus van de afhankelijke V1-constructie in het Nederlands. In: Discussies Dag van de Neder\n",
      "Artikels: Mieroop, Dorien van de. Ik was 35 in '72: Stijn Verrept. In: Maja: magazine van de Jonge Academie (Brussel): 4 (2017) (m\n",
      "Artikels: Vanschoonbeek, Rudy. Korte gedachten over het uitgeven van niet al te lange verhalen. In: De short story van het kortver\n",
      "Artikels: Kotzé, Ernst. Aspects of congruence and divergence relating to adjectives in Dutch and Afrikaans: a discussion of certai\n",
      "Artikels: Barbiers, Sjef. Opposite forces in language: the linguistic work of Hans Bennis. In: [Huldenummer Hans Bennis & Arie Ver\n",
      "Artikels: Lemmens, Maarten. Zit je te denken of ben je aan het piekeren?: persistentie in het synchrone gebruik van de PREP- en PO\n",
      "Artikels: Nuyts, Jan. Zelfstandig gebruikte modalen: een functioneel perspectief. In: Dag van de Nederlandse Zinsbouw 7. Speciaal \n",
      "Artikels: Geeraerts, Dirk. Dismiss polysemy?: ho maar! In: Discussion of Robert S. Kirsner, \"Qualitative-quantitative Analyses of \n",
      "Artikels: Olmen, Daniël van. De imperatief in de verleden tijd. In: Dag van de Nederlandse Zinsbouw 6; red. Hans Broekhuis, Evie C\n",
      "Artikels: Colleman, Timothy. Ditransitieve constructies in het Nederlands: semasiologische en onomasiologische kwesties. In: Dag v\n",
      "Artikels: Hoeksema, Jack. De plaats van het voorzetselvoorwerp. In: Dag van de Nederlandse Zinsbouw 7. Speciaal nummer van: Nederl\n",
      "Artikels: Dries, Luk van den. Prospective dreams of a field to come: the emergence of theater studies in Flanders. In: \"State of t\n",
      "Artikels: Bouzouita, Miriam en Ulrike Vogl. Meertaligheid en onderwijs van moderne talen in de 16de eeuw. In: Monolingual historie\n",
      "Artikels: Mantingh, Erwin. Memorie van een vrome vrouw en eerbiedwaardig abt in woord en beeld: het (Kopenhaagse) \"Leven van Lutga\n",
      "Artikels: Goossens, Jan. De bijdrage van Weijnen aan de Nederlandse dialectologie. In: Honderd jaar Weijnen, met het oog op de toe\n",
      "Artikels: Vitse, Sven. Schuld en woede: nieuw conservatisme in de Nederlandse literatuur. In: Politiek & Literatuur. Speciaal nr. \n",
      "Artikels: Dijk, Yra van. Wat de tekst verraadt: een biografisch getinte analyse van het werk van Arnon Grunberg. In: Egodocumenten\n",
      "Artikels: Gelder, Geert Jan van. Goede en slechte tafelmanieren, Arabisch en Europees: al-Ibsjieh (1388-ca. 1446) en Erasmus (1466\n",
      "Artikels: Kempen, Michiel van. Menschen zijn er nauwelijks om van deze schoonheid te genieten: Anton de Koms \"Ons bloed is rood\" a\n",
      "Artikels: Franke, Herman & Toef Jaeger. \"Ik wil uitdragen wat alleen ík kan uitdragen\": interview. In: Herman Franke; [redacteuren\n",
      "Artikels: Otterspeer, Willem. Het lied van de mesties. In: Honderd jaar Tjalie Robinson; [gastredacteur: Wim Willems; redacteuren:\n",
      "Artikels: Oostendorp, Marc van en Michiel de Vaan. Van \"swootjeeroo aapploo\" tot \"soet appo\": de uitspraak van het Nederlands van \n",
      "Artikels: Kousbroek, Rudy & Maarten Asscher. Het is een beetje zoals met meisjes of vrouwen: gesprek tussen Rudy Kousbroek en Maar\n",
      "Artikels: Engelbrecht, Wilken. Een strijder tegen het onrecht: de receptie van Multatuli in Tsjechië en Slowakije. In: Over Multat\n",
      "Artikels: Pelseneer, Reine de. Empathie en onstuimig taalplezier: over de kinder- en jeugdpoëzie van Edward van de Vendel. In: Jeu\n",
      "Artikels: Haverals, Wouter, Folgert Karsdorp & Mike Kestemont. Rekenen op ritme: een datagedreven oplossing voor het automatisch s\n",
      "Artikels: Baete, Piet. De zee als moeder en moordenaar: maritieme ondertonen in het oeuvre van een misdaadschrijver. In: Nautische\n",
      "Artikels: Valk, Fleur & Mathijs Sanders. Navelpluis en nationalisme: de depolitisering van de literaire kritiek. In: Globalisering\n",
      "Artikels: Boone, Marianne. Ton Fouwels: 50 jaar redactielid. In: Jubileumnummer: 50 jaar. Speciaal nummer van: Over taal (Kortrijk\n",
      "Artikels: Hemmerechts, Kristien. Papa in Kongo. In: Congo in de literatuur; [onder redactie van Jacqueline Bel... et al.]. Speciaa\n",
      "Artikels: Gullentops, David. Émile Verhaeren: concepteur de son oeuvre poétique. In: Redécouvrir Émile Verhaeren. Speciaal gedeelt\n",
      "Artikels: Mus, Francis en Kris Steyaert. Pleidooi voor een pluridisciplinaire, meertalige en transnationale benadering voor de stu\n",
      "Artikels: Goedegebuure, Jaap. Carnaval in de hel: Arnon Grunberg over joodse kwesties. In: Joodse identiteiten in de literatuur; [\n",
      "Artikels: Goedegebuure, Jaap. Het ik als masker en muilkorf: autobiografisch geïnspireerd proza in de Nederlandse literatuur. In: \n",
      "Artikels: Spek, Erik van der. \"Bent u ook een naar mens?\": het gereedschap van de tv-interviewer. In: De taal van de media. Specia\n",
      "Artikels: Hagers, Steven. Het begon met wat tekeningen: waarom zijn er zo veel verschillende schriften? In: Thema: taal en schrift\n",
      "Artikels: Wilkinson, Alexander S. Printing Spanish books in the Southern and Northern Netherlands, 1520-1700. In: New insights int\n",
      "Artikels: Thiers, Paul. Bibliografie van \"Heule\". In: Stijn Streuvels en \"Heule\": een boek \"voor mijn plezier\"; bezorgd door Marce\n",
      "Artikels: Broekema, Fransje en Jan Erik Grezel. Congres: \"Met andere woorden\". In: Onze Taal-congres \"Met andere woorden\". Speciaa\n",
      "Artikels: Hornikx, Jos. Non-nativeness in communication: use and effects of foreign languages in advertising. In: [Vreemde talen i\n",
      "Artikels: Redactie Onze Taal. Congres \"De wortels van het Nederlands\". In: Congres \"De wortels van het Nederlands\". Speciaal gedee\n",
      "Artikels: Cucchiarini, Catia en Monique Lammers. E-health for people with communicative disorders: science and practice. In: E-hea\n",
      "Artikels: Mearns, Tessa en Rick de Graaff. Bilingual education and CLIL in the Netherlands: the paradigm and the pedagogy. In: Con\n",
      "Artikels: González, Paz en Tim Diaubalick. Task and L1 effects: Dutch students acquiring the Spanish past tenses. In: Current visi\n",
      "Artikels: Dorren, Gaston. Trouw aan \"la Norme\": hoe het Frans al eeuwen vastligt. In: Het Frans als buurtaal. Speciaal gedeelte va\n",
      "Artikels: Beuls, Katrien en Remi van Trijp. Computational construction grammar and constructional change. In: Computational constr\n",
      "Artikels: Cuypere, Ludovic de en Gert de Sutter. Introduction: current trends in analyzing syntactic variation. In: Current trends\n",
      "Artikels: Karssenberg, Lena, Karen Lahousse, Béatrice Lamiroy, Stefania Marzo en Ana Drobnjakovic. Non-prototypical clefts: formal\n",
      "Artikels: Cornillie, Bert. On the pace of syntactic elaboration from Latin calques: evidence from Spanish, Dutch and English. In: \n",
      "Artikels: Wortel, Maartje. Persoonlijke notities bij (lang niet al) het werk van Alex van Warmerdam. In: Ik wil niet schitteren: o\n",
      "Artikels: Wiener, L. H. L.H. Wie? In: Imagonummer. Speciaal nummer van: Deus ex machina (Schilde): 34 (2010) 135 (dec) 12-18. | Ka\n",
      "Artikels: Putten, Bas van. De schone angel van het kwaad. In: Man throws child from roof!: over het kwaad. Speciaal gedeelte van: \n",
      "Artikels: Louis, Édouard. Het boek als gewelddaad. In: \"Praat nou godverdomme niet als een boek\": over de stem van de onderklasse.\n",
      "Artikels: Hilberdink, Koen. Als de zon schijnt. In: Blognummer. Speciaal nummer van: Tirade (Amsterdam): 62 (2018) (mrt) [=470] 13\n",
      "Artikels: Lindeboom, Martijn. De geschiedenis en essentie van sciencefiction. In: Sciencefiction. Speciaal nummer van: Tirade (Ams\n",
      "Artikels: Halsema, Dick van. Dit wilde ik u gegeven weten. In: Meester en leerling. Speciaal nummer van: Tirade (Amsterdam): 59 (2\n",
      "Artikels: Kan, Jeroen van. Dichters rijden niet. In: Het Tirade-autonummer: speciaal gemaakt voor hoedenplank en dashbord. Speciaa\n",
      "Artikels: Gerbrandy, Piet. Nieuw luisteren. In: Gorters revolte. Speciaal gedeelte van: De gids (Amsterdam): 181 (2018) 5, 3-5. | \n",
      "Artikels: Weelden, Dirk van. Tenen en klauwen. In: Spul. Speciaal gedeelte van: De gids (Amsterdam): 181 (2018) 6, 4. | Dekker, Ni\n",
      "Artikels: Linthout, Ine van. Literary translation from Flemish into German during the Nazi regime. In: Cultural transfer(s) betwee\n",
      "Artikels: Grunberg, Arnon. Woedende liefde. In: Volk & natie. Speciaal gedeelte van: De gids (Amsterdam): 182 (2019) 1, 3-5. | Hee\n",
      "Artikels: Hermsen, Joke J. \"Als het pijn doet gaan we terug naar zekere rivieren\". In: Rivieren. Speciaal gedeelte van: De gids (A\n",
      "Artikels: Asscher, Maarten. Waarom drie? In: Eén voor allen, allen voor één. Speciaal gedeelte van: De gids (Amsterdam): 182 (2019\n",
      "Artikels: Veldhuizen, Adriaan van. Slordig onthouden: een vergeetdagboek. In: Vergeet het! Speciaal gedeelte van: De gids (Amsterd\n",
      "Artikels: Weijers, Niña. Een gezicht zijn. In: Het geslachtelijke onbehagen. Speciaal gedeelte van: De gids (Amsterdam): 182 (2019\n",
      "Artikels: Oostendorp, Marc van. Gewoon fantastisch: het taalgebruik van Willem-Alexander. In: De taal van de nieuwe koning en koni\n",
      "Artikels: Grezel, Jan Erik. \"Herken je geen structuur, dan haak je af\": taalkundige en muzikant Dicky Gilbers over parallellen tus\n",
      "Artikels: Groenewegen, Hans. Taalstrijd → persoonsvormend. In: Dossier: Rechts; [Arnoud van Adrichem, hoofdredacteur]. Speciaal nu\n",
      "Artikels: Musschoot, Anne Marie. Buysse toen en nu. In: Huldenummer Jan Luyssaert; 40 jaar Land van Nevele. Speciaal nr. van: Het \n",
      "Artikels: Lem, Anton van der. \"Herfsttij der Middeleeuwen\": het eerste eeuwjaar van een wereldboek. In: Herfsttij der Middeleeuwen\n",
      "Artikels: Pattynama, Pamela. De mythe van de \"branie\" Indo motorrijder. In: Themanummer Tjalie Robinson; [onder redactie van Pamel\n",
      "Artikels: Meulen, Janneke van der. Zij hadden ongelofelijke haast: \"Mein Kampf\" in nieuwe Nederlandse vertaling. In: Het vertaalja\n",
      "Artikels: Claes, Paul. De zeven doodzonden van de vertaler. In: Vertaalplezier. Speciaal gedeelte van: Filter (Nijmegen): 26 (2019\n",
      "Artikels: Vos, Jos. Zingen van de vergankelijkheid aller dingen. In: Japanspecial. Speciaal gedeelte van: Filter (Nijmegen): 26 (2\n",
      "Artikels: Drayer, Elma. De identiteitspolitieke eisen van nu. In: Gevoelige woorden. Speciaal gedeelte van: Filter (Nijmegen): 26 \n",
      "Artikels: Veenbaas, Jabik. De dame die de zon afwimpelde. In: Het vertaaljaar 2017. Speciaal gedeelte van: Filter (Nijmegen): 25 (\n",
      "Artikels: Grutman, Rainier. Ingelaste talen vertalen: vier literaire scenario's. In: Meertaligheid. Speciaal gedeelte van: Filter \n",
      "::: ../data/llm-dump/2000s :::\n",
      "../data/llm-dump/2000s/JFULL_consolidated.ris\n"
     ]
    },
    {
     "name": "stderr",
     "output_type": "stream",
     "text": [
      "100%|██████████| 479/479 [00:00<00:00, 140180.83it/s]\n"
     ]
    },
    {
     "name": "stdout",
     "output_type": "stream",
     "text": [
      "Artikels: Blok, Dirk P. Altniederländisches in lateinischen Dokumenten 800–ca. 1250. In: Quod vulgo dicitur: Studien zum Altnieder\n",
      "Artikels: Bogman, Jef. Marc en de dingen. In: Opstellen over jeugdliteratuur van Amsterdamse collega's: Gerard de Vriend-nummer; [\n",
      "Artikels: Koeven, Erna van. \"De Shaloomschool gelooft niet in toveren en dat soort dingen...\": de identiteit van open protestants-\n",
      "Artikels: Barnard, Benno. Een ongevaarlijke geestesziekte. In: Hommage Kamiel Vanhole, 1954-2008. Speciaal nummer van: De brakke h\n",
      "Artikels: Waterschoot, Werner. Een veeleisende systematicus. In: Voor de Spiegel. Speciaal gedeelte van: Spiegel der letteren (Leu\n",
      "Artikels: Claes, Paul. Sleutels, II. \"IJsbloemen\" van Chr. J. van Geel. In: Dietsche warande & Belfort (Gent): 156 (2011) 3 (juni)\n",
      "Artikels: Korevaart, Korrie. De criticus is dood. Leve de criticus!: B. H. Lulofs (1787-1849) en het begin van de Nederlandse dagb\n",
      "Artikels: Hofstra, Tette. J.A. Huisman 1919-2003. In: Amsterdamer Beiträge zur älteren Germanistik (Amsterdam): 58 (2003) 1-4. | B\n",
      "Artikels: Michielsen, John. Memoirs and metafiction: Dutch immigration to Canada after World War II. In: Round table on immigratio\n",
      "Artikels: Mooij, Martin. Poetry International Rotterdam: hoe het begon en toch nog goed kwam. In: Revolver (Antwerpen): 36 (2009) \n",
      "Artikels: Langbroek, Erika. Die Jungfrau und das Wilde Tier in der Erzählung \"Valentin und Namelos\". In: Erotik, aus dem Dreck gez\n",
      "Artikels: Grootes, Eddy. De dichter en de edelman: Pieter Corneliszoon Hooft en Wessel van den Boetzelaer. In: De zeventiende eeuw\n",
      "Artikels: Rooy, Wim van. De \"Albasten kus\" van Frans Boenders. In: Gierik (Antwerpen): 28 (2010) 106 (lente) 54-57. | Dries, Luk v\n",
      "Artikels: Waterschoot, Werner. \"Het Ghendsche Helicon\" en zijn bronnen. In: Verslagen en mededelingen van de Koninklijke Academie \n",
      "Artikels: Blom, Alderik H. Language admixture in the old West Frisian \"Basle wedding speeches\". In: Advances in old Frisian philol\n",
      "Artikels: Ros, Bea. Het raadsel van de leesbaarheid: interview met Harry Bekkering. In: Thema: Meisjes, jongens, lezen en (jeugd)l\n",
      "Artikels: Loriaux, Stéphanie. L'univers ambigu et méconnu du \"Compartiment des dames\": nouveau regard sur la littérature féminine \n",
      "Artikels: Barnard, Benno. Warum ich Belgier wurde; aus dem niederländischen von Marlene Müller-Haas. In: Göttliche Monster: eine L\n",
      "Artikels: Meijer, Jaap en W. de Graaf. Ruzie over Perk en Kloos. In: Harry G. M. Prick; [samenstelling] Nop Maas. Speciaal nummer \n",
      "Artikels: Bogman, Jef. Eenheid zonder centrum. In: Nederlandse letterkunde (Groningen): 8 (2003) 3 (sep) 256-269.\n",
      "Artikels: Rossem, Stijn van. The bookshop of the Counter-Reformation revisited: the Verdussen Company and the trade in Catholic pu\n",
      "Artikels: Hurkmans, Nicole. Waar liggen de grenzen nog?: een onderzoek naar vier dubbelpublieksauteurs. In: Literatuur zonder leef\n",
      "Artikels: Uffelen, Herbert van. De geschiedenis geschied(t). In: [Historische aspecten van de Neerlandistiek]; redactie: Herbert v\n",
      "Artikels: Vantorre, Liesbeth. Vorm en vervreemding in Louis Paul Boons boeken over de Kapellekensbaan. In: Dossier Louis Paul Boon\n",
      "Artikels: Joosten, Jos. Een merkwaardige verhouding?: iets over Guillaume van der Graft en de poëziekritiek. In: Focus op Guillaum\n",
      "Artikels: Rynck, Patrick de. De poorten van het leven: Stadsbibliotheek Antwerpen en Openbare Bibliotheek Brugge. In: Rynck, Patri\n",
      "Artikels: Pleij, Herman. Waar of gelogen?: over literatuurgeschiedschrijving en maatschappelijk engagement. In: Eenheid in versche\n",
      "Artikels: Vliegen, Maurice. The relation between lexical and epistemic readings: the equivalents of \"promise\" and \"threaten\" in Du\n",
      "Artikels: Vorsselmans, Jan. Ugo Verbeke. In: Herdenkingen & huldigingen 2007. Antwerpen: Vereniging van Kempische Schrijvers, 2008\n",
      "Artikels: Goethals, Patrick. Corpus-driven hypothesis generation in translation studies, contrastive linguistics and text linguist\n",
      "Artikels: Deschamps, Karen. Legal norms as objects of (non-) commitment. In: Commitment; Philippe De Brabanter and Patrick Dendale\n",
      "Artikels: Schutter, Freddy de. Schrijven of schieten? Sociaal engagement in de letteren. In: De maatschappelijke relevantie van li\n",
      "Artikels: Keßler, Judith. Teutoonse Sappho herrezen: over de zeventiende-eeuwse receptie van de refreinen van Anna Bijns. In: Lite\n",
      "Artikels: Pusztai, Gábor; Gerard Termorshuizen. Inleiding: doodsverachtende kolonisten en Orang Blanda's: het belang van vreemde o\n",
      "Artikels: Devroe, Hans. De mathematische muze: een onderzoek naar de betrekkingen tussen wiskunde, poëzie, en meer algemeen litera\n",
      "Artikels: Houts, Elisabeth van. Contrasts and interaction: neighbours of nascent Dutch writing: the English, Normans and Flemish (\n",
      "Artikels: Sintobin, Tom. \"Niet bij manier van spreken\": over \"ut pictura poesis\" en hypotypose. In: Voor altijd onder de ogen: Str\n",
      "Artikels: Duyvendak, Lizet. \"Is dit iets voor het Leesmuseum?\": over de plaats van Streuvels en Buysse in de collectie van het Haa\n",
      "Artikels: Verstraten, Peter. Ongebreidelde beeldvorming: \"Zwartboek\" versus \"Jezus van Nazaret\". In: Dossier: Literatuur en film: \n",
      "Artikels: Baggerman, Arianne; Rudolf Dekker. De opmars van het egodocument in de Nederlandse geschiedschrijving. In: Egodocumenten\n",
      "Artikels: Pusztai, Gábor. De \"schrijfster van de Javaanse slaven\": Madelon Székely-Lulofs in de Hongaarse pers. In: \"In een groots\n",
      "Artikels: Sleiderink, Remco. \"Une si belle histoire de nos propres seigneurs\": la noblesse brabançonne et la littérature en néerla\n",
      "Artikels: Keymeulen, Jacques Van. Latin loan words in Dutch and the Dutch dialects. In: Language variation and change: dialectolog\n",
      "Artikels: Koenis, Sjaak. Menno ter Braak en de democratie. In: Democratie, moralisme, ecologie. Speciaal nummer van: Filosofie & p\n",
      "Artikels: Pleij, Herman. Anna Bijns als persoon. In: Met eigen ogen: de rederijker als dichtend individu (1450-1600); Dirk Coignea\n",
      "Artikels: Durlacher, Jessica. The right words: reflections on Holocaust writings by survivors and victims; a daughter speaks out. \n",
      "Artikels: Jespers, Henri-Floris. Concreet, sonoor, visueel? In: Van \"poesia visiva\" tot \"poesia totale\"; red. Henri-Floris Jespers\n",
      "Artikels: Groenewegen, Rob. Tumult in het Rotterdamse Luxor Theater. In: De oud Rotterdammer (Rotterdam): 1 (2005) 3 (18 okt), 11.\n",
      "Artikels: Booij, G.E. Constructional idioms, morphology, and the Dutch lexicon. In: Journal of Germanic linguistics (Chester, NY):\n",
      "Artikels: Bolle, Erik A.W. Seizoenen verdicht. In: Schriftuur (Voorburg): (2009) [1] (voorjaar) 3-6. | Deel, Tom van. Ida Gerhardt\n",
      "Artikels: Braakman, Ary. Seizoenen verdicht. In: Schriftuur (Voorburg): (2008) [2] (najaar) 3-4. | Fles, Olga. Ida Gerhardt en Ier\n",
      "Artikels: Dijk, André van. Seizoenen verdicht. In: Schriftuur (Heerde): (2009) [2] (najaar) 4-6. | Tour, Hans van. Verslag van de \n",
      "Artikels: Lambooij, Janneke. Seizoenen verdicht. In: Schriftuur (Voorburg): (2008) [1] (voorjaar) 5-8. | Willing-Kernkamp, Jis. Id\n",
      "Artikels: Heesakkers, Chris L. Twee Leidse boezemvrienden van Justus Lipsius: Janus Dousa en Jan van Hout. In: Iam illustravit omn\n",
      "Artikels: Belle, William Van. Over Willy Van Langendonck. In: Feestbundel W. Van Langendonck; [redactie: Luk Draye & William Van B\n",
      "Artikels: Bergmans, Luc. Le roman \"Max Havelaar\" de Multatuli, un \"pusaka\". In: Littérature et culture (post)coloniales des Pays-B\n",
      "Artikels: Hof, W.J. op 't. Nadere Reformatie in Friesland?. In: Friese cultuur in de eeuw van Gysbert Japix; [met adviezen van Ph.\n",
      "Artikels: Bremmer Jr., Rolf H. North-Sea Germanic at the cross-roads: the emergence of Frisian and Hollandish. In: Early and pre-h\n",
      "Artikels: Smulders, Ton. 1830 door een Amsterdamse bril. In: De Antwerpse en de Limburgse schrijvers uit de Kempen hand in hand me\n",
      "Artikels: Vorsselmans, Jan. Karel de Cat (Antwerpen, 14 februari 1920 - Brasschaat, 22 november 2005). In: Herdenkingen en huldigi\n",
      "Artikels: Weijermars, Janneke. Neerlandistiek als bindmiddel van de natie: hoogleraar Schrant in Gent 1817-1830. In: De waarde van\n",
      "Artikels: Grave, Jaap. Johannes Franck (1854-1914): de eerste hoogleraar Nederlandse taal- en letterkunde in het Duitse taalgebied\n",
      "Artikels: T'Sjoen, Yves. Den Boktand (1925-1926): \"Laat De Boktand komen om de liefde Gods\": Richard Minne en Raymond Herreman mak\n",
      "Artikels: Wauters, Karel. De intellectueel-artistieke horizon van de jonge Walschap: een speurtocht door zijn eerste kritieken. In\n",
      "Artikels: Brouwers, Jeroen. De manuscripten van R.J. Peskens. In: Geert van Oorschot (1909-1987); [eindredactie: Sjoerd van Faasse\n",
      "Artikels: Bossche, Stefan van den. Maurice Roelants als Maurice Minne: feit en fictie in de jeugdwerken \"Eros\" en \"De bange verwac\n",
      "Artikels: Faassen, Sjoerd van & Hans Renders. \"Misschien ligt in mijn functie als uitgever [jong] een nieuw veld open\": Bert Bakke\n",
      "Artikels: Swaenepoel, Geert. Chronologie. In: Themanummer: Michel Seuphor (1901-1999): grensverkenner van de avant-garde; [redacti\n",
      "Artikels: Beke, Katalin. Tien jaar Nederlands aan de Universiteit Debrecen. In: Acta Neerlandica (Debrecen): 1 (2001) 7-15. | Uffe\n",
      "Artikels: Irizarri van Suchtelen, Pablo. Taal, muziek en werkgeheugen: een verkenning van relaties tussen muzikale aptitude, taala\n",
      "Artikels: Pusztai, Gábor. Inleiding. In: Madelon Lulofs; [Gábor Pusztai, Gert Loosen, redactie]. Speciaal nummer van: Acta Neerlan\n",
      "Artikels: Mahmody, Susan. Kader Abdolah - een transcultureel schrijver. In: Schrijvers tussen culturen; samenstelling: Henriette L\n",
      "Artikels: Klinkenberg, Jean-Marie & François Provenzano. La protohistoire de la littérature belge: construire / décrire le passé. \n",
      "Artikels: Hessels, Wouter. \"Open dialoog\" en \"Eens zullen de getuigen er niet meer zijn\". In: Frans Buyens 80: vergrijsd niet verk\n",
      "Artikels: Goeman, Ton & Willy Jongenburger. Dimensions and determinants of dialect use in the Netherlands at the individual and re\n",
      "Artikels: Brolsma, Marjet. Cultuurtransfer en het tijdschriftenonderzoek. In: L’étude des revues littéraires en Belgique: méthodes\n",
      "Artikels: Geerts, Ronald. \"Iedereen kan theater maken, zelfs theatermakers\": spelen op het strijdtoneel. In: Toneelstof II: Sympat\n",
      "Artikels: Geerts, Ronald. Brecht in Vlaanderen: wer hat das gewusst? In: Toneelstof I: Route '66; gastredactie Wouter Hillaert (ga\n",
      "Artikels: Huftier, Arnaud. Les ombres de l'avonture: pour une mis en perspectives... In: Jean Ray / John Flanders: croisement d'om\n",
      "Artikels: Sicking, J. M. J. Woede en verontwaardiging: de Eerste Wereldoorlog in de Nederlandse literatuur. In: Bloed en rozen: de\n",
      "Artikels: T'Sjoen, Yves. Over poëzie en rechtspraak: beschouwingen over de dichter-advocaat Eddy van Vliet (1942-2002). In: Geschi\n",
      "Artikels: Lauryssens, Stan. Maigret en ik. In: Misdaad. Speciaal nummer van: Deus ex machina (Schilde): 33 (2009) 129 (sep) 12-17.\n",
      "Artikels: Sebes, Paul. \"Nieuw talent? Dat zoek ik vooral bij literaire wedstrijden\". In: Overbodig nummer. Speciaal nummer van: De\n",
      "Artikels: Hoornaert, Geert. Denkend over Albrecht Rodenbach op enkele Roeselaarse locaties. In: Albrecht Rodenbachnummer. Speciaal\n",
      "Artikels: Gary K. Waite, \"Drama, Dutch\". In: Encyclopedia of Witchcraft: The European Tradition, edited by Richard M. Golden. Sant\n",
      "Artikels: Sanders, Ewoud. Je wilt niet weten wat ik je toewens. In: Lees mij; [gastredactie]: Janna en Richtje Reinsma. Speciaal n\n",
      "Artikels: Vliet, Hennie van der. Digitale bronnen voor het Nederlands: het Referentiebestand Nederlands (RBN). In: De neerlandisti\n",
      "Artikels: Janssens, Guy. Een alternatieve invalshoek voor het geschiedenisonderwijs van het Nederlands. In: De historische dimensi\n",
      "Artikels: Jong, Saskia de. Ik blijk te houden van zorgvuldig georkestreerde dingen. In: Muziek en poëzie. Speciaal nummer van: De \n",
      "Artikels: Roelens, Xavier. Subject: Re: themanummer over het prozagedicht. In: Het prozagedicht: een nieuw elan; [samenstelling: A\n",
      "Artikels: Vekemans, Dirk. Literatuur via internet: naar een praktijk van het procedurale schrijven. In: Dossier poëzie & internet;\n",
      "Artikels: Lateur, Patrick. Lezer, vertaler en auteur versus editeur. In: Trends en thema's in de editiewetenschap; Peter de Bruijn\n",
      "::: ../data/llm-dump/1990s :::\n",
      "../data/llm-dump/1990s/JFULL_consolidated.ris\n"
     ]
    },
    {
     "name": "stderr",
     "output_type": "stream",
     "text": [
      "100%|██████████| 660/660 [00:00<00:00, 317458.79it/s]\n"
     ]
    },
    {
     "name": "stdout",
     "output_type": "stream",
     "text": [
      "Artikels: Schogt, Henry. Motives and impediments in describing war memories: the tragedy of the Jews. In: The influence of the sec\n",
      "Artikels: Moore, Cornelia Niekus. Johan Splinter Stavorinus' \"Voyages to the East Indies\": patriot in an age of reason. In: Dutch \n",
      "Artikels: Weele, Steve van der. Lambent ironies and laughing praise in Erasmus' \"Praise of Folly\". In: From Renaissance to revolut\n",
      "Artikels: Vroom, Theresia de. Hadewijch van Antwerpen (ca. 1250). In: Women Writers in the Netherlands and Flanders; [gastredacteu\n",
      "Artikels: Roe, Julianne M. Making sense of nonsense: winning the language game in \"Nu noch\". In: The Middle Dutch play \"Nu noch\"; \n",
      "Artikels: Baak Griffioen, Ruth van. The value of \"Gouden Eeuw\" songbooks in the performance of seventeenth-century Dutch instrumen\n",
      "Artikels: Edminster, Warren. Methodical madness: carnavalesque folk patterns in \"Boss for three days\". In: [Over \"Drie daghe here\"\n",
      "Artikels: Claus, Hugo. De vrouw van Bernard; [uitgegeven door] Georges Wildemeersch. In: Oerboek; [redactie: Deśanne van Brederode\n",
      "Artikels: Winkelman, Johan H. Over de minnespreuken op recentelijk ontdekte Tristan-schoentjes. In: Sô wold ich in Fröiden singen:\n",
      "Artikels: Berteloot, Amand. Die \"Legenda aurea\" an Rhein, Maas und Ĳssel. In: Die spätmittelalterliche Rezeption niederländischer \n",
      "Artikels: Oostrom, F.P. van. Karel ende Arbogast: die Spitze von welchem Eisberg?; aus dem Niederländischen übers. von Sjaak Onder\n",
      "Artikels: Boutkan, Dirk. Pregermanic fish in Old Saxon glosses: on alleged Ablaut patterns and other formal deviations in Gmc. sub\n",
      "Artikels: Quak, Arend. Versuch einer Formenlehre des Altniederländischen auf der Basis der Wachtendonkschen Psalmen. In: Zur Phono\n",
      "Artikels: Abraham, Werner. \"Ersatzinfinitiv\" und Verbanhebung in der Westgermania. In: A Frisian and Germanic miscellany: publishe\n",
      "Artikels: Bremmer, Rolf H. Middle Dutch \"loosten\", \"redeem\": a case of \"derailed\" coastal vowel substitution. In: Germanic studies\n",
      "Artikels: Driel, Lo van & Jan Noordegraaf. Erflaters van de Nederlandse taalkunde : De Vries, Te Winkel en hun Woordenboek. In: Tr\n",
      "Artikels: Neck-Yoder, Hilda van. Introduction. In: Caribbean literature from Suriname, the Netherlands Antilles, Aruba, and the Ne\n",
      "Artikels: Biebauw, Krist. Demokratizering van de historiografie: Boons \"Geuzenboek\". In: Epiloog (Destelbergen): 1 (1991) 2, 6-11.\n",
      "Artikels: Sleiderink, Remco. Pykini's parrot: music at the court of Brabant. In: Musicology and archival research = Musicologie et\n",
      "Artikels: Machiels, Ivo. Louis Paul Boon en de plastische kunst. In: L. P. Boon-nummer. Speciaal nummer van: Lettergreep (Hasselt)\n",
      "::: ../data/llm-dump/1980s :::\n",
      "../data/llm-dump/1980s/JFULL_consolidated.ris\n"
     ]
    },
    {
     "name": "stderr",
     "output_type": "stream",
     "text": [
      "100%|██████████| 619/619 [00:00<00:00, 276464.08it/s]\n"
     ]
    },
    {
     "name": "stdout",
     "output_type": "stream",
     "text": [
      "Artikels: Nelson, Ralph. Erasmus and Grotius on \"just war theory\". In: La célébration canadienne du 400e anniversaire de Hugo Grot\n",
      "Artikels: Molemans, J. De nederzettingsnamen in het land van Vogelzang. In: Referaten gehouden op het zevende congres van de Veren\n",
      "Artikels: Zu den salfränkischen Tierbezeichnungen; von einer Arbeitsgruppe [Thea Daldrup-van Dorp, Kees Samplonius, Max Wamelink] \n",
      "Artikels: Quak, Aad; Floor van der Rhee. 1919 - J.A. Huisman - 1989. In: Palaeogermanica et onomastica: Festschrift für J.A. Huism\n",
      "Artikels: Soeteman, C. Jacob Grimm im Briefwechsel mit niederländischen Philologen. In: In diutscher diute: Festschrift für Anthon\n",
      "Artikels: Varty, K. Love, marriage and family relationships in the Ysengrimus and the Roman de Renart. In: On the beast epic: le r\n",
      "::: ../data/llm-dump/1970s :::\n",
      "../data/llm-dump/1970s/JFULL_consolidated.ris\n"
     ]
    },
    {
     "name": "stderr",
     "output_type": "stream",
     "text": [
      "100%|██████████| 273/273 [00:00<00:00, 343341.83it/s]\n"
     ]
    },
    {
     "name": "stdout",
     "output_type": "stream",
     "text": [
      "Artikels: Schmitz, P.F. Afscheid van Kaiser Otto III: de objectiviteit van Ter Braak. In: Menno ter Braak: een verzameling artikel\n",
      "Artikels: Levy, Paul M. G. Linguistic and semantic borders in Belgium. In: Belgium; issue editor Albert Verdoodt. Speciaal nummer \n",
      "::: ../data/llm-dump/1960s :::\n",
      "../data/llm-dump/1960s/JFULL_consolidated.ris\n"
     ]
    },
    {
     "name": "stderr",
     "output_type": "stream",
     "text": [
      "100%|██████████| 190/190 [00:00<00:00, 338825.58it/s]\n"
     ]
    },
    {
     "name": "stdout",
     "output_type": "stream",
     "text": [
      "Artikels: Enzinck, Willem. In gesprek met Hugo Raes, winnaar van de C. W. van der Hoogtprijs 1969. In: Feniks (Amsterdam): 1 (1969\n",
      "Artikels: Boyden, Michael, Liselotte Vandenbussche. Translating the American West into English: the Case of Hendrik Conscience’s H\n",
      "Artikels: Verkuyl, P. E. L. Huygens' \"Grill\" van 1623. In: W. A. P. Smit-nummer. Speciaal nr. van: De nieuwe taalgids (Groningen):\n",
      "Artikels: Lehning, Arthur. De geschiedenis van \"Vera\". In: Marsman, H. Vijf versies van \"Vera\"; ingeleid door Arthur Lehning; verz\n",
      "::: ../data/llm-dump/1950s :::\n",
      "../data/llm-dump/1950s/JFULL_consolidated.ris\n"
     ]
    },
    {
     "name": "stderr",
     "output_type": "stream",
     "text": [
      "100%|██████████| 17/17 [00:00<00:00, 45243.13it/s]\n"
     ]
    },
    {
     "name": "stdout",
     "output_type": "stream",
     "text": [
      "Artikels: Hellinga, W. Gs. De waarde van de zg. mengtalen in de West. In: Het Neger-Engels van Suriname: bijdragen en beschouwinge\n",
      "Artikels: Teirlinck, Herman. Ereschot voor een strijdmakker. In: Bijdragen Prof. Dr. E. Blancquaert aangeboden op 20 juni 1954 bij\n",
      "Artikels: Kooiman, K. In memoriam Prof. Dr. J. Vercoullie. In: Prof. J. Vercoullie-nummer ter gelegenheid van de 100e verjaardag v\n",
      "Artikels: Caron, W. J. H. Koning en gevolg. In: Bijdragen Dr. P. J. Meertens aangeboden op 6 september 1959 bij zijn zestigste ver\n",
      "::: ../data/llm-dump/1940s :::\n",
      "../data/llm-dump/1940s/JFULL_consolidated.ris\n"
     ]
    },
    {
     "name": "stderr",
     "output_type": "stream",
     "text": [
      "100%|██████████| 68/68 [00:00<00:00, 298652.01it/s]\n"
     ]
    }
   ],
   "source": [
    "for decade_folder in sorted(glob(f'{llm_path}/*'))[::-1]:\n",
    "    print(':::', decade_folder, ':::')\n",
    "    decade = decade_folder.split('/')[-1]\n",
    "\n",
    "    for ris_path in sorted(glob(f'{decade_folder}/JFULL_consolidated.ris')):\n",
    "        print(ris_path)\n",
    "        with open(ris_path) as f:\n",
    "            entries = rispy.load(f, encoding='utf-8')\n",
    "\n",
    "        # get journal entries for this decade:\n",
    "        jour_by_title = get_jour_by_title(decade_folder)\n",
    "        \n",
    "        for idx, entry in tqdm(list(enumerate(entries))):\n",
    "            if not entry['type_of_reference'] == 'JFULL':\n",
    "                continue\n",
    "            if 'notes_abstract' in entry:\n",
    "                pub_title = ' '.join(entry['notes_abstract'].split()).strip()\n",
    "            else:\n",
    "                # this means that we weren't able to structure the item via the LLM...\n",
    "                pub_title = ' '.join(entry['title'].split()).strip()\n",
    "            \n",
    "            reviews, articles = special_issue_references(pub_title)\n",
    "\n",
    "            if reviews:\n",
    "                entry['research_notes'] = 'Recensies: ' + ' | '.join(reviews)\n",
    "            if articles:\n",
    "                entry['custom4'] = 'Artikels: ' + ' | '.join(articles)\n",
    "                #print('Artikels: ' + ' | '.join(articles)[:120])\n",
    "                jour_info = aggregate_special_issue_info(jour_by_title, articles)\n",
    "                if jour_info:\n",
    "                    jour_str = 'Speciaal nummer van: ' + jour_info['journal_name']\n",
    "                    if 'volume' in jour_info:\n",
    "                        jour_str += ' ' + jour_info['volume']\n",
    "                    jour_str += ' (' + entry['year'] + ')'\n",
    "                    if 'number' in jour_info:\n",
    "                        jour_str += ' ' + jour_info['number']\n",
    "                    entry['custom5'] = jour_str\n",
    "            \n",
    "            entries[idx] = entry\n",
    "\n",
    "        out_ris_path = ris_path.replace('.ris', f'_link_{decade}.ris')\n",
    "        with open(out_ris_path, 'w') as bibliography_file:\n",
    "            rispy.dump(entries, bibliography_file)"
   ]
  },
  {
   "cell_type": "code",
   "execution_count": null,
   "metadata": {},
   "outputs": [],
   "source": []
  }
 ],
 "metadata": {
  "kernelspec": {
   "display_name": "py3.11",
   "language": "python",
   "name": "python3"
  },
  "language_info": {
   "codemirror_mode": {
    "name": "ipython",
    "version": 3
   },
   "file_extension": ".py",
   "mimetype": "text/x-python",
   "name": "python",
   "nbconvert_exporter": "python",
   "pygments_lexer": "ipython3",
   "version": "3.11.8"
  }
 },
 "nbformat": 4,
 "nbformat_minor": 2
}
