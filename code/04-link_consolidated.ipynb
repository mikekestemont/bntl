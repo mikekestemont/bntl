{
 "cells": [
  {
   "cell_type": "code",
   "execution_count": 1,
   "metadata": {},
   "outputs": [],
   "source": [
    "from copy import deepcopy\n",
    "import os\n",
    "import math\n",
    "import shutil\n",
    "import re\n",
    "from glob import glob\n",
    "from collections import defaultdict, Counter\n",
    "\n",
    "import numpy as np\n",
    "from tqdm import tqdm\n",
    "import pandas as pd\n",
    "pd.set_option('display.max_colwidth', None)\n",
    "\n",
    "import rispy\n",
    "mapping = deepcopy(rispy.TAG_KEY_MAPPING)\n",
    "mapping['M2'] = 'extra'\n",
    "mapping['AB'] = 'orig_abstract'\n",
    "mapping['CN'] = 'call_number'\n",
    "mapping['CH'] = 'chapters'\n",
    "mapping['AS'] = 'articles'"
   ]
  },
  {
   "cell_type": "code",
   "execution_count": 2,
   "metadata": {},
   "outputs": [],
   "source": [
    "dump_dir = '../data/bntl-db-csv-dump-4March2024'"
   ]
  },
  {
   "cell_type": "markdown",
   "metadata": {},
   "source": [
    "### Recensies\n",
    "\n",
    "*Add to reviews which publication they review (under \"RI\" = reviewed item).*"
   ]
  },
  {
   "cell_type": "markdown",
   "metadata": {},
   "source": [
    "We first load the original data table for all publications in the original dump:"
   ]
  },
  {
   "cell_type": "code",
   "execution_count": 3,
   "metadata": {},
   "outputs": [
    {
     "data": {
      "text/html": [
       "<div>\n",
       "<style scoped>\n",
       "    .dataframe tbody tr th:only-of-type {\n",
       "        vertical-align: middle;\n",
       "    }\n",
       "\n",
       "    .dataframe tbody tr th {\n",
       "        vertical-align: top;\n",
       "    }\n",
       "\n",
       "    .dataframe thead th {\n",
       "        text-align: right;\n",
       "    }\n",
       "</style>\n",
       "<table border=\"1\" class=\"dataframe\">\n",
       "  <thead>\n",
       "    <tr style=\"text-align: right;\">\n",
       "      <th></th>\n",
       "      <th>id</th>\n",
       "      <th>ppn</th>\n",
       "      <th>type</th>\n",
       "      <th>jaar</th>\n",
       "      <th>title_description</th>\n",
       "      <th>abstract</th>\n",
       "      <th>url</th>\n",
       "      <th>containing_publication_id</th>\n",
       "      <th>containing_publication_ppn</th>\n",
       "      <th>page_numbers</th>\n",
       "      <th>creator</th>\n",
       "      <th>creation_date</th>\n",
       "      <th>modifier</th>\n",
       "      <th>modification_date</th>\n",
       "      <th>canonical_url</th>\n",
       "    </tr>\n",
       "  </thead>\n",
       "  <tbody>\n",
       "    <tr>\n",
       "      <th>294957</th>\n",
       "      <td>97752</td>\n",
       "      <td>NaN</td>\n",
       "      <td>recensie</td>\n",
       "      <td>1993</td>\n",
       "      <td>Schellenbach, C.J.\\r\\nIn: Van taal tot taal (Hilversum): 37 (1993) 3 (sep) 136-138.</td>\n",
       "      <td>NaN</td>\n",
       "      <td>NaN</td>\n",
       "      <td>NaN</td>\n",
       "      <td>NaN</td>\n",
       "      <td>NaN</td>\n",
       "      <td>1</td>\n",
       "      <td>NaT</td>\n",
       "      <td>16.0</td>\n",
       "      <td>2008-08-12 16:26:02</td>\n",
       "      <td>NaN</td>\n",
       "    </tr>\n",
       "    <tr>\n",
       "      <th>12525</th>\n",
       "      <td>161673</td>\n",
       "      <td>NaN</td>\n",
       "      <td>recensie</td>\n",
       "      <td>1954</td>\n",
       "      <td>Recensie van de oorspronkelijke uitgave door J. J. Klant. \\r\\nIn: Critisch bulletin: 21 (1954) 3 (mrt) 124-128.</td>\n",
       "      <td>NaN</td>\n",
       "      <td>NaN</td>\n",
       "      <td>NaN</td>\n",
       "      <td>NaN</td>\n",
       "      <td>NaN</td>\n",
       "      <td>1</td>\n",
       "      <td>NaT</td>\n",
       "      <td>19.0</td>\n",
       "      <td>2008-05-06 12:09:16</td>\n",
       "      <td>NaN</td>\n",
       "    </tr>\n",
       "    <tr>\n",
       "      <th>99723</th>\n",
       "      <td>180945</td>\n",
       "      <td>862446910</td>\n",
       "      <td>artikeltijdschrift</td>\n",
       "      <td>1970</td>\n",
       "      <td>'Pas op' : de toneelschool begint weer / Dimitri Frenkel Frank.\\nIn: Avenue Amst.:  (1970), afl. 8 (aug), pag. 49.</td>\n",
       "      <td>NaN</td>\n",
       "      <td>NaN</td>\n",
       "      <td>157888.0</td>\n",
       "      <td>830503064</td>\n",
       "      <td>(1970), afl. 8 (aug), p. 49.</td>\n",
       "      <td>1</td>\n",
       "      <td>NaT</td>\n",
       "      <td>NaN</td>\n",
       "      <td>NaT</td>\n",
       "      <td>NaN</td>\n",
       "    </tr>\n",
       "  </tbody>\n",
       "</table>\n",
       "</div>"
      ],
      "text/plain": [
       "            id        ppn                type  jaar  \\\n",
       "294957   97752        NaN            recensie  1993   \n",
       "12525   161673        NaN            recensie  1954   \n",
       "99723   180945  862446910  artikeltijdschrift  1970   \n",
       "\n",
       "                                                                                                         title_description  \\\n",
       "294957                                 Schellenbach, C.J.\\r\\nIn: Van taal tot taal (Hilversum): 37 (1993) 3 (sep) 136-138.   \n",
       "12525      Recensie van de oorspronkelijke uitgave door J. J. Klant. \\r\\nIn: Critisch bulletin: 21 (1954) 3 (mrt) 124-128.   \n",
       "99723   'Pas op' : de toneelschool begint weer / Dimitri Frenkel Frank.\\nIn: Avenue Amst.:  (1970), afl. 8 (aug), pag. 49.   \n",
       "\n",
       "       abstract  url  containing_publication_id containing_publication_ppn  \\\n",
       "294957      NaN  NaN                        NaN                        NaN   \n",
       "12525       NaN  NaN                        NaN                        NaN   \n",
       "99723       NaN  NaN                   157888.0                  830503064   \n",
       "\n",
       "                        page_numbers  creator creation_date  modifier  \\\n",
       "294957                           NaN        1           NaT      16.0   \n",
       "12525                            NaN        1           NaT      19.0   \n",
       "99723   (1970), afl. 8 (aug), p. 49.        1           NaT       NaN   \n",
       "\n",
       "         modification_date canonical_url  \n",
       "294957 2008-08-12 16:26:02           NaN  \n",
       "12525  2008-05-06 12:09:16           NaN  \n",
       "99723                  NaT           NaN  "
      ]
     },
     "execution_count": 3,
     "metadata": {},
     "output_type": "execute_result"
    }
   ],
   "source": [
    "publications = pd.read_csv(f\"{dump_dir}/publications.csv\", header=0, parse_dates=['creation_date', 'modification_date'])\n",
    "publications['id'] = publications['id'].fillna('')\n",
    "publications.sample(3)"
   ]
  },
  {
   "cell_type": "markdown",
   "metadata": {},
   "source": [
    "We are going to extract title descriptions for including that in the RIS dump, so we much sure that these are clean:"
   ]
  },
  {
   "cell_type": "code",
   "execution_count": 4,
   "metadata": {},
   "outputs": [],
   "source": [
    "publications['title_description'] = [' '.join(p.split()).strip() for p in publications['title_description']]"
   ]
  },
  {
   "cell_type": "markdown",
   "metadata": {},
   "source": [
    "We extract a review's title description and check to which (source) id this review was mapped:"
   ]
  },
  {
   "cell_type": "code",
   "execution_count": 5,
   "metadata": {},
   "outputs": [
    {
     "data": {
      "text/html": [
       "<div>\n",
       "<style scoped>\n",
       "    .dataframe tbody tr th:only-of-type {\n",
       "        vertical-align: middle;\n",
       "    }\n",
       "\n",
       "    .dataframe tbody tr th {\n",
       "        vertical-align: top;\n",
       "    }\n",
       "\n",
       "    .dataframe thead th {\n",
       "        text-align: right;\n",
       "    }\n",
       "</style>\n",
       "<table border=\"1\" class=\"dataframe\">\n",
       "  <thead>\n",
       "    <tr style=\"text-align: right;\">\n",
       "      <th></th>\n",
       "      <th>id</th>\n",
       "      <th>ppn</th>\n",
       "      <th>type</th>\n",
       "      <th>jaar</th>\n",
       "      <th>title_description</th>\n",
       "      <th>abstract</th>\n",
       "      <th>url</th>\n",
       "      <th>containing_publication_id</th>\n",
       "      <th>containing_publication_ppn</th>\n",
       "      <th>page_numbers</th>\n",
       "      <th>creator</th>\n",
       "      <th>creation_date</th>\n",
       "      <th>modifier</th>\n",
       "      <th>modification_date</th>\n",
       "      <th>canonical_url</th>\n",
       "    </tr>\n",
       "  </thead>\n",
       "  <tbody>\n",
       "    <tr>\n",
       "      <th>2973</th>\n",
       "      <td>314016</td>\n",
       "      <td>NaN</td>\n",
       "      <td>specialetijdschriftaflevering</td>\n",
       "      <td>2018</td>\n",
       "      <td>Een waaier van emoties. Nijmegen: Vantilt. 23 p. Speciaal nummer van: Filter (Nijmegen): 25 (2018) 4 (dec) 3-26.</td>\n",
       "      <td>P. 3 Inleiding, door de redactie; p. 26 Noten; p. 26 Bibliografie \"Koudwatervrees\".</td>\n",
       "      <td>NaN</td>\n",
       "      <td>NaN</td>\n",
       "      <td>NaN</td>\n",
       "      <td>NaN</td>\n",
       "      <td>451</td>\n",
       "      <td>2023-12-06 09:35:47</td>\n",
       "      <td>451.0</td>\n",
       "      <td>2023-12-06 10:03:06</td>\n",
       "      <td>een_waaier_van_emoties_nijmege/n_v_t</td>\n",
       "    </tr>\n",
       "  </tbody>\n",
       "</table>\n",
       "</div>"
      ],
      "text/plain": [
       "          id  ppn                           type  jaar  \\\n",
       "2973  314016  NaN  specialetijdschriftaflevering  2018   \n",
       "\n",
       "                                                                                                     title_description  \\\n",
       "2973  Een waaier van emoties. Nijmegen: Vantilt. 23 p. Speciaal nummer van: Filter (Nijmegen): 25 (2018) 4 (dec) 3-26.   \n",
       "\n",
       "                                                                                 abstract  \\\n",
       "2973  P. 3 Inleiding, door de redactie; p. 26 Noten; p. 26 Bibliografie \"Koudwatervrees\".   \n",
       "\n",
       "      url  containing_publication_id containing_publication_ppn page_numbers  \\\n",
       "2973  NaN                        NaN                        NaN          NaN   \n",
       "\n",
       "      creator       creation_date  modifier   modification_date  \\\n",
       "2973      451 2023-12-06 09:35:47     451.0 2023-12-06 10:03:06   \n",
       "\n",
       "                             canonical_url  \n",
       "2973  een_waaier_van_emoties_nijmege/n_v_t  "
      ]
     },
     "execution_count": 5,
     "metadata": {},
     "output_type": "execute_result"
    }
   ],
   "source": [
    "#publications[publications['title_description'] == 'Kestemont, Mike. Eind goed, al goed? In: Queeste: 18 (2011) 1, 81-84.']['id']\n",
    "publications[publications['title_description'] == 'Een waaier van emoties. Nijmegen: Vantilt. 23 p. Speciaal nummer van: Filter (Nijmegen): 25 (2018) 4 (dec) 3-26.']\n"
   ]
  },
  {
   "cell_type": "markdown",
   "metadata": {},
   "source": [
    "Next, we look up the (target) ID of the publication that was reviewed:"
   ]
  },
  {
   "cell_type": "code",
   "execution_count": 6,
   "metadata": {},
   "outputs": [
    {
     "name": "stdout",
     "output_type": "stream",
     "text": [
      "181127    273488\n",
      "Name: id, dtype: int64\n"
     ]
    }
   ],
   "source": [
    "print(publications[publications['title_description'] == \"Draux, Roland. Beatrijs' biecht: stilistisch en semiotisch onderzoek. Köln: Lambert Academic Publishing, 2009. 253 p.\"]['id'])"
   ]
  },
  {
   "cell_type": "markdown",
   "metadata": {},
   "source": [
    "We now create three lookup dicts:\n",
    "- `title2id`: to map a title description to a publication ID;\n",
    "- `title2ptype`: to map a publication's title descirption to its publication type;\n",
    "- `id2title`: to map a publication ID to a title description."
   ]
  },
  {
   "cell_type": "code",
   "execution_count": 7,
   "metadata": {},
   "outputs": [],
   "source": [
    "title2id = dict(zip(publications['title_description'], publications['id']))\n",
    "id2title = dict(zip(publications['id'], publications['title_description']))"
   ]
  },
  {
   "cell_type": "code",
   "execution_count": 8,
   "metadata": {},
   "outputs": [],
   "source": [
    "title2ptypes = defaultdict(set)\n",
    "for td, pt in zip(publications['title_description'], publications['type']):\n",
    "    title2ptypes[td].add(pt)"
   ]
  },
  {
   "cell_type": "markdown",
   "metadata": {},
   "source": [
    "We now create a linkage dict (`review2reference`), that maps the IDs of reviews, to the IDs of the publication that they review:"
   ]
  },
  {
   "cell_type": "code",
   "execution_count": 9,
   "metadata": {},
   "outputs": [],
   "source": [
    "references = pd.read_csv(f'{dump_dir}/publication_publications.csv')\n",
    "reference2publication = dict(zip(references['publication_id'], references['referenced_publication_id']))"
   ]
  },
  {
   "cell_type": "markdown",
   "metadata": {},
   "source": [
    "Now, we inverse our lookup dictionary, to that books can be mapped to a list of their reviews:"
   ]
  },
  {
   "cell_type": "code",
   "execution_count": 10,
   "metadata": {},
   "outputs": [],
   "source": [
    "publication2references = defaultdict(list)\n",
    "for review_id, book_id in reference2publication.items():\n",
    "    publication2references[book_id].append(review_id)\n",
    "\n",
    "def get_reviews(pub_title):\n",
    "    try:\n",
    "        pub_id = title2id[pub_title]\n",
    "    except KeyError:\n",
    "        return None\n",
    "    \n",
    "    reviews = []\n",
    "    for potential_review_id in publication2references[pub_id]:\n",
    "        potential_review_title = id2title[potential_review_id]\n",
    "        if 'recensie' in title2ptypes[potential_review_title]:\n",
    "            try:\n",
    "                reviews.append(potential_review_title)\n",
    "            except KeyError:\n",
    "                continue\n",
    "    \n",
    "    if reviews:\n",
    "        return ' | '.join(reviews)\n",
    "    \n",
    "\n",
    "def get_chapters(pub_title):\n",
    "    try:\n",
    "        pub_id = title2id[pub_title]\n",
    "    except KeyError:\n",
    "        return None\n",
    "    \n",
    "    chapters = []\n",
    "    for potential_chapter_id in publication2references[pub_id]:\n",
    "        potential_chapter_title = id2title[potential_chapter_id]\n",
    "        if 'artikelboek' in title2ptypes[potential_chapter_title]:\n",
    "            try:\n",
    "                chapters.append(potential_chapter_title)\n",
    "            except KeyError:\n",
    "                continue\n",
    "    \n",
    "    if chapters:\n",
    "        return ' | '.join(chapters)\n",
    "    \n",
    "def get_articles(pub_title):\n",
    "    try:\n",
    "        pub_id = title2id[pub_title]\n",
    "    except KeyError:\n",
    "        return None\n",
    "    \n",
    "    articles = []\n",
    "    for potential_article_id in publication2references[pub_id]:\n",
    "        potential_article_title = id2title[potential_article_id]\n",
    "        if 'artikeltijdschrift' in title2ptypes[potential_article_title]:\n",
    "            try:\n",
    "                articles.append(potential_article_title)\n",
    "            except KeyError:\n",
    "                continue\n",
    "    \n",
    "    if articles:\n",
    "        return ' | '.join(articles)\n"
   ]
  },
  {
   "cell_type": "code",
   "execution_count": 11,
   "metadata": {},
   "outputs": [
    {
     "name": "stdout",
     "output_type": "stream",
     "text": [
      "274189\n",
      "273488\n",
      "Draux, Roland. Beatrijs' biecht: stilistisch en semiotisch onderzoek. Köln: Lambert Academic Publishing, 2009. 253 p.\n"
     ]
    }
   ],
   "source": [
    "review_id = title2id[\"Kestemont, Mike. Eind goed, al goed? In: Queeste: 18 (2011) 1, 81-84.\"]\n",
    "print(review_id)\n",
    "book_id = reference2publication[review_id]\n",
    "print(book_id)\n",
    "book_title = id2title[book_id]\n",
    "print(book_title)"
   ]
  },
  {
   "cell_type": "code",
   "execution_count": 12,
   "metadata": {},
   "outputs": [
    {
     "name": "stdout",
     "output_type": "stream",
     "text": [
      "Besamusca, Bart. De (late) Middelnederlandse ridderepiek belicht. In: Queeste (Hilversum): 20 (2013) 1, 45-49. | Bouwmeester, Gerard. Nieuwe inzichten in de late ridderepiek. In: Spiegel der letteren (Leuven): 55 (2013) 4, 537-539.\n",
      "Janssens, Jef. De Middelnederlandse ridderepiek in de veertiende eeuw: postmodern of voorzichtig vernieuwend? In: Ene andre tale: tendensen in de Middelnederlandse late ridderepiek; onder redactie van An Faems en Marjolein Hogenbirk. Hilversum: Verloren, 2012, p. 37-52. (Middeleeuwse studies en bronnen; 131). | Meulen, Janet F. van der. Vrouwen van Avesnes: een nieuwe Alexander in de Lage Landen. In: Ene andre tale: tendensen in de Middelnederlandse late ridderepiek; onder redactie van An Faems en Marjolein Hogenbirk. Hilversum: Verloren, 2012, p. 55-81. (Middeleeuwse studies en bronnen; 131). | Reynders, Anne. \"Ghi heren, ic houde in ware wort dat ghi van Alexandre gehort hebt\": de Middelnederlandse vertalingen van de Oudfranse \"Florimont\" en \"Voeux du paon\". In: Ene andre tale: tendensen in de Middelnederlandse late ridderepiek; onder redactie van An Faems en Marjolein Hogenbirk. Hilversum: Verloren, 2012, p. 83-101. (Middeleeuwse studies en bronnen; 131). | Brandsma, Frank. Florimont 2.0 (editie, vertaling, context); [kritische kanttekeningen en redactie: Bart Besamusca]. In: Ene andre tale: tendensen in de Middelnederlandse late ridderepiek; onder redactie van An Faems en Marjolein Hogenbirk. Hilversum: Verloren, 2012, p. 103-121. (Middeleeuwse studies en bronnen; 131). | Lens, Mieke. Huge van Bordeeus: avontuur voor de stedelijke burgerij? In: Ene andre tale: tendensen in de Middelnederlandse late ridderepiek; onder redactie van An Faems en Marjolein Hogenbirk. Hilversum: Verloren, 2012, p. 125-150. (Middeleeuwse studies en bronnen; 131). | Tersteeg, Jacques. Een Vlaamse schandaalgeschiedenis en sleutelroman?: de Middelnederlandse fragmenten van de 'Borchgrave van Couchi' en de oudfranse prozaroman 'Baudoin de Flandre'. In: Ene andre tale: tendensen in de Middelnederlandse late ridderepiek; onder redactie van An Faems en Marjolein Hogenbirk. Hilversum: Verloren, 2012, p. 151-194. (Middeleeuwse studies en bronnen; 131). | Claassens, Geert H.M. \"Doe leefde hi soe heilichlike\": Seghelijn van Jherusalem tussen ridderepiek en hagiografie. In: Ene andre tale: tendensen in de Middelnederlandse late ridderepiek; onder redactie van An Faems en Marjolein Hogenbirk. Hilversum: Verloren, 2012, p. 195-212. (Middeleeuwse studies en bronnen; 131). | Biemans, Jos A.A.M. Conventies, standaarden en varianten: verschillende mogelijkheden en keuzes bij de vormgeving van handschriften met berijmde Middelnederlandse ridderepiek. In: Ene andre tale: tendensen in de Middelnederlandse late ridderepiek; onder redactie van An Faems en Marjolein Hogenbirk. Hilversum: Verloren, 2012, p. 215-257. (Middeleeuwse studies en bronnen; 131). | Kestemont, Mike. Een \"assonantic revival\"?: een kwantitatief diachroon onderzoek naar de assonantie in de Middelnederlandse ridderepiek, met bijzondere aandacht voor de veertiende eeuw. In: Ene andre tale: tendensen in de Middelnederlandse late ridderepiek; onder redactie van An Faems en Marjolein Hogenbirk. Hilversum: Verloren, 2012, p. 215-257. (Middeleeuwse studies en bronnen; 131).\n"
     ]
    }
   ],
   "source": [
    "t = \"Ene andre tale: tendensen in de Middelnederlandse late ridderepiek; onder redactie van An Faems en Marjolein Hogenbirk. Hilversum: Verloren, 2012. 318 p. (Middeleeuwse studies en bronnen; 131).\"\n",
    "print(get_reviews(t))\n",
    "print(get_chapters(t))"
   ]
  },
  {
   "cell_type": "code",
   "execution_count": 13,
   "metadata": {},
   "outputs": [
    {
     "name": "stdout",
     "output_type": "stream",
     "text": [
      "::: ../data/llm-dump/1940s :::\n",
      "../data/llm-dump/1940s/BOOK_consolidated.ris\n"
     ]
    },
    {
     "name": "stderr",
     "output_type": "stream",
     "text": [
      "100%|██████████| 1442/1442 [00:00<00:00, 137256.02it/s]\n"
     ]
    },
    {
     "name": "stdout",
     "output_type": "stream",
     "text": [
      "../data/llm-dump/1940s/CHAP_consolidated.ris\n"
     ]
    },
    {
     "name": "stderr",
     "output_type": "stream",
     "text": [
      "100%|██████████| 1764/1764 [00:00<00:00, 257751.34it/s]\n"
     ]
    },
    {
     "name": "stdout",
     "output_type": "stream",
     "text": [
      "../data/llm-dump/1940s/JFULL_consolidated.ris\n"
     ]
    },
    {
     "name": "stderr",
     "output_type": "stream",
     "text": [
      "100%|██████████| 68/68 [00:00<00:00, 192581.14it/s]"
     ]
    },
    {
     "name": "stdout",
     "output_type": "stream",
     "text": [
      "../data/llm-dump/1940s/JOUR_consolidated.ris\n"
     ]
    },
    {
     "name": "stderr",
     "output_type": "stream",
     "text": [
      "\n",
      "100%|██████████| 9897/9897 [00:00<00:00, 219325.22it/s]\n"
     ]
    },
    {
     "name": "stdout",
     "output_type": "stream",
     "text": [
      "::: ../data/llm-dump/1950s :::\n",
      "../data/llm-dump/1950s/BOOK_consolidated.ris\n"
     ]
    },
    {
     "name": "stderr",
     "output_type": "stream",
     "text": [
      "100%|██████████| 917/917 [00:00<00:00, 201676.72it/s]\n"
     ]
    },
    {
     "name": "stdout",
     "output_type": "stream",
     "text": [
      "../data/llm-dump/1950s/CHAP_consolidated.ris\n"
     ]
    },
    {
     "name": "stderr",
     "output_type": "stream",
     "text": [
      "100%|██████████| 1161/1161 [00:00<00:00, 284971.15it/s]\n"
     ]
    },
    {
     "name": "stdout",
     "output_type": "stream",
     "text": [
      "../data/llm-dump/1950s/JFULL_consolidated.ris\n"
     ]
    },
    {
     "name": "stderr",
     "output_type": "stream",
     "text": [
      "100%|██████████| 17/17 [00:00<00:00, 68037.37it/s]\n"
     ]
    },
    {
     "name": "stdout",
     "output_type": "stream",
     "text": [
      "../data/llm-dump/1950s/JOUR_consolidated.ris\n"
     ]
    },
    {
     "name": "stderr",
     "output_type": "stream",
     "text": [
      "100%|██████████| 6218/6218 [00:00<00:00, 368494.27it/s]\n"
     ]
    },
    {
     "name": "stdout",
     "output_type": "stream",
     "text": [
      "::: ../data/llm-dump/1960s :::\n",
      "../data/llm-dump/1960s/BOOK_consolidated.ris\n"
     ]
    },
    {
     "name": "stderr",
     "output_type": "stream",
     "text": [
      "100%|██████████| 2185/2185 [00:00<00:00, 231188.78it/s]\n"
     ]
    },
    {
     "name": "stdout",
     "output_type": "stream",
     "text": [
      "../data/llm-dump/1960s/CHAP_consolidated.ris\n"
     ]
    },
    {
     "name": "stderr",
     "output_type": "stream",
     "text": [
      "100%|██████████| 4084/4084 [00:00<00:00, 299347.07it/s]\n"
     ]
    },
    {
     "name": "stdout",
     "output_type": "stream",
     "text": [
      "../data/llm-dump/1960s/JFULL_consolidated.ris\n"
     ]
    },
    {
     "name": "stderr",
     "output_type": "stream",
     "text": [
      "100%|██████████| 190/190 [00:00<00:00, 267242.71it/s]\n"
     ]
    },
    {
     "name": "stdout",
     "output_type": "stream",
     "text": [
      "../data/llm-dump/1960s/JOUR_consolidated.ris\n"
     ]
    },
    {
     "name": "stderr",
     "output_type": "stream",
     "text": [
      "100%|██████████| 19387/19387 [00:00<00:00, 400134.69it/s]\n"
     ]
    },
    {
     "name": "stdout",
     "output_type": "stream",
     "text": [
      "::: ../data/llm-dump/1970s :::\n",
      "../data/llm-dump/1970s/BOOK_consolidated.ris\n"
     ]
    },
    {
     "name": "stderr",
     "output_type": "stream",
     "text": [
      "100%|██████████| 3623/3623 [00:00<00:00, 262329.54it/s]"
     ]
    },
    {
     "name": "stdout",
     "output_type": "stream",
     "text": [
      "../data/llm-dump/1970s/CHAP_consolidated.ris\n"
     ]
    },
    {
     "name": "stderr",
     "output_type": "stream",
     "text": [
      "\n",
      "100%|██████████| 6650/6650 [00:00<00:00, 321908.94it/s]\n"
     ]
    },
    {
     "name": "stdout",
     "output_type": "stream",
     "text": [
      "../data/llm-dump/1970s/JFULL_consolidated.ris\n"
     ]
    },
    {
     "name": "stderr",
     "output_type": "stream",
     "text": [
      "100%|██████████| 273/273 [00:00<00:00, 283426.98it/s]\n"
     ]
    },
    {
     "name": "stdout",
     "output_type": "stream",
     "text": [
      "../data/llm-dump/1970s/JOUR_consolidated.ris\n"
     ]
    },
    {
     "name": "stderr",
     "output_type": "stream",
     "text": [
      "100%|██████████| 25511/25511 [00:00<00:00, 383768.83it/s]\n"
     ]
    },
    {
     "name": "stdout",
     "output_type": "stream",
     "text": [
      "::: ../data/llm-dump/1980s :::\n",
      "../data/llm-dump/1980s/ADVS_consolidated.ris\n"
     ]
    },
    {
     "name": "stderr",
     "output_type": "stream",
     "text": [
      "100%|██████████| 2/2 [00:00<00:00, 35098.78it/s]\n"
     ]
    },
    {
     "name": "stdout",
     "output_type": "stream",
     "text": [
      "../data/llm-dump/1980s/BOOK_consolidated.ris\n"
     ]
    },
    {
     "name": "stderr",
     "output_type": "stream",
     "text": [
      "100%|██████████| 6722/6722 [00:00<00:00, 269192.17it/s]\n"
     ]
    },
    {
     "name": "stdout",
     "output_type": "stream",
     "text": [
      "../data/llm-dump/1980s/CHAP_consolidated.ris\n"
     ]
    },
    {
     "name": "stderr",
     "output_type": "stream",
     "text": [
      "100%|██████████| 12289/12289 [00:00<00:00, 289180.39it/s]\n"
     ]
    },
    {
     "name": "stdout",
     "output_type": "stream",
     "text": [
      "../data/llm-dump/1980s/JFULL_consolidated.ris\n"
     ]
    },
    {
     "name": "stderr",
     "output_type": "stream",
     "text": [
      "100%|██████████| 619/619 [00:00<00:00, 284460.85it/s]\n"
     ]
    },
    {
     "name": "stdout",
     "output_type": "stream",
     "text": [
      "../data/llm-dump/1980s/JOUR_consolidated.ris\n"
     ]
    },
    {
     "name": "stderr",
     "output_type": "stream",
     "text": [
      "100%|██████████| 34995/34995 [00:00<00:00, 387670.14it/s]\n"
     ]
    },
    {
     "name": "stdout",
     "output_type": "stream",
     "text": [
      "../data/llm-dump/1980s/WEB_consolidated.ris\n"
     ]
    },
    {
     "name": "stderr",
     "output_type": "stream",
     "text": [
      "100%|██████████| 1/1 [00:00<00:00, 21732.15it/s]\n"
     ]
    },
    {
     "name": "stdout",
     "output_type": "stream",
     "text": [
      "::: ../data/llm-dump/1990s :::\n",
      "../data/llm-dump/1990s/ADVS_consolidated.ris\n"
     ]
    },
    {
     "name": "stderr",
     "output_type": "stream",
     "text": [
      "100%|██████████| 33/33 [00:00<00:00, 136366.53it/s]\n"
     ]
    },
    {
     "name": "stdout",
     "output_type": "stream",
     "text": [
      "../data/llm-dump/1990s/BOOK_consolidated.ris\n"
     ]
    },
    {
     "name": "stderr",
     "output_type": "stream",
     "text": [
      "100%|██████████| 7992/7992 [00:00<00:00, 235191.32it/s]\n"
     ]
    },
    {
     "name": "stdout",
     "output_type": "stream",
     "text": [
      "../data/llm-dump/1990s/CHAP_consolidated.ris\n"
     ]
    },
    {
     "name": "stderr",
     "output_type": "stream",
     "text": [
      "100%|██████████| 14247/14247 [00:00<00:00, 272503.71it/s]\n"
     ]
    },
    {
     "name": "stdout",
     "output_type": "stream",
     "text": [
      "../data/llm-dump/1990s/EJOUR_consolidated.ris\n"
     ]
    },
    {
     "name": "stderr",
     "output_type": "stream",
     "text": [
      "100%|██████████| 97/97 [00:00<00:00, 287931.70it/s]\n"
     ]
    },
    {
     "name": "stdout",
     "output_type": "stream",
     "text": [
      "../data/llm-dump/1990s/JFULL_consolidated.ris\n"
     ]
    },
    {
     "name": "stderr",
     "output_type": "stream",
     "text": [
      "100%|██████████| 660/660 [00:00<00:00, 248406.37it/s]"
     ]
    },
    {
     "name": "stdout",
     "output_type": "stream",
     "text": [
      "../data/llm-dump/1990s/JOUR_consolidated.ris\n"
     ]
    },
    {
     "name": "stderr",
     "output_type": "stream",
     "text": [
      "\n",
      "100%|██████████| 44498/44498 [00:00<00:00, 381591.15it/s]\n"
     ]
    },
    {
     "name": "stdout",
     "output_type": "stream",
     "text": [
      "../data/llm-dump/1990s/WEB_consolidated.ris\n"
     ]
    },
    {
     "name": "stderr",
     "output_type": "stream",
     "text": [
      "100%|██████████| 10/10 [00:00<00:00, 44810.94it/s]\n"
     ]
    },
    {
     "name": "stdout",
     "output_type": "stream",
     "text": [
      "::: ../data/llm-dump/2000s :::\n",
      "../data/llm-dump/2000s/ADVS_consolidated.ris\n"
     ]
    },
    {
     "name": "stderr",
     "output_type": "stream",
     "text": [
      "100%|██████████| 54/54 [00:00<00:00, 181775.61it/s]\n"
     ]
    },
    {
     "name": "stdout",
     "output_type": "stream",
     "text": [
      "../data/llm-dump/2000s/BOOK_consolidated.ris\n"
     ]
    },
    {
     "name": "stderr",
     "output_type": "stream",
     "text": [
      "100%|██████████| 6229/6229 [00:00<00:00, 239170.97it/s]\n"
     ]
    },
    {
     "name": "stdout",
     "output_type": "stream",
     "text": [
      "../data/llm-dump/2000s/CHAP_consolidated.ris\n"
     ]
    },
    {
     "name": "stderr",
     "output_type": "stream",
     "text": [
      "100%|██████████| 11027/11027 [00:00<00:00, 275979.58it/s]\n"
     ]
    },
    {
     "name": "stdout",
     "output_type": "stream",
     "text": [
      "../data/llm-dump/2000s/EJOUR_consolidated.ris\n"
     ]
    },
    {
     "name": "stderr",
     "output_type": "stream",
     "text": [
      "100%|██████████| 628/628 [00:00<00:00, 399275.87it/s]\n"
     ]
    },
    {
     "name": "stdout",
     "output_type": "stream",
     "text": [
      "../data/llm-dump/2000s/JFULL_consolidated.ris\n"
     ]
    },
    {
     "name": "stderr",
     "output_type": "stream",
     "text": [
      "100%|██████████| 479/479 [00:00<00:00, 207163.50it/s]\n"
     ]
    },
    {
     "name": "stdout",
     "output_type": "stream",
     "text": [
      "../data/llm-dump/2000s/JOUR_consolidated.ris\n"
     ]
    },
    {
     "name": "stderr",
     "output_type": "stream",
     "text": [
      "100%|██████████| 27745/27745 [00:00<00:00, 165396.93it/s]\n"
     ]
    },
    {
     "name": "stdout",
     "output_type": "stream",
     "text": [
      "../data/llm-dump/2000s/WEB_consolidated.ris\n"
     ]
    },
    {
     "name": "stderr",
     "output_type": "stream",
     "text": [
      "100%|██████████| 485/485 [00:00<00:00, 303889.67it/s]\n"
     ]
    },
    {
     "name": "stdout",
     "output_type": "stream",
     "text": [
      "::: ../data/llm-dump/2010s :::\n",
      "../data/llm-dump/2010s/ADVS_consolidated.ris\n"
     ]
    },
    {
     "name": "stderr",
     "output_type": "stream",
     "text": [
      "100%|██████████| 9/9 [00:00<00:00, 101203.05it/s]\n"
     ]
    },
    {
     "name": "stdout",
     "output_type": "stream",
     "text": [
      "../data/llm-dump/2010s/BOOK_consolidated.ris\n"
     ]
    },
    {
     "name": "stderr",
     "output_type": "stream",
     "text": [
      "100%|██████████| 3891/3891 [00:00<00:00, 224920.92it/s]"
     ]
    },
    {
     "name": "stdout",
     "output_type": "stream",
     "text": [
      "../data/llm-dump/2010s/CHAP_consolidated.ris\n"
     ]
    },
    {
     "name": "stderr",
     "output_type": "stream",
     "text": [
      "\n",
      "100%|██████████| 6300/6300 [00:00<00:00, 249084.37it/s]\n"
     ]
    },
    {
     "name": "stdout",
     "output_type": "stream",
     "text": [
      "../data/llm-dump/2010s/EJOUR_consolidated.ris\n"
     ]
    },
    {
     "name": "stderr",
     "output_type": "stream",
     "text": [
      "100%|██████████| 569/569 [00:00<00:00, 392978.59it/s]\n"
     ]
    },
    {
     "name": "stdout",
     "output_type": "stream",
     "text": [
      "../data/llm-dump/2010s/JFULL_consolidated.ris\n"
     ]
    },
    {
     "name": "stderr",
     "output_type": "stream",
     "text": [
      "100%|██████████| 442/442 [00:00<00:00, 129461.06it/s]\n"
     ]
    },
    {
     "name": "stdout",
     "output_type": "stream",
     "text": [
      "../data/llm-dump/2010s/JOUR_consolidated.ris\n"
     ]
    },
    {
     "name": "stderr",
     "output_type": "stream",
     "text": [
      "100%|██████████| 20043/20043 [00:00<00:00, 340004.43it/s]\n"
     ]
    },
    {
     "name": "stdout",
     "output_type": "stream",
     "text": [
      "../data/llm-dump/2010s/WEB_consolidated.ris\n"
     ]
    },
    {
     "name": "stderr",
     "output_type": "stream",
     "text": [
      "100%|██████████| 85/85 [00:00<00:00, 218990.07it/s]\n"
     ]
    },
    {
     "name": "stdout",
     "output_type": "stream",
     "text": [
      "::: ../data/llm-dump/2020s :::\n",
      "../data/llm-dump/2020s/ADVS_consolidated.ris\n"
     ]
    },
    {
     "name": "stderr",
     "output_type": "stream",
     "text": [
      "100%|██████████| 2/2 [00:00<00:00, 64527.75it/s]\n"
     ]
    },
    {
     "name": "stdout",
     "output_type": "stream",
     "text": [
      "../data/llm-dump/2020s/BOOK_consolidated.ris\n"
     ]
    },
    {
     "name": "stderr",
     "output_type": "stream",
     "text": [
      "100%|██████████| 825/825 [00:00<00:00, 212340.50it/s]\n"
     ]
    },
    {
     "name": "stdout",
     "output_type": "stream",
     "text": [
      "../data/llm-dump/2020s/CHAP_consolidated.ris\n"
     ]
    },
    {
     "name": "stderr",
     "output_type": "stream",
     "text": [
      "100%|██████████| 1627/1627 [00:00<00:00, 313364.22it/s]\n"
     ]
    },
    {
     "name": "stdout",
     "output_type": "stream",
     "text": [
      "../data/llm-dump/2020s/EJOUR_consolidated.ris\n"
     ]
    },
    {
     "name": "stderr",
     "output_type": "stream",
     "text": [
      "100%|██████████| 251/251 [00:00<00:00, 442898.74it/s]\n"
     ]
    },
    {
     "name": "stdout",
     "output_type": "stream",
     "text": [
      "../data/llm-dump/2020s/JFULL_consolidated.ris\n"
     ]
    },
    {
     "name": "stderr",
     "output_type": "stream",
     "text": [
      "100%|██████████| 161/161 [00:00<00:00, 137840.98it/s]"
     ]
    },
    {
     "name": "stdout",
     "output_type": "stream",
     "text": [
      "../data/llm-dump/2020s/JOUR_consolidated.ris\n"
     ]
    },
    {
     "name": "stderr",
     "output_type": "stream",
     "text": [
      "\n",
      "100%|██████████| 5238/5238 [00:00<00:00, 338131.63it/s]\n"
     ]
    },
    {
     "name": "stdout",
     "output_type": "stream",
     "text": [
      "../data/llm-dump/2020s/WEB_consolidated.ris\n"
     ]
    },
    {
     "name": "stderr",
     "output_type": "stream",
     "text": [
      "100%|██████████| 1/1 [00:00<00:00, 28532.68it/s]\n"
     ]
    },
    {
     "name": "stdout",
     "output_type": "stream",
     "text": [
      "::: ../data/llm-dump/misc :::\n",
      "../data/llm-dump/misc/ADVS_consolidated.ris\n"
     ]
    },
    {
     "name": "stderr",
     "output_type": "stream",
     "text": [
      "100%|██████████| 3/3 [00:00<00:00, 62601.55it/s]\n"
     ]
    },
    {
     "name": "stdout",
     "output_type": "stream",
     "text": [
      "../data/llm-dump/misc/BOOK_consolidated.ris\n"
     ]
    },
    {
     "name": "stderr",
     "output_type": "stream",
     "text": [
      "100%|██████████| 1182/1182 [00:00<00:00, 193742.13it/s]\n"
     ]
    },
    {
     "name": "stdout",
     "output_type": "stream",
     "text": [
      "../data/llm-dump/misc/CHAP_consolidated.ris\n"
     ]
    },
    {
     "name": "stderr",
     "output_type": "stream",
     "text": [
      "100%|██████████| 470/470 [00:00<00:00, 279066.09it/s]\n"
     ]
    },
    {
     "name": "stdout",
     "output_type": "stream",
     "text": [
      "../data/llm-dump/misc/EJOUR_consolidated.ris\n"
     ]
    },
    {
     "name": "stderr",
     "output_type": "stream",
     "text": [
      "100%|██████████| 2/2 [00:00<00:00, 48770.98it/s]\n"
     ]
    },
    {
     "name": "stdout",
     "output_type": "stream",
     "text": [
      "../data/llm-dump/misc/JFULL_consolidated.ris\n"
     ]
    },
    {
     "name": "stderr",
     "output_type": "stream",
     "text": [
      "100%|██████████| 6051/6051 [00:00<00:00, 226876.20it/s]\n"
     ]
    },
    {
     "name": "stdout",
     "output_type": "stream",
     "text": [
      "../data/llm-dump/misc/JOUR_consolidated.ris\n"
     ]
    },
    {
     "name": "stderr",
     "output_type": "stream",
     "text": [
      "100%|██████████| 3483/3483 [00:00<00:00, 210440.23it/s]\n"
     ]
    },
    {
     "name": "stdout",
     "output_type": "stream",
     "text": [
      "../data/llm-dump/misc/WEB_consolidated.ris\n"
     ]
    },
    {
     "name": "stderr",
     "output_type": "stream",
     "text": [
      "100%|██████████| 32/32 [00:00<00:00, 111476.52it/s]\n"
     ]
    }
   ],
   "source": [
    "llm_path = '../data/llm-dump'\n",
    "\n",
    "for decade_folder in sorted(glob(f'{llm_path}/*')):\n",
    "    print(':::', decade_folder, ':::')\n",
    "    decade = decade_folder.split('/')[-1]\n",
    "    \n",
    "    for ris_path in sorted(glob(f'{decade_folder}/*_consolidated.ris')):\n",
    "        print(ris_path)\n",
    "        with open(ris_path) as f:\n",
    "            entries = rispy.load(f, encoding='utf-8', mapping=mapping)\n",
    "        \n",
    "        for idx, entry in tqdm(list(enumerate(entries))):\n",
    "            if 'extra' in entry:\n",
    "                pub_title = ' '.join(entry['extra'].split()).strip()\n",
    "            else:\n",
    "                # this means that we weren't able to structure the item via the LLM...\n",
    "                pub_title = ' '.join(entry['title'].split()).strip()\n",
    "            \n",
    "            # add to reviews which book they review:\n",
    "            if 'keywords' in entry and 'recensie' in entry['keywords']:\n",
    "                ref_title = None\n",
    "                try:\n",
    "                    pub_id = title2id[pub_title]\n",
    "                    ref_id = reference2publication[pub_id]\n",
    "                    ref_title = id2title[ref_id]\n",
    "                except KeyError:\n",
    "                    pass\n",
    "\n",
    "                if ref_title:\n",
    "                    entry['short_title'] = ref_title\n",
    "\n",
    "                if not 'title' in entry or entry['title'].strip() in ('titel', 'title'):\n",
    "                    entry['title'] = '[Zonder titel]'\n",
    "                \n",
    "                entries[idx] = entry\n",
    "            \n",
    "            reviews = get_reviews(pub_title)\n",
    "            if reviews:\n",
    "                if entry['type_of_reference'] != 'WEB':\n",
    "                    entry['call_number'] = reviews\n",
    "                else:\n",
    "                    entry['language'] = reviews\n",
    "                entries[idx] = entry\n",
    "            \n",
    "            if 'boek' in title2ptypes[pub_title]:\n",
    "                chapters = get_chapters(pub_title)\n",
    "                if chapters:\n",
    "                    if 'extra' in entry:\n",
    "                        entry['extra'] += \"\\nHOOFDSTUKKEN: \" + chapters\n",
    "                    else:\n",
    "                        entry['extra'] = \"HOOFDSTUKKEN: \" + chapters\n",
    "                    entries[idx] = entry\n",
    "\n",
    "            if 'specialetijdschriftaflevering' in title2ptypes[pub_title]:\n",
    "                articles = get_articles(pub_title)\n",
    "                if articles:\n",
    "                    if 'extra' in entry:\n",
    "                        entry['extra'] += \"\\nARTIKELS: \" + articles\n",
    "                    else:\n",
    "                        entry['extra'] = \"ARTIKELS: \" + articles\n",
    "                    entries[idx] = entry\n",
    "\n",
    "            if entry['type_of_reference'] == 'CHAP':\n",
    "                try:\n",
    "                    pub_id = title2id[pub_title]\n",
    "                    containing_title = None\n",
    "                \n",
    "                    containing_id = reference2publication[pub_id]\n",
    "                    containing_title = id2title[containing_id]\n",
    "                except KeyError:\n",
    "                    continue\n",
    "\n",
    "                if containing_title:\n",
    "                    if 'extra' in entry:\n",
    "                        entry['extra'] += \"\\nBOEK: \" + containing_title\n",
    "                    else:\n",
    "                        entry['extra'] = \"\\nBOEK: \" + containing_title\n",
    "                    entries[idx] = entry\n",
    "\n",
    "            if entry['type_of_reference'] == 'JOUR' and 'extra' in entry:\n",
    "                if 'speciaal' in entry['extra'].lower():\n",
    "                    if 'keywords' in entry:\n",
    "                        entry['keywords'].append('Bijdrage speciaal tijdschriftnummer')\n",
    "                    else:\n",
    "                        entry['keywords'] = ['Bijdrage speciaal tijdschriftnummer']\n",
    "\n",
    "        out_ris_path = ris_path.replace('.ris', f'_link_{decade}.ris')\n",
    "        with open(out_ris_path, 'w') as bibliography_file:\n",
    "            rispy.dump(entries, bibliography_file, mapping=mapping)"
   ]
  },
  {
   "cell_type": "code",
   "execution_count": null,
   "metadata": {},
   "outputs": [],
   "source": []
  },
  {
   "cell_type": "code",
   "execution_count": null,
   "metadata": {},
   "outputs": [],
   "source": []
  }
 ],
 "metadata": {
  "kernelspec": {
   "display_name": "py3.12",
   "language": "python",
   "name": "py3.12"
  },
  "language_info": {
   "codemirror_mode": {
    "name": "ipython",
    "version": 3
   },
   "file_extension": ".py",
   "mimetype": "text/x-python",
   "name": "python",
   "nbconvert_exporter": "python",
   "pygments_lexer": "ipython3",
   "version": "3.12.7"
  }
 },
 "nbformat": 4,
 "nbformat_minor": 2
}
