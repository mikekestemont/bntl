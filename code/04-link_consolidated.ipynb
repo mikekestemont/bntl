{
 "cells": [
  {
   "cell_type": "code",
   "execution_count": 1,
   "metadata": {},
   "outputs": [],
   "source": [
    "from copy import deepcopy\n",
    "import os\n",
    "import math\n",
    "import shutil\n",
    "import re\n",
    "from glob import glob\n",
    "from collections import defaultdict, Counter\n",
    "\n",
    "import numpy as np\n",
    "from tqdm import tqdm\n",
    "import pandas as pd\n",
    "pd.set_option('display.max_colwidth', None)\n",
    "\n",
    "import rispy\n",
    "mapping = deepcopy(rispy.TAG_KEY_MAPPING)\n",
    "mapping['M2'] = 'extra'\n",
    "mapping['M3'] = 'orig_abstract'"
   ]
  },
  {
   "cell_type": "code",
   "execution_count": 2,
   "metadata": {},
   "outputs": [],
   "source": [
    "dump_dir = '../data/bntl-db-csv-dump-4March2024'"
   ]
  },
  {
   "cell_type": "markdown",
   "metadata": {},
   "source": [
    "### Recensies\n",
    "\n",
    "Link reviews to the book that they review."
   ]
  },
  {
   "cell_type": "code",
   "execution_count": 3,
   "metadata": {},
   "outputs": [
    {
     "data": {
      "text/html": [
       "<div>\n",
       "<style scoped>\n",
       "    .dataframe tbody tr th:only-of-type {\n",
       "        vertical-align: middle;\n",
       "    }\n",
       "\n",
       "    .dataframe tbody tr th {\n",
       "        vertical-align: top;\n",
       "    }\n",
       "\n",
       "    .dataframe thead th {\n",
       "        text-align: right;\n",
       "    }\n",
       "</style>\n",
       "<table border=\"1\" class=\"dataframe\">\n",
       "  <thead>\n",
       "    <tr style=\"text-align: right;\">\n",
       "      <th></th>\n",
       "      <th>id</th>\n",
       "      <th>ppn</th>\n",
       "      <th>type</th>\n",
       "      <th>jaar</th>\n",
       "      <th>title_description</th>\n",
       "      <th>abstract</th>\n",
       "      <th>url</th>\n",
       "      <th>containing_publication_id</th>\n",
       "      <th>containing_publication_ppn</th>\n",
       "      <th>page_numbers</th>\n",
       "      <th>creator</th>\n",
       "      <th>creation_date</th>\n",
       "      <th>modifier</th>\n",
       "      <th>modification_date</th>\n",
       "      <th>canonical_url</th>\n",
       "    </tr>\n",
       "  </thead>\n",
       "  <tbody>\n",
       "    <tr>\n",
       "      <th>0</th>\n",
       "      <td>254444</td>\n",
       "      <td>NaN</td>\n",
       "      <td>artikeltijdschrift</td>\n",
       "      <td>2009</td>\n",
       "      <td>Campenhout, Frans van. Ropsiennes, de nieuwe dichtbundel van Mark Meekers.\\r\\nIn: Verba (Brussel): 13 (2009) 2 (mei-juli) 14.</td>\n",
       "      <td>Over: Meekers, Mark. Ropsiennes: gedichten bij het leven en werk van Félicien Rops (1833-1898). Leuven: P, 2009.</td>\n",
       "      <td>NaN</td>\n",
       "      <td>NaN</td>\n",
       "      <td>NaN</td>\n",
       "      <td>NaN</td>\n",
       "      <td>19</td>\n",
       "      <td>2009-06-26 11:32:26</td>\n",
       "      <td>19.0</td>\n",
       "      <td>2009-06-26 11:45:26</td>\n",
       "      <td>campenhout_frans_van_ropsienne/campenhout_frans_van</td>\n",
       "    </tr>\n",
       "    <tr>\n",
       "      <th>1</th>\n",
       "      <td>254442</td>\n",
       "      <td>NaN</td>\n",
       "      <td>artikeltijdschrift</td>\n",
       "      <td>2009</td>\n",
       "      <td>Campenhout, Frans van. Dichteres en romancière Liane Bruylants overleden.\\r\\nIn: Verba (Brussel): 13 (2009) 2 (mei-juli) 5-8.</td>\n",
       "      <td>NaN</td>\n",
       "      <td>NaN</td>\n",
       "      <td>NaN</td>\n",
       "      <td>NaN</td>\n",
       "      <td>NaN</td>\n",
       "      <td>19</td>\n",
       "      <td>2009-06-26 11:27:36</td>\n",
       "      <td>19.0</td>\n",
       "      <td>2009-06-26 11:46:40</td>\n",
       "      <td>campenhout_frans_van_dichteres/campenhout_frans_van</td>\n",
       "    </tr>\n",
       "    <tr>\n",
       "      <th>2</th>\n",
       "      <td>313784</td>\n",
       "      <td>NaN</td>\n",
       "      <td>artikeltijdschrift</td>\n",
       "      <td>2018</td>\n",
       "      <td>Lievois, Katrien, Hanne Kloots &amp; Noureddine Nahed. Kif-kif?: Arabische ontleningen in de Nederlandse, Spaanse en Arabische versie van \"Kiffe kiffe demain\".\\r\\nIn: Meertaligheid. Speciaal gedeelte van: Filter (Nijmegen): 25 (2018) 3 (sep) 37-47.</td>\n",
       "      <td>P. 46 Noten; p. 46 Bibliografie; p. 47 Bijlage: vertalingen van \"Kiffe kiffe demain\".</td>\n",
       "      <td>NaN</td>\n",
       "      <td>NaN</td>\n",
       "      <td>NaN</td>\n",
       "      <td>NaN</td>\n",
       "      <td>451</td>\n",
       "      <td>2023-11-29 16:36:19</td>\n",
       "      <td>451.0</td>\n",
       "      <td>2023-11-29 16:40:08</td>\n",
       "      <td>lievois_katrien_hanne_kloots_n/lievois_katrien</td>\n",
       "    </tr>\n",
       "    <tr>\n",
       "      <th>3</th>\n",
       "      <td>171436</td>\n",
       "      <td>862346606</td>\n",
       "      <td>artikeltijdschrift</td>\n",
       "      <td>1965</td>\n",
       "      <td>Interprovinciale Prijs voor monografie aan een Westvlaming, [door] A.S.\\r\\nIn: West-Vlaanderen: 14 (1965) 79 (jan-feb) 66-67.</td>\n",
       "      <td>N.a.v.: Deblaere, Albert. De mystieke schrijfster Maria Petyt, (1623-1677). Gent: Secretarie der Academie, 1962.</td>\n",
       "      <td>NaN</td>\n",
       "      <td>166925.0</td>\n",
       "      <td>853271437</td>\n",
       "      <td>vol. 14 (1965), afl. 79 (jan-feb), p. 66-67.</td>\n",
       "      <td>1</td>\n",
       "      <td>NaT</td>\n",
       "      <td>19.0</td>\n",
       "      <td>2009-06-26 10:25:49</td>\n",
       "      <td>interprovinciale_prijs_voor_mo</td>\n",
       "    </tr>\n",
       "    <tr>\n",
       "      <th>4</th>\n",
       "      <td>246627</td>\n",
       "      <td>NaN</td>\n",
       "      <td>artikelboek</td>\n",
       "      <td>2004</td>\n",
       "      <td>Willaert, Frank. Margaret's booklets: memory in \"Vanden seven sloten\" by Jan van Ruusbroec.\\r\\nIn: Medieval memory: image and text; edited by Frank Willaert, Herman Braet, Tom Mertens, Theofiel Venckeleer. Turnhout: Brepols, 2004, p. 99-128.\\r\\n(Textes et études du Moyen Âge; 27).</td>\n",
       "      <td>Lezing, gehouden op het congres \"Memory in the Middle Ages\" aan de Universiteit Antwerpen, 7-9 maart 2002.</td>\n",
       "      <td>NaN</td>\n",
       "      <td>NaN</td>\n",
       "      <td>NaN</td>\n",
       "      <td>NaN</td>\n",
       "      <td>16</td>\n",
       "      <td>2008-06-18 12:05:19</td>\n",
       "      <td>16.0</td>\n",
       "      <td>2008-06-18 12:15:23</td>\n",
       "      <td>willaert_frank_margaret_s_book/willaert_frank</td>\n",
       "    </tr>\n",
       "    <tr>\n",
       "      <th>...</th>\n",
       "      <td>...</td>\n",
       "      <td>...</td>\n",
       "      <td>...</td>\n",
       "      <td>...</td>\n",
       "      <td>...</td>\n",
       "      <td>...</td>\n",
       "      <td>...</td>\n",
       "      <td>...</td>\n",
       "      <td>...</td>\n",
       "      <td>...</td>\n",
       "      <td>...</td>\n",
       "      <td>...</td>\n",
       "      <td>...</td>\n",
       "      <td>...</td>\n",
       "      <td>...</td>\n",
       "    </tr>\n",
       "    <tr>\n",
       "      <th>302861</th>\n",
       "      <td>254432</td>\n",
       "      <td>NaN</td>\n",
       "      <td>recensie</td>\n",
       "      <td>1962</td>\n",
       "      <td>Plard, Henri. Une mystique flamande retrouvée: Maria Petyt (1623-1677).\\r\\nIn: Études germaniques (Paris): 17 (1962) 3 (juill-sep) 347-354.</td>\n",
       "      <td>NaN</td>\n",
       "      <td>NaN</td>\n",
       "      <td>NaN</td>\n",
       "      <td>NaN</td>\n",
       "      <td>NaN</td>\n",
       "      <td>19</td>\n",
       "      <td>2009-06-26 10:31:29</td>\n",
       "      <td>18.0</td>\n",
       "      <td>2014-01-10 12:31:40</td>\n",
       "      <td>plard_henri_une_mystique_flama/plard_henri</td>\n",
       "    </tr>\n",
       "    <tr>\n",
       "      <th>302862</th>\n",
       "      <td>129705</td>\n",
       "      <td>NaN</td>\n",
       "      <td>recensie</td>\n",
       "      <td>2003</td>\n",
       "      <td>Offermans, Cyrille.  \\r\\nIn: Ons erfdeel (Rekkem): 46 (2003) 3 (juni) 446-448.</td>\n",
       "      <td>NaN</td>\n",
       "      <td>NaN</td>\n",
       "      <td>NaN</td>\n",
       "      <td>NaN</td>\n",
       "      <td>NaN</td>\n",
       "      <td>1</td>\n",
       "      <td>NaT</td>\n",
       "      <td>19.0</td>\n",
       "      <td>2012-12-06 10:04:44</td>\n",
       "      <td>cyrille_offermans_in_ons_erfde/offermans_cyrille_albert_willem_3</td>\n",
       "    </tr>\n",
       "    <tr>\n",
       "      <th>302863</th>\n",
       "      <td>129707</td>\n",
       "      <td>241847133</td>\n",
       "      <td>boek</td>\n",
       "      <td>2003</td>\n",
       "      <td>Nederlands-Afghaanse grammatica = Nīdarlandī-Paśtū paśwayah / Sayed Nasir Ahmad (Sayyid Naṣīr Aḥmad). - 3e, herz. dr. - Utrecht : Nederlands Centrum Buitenlanders, cop. 2003. - XIV, 182 p. ; 24 cm Tekst in het Nederlands en het Pasjtoe. - Ook o.d.t.: Nederlands-Pashto grammatica. - Met lit. opg. ISBN 90-5517-169-7.</td>\n",
       "      <td>P. 181-182 Literatuur.\\n1e-2e dr. ?</td>\n",
       "      <td>NaN</td>\n",
       "      <td>NaN</td>\n",
       "      <td>NaN</td>\n",
       "      <td>NaN</td>\n",
       "      <td>1</td>\n",
       "      <td>NaT</td>\n",
       "      <td>NaN</td>\n",
       "      <td>NaT</td>\n",
       "      <td>nederlands-afghaanse_grammatic/nasir_ahmad_sayed</td>\n",
       "    </tr>\n",
       "    <tr>\n",
       "      <th>302864</th>\n",
       "      <td>254436</td>\n",
       "      <td>NaN</td>\n",
       "      <td>recensie</td>\n",
       "      <td>1964</td>\n",
       "      <td>Degroote, Gilbert.\\r\\nIn: Belgisch tijdschrift voor filologie en geschiedenis (Brussel): 42 (1964) 1, 152-153.</td>\n",
       "      <td>NaN</td>\n",
       "      <td>NaN</td>\n",
       "      <td>NaN</td>\n",
       "      <td>NaN</td>\n",
       "      <td>NaN</td>\n",
       "      <td>19</td>\n",
       "      <td>2009-06-26 10:37:20</td>\n",
       "      <td>18.0</td>\n",
       "      <td>2014-01-10 12:33:47</td>\n",
       "      <td>degroote_gilbert_in_revue_belg/degroote_gilbert</td>\n",
       "    </tr>\n",
       "    <tr>\n",
       "      <th>302865</th>\n",
       "      <td>212197</td>\n",
       "      <td>863135706</td>\n",
       "      <td>tijdschriftofreeks</td>\n",
       "      <td>1974-</td>\n",
       "      <td>Mededelingen van de Vereniging voor Aalsters kultuurschoon (V.V.A.K.). Aalst: V.V.A.K., 1974-....</td>\n",
       "      <td>Afkorting: Meded. Ver. Aalsters Kult.schoon\\r\\nBewerkt: 1 (1974) - 40 (2013) 1 ; 2 ; 41 (2014) 2 ; 3 ; 42 (2015) 2 ; 4 ; 43 (2016) 3 ; 45 (2018) 2</td>\n",
       "      <td>NaN</td>\n",
       "      <td>NaN</td>\n",
       "      <td>NaN</td>\n",
       "      <td>NaN</td>\n",
       "      <td>1</td>\n",
       "      <td>NaT</td>\n",
       "      <td>19.0</td>\n",
       "      <td>2019-06-20 14:10:36</td>\n",
       "      <td>mededelingen_van_de_vereniging_2</td>\n",
       "    </tr>\n",
       "  </tbody>\n",
       "</table>\n",
       "<p>302866 rows × 15 columns</p>\n",
       "</div>"
      ],
      "text/plain": [
       "            id        ppn                type   jaar  \\\n",
       "0       254444        NaN  artikeltijdschrift   2009   \n",
       "1       254442        NaN  artikeltijdschrift   2009   \n",
       "2       313784        NaN  artikeltijdschrift   2018   \n",
       "3       171436  862346606  artikeltijdschrift   1965   \n",
       "4       246627        NaN         artikelboek   2004   \n",
       "...        ...        ...                 ...    ...   \n",
       "302861  254432        NaN            recensie   1962   \n",
       "302862  129705        NaN            recensie   2003   \n",
       "302863  129707  241847133                boek   2003   \n",
       "302864  254436        NaN            recensie   1964   \n",
       "302865  212197  863135706  tijdschriftofreeks  1974-   \n",
       "\n",
       "                                                                                                                                                                                                                                                                                                                   title_description  \\\n",
       "0                                                                                                                                                                                                      Campenhout, Frans van. Ropsiennes, de nieuwe dichtbundel van Mark Meekers.\\r\\nIn: Verba (Brussel): 13 (2009) 2 (mei-juli) 14.   \n",
       "1                                                                                                                                                                                                      Campenhout, Frans van. Dichteres en romancière Liane Bruylants overleden.\\r\\nIn: Verba (Brussel): 13 (2009) 2 (mei-juli) 5-8.   \n",
       "2                                                                               Lievois, Katrien, Hanne Kloots & Noureddine Nahed. Kif-kif?: Arabische ontleningen in de Nederlandse, Spaanse en Arabische versie van \"Kiffe kiffe demain\".\\r\\nIn: Meertaligheid. Speciaal gedeelte van: Filter (Nijmegen): 25 (2018) 3 (sep) 37-47.   \n",
       "3                                                                                                                                                                                                      Interprovinciale Prijs voor monografie aan een Westvlaming, [door] A.S.\\r\\nIn: West-Vlaanderen: 14 (1965) 79 (jan-feb) 66-67.   \n",
       "4                                          Willaert, Frank. Margaret's booklets: memory in \"Vanden seven sloten\" by Jan van Ruusbroec.\\r\\nIn: Medieval memory: image and text; edited by Frank Willaert, Herman Braet, Tom Mertens, Theofiel Venckeleer. Turnhout: Brepols, 2004, p. 99-128.\\r\\n(Textes et études du Moyen Âge; 27).   \n",
       "...                                                                                                                                                                                                                                                                                                                              ...   \n",
       "302861                                                                                                                                                                                   Plard, Henri. Une mystique flamande retrouvée: Maria Petyt (1623-1677).\\r\\nIn: Études germaniques (Paris): 17 (1962) 3 (juill-sep) 347-354.   \n",
       "302862                                                                                                                                                                                                                                                Offermans, Cyrille.  \\r\\nIn: Ons erfdeel (Rekkem): 46 (2003) 3 (juni) 446-448.   \n",
       "302863  Nederlands-Afghaanse grammatica = Nīdarlandī-Paśtū paśwayah / Sayed Nasir Ahmad (Sayyid Naṣīr Aḥmad). - 3e, herz. dr. - Utrecht : Nederlands Centrum Buitenlanders, cop. 2003. - XIV, 182 p. ; 24 cm Tekst in het Nederlands en het Pasjtoe. - Ook o.d.t.: Nederlands-Pashto grammatica. - Met lit. opg. ISBN 90-5517-169-7.   \n",
       "302864                                                                                                                                                                                                                Degroote, Gilbert.\\r\\nIn: Belgisch tijdschrift voor filologie en geschiedenis (Brussel): 42 (1964) 1, 152-153.   \n",
       "302865                                                                                                                                                                                                                             Mededelingen van de Vereniging voor Aalsters kultuurschoon (V.V.A.K.). Aalst: V.V.A.K., 1974-....   \n",
       "\n",
       "                                                                                                                                                  abstract  \\\n",
       "0                                         Over: Meekers, Mark. Ropsiennes: gedichten bij het leven en werk van Félicien Rops (1833-1898). Leuven: P, 2009.   \n",
       "1                                                                                                                                                      NaN   \n",
       "2                                                                    P. 46 Noten; p. 46 Bibliografie; p. 47 Bijlage: vertalingen van \"Kiffe kiffe demain\".   \n",
       "3                                         N.a.v.: Deblaere, Albert. De mystieke schrijfster Maria Petyt, (1623-1677). Gent: Secretarie der Academie, 1962.   \n",
       "4                                               Lezing, gehouden op het congres \"Memory in the Middle Ages\" aan de Universiteit Antwerpen, 7-9 maart 2002.   \n",
       "...                                                                                                                                                    ...   \n",
       "302861                                                                                                                                                 NaN   \n",
       "302862                                                                                                                                                 NaN   \n",
       "302863                                                                                                                 P. 181-182 Literatuur.\\n1e-2e dr. ?   \n",
       "302864                                                                                                                                                 NaN   \n",
       "302865  Afkorting: Meded. Ver. Aalsters Kult.schoon\\r\\nBewerkt: 1 (1974) - 40 (2013) 1 ; 2 ; 41 (2014) 2 ; 3 ; 42 (2015) 2 ; 4 ; 43 (2016) 3 ; 45 (2018) 2   \n",
       "\n",
       "        url  containing_publication_id containing_publication_ppn  \\\n",
       "0       NaN                        NaN                        NaN   \n",
       "1       NaN                        NaN                        NaN   \n",
       "2       NaN                        NaN                        NaN   \n",
       "3       NaN                   166925.0                  853271437   \n",
       "4       NaN                        NaN                        NaN   \n",
       "...     ...                        ...                        ...   \n",
       "302861  NaN                        NaN                        NaN   \n",
       "302862  NaN                        NaN                        NaN   \n",
       "302863  NaN                        NaN                        NaN   \n",
       "302864  NaN                        NaN                        NaN   \n",
       "302865  NaN                        NaN                        NaN   \n",
       "\n",
       "                                        page_numbers  creator  \\\n",
       "0                                                NaN       19   \n",
       "1                                                NaN       19   \n",
       "2                                                NaN      451   \n",
       "3       vol. 14 (1965), afl. 79 (jan-feb), p. 66-67.        1   \n",
       "4                                                NaN       16   \n",
       "...                                              ...      ...   \n",
       "302861                                           NaN       19   \n",
       "302862                                           NaN        1   \n",
       "302863                                           NaN        1   \n",
       "302864                                           NaN       19   \n",
       "302865                                           NaN        1   \n",
       "\n",
       "             creation_date  modifier   modification_date  \\\n",
       "0      2009-06-26 11:32:26      19.0 2009-06-26 11:45:26   \n",
       "1      2009-06-26 11:27:36      19.0 2009-06-26 11:46:40   \n",
       "2      2023-11-29 16:36:19     451.0 2023-11-29 16:40:08   \n",
       "3                      NaT      19.0 2009-06-26 10:25:49   \n",
       "4      2008-06-18 12:05:19      16.0 2008-06-18 12:15:23   \n",
       "...                    ...       ...                 ...   \n",
       "302861 2009-06-26 10:31:29      18.0 2014-01-10 12:31:40   \n",
       "302862                 NaT      19.0 2012-12-06 10:04:44   \n",
       "302863                 NaT       NaN                 NaT   \n",
       "302864 2009-06-26 10:37:20      18.0 2014-01-10 12:33:47   \n",
       "302865                 NaT      19.0 2019-06-20 14:10:36   \n",
       "\n",
       "                                                           canonical_url  \n",
       "0                    campenhout_frans_van_ropsienne/campenhout_frans_van  \n",
       "1                    campenhout_frans_van_dichteres/campenhout_frans_van  \n",
       "2                         lievois_katrien_hanne_kloots_n/lievois_katrien  \n",
       "3                                         interprovinciale_prijs_voor_mo  \n",
       "4                          willaert_frank_margaret_s_book/willaert_frank  \n",
       "...                                                                  ...  \n",
       "302861                        plard_henri_une_mystique_flama/plard_henri  \n",
       "302862  cyrille_offermans_in_ons_erfde/offermans_cyrille_albert_willem_3  \n",
       "302863                  nederlands-afghaanse_grammatic/nasir_ahmad_sayed  \n",
       "302864                   degroote_gilbert_in_revue_belg/degroote_gilbert  \n",
       "302865                                  mededelingen_van_de_vereniging_2  \n",
       "\n",
       "[302866 rows x 15 columns]"
      ]
     },
     "execution_count": 3,
     "metadata": {},
     "output_type": "execute_result"
    }
   ],
   "source": [
    "publications = pd.read_csv(f\"{dump_dir}/publications.csv\", header=0, parse_dates=['creation_date', 'modification_date'])\n",
    "publications['id'] = publications['id'].fillna('')\n",
    "publications"
   ]
  },
  {
   "cell_type": "code",
   "execution_count": 4,
   "metadata": {},
   "outputs": [],
   "source": [
    "publications['title_description'] = [' '.join(p.split()).strip() for p in publications['title_description']]"
   ]
  },
  {
   "cell_type": "code",
   "execution_count": 5,
   "metadata": {},
   "outputs": [
    {
     "data": {
      "text/html": [
       "<div>\n",
       "<style scoped>\n",
       "    .dataframe tbody tr th:only-of-type {\n",
       "        vertical-align: middle;\n",
       "    }\n",
       "\n",
       "    .dataframe tbody tr th {\n",
       "        vertical-align: top;\n",
       "    }\n",
       "\n",
       "    .dataframe thead th {\n",
       "        text-align: right;\n",
       "    }\n",
       "</style>\n",
       "<table border=\"1\" class=\"dataframe\">\n",
       "  <thead>\n",
       "    <tr style=\"text-align: right;\">\n",
       "      <th></th>\n",
       "      <th>id</th>\n",
       "      <th>ppn</th>\n",
       "      <th>type</th>\n",
       "      <th>jaar</th>\n",
       "      <th>title_description</th>\n",
       "      <th>abstract</th>\n",
       "      <th>url</th>\n",
       "      <th>containing_publication_id</th>\n",
       "      <th>containing_publication_ppn</th>\n",
       "      <th>page_numbers</th>\n",
       "      <th>creator</th>\n",
       "      <th>creation_date</th>\n",
       "      <th>modifier</th>\n",
       "      <th>modification_date</th>\n",
       "      <th>canonical_url</th>\n",
       "    </tr>\n",
       "  </thead>\n",
       "  <tbody>\n",
       "    <tr>\n",
       "      <th>26</th>\n",
       "      <td>272188</td>\n",
       "      <td>NaN</td>\n",
       "      <td>recensie</td>\n",
       "      <td>1947</td>\n",
       "      <td>Royen, P. Gerlach O.F.M. In: Levende talen: (1947) 190-191.</td>\n",
       "      <td>NaN</td>\n",
       "      <td>NaN</td>\n",
       "      <td>NaN</td>\n",
       "      <td>NaN</td>\n",
       "      <td>NaN</td>\n",
       "      <td>19</td>\n",
       "      <td>2011-10-06 13:32:35</td>\n",
       "      <td>19.0</td>\n",
       "      <td>2011-10-06 13:33:58</td>\n",
       "      <td>royen_p_gerlach_o_f_m_in_leven/royen_o_f_m_nicolaus_jacobus_hubertus</td>\n",
       "    </tr>\n",
       "  </tbody>\n",
       "</table>\n",
       "</div>"
      ],
      "text/plain": [
       "        id  ppn      type  jaar  \\\n",
       "26  272188  NaN  recensie  1947   \n",
       "\n",
       "                                              title_description abstract  url  \\\n",
       "26  Royen, P. Gerlach O.F.M. In: Levende talen: (1947) 190-191.      NaN  NaN   \n",
       "\n",
       "    containing_publication_id containing_publication_ppn page_numbers  \\\n",
       "26                        NaN                        NaN          NaN   \n",
       "\n",
       "    creator       creation_date  modifier   modification_date  \\\n",
       "26       19 2011-10-06 13:32:35      19.0 2011-10-06 13:33:58   \n",
       "\n",
       "                                                           canonical_url  \n",
       "26  royen_p_gerlach_o_f_m_in_leven/royen_o_f_m_nicolaus_jacobus_hubertus  "
      ]
     },
     "execution_count": 5,
     "metadata": {},
     "output_type": "execute_result"
    }
   ],
   "source": [
    "publications[publications['title_description'] == 'Royen, P. Gerlach O.F.M. In: Levende talen: (1947) 190-191.']"
   ]
  },
  {
   "cell_type": "code",
   "execution_count": 6,
   "metadata": {},
   "outputs": [
    {
     "data": {
      "text/html": [
       "<div>\n",
       "<style scoped>\n",
       "    .dataframe tbody tr th:only-of-type {\n",
       "        vertical-align: middle;\n",
       "    }\n",
       "\n",
       "    .dataframe tbody tr th {\n",
       "        vertical-align: top;\n",
       "    }\n",
       "\n",
       "    .dataframe thead th {\n",
       "        text-align: right;\n",
       "    }\n",
       "</style>\n",
       "<table border=\"1\" class=\"dataframe\">\n",
       "  <thead>\n",
       "    <tr style=\"text-align: right;\">\n",
       "      <th></th>\n",
       "      <th>id</th>\n",
       "      <th>ppn</th>\n",
       "      <th>type</th>\n",
       "      <th>jaar</th>\n",
       "      <th>title_description</th>\n",
       "      <th>abstract</th>\n",
       "      <th>url</th>\n",
       "      <th>containing_publication_id</th>\n",
       "      <th>containing_publication_ppn</th>\n",
       "      <th>page_numbers</th>\n",
       "      <th>creator</th>\n",
       "      <th>creation_date</th>\n",
       "      <th>modifier</th>\n",
       "      <th>modification_date</th>\n",
       "      <th>canonical_url</th>\n",
       "    </tr>\n",
       "  </thead>\n",
       "  <tbody>\n",
       "    <tr>\n",
       "      <th>255901</th>\n",
       "      <td>273</td>\n",
       "      <td>036356891</td>\n",
       "      <td>boek</td>\n",
       "      <td>1947</td>\n",
       "      <td>Caron, Willem Johannes Hubertus. Klank en teken bij Erasmus en onze oudste grammatici. Groningen [etc.]: Wolters, 1947. XII, 140 p. + stellingen.</td>\n",
       "      <td>Proefschrift Vrije Universiteit Amsterdam.\\r\\nOok in: Caron, W. J. H. Klank en teken: verzamelde taalkundige studies; [voor herdr. gereedgemaakt en van een bibliografie voorz. door J. Knol; met medew. van H. J. Brinkman... et al.]. Groningen: Wolters-Noordhoff, 1972, p. 1-128.\\r\\nP. XII Lijst van gebruikte afkortingen; p. 141 Personenregister.\\r\\nO.a. ook over: Richard Dafforne, Anthonis de Huybert, Lambert ten Kate, Petrus Montanus, Arnold Moonen, H. L. Spiegel en Wigardus à Winschooten.</td>\n",
       "      <td>NaN</td>\n",
       "      <td>NaN</td>\n",
       "      <td>NaN</td>\n",
       "      <td>NaN</td>\n",
       "      <td>1</td>\n",
       "      <td>NaT</td>\n",
       "      <td>19.0</td>\n",
       "      <td>2011-10-06 13:37:17</td>\n",
       "      <td>klank_en_teken_bij_erasmus_en/caron_willem_johannes_hubertus</td>\n",
       "    </tr>\n",
       "  </tbody>\n",
       "</table>\n",
       "</div>"
      ],
      "text/plain": [
       "         id        ppn  type  jaar  \\\n",
       "255901  273  036356891  boek  1947   \n",
       "\n",
       "                                                                                                                                        title_description  \\\n",
       "255901  Caron, Willem Johannes Hubertus. Klank en teken bij Erasmus en onze oudste grammatici. Groningen [etc.]: Wolters, 1947. XII, 140 p. + stellingen.   \n",
       "\n",
       "                                                                                                                                                                                                                                                                                                                                                                                                                                                                                                             abstract  \\\n",
       "255901  Proefschrift Vrije Universiteit Amsterdam.\\r\\nOok in: Caron, W. J. H. Klank en teken: verzamelde taalkundige studies; [voor herdr. gereedgemaakt en van een bibliografie voorz. door J. Knol; met medew. van H. J. Brinkman... et al.]. Groningen: Wolters-Noordhoff, 1972, p. 1-128.\\r\\nP. XII Lijst van gebruikte afkortingen; p. 141 Personenregister.\\r\\nO.a. ook over: Richard Dafforne, Anthonis de Huybert, Lambert ten Kate, Petrus Montanus, Arnold Moonen, H. L. Spiegel en Wigardus à Winschooten.   \n",
       "\n",
       "        url  containing_publication_id containing_publication_ppn  \\\n",
       "255901  NaN                        NaN                        NaN   \n",
       "\n",
       "       page_numbers  creator creation_date  modifier   modification_date  \\\n",
       "255901          NaN        1           NaT      19.0 2011-10-06 13:37:17   \n",
       "\n",
       "                                                       canonical_url  \n",
       "255901  klank_en_teken_bij_erasmus_en/caron_willem_johannes_hubertus  "
      ]
     },
     "execution_count": 6,
     "metadata": {},
     "output_type": "execute_result"
    }
   ],
   "source": [
    "publications[publications['title_description'] == 'Caron, Willem Johannes Hubertus. Klank en teken bij Erasmus en onze oudste grammatici. Groningen [etc.]: Wolters, 1947. XII, 140 p. + stellingen.']"
   ]
  },
  {
   "cell_type": "code",
   "execution_count": 7,
   "metadata": {},
   "outputs": [
    {
     "data": {
      "text/html": [
       "<div>\n",
       "<style scoped>\n",
       "    .dataframe tbody tr th:only-of-type {\n",
       "        vertical-align: middle;\n",
       "    }\n",
       "\n",
       "    .dataframe tbody tr th {\n",
       "        vertical-align: top;\n",
       "    }\n",
       "\n",
       "    .dataframe thead th {\n",
       "        text-align: right;\n",
       "    }\n",
       "</style>\n",
       "<table border=\"1\" class=\"dataframe\">\n",
       "  <thead>\n",
       "    <tr style=\"text-align: right;\">\n",
       "      <th></th>\n",
       "      <th>id</th>\n",
       "      <th>ppn</th>\n",
       "      <th>type</th>\n",
       "      <th>jaar</th>\n",
       "      <th>title_description</th>\n",
       "      <th>abstract</th>\n",
       "      <th>url</th>\n",
       "      <th>containing_publication_id</th>\n",
       "      <th>containing_publication_ppn</th>\n",
       "      <th>page_numbers</th>\n",
       "      <th>creator</th>\n",
       "      <th>creation_date</th>\n",
       "      <th>modifier</th>\n",
       "      <th>modification_date</th>\n",
       "      <th>canonical_url</th>\n",
       "    </tr>\n",
       "  </thead>\n",
       "  <tbody>\n",
       "    <tr>\n",
       "      <th>192626</th>\n",
       "      <td>279543</td>\n",
       "      <td>NaN</td>\n",
       "      <td>boek</td>\n",
       "      <td>2012</td>\n",
       "      <td>Ene andre tale: tendensen in de Middelnederlandse late ridderepiek; onder redactie van An Faems en Marjolein Hogenbirk. Hilversum: Verloren, 2012. 318 p. (Middeleeuwse studies en bronnen; 131).</td>\n",
       "      <td>ISBN 978-90-8704-224-0.\\r\\n\\r\\nP. 11-36 De Middelnederlandse late ridderepiek: 'bleeke spookgestalten' krijgen kleur; [inleiding], door An Faems; p. 291-311 Literatuurlijst; p. 312-316 Register van auteurs en werken; p. 317-318 Register van handschriften en drukken.</td>\n",
       "      <td>NaN</td>\n",
       "      <td>NaN</td>\n",
       "      <td>NaN</td>\n",
       "      <td>NaN</td>\n",
       "      <td>17</td>\n",
       "      <td>2012-12-18 10:33:38</td>\n",
       "      <td>17.0</td>\n",
       "      <td>2012-12-18 10:47:42</td>\n",
       "      <td>ene_andre_tale_tendensen_in_de/faems_an</td>\n",
       "    </tr>\n",
       "    <tr>\n",
       "      <th>192627</th>\n",
       "      <td>279544</td>\n",
       "      <td>NaN</td>\n",
       "      <td>artikelboek</td>\n",
       "      <td>2012</td>\n",
       "      <td>Janssens, Jef. De Middelnederlandse ridderepiek in de veertiende eeuw: postmodern of voorzichtig vernieuwend? In: Ene andre tale: tendensen in de Middelnederlandse late ridderepiek; onder redactie van An Faems en Marjolein Hogenbirk. Hilversum: Verloren, 2012, p. 37-52. (Middeleeuwse studies en bronnen; 131).</td>\n",
       "      <td>NaN</td>\n",
       "      <td>NaN</td>\n",
       "      <td>NaN</td>\n",
       "      <td>NaN</td>\n",
       "      <td>NaN</td>\n",
       "      <td>17</td>\n",
       "      <td>2012-12-18 10:49:56</td>\n",
       "      <td>17.0</td>\n",
       "      <td>2012-12-18 11:04:27</td>\n",
       "      <td>janssens_jef_de_middelnederlan/janssens_jozef_d</td>\n",
       "    </tr>\n",
       "    <tr>\n",
       "      <th>192636</th>\n",
       "      <td>279545</td>\n",
       "      <td>NaN</td>\n",
       "      <td>artikelboek</td>\n",
       "      <td>2012</td>\n",
       "      <td>Meulen, Janet F. van der. Vrouwen van Avesnes: een nieuwe Alexander in de Lage Landen. In: Ene andre tale: tendensen in de Middelnederlandse late ridderepiek; onder redactie van An Faems en Marjolein Hogenbirk. Hilversum: Verloren, 2012, p. 55-81. (Middeleeuwse studies en bronnen; 131).</td>\n",
       "      <td>NaN</td>\n",
       "      <td>NaN</td>\n",
       "      <td>NaN</td>\n",
       "      <td>NaN</td>\n",
       "      <td>NaN</td>\n",
       "      <td>17</td>\n",
       "      <td>2012-12-18 11:04:28</td>\n",
       "      <td>17.0</td>\n",
       "      <td>2012-12-18 11:30:35</td>\n",
       "      <td>meulen_janet_f_van_der_vrouwen/meulen_janet_f_van_der</td>\n",
       "    </tr>\n",
       "    <tr>\n",
       "      <th>192646</th>\n",
       "      <td>279549</td>\n",
       "      <td>NaN</td>\n",
       "      <td>artikelboek</td>\n",
       "      <td>2012</td>\n",
       "      <td>Reynders, Anne. \"Ghi heren, ic houde in ware wort dat ghi van Alexandre gehort hebt\": de Middelnederlandse vertalingen van de Oudfranse \"Florimont\" en \"Voeux du paon\". In: Ene andre tale: tendensen in de Middelnederlandse late ridderepiek; onder redactie van An Faems en Marjolein Hogenbirk. Hilversum: Verloren, 2012, p. 83-101. (Middeleeuwse studies en bronnen; 131).</td>\n",
       "      <td>NaN</td>\n",
       "      <td>NaN</td>\n",
       "      <td>NaN</td>\n",
       "      <td>NaN</td>\n",
       "      <td>NaN</td>\n",
       "      <td>17</td>\n",
       "      <td>2012-12-18 11:30:35</td>\n",
       "      <td>18.0</td>\n",
       "      <td>2014-02-18 08:58:59</td>\n",
       "      <td>reynders_anne_ghi_heren_ic_hou/reynders_anne</td>\n",
       "    </tr>\n",
       "    <tr>\n",
       "      <th>192647</th>\n",
       "      <td>279552</td>\n",
       "      <td>NaN</td>\n",
       "      <td>artikelboek</td>\n",
       "      <td>2012</td>\n",
       "      <td>Brandsma, Frank. Florimont 2.0 (editie, vertaling, context); [kritische kanttekeningen en redactie: Bart Besamusca]. In: Ene andre tale: tendensen in de Middelnederlandse late ridderepiek; onder redactie van An Faems en Marjolein Hogenbirk. Hilversum: Verloren, 2012, p. 103-121. (Middeleeuwse studies en bronnen; 131).</td>\n",
       "      <td>NaN</td>\n",
       "      <td>NaN</td>\n",
       "      <td>NaN</td>\n",
       "      <td>NaN</td>\n",
       "      <td>NaN</td>\n",
       "      <td>17</td>\n",
       "      <td>2012-12-18 11:42:01</td>\n",
       "      <td>18.0</td>\n",
       "      <td>2014-02-18 09:00:05</td>\n",
       "      <td>brandsma_frank_florimont_2_0_e/brandsma_frank_p_c</td>\n",
       "    </tr>\n",
       "    <tr>\n",
       "      <th>192655</th>\n",
       "      <td>279558</td>\n",
       "      <td>NaN</td>\n",
       "      <td>artikelboek</td>\n",
       "      <td>2012</td>\n",
       "      <td>Lens, Mieke. Huge van Bordeeus: avontuur voor de stedelijke burgerij? In: Ene andre tale: tendensen in de Middelnederlandse late ridderepiek; onder redactie van An Faems en Marjolein Hogenbirk. Hilversum: Verloren, 2012, p. 125-150. (Middeleeuwse studies en bronnen; 131).</td>\n",
       "      <td>NaN</td>\n",
       "      <td>NaN</td>\n",
       "      <td>NaN</td>\n",
       "      <td>NaN</td>\n",
       "      <td>NaN</td>\n",
       "      <td>17</td>\n",
       "      <td>2012-12-18 11:52:14</td>\n",
       "      <td>17.0</td>\n",
       "      <td>2012-12-18 12:18:43</td>\n",
       "      <td>lens_mieke_huge_van_bordeeus_a/lens_maria_johanna</td>\n",
       "    </tr>\n",
       "    <tr>\n",
       "      <th>192668</th>\n",
       "      <td>279570</td>\n",
       "      <td>NaN</td>\n",
       "      <td>artikelboek</td>\n",
       "      <td>2012</td>\n",
       "      <td>Claassens, Geert H.M. \"Doe leefde hi soe heilichlike\": Seghelijn van Jherusalem tussen ridderepiek en hagiografie. In: Ene andre tale: tendensen in de Middelnederlandse late ridderepiek; onder redactie van An Faems en Marjolein Hogenbirk. Hilversum: Verloren, 2012, p. 195-212. (Middeleeuwse studies en bronnen; 131).</td>\n",
       "      <td>NaN</td>\n",
       "      <td>NaN</td>\n",
       "      <td>NaN</td>\n",
       "      <td>NaN</td>\n",
       "      <td>NaN</td>\n",
       "      <td>17</td>\n",
       "      <td>2012-12-18 13:48:00</td>\n",
       "      <td>31.0</td>\n",
       "      <td>2020-05-29 13:52:35</td>\n",
       "      <td>claassens_geert_h_m_doe_leefde/claassens_gerard_henricus_marie</td>\n",
       "    </tr>\n",
       "    <tr>\n",
       "      <th>192673</th>\n",
       "      <td>279569</td>\n",
       "      <td>NaN</td>\n",
       "      <td>artikelboek</td>\n",
       "      <td>2012</td>\n",
       "      <td>Tersteeg, Jacques. Een Vlaamse schandaalgeschiedenis en sleutelroman?: de Middelnederlandse fragmenten van de 'Borchgrave van Couchi' en de oudfranse prozaroman 'Baudoin de Flandre'. In: Ene andre tale: tendensen in de Middelnederlandse late ridderepiek; onder redactie van An Faems en Marjolein Hogenbirk. Hilversum: Verloren, 2012, p. 151-194. (Middeleeuwse studies en bronnen; 131).</td>\n",
       "      <td>NaN</td>\n",
       "      <td>NaN</td>\n",
       "      <td>NaN</td>\n",
       "      <td>NaN</td>\n",
       "      <td>NaN</td>\n",
       "      <td>17</td>\n",
       "      <td>2012-12-18 12:18:44</td>\n",
       "      <td>17.0</td>\n",
       "      <td>2012-12-18 13:47:59</td>\n",
       "      <td>tersteeg_jacques_een_vlaamse_s/tersteeg_jacobus_johannes_theodorus_maria</td>\n",
       "    </tr>\n",
       "    <tr>\n",
       "      <th>192689</th>\n",
       "      <td>279574</td>\n",
       "      <td>NaN</td>\n",
       "      <td>artikelboek</td>\n",
       "      <td>2012</td>\n",
       "      <td>Biemans, Jos A.A.M. Conventies, standaarden en varianten: verschillende mogelijkheden en keuzes bij de vormgeving van handschriften met berijmde Middelnederlandse ridderepiek. In: Ene andre tale: tendensen in de Middelnederlandse late ridderepiek; onder redactie van An Faems en Marjolein Hogenbirk. Hilversum: Verloren, 2012, p. 215-257. (Middeleeuwse studies en bronnen; 131).</td>\n",
       "      <td>NaN</td>\n",
       "      <td>NaN</td>\n",
       "      <td>NaN</td>\n",
       "      <td>NaN</td>\n",
       "      <td>NaN</td>\n",
       "      <td>17</td>\n",
       "      <td>2012-12-18 14:05:46</td>\n",
       "      <td>17.0</td>\n",
       "      <td>2012-12-18 14:30:55</td>\n",
       "      <td>biemans_jos_a_a_m_conventies_s/biemans_joseph_adrianus_anthony_maria</td>\n",
       "    </tr>\n",
       "    <tr>\n",
       "      <th>192697</th>\n",
       "      <td>279578</td>\n",
       "      <td>NaN</td>\n",
       "      <td>artikelboek</td>\n",
       "      <td>2012</td>\n",
       "      <td>Kestemont, Mike. Een \"assonantic revival\"?: een kwantitatief diachroon onderzoek naar de assonantie in de Middelnederlandse ridderepiek, met bijzondere aandacht voor de veertiende eeuw. In: Ene andre tale: tendensen in de Middelnederlandse late ridderepiek; onder redactie van An Faems en Marjolein Hogenbirk. Hilversum: Verloren, 2012, p. 215-257. (Middeleeuwse studies en bronnen; 131).</td>\n",
       "      <td>NaN</td>\n",
       "      <td>NaN</td>\n",
       "      <td>NaN</td>\n",
       "      <td>NaN</td>\n",
       "      <td>NaN</td>\n",
       "      <td>17</td>\n",
       "      <td>2012-12-18 14:30:55</td>\n",
       "      <td>31.0</td>\n",
       "      <td>2017-10-25 09:04:45</td>\n",
       "      <td>kestemont_mike_een_assonantic/kestemont_mike</td>\n",
       "    </tr>\n",
       "  </tbody>\n",
       "</table>\n",
       "</div>"
      ],
      "text/plain": [
       "            id  ppn         type  jaar  \\\n",
       "192626  279543  NaN         boek  2012   \n",
       "192627  279544  NaN  artikelboek  2012   \n",
       "192636  279545  NaN  artikelboek  2012   \n",
       "192646  279549  NaN  artikelboek  2012   \n",
       "192647  279552  NaN  artikelboek  2012   \n",
       "192655  279558  NaN  artikelboek  2012   \n",
       "192668  279570  NaN  artikelboek  2012   \n",
       "192673  279569  NaN  artikelboek  2012   \n",
       "192689  279574  NaN  artikelboek  2012   \n",
       "192697  279578  NaN  artikelboek  2012   \n",
       "\n",
       "                                                                                                                                                                                                                                                                                                                                                                                           title_description  \\\n",
       "192626                                                                                                                                                                                                     Ene andre tale: tendensen in de Middelnederlandse late ridderepiek; onder redactie van An Faems en Marjolein Hogenbirk. Hilversum: Verloren, 2012. 318 p. (Middeleeuwse studies en bronnen; 131).   \n",
       "192627                                                                                Janssens, Jef. De Middelnederlandse ridderepiek in de veertiende eeuw: postmodern of voorzichtig vernieuwend? In: Ene andre tale: tendensen in de Middelnederlandse late ridderepiek; onder redactie van An Faems en Marjolein Hogenbirk. Hilversum: Verloren, 2012, p. 37-52. (Middeleeuwse studies en bronnen; 131).   \n",
       "192636                                                                                                       Meulen, Janet F. van der. Vrouwen van Avesnes: een nieuwe Alexander in de Lage Landen. In: Ene andre tale: tendensen in de Middelnederlandse late ridderepiek; onder redactie van An Faems en Marjolein Hogenbirk. Hilversum: Verloren, 2012, p. 55-81. (Middeleeuwse studies en bronnen; 131).   \n",
       "192646                     Reynders, Anne. \"Ghi heren, ic houde in ware wort dat ghi van Alexandre gehort hebt\": de Middelnederlandse vertalingen van de Oudfranse \"Florimont\" en \"Voeux du paon\". In: Ene andre tale: tendensen in de Middelnederlandse late ridderepiek; onder redactie van An Faems en Marjolein Hogenbirk. Hilversum: Verloren, 2012, p. 83-101. (Middeleeuwse studies en bronnen; 131).   \n",
       "192647                                                                       Brandsma, Frank. Florimont 2.0 (editie, vertaling, context); [kritische kanttekeningen en redactie: Bart Besamusca]. In: Ene andre tale: tendensen in de Middelnederlandse late ridderepiek; onder redactie van An Faems en Marjolein Hogenbirk. Hilversum: Verloren, 2012, p. 103-121. (Middeleeuwse studies en bronnen; 131).   \n",
       "192655                                                                                                                      Lens, Mieke. Huge van Bordeeus: avontuur voor de stedelijke burgerij? In: Ene andre tale: tendensen in de Middelnederlandse late ridderepiek; onder redactie van An Faems en Marjolein Hogenbirk. Hilversum: Verloren, 2012, p. 125-150. (Middeleeuwse studies en bronnen; 131).   \n",
       "192668                                                                         Claassens, Geert H.M. \"Doe leefde hi soe heilichlike\": Seghelijn van Jherusalem tussen ridderepiek en hagiografie. In: Ene andre tale: tendensen in de Middelnederlandse late ridderepiek; onder redactie van An Faems en Marjolein Hogenbirk. Hilversum: Verloren, 2012, p. 195-212. (Middeleeuwse studies en bronnen; 131).   \n",
       "192673     Tersteeg, Jacques. Een Vlaamse schandaalgeschiedenis en sleutelroman?: de Middelnederlandse fragmenten van de 'Borchgrave van Couchi' en de oudfranse prozaroman 'Baudoin de Flandre'. In: Ene andre tale: tendensen in de Middelnederlandse late ridderepiek; onder redactie van An Faems en Marjolein Hogenbirk. Hilversum: Verloren, 2012, p. 151-194. (Middeleeuwse studies en bronnen; 131).   \n",
       "192689            Biemans, Jos A.A.M. Conventies, standaarden en varianten: verschillende mogelijkheden en keuzes bij de vormgeving van handschriften met berijmde Middelnederlandse ridderepiek. In: Ene andre tale: tendensen in de Middelnederlandse late ridderepiek; onder redactie van An Faems en Marjolein Hogenbirk. Hilversum: Verloren, 2012, p. 215-257. (Middeleeuwse studies en bronnen; 131).   \n",
       "192697  Kestemont, Mike. Een \"assonantic revival\"?: een kwantitatief diachroon onderzoek naar de assonantie in de Middelnederlandse ridderepiek, met bijzondere aandacht voor de veertiende eeuw. In: Ene andre tale: tendensen in de Middelnederlandse late ridderepiek; onder redactie van An Faems en Marjolein Hogenbirk. Hilversum: Verloren, 2012, p. 215-257. (Middeleeuwse studies en bronnen; 131).   \n",
       "\n",
       "                                                                                                                                                                                                                                                                          abstract  \\\n",
       "192626  ISBN 978-90-8704-224-0.\\r\\n\\r\\nP. 11-36 De Middelnederlandse late ridderepiek: 'bleeke spookgestalten' krijgen kleur; [inleiding], door An Faems; p. 291-311 Literatuurlijst; p. 312-316 Register van auteurs en werken; p. 317-318 Register van handschriften en drukken.   \n",
       "192627                                                                                                                                                                                                                                                                         NaN   \n",
       "192636                                                                                                                                                                                                                                                                         NaN   \n",
       "192646                                                                                                                                                                                                                                                                         NaN   \n",
       "192647                                                                                                                                                                                                                                                                         NaN   \n",
       "192655                                                                                                                                                                                                                                                                         NaN   \n",
       "192668                                                                                                                                                                                                                                                                         NaN   \n",
       "192673                                                                                                                                                                                                                                                                         NaN   \n",
       "192689                                                                                                                                                                                                                                                                         NaN   \n",
       "192697                                                                                                                                                                                                                                                                         NaN   \n",
       "\n",
       "        url  containing_publication_id containing_publication_ppn  \\\n",
       "192626  NaN                        NaN                        NaN   \n",
       "192627  NaN                        NaN                        NaN   \n",
       "192636  NaN                        NaN                        NaN   \n",
       "192646  NaN                        NaN                        NaN   \n",
       "192647  NaN                        NaN                        NaN   \n",
       "192655  NaN                        NaN                        NaN   \n",
       "192668  NaN                        NaN                        NaN   \n",
       "192673  NaN                        NaN                        NaN   \n",
       "192689  NaN                        NaN                        NaN   \n",
       "192697  NaN                        NaN                        NaN   \n",
       "\n",
       "       page_numbers  creator       creation_date  modifier  \\\n",
       "192626          NaN       17 2012-12-18 10:33:38      17.0   \n",
       "192627          NaN       17 2012-12-18 10:49:56      17.0   \n",
       "192636          NaN       17 2012-12-18 11:04:28      17.0   \n",
       "192646          NaN       17 2012-12-18 11:30:35      18.0   \n",
       "192647          NaN       17 2012-12-18 11:42:01      18.0   \n",
       "192655          NaN       17 2012-12-18 11:52:14      17.0   \n",
       "192668          NaN       17 2012-12-18 13:48:00      31.0   \n",
       "192673          NaN       17 2012-12-18 12:18:44      17.0   \n",
       "192689          NaN       17 2012-12-18 14:05:46      17.0   \n",
       "192697          NaN       17 2012-12-18 14:30:55      31.0   \n",
       "\n",
       "         modification_date  \\\n",
       "192626 2012-12-18 10:47:42   \n",
       "192627 2012-12-18 11:04:27   \n",
       "192636 2012-12-18 11:30:35   \n",
       "192646 2014-02-18 08:58:59   \n",
       "192647 2014-02-18 09:00:05   \n",
       "192655 2012-12-18 12:18:43   \n",
       "192668 2020-05-29 13:52:35   \n",
       "192673 2012-12-18 13:47:59   \n",
       "192689 2012-12-18 14:30:55   \n",
       "192697 2017-10-25 09:04:45   \n",
       "\n",
       "                                                                   canonical_url  \n",
       "192626                                   ene_andre_tale_tendensen_in_de/faems_an  \n",
       "192627                           janssens_jef_de_middelnederlan/janssens_jozef_d  \n",
       "192636                     meulen_janet_f_van_der_vrouwen/meulen_janet_f_van_der  \n",
       "192646                              reynders_anne_ghi_heren_ic_hou/reynders_anne  \n",
       "192647                         brandsma_frank_florimont_2_0_e/brandsma_frank_p_c  \n",
       "192655                         lens_mieke_huge_van_bordeeus_a/lens_maria_johanna  \n",
       "192668            claassens_geert_h_m_doe_leefde/claassens_gerard_henricus_marie  \n",
       "192673  tersteeg_jacques_een_vlaamse_s/tersteeg_jacobus_johannes_theodorus_maria  \n",
       "192689      biemans_jos_a_a_m_conventies_s/biemans_joseph_adrianus_anthony_maria  \n",
       "192697                              kestemont_mike_een_assonantic/kestemont_mike  "
      ]
     },
     "execution_count": 7,
     "metadata": {},
     "output_type": "execute_result"
    }
   ],
   "source": [
    "publications[publications['title_description'].str.contains('Ene andre tale:')]"
   ]
  },
  {
   "cell_type": "code",
   "execution_count": 8,
   "metadata": {},
   "outputs": [],
   "source": [
    "title2id = dict(zip(publications['title_description'], publications['id']))\n",
    "title2ptype = dict(zip(publications['title_description'], publications['type']))\n",
    "id2title = dict(zip(publications['id'], publications['title_description']))"
   ]
  },
  {
   "cell_type": "code",
   "execution_count": 9,
   "metadata": {},
   "outputs": [
    {
     "name": "stdout",
     "output_type": "stream",
     "text": [
      "317304\n",
      "273\n"
     ]
    }
   ],
   "source": [
    "print(title2id['Hubo, Jorn. Naschrift. In: Queeste (Hilversum): 30 (2023) 2, 254-255.'])\n",
    "print(title2id['Caron, Willem Johannes Hubertus. Klank en teken bij Erasmus en onze oudste grammatici. Groningen [etc.]: Wolters, 1947. XII, 140 p. + stellingen.'])"
   ]
  },
  {
   "cell_type": "code",
   "execution_count": 10,
   "metadata": {},
   "outputs": [
    {
     "name": "stdout",
     "output_type": "stream",
     "text": [
      "Hubo, Jorn. Naschrift. In: Queeste (Hilversum): 30 (2023) 2, 254-255.\n",
      "Caron, Willem Johannes Hubertus. Klank en teken bij Erasmus en onze oudste grammatici. Groningen [etc.]: Wolters, 1947. XII, 140 p. + stellingen.\n"
     ]
    }
   ],
   "source": [
    "print(id2title[317304])\n",
    "print(id2title[273])"
   ]
  },
  {
   "cell_type": "code",
   "execution_count": 11,
   "metadata": {},
   "outputs": [],
   "source": [
    "references = pd.read_csv(f'{dump_dir}/publication_publications.csv')\n",
    "rev2ref = dict(zip(references['publication_id'], references['referenced_publication_id']))"
   ]
  },
  {
   "cell_type": "code",
   "execution_count": 12,
   "metadata": {},
   "outputs": [
    {
     "name": "stdout",
     "output_type": "stream",
     "text": [
      "317303\n",
      "Winkelman, Johan H. Over Jorn Hubo’s Florigout-recensie. In: Queeste (Hilversum): 30 (2023) 2, 247-253.\n"
     ]
    }
   ],
   "source": [
    "print(rev2ref[317304])\n",
    "print(id2title[317303])"
   ]
  },
  {
   "cell_type": "code",
   "execution_count": 13,
   "metadata": {},
   "outputs": [
    {
     "name": "stdout",
     "output_type": "stream",
     "text": [
      "::: ../data/llm-dump/1940s :::\n",
      "../data/llm-dump/1940s/JOUR_consolidated.ris\n"
     ]
    },
    {
     "name": "stderr",
     "output_type": "stream",
     "text": [
      "100%|██████████| 9897/9897 [00:00<00:00, 954320.35it/s]\n"
     ]
    },
    {
     "name": "stdout",
     "output_type": "stream",
     "text": [
      "::: ../data/llm-dump/1950s :::\n",
      "../data/llm-dump/1950s/JOUR_consolidated.ris\n"
     ]
    },
    {
     "name": "stderr",
     "output_type": "stream",
     "text": [
      "100%|██████████| 6218/6218 [00:00<00:00, 1185031.91it/s]"
     ]
    },
    {
     "name": "stdout",
     "output_type": "stream",
     "text": [
      "::: ../data/llm-dump/1960s :::\n",
      "../data/llm-dump/1960s/JOUR_consolidated.ris\n"
     ]
    },
    {
     "name": "stderr",
     "output_type": "stream",
     "text": [
      "\n",
      "100%|██████████| 19387/19387 [00:00<00:00, 1669437.70it/s]\n"
     ]
    },
    {
     "name": "stdout",
     "output_type": "stream",
     "text": [
      "::: ../data/llm-dump/1970s :::\n",
      "../data/llm-dump/1970s/JOUR_consolidated.ris\n"
     ]
    },
    {
     "name": "stderr",
     "output_type": "stream",
     "text": [
      "100%|██████████| 25511/25511 [00:00<00:00, 2017172.01it/s]\n"
     ]
    },
    {
     "name": "stdout",
     "output_type": "stream",
     "text": [
      "::: ../data/llm-dump/1980s :::\n",
      "../data/llm-dump/1980s/JOUR_consolidated.ris\n"
     ]
    },
    {
     "name": "stderr",
     "output_type": "stream",
     "text": [
      "100%|██████████| 34995/34995 [00:00<00:00, 2030456.48it/s]\n"
     ]
    },
    {
     "name": "stdout",
     "output_type": "stream",
     "text": [
      "::: ../data/llm-dump/1990s :::\n",
      "../data/llm-dump/1990s/JOUR_consolidated.ris\n"
     ]
    },
    {
     "name": "stderr",
     "output_type": "stream",
     "text": [
      "100%|██████████| 44498/44498 [00:00<00:00, 1714226.64it/s]\n"
     ]
    },
    {
     "name": "stdout",
     "output_type": "stream",
     "text": [
      "::: ../data/llm-dump/2000s :::\n",
      "../data/llm-dump/2000s/JOUR_consolidated.ris\n"
     ]
    },
    {
     "name": "stderr",
     "output_type": "stream",
     "text": [
      "100%|██████████| 27745/27745 [00:00<00:00, 1799764.37it/s]\n"
     ]
    },
    {
     "name": "stdout",
     "output_type": "stream",
     "text": [
      "::: ../data/llm-dump/2010s :::\n",
      "../data/llm-dump/2010s/JOUR_consolidated.ris\n"
     ]
    },
    {
     "name": "stderr",
     "output_type": "stream",
     "text": [
      "100%|██████████| 20043/20043 [00:00<00:00, 1604964.49it/s]\n"
     ]
    },
    {
     "name": "stdout",
     "output_type": "stream",
     "text": [
      "::: ../data/llm-dump/2020s :::\n",
      "../data/llm-dump/2020s/JOUR_consolidated.ris\n"
     ]
    },
    {
     "name": "stderr",
     "output_type": "stream",
     "text": [
      "100%|██████████| 5238/5238 [00:00<00:00, 1665511.66it/s]"
     ]
    },
    {
     "name": "stdout",
     "output_type": "stream",
     "text": [
      "::: ../data/llm-dump/misc :::\n",
      "../data/llm-dump/misc/JOUR_consolidated.ris\n"
     ]
    },
    {
     "name": "stderr",
     "output_type": "stream",
     "text": [
      "\n",
      "100%|██████████| 3483/3483 [00:00<00:00, 2204430.49it/s]\n"
     ]
    }
   ],
   "source": [
    "llm_path = '../data/llm-dump'\n",
    "\n",
    "for decade_folder in sorted(glob(f'{llm_path}/*')):\n",
    "    print(':::', decade_folder, ':::')\n",
    "    decade = decade_folder.split('/')[-1]\n",
    "\n",
    "    for ris_path in sorted(glob(f'{decade_folder}/JOUR_consolidated.ris')):\n",
    "        print(ris_path)\n",
    "        with open(ris_path) as f:\n",
    "            entries = rispy.load(f, encoding='utf-8', mapping=mapping)\n",
    "        for idx, entry in tqdm(list(enumerate(entries))):\n",
    "            if not 'keywords' in entry or not 'recensie' in entry['keywords']:\n",
    "                continue\n",
    "            if 'extra' in entry:\n",
    "                pub_title = ' '.join(entry['extra'].split()).strip()\n",
    "            else:\n",
    "                # this means that we weren't able to structure the item via the LLM...\n",
    "                pub_title = ' '.join(entry['title'].split()).strip()\n",
    "            \n",
    "            ref_title = None\n",
    "            try:\n",
    "                #print('==============================')\n",
    "                #print(pub_title)\n",
    "                pub_id = title2id[pub_title]\n",
    "                #print(pub_id)\n",
    "                ref_id = rev2ref[pub_id]\n",
    "                #print(ref_id)\n",
    "                ref_title = id2title[ref_id]\n",
    "                #print(ref_id, ref_title)\n",
    "            except KeyError:\n",
    "                pass\n",
    "            if ref_title:\n",
    "                entry['reviewed_item'] = ref_title\n",
    "                entries[idx] = entry\n",
    "\n",
    "        out_ris_path = ris_path.replace('.ris', f'_link_{decade}.ris')\n",
    "        with open(out_ris_path, 'w') as bibliography_file:\n",
    "            rispy.dump(entries, bibliography_file, mapping=mapping)"
   ]
  },
  {
   "cell_type": "markdown",
   "metadata": {},
   "source": [
    "## Boeken"
   ]
  },
  {
   "cell_type": "code",
   "execution_count": 14,
   "metadata": {},
   "outputs": [],
   "source": [
    "ref2revs = defaultdict(list)\n",
    "for rev, ref in rev2ref.items():\n",
    "    ref2revs[ref].append(rev)"
   ]
  },
  {
   "cell_type": "code",
   "execution_count": 15,
   "metadata": {},
   "outputs": [],
   "source": [
    "def get_reviews(pub_title):\n",
    "    try:\n",
    "        pub_id = title2id[pub_title]\n",
    "    except KeyError:\n",
    "        return None\n",
    "    \n",
    "    reviews = []\n",
    "    for rev in ref2revs[pub_id]:\n",
    "        try:\n",
    "            reviews.append(id2title[rev])\n",
    "        except KeyError:\n",
    "            continue\n",
    "    \n",
    "    if reviews:\n",
    "        return 'Recensies: ' + ' | '.join(reviews)"
   ]
  },
  {
   "cell_type": "code",
   "execution_count": 16,
   "metadata": {},
   "outputs": [
    {
     "name": "stdout",
     "output_type": "stream",
     "text": [
      "Recensies: Debrabandere, Frans. In: Biekorf (Brugge): 109 (2009) 3 (sep) 358-359. | Hüning, Matthias. Kroniek van de taalkunde 2008. In: Internationale Neerlandistiek (Woubrugge): 47 (2009) 3 (okt) 50-54. | Zeijlstra, Hedde. In: Tijdschrift voor Nederlandse taal- & letterkunde, TNTL (Leiden): 126 (2010) 1, 94-95. | Sels, Koen. In: De leeswolf (Antwerpen): 15 (2009) 5 (juni) 377. | Marynissen, Ann. In: Internationale Neerlandistiek (Amsterdam): 48 (2010) 1 (feb) 57-60. | Boonen, Ute K. In: Jubileumnummer 1963-2012 Internationale Neerlandistiek; [redactie Ralf Grüttemeier et al.]. Speciaal nummer van: Internationale neerlandistiek (Amsterdam): 50 (2012) 1 (jan) 149-151. | Devos, Filip. Monumentale historische syntax. In: Over taal (Kortrijk-Heule): 48 (2009) 5 (nov-dec) 136-137.\n"
     ]
    }
   ],
   "source": [
    "print(get_reviews('Horst, J. M. van der. Geschiedenis van de Nederlandse syntaxis. Leuven: Universitaire Pers Leuven, 2008. 2 dl. (2014 p.).'))"
   ]
  },
  {
   "cell_type": "code",
   "execution_count": 17,
   "metadata": {},
   "outputs": [
    {
     "name": "stdout",
     "output_type": "stream",
     "text": [
      "::: ../data/llm-dump/1940s :::\n",
      "../data/llm-dump/1940s/BOOK_consolidated.ris\n"
     ]
    },
    {
     "name": "stderr",
     "output_type": "stream",
     "text": [
      "100%|██████████| 1442/1442 [00:00<00:00, 331807.46it/s]"
     ]
    },
    {
     "name": "stdout",
     "output_type": "stream",
     "text": [
      "../data/llm-dump/1940s/CHAP_consolidated.ris\n"
     ]
    },
    {
     "name": "stderr",
     "output_type": "stream",
     "text": [
      "\n",
      "100%|██████████| 1764/1764 [00:00<00:00, 4561499.54it/s]\n"
     ]
    },
    {
     "name": "stdout",
     "output_type": "stream",
     "text": [
      "../data/llm-dump/1940s/JFULL_consolidated.ris\n"
     ]
    },
    {
     "name": "stderr",
     "output_type": "stream",
     "text": [
      "100%|██████████| 68/68 [00:00<00:00, 333192.37it/s]\n"
     ]
    },
    {
     "name": "stdout",
     "output_type": "stream",
     "text": [
      "../data/llm-dump/1940s/JOUR_consolidated.ris\n"
     ]
    },
    {
     "name": "stderr",
     "output_type": "stream",
     "text": [
      "100%|██████████| 9897/9897 [00:00<00:00, 6563008.17it/s]\n"
     ]
    },
    {
     "name": "stdout",
     "output_type": "stream",
     "text": [
      "::: ../data/llm-dump/1950s :::\n",
      "../data/llm-dump/1950s/BOOK_consolidated.ris\n"
     ]
    },
    {
     "name": "stderr",
     "output_type": "stream",
     "text": [
      "100%|██████████| 917/917 [00:00<00:00, 328172.08it/s]\n"
     ]
    },
    {
     "name": "stdout",
     "output_type": "stream",
     "text": [
      "../data/llm-dump/1950s/CHAP_consolidated.ris\n"
     ]
    },
    {
     "name": "stderr",
     "output_type": "stream",
     "text": [
      "100%|██████████| 1161/1161 [00:00<00:00, 4682295.14it/s]\n"
     ]
    },
    {
     "name": "stdout",
     "output_type": "stream",
     "text": [
      "../data/llm-dump/1950s/JFULL_consolidated.ris\n"
     ]
    },
    {
     "name": "stderr",
     "output_type": "stream",
     "text": [
      "100%|██████████| 17/17 [00:00<00:00, 127783.46it/s]\n"
     ]
    },
    {
     "name": "stdout",
     "output_type": "stream",
     "text": [
      "../data/llm-dump/1950s/JOUR_consolidated.ris\n"
     ]
    },
    {
     "name": "stderr",
     "output_type": "stream",
     "text": [
      "100%|██████████| 6218/6218 [00:00<00:00, 5520783.72it/s]\n"
     ]
    },
    {
     "name": "stdout",
     "output_type": "stream",
     "text": [
      "::: ../data/llm-dump/1960s :::\n",
      "../data/llm-dump/1960s/BOOK_consolidated.ris\n"
     ]
    },
    {
     "name": "stderr",
     "output_type": "stream",
     "text": [
      "100%|██████████| 2185/2185 [00:00<00:00, 375688.87it/s]\n"
     ]
    },
    {
     "name": "stdout",
     "output_type": "stream",
     "text": [
      "../data/llm-dump/1960s/CHAP_consolidated.ris\n"
     ]
    },
    {
     "name": "stderr",
     "output_type": "stream",
     "text": [
      "100%|██████████| 4084/4084 [00:00<00:00, 6150641.84it/s]\n"
     ]
    },
    {
     "name": "stdout",
     "output_type": "stream",
     "text": [
      "../data/llm-dump/1960s/JFULL_consolidated.ris\n"
     ]
    },
    {
     "name": "stderr",
     "output_type": "stream",
     "text": [
      "100%|██████████| 190/190 [00:00<00:00, 365390.99it/s]"
     ]
    },
    {
     "name": "stdout",
     "output_type": "stream",
     "text": [
      "../data/llm-dump/1960s/JOUR_consolidated.ris\n"
     ]
    },
    {
     "name": "stderr",
     "output_type": "stream",
     "text": [
      "\n",
      "100%|██████████| 19387/19387 [00:00<00:00, 7201751.10it/s]\n"
     ]
    },
    {
     "name": "stdout",
     "output_type": "stream",
     "text": [
      "::: ../data/llm-dump/1970s :::\n",
      "../data/llm-dump/1970s/BOOK_consolidated.ris\n"
     ]
    },
    {
     "name": "stderr",
     "output_type": "stream",
     "text": [
      "100%|██████████| 3623/3623 [00:00<00:00, 397914.67it/s]"
     ]
    },
    {
     "name": "stdout",
     "output_type": "stream",
     "text": [
      "../data/llm-dump/1970s/CHAP_consolidated.ris\n"
     ]
    },
    {
     "name": "stderr",
     "output_type": "stream",
     "text": [
      "\n",
      "100%|██████████| 6650/6650 [00:00<00:00, 4936658.69it/s]\n"
     ]
    },
    {
     "name": "stdout",
     "output_type": "stream",
     "text": [
      "../data/llm-dump/1970s/JFULL_consolidated.ris\n"
     ]
    },
    {
     "name": "stderr",
     "output_type": "stream",
     "text": [
      "100%|██████████| 273/273 [00:00<00:00, 375178.57it/s]\n"
     ]
    },
    {
     "name": "stdout",
     "output_type": "stream",
     "text": [
      "../data/llm-dump/1970s/JOUR_consolidated.ris\n"
     ]
    },
    {
     "name": "stderr",
     "output_type": "stream",
     "text": [
      "100%|██████████| 25511/25511 [00:00<00:00, 7026127.08it/s]\n"
     ]
    },
    {
     "name": "stdout",
     "output_type": "stream",
     "text": [
      "::: ../data/llm-dump/1980s :::\n",
      "../data/llm-dump/1980s/ADVS_consolidated.ris\n"
     ]
    },
    {
     "name": "stderr",
     "output_type": "stream",
     "text": [
      "100%|██████████| 2/2 [00:00<00:00, 38479.85it/s]\n"
     ]
    },
    {
     "name": "stdout",
     "output_type": "stream",
     "text": [
      "../data/llm-dump/1980s/BOOK_consolidated.ris\n"
     ]
    },
    {
     "name": "stderr",
     "output_type": "stream",
     "text": [
      "100%|██████████| 6722/6722 [00:00<00:00, 364297.95it/s]\n"
     ]
    },
    {
     "name": "stdout",
     "output_type": "stream",
     "text": [
      "../data/llm-dump/1980s/CHAP_consolidated.ris\n"
     ]
    },
    {
     "name": "stderr",
     "output_type": "stream",
     "text": [
      "100%|██████████| 12289/12289 [00:00<00:00, 7032856.03it/s]\n"
     ]
    },
    {
     "name": "stdout",
     "output_type": "stream",
     "text": [
      "../data/llm-dump/1980s/JFULL_consolidated.ris\n"
     ]
    },
    {
     "name": "stderr",
     "output_type": "stream",
     "text": [
      "100%|██████████| 619/619 [00:00<00:00, 370208.78it/s]\n"
     ]
    },
    {
     "name": "stdout",
     "output_type": "stream",
     "text": [
      "../data/llm-dump/1980s/JOUR_consolidated.ris\n"
     ]
    },
    {
     "name": "stderr",
     "output_type": "stream",
     "text": [
      "100%|██████████| 34995/34995 [00:00<00:00, 5990273.37it/s]\n"
     ]
    },
    {
     "name": "stdout",
     "output_type": "stream",
     "text": [
      "../data/llm-dump/1980s/WEB_consolidated.ris\n"
     ]
    },
    {
     "name": "stderr",
     "output_type": "stream",
     "text": [
      "100%|██████████| 1/1 [00:00<00:00, 29330.80it/s]\n"
     ]
    },
    {
     "name": "stdout",
     "output_type": "stream",
     "text": [
      "::: ../data/llm-dump/1990s :::\n",
      "../data/llm-dump/1990s/ADVS_consolidated.ris\n"
     ]
    },
    {
     "name": "stderr",
     "output_type": "stream",
     "text": [
      "100%|██████████| 33/33 [00:00<00:00, 995770.01it/s]\n"
     ]
    },
    {
     "name": "stdout",
     "output_type": "stream",
     "text": [
      "../data/llm-dump/1990s/BOOK_consolidated.ris\n"
     ]
    },
    {
     "name": "stderr",
     "output_type": "stream",
     "text": [
      "100%|██████████| 7992/7992 [00:00<00:00, 355719.57it/s]\n"
     ]
    },
    {
     "name": "stdout",
     "output_type": "stream",
     "text": [
      "../data/llm-dump/1990s/CHAP_consolidated.ris\n"
     ]
    },
    {
     "name": "stderr",
     "output_type": "stream",
     "text": [
      "100%|██████████| 14247/14247 [00:00<00:00, 6960541.54it/s]\n"
     ]
    },
    {
     "name": "stdout",
     "output_type": "stream",
     "text": [
      "../data/llm-dump/1990s/EJOUR_consolidated.ris\n"
     ]
    },
    {
     "name": "stderr",
     "output_type": "stream",
     "text": [
      "100%|██████████| 97/97 [00:00<00:00, 1564798.03it/s]\n"
     ]
    },
    {
     "name": "stdout",
     "output_type": "stream",
     "text": [
      "../data/llm-dump/1990s/JFULL_consolidated.ris\n"
     ]
    },
    {
     "name": "stderr",
     "output_type": "stream",
     "text": [
      "100%|██████████| 660/660 [00:00<00:00, 319326.41it/s]\n"
     ]
    },
    {
     "name": "stdout",
     "output_type": "stream",
     "text": [
      "../data/llm-dump/1990s/JOUR_consolidated.ris\n"
     ]
    },
    {
     "name": "stderr",
     "output_type": "stream",
     "text": [
      "100%|██████████| 44498/44498 [00:00<00:00, 7118702.39it/s]\n"
     ]
    },
    {
     "name": "stdout",
     "output_type": "stream",
     "text": [
      "../data/llm-dump/1990s/WEB_consolidated.ris\n"
     ]
    },
    {
     "name": "stderr",
     "output_type": "stream",
     "text": [
      "100%|██████████| 10/10 [00:00<00:00, 149263.49it/s]\n"
     ]
    },
    {
     "name": "stdout",
     "output_type": "stream",
     "text": [
      "::: ../data/llm-dump/2000s :::\n",
      "../data/llm-dump/2000s/ADVS_consolidated.ris\n"
     ]
    },
    {
     "name": "stderr",
     "output_type": "stream",
     "text": [
      "100%|██████████| 54/54 [00:00<00:00, 841979.24it/s]\n"
     ]
    },
    {
     "name": "stdout",
     "output_type": "stream",
     "text": [
      "../data/llm-dump/2000s/BOOK_consolidated.ris\n"
     ]
    },
    {
     "name": "stderr",
     "output_type": "stream",
     "text": [
      "100%|██████████| 6229/6229 [00:00<00:00, 355010.93it/s]\n"
     ]
    },
    {
     "name": "stdout",
     "output_type": "stream",
     "text": [
      "../data/llm-dump/2000s/CHAP_consolidated.ris\n"
     ]
    },
    {
     "name": "stderr",
     "output_type": "stream",
     "text": [
      "100%|██████████| 11027/11027 [00:00<00:00, 6948706.46it/s]\n"
     ]
    },
    {
     "name": "stdout",
     "output_type": "stream",
     "text": [
      "../data/llm-dump/2000s/EJOUR_consolidated.ris\n"
     ]
    },
    {
     "name": "stderr",
     "output_type": "stream",
     "text": [
      "100%|██████████| 628/628 [00:00<00:00, 5017186.50it/s]\n"
     ]
    },
    {
     "name": "stdout",
     "output_type": "stream",
     "text": [
      "../data/llm-dump/2000s/JFULL_consolidated.ris\n"
     ]
    },
    {
     "name": "stderr",
     "output_type": "stream",
     "text": [
      "100%|██████████| 479/479 [00:00<00:00, 285663.53it/s]\n"
     ]
    },
    {
     "name": "stdout",
     "output_type": "stream",
     "text": [
      "../data/llm-dump/2000s/JOUR_consolidated.ris\n"
     ]
    },
    {
     "name": "stderr",
     "output_type": "stream",
     "text": [
      "100%|██████████| 27745/27745 [00:00<00:00, 6683761.10it/s]\n"
     ]
    },
    {
     "name": "stdout",
     "output_type": "stream",
     "text": [
      "../data/llm-dump/2000s/WEB_consolidated.ris\n"
     ]
    },
    {
     "name": "stderr",
     "output_type": "stream",
     "text": [
      "100%|██████████| 485/485 [00:00<00:00, 4374704.17it/s]\n"
     ]
    },
    {
     "name": "stdout",
     "output_type": "stream",
     "text": [
      "::: ../data/llm-dump/2010s :::\n",
      "../data/llm-dump/2010s/ADVS_consolidated.ris\n"
     ]
    },
    {
     "name": "stderr",
     "output_type": "stream",
     "text": [
      "100%|██████████| 9/9 [00:00<00:00, 428962.91it/s]\n"
     ]
    },
    {
     "name": "stdout",
     "output_type": "stream",
     "text": [
      "../data/llm-dump/2010s/BOOK_consolidated.ris\n"
     ]
    },
    {
     "name": "stderr",
     "output_type": "stream",
     "text": [
      "100%|██████████| 3891/3891 [00:00<00:00, 360751.49it/s]"
     ]
    },
    {
     "name": "stdout",
     "output_type": "stream",
     "text": [
      "../data/llm-dump/2010s/CHAP_consolidated.ris\n"
     ]
    },
    {
     "name": "stderr",
     "output_type": "stream",
     "text": [
      "\n",
      "100%|██████████| 6300/6300 [00:00<00:00, 6582988.34it/s]\n"
     ]
    },
    {
     "name": "stdout",
     "output_type": "stream",
     "text": [
      "../data/llm-dump/2010s/EJOUR_consolidated.ris\n"
     ]
    },
    {
     "name": "stderr",
     "output_type": "stream",
     "text": [
      "100%|██████████| 569/569 [00:00<00:00, 4179612.92it/s]\n"
     ]
    },
    {
     "name": "stdout",
     "output_type": "stream",
     "text": [
      "../data/llm-dump/2010s/JFULL_consolidated.ris\n"
     ]
    },
    {
     "name": "stderr",
     "output_type": "stream",
     "text": [
      "100%|██████████| 442/442 [00:00<00:00, 209076.62it/s]\n"
     ]
    },
    {
     "name": "stdout",
     "output_type": "stream",
     "text": [
      "../data/llm-dump/2010s/JOUR_consolidated.ris\n"
     ]
    },
    {
     "name": "stderr",
     "output_type": "stream",
     "text": [
      "100%|██████████| 20043/20043 [00:00<00:00, 6945343.28it/s]\n"
     ]
    },
    {
     "name": "stdout",
     "output_type": "stream",
     "text": [
      "../data/llm-dump/2010s/WEB_consolidated.ris\n"
     ]
    },
    {
     "name": "stderr",
     "output_type": "stream",
     "text": [
      "100%|██████████| 85/85 [00:00<00:00, 1420381.83it/s]\n"
     ]
    },
    {
     "name": "stdout",
     "output_type": "stream",
     "text": [
      "::: ../data/llm-dump/2020s :::\n",
      "../data/llm-dump/2020s/ADVS_consolidated.ris\n"
     ]
    },
    {
     "name": "stderr",
     "output_type": "stream",
     "text": [
      "100%|██████████| 2/2 [00:00<00:00, 58661.59it/s]\n"
     ]
    },
    {
     "name": "stdout",
     "output_type": "stream",
     "text": [
      "../data/llm-dump/2020s/BOOK_consolidated.ris\n"
     ]
    },
    {
     "name": "stderr",
     "output_type": "stream",
     "text": [
      "100%|██████████| 825/825 [00:00<00:00, 323150.99it/s]\n"
     ]
    },
    {
     "name": "stdout",
     "output_type": "stream",
     "text": [
      "../data/llm-dump/2020s/CHAP_consolidated.ris\n"
     ]
    },
    {
     "name": "stderr",
     "output_type": "stream",
     "text": [
      "100%|██████████| 1627/1627 [00:00<00:00, 5481231.01it/s]\n"
     ]
    },
    {
     "name": "stdout",
     "output_type": "stream",
     "text": [
      "../data/llm-dump/2020s/EJOUR_consolidated.ris\n"
     ]
    },
    {
     "name": "stderr",
     "output_type": "stream",
     "text": [
      "100%|██████████| 251/251 [00:00<00:00, 3485994.38it/s]\n"
     ]
    },
    {
     "name": "stdout",
     "output_type": "stream",
     "text": [
      "../data/llm-dump/2020s/JFULL_consolidated.ris\n"
     ]
    },
    {
     "name": "stderr",
     "output_type": "stream",
     "text": [
      "100%|██████████| 161/161 [00:00<00:00, 239887.37it/s]"
     ]
    },
    {
     "name": "stdout",
     "output_type": "stream",
     "text": [
      "../data/llm-dump/2020s/JOUR_consolidated.ris\n"
     ]
    },
    {
     "name": "stderr",
     "output_type": "stream",
     "text": [
      "\n",
      "100%|██████████| 5238/5238 [00:00<00:00, 5725766.05it/s]\n"
     ]
    },
    {
     "name": "stdout",
     "output_type": "stream",
     "text": [
      "../data/llm-dump/2020s/WEB_consolidated.ris\n"
     ]
    },
    {
     "name": "stderr",
     "output_type": "stream",
     "text": [
      "100%|██████████| 1/1 [00:00<00:00, 38130.04it/s]\n"
     ]
    },
    {
     "name": "stdout",
     "output_type": "stream",
     "text": [
      "::: ../data/llm-dump/misc :::\n",
      "../data/llm-dump/misc/ADVS_consolidated.ris\n"
     ]
    },
    {
     "name": "stderr",
     "output_type": "stream",
     "text": [
      "100%|██████████| 3/3 [00:00<00:00, 68015.74it/s]\n"
     ]
    },
    {
     "name": "stdout",
     "output_type": "stream",
     "text": [
      "../data/llm-dump/misc/BOOK_consolidated.ris\n"
     ]
    },
    {
     "name": "stderr",
     "output_type": "stream",
     "text": [
      "100%|██████████| 1182/1182 [00:00<00:00, 311391.70it/s]\n"
     ]
    },
    {
     "name": "stdout",
     "output_type": "stream",
     "text": [
      "../data/llm-dump/misc/CHAP_consolidated.ris\n"
     ]
    },
    {
     "name": "stderr",
     "output_type": "stream",
     "text": [
      "100%|██████████| 470/470 [00:00<00:00, 4276188.46it/s]\n"
     ]
    },
    {
     "name": "stdout",
     "output_type": "stream",
     "text": [
      "../data/llm-dump/misc/EJOUR_consolidated.ris\n"
     ]
    },
    {
     "name": "stderr",
     "output_type": "stream",
     "text": [
      "100%|██████████| 2/2 [00:00<00:00, 57065.36it/s]\n"
     ]
    },
    {
     "name": "stdout",
     "output_type": "stream",
     "text": [
      "../data/llm-dump/misc/JFULL_consolidated.ris\n"
     ]
    },
    {
     "name": "stderr",
     "output_type": "stream",
     "text": [
      "100%|██████████| 6051/6051 [00:00<00:00, 617812.40it/s]"
     ]
    },
    {
     "name": "stdout",
     "output_type": "stream",
     "text": [
      "../data/llm-dump/misc/JOUR_consolidated.ris\n"
     ]
    },
    {
     "name": "stderr",
     "output_type": "stream",
     "text": [
      "\n",
      "100%|██████████| 3483/3483 [00:00<00:00, 5093710.19it/s]\n"
     ]
    },
    {
     "name": "stdout",
     "output_type": "stream",
     "text": [
      "../data/llm-dump/misc/WEB_consolidated.ris\n"
     ]
    },
    {
     "name": "stderr",
     "output_type": "stream",
     "text": [
      "100%|██████████| 32/32 [00:00<00:00, 1065220.06it/s]\n"
     ]
    }
   ],
   "source": [
    "llm_path = '../data/llm-dump'\n",
    "\n",
    "for decade_folder in sorted(glob(f'{llm_path}/*')):\n",
    "    print(':::', decade_folder, ':::')\n",
    "    decade = decade_folder.split('/')[-1]\n",
    "\n",
    "    for ris_path in sorted(glob(f'{decade_folder}/*_consolidated.ris')):\n",
    "        print(ris_path)\n",
    "        with open(ris_path) as f:\n",
    "            entries = rispy.load(f, encoding='utf-8', mapping=mapping)\n",
    "        \n",
    "        for idx, entry in tqdm(list(enumerate(entries))):\n",
    "            if not entry['type_of_reference'] == 'BOOK':\n",
    "                continue\n",
    "            if 'extra' in entry:\n",
    "                pub_title = ' '.join(entry['extra'].split()).strip()\n",
    "            else:\n",
    "                # this means that we weren't able to structure the item via the LLM...\n",
    "                pub_title = ' '.join(entry['title'].split()).strip()\n",
    "            \n",
    "            reviews = get_reviews(pub_title)\n",
    "            if reviews:\n",
    "                entry['call_number'] = reviews\n",
    "                entries[idx] = entry\n",
    "\n",
    "        out_ris_path = ris_path.replace('.ris', f'_link_{decade}.ris')\n",
    "        with open(out_ris_path, 'w') as bibliography_file:\n",
    "            rispy.dump(entries, bibliography_file, mapping=mapping)"
   ]
  },
  {
   "cell_type": "markdown",
   "metadata": {},
   "source": [
    "## Chapters"
   ]
  },
  {
   "cell_type": "code",
   "execution_count": 18,
   "metadata": {},
   "outputs": [
    {
     "name": "stdout",
     "output_type": "stream",
     "text": [
      "::: ../data/llm-dump/misc :::\n",
      "../data/llm-dump/misc/CHAP_consolidated.ris\n"
     ]
    },
    {
     "name": "stderr",
     "output_type": "stream",
     "text": [
      "100%|██████████| 470/470 [00:00<00:00, 880447.91it/s]\n",
      "/Users/mikekestemont/miniconda3/envs/py3.12/lib/python3.12/site-packages/rispy/writer.py:155: UserWarning: label `type_of_work` not exported\n",
      "  yield from self._format_reference(ref, count=i + 1, n=n)\n"
     ]
    },
    {
     "name": "stdout",
     "output_type": "stream",
     "text": [
      "::: ../data/llm-dump/2020s :::\n",
      "../data/llm-dump/2020s/CHAP_consolidated.ris\n"
     ]
    },
    {
     "name": "stderr",
     "output_type": "stream",
     "text": [
      "100%|██████████| 1627/1627 [00:00<00:00, 822085.61it/s]\n"
     ]
    },
    {
     "name": "stdout",
     "output_type": "stream",
     "text": [
      "::: ../data/llm-dump/2010s :::\n",
      "../data/llm-dump/2010s/CHAP_consolidated.ris\n"
     ]
    },
    {
     "name": "stderr",
     "output_type": "stream",
     "text": [
      "100%|██████████| 6300/6300 [00:00<00:00, 866194.03it/s]\n"
     ]
    },
    {
     "name": "stdout",
     "output_type": "stream",
     "text": [
      "::: ../data/llm-dump/2000s :::\n",
      "../data/llm-dump/2000s/CHAP_consolidated.ris\n"
     ]
    },
    {
     "name": "stderr",
     "output_type": "stream",
     "text": [
      "100%|██████████| 11027/11027 [00:00<00:00, 924383.22it/s]\n"
     ]
    },
    {
     "name": "stdout",
     "output_type": "stream",
     "text": [
      "::: ../data/llm-dump/1990s :::\n",
      "../data/llm-dump/1990s/CHAP_consolidated.ris\n"
     ]
    },
    {
     "name": "stderr",
     "output_type": "stream",
     "text": [
      "100%|██████████| 14247/14247 [00:00<00:00, 880425.64it/s]\n"
     ]
    },
    {
     "name": "stdout",
     "output_type": "stream",
     "text": [
      "::: ../data/llm-dump/1980s :::\n",
      "../data/llm-dump/1980s/CHAP_consolidated.ris\n"
     ]
    },
    {
     "name": "stderr",
     "output_type": "stream",
     "text": [
      "100%|██████████| 12289/12289 [00:00<00:00, 1017365.42it/s]\n"
     ]
    },
    {
     "name": "stdout",
     "output_type": "stream",
     "text": [
      "::: ../data/llm-dump/1970s :::\n",
      "../data/llm-dump/1970s/CHAP_consolidated.ris\n"
     ]
    },
    {
     "name": "stderr",
     "output_type": "stream",
     "text": [
      "100%|██████████| 6650/6650 [00:00<00:00, 995329.61it/s]\n"
     ]
    },
    {
     "name": "stdout",
     "output_type": "stream",
     "text": [
      "::: ../data/llm-dump/1960s :::\n",
      "../data/llm-dump/1960s/CHAP_consolidated.ris\n"
     ]
    },
    {
     "name": "stderr",
     "output_type": "stream",
     "text": [
      "100%|██████████| 4084/4084 [00:00<00:00, 1121997.61it/s]\n"
     ]
    },
    {
     "name": "stdout",
     "output_type": "stream",
     "text": [
      "::: ../data/llm-dump/1950s :::\n",
      "../data/llm-dump/1950s/CHAP_consolidated.ris\n"
     ]
    },
    {
     "name": "stderr",
     "output_type": "stream",
     "text": [
      "100%|██████████| 1161/1161 [00:00<00:00, 981178.11it/s]\n"
     ]
    },
    {
     "name": "stdout",
     "output_type": "stream",
     "text": [
      "::: ../data/llm-dump/1940s :::\n",
      "../data/llm-dump/1940s/CHAP_consolidated.ris\n"
     ]
    },
    {
     "name": "stderr",
     "output_type": "stream",
     "text": [
      "100%|██████████| 1764/1764 [00:00<00:00, 1038129.96it/s]\n"
     ]
    }
   ],
   "source": [
    "llm_path = '../data/llm-dump'\n",
    "\n",
    "for decade_folder in sorted(glob(f'{llm_path}/*'))[::-1]:\n",
    "    print(':::', decade_folder, ':::')\n",
    "    decade = decade_folder.split('/')[-1]\n",
    "\n",
    "    for ris_path in sorted(glob(f'{decade_folder}/CHAP_consolidated.ris')):\n",
    "        print(ris_path)\n",
    "        with open(ris_path) as f:\n",
    "            entries = rispy.load(f, encoding='utf-8')\n",
    "        \n",
    "        for idx, entry in tqdm(list(enumerate(entries))):\n",
    "            if not entry['type_of_reference'] == 'CHAP':\n",
    "                continue\n",
    "            if 'extra' in entry:\n",
    "                pub_title = ' '.join(entry['extra'].split()).strip()\n",
    "            else:\n",
    "                # this means that we weren't able to structure the item via the LLM...\n",
    "                pub_title = ' '.join(entry['title'].split()).strip()\n",
    "            try:\n",
    "                pub_id = title2id[pub_title]\n",
    "                containing_title = None\n",
    "            \n",
    "                containing_id = rev2ref[pub_id]\n",
    "                containing_title = id2title[containing_id]\n",
    "            except KeyError:\n",
    "                continue\n",
    "\n",
    "            if containing_title:\n",
    "                #print(pub_title[:80], title2id[pub_title])\n",
    "                #print('       ->', containing_title)\n",
    "                entry['custom3'] = containing_title\n",
    "                entries[idx] = entry\n",
    "\n",
    "        out_ris_path = ris_path.replace('.ris', f'_link_{decade}.ris')\n",
    "        with open(out_ris_path, 'w') as bibliography_file:\n",
    "            rispy.dump(entries, bibliography_file, mapping=mapping)"
   ]
  },
  {
   "cell_type": "code",
   "execution_count": 19,
   "metadata": {},
   "outputs": [
    {
     "name": "stdout",
     "output_type": "stream",
     "text": [
      "312401\n"
     ]
    }
   ],
   "source": [
    "pub_title = 'Caers, Bram en Mike Kestemont. The cultural and historical context of the low countries. In: The Arthur of the Low Countries: the Arthurian legend in Dutch and Flemish literature; Bart Besamusca & Frank Brandsma (ed.). Cardiff: University of Wales Press, 2021, p. 7-30. (Arthurian literature in the Middle Ages; X).'\n",
    "pub_id = title2id[pub_title]\n",
    "print(pub_id)"
   ]
  },
  {
   "cell_type": "markdown",
   "metadata": {},
   "source": [
    "## Themanummers"
   ]
  },
  {
   "cell_type": "code",
   "execution_count": 20,
   "metadata": {},
   "outputs": [
    {
     "data": {
      "text/plain": [
       "(['Deijl, Lucas van der. In: Nederlandse letterkunde (Amsterdam): 25 (2020) 3 (dec) 281-283.'],\n",
       " ['Kestemont, Mike & Luc Herman. Kunnen machines (literatuur) lezen? In: Theorie en de digitale geesteswetenschappen; red. Mike Kestemont en Dirk van Hulle. Speciaal nummer van: Tijdschrift voor Nederlandse taal- en letterkunde, TNTL (Leiden): 135 (2019) 4, 316-328.',\n",
       "  'Velde, Freek van de, Karlien Franco & Dirk Geeraerts. Reality check voor de kwantitatieve Nederlandse taalkunde: laveren tussen de Scylla van het conservatisme en de Charybdis van de zelfgenoegzaamheid. In: Theorie en de digitale geesteswetenschappen; red. Mike Kestemont en Dirk van Hulle. Speciaal nummer van: Tijdschrift voor Nederlandse taal- en letterkunde, TNTL (Leiden): 135 (2019) 4, 329-343.',\n",
       "  \"Zundert, J. J. van & K. H. van Dalen-Oskam. Joris en Karina's Holistisch Letterkundig Onderzoeksbureau. In: Theorie en de digitale geesteswetenschappen; red. Mike Kestemont en Dirk van Hulle. Speciaal nummer van: Tijdschrift voor Nederlandse taal- en letterkunde, TNTL (Leiden): 135 (2019) 4, 357-372.\",\n",
       "  'Smeets, Roel. Tussen de regels: representatie-kritiek in de Digital Humanities. In: Theorie en de digitale geesteswetenschappen; red. Mike Kestemont en Dirk van Hulle. Speciaal nummer van: Tijdschrift voor Nederlandse taal- en letterkunde, TNTL (Leiden): 135 (2019) 4, 373-383.',\n",
       "  'Sijs, Nicoline van der. Historische taalkunde en Digital Humanities: samen naar een mooie toekomst. In: Theorie en de digitale geesteswetenschappen; red. Mike Kestemont en Dirk van Hulle. Speciaal nummer van: Tijdschrift voor Nederlandse taal- en letterkunde, TNTL (Leiden): 135 (2019) 4, 384-405.',\n",
       "  'Stronks, Els. De macht van het woord met het getal ontleed. In: Theorie en de digitale geesteswetenschappen; red. Mike Kestemont en Dirk van Hulle. Speciaal nummer van: Tijdschrift voor Nederlandse taal- en letterkunde, TNTL (Leiden): 135 (2019) 4, 406-415.',\n",
       "  'Craenenbroeck, Jeroen van & Marjo van Koppen. Theoretische taalkunde in het digitale tijdperk: a match made in heaven. In: Theorie en de digitale geesteswetenschappen; red. Mike Kestemont en Dirk van Hulle. Speciaal nummer van: Tijdschrift voor Nederlandse taal- en letterkunde, TNTL (Leiden): 135 (2019) 4, 416-432.',\n",
       "  'Dijn, Melina de, Eline Zenner, Stefano de Pascale & Liesbet Heyvaert. Hoe digital zijn de humanities-opleidingen?: een perceptiestudie aan de faculteit Letteren van KU Leuven. In: Theorie en de digitale geesteswetenschappen; red. Mike Kestemont en Dirk van Hulle. Speciaal nummer van: Tijdschrift voor Nederlandse taal- en letterkunde, TNTL (Leiden): 135 (2019) 4, 433-452.',\n",
       "  'Temmerman, Tanja en Jeroen van Craenenbroeck. Over corpora, intuïties, en idiomen. In: Theorie en de digitale geesteswetenschappen; red. Mike Kestemont en Dirk van Hulle. Speciaal nummer van: Tijdschrift voor Nederlandse taal- en letterkunde, TNTL (Leiden): 135 (2019) 4, 453-464.',\n",
       "  'Hulle, Dirk van. De logica van de tekstversie in digitaal geschreven literatuur. In: Theorie en de digitale geesteswetenschappen; red. Mike Kestemont en Dirk van Hulle. Speciaal nummer van: Tijdschrift voor Nederlandse taal- en letterkunde, TNTL (Leiden): 135 (2019) 4, 465-477.'])"
      ]
     },
     "execution_count": 20,
     "metadata": {},
     "output_type": "execute_result"
    }
   ],
   "source": [
    "def special_issue_references(pub_title):\n",
    "    reviews, articles = [], []\n",
    "\n",
    "    try:\n",
    "        pub_id = title2id[pub_title]\n",
    "    except KeyError:\n",
    "        return None, None\n",
    "    \n",
    "    for entry in ref2revs[pub_id]:\n",
    "        entry_title = None\n",
    "        try:\n",
    "            entry_title = id2title[entry]\n",
    "        except KeyError:\n",
    "            continue\n",
    "        \n",
    "        if title2ptype[entry_title] == 'recensie':\n",
    "            reviews.append(entry_title)\n",
    "        elif title2ptype[entry_title] == 'artikeltijdschrift':\n",
    "            articles.append(entry_title)\n",
    "\n",
    "    return reviews, articles\n",
    "\n",
    "    \n",
    "pub_title = 'Theorie en de digitale geesteswetenschappen; red. Mike Kestemont en Dirk van Hulle. Hilversum: Verloren, 2019. 177 p. Speciaal nummer van: Tijdschrift voor Nederlandse taal- en letterkunde, TNTL (Leiden): 135 (2019) 4, 301-477.'\n",
    "special_issue_references(pub_title)"
   ]
  },
  {
   "cell_type": "code",
   "execution_count": 21,
   "metadata": {},
   "outputs": [],
   "source": [
    "def get_jour_by_title(decade_folder):\n",
    "    jour_file = f'{decade_folder}/JOUR_consolidated.ris'\n",
    "    with open(jour_file) as f:\n",
    "        entries = rispy.load(f, encoding='utf-8')\n",
    "\n",
    "    jour_by_title = {}\n",
    "    for entry in entries:\n",
    "        if not entry['type_of_reference'] == 'JOUR':\n",
    "            continue\n",
    "\n",
    "        if 'extra' in entry:\n",
    "            jour_title = ' '.join(entry['extra'].split()).strip()\n",
    "        else:\n",
    "            # this means that we weren't able to structure the item via the LLM...\n",
    "            jour_title = ' '.join(entry['title'].split()).strip()\n",
    "    \n",
    "        jour_by_title[jour_title] = entry\n",
    "    \n",
    "    return jour_by_title\n",
    "\n",
    "def aggregate_special_issue_info(jour_by_title, article_titles):\n",
    "    fields = ['journal_name', 'issue', 'volume', 'ISSN']\n",
    "    cnt = defaultdict(Counter)\n",
    "    for article_title in article_titles:\n",
    "        try:\n",
    "            entry = jour_by_title[article_title]\n",
    "        except KeyError:\n",
    "            continue\n",
    "\n",
    "        for f in fields:\n",
    "            if f in entry:\n",
    "                cnt[f][entry[f]] += 1\n",
    "                print(cnt[f][entry[f]])\n",
    "\n",
    "    aggregated = {\n",
    "                   'journal_name' : cnt['journal_name'].most_common(1),\n",
    "                   'issue' :        cnt['issue'].most_common(1),\n",
    "                   'volume' :       cnt['volume'].most_common(1),\n",
    "                   'ISSN' :         cnt['ISSN'].most_common(1),\n",
    "                 }\n",
    "    return aggregated\n",
    "    \n"
   ]
  },
  {
   "cell_type": "code",
   "execution_count": 22,
   "metadata": {},
   "outputs": [
    {
     "name": "stdout",
     "output_type": "stream",
     "text": [
      "::: ../data/llm-dump/misc :::\n",
      "../data/llm-dump/misc/JFULL_consolidated.ris\n"
     ]
    },
    {
     "name": "stderr",
     "output_type": "stream",
     "text": [
      "100%|██████████| 6051/6051 [00:00<00:00, 443523.29it/s]\n"
     ]
    },
    {
     "name": "stdout",
     "output_type": "stream",
     "text": [
      "::: ../data/llm-dump/2020s :::\n",
      "../data/llm-dump/2020s/JFULL_consolidated.ris\n"
     ]
    },
    {
     "name": "stderr",
     "output_type": "stream",
     "text": [
      "100%|██████████| 161/161 [00:00<00:00, 1174405.12it/s]\n"
     ]
    },
    {
     "name": "stdout",
     "output_type": "stream",
     "text": [
      "::: ../data/llm-dump/2010s :::\n",
      "../data/llm-dump/2010s/JFULL_consolidated.ris\n"
     ]
    },
    {
     "name": "stderr",
     "output_type": "stream",
     "text": [
      "100%|██████████| 442/442 [00:00<00:00, 1343393.02it/s]\n"
     ]
    },
    {
     "name": "stdout",
     "output_type": "stream",
     "text": [
      "::: ../data/llm-dump/2000s :::\n",
      "../data/llm-dump/2000s/JFULL_consolidated.ris\n"
     ]
    },
    {
     "name": "stderr",
     "output_type": "stream",
     "text": [
      "100%|██████████| 479/479 [00:00<00:00, 1954349.82it/s]\n"
     ]
    },
    {
     "name": "stdout",
     "output_type": "stream",
     "text": [
      "::: ../data/llm-dump/1990s :::\n",
      "../data/llm-dump/1990s/JFULL_consolidated.ris\n"
     ]
    },
    {
     "name": "stderr",
     "output_type": "stream",
     "text": [
      "100%|██████████| 660/660 [00:00<00:00, 2004518.93it/s]\n"
     ]
    },
    {
     "name": "stdout",
     "output_type": "stream",
     "text": [
      "::: ../data/llm-dump/1980s :::\n",
      "../data/llm-dump/1980s/JFULL_consolidated.ris\n"
     ]
    },
    {
     "name": "stderr",
     "output_type": "stream",
     "text": [
      "100%|██████████| 619/619 [00:00<00:00, 1846567.69it/s]\n"
     ]
    },
    {
     "name": "stdout",
     "output_type": "stream",
     "text": [
      "::: ../data/llm-dump/1970s :::\n",
      "../data/llm-dump/1970s/JFULL_consolidated.ris\n"
     ]
    },
    {
     "name": "stderr",
     "output_type": "stream",
     "text": [
      "100%|██████████| 273/273 [00:00<00:00, 1532858.09it/s]\n"
     ]
    },
    {
     "name": "stdout",
     "output_type": "stream",
     "text": [
      "::: ../data/llm-dump/1960s :::\n",
      "../data/llm-dump/1960s/JFULL_consolidated.ris\n"
     ]
    },
    {
     "name": "stderr",
     "output_type": "stream",
     "text": [
      "100%|██████████| 190/190 [00:00<00:00, 1180618.90it/s]\n"
     ]
    },
    {
     "name": "stdout",
     "output_type": "stream",
     "text": [
      "::: ../data/llm-dump/1950s :::\n",
      "../data/llm-dump/1950s/JFULL_consolidated.ris\n"
     ]
    },
    {
     "name": "stderr",
     "output_type": "stream",
     "text": [
      "100%|██████████| 17/17 [00:00<00:00, 243355.52it/s]\n"
     ]
    },
    {
     "name": "stdout",
     "output_type": "stream",
     "text": [
      "::: ../data/llm-dump/1940s :::\n",
      "../data/llm-dump/1940s/JFULL_consolidated.ris\n"
     ]
    },
    {
     "name": "stderr",
     "output_type": "stream",
     "text": [
      "100%|██████████| 68/68 [00:00<00:00, 700768.24it/s]\n"
     ]
    }
   ],
   "source": [
    "for decade_folder in sorted(glob(f'{llm_path}/*'))[::-1]:\n",
    "    print(':::', decade_folder, ':::')\n",
    "    decade = decade_folder.split('/')[-1]\n",
    "\n",
    "    for ris_path in sorted(glob(f'{decade_folder}/JFULL_consolidated.ris')):\n",
    "        print(ris_path)\n",
    "        with open(ris_path) as f:\n",
    "            entries = rispy.load(f, encoding='utf-8')\n",
    "\n",
    "        # get journal entries for this decade:\n",
    "        jour_by_title = get_jour_by_title(decade_folder)\n",
    "        \n",
    "        for idx, entry in tqdm(list(enumerate(entries))):\n",
    "            if not entry['type_of_reference'] == 'JFULL':\n",
    "                continue\n",
    "            if 'extra' in entry:\n",
    "                pub_title = ' '.join(entry['extra'].split()).strip()\n",
    "            else:\n",
    "                # this means that we weren't able to structure the item via the LLM...\n",
    "                pub_title = ' '.join(entry['title'].split()).strip()\n",
    "            \n",
    "            reviews, articles = special_issue_references(pub_title)\n",
    "\n",
    "            if reviews:\n",
    "                entry['call_number'] = 'Recensies: ' + ' | '.join(reviews)\n",
    "            if articles:\n",
    "                if 'extra' in entry:\n",
    "                    entry['extra'] += '\\n /// \\nArtikels: ' + ' | '.join(articles)\n",
    "                    spec_issue_info = aggregate_special_issue_info(jour_by_title, articles)\n",
    "                    if spec_issue_info:\n",
    "                        print(aggregate_special_issue_info(jour_by_title, articles))\n",
    "                        entry['extra'] += '\\n /// \\n ' + spec_issue_info\n",
    "            \n",
    "            entries[idx] = entry\n",
    "\n",
    "        out_ris_path = ris_path.replace('.ris', f'_link_{decade}.ris')\n",
    "        with open(out_ris_path, 'w') as bibliography_file:\n",
    "            rispy.dump(entries, bibliography_file, mapping=mapping)"
   ]
  },
  {
   "cell_type": "code",
   "execution_count": null,
   "metadata": {},
   "outputs": [],
   "source": []
  },
  {
   "cell_type": "code",
   "execution_count": null,
   "metadata": {},
   "outputs": [],
   "source": []
  }
 ],
 "metadata": {
  "kernelspec": {
   "display_name": "py3.12",
   "language": "python",
   "name": "py3.12"
  },
  "language_info": {
   "codemirror_mode": {
    "name": "ipython",
    "version": 3
   },
   "file_extension": ".py",
   "mimetype": "text/x-python",
   "name": "python",
   "nbconvert_exporter": "python",
   "pygments_lexer": "ipython3",
   "version": "3.12.7"
  }
 },
 "nbformat": 4,
 "nbformat_minor": 2
}
