{
 "cells": [
  {
   "cell_type": "code",
   "execution_count": 15,
   "id": "fifth-deployment",
   "metadata": {
    "tags": []
   },
   "outputs": [],
   "source": [
    "import re\n",
    "import os\n",
    "import json\n",
    "import glob\n",
    "from collections import Counter\n",
    "\n",
    "from tqdm import tqdm\n",
    "import pandas as pd\n",
    "import Levenshtein as lev\n",
    "import numpy as np\n",
    "\n",
    "import rispy\n",
    "from pybtex.database import parse_string\n",
    "from pylatexenc.latex2text import LatexNodes2Text\n",
    "conv = LatexNodes2Text()"
   ]
  },
  {
   "cell_type": "code",
   "execution_count": 16,
   "id": "3fa9b837",
   "metadata": {},
   "outputs": [],
   "source": [
    "def extract_isbn(input_string):\n",
    "    \"\"\"\n",
    "    Extract an ISBN from an unstructured text string.\n",
    "    \n",
    "    The function searches for ISBN numbers that may include a check character 'X' at the end.\n",
    "    It recognizes ISBNs both with and without spaces or hyphens between segments.\n",
    "    \"\"\"\n",
    "    # Regular expression to match \"ISBN:\" followed by any combination of digits, hyphens, and possibly ending with an 'X'\n",
    "    pattern = r'ISBN:?\\s*([\\d\\-]+X?)'\n",
    "    \n",
    "    match = re.search(pattern, input_string)\n",
    "    if match:\n",
    "        return match.group(1)  # Return the matched part (ISBN number)\n",
    "    else:\n",
    "        return None  # No ISBN found following the \"ISBN:\" prefix"
   ]
  },
  {
   "cell_type": "code",
   "execution_count": 17,
   "id": "b1c1f079",
   "metadata": {},
   "outputs": [
    {
     "data": {
      "text/plain": [
       "'90-801724-1-3'"
      ]
     },
     "execution_count": 17,
     "metadata": {},
     "output_type": "execute_result"
    }
   ],
   "source": [
    "extract_isbn(\"De herkomst van familienamen in Suriname, 1667-1863 / H. Speyer. - Voorburg : A & A Publishing, [1993]. - 45 p. : ill. ; 21 cm Met lit. opg. ISBN 90-801724-1-3.\")"
   ]
  },
  {
   "cell_type": "code",
   "execution_count": 18,
   "id": "8f435a10",
   "metadata": {},
   "outputs": [],
   "source": [
    "def map_chapter(ris, bibt):\n",
    "    # make editors authors, if applicable:\n",
    "    if 'editor' in bibt.persons:\n",
    "        if 'author' in bibt.persons:\n",
    "            ris['first_authors'] = [conv.latex_to_text(str(editor)) for editor in bibt.persons['author']]\n",
    "        else:\n",
    "            if 'authors' in ris:\n",
    "                del ris['authors']\n",
    "        ris['secondary_authors'] = [conv.latex_to_text(str(editor)) for editor in bibt.persons['editor']]\n",
    "\n",
    "    if 'first_authors' in ris and 'secondary_authors' in ris:\n",
    "        if 'authors' in ris:\n",
    "            del ris['authors']\n",
    "\n",
    "    # add translators\n",
    "    if 'translator' in bibt.fields:\n",
    "        ris['tertiary_authors'] = conv.latex_to_text(bibt.fields['translator']).split(' and ')\n",
    "\n",
    "    for f in bibt.fields:\n",
    "        bibt.fields[f] = conv.latex_to_text(bibt.fields[f])\n",
    "    \n",
    "    # replace non-distinct title with parsed journal title:\n",
    "    if 'title' in bibt.fields:\n",
    "        ris['notes_abstract'] = ris['title']\n",
    "        ris['title'] = bibt.fields['title']\n",
    "\n",
    "    if 'booktitle' in bibt.fields:\n",
    "        ris['secondary_title'] = bibt.fields['booktitle']\n",
    "    \n",
    "    if 'pagetotal' in bibt.fields:\n",
    "        ris['end_page'] = bibt.fields['pagetotal']\n",
    "    \n",
    "    if 'pages' in bibt.fields:\n",
    "        pages = bibt.fields['pages'].split('-')\n",
    "        if len(pages) == 2:\n",
    "            ris['start_page'] = pages[0]\n",
    "            ris['end_page'] = pages[1]\n",
    "        else:\n",
    "            ris['end_page'] = bibt.fields['pages']\n",
    "    \n",
    "    if 'publisher' in bibt.fields:\n",
    "        ris['publisher'] = bibt.fields['publisher']\n",
    "\n",
    "    if 'place' in bibt.fields:\n",
    "        ris['place_published'] = bibt.fields['place']\n",
    "\n",
    "    if 'address' in bibt.fields:\n",
    "        ris['place_published'] = bibt.fields['address']\n",
    "    \n",
    "    if 'location' in bibt.fields:\n",
    "        ris['place_published'] = bibt.fields['location']\n",
    "\n",
    "    if 'series' in bibt.fields:\n",
    "        ris['tertiary_title'] = bibt.fields['series']\n",
    "\n",
    "    if 'volume' in bibt.fields:\n",
    "        ris['volume'] = bibt.fields['volume']\n",
    "\n",
    "    if 'number' in bibt.fields:\n",
    "        ris['number'] = bibt.fields['number']\n",
    "\n",
    "    if 'edition' in bibt.fields:\n",
    "        ris['edition'] = bibt.fields['edition']\n",
    "    \n",
    "    return ris"
   ]
  },
  {
   "cell_type": "markdown",
   "id": "6b6c45da",
   "metadata": {},
   "source": [
    "Collect already available normalizations for journal titles (so that we can find out below which one we miss):"
   ]
  },
  {
   "cell_type": "code",
   "execution_count": 19,
   "id": "10036c79",
   "metadata": {},
   "outputs": [
    {
     "data": {
      "text/html": [
       "<div>\n",
       "<style scoped>\n",
       "    .dataframe tbody tr th:only-of-type {\n",
       "        vertical-align: middle;\n",
       "    }\n",
       "\n",
       "    .dataframe tbody tr th {\n",
       "        vertical-align: top;\n",
       "    }\n",
       "\n",
       "    .dataframe thead th {\n",
       "        text-align: right;\n",
       "    }\n",
       "</style>\n",
       "<table border=\"1\" class=\"dataframe\">\n",
       "  <thead>\n",
       "    <tr style=\"text-align: right;\">\n",
       "      <th></th>\n",
       "      <th>secondary_title</th>\n",
       "      <th>normalized</th>\n",
       "      <th>count</th>\n",
       "      <th>issn</th>\n",
       "    </tr>\n",
       "  </thead>\n",
       "  <tbody>\n",
       "    <tr>\n",
       "      <th>0</th>\n",
       "      <td>Ons erfdeel: kultureel tijdschrift voor Zuidvl...</td>\n",
       "      <td>Ons erfdeel</td>\n",
       "      <td>2660.0</td>\n",
       "      <td>0030-2651</td>\n",
       "    </tr>\n",
       "    <tr>\n",
       "      <th>1</th>\n",
       "      <td>Dietsche warande en Belfort: tijdschrift voor ...</td>\n",
       "      <td>Dietsche warande en Belfort</td>\n",
       "      <td>2461.0</td>\n",
       "      <td>0012-2645</td>\n",
       "    </tr>\n",
       "    <tr>\n",
       "      <th>2</th>\n",
       "      <td>De nieuwe taalgids: tweemaandelijks tijdschrif...</td>\n",
       "      <td>De nieuwe taalgids</td>\n",
       "      <td>2359.0</td>\n",
       "      <td>0028-9922</td>\n",
       "    </tr>\n",
       "    <tr>\n",
       "      <th>3</th>\n",
       "      <td>Bzzlletin; Stichting BZZTôH Teater. Voorburg: ...</td>\n",
       "      <td>Bzzlletin</td>\n",
       "      <td>1638.0</td>\n",
       "      <td>0165-0858</td>\n",
       "    </tr>\n",
       "    <tr>\n",
       "      <th>4</th>\n",
       "      <td>Poëziekrant: tweemaandelijks tijdschrift. Gent...</td>\n",
       "      <td>Poëziekrant</td>\n",
       "      <td>1573.0</td>\n",
       "      <td>2030-0638</td>\n",
       "    </tr>\n",
       "    <tr>\n",
       "      <th>5</th>\n",
       "      <td>Onze taal: maandblad van het Genootschap Onze ...</td>\n",
       "      <td>Onze taal</td>\n",
       "      <td>1322.0</td>\n",
       "      <td>0165-7828</td>\n",
       "    </tr>\n",
       "    <tr>\n",
       "      <th>6</th>\n",
       "      <td>Vlaanderen: tweemaandelijks tijdschrift voor k...</td>\n",
       "      <td>Vlaanderen</td>\n",
       "      <td>1312.0</td>\n",
       "      <td>0042-7683</td>\n",
       "    </tr>\n",
       "    <tr>\n",
       "      <th>7</th>\n",
       "      <td>De gids: nieuwe vaderlandsche letteroefeningen...</td>\n",
       "      <td>De gids</td>\n",
       "      <td>1249.0</td>\n",
       "      <td>0016-9730</td>\n",
       "    </tr>\n",
       "    <tr>\n",
       "      <th>8</th>\n",
       "      <td>Levende talen: berichten en mededelingen van d...</td>\n",
       "      <td>Levende talen</td>\n",
       "      <td>1239.0</td>\n",
       "      <td>0024-1539</td>\n",
       "    </tr>\n",
       "    <tr>\n",
       "      <th>9</th>\n",
       "      <td>Tijdschrift voor Nederlandse taal- en letterku...</td>\n",
       "      <td>Tijdschrift voor Nederlandse taal- en letterkunde</td>\n",
       "      <td>962.0</td>\n",
       "      <td>0040-7550</td>\n",
       "    </tr>\n",
       "    <tr>\n",
       "      <th>10</th>\n",
       "      <td>Literatuur: tijdschrift over Nederlandse lette...</td>\n",
       "      <td>Literatuur</td>\n",
       "      <td>926.0</td>\n",
       "      <td>0168-7050</td>\n",
       "    </tr>\n",
       "    <tr>\n",
       "      <th>11</th>\n",
       "      <td>Leesidee: kritisch-bibliografisch tijdschrift;...</td>\n",
       "      <td>Leesidee</td>\n",
       "      <td>918.0</td>\n",
       "      <td>1370-1053</td>\n",
       "    </tr>\n",
       "    <tr>\n",
       "      <th>12</th>\n",
       "      <td>Maatstaf: maandblad voor letteren. 's-Gravenha...</td>\n",
       "      <td>Maatstaf</td>\n",
       "      <td>886.0</td>\n",
       "      <td>0024-8851</td>\n",
       "    </tr>\n",
       "    <tr>\n",
       "      <th>13</th>\n",
       "      <td>De periscoop: spiegel van het literair en arti...</td>\n",
       "      <td>De periscoop</td>\n",
       "      <td>853.0</td>\n",
       "      <td>NaN</td>\n",
       "    </tr>\n",
       "    <tr>\n",
       "      <th>14</th>\n",
       "      <td>Het boek van nu: maandblad voor boekenvrienden...</td>\n",
       "      <td>Het boek van nu</td>\n",
       "      <td>813.0</td>\n",
       "      <td>NaN</td>\n",
       "    </tr>\n",
       "    <tr>\n",
       "      <th>15</th>\n",
       "      <td>Kreatief: driemaandelijks literair- en kunstkr...</td>\n",
       "      <td>Kreatief</td>\n",
       "      <td>808.0</td>\n",
       "      <td>0772-6376</td>\n",
       "    </tr>\n",
       "    <tr>\n",
       "      <th>16</th>\n",
       "      <td>Critisch bulletin: maandblad voor letterkundig...</td>\n",
       "      <td>Critisch bulletin</td>\n",
       "      <td>773.0</td>\n",
       "      <td>NaN</td>\n",
       "    </tr>\n",
       "    <tr>\n",
       "      <th>17</th>\n",
       "      <td>Biekorf: dat is een leer- en leesblad voor all...</td>\n",
       "      <td>Biekorf</td>\n",
       "      <td>762.0</td>\n",
       "      <td>NaN</td>\n",
       "    </tr>\n",
       "    <tr>\n",
       "      <th>18</th>\n",
       "      <td>Kruispunt: driemaandelijks tijdschrift. Brugge...</td>\n",
       "      <td>Kruispunt</td>\n",
       "      <td>745.0</td>\n",
       "      <td>0774-7233</td>\n",
       "    </tr>\n",
       "    <tr>\n",
       "      <th>19</th>\n",
       "      <td>Neerlandia: orgaan van het Algemeen Nederlands...</td>\n",
       "      <td>Neerlandia</td>\n",
       "      <td>729.0</td>\n",
       "      <td>0028-2383</td>\n",
       "    </tr>\n",
       "    <tr>\n",
       "      <th>20</th>\n",
       "      <td>Tirade. Amsterdam: Van Oorschot, 1957-....</td>\n",
       "      <td>Tirade</td>\n",
       "      <td>705.0</td>\n",
       "      <td>NaN</td>\n",
       "    </tr>\n",
       "    <tr>\n",
       "      <th>21</th>\n",
       "      <td>De Vlaamsche gids: algemeen tweemaandelijksch ...</td>\n",
       "      <td>De Vlaamsche gids</td>\n",
       "      <td>685.0</td>\n",
       "      <td>0042-7675</td>\n",
       "    </tr>\n",
       "    <tr>\n",
       "      <th>22</th>\n",
       "      <td>Septentrion: revue de culture néerlandaise. Re...</td>\n",
       "      <td>Septentrion</td>\n",
       "      <td>675.0</td>\n",
       "      <td>0771-8934</td>\n",
       "    </tr>\n",
       "    <tr>\n",
       "      <th>23</th>\n",
       "      <td>Ontmoeting: letterkundig en algemeen-cultureel...</td>\n",
       "      <td>Ontmoeting</td>\n",
       "      <td>650.0</td>\n",
       "      <td>NaN</td>\n",
       "    </tr>\n",
       "    <tr>\n",
       "      <th>24</th>\n",
       "      <td>Spiegel der letteren: tijdschrift voor Nederla...</td>\n",
       "      <td>Spiegel der letteren</td>\n",
       "      <td>643.0</td>\n",
       "      <td>0038-7479</td>\n",
       "    </tr>\n",
       "    <tr>\n",
       "      <th>25</th>\n",
       "      <td>Spektator: tijdschrift voor Neerlandistiek. Gr...</td>\n",
       "      <td>Spektator</td>\n",
       "      <td>631.0</td>\n",
       "      <td>0165-084X</td>\n",
       "    </tr>\n",
       "    <tr>\n",
       "      <th>26</th>\n",
       "      <td>Dooijes, Dick. Boektypografische verkenningen:...</td>\n",
       "      <td>Dooijes, Dick</td>\n",
       "      <td>603.0</td>\n",
       "      <td>NaN</td>\n",
       "    </tr>\n",
       "    <tr>\n",
       "      <th>27</th>\n",
       "      <td>Yang: tijdschrift voor literatuur en kommunika...</td>\n",
       "      <td>Yang</td>\n",
       "      <td>602.0</td>\n",
       "      <td>0775-2830</td>\n",
       "    </tr>\n",
       "    <tr>\n",
       "      <th>28</th>\n",
       "      <td>Taal en tongval: tijdschrift voor de studie va...</td>\n",
       "      <td>Taal en tongval</td>\n",
       "      <td>561.0</td>\n",
       "      <td>0039-8691</td>\n",
       "    </tr>\n",
       "    <tr>\n",
       "      <th>29</th>\n",
       "      <td>Verslagen en mededelingen van de Koninklijke A...</td>\n",
       "      <td>Verslagen en mededelingen van de Koninklijke A...</td>\n",
       "      <td>559.0</td>\n",
       "      <td>0770-786X</td>\n",
       "    </tr>\n",
       "  </tbody>\n",
       "</table>\n",
       "</div>"
      ],
      "text/plain": [
       "                                      secondary_title  \\\n",
       "0   Ons erfdeel: kultureel tijdschrift voor Zuidvl...   \n",
       "1   Dietsche warande en Belfort: tijdschrift voor ...   \n",
       "2   De nieuwe taalgids: tweemaandelijks tijdschrif...   \n",
       "3   Bzzlletin; Stichting BZZTôH Teater. Voorburg: ...   \n",
       "4   Poëziekrant: tweemaandelijks tijdschrift. Gent...   \n",
       "5   Onze taal: maandblad van het Genootschap Onze ...   \n",
       "6   Vlaanderen: tweemaandelijks tijdschrift voor k...   \n",
       "7   De gids: nieuwe vaderlandsche letteroefeningen...   \n",
       "8   Levende talen: berichten en mededelingen van d...   \n",
       "9   Tijdschrift voor Nederlandse taal- en letterku...   \n",
       "10  Literatuur: tijdschrift over Nederlandse lette...   \n",
       "11  Leesidee: kritisch-bibliografisch tijdschrift;...   \n",
       "12  Maatstaf: maandblad voor letteren. 's-Gravenha...   \n",
       "13  De periscoop: spiegel van het literair en arti...   \n",
       "14  Het boek van nu: maandblad voor boekenvrienden...   \n",
       "15  Kreatief: driemaandelijks literair- en kunstkr...   \n",
       "16  Critisch bulletin: maandblad voor letterkundig...   \n",
       "17  Biekorf: dat is een leer- en leesblad voor all...   \n",
       "18  Kruispunt: driemaandelijks tijdschrift. Brugge...   \n",
       "19  Neerlandia: orgaan van het Algemeen Nederlands...   \n",
       "20         Tirade. Amsterdam: Van Oorschot, 1957-....   \n",
       "21  De Vlaamsche gids: algemeen tweemaandelijksch ...   \n",
       "22  Septentrion: revue de culture néerlandaise. Re...   \n",
       "23  Ontmoeting: letterkundig en algemeen-cultureel...   \n",
       "24  Spiegel der letteren: tijdschrift voor Nederla...   \n",
       "25  Spektator: tijdschrift voor Neerlandistiek. Gr...   \n",
       "26  Dooijes, Dick. Boektypografische verkenningen:...   \n",
       "27  Yang: tijdschrift voor literatuur en kommunika...   \n",
       "28  Taal en tongval: tijdschrift voor de studie va...   \n",
       "29  Verslagen en mededelingen van de Koninklijke A...   \n",
       "\n",
       "                                           normalized   count       issn  \n",
       "0                                         Ons erfdeel  2660.0  0030-2651  \n",
       "1                         Dietsche warande en Belfort  2461.0  0012-2645  \n",
       "2                                  De nieuwe taalgids  2359.0  0028-9922  \n",
       "3                                           Bzzlletin  1638.0  0165-0858  \n",
       "4                                         Poëziekrant  1573.0  2030-0638  \n",
       "5                                           Onze taal  1322.0  0165-7828  \n",
       "6                                          Vlaanderen  1312.0  0042-7683  \n",
       "7                                             De gids  1249.0  0016-9730  \n",
       "8                                       Levende talen  1239.0  0024-1539  \n",
       "9   Tijdschrift voor Nederlandse taal- en letterkunde   962.0  0040-7550  \n",
       "10                                         Literatuur   926.0  0168-7050  \n",
       "11                                           Leesidee   918.0  1370-1053  \n",
       "12                                           Maatstaf   886.0  0024-8851  \n",
       "13                                       De periscoop   853.0        NaN  \n",
       "14                                    Het boek van nu   813.0        NaN  \n",
       "15                                           Kreatief   808.0  0772-6376  \n",
       "16                                  Critisch bulletin   773.0        NaN  \n",
       "17                                            Biekorf   762.0        NaN  \n",
       "18                                          Kruispunt   745.0  0774-7233  \n",
       "19                                         Neerlandia   729.0  0028-2383  \n",
       "20                                             Tirade   705.0        NaN  \n",
       "21                                  De Vlaamsche gids   685.0  0042-7675  \n",
       "22                                        Septentrion   675.0  0771-8934  \n",
       "23                                         Ontmoeting   650.0        NaN  \n",
       "24                               Spiegel der letteren   643.0  0038-7479  \n",
       "25                                          Spektator   631.0  0165-084X  \n",
       "26                                      Dooijes, Dick   603.0        NaN  \n",
       "27                                               Yang   602.0  0775-2830  \n",
       "28                                    Taal en tongval   561.0  0039-8691  \n",
       "29  Verslagen en mededelingen van de Koninklijke A...   559.0  0770-786X  "
      ]
     },
     "execution_count": 19,
     "metadata": {},
     "output_type": "execute_result"
    }
   ],
   "source": [
    "jtitle = pd.read_excel('../data/journal_titles_master.xlsx')\n",
    "existing_jtitles = set(jtitle['normalized'])\n",
    "lower2jtitles = dict(zip(jtitle['normalized'].str.lower(), jtitle['normalized']))\n",
    "jtitle.head(30)"
   ]
  },
  {
   "cell_type": "code",
   "execution_count": 20,
   "id": "fb85e467",
   "metadata": {},
   "outputs": [],
   "source": [
    "def map_journal(ris, bibt):\n",
    "    \"\"\"\n",
    "    Merges the newly structured information in the bibtex returned\n",
    "    by the LLM into the already available RIS entry from the dump.\n",
    "    Reliably structured information (e.g. authors, year, keywords, ...)\n",
    "    from the RIS entries is maximally retained.\n",
    "    \"\"\"\n",
    "    #print(ris)\n",
    "    #print(bibt)\n",
    "    #print('===============================================')\n",
    "\n",
    "    for f in bibt.fields:\n",
    "        bibt.fields[f] = conv.latex_to_text(bibt.fields[f])\n",
    "    \n",
    "    # replace unstrucuted title with parsed journal title (if available):\n",
    "    if 'title' in bibt.fields:\n",
    "        # keep track of original title description:\n",
    "        ris['notes_abstract'] = ris['title']\n",
    "        ris['title'] = bibt.fields['title']\n",
    "        if ris['title'].strip().lower() in ('in', 'untitled', 'title of the article', 'title of the article (if provided)'):\n",
    "            ris['title'] = ''\n",
    "    \n",
    "    # parse pagination information:\n",
    "    if 'pagetotal' in bibt.fields:\n",
    "        ris['end_page'] = bibt.fields['pagetotal']\n",
    "    if 'pages' in bibt.fields:\n",
    "        pages = bibt.fields['pages'].split('-')\n",
    "        if len(pages) == 2:\n",
    "            ris['start_page'] = pages[0]\n",
    "            ris['end_page'] = pages[1]\n",
    "        else:\n",
    "            ris['end_page'] = bibt.fields['pages']\n",
    "\n",
    "    # collect parsed journal title (unless we had that information already, which will be more reliable)\n",
    "    if 'secondary_title' not in ris and 'journal' in bibt.fields:\n",
    "        journal = bibt.fields['journal']\n",
    "        # sometimes place of publication of the journal is added: we remove that\n",
    "        journal = journal.split('(')[0].strip()\n",
    "        journal = journal.split('[')[0].strip()\n",
    "        ris['journal_name'] = journal\n",
    "    elif 'secondary_title' in ris and 'journal' in bibt.fields:\n",
    "        ris['journal_name'] = ris['secondary_title']\n",
    "        del ris['secondary_title']\n",
    "\n",
    "    if 'journal_name' in ris:\n",
    "        jn = ris['journal_name']\n",
    "        if jn.startswith('\"') and jn.endswith('\",'):\n",
    "            jn = jn[1:-2]\n",
    "        if jn.count('\"') == 1:\n",
    "            jn = jn.replace('\"', '')\n",
    "        ris['journal_name'] = jn\n",
    "    \n",
    "    # collect information on volume and issue\n",
    "    if 'volume' in bibt.fields:\n",
    "        ris['volume'] = bibt.fields['volume']\n",
    "    if 'number' in bibt.fields:\n",
    "        ris['number'] = bibt.fields['number']\n",
    "    if 'number' not in bibt.fields and 'issue' in bibt.fields:\n",
    "        ris['number'] = bibt.fields['issue']\n",
    "    \n",
    "    return ris"
   ]
  },
  {
   "cell_type": "code",
   "execution_count": 7,
   "id": "daec9dc6",
   "metadata": {},
   "outputs": [],
   "source": [
    "def map_book(ris, bibt):\n",
    "    # extract ISBN for abstract field, if available:\n",
    "    if 'abstract' in ris:\n",
    "        abstract = ris['abstract']\n",
    "        isbn = extract_isbn(abstract.strip())\n",
    "        if isbn:\n",
    "            ris['issn'] = isbn\n",
    "        else:\n",
    "            isbn = extract_isbn(ris['title'])\n",
    "            if isbn:\n",
    "                ris['issn'] = isbn\n",
    "\n",
    "    # make editors authors, if applicable:\n",
    "    if 'editor' in bibt.persons:\n",
    "        if 'author' in bibt.persons:\n",
    "            ris['first_authors'] = [conv.latex_to_text(str(editor)) for editor in bibt.persons['author']]\n",
    "        else:\n",
    "            if 'author' in ris:\n",
    "                del ris['author']\n",
    "            if 'authors' in ris:\n",
    "                del ris['authors']\n",
    "        ris['secondary_authors'] = [conv.latex_to_text(str(editor)) for editor in bibt.persons['editor']]\n",
    "\n",
    "    if 'first_authors' in ris and 'secondary_authors' in ris:\n",
    "        if 'author' in ris:\n",
    "            del ris['author']\n",
    "        if 'authors' in ris:\n",
    "            del ris['authors']\n",
    "\n",
    "    # add translators\n",
    "    if 'translator' in bibt.fields:\n",
    "        ris['tertiary_authors'] = conv.latex_to_text(bibt.fields['translator']).split(' and ')\n",
    "        if 'author' in ris:\n",
    "            del ris['author']\n",
    "        if 'first_authors' in ris:\n",
    "            del ris['first_authors']\n",
    "\n",
    "    for f in bibt.fields:\n",
    "        bibt.fields[f] = conv.latex_to_text(bibt.fields[f])\n",
    "    \n",
    "    # replace non-distinct title with parsed book title:\n",
    "    if 'title' in bibt.fields and bibt.fields['title']:\n",
    "        ris['notes_abstract'] = ris['title']\n",
    "        ris['title'] = bibt.fields['title']\n",
    "    elif 'booktitle' in bibt.fields and bibt.fields['booktitle']:\n",
    "        ris['notes_abstract'] = ris['title']\n",
    "        ris['title'] = bibt.fields['booktitle']\n",
    "    \n",
    "    if 'pagetotal' in bibt.fields:\n",
    "        ris['end_page'] = bibt.fields['pagetotal']\n",
    "    \n",
    "    if 'pages' in bibt.fields:\n",
    "        ris['end_page'] = bibt.fields['pages']\n",
    "    \n",
    "    if 'publisher' in bibt.fields:\n",
    "        ris['publisher'] = bibt.fields['publisher']\n",
    "\n",
    "    if 'place' in bibt.fields:\n",
    "        ris['place_published'] = bibt.fields['place']\n",
    "\n",
    "    if 'place' in bibt.fields:\n",
    "        place = bibt.fields['place']\n",
    "        if '[' + place + ']' in ris['notes_abstract']:\n",
    "            place = '[' + place + ']'\n",
    "        ris['place_published'] = place\n",
    "\n",
    "    if 'address' in bibt.fields:\n",
    "        ris['place_published'] = bibt.fields['address']\n",
    "    \n",
    "    if 'location' in bibt.fields:\n",
    "        ris['place_published'] = bibt.fields['location']\n",
    "\n",
    "    if 'series' in bibt.fields:\n",
    "        if ';' in bibt.fields['series']:\n",
    "            series, vol = [e.strip() for e in bibt.fields['series'].split(';', maxsplit=1)]\n",
    "            ris['secondary_title'] = series\n",
    "            ris['volume'] = vol\n",
    "        else:\n",
    "            ris['secondary_title'] = bibt.fields['series']\n",
    "\n",
    "    if 'volume' in bibt.fields:\n",
    "        ris['volume'] = bibt.fields['volume']\n",
    "\n",
    "    if 'number' in bibt.fields:\n",
    "        ris['number'] = bibt.fields['number']\n",
    "\n",
    "    if 'edition' in bibt.fields:\n",
    "        ris['edition'] = bibt.fields['edition']\n",
    "    \n",
    "    return ris"
   ]
  },
  {
   "cell_type": "code",
   "execution_count": 8,
   "id": "e2236510",
   "metadata": {},
   "outputs": [],
   "source": [
    "map_entry = {\n",
    "             'JOUR': map_journal,\n",
    "             'CHAP': map_chapter,\n",
    "             'BOOK': map_book,\n",
    "            }"
   ]
  },
  {
   "cell_type": "code",
   "execution_count": 9,
   "id": "bcd701a2",
   "metadata": {},
   "outputs": [],
   "source": [
    "def deduplicate_bibtex(bibt):\n",
    "    \"\"\"\n",
    "    Deduplicate repeated fields in the bibtex returned by the LLM.\n",
    "    We only keep the first appearance of a given field.\n",
    "    \"\"\"\n",
    "    lines, fields = [], set()\n",
    "    for line in bibt.strip().split('\\n'):\n",
    "        if line.startswith('@') or line == '}':\n",
    "            lines.append(line)\n",
    "        else:\n",
    "            field = line.split('=')[0].strip()\n",
    "            if field not in fields:\n",
    "                lines.append(line)\n",
    "                fields.add(field)\n",
    "\n",
    "    clean = '\\n'.join([l for l in lines if l])\n",
    "    if not clean.strip().endswith('}'):\n",
    "        clean += '\\n}\\n'\n",
    "    \n",
    "    return clean\n",
    "\n",
    "\n",
    "def clean_bibtex(bibt):\n",
    "    \"\"\"\n",
    "    Attempts to correct some common syntactic errors in the bibtex\n",
    "    returned by the LLM (which cause the pybtex parser to fail).\n",
    "    \"\"\"\n",
    "    if not bibt:\n",
    "        return ''\n",
    "    \n",
    "    # remove erroneous markdown syntax:\n",
    "    bibt = bibt.replace('```bibtex', '').replace('```', '').replace(\"```tex\", '')\n",
    "    \n",
    "    # sometimes mutliple bibtexs are created: we only keep the first one\n",
    "    bibt = [b for b in bibt.split('@') if b.strip()]\n",
    "    bibt = '@' + bibt[0]\n",
    "\n",
    "    lines = []\n",
    "    for line in bibt.strip().split('\\n'):\n",
    "        l = line.strip()\n",
    "\n",
    "        # take care of spaces in the bibtex key:\n",
    "        if l.startswith('@') and ' ' in l:\n",
    "            line = ''.join(line.split())\n",
    "        \n",
    "        # fix missing entry keys:\n",
    "        if l in ('@article{,', '@article{'):\n",
    "            lines.append('@article{xxx,')\n",
    "            continue\n",
    "        if l in ('@book{,', '@book{'):\n",
    "            lines.append('@book{xxx,')\n",
    "            continue\n",
    "        if l in ('@incollection{,', '@incollection{'):\n",
    "            lines.append('@incollection{xxx,')\n",
    "            continue\n",
    "\n",
    "        # common errors:\n",
    "        if l.endswith(']'):\n",
    "            line += '},'\n",
    "            lines.append(line)\n",
    "            continue\n",
    "        line = line.replace('{ )', '{}')\n",
    "        if l.endswith(\"',\"):\n",
    "            line = line[:-2] + '},'\n",
    "        \n",
    "        # ensure that end-of-line syntax is respected:\n",
    "        if l != '}':\n",
    "            if not l.endswith('},'):\n",
    "                if l.endswith('}'):\n",
    "                    line += ','\n",
    "                elif not l.endswith('}') and not l.endswith(','):\n",
    "                    line += '},'\n",
    "            if l.endswith('),'):\n",
    "                line = line.replace('),', ')},')\n",
    "        \n",
    "        # add missing curly brackets:\n",
    "        if '=' in l and (not '{' in l or not '}' in l):\n",
    "            k, v = [e.strip() for e in l.split('=')][:2]\n",
    "            v.replace(',', '')\n",
    "            line = '  ' + k + '=' + '{' + v + '},'\n",
    "        \n",
    "        # remove lines with empty values:\n",
    "        if '= {},' in l:\n",
    "            continue\n",
    "\n",
    "        if ' &' in line:\n",
    "            line = line.replace(' &', ' \\&')\n",
    "        \n",
    "        # correct curly bracket syntax in title field:\n",
    "        if l.startswith('title') and l.count('}') > 1:\n",
    "            k, v = [e.strip() for e in l.split('=')][:2]\n",
    "            v = v.replace('{', '').replace('}', '')\n",
    "            line = '  ' + k + '=' + '{' + v + '},'\n",
    "\n",
    "        # correct syntax:\n",
    "        if '\",' in l and '=' in l:\n",
    "            k, v = [e.strip() for e in l.split('=')][:2]\n",
    "            if v.startswith('\"') and v.endswith('\",'):\n",
    "                v = v[1:-2]\n",
    "            line = '  ' + k + '=' + '{' + v + '},'\n",
    "\n",
    "        lines.append(line)\n",
    "\n",
    "    # recompose the lines of the bibtex entry:\n",
    "    clean = '\\n'.join([l for l in lines if l])\n",
    "    if not clean.strip().endswith('}'):\n",
    "        clean += '\\n}\\n'\n",
    "    \n",
    "    # return the deduplicated version of the bibtex entry:\n",
    "    return deduplicate_bibtex(clean)"
   ]
  },
  {
   "cell_type": "code",
   "execution_count": 10,
   "id": "f4139264",
   "metadata": {},
   "outputs": [
    {
     "name": "stdout",
     "output_type": "stream",
     "text": [
      "@article{smit1951,\n",
      "  author = {Van Duinkerken, Anton},\n",
      "  title = {Over: Ternauwernood},\n",
      "  journal = {Critisch Bulletin},\n",
      "  volume = {18},\n",
      "  number = {10},\n",
      "  month = {October},\n",
      "  year = {1951},\n",
      "  pages = {462-467},\n",
      "  publisher = {Utrecht [etc.]},\n",
      "}\n"
     ]
    }
   ],
   "source": [
    "d = \"\"\"@article{smit1951,\n",
    "  author = {Van Duinkerken, Anton},\n",
    "  title = {Over: Ternauwernood},\n",
    "  journal = {Critisch Bulletin},\n",
    "  volume = {18},\n",
    "  number = {10},\n",
    "  month = {October},\n",
    "  year = {1951},\n",
    "  pages = {462-467},\n",
    "  publisher = {Utrecht [etc.]\n",
    "}\"\"\"\n",
    "print(clean_bibtex(d))\n",
    "assert parse_string(clean_bibtex(d), 'bibtex')"
   ]
  },
  {
   "cell_type": "code",
   "execution_count": 11,
   "id": "b7237278",
   "metadata": {},
   "outputs": [
    {
     "name": "stdout",
     "output_type": "stream",
     "text": [
      "@article{xxx,\n",
      "  title={Uitreiking Taaluniepenning 1991},\n",
      "  author={unknown},\n",
      "  journal={Publikatieblad; Nederlandse Taalunie},\n",
      "  year={1992},\n",
      "  volume={23},\n",
      "  number={jan},\n",
      "  pages={1-9},\n",
      "}\n"
     ]
    }
   ],
   "source": [
    "s = \"\"\"@article{,\n",
    "  title={Uitreiking Taaluniepenning 1991},\n",
    "  author={unknown},\n",
    "  journal={Publikatieblad; Nederlandse Taalunie},\n",
    "  year={1992},\n",
    "  volume={23},\n",
    "  number={jan},\n",
    "  pages={1-9}\n",
    "}\"\"\"\n",
    "\n",
    "print(clean_bibtex(s))\n",
    "assert parse_string(clean_bibtex(s), 'bibtex')"
   ]
  },
  {
   "cell_type": "code",
   "execution_count": 12,
   "id": "739c482c",
   "metadata": {},
   "outputs": [
    {
     "name": "stdout",
     "output_type": "stream",
     "text": [
      "::: ../data/llm-dump/1940s :::\n",
      "     -  ../data/llm-dump/1940s/BOOK.xlsx (BOOK)\n"
     ]
    },
    {
     "name": "stderr",
     "output_type": "stream",
     "text": [
      " 12%|█▏        | 175/1442 [00:00<00:00, 1744.00it/s]"
     ]
    },
    {
     "name": "stdout",
     "output_type": "stream",
     "text": [
      "list index out of range\n",
      "list index out of range\n",
      "list index out of range\n",
      "list index out of range\n"
     ]
    },
    {
     "name": "stderr",
     "output_type": "stream",
     "text": [
      " 37%|███▋      | 531/1442 [00:00<00:00, 1573.36it/s]"
     ]
    },
    {
     "name": "stdout",
     "output_type": "stream",
     "text": [
      "syntax error in line 10: premature end of file\n",
      "list index out of range\n",
      "list index out of range\n",
      "list index out of range\n"
     ]
    },
    {
     "name": "stderr",
     "output_type": "stream",
     "text": [
      " 49%|████▉     | 704/1442 [00:00<00:00, 1628.38it/s]"
     ]
    },
    {
     "name": "stdout",
     "output_type": "stream",
     "text": [
      "list index out of range\n",
      "list index out of range\n",
      "list index out of range\n",
      "list index out of range\n",
      "list index out of range\n",
      "list index out of range\n",
      "syntax error in line 8: premature end of file\n"
     ]
    },
    {
     "name": "stderr",
     "output_type": "stream",
     "text": [
      " 73%|███████▎  | 1058/1442 [00:00<00:00, 1707.61it/s]"
     ]
    },
    {
     "name": "stdout",
     "output_type": "stream",
     "text": [
      "list index out of range\n",
      "list index out of range\n",
      "list index out of range\n",
      "list index out of range\n",
      "list index out of range\n",
      "list index out of range\n",
      "list index out of range\n"
     ]
    },
    {
     "name": "stderr",
     "output_type": "stream",
     "text": [
      "100%|██████████| 1442/1442 [00:00<00:00, 1662.37it/s]"
     ]
    },
    {
     "name": "stdout",
     "output_type": "stream",
     "text": [
      "list index out of range\n",
      "list index out of range\n"
     ]
    },
    {
     "name": "stderr",
     "output_type": "stream",
     "text": [
      "\n"
     ]
    },
    {
     "name": "stdout",
     "output_type": "stream",
     "text": [
      "status\n",
      "success    1418\n",
      "failure      24\n",
      "Name: count, dtype: int64\n",
      "     -  ../data/llm-dump/1940s/CHAP.xlsx (CHAP)\n"
     ]
    },
    {
     "name": "stderr",
     "output_type": "stream",
     "text": [
      "  7%|▋         | 129/1764 [00:00<00:01, 1288.88it/s]"
     ]
    },
    {
     "name": "stdout",
     "output_type": "stream",
     "text": [
      "syntax error in line 8: premature end of file\n"
     ]
    },
    {
     "name": "stderr",
     "output_type": "stream",
     "text": [
      " 15%|█▌        | 271/1764 [00:00<00:01, 1364.63it/s]"
     ]
    },
    {
     "name": "stdout",
     "output_type": "stream",
     "text": [
      "Too many commas in 'uitv. comité: P. De Smaele, H. Uyttersprot, F. De Tollenaere, H. Liebaers, A. Van Elslander'\n"
     ]
    },
    {
     "name": "stderr",
     "output_type": "stream",
     "text": [
      "100%|██████████| 1764/1764 [00:01<00:00, 1310.13it/s]\n"
     ]
    },
    {
     "name": "stdout",
     "output_type": "stream",
     "text": [
      "status\n",
      "success    1762\n",
      "failure       2\n",
      "Name: count, dtype: int64\n",
      "     -  ../data/llm-dump/1940s/JFULL.xlsx (JFULL)\n",
      "     -  ../data/llm-dump/1940s/JOUR.xlsx (JOUR)\n"
     ]
    },
    {
     "name": "stderr",
     "output_type": "stream",
     "text": [
      " 46%|████▌     | 2283/5000 [00:01<00:01, 1793.44it/s]"
     ]
    },
    {
     "name": "stdout",
     "output_type": "stream",
     "text": [
      "list index out of range\n"
     ]
    },
    {
     "name": "stderr",
     "output_type": "stream",
     "text": [
      " 82%|████████▏ | 4084/5000 [00:02<00:00, 1771.80it/s]"
     ]
    },
    {
     "name": "stdout",
     "output_type": "stream",
     "text": [
      "list index out of range\n"
     ]
    },
    {
     "name": "stderr",
     "output_type": "stream",
     "text": [
      " 92%|█████████▏| 4623/5000 [00:02<00:00, 1783.48it/s]"
     ]
    },
    {
     "name": "stdout",
     "output_type": "stream",
     "text": [
      "syntax error in line 9: premature end of file\n"
     ]
    },
    {
     "name": "stderr",
     "output_type": "stream",
     "text": [
      "100%|██████████| 5000/5000 [00:02<00:00, 1752.13it/s]\n"
     ]
    },
    {
     "name": "stdout",
     "output_type": "stream",
     "text": [
      "list index out of range\n",
      "status\n",
      "success    4996\n",
      "failure       4\n",
      "Name: count, dtype: int64\n",
      "::: ../data/llm-dump/1950s :::\n",
      "     -  ../data/llm-dump/1950s/BOOK.xlsx (BOOK)\n"
     ]
    },
    {
     "name": "stderr",
     "output_type": "stream",
     "text": [
      " 49%|████▉     | 448/917 [00:00<00:00, 1504.60it/s]"
     ]
    },
    {
     "name": "stdout",
     "output_type": "stream",
     "text": [
      "syntax error in line 9: premature end of file\n"
     ]
    },
    {
     "name": "stderr",
     "output_type": "stream",
     "text": [
      "100%|██████████| 917/917 [00:00<00:00, 1488.95it/s]\n"
     ]
    },
    {
     "name": "stdout",
     "output_type": "stream",
     "text": [
      "status\n",
      "success    916\n",
      "failure      1\n",
      "Name: count, dtype: int64\n",
      "     -  ../data/llm-dump/1950s/CHAP.xlsx (CHAP)\n"
     ]
    },
    {
     "name": "stderr",
     "output_type": "stream",
     "text": [
      "100%|██████████| 1161/1161 [00:00<00:00, 1348.32it/s]\n"
     ]
    },
    {
     "name": "stdout",
     "output_type": "stream",
     "text": [
      "status\n",
      "success    1161\n",
      "Name: count, dtype: int64\n",
      "     -  ../data/llm-dump/1950s/JFULL.xlsx (JFULL)\n",
      "     -  ../data/llm-dump/1950s/JOUR.xlsx (JOUR)\n"
     ]
    },
    {
     "name": "stderr",
     "output_type": "stream",
     "text": [
      " 72%|███████▏  | 3599/5000 [00:01<00:00, 1889.18it/s]"
     ]
    },
    {
     "name": "stdout",
     "output_type": "stream",
     "text": [
      "syntax error in line 9: premature end of file\n"
     ]
    },
    {
     "name": "stderr",
     "output_type": "stream",
     "text": [
      "100%|██████████| 5000/5000 [00:02<00:00, 1851.68it/s]\n"
     ]
    },
    {
     "name": "stdout",
     "output_type": "stream",
     "text": [
      "status\n",
      "success    4999\n",
      "failure       1\n",
      "Name: count, dtype: int64\n",
      "::: ../data/llm-dump/1960s :::\n",
      "     -  ../data/llm-dump/1960s/BOOK.xlsx (BOOK)\n"
     ]
    },
    {
     "name": "stderr",
     "output_type": "stream",
     "text": [
      " 36%|███▌      | 779/2185 [00:00<00:00, 1568.89it/s]"
     ]
    },
    {
     "name": "stdout",
     "output_type": "stream",
     "text": [
      "syntax error in line 10: premature end of file\n",
      "syntax error in line 10: premature end of file\n"
     ]
    },
    {
     "name": "stderr",
     "output_type": "stream",
     "text": [
      " 65%|██████▌   | 1421/2185 [00:00<00:00, 1590.86it/s]"
     ]
    },
    {
     "name": "stdout",
     "output_type": "stream",
     "text": [
      "syntax error in line 9: premature end of file\n"
     ]
    },
    {
     "name": "stderr",
     "output_type": "stream",
     "text": [
      " 87%|████████▋ | 1907/2185 [00:01<00:00, 1603.54it/s]"
     ]
    },
    {
     "name": "stdout",
     "output_type": "stream",
     "text": [
      "Too many commas in 'Menno ter Braak; [samengesteld door D. A. M. Binnendijk, Gerrit Borgers, Jan Hulsker, Jurriaan Schrofer en Ellen Warmond]'\n"
     ]
    },
    {
     "name": "stderr",
     "output_type": "stream",
     "text": [
      "100%|██████████| 2185/2185 [00:01<00:00, 1585.37it/s]\n"
     ]
    },
    {
     "name": "stdout",
     "output_type": "stream",
     "text": [
      "status\n",
      "success    2181\n",
      "failure       4\n",
      "Name: count, dtype: int64\n",
      "     -  ../data/llm-dump/1960s/CHAP.xlsx (CHAP)\n"
     ]
    },
    {
     "name": "stderr",
     "output_type": "stream",
     "text": [
      "100%|██████████| 4084/4084 [00:02<00:00, 1480.40it/s]\n"
     ]
    },
    {
     "name": "stdout",
     "output_type": "stream",
     "text": [
      "status\n",
      "success    4084\n",
      "Name: count, dtype: int64\n",
      "     -  ../data/llm-dump/1960s/JFULL.xlsx (JFULL)\n",
      "     -  ../data/llm-dump/1960s/JOUR.xlsx (JOUR)\n"
     ]
    },
    {
     "name": "stderr",
     "output_type": "stream",
     "text": [
      " 34%|███▎      | 1680/5000 [00:00<00:01, 1934.93it/s]"
     ]
    },
    {
     "name": "stdout",
     "output_type": "stream",
     "text": [
      "syntax error in line 7: premature end of file\n"
     ]
    },
    {
     "name": "stderr",
     "output_type": "stream",
     "text": [
      " 41%|████▏     | 2066/5000 [00:01<00:01, 1879.35it/s]"
     ]
    },
    {
     "name": "stdout",
     "output_type": "stream",
     "text": [
      "syntax error in line 11: premature end of file\n"
     ]
    },
    {
     "name": "stderr",
     "output_type": "stream",
     "text": [
      " 72%|███████▏  | 3587/5000 [00:01<00:00, 1850.83it/s]"
     ]
    },
    {
     "name": "stdout",
     "output_type": "stream",
     "text": [
      "syntax error in line 9: premature end of file\n"
     ]
    },
    {
     "name": "stderr",
     "output_type": "stream",
     "text": [
      " 90%|█████████ | 4510/5000 [00:02<00:00, 1832.57it/s]"
     ]
    },
    {
     "name": "stdout",
     "output_type": "stream",
     "text": [
      "syntax error in line 7: premature end of file\n"
     ]
    },
    {
     "name": "stderr",
     "output_type": "stream",
     "text": [
      "100%|██████████| 5000/5000 [00:02<00:00, 1847.07it/s]\n"
     ]
    },
    {
     "name": "stdout",
     "output_type": "stream",
     "text": [
      "status\n",
      "success    4996\n",
      "failure       4\n",
      "Name: count, dtype: int64\n",
      "::: ../data/llm-dump/1970s :::\n",
      "     -  ../data/llm-dump/1970s/BOOK.xlsx (BOOK)\n"
     ]
    },
    {
     "name": "stderr",
     "output_type": "stream",
     "text": [
      " 39%|███▉      | 1417/3623 [00:00<00:01, 1540.74it/s]"
     ]
    },
    {
     "name": "stdout",
     "output_type": "stream",
     "text": [
      "syntax error in line 9: premature end of file\n"
     ]
    },
    {
     "name": "stderr",
     "output_type": "stream",
     "text": [
      " 79%|███████▉  | 2857/3623 [00:01<00:00, 1605.54it/s]"
     ]
    },
    {
     "name": "stdout",
     "output_type": "stream",
     "text": [
      "syntax error in line 6: '=' expected\n"
     ]
    },
    {
     "name": "stderr",
     "output_type": "stream",
     "text": [
      " 93%|█████████▎| 3366/3623 [00:02<00:00, 1657.09it/s]"
     ]
    },
    {
     "name": "stdout",
     "output_type": "stream",
     "text": [
      "syntax error in line 8: '=' expected\n",
      "Too many commas in 'met medew. van Cola Debrot, Charles Eyck, Albert Helman, [et al.]'\n"
     ]
    },
    {
     "name": "stderr",
     "output_type": "stream",
     "text": [
      "100%|██████████| 3623/3623 [00:02<00:00, 1569.08it/s]\n"
     ]
    },
    {
     "name": "stdout",
     "output_type": "stream",
     "text": [
      "status\n",
      "success    3619\n",
      "failure       4\n",
      "Name: count, dtype: int64\n",
      "     -  ../data/llm-dump/1970s/CHAP.xlsx (CHAP)\n"
     ]
    },
    {
     "name": "stderr",
     "output_type": "stream",
     "text": [
      " 11%|█         | 546/5000 [00:00<00:03, 1378.00it/s]"
     ]
    },
    {
     "name": "stdout",
     "output_type": "stream",
     "text": [
      "Too many commas in 'Herman Uyttersprot, Claude van de Berge, Leo Mets, Adriaan Magerman, Daan Boens, Jan Vercammen; door José de Poortere... [et al.]'\n"
     ]
    },
    {
     "name": "stderr",
     "output_type": "stream",
     "text": [
      " 47%|████▋     | 2371/5000 [00:01<00:01, 1380.57it/s]"
     ]
    },
    {
     "name": "stdout",
     "output_type": "stream",
     "text": [
      "Too many commas in 'Herman Uyttersprot, Claude van de Berge, Leo Mets, Adriaan Magerman, Daan Boens, Jan Vercammen'\n"
     ]
    },
    {
     "name": "stderr",
     "output_type": "stream",
     "text": [
      " 67%|██████▋   | 3343/5000 [00:02<00:01, 1366.49it/s]"
     ]
    },
    {
     "name": "stdout",
     "output_type": "stream",
     "text": [
      "syntax error in line 10: premature end of file\n"
     ]
    },
    {
     "name": "stderr",
     "output_type": "stream",
     "text": [
      " 84%|████████▎ | 4178/5000 [00:03<00:00, 1383.36it/s]"
     ]
    },
    {
     "name": "stdout",
     "output_type": "stream",
     "text": [
      "syntax error in line 9: premature end of file\n"
     ]
    },
    {
     "name": "stderr",
     "output_type": "stream",
     "text": [
      "100%|██████████| 5000/5000 [00:03<00:00, 1359.40it/s]\n",
      "/Users/mikekestemont/miniconda3/envs/py3.11/lib/python3.11/site-packages/rispy/writer.py:155: UserWarning: label `isbn` not exported\n",
      "  yield from self._format_reference(ref, count=i + 1, n=n)\n"
     ]
    },
    {
     "name": "stdout",
     "output_type": "stream",
     "text": [
      "status\n",
      "success    4996\n",
      "failure       4\n",
      "Name: count, dtype: int64\n",
      "     -  ../data/llm-dump/1970s/JFULL.xlsx (JFULL)\n",
      "     -  ../data/llm-dump/1970s/JOUR.xlsx (JOUR)\n"
     ]
    },
    {
     "name": "stderr",
     "output_type": "stream",
     "text": [
      " 26%|██▌       | 1302/5000 [00:00<00:01, 1888.98it/s]"
     ]
    },
    {
     "name": "stdout",
     "output_type": "stream",
     "text": [
      "Too many commas in 'De steen der wijze critici. Een schaduwloopje met M. Janssens, M.J.G. de Jong, H. Bousset, A. Nuis en J. Veulemans'\n",
      "syntax error in line 13: premature end of file\n"
     ]
    },
    {
     "name": "stderr",
     "output_type": "stream",
     "text": [
      " 76%|███████▌  | 3778/5000 [00:02<00:00, 1798.76it/s]"
     ]
    },
    {
     "name": "stdout",
     "output_type": "stream",
     "text": [
      "list index out of range\n"
     ]
    },
    {
     "name": "stderr",
     "output_type": "stream",
     "text": [
      " 86%|████████▋ | 4322/5000 [00:02<00:00, 1794.85it/s]"
     ]
    },
    {
     "name": "stdout",
     "output_type": "stream",
     "text": [
      "list index out of range\n",
      "syntax error in line 12: premature end of file\n"
     ]
    },
    {
     "name": "stderr",
     "output_type": "stream",
     "text": [
      "100%|██████████| 5000/5000 [00:02<00:00, 1842.98it/s]\n"
     ]
    },
    {
     "name": "stdout",
     "output_type": "stream",
     "text": [
      "status\n",
      "success    4995\n",
      "failure       5\n",
      "Name: count, dtype: int64\n",
      "::: ../data/llm-dump/1980s :::\n",
      "     -  ../data/llm-dump/1980s/ADVS.xlsx (ADVS)\n",
      "     -  ../data/llm-dump/1980s/BOOK.xlsx (BOOK)\n"
     ]
    },
    {
     "name": "stderr",
     "output_type": "stream",
     "text": [
      " 34%|███▍      | 1706/5000 [00:01<00:02, 1542.07it/s]"
     ]
    },
    {
     "name": "stdout",
     "output_type": "stream",
     "text": [
      "syntax error in line 4: premature end of file\n"
     ]
    },
    {
     "name": "stderr",
     "output_type": "stream",
     "text": [
      " 40%|████      | 2012/5000 [00:01<00:02, 1484.35it/s]"
     ]
    },
    {
     "name": "stdout",
     "output_type": "stream",
     "text": [
      "syntax error in line 7: premature end of file\n"
     ]
    },
    {
     "name": "stderr",
     "output_type": "stream",
     "text": [
      "100%|██████████| 5000/5000 [00:03<00:00, 1484.47it/s]\n"
     ]
    },
    {
     "name": "stdout",
     "output_type": "stream",
     "text": [
      "status\n",
      "success    4998\n",
      "failure       2\n",
      "Name: count, dtype: int64\n",
      "     -  ../data/llm-dump/1980s/CHAP.xlsx (CHAP)\n"
     ]
    },
    {
     "name": "stderr",
     "output_type": "stream",
     "text": [
      " 17%|█▋        | 849/5000 [00:00<00:03, 1164.21it/s]"
     ]
    },
    {
     "name": "stdout",
     "output_type": "stream",
     "text": [
      "syntax error in line 12: premature end of file\n"
     ]
    },
    {
     "name": "stderr",
     "output_type": "stream",
     "text": [
      " 29%|██▉       | 1454/5000 [00:01<00:02, 1190.97it/s]"
     ]
    },
    {
     "name": "stdout",
     "output_type": "stream",
     "text": [
      "Too many commas in 'Creten, J. & Geerts, G. & Jaspaert, K.'\n"
     ]
    },
    {
     "name": "stderr",
     "output_type": "stream",
     "text": [
      " 56%|█████▌    | 2811/5000 [00:02<00:01, 1202.81it/s]"
     ]
    },
    {
     "name": "stdout",
     "output_type": "stream",
     "text": [
      "Too many commas in 'Leidse werkgroep moedertaaldidactiek, Hans Hulshof (eindred.), Helge Bonset, Bernard Schut, Heleen van der Straaten'\n"
     ]
    },
    {
     "name": "stderr",
     "output_type": "stream",
     "text": [
      " 76%|███████▌  | 3788/5000 [00:03<00:00, 1219.11it/s]"
     ]
    },
    {
     "name": "stdout",
     "output_type": "stream",
     "text": [
      "syntax error in line 11: '=' expected\n",
      "syntax error in line 10: premature end of file\n"
     ]
    },
    {
     "name": "stderr",
     "output_type": "stream",
     "text": [
      " 83%|████████▎ | 4154/5000 [00:03<00:00, 1190.61it/s]"
     ]
    },
    {
     "name": "stdout",
     "output_type": "stream",
     "text": [
      "Too many commas in 'Mies Bouhuys (inl.), Wilma Soederhuizen (interviews), Anita Löwenhardt (research), Marjo van Soest (red.)'\n"
     ]
    },
    {
     "name": "stderr",
     "output_type": "stream",
     "text": [
      "100%|██████████| 5000/5000 [00:04<00:00, 1204.86it/s]\n",
      "/Users/mikekestemont/miniconda3/envs/py3.11/lib/python3.11/site-packages/rispy/writer.py:155: UserWarning: label `isbn` not exported\n",
      "  yield from self._format_reference(ref, count=i + 1, n=n)\n"
     ]
    },
    {
     "name": "stdout",
     "output_type": "stream",
     "text": [
      "status\n",
      "success    4994\n",
      "failure       6\n",
      "Name: count, dtype: int64\n",
      "     -  ../data/llm-dump/1980s/JFULL.xlsx (JFULL)\n",
      "     -  ../data/llm-dump/1980s/JOUR.xlsx (JOUR)\n"
     ]
    },
    {
     "name": "stderr",
     "output_type": "stream",
     "text": [
      " 70%|███████   | 3519/5000 [00:01<00:00, 1815.78it/s]"
     ]
    },
    {
     "name": "stdout",
     "output_type": "stream",
     "text": [
      "syntax error in line 10: premature end of file\n"
     ]
    },
    {
     "name": "stderr",
     "output_type": "stream",
     "text": [
      " 85%|████████▌ | 4250/5000 [00:02<00:00, 1814.93it/s]"
     ]
    },
    {
     "name": "stdout",
     "output_type": "stream",
     "text": [
      "syntax error in line 9: premature end of file\n"
     ]
    },
    {
     "name": "stderr",
     "output_type": "stream",
     "text": [
      "100%|██████████| 5000/5000 [00:02<00:00, 1824.79it/s]\n"
     ]
    },
    {
     "name": "stdout",
     "output_type": "stream",
     "text": [
      "status\n",
      "success    4998\n",
      "failure       2\n",
      "Name: count, dtype: int64\n",
      "     -  ../data/llm-dump/1980s/WEB.xlsx (WEB)\n",
      "::: ../data/llm-dump/1990s :::\n",
      "     -  ../data/llm-dump/1990s/ADVS.xlsx (ADVS)\n",
      "     -  ../data/llm-dump/1990s/BOOK.xlsx (BOOK)\n"
     ]
    },
    {
     "name": "stderr",
     "output_type": "stream",
     "text": [
      " 43%|████▎     | 2134/5000 [00:01<00:01, 1519.60it/s]"
     ]
    },
    {
     "name": "stdout",
     "output_type": "stream",
     "text": [
      "syntax error in line 4: '=' expected\n"
     ]
    },
    {
     "name": "stderr",
     "output_type": "stream",
     "text": [
      " 98%|█████████▊| 4876/5000 [00:03<00:00, 1477.70it/s]"
     ]
    },
    {
     "name": "stdout",
     "output_type": "stream",
     "text": [
      "syntax error in line 1: '(' or '{' expected\n"
     ]
    },
    {
     "name": "stderr",
     "output_type": "stream",
     "text": [
      "100%|██████████| 5000/5000 [00:03<00:00, 1500.23it/s]\n"
     ]
    },
    {
     "name": "stdout",
     "output_type": "stream",
     "text": [
      "status\n",
      "success    4998\n",
      "failure       2\n",
      "Name: count, dtype: int64\n",
      "     -  ../data/llm-dump/1990s/CHAP.xlsx (CHAP)\n"
     ]
    },
    {
     "name": "stderr",
     "output_type": "stream",
     "text": [
      " 47%|████▋     | 2358/5000 [00:02<00:02, 1185.33it/s]"
     ]
    },
    {
     "name": "stdout",
     "output_type": "stream",
     "text": [
      "Too many commas in 'K. Humbeeck, E. Bruinsma, K. Haagdorens, J. Dierinck, B. Nuyens'\n",
      "Too many commas in \"Boon, Louis Paul; bezorgd door K. Humbeeck, E. Bruinsma, K. Haagdorens, J. Dierinck \\\\& B. Nuyens; m.m.v. D. de Geest, Anne Marie Musschoot \\\\& Y. T'Sjoen\"\n",
      "syntax error in line 8: premature end of file\n",
      "syntax error in line 10: premature end of file\n"
     ]
    },
    {
     "name": "stderr",
     "output_type": "stream",
     "text": [
      " 87%|████████▋ | 4340/5000 [00:03<00:00, 1162.87it/s]"
     ]
    },
    {
     "name": "stdout",
     "output_type": "stream",
     "text": [
      "Too many commas in 'de Jong, Erik \\\\& Schellekens, Claudia \\\\& Tummers, Harry'\n"
     ]
    },
    {
     "name": "stderr",
     "output_type": "stream",
     "text": [
      " 94%|█████████▍| 4691/5000 [00:04<00:00, 1144.14it/s]"
     ]
    },
    {
     "name": "stdout",
     "output_type": "stream",
     "text": [
      "syntax error in line 9: premature end of file\n"
     ]
    },
    {
     "name": "stderr",
     "output_type": "stream",
     "text": [
      "100%|██████████| 5000/5000 [00:04<00:00, 1148.90it/s]\n",
      "/Users/mikekestemont/miniconda3/envs/py3.11/lib/python3.11/site-packages/rispy/writer.py:155: UserWarning: label `isbn` not exported\n",
      "  yield from self._format_reference(ref, count=i + 1, n=n)\n"
     ]
    },
    {
     "name": "stdout",
     "output_type": "stream",
     "text": [
      "status\n",
      "success    4994\n",
      "failure       6\n",
      "Name: count, dtype: int64\n",
      "     -  ../data/llm-dump/1990s/EJOUR.xlsx (EJOUR)\n",
      "     -  ../data/llm-dump/1990s/JFULL.xlsx (JFULL)\n",
      "     -  ../data/llm-dump/1990s/JOUR.xlsx (JOUR)\n"
     ]
    },
    {
     "name": "stderr",
     "output_type": "stream",
     "text": [
      "  4%|▎         | 180/5000 [00:00<00:02, 1795.46it/s]"
     ]
    },
    {
     "name": "stdout",
     "output_type": "stream",
     "text": [
      "syntax error in line 1: '(' or '{' expected\n"
     ]
    },
    {
     "name": "stderr",
     "output_type": "stream",
     "text": [
      " 22%|██▏       | 1100/5000 [00:00<00:02, 1814.65it/s]"
     ]
    },
    {
     "name": "stdout",
     "output_type": "stream",
     "text": [
      "syntax error in line 8: premature end of file\n"
     ]
    },
    {
     "name": "stderr",
     "output_type": "stream",
     "text": [
      " 51%|█████     | 2554/5000 [00:01<00:01, 1775.05it/s]"
     ]
    },
    {
     "name": "stdout",
     "output_type": "stream",
     "text": [
      "syntax error in line 4: '=' expected\n",
      "syntax error in line 10: premature end of file\n",
      "syntax error in line 10: '=' expected\n"
     ]
    },
    {
     "name": "stderr",
     "output_type": "stream",
     "text": [
      " 80%|███████▉  | 3987/5000 [00:02<00:00, 1779.65it/s]"
     ]
    },
    {
     "name": "stdout",
     "output_type": "stream",
     "text": [
      "syntax error in line 12: premature end of file\n"
     ]
    },
    {
     "name": "stderr",
     "output_type": "stream",
     "text": [
      "100%|██████████| 5000/5000 [00:02<00:00, 1790.13it/s]\n"
     ]
    },
    {
     "name": "stdout",
     "output_type": "stream",
     "text": [
      "status\n",
      "success    4994\n",
      "failure       6\n",
      "Name: count, dtype: int64\n",
      "     -  ../data/llm-dump/1990s/WEB.xlsx (WEB)\n",
      "::: ../data/llm-dump/2000s :::\n",
      "     -  ../data/llm-dump/2000s/ADVS.xlsx (ADVS)\n",
      "     -  ../data/llm-dump/2000s/BOOK.xlsx (BOOK)\n"
     ]
    },
    {
     "name": "stderr",
     "output_type": "stream",
     "text": [
      "  6%|▌         | 304/5000 [00:00<00:03, 1516.21it/s]"
     ]
    },
    {
     "name": "stdout",
     "output_type": "stream",
     "text": [
      "Too many commas in 'M. Celeste Augusto, Karolien van Eck, Carla de Albuquerque Dias, Ivana Brasileiro Reis'\n",
      "Too many commas in 'Jo Tollebeek (hoofdredacteur), Geert Buelens, Gita Deneckere, Chantal Kesteloot, Sophie de Schaepdrijver'\n"
     ]
    },
    {
     "name": "stderr",
     "output_type": "stream",
     "text": [
      " 15%|█▌        | 766/5000 [00:00<00:02, 1533.76it/s]"
     ]
    },
    {
     "name": "stdout",
     "output_type": "stream",
     "text": [
      "syntax error in line 8: premature end of file\n"
     ]
    },
    {
     "name": "stderr",
     "output_type": "stream",
     "text": [
      " 22%|██▏       | 1077/5000 [00:00<00:02, 1543.05it/s]"
     ]
    },
    {
     "name": "stdout",
     "output_type": "stream",
     "text": [
      "syntax error in line 2: '}' expected\n",
      "Too many commas in \"Kris Humbeeck (wetenschappelijke leiding); Britt Kennis (coördinatie), Ernst Bruinsma, Anne Marie Musschoot, Matthijs de Ridder, Yves T'Sjoen\"\n"
     ]
    },
    {
     "name": "stderr",
     "output_type": "stream",
     "text": [
      " 34%|███▍      | 1711/5000 [00:01<00:02, 1561.33it/s]"
     ]
    },
    {
     "name": "stdout",
     "output_type": "stream",
     "text": [
      "Too many commas in 'Suzan van Dijk (chief editor), P. Broomans, J. F. van der Meulen, W. R. D. van Oostrum'\n"
     ]
    },
    {
     "name": "stderr",
     "output_type": "stream",
     "text": [
      " 66%|██████▌   | 3303/5000 [00:02<00:01, 1573.14it/s]"
     ]
    },
    {
     "name": "stdout",
     "output_type": "stream",
     "text": [
      "Too many commas in \"Kris Humbeeck (wetenschappelijke leiding), Britt Kennis (coördinatie), Ernst Bruinsma, Anne Marie Musschoot, Matthijs de Ridder, Yves T'Sjoen\"\n",
      "syntax error in line 3: premature end of file\n"
     ]
    },
    {
     "name": "stderr",
     "output_type": "stream",
     "text": [
      " 94%|█████████▍| 4725/5000 [00:03<00:00, 1577.48it/s]"
     ]
    },
    {
     "name": "stdout",
     "output_type": "stream",
     "text": [
      "Too many commas in 'Harry N. Sierman \\\\& Querido, Reynoud Homan \\\\& Wim Quist, Irma Boon \\\\& Paul Fentener van Vlissingen; [samenstelling, tekst en interviews: Mathieu Loman; tekstbijdragen: Judith Belinfante ... et al.; fotografie: Iman Heystek... et al.]'\n"
     ]
    },
    {
     "name": "stderr",
     "output_type": "stream",
     "text": [
      "100%|██████████| 5000/5000 [00:03<00:00, 1555.69it/s]\n"
     ]
    },
    {
     "name": "stdout",
     "output_type": "stream",
     "text": [
      "status\n",
      "success    4991\n",
      "failure       9\n",
      "Name: count, dtype: int64\n",
      "     -  ../data/llm-dump/2000s/CHAP.xlsx (CHAP)\n"
     ]
    },
    {
     "name": "stderr",
     "output_type": "stream",
     "text": [
      " 16%|█▌        | 789/5000 [00:00<00:03, 1126.16it/s]"
     ]
    },
    {
     "name": "stdout",
     "output_type": "stream",
     "text": [
      "syntax error in line 6: '=' expected\n"
     ]
    },
    {
     "name": "stderr",
     "output_type": "stream",
     "text": [
      " 34%|███▍      | 1700/5000 [00:01<00:02, 1119.45it/s]"
     ]
    },
    {
     "name": "stdout",
     "output_type": "stream",
     "text": [
      "Too many commas in 'Lenz, Alexandra N. \\\\& Gooskens, Charlotte \\\\& Reker, Siemon'\n",
      "syntax error in line 10: premature end of file\n"
     ]
    },
    {
     "name": "stderr",
     "output_type": "stream",
     "text": [
      " 77%|███████▋  | 3856/5000 [00:03<00:01, 1090.45it/s]"
     ]
    },
    {
     "name": "stdout",
     "output_type": "stream",
     "text": [
      "syntax error in line 1: '=' expected\n"
     ]
    },
    {
     "name": "stderr",
     "output_type": "stream",
     "text": [
      "100%|██████████| 5000/5000 [00:04<00:00, 1107.64it/s]\n",
      "/Users/mikekestemont/miniconda3/envs/py3.11/lib/python3.11/site-packages/rispy/writer.py:155: UserWarning: label `isbn` not exported\n",
      "  yield from self._format_reference(ref, count=i + 1, n=n)\n"
     ]
    },
    {
     "name": "stdout",
     "output_type": "stream",
     "text": [
      "status\n",
      "success    4996\n",
      "failure       4\n",
      "Name: count, dtype: int64\n",
      "     -  ../data/llm-dump/2000s/EJOUR.xlsx (EJOUR)\n",
      "     -  ../data/llm-dump/2000s/JFULL.xlsx (JFULL)\n",
      "     -  ../data/llm-dump/2000s/JOUR.xlsx (JOUR)\n"
     ]
    },
    {
     "name": "stderr",
     "output_type": "stream",
     "text": [
      "100%|██████████| 5000/5000 [00:02<00:00, 1748.52it/s]"
     ]
    },
    {
     "name": "stdout",
     "output_type": "stream",
     "text": [
      "syntax error in line 10: premature end of file\n"
     ]
    },
    {
     "name": "stderr",
     "output_type": "stream",
     "text": [
      "\n"
     ]
    },
    {
     "name": "stdout",
     "output_type": "stream",
     "text": [
      "status\n",
      "success    4999\n",
      "failure       1\n",
      "Name: count, dtype: int64\n",
      "     -  ../data/llm-dump/2000s/WEB.xlsx (WEB)\n",
      "::: ../data/llm-dump/2010s :::\n",
      "     -  ../data/llm-dump/2010s/ADVS.xlsx (ADVS)\n",
      "     -  ../data/llm-dump/2010s/BOOK.xlsx (BOOK)\n"
     ]
    },
    {
     "name": "stderr",
     "output_type": "stream",
     "text": [
      " 47%|████▋     | 1836/3891 [00:01<00:01, 1599.87it/s]"
     ]
    },
    {
     "name": "stdout",
     "output_type": "stream",
     "text": [
      "Too many commas in \"[samenstelling:] Johan Pas \\\\& Yves T'Sjoen; [met medewerking van Filip Demeyer... [et al.; teksten: Roger de Neef, Johan Pas, Yves T'Sjoen, Els van Damme]\"\n",
      "Too many commas in 'Kurt Feyaerts, Geert Brône, Karoline Claes, Birgitta Meex, Steven Schoonjans \\\\& Jelena Vranjes'\n"
     ]
    },
    {
     "name": "stderr",
     "output_type": "stream",
     "text": [
      " 72%|███████▏  | 2798/3891 [00:01<00:00, 1558.95it/s]"
     ]
    },
    {
     "name": "stdout",
     "output_type": "stream",
     "text": [
      "syntax error in line 1: '=' expected\n",
      "Too many commas in 'Carolien Ceton (hoofdredactie), Annemie Halsema, Ineke van der Burg, Karen Vintges en Veronica Vasterling'\n"
     ]
    },
    {
     "name": "stderr",
     "output_type": "stream",
     "text": [
      " 93%|█████████▎| 3606/3891 [00:02<00:00, 1600.62it/s]"
     ]
    },
    {
     "name": "stdout",
     "output_type": "stream",
     "text": [
      "Too many commas in 'Michaël van Houtte, Pieterjan Buggenhout, Tom de Ridder, Veronique de Tier'\n",
      "Too many commas in \"Kris Humbeeck (wetenschappelijke leiding); Britt Kennis (coördinatie), Ernst Bruinsma, Taana Peeters, Matthijs de Ridder, Valerie Rousseau, Tom Sintobin, Yves T'Sjoen, Liesbeth Vantorre, Sara Verbeeck\"\n",
      "Too many commas in \"Kris Humbeeck (wetenschappelĳke leiding), Britt Kennis (coördinatie), Ernst Bruinsma, Anne Marie Musschoot, Taana Peeters, Matthijs de Ridder, Yves T'Sjoen, Liesbeth Vantorre\"\n"
     ]
    },
    {
     "name": "stderr",
     "output_type": "stream",
     "text": [
      "100%|██████████| 3891/3891 [00:02<00:00, 1611.68it/s]\n"
     ]
    },
    {
     "name": "stdout",
     "output_type": "stream",
     "text": [
      "syntax error in line 3: premature end of file\n",
      "status\n",
      "success    3883\n",
      "failure       8\n",
      "Name: count, dtype: int64\n",
      "     -  ../data/llm-dump/2010s/CHAP.xlsx (CHAP)\n"
     ]
    },
    {
     "name": "stderr",
     "output_type": "stream",
     "text": [
      "  8%|▊         | 386/5000 [00:00<00:04, 994.65it/s]"
     ]
    },
    {
     "name": "stdout",
     "output_type": "stream",
     "text": [
      "syntax error in line 6: '=' expected\n"
     ]
    },
    {
     "name": "stderr",
     "output_type": "stream",
     "text": [
      " 16%|█▌        | 806/5000 [00:00<00:04, 1039.14it/s]"
     ]
    },
    {
     "name": "stdout",
     "output_type": "stream",
     "text": [
      "syntax error in line 11: premature end of file\n"
     ]
    },
    {
     "name": "stderr",
     "output_type": "stream",
     "text": [
      " 20%|██        | 1014/5000 [00:01<00:03, 1031.83it/s]"
     ]
    },
    {
     "name": "stdout",
     "output_type": "stream",
     "text": [
      "Too many commas in 'Carolien Ceton (hoofdredactie), Annemie Halsema, Ineke van der Burg, Karen Vintges en Veronica Vasterling'\n"
     ]
    },
    {
     "name": "stderr",
     "output_type": "stream",
     "text": [
      " 27%|██▋       | 1335/5000 [00:01<00:03, 1050.18it/s]"
     ]
    },
    {
     "name": "stdout",
     "output_type": "stream",
     "text": [
      "Too many commas in 'Herbert van Uffelen, Dirk de Geest, Marlou de Bont, Christine Hermann'\n"
     ]
    },
    {
     "name": "stderr",
     "output_type": "stream",
     "text": [
      " 54%|█████▍    | 2722/5000 [00:02<00:02, 1039.85it/s]"
     ]
    },
    {
     "name": "stdout",
     "output_type": "stream",
     "text": [
      "Too many commas in 'Astrid Geudens, Dieter Baeyens, Kirsten Schraeyen, Kathleen Maetens, Jolien de Brauwer \\\\& Maaike Loncke'\n",
      "Too many commas in 'Timothy Colleman, Johan De Caluwe, Veronique De Tier, Anne-Sophie Ghyselen, Liesbet Triest, Roxane Vandenberghe & Ulrike Vogl'\n"
     ]
    },
    {
     "name": "stderr",
     "output_type": "stream",
     "text": [
      " 61%|██████    | 3043/5000 [00:02<00:01, 1050.89it/s]"
     ]
    },
    {
     "name": "stdout",
     "output_type": "stream",
     "text": [
      "Too many commas in 'Herbert Van Uffelen, Dirk de Geest, Susan Mahmody, Pieter Verstraeten'\n"
     ]
    },
    {
     "name": "stderr",
     "output_type": "stream",
     "text": [
      " 74%|███████▍  | 3693/5000 [00:03<00:01, 1073.31it/s]"
     ]
    },
    {
     "name": "stdout",
     "output_type": "stream",
     "text": [
      "Too many commas in \"Michiels, Ivo; Nuyens, Bart; T'Sjoen, Yves; van Damme, Els\"\n"
     ]
    },
    {
     "name": "stderr",
     "output_type": "stream",
     "text": [
      " 85%|████████▍ | 4231/5000 [00:04<00:00, 1046.58it/s]"
     ]
    },
    {
     "name": "stdout",
     "output_type": "stream",
     "text": [
      "syntax error in line 10: premature end of file\n"
     ]
    },
    {
     "name": "stderr",
     "output_type": "stream",
     "text": [
      " 98%|█████████▊| 4879/5000 [00:04<00:00, 1060.77it/s]"
     ]
    },
    {
     "name": "stdout",
     "output_type": "stream",
     "text": [
      "Too many commas in 'Carolien Ceton (hoofdredactie), Annemie Halsema, Ineke van der Burg, Karen Vintges en Veronica Vasterling'\n"
     ]
    },
    {
     "name": "stderr",
     "output_type": "stream",
     "text": [
      "100%|██████████| 5000/5000 [00:04<00:00, 1040.76it/s]\n",
      "/Users/mikekestemont/miniconda3/envs/py3.11/lib/python3.11/site-packages/rispy/writer.py:155: UserWarning: label `isbn` not exported\n",
      "  yield from self._format_reference(ref, count=i + 1, n=n)\n"
     ]
    },
    {
     "name": "stdout",
     "output_type": "stream",
     "text": [
      "status\n",
      "success    4990\n",
      "failure      10\n",
      "Name: count, dtype: int64\n",
      "     -  ../data/llm-dump/2010s/EJOUR.xlsx (EJOUR)\n",
      "     -  ../data/llm-dump/2010s/JFULL.xlsx (JFULL)\n",
      "     -  ../data/llm-dump/2010s/JOUR.xlsx (JOUR)\n"
     ]
    },
    {
     "name": "stderr",
     "output_type": "stream",
     "text": [
      "  2%|▏         | 119/5000 [00:00<00:04, 1185.76it/s]"
     ]
    },
    {
     "name": "stdout",
     "output_type": "stream",
     "text": [
      "syntax error in line 10: premature end of file"
     ]
    },
    {
     "name": "stderr",
     "output_type": "stream",
     "text": [
      "  9%|▉         | 461/5000 [00:00<00:02, 1595.62it/s]"
     ]
    },
    {
     "name": "stdout",
     "output_type": "stream",
     "text": [
      "\n"
     ]
    },
    {
     "name": "stderr",
     "output_type": "stream",
     "text": [
      " 61%|██████    | 3027/5000 [00:01<00:01, 1677.59it/s]"
     ]
    },
    {
     "name": "stdout",
     "output_type": "stream",
     "text": [
      "syntax error in line 7: premature end of file\n"
     ]
    },
    {
     "name": "stderr",
     "output_type": "stream",
     "text": [
      " 78%|███████▊  | 3879/5000 [00:02<00:00, 1680.57it/s]"
     ]
    },
    {
     "name": "stdout",
     "output_type": "stream",
     "text": [
      "Too many commas in 'Peter Boot, Herman Brinkman, Peter de Bruijn, Jan Gielkens, Joke Roelevink, Renske Siemens'\n"
     ]
    },
    {
     "name": "stderr",
     "output_type": "stream",
     "text": [
      " 84%|████████▍ | 4219/5000 [00:02<00:00, 1674.18it/s]"
     ]
    },
    {
     "name": "stdout",
     "output_type": "stream",
     "text": [
      "syntax error in line 10: premature end of file\n"
     ]
    },
    {
     "name": "stderr",
     "output_type": "stream",
     "text": [
      "100%|██████████| 5000/5000 [00:02<00:00, 1668.69it/s]\n"
     ]
    },
    {
     "name": "stdout",
     "output_type": "stream",
     "text": [
      "status\n",
      "success    4996\n",
      "failure       4\n",
      "Name: count, dtype: int64\n",
      "     -  ../data/llm-dump/2010s/WEB.xlsx (WEB)\n",
      "::: ../data/llm-dump/2020s :::\n",
      "     -  ../data/llm-dump/2020s/ADVS.xlsx (ADVS)\n",
      "     -  ../data/llm-dump/2020s/BOOK.xlsx (BOOK)\n"
     ]
    },
    {
     "name": "stderr",
     "output_type": "stream",
     "text": [
      "100%|██████████| 825/825 [00:00<00:00, 1755.10it/s]\n"
     ]
    },
    {
     "name": "stdout",
     "output_type": "stream",
     "text": [
      "Too many commas in 'Dijkhof, E. C. i.s.m. A. Berteloot, J. A. A. M. Biemans, J. W. J. Burgers, V. Van Camp, H. van Engen, J. S. Love, E. De Paermentier, A. T. Smith, en M. K. Williams'\n",
      "status\n",
      "success    824\n",
      "failure      1\n",
      "Name: count, dtype: int64\n",
      "     -  ../data/llm-dump/2020s/CHAP.xlsx (CHAP)\n"
     ]
    },
    {
     "name": "stderr",
     "output_type": "stream",
     "text": [
      "100%|██████████| 1627/1627 [00:01<00:00, 1135.95it/s]\n"
     ]
    },
    {
     "name": "stdout",
     "output_type": "stream",
     "text": [
      "status\n",
      "success    1627\n",
      "Name: count, dtype: int64\n",
      "     -  ../data/llm-dump/2020s/EJOUR.xlsx (EJOUR)\n",
      "     -  ../data/llm-dump/2020s/JFULL.xlsx (JFULL)\n",
      "     -  ../data/llm-dump/2020s/JOUR.xlsx (JOUR)\n"
     ]
    },
    {
     "name": "stderr",
     "output_type": "stream",
     "text": [
      " 91%|█████████ | 4553/5000 [00:02<00:00, 1707.41it/s]"
     ]
    },
    {
     "name": "stdout",
     "output_type": "stream",
     "text": [
      "syntax error in line 3: '=' expected\n"
     ]
    },
    {
     "name": "stderr",
     "output_type": "stream",
     "text": [
      "100%|██████████| 5000/5000 [00:02<00:00, 1728.38it/s]\n"
     ]
    },
    {
     "name": "stdout",
     "output_type": "stream",
     "text": [
      "status\n",
      "success    4999\n",
      "failure       1\n",
      "Name: count, dtype: int64\n",
      "     -  ../data/llm-dump/2020s/WEB.xlsx (WEB)\n",
      "::: ../data/llm-dump/misc :::\n",
      "     -  ../data/llm-dump/misc/ADVS.xlsx (ADVS)\n",
      "     -  ../data/llm-dump/misc/BOOK.xlsx (BOOK)\n"
     ]
    },
    {
     "name": "stderr",
     "output_type": "stream",
     "text": [
      " 85%|████████▍ | 1004/1182 [00:00<00:00, 1707.38it/s]"
     ]
    },
    {
     "name": "stdout",
     "output_type": "stream",
     "text": [
      "syntax error in line 7: '}' expected\n"
     ]
    },
    {
     "name": "stderr",
     "output_type": "stream",
     "text": [
      "100%|██████████| 1182/1182 [00:00<00:00, 1671.45it/s]\n"
     ]
    },
    {
     "name": "stdout",
     "output_type": "stream",
     "text": [
      "syntax error in line 7: premature end of file\n",
      "status\n",
      "success    1180\n",
      "failure       2\n",
      "Name: count, dtype: int64\n",
      "     -  ../data/llm-dump/misc/CHAP.xlsx (CHAP)\n"
     ]
    },
    {
     "name": "stderr",
     "output_type": "stream",
     "text": [
      "100%|██████████| 470/470 [00:00<00:00, 1504.31it/s]\n",
      "/Users/mikekestemont/miniconda3/envs/py3.11/lib/python3.11/site-packages/rispy/writer.py:155: UserWarning: label `isbn` not exported\n",
      "  yield from self._format_reference(ref, count=i + 1, n=n)\n"
     ]
    },
    {
     "name": "stdout",
     "output_type": "stream",
     "text": [
      "syntax error in line 14: premature end of file\n",
      "status\n",
      "success    469\n",
      "failure      1\n",
      "Name: count, dtype: int64\n",
      "     -  ../data/llm-dump/misc/EJOUR.xlsx (EJOUR)\n",
      "     -  ../data/llm-dump/misc/JFULL.xlsx (JFULL)\n",
      "     -  ../data/llm-dump/misc/JOUR.xlsx (JOUR)\n"
     ]
    },
    {
     "name": "stderr",
     "output_type": "stream",
     "text": [
      " 47%|████▋     | 1622/3483 [00:00<00:01, 1793.69it/s]"
     ]
    },
    {
     "name": "stdout",
     "output_type": "stream",
     "text": [
      "syntax error in line 9: premature end of file\n"
     ]
    },
    {
     "name": "stderr",
     "output_type": "stream",
     "text": [
      " 93%|█████████▎| 3250/3483 [00:01<00:00, 1755.45it/s]"
     ]
    },
    {
     "name": "stdout",
     "output_type": "stream",
     "text": [
      "syntax error in line 8: premature end of file\n",
      "syntax error in line 8: premature end of file\n"
     ]
    },
    {
     "name": "stderr",
     "output_type": "stream",
     "text": [
      "100%|██████████| 3483/3483 [00:01<00:00, 1767.08it/s]\n"
     ]
    },
    {
     "name": "stdout",
     "output_type": "stream",
     "text": [
      "status\n",
      "success    3480\n",
      "failure       3\n",
      "Name: count, dtype: int64\n",
      "     -  ../data/llm-dump/misc/WEB.xlsx (WEB)\n"
     ]
    }
   ],
   "source": [
    "llm_path = '../data/llm-dump'\n",
    "\n",
    "new_jtitles = Counter()\n",
    "\n",
    "for decade_folder in sorted(glob.glob(f'{llm_path}/*')):\n",
    "    #if '1990s' not in decade_folder:\n",
    "    #        continue\n",
    "    print(':::', decade_folder, ':::')\n",
    "\n",
    "    for spreadsheet_path in sorted(glob.glob(f'{decade_folder}/*.xlsx')):\n",
    "        df = pd.read_excel(spreadsheet_path, header=0, engine='openpyxl')\n",
    "        n = 5000\n",
    "        if len(df) > n:\n",
    "            df = df.sample(n)\n",
    "\n",
    "        if 'bibtex' not in df.columns:\n",
    "            continue\n",
    "    \n",
    "        ptype = os.path.basename(spreadsheet_path).replace('.xlsx', '')\n",
    "        print('     - ', spreadsheet_path, f'({ptype})')\n",
    "\n",
    "        if ptype not in ('BOOK', 'JOUR', 'CHAP'):\n",
    "        #if ptype != 'CHAP':\n",
    "            continue\n",
    "        \n",
    "        # parse the RIS (stored as JSON strings in the spreadsheet)\n",
    "        df['RIS'] = df['RIS'].apply(json.loads)\n",
    "\n",
    "        # clean (and deduplicate the bibtex returned by the LLM)\n",
    "        cleaned = []\n",
    "        for bt in df['bibtex']:\n",
    "            if isinstance(bt, str):\n",
    "                cleaned.append(clean_bibtex(bt))\n",
    "            else:\n",
    "                cleaned.append('')\n",
    "        df['bibtex-clean'] = cleaned\n",
    "\n",
    "        # Update the available RIS entries with newly structure info,\n",
    "        # returned by the LLM (and keep tracked of whether or not that is successful):\n",
    "        updated_ris, status = [], []\n",
    "        for ris, bibtex_str in tqdm(list(zip(df['RIS'], df['bibtex-clean']))):\n",
    "            if isinstance(bibtex_str, str):\n",
    "                try:\n",
    "                    #print(bibtex_parse)\n",
    "                    bibtex_parse = parse_string(bibtex_str, 'bibtex')\n",
    "                    single_key = list(bibtex_parse.entries.keys())[0]\n",
    "                    updated = map_entry[ptype](ris.copy(), bibtex_parse.entries[single_key])\n",
    "\n",
    "                    # keep track of new journal titles which lack a normalized variant,\n",
    "                    # (unless the difference is only in capitalization):\n",
    "                    if ptype == 'JOUR' and 'journal_name' in updated and updated['journal_name'] not in existing_jtitles:\n",
    "                        try:\n",
    "                            updated['journal_name'] = lower2jtitles[updated['journal_name'].lower()]\n",
    "                        except KeyError:\n",
    "                            new_jtitles[updated['journal_name']] += 1\n",
    "                    \n",
    "                    updated['label'] = 'success'\n",
    "                    updated_ris.append(updated)\n",
    "                    status.append('success')\n",
    "                except Exception as e:\n",
    "                    print(e)\n",
    "                    ris['label'] = f'failure ({str(e)})'\n",
    "                    updated_ris.append(ris)\n",
    "                    status.append('failure')\n",
    "            else:\n",
    "                ris['label'] = 'failure'\n",
    "                updated_ris.append(ris)\n",
    "                status.append('failure')\n",
    "\n",
    "        # store the newly merged information as a JSON string that holds a RIS entry:\n",
    "        df['consolidated'] = [json.dumps(r, indent=2, ensure_ascii=False) for r in updated_ris]\n",
    "        df['status'] = status\n",
    "\n",
    "        # re-encode the original RIS entry as a JSON string in the original column:\n",
    "        df['RIS'] = [json.dumps(d, indent=2, ensure_ascii=False) for d in df['RIS']]\n",
    "\n",
    "        # remove the cleaned bibtex string:\n",
    "        del df['bibtex-clean']\n",
    "\n",
    "        # output new spreadsheet:\n",
    "        df.to_excel(spreadsheet_path, index=False, header=True)\n",
    "\n",
    "        # output updated RIS file:\n",
    "        with open(f'{decade_folder}/{ptype}_consolidated.ris', 'w') as bibliography_file:\n",
    "            rispy.dump(updated_ris, bibliography_file)\n",
    "\n",
    "        # show the failure statistics:\n",
    "        print(df['status'].value_counts())"
   ]
  },
  {
   "cell_type": "markdown",
   "id": "6d759fd3",
   "metadata": {},
   "source": [
    "Extract journal titles for which we don't have a normalization yet and map them provionally to the closest available normalized title (using the Levenshtein distance):"
   ]
  },
  {
   "cell_type": "code",
   "execution_count": 13,
   "id": "71a03b77",
   "metadata": {},
   "outputs": [
    {
     "data": {
      "text/html": [
       "<div>\n",
       "<style scoped>\n",
       "    .dataframe tbody tr th:only-of-type {\n",
       "        vertical-align: middle;\n",
       "    }\n",
       "\n",
       "    .dataframe tbody tr th {\n",
       "        vertical-align: top;\n",
       "    }\n",
       "\n",
       "    .dataframe thead th {\n",
       "        text-align: right;\n",
       "    }\n",
       "</style>\n",
       "<table border=\"1\" class=\"dataframe\">\n",
       "  <thead>\n",
       "    <tr style=\"text-align: right;\">\n",
       "      <th></th>\n",
       "      <th>raw title</th>\n",
       "      <th>count</th>\n",
       "      <th>normalized</th>\n",
       "      <th>issn</th>\n",
       "    </tr>\n",
       "  </thead>\n",
       "  <tbody>\n",
       "    <tr>\n",
       "      <th>1310</th>\n",
       "      <td>Bijvoegsel aan Tooneelgids</td>\n",
       "      <td>200</td>\n",
       "      <td>Spiegel van Roermond</td>\n",
       "      <td>1387-8107</td>\n",
       "    </tr>\n",
       "    <tr>\n",
       "      <th>14</th>\n",
       "      <td>Verslagen en mededelingen</td>\n",
       "      <td>183</td>\n",
       "      <td>Verslagen en mededeelingen</td>\n",
       "      <td>1572-6967</td>\n",
       "    </tr>\n",
       "    <tr>\n",
       "      <th>95</th>\n",
       "      <td>Dietsche warande &amp; Belfort</td>\n",
       "      <td>116</td>\n",
       "      <td>Dietsche warande en Belfort</td>\n",
       "      <td>0012-2645</td>\n",
       "    </tr>\n",
       "    <tr>\n",
       "      <th>154</th>\n",
       "      <td>Jaarboek van de Maatschappij der Nederlandse L...</td>\n",
       "      <td>114</td>\n",
       "      <td>Jaarboek van de Maatschappij der Nederlandsche...</td>\n",
       "      <td>0921-4879</td>\n",
       "    </tr>\n",
       "    <tr>\n",
       "      <th>1297</th>\n",
       "      <td>Jong Dietschland</td>\n",
       "      <td>86</td>\n",
       "      <td>Jong Holland</td>\n",
       "      <td>0168-9193</td>\n",
       "    </tr>\n",
       "    <tr>\n",
       "      <th>1069</th>\n",
       "      <td>De Reactor</td>\n",
       "      <td>71</td>\n",
       "      <td>De revisor</td>\n",
       "      <td>0302-8852</td>\n",
       "    </tr>\n",
       "    <tr>\n",
       "      <th>26</th>\n",
       "      <td>Nieuwe taalgids</td>\n",
       "      <td>69</td>\n",
       "      <td>De nieuwe taalgids</td>\n",
       "      <td>0028-9922</td>\n",
       "    </tr>\n",
       "    <tr>\n",
       "      <th>13</th>\n",
       "      <td>Boek nu</td>\n",
       "      <td>60</td>\n",
       "      <td>Boekenbus</td>\n",
       "      <td>NaN</td>\n",
       "    </tr>\n",
       "    <tr>\n",
       "      <th>527</th>\n",
       "      <td>Bijdragen en mededelingen betreffende de gesch...</td>\n",
       "      <td>56</td>\n",
       "      <td>Bijdragen voor de geschiedenis der Nederlanden</td>\n",
       "      <td>0169-457X</td>\n",
       "    </tr>\n",
       "    <tr>\n",
       "      <th>83</th>\n",
       "      <td>Tooneelleven</td>\n",
       "      <td>50</td>\n",
       "      <td>Tooneelgids</td>\n",
       "      <td>NaN</td>\n",
       "    </tr>\n",
       "    <tr>\n",
       "      <th>1132</th>\n",
       "      <td>Neerlandica Wratislaviensia</td>\n",
       "      <td>50</td>\n",
       "      <td>Neerlandica americana</td>\n",
       "      <td>0047-9268</td>\n",
       "    </tr>\n",
       "    <tr>\n",
       "      <th>280</th>\n",
       "      <td>Mededelingen van de Documentatiedienst; Nederl...</td>\n",
       "      <td>42</td>\n",
       "      <td>Mededelingen van de Documentatiedienst Nederla...</td>\n",
       "      <td>NaN</td>\n",
       "    </tr>\n",
       "    <tr>\n",
       "      <th>221</th>\n",
       "      <td>Belgisch tijdschrift voor filologie en geschie...</td>\n",
       "      <td>41</td>\n",
       "      <td>Tijdschrift voor heemkunde en geschiedenis</td>\n",
       "      <td>NaN</td>\n",
       "    </tr>\n",
       "    <tr>\n",
       "      <th>150</th>\n",
       "      <td>De Vlaamse gids</td>\n",
       "      <td>40</td>\n",
       "      <td>De Vlaamsche gids</td>\n",
       "      <td>0042-7675</td>\n",
       "    </tr>\n",
       "    <tr>\n",
       "      <th>996</th>\n",
       "      <td>Staalkaart</td>\n",
       "      <td>38</td>\n",
       "      <td>Pasarkrant</td>\n",
       "      <td>0926-2105</td>\n",
       "    </tr>\n",
       "    <tr>\n",
       "      <th>139</th>\n",
       "      <td>Verslagen en mededelingen van de Koninklijke V...</td>\n",
       "      <td>37</td>\n",
       "      <td>Verslagen en mededeelingen der Koninklijke Vla...</td>\n",
       "      <td>0770-786X</td>\n",
       "    </tr>\n",
       "    <tr>\n",
       "      <th>880</th>\n",
       "      <td>Neder-L</td>\n",
       "      <td>35</td>\n",
       "      <td>Nederland</td>\n",
       "      <td>NaN</td>\n",
       "    </tr>\n",
       "    <tr>\n",
       "      <th>10</th>\n",
       "      <td>Revue belge de philologie et d'histoire</td>\n",
       "      <td>31</td>\n",
       "      <td>Revue belge d'archéologie et d'histoire de l'art</td>\n",
       "      <td>0035-077X</td>\n",
       "    </tr>\n",
       "    <tr>\n",
       "      <th>9</th>\n",
       "      <td>Leuvense bijdragen, Bijblad</td>\n",
       "      <td>28</td>\n",
       "      <td>Leuvense bijdragen</td>\n",
       "      <td>0773-4557</td>\n",
       "    </tr>\n",
       "    <tr>\n",
       "      <th>989</th>\n",
       "      <td>Acta Neerlandica</td>\n",
       "      <td>28</td>\n",
       "      <td>Studia Neerlandica</td>\n",
       "      <td>NaN</td>\n",
       "    </tr>\n",
       "    <tr>\n",
       "      <th>806</th>\n",
       "      <td>Tijdschrift voor Nederlandse taal- en letterku...</td>\n",
       "      <td>28</td>\n",
       "      <td>Tijdschrift voor Nederlandse taal- en letterkunde</td>\n",
       "      <td>0040-7550</td>\n",
       "    </tr>\n",
       "    <tr>\n",
       "      <th>1046</th>\n",
       "      <td>nY</td>\n",
       "      <td>28</td>\n",
       "      <td>TT</td>\n",
       "      <td>0923-246X</td>\n",
       "    </tr>\n",
       "    <tr>\n",
       "      <th>1194</th>\n",
       "      <td>Verslagen en mededelingen van de Koninklijke A...</td>\n",
       "      <td>27</td>\n",
       "      <td>Verslagen en mededelingen van de Koninklijke A...</td>\n",
       "      <td>0770-786X</td>\n",
       "    </tr>\n",
       "    <tr>\n",
       "      <th>1285</th>\n",
       "      <td>Mededeelingen van het Karel van de Woestijne-G...</td>\n",
       "      <td>26</td>\n",
       "      <td>Mededelingen van het Cyriel Buysse Genootschap</td>\n",
       "      <td>0772-1455</td>\n",
       "    </tr>\n",
       "    <tr>\n",
       "      <th>1136</th>\n",
       "      <td>Bormshuis - Broederband</td>\n",
       "      <td>25</td>\n",
       "      <td>Vrij Nederland</td>\n",
       "      <td>0165-666X</td>\n",
       "    </tr>\n",
       "    <tr>\n",
       "      <th>394</th>\n",
       "      <td>Journal of Dutch Literature</td>\n",
       "      <td>25</td>\n",
       "      <td>Journal of Dutch Literature (JDL)</td>\n",
       "      <td>2211-0887</td>\n",
       "    </tr>\n",
       "    <tr>\n",
       "      <th>39</th>\n",
       "      <td>Nieuwe stem</td>\n",
       "      <td>21</td>\n",
       "      <td>Nieuwe stemmen</td>\n",
       "      <td>NaN</td>\n",
       "    </tr>\n",
       "    <tr>\n",
       "      <th>320</th>\n",
       "      <td>Germanistik</td>\n",
       "      <td>20</td>\n",
       "      <td>Germania</td>\n",
       "      <td>NaN</td>\n",
       "    </tr>\n",
       "    <tr>\n",
       "      <th>22</th>\n",
       "      <td>Waag</td>\n",
       "      <td>20</td>\n",
       "      <td>Yang</td>\n",
       "      <td>0775-2830</td>\n",
       "    </tr>\n",
       "    <tr>\n",
       "      <th>1157</th>\n",
       "      <td>Jaarboek van de Koninklijke Academie voor Nede...</td>\n",
       "      <td>20</td>\n",
       "      <td>Jaarboek van de Koninklijke Academie voor Nede...</td>\n",
       "      <td>0770-7762</td>\n",
       "    </tr>\n",
       "  </tbody>\n",
       "</table>\n",
       "</div>"
      ],
      "text/plain": [
       "                                              raw title  count  \\\n",
       "1310                         Bijvoegsel aan Tooneelgids    200   \n",
       "14                            Verslagen en mededelingen    183   \n",
       "95                           Dietsche warande & Belfort    116   \n",
       "154   Jaarboek van de Maatschappij der Nederlandse L...    114   \n",
       "1297                                   Jong Dietschland     86   \n",
       "1069                                         De Reactor     71   \n",
       "26                                      Nieuwe taalgids     69   \n",
       "13                                              Boek nu     60   \n",
       "527   Bijdragen en mededelingen betreffende de gesch...     56   \n",
       "83                                         Tooneelleven     50   \n",
       "1132                        Neerlandica Wratislaviensia     50   \n",
       "280   Mededelingen van de Documentatiedienst; Nederl...     42   \n",
       "221   Belgisch tijdschrift voor filologie en geschie...     41   \n",
       "150                                     De Vlaamse gids     40   \n",
       "996                                          Staalkaart     38   \n",
       "139   Verslagen en mededelingen van de Koninklijke V...     37   \n",
       "880                                             Neder-L     35   \n",
       "10              Revue belge de philologie et d'histoire     31   \n",
       "9                           Leuvense bijdragen, Bijblad     28   \n",
       "989                                    Acta Neerlandica     28   \n",
       "806   Tijdschrift voor Nederlandse taal- en letterku...     28   \n",
       "1046                                                 nY     28   \n",
       "1194  Verslagen en mededelingen van de Koninklijke A...     27   \n",
       "1285  Mededeelingen van het Karel van de Woestijne-G...     26   \n",
       "1136                            Bormshuis - Broederband     25   \n",
       "394                         Journal of Dutch Literature     25   \n",
       "39                                          Nieuwe stem     21   \n",
       "320                                         Germanistik     20   \n",
       "22                                                 Waag     20   \n",
       "1157  Jaarboek van de Koninklijke Academie voor Nede...     20   \n",
       "\n",
       "                                             normalized       issn  \n",
       "1310                               Spiegel van Roermond  1387-8107  \n",
       "14                           Verslagen en mededeelingen  1572-6967  \n",
       "95                          Dietsche warande en Belfort  0012-2645  \n",
       "154   Jaarboek van de Maatschappij der Nederlandsche...  0921-4879  \n",
       "1297                                       Jong Holland  0168-9193  \n",
       "1069                                         De revisor  0302-8852  \n",
       "26                                   De nieuwe taalgids  0028-9922  \n",
       "13                                            Boekenbus        NaN  \n",
       "527      Bijdragen voor de geschiedenis der Nederlanden  0169-457X  \n",
       "83                                          Tooneelgids        NaN  \n",
       "1132                              Neerlandica americana  0047-9268  \n",
       "280   Mededelingen van de Documentatiedienst Nederla...        NaN  \n",
       "221          Tijdschrift voor heemkunde en geschiedenis        NaN  \n",
       "150                                   De Vlaamsche gids  0042-7675  \n",
       "996                                          Pasarkrant  0926-2105  \n",
       "139   Verslagen en mededeelingen der Koninklijke Vla...  0770-786X  \n",
       "880                                           Nederland        NaN  \n",
       "10     Revue belge d'archéologie et d'histoire de l'art  0035-077X  \n",
       "9                                   Leuvense bijdragen   0773-4557  \n",
       "989                                  Studia Neerlandica        NaN  \n",
       "806   Tijdschrift voor Nederlandse taal- en letterkunde  0040-7550  \n",
       "1046                                                 TT  0923-246X  \n",
       "1194  Verslagen en mededelingen van de Koninklijke A...  0770-786X  \n",
       "1285     Mededelingen van het Cyriel Buysse Genootschap  0772-1455  \n",
       "1136                                     Vrij Nederland  0165-666X  \n",
       "394                   Journal of Dutch Literature (JDL)  2211-0887  \n",
       "39                                       Nieuwe stemmen        NaN  \n",
       "320                                            Germania        NaN  \n",
       "22                                                 Yang  0775-2830  \n",
       "1157  Jaarboek van de Koninklijke Academie voor Nede...  0770-7762  "
      ]
     },
     "execution_count": 13,
     "metadata": {},
     "output_type": "execute_result"
    }
   ],
   "source": [
    "mappings = []\n",
    "for nj, cnt in new_jtitles.items():\n",
    "    distances = np.array([lev.distance(nj, oj) for oj in jtitle['normalized']])\n",
    "    mappings.append([nj, cnt] + list(jtitle.iloc[np.argmin(distances)][['normalized', 'issn']]))\n",
    "\n",
    "mappings = pd.DataFrame(mappings, columns=['raw title', 'count', 'normalized', 'issn'])\n",
    "mappings = mappings.sort_values('count', ascending=False)\n",
    "mappings.head(30)"
   ]
  },
  {
   "cell_type": "markdown",
   "id": "b61476c0",
   "metadata": {},
   "source": [
    "We save this spreadsheet for manual correction:"
   ]
  },
  {
   "cell_type": "code",
   "execution_count": 14,
   "id": "1316bcd9",
   "metadata": {},
   "outputs": [],
   "source": [
    "mappings.to_excel('../data/journal_titles_2ndBatch.xlsx', header=True, index=False)"
   ]
  },
  {
   "cell_type": "code",
   "execution_count": null,
   "id": "fe12a9ce",
   "metadata": {},
   "outputs": [],
   "source": []
  }
 ],
 "metadata": {
  "kernelspec": {
   "display_name": "py3.11",
   "language": "python",
   "name": "py3.11"
  },
  "language_info": {
   "codemirror_mode": {
    "name": "ipython",
    "version": 3
   },
   "file_extension": ".py",
   "mimetype": "text/x-python",
   "name": "python",
   "nbconvert_exporter": "python",
   "pygments_lexer": "ipython3",
   "version": "3.11.8"
  }
 },
 "nbformat": 4,
 "nbformat_minor": 5
}
