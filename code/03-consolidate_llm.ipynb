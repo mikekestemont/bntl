{
 "cells": [
  {
   "cell_type": "code",
   "execution_count": 1,
   "id": "fifth-deployment",
   "metadata": {
    "tags": []
   },
   "outputs": [],
   "source": [
    "import re\n",
    "import os\n",
    "import json\n",
    "import glob\n",
    "from copy import deepcopy\n",
    "from collections     import Counter\n",
    "\n",
    "from tqdm import tqdm\n",
    "import pandas as pd\n",
    "import Levenshtein as lev\n",
    "import numpy as np\n",
    "\n",
    "from pybtex.database import parse_string\n",
    "from pylatexenc.latex2text import LatexNodes2Text\n",
    "conv = LatexNodes2Text()"
   ]
  },
  {
   "cell_type": "code",
   "execution_count": 2,
   "id": "795e4c54",
   "metadata": {},
   "outputs": [],
   "source": [
    "import rispy\n",
    "mappings = deepcopy(rispy.TAG_KEY_MAPPING)\n",
    "mappings['AN'] = 'extra'\n",
    "mappings['AB'] = 'orig_abstract'\n",
    "mappings['CN'] = 'call_number'\n",
    "mappings['SV'] = 'series_volume'"
   ]
  },
  {
   "cell_type": "code",
   "execution_count": 3,
   "id": "3fa9b837",
   "metadata": {},
   "outputs": [],
   "source": [
    "def extract_isbn(input_string):\n",
    "    \"\"\"\n",
    "    Extract an ISBN from an unstructured text string.\n",
    "    \n",
    "    The function searches for ISBN numbers that may include a check character 'X' at the end.\n",
    "    It recognizes ISBNs both with and without spaces or hyphens between segments.\n",
    "    \"\"\"\n",
    "    # Regular expression to match \"ISBN:\" followed by any combination of digits, hyphens, and possibly ending with an 'X'\n",
    "    pattern = r'ISBN:?\\s*([\\d\\-]+X?)'\n",
    "    \n",
    "    match = re.search(pattern, input_string)\n",
    "    if match:\n",
    "        return match.group(1)  # Return the matched part (ISBN number)\n",
    "    else:\n",
    "        return None  # No ISBN found following the \"ISBN:\" prefix\n",
    "    \n",
    "import re\n",
    "\n",
    "def extract_issn(input_string):\n",
    "    \"\"\"\n",
    "    Extract an ISSN from an unstructured text string.\n",
    "    \n",
    "    The function searches for ISSN numbers, which are typically in the format '1234-5678'.\n",
    "    It recognizes ISSNs both with and without spaces or hyphens between segments.\n",
    "    \"\"\"\n",
    "    # Regular expression to match \"ISSN:\" followed by a valid ISSN format\n",
    "    pattern = r'ISSN:?\\s*(\\d{4}-\\d{3}[\\dX])'\n",
    "    \n",
    "    match = re.search(pattern, input_string)\n",
    "    if match:\n",
    "        return match.group(1)  # Return the matched part (ISSN number)\n",
    "    else:\n",
    "        return None  # No ISSN found"
   ]
  },
  {
   "cell_type": "code",
   "execution_count": 4,
   "id": "b1c1f079",
   "metadata": {},
   "outputs": [
    {
     "data": {
      "text/plain": [
       "'978-0-19-880393-5'"
      ]
     },
     "execution_count": 4,
     "metadata": {},
     "output_type": "execute_result"
    }
   ],
   "source": [
    "extract_isbn(\"ISBN: 978-0-19-880393-5. P. VII-VIII Acknowledgements; p. XI-XII List of illustrations; p. XIII-XXIV Preface: what this book is (not) about; p. 1-21 Introduction: biblical philology in the sixteenth century; p. 253-280 Bibliography; p. 281-296 Index.\")"
   ]
  },
  {
   "cell_type": "code",
   "execution_count": 5,
   "id": "8f435a10",
   "metadata": {},
   "outputs": [],
   "source": [
    "def map_chapter(ris, bibt):\n",
    "    # make editors authors, if applicable:\n",
    "    if 'editor' in bibt.persons:\n",
    "        if 'author' in bibt.persons:\n",
    "            ris['first_authors'] = [conv.latex_to_text(str(editor)) for editor in bibt.persons['author']]\n",
    "        else:\n",
    "            if 'authors' in ris:\n",
    "                del ris['authors']\n",
    "        ris['secondary_authors'] = [conv.latex_to_text(str(editor)) for editor in bibt.persons['editor']]\n",
    "\n",
    "    if 'first_authors' in ris and 'secondary_authors' in ris:\n",
    "        if 'authors' in ris:\n",
    "            del ris['authors']\n",
    "\n",
    "    # add translators\n",
    "    if 'translator' in bibt.fields:\n",
    "        ris['tertiary_authors'] = conv.latex_to_text(bibt.fields['translator']).split(' and ')\n",
    "\n",
    "    for f in bibt.fields:\n",
    "        bibt.fields[f] = conv.latex_to_text(bibt.fields[f])\n",
    "    \n",
    "    # replace non-distinct title with parsed journal title:\n",
    "    if 'title' in bibt.fields:\n",
    "        ris['extra'] = ris['title']\n",
    "        ris['title'] = bibt.fields['title']\n",
    "\n",
    "    if 'booktitle' in bibt.fields:\n",
    "        ris['secondary_title'] = bibt.fields['booktitle']\n",
    "    \n",
    "    if 'pagetotal' in bibt.fields:\n",
    "        ris['end_page'] = bibt.fields['pagetotal']\n",
    "    \n",
    "    if 'pages' in bibt.fields:\n",
    "        pages = bibt.fields['pages'].split('-')\n",
    "        if len(pages) == 2:\n",
    "            ris['start_page'] = pages[0]\n",
    "            ris['end_page'] = pages[1]\n",
    "        else:\n",
    "            ris['start_page'] = bibt.fields['pages']\n",
    "    \n",
    "    if 'publisher' in bibt.fields:\n",
    "        ris['publisher'] = bibt.fields['publisher']\n",
    "\n",
    "    if 'place' in bibt.fields:\n",
    "        ris['place_published'] = bibt.fields['place']\n",
    "\n",
    "    if 'address' in bibt.fields:\n",
    "        ris['place_published'] = bibt.fields['address']\n",
    "    \n",
    "    if 'location' in bibt.fields:\n",
    "        ris['place_published'] = bibt.fields['location']\n",
    "\n",
    "    if 'series' in bibt.fields:\n",
    "        ris['tertiary_title'] = bibt.fields['series']\n",
    "\n",
    "    if 'volume' in bibt.fields:\n",
    "        ris['volume'] = bibt.fields['volume']\n",
    "\n",
    "    if 'number' in bibt.fields:\n",
    "        ris['series_volume'] = bibt.fields['number']\n",
    "\n",
    "    if 'edition' in bibt.fields:\n",
    "        ris['edition'] = bibt.fields['edition']\n",
    "    \n",
    "    return ris"
   ]
  },
  {
   "cell_type": "markdown",
   "id": "6b6c45da",
   "metadata": {},
   "source": [
    "Collect already available normalizations for journal titles (so that we can find out below which one we miss):"
   ]
  },
  {
   "cell_type": "code",
   "execution_count": 6,
   "id": "10036c79",
   "metadata": {},
   "outputs": [
    {
     "data": {
      "text/html": [
       "<div>\n",
       "<style scoped>\n",
       "    .dataframe tbody tr th:only-of-type {\n",
       "        vertical-align: middle;\n",
       "    }\n",
       "\n",
       "    .dataframe tbody tr th {\n",
       "        vertical-align: top;\n",
       "    }\n",
       "\n",
       "    .dataframe thead th {\n",
       "        text-align: right;\n",
       "    }\n",
       "</style>\n",
       "<table border=\"1\" class=\"dataframe\">\n",
       "  <thead>\n",
       "    <tr style=\"text-align: right;\">\n",
       "      <th></th>\n",
       "      <th>secondary_title</th>\n",
       "      <th>normalized</th>\n",
       "      <th>count</th>\n",
       "      <th>issn</th>\n",
       "    </tr>\n",
       "  </thead>\n",
       "  <tbody>\n",
       "    <tr>\n",
       "      <th>0</th>\n",
       "      <td>Ons erfdeel: kultureel tijdschrift voor Zuidvl...</td>\n",
       "      <td>Ons erfdeel</td>\n",
       "      <td>2660.0</td>\n",
       "      <td>0030-2651</td>\n",
       "    </tr>\n",
       "    <tr>\n",
       "      <th>1</th>\n",
       "      <td>Dietsche warande en Belfort: tijdschrift voor ...</td>\n",
       "      <td>Dietsche warande en Belfort</td>\n",
       "      <td>2461.0</td>\n",
       "      <td>0012-2645</td>\n",
       "    </tr>\n",
       "    <tr>\n",
       "      <th>2</th>\n",
       "      <td>De nieuwe taalgids: tweemaandelijks tijdschrif...</td>\n",
       "      <td>De nieuwe taalgids</td>\n",
       "      <td>2359.0</td>\n",
       "      <td>0028-9922</td>\n",
       "    </tr>\n",
       "    <tr>\n",
       "      <th>3</th>\n",
       "      <td>Bzzlletin; Stichting BZZTôH Teater. Voorburg: ...</td>\n",
       "      <td>Bzzlletin</td>\n",
       "      <td>1638.0</td>\n",
       "      <td>0165-0858</td>\n",
       "    </tr>\n",
       "    <tr>\n",
       "      <th>4</th>\n",
       "      <td>Poëziekrant: tweemaandelijks tijdschrift. Gent...</td>\n",
       "      <td>Poëziekrant</td>\n",
       "      <td>1573.0</td>\n",
       "      <td>2030-0638</td>\n",
       "    </tr>\n",
       "    <tr>\n",
       "      <th>5</th>\n",
       "      <td>Onze taal: maandblad van het Genootschap Onze ...</td>\n",
       "      <td>Onze taal</td>\n",
       "      <td>1322.0</td>\n",
       "      <td>0165-7828</td>\n",
       "    </tr>\n",
       "    <tr>\n",
       "      <th>6</th>\n",
       "      <td>Vlaanderen: tweemaandelijks tijdschrift voor k...</td>\n",
       "      <td>Vlaanderen</td>\n",
       "      <td>1312.0</td>\n",
       "      <td>0042-7683</td>\n",
       "    </tr>\n",
       "    <tr>\n",
       "      <th>7</th>\n",
       "      <td>De gids: nieuwe vaderlandsche letteroefeningen...</td>\n",
       "      <td>De gids</td>\n",
       "      <td>1249.0</td>\n",
       "      <td>0016-9730</td>\n",
       "    </tr>\n",
       "    <tr>\n",
       "      <th>8</th>\n",
       "      <td>Levende talen: berichten en mededelingen van d...</td>\n",
       "      <td>Levende talen</td>\n",
       "      <td>1239.0</td>\n",
       "      <td>0024-1539</td>\n",
       "    </tr>\n",
       "    <tr>\n",
       "      <th>9</th>\n",
       "      <td>Tijdschrift voor Nederlandse taal- en letterku...</td>\n",
       "      <td>Tijdschrift voor Nederlandse taal- en letterkunde</td>\n",
       "      <td>962.0</td>\n",
       "      <td>0040-7550</td>\n",
       "    </tr>\n",
       "    <tr>\n",
       "      <th>10</th>\n",
       "      <td>Literatuur: tijdschrift over Nederlandse lette...</td>\n",
       "      <td>Literatuur</td>\n",
       "      <td>926.0</td>\n",
       "      <td>0168-7050</td>\n",
       "    </tr>\n",
       "    <tr>\n",
       "      <th>11</th>\n",
       "      <td>Leesidee: kritisch-bibliografisch tijdschrift;...</td>\n",
       "      <td>Leesidee</td>\n",
       "      <td>918.0</td>\n",
       "      <td>1370-1053</td>\n",
       "    </tr>\n",
       "    <tr>\n",
       "      <th>12</th>\n",
       "      <td>Maatstaf: maandblad voor letteren. 's-Gravenha...</td>\n",
       "      <td>Maatstaf</td>\n",
       "      <td>886.0</td>\n",
       "      <td>0024-8851</td>\n",
       "    </tr>\n",
       "    <tr>\n",
       "      <th>13</th>\n",
       "      <td>De periscoop: spiegel van het literair en arti...</td>\n",
       "      <td>De periscoop</td>\n",
       "      <td>853.0</td>\n",
       "      <td>NaN</td>\n",
       "    </tr>\n",
       "    <tr>\n",
       "      <th>14</th>\n",
       "      <td>Het boek van nu: maandblad voor boekenvrienden...</td>\n",
       "      <td>Het boek van nu</td>\n",
       "      <td>813.0</td>\n",
       "      <td>NaN</td>\n",
       "    </tr>\n",
       "    <tr>\n",
       "      <th>15</th>\n",
       "      <td>Kreatief: driemaandelijks literair- en kunstkr...</td>\n",
       "      <td>Kreatief</td>\n",
       "      <td>808.0</td>\n",
       "      <td>0772-6376</td>\n",
       "    </tr>\n",
       "    <tr>\n",
       "      <th>16</th>\n",
       "      <td>Critisch bulletin: maandblad voor letterkundig...</td>\n",
       "      <td>Critisch bulletin</td>\n",
       "      <td>773.0</td>\n",
       "      <td>NaN</td>\n",
       "    </tr>\n",
       "    <tr>\n",
       "      <th>17</th>\n",
       "      <td>Biekorf: dat is een leer- en leesblad voor all...</td>\n",
       "      <td>Biekorf</td>\n",
       "      <td>762.0</td>\n",
       "      <td>NaN</td>\n",
       "    </tr>\n",
       "    <tr>\n",
       "      <th>18</th>\n",
       "      <td>Kruispunt: driemaandelijks tijdschrift. Brugge...</td>\n",
       "      <td>Kruispunt</td>\n",
       "      <td>745.0</td>\n",
       "      <td>0774-7233</td>\n",
       "    </tr>\n",
       "    <tr>\n",
       "      <th>19</th>\n",
       "      <td>Neerlandia: orgaan van het Algemeen Nederlands...</td>\n",
       "      <td>Neerlandia</td>\n",
       "      <td>729.0</td>\n",
       "      <td>0028-2383</td>\n",
       "    </tr>\n",
       "    <tr>\n",
       "      <th>20</th>\n",
       "      <td>Tirade. Amsterdam: Van Oorschot, 1957-....</td>\n",
       "      <td>Tirade</td>\n",
       "      <td>705.0</td>\n",
       "      <td>NaN</td>\n",
       "    </tr>\n",
       "    <tr>\n",
       "      <th>21</th>\n",
       "      <td>De Vlaamsche gids: algemeen tweemaandelijksch ...</td>\n",
       "      <td>De Vlaamsche gids</td>\n",
       "      <td>685.0</td>\n",
       "      <td>0042-7675</td>\n",
       "    </tr>\n",
       "    <tr>\n",
       "      <th>22</th>\n",
       "      <td>Septentrion: revue de culture néerlandaise. Re...</td>\n",
       "      <td>Septentrion</td>\n",
       "      <td>675.0</td>\n",
       "      <td>0771-8934</td>\n",
       "    </tr>\n",
       "    <tr>\n",
       "      <th>23</th>\n",
       "      <td>Ontmoeting: letterkundig en algemeen-cultureel...</td>\n",
       "      <td>Ontmoeting</td>\n",
       "      <td>650.0</td>\n",
       "      <td>NaN</td>\n",
       "    </tr>\n",
       "    <tr>\n",
       "      <th>24</th>\n",
       "      <td>Spiegel der letteren: tijdschrift voor Nederla...</td>\n",
       "      <td>Spiegel der letteren</td>\n",
       "      <td>643.0</td>\n",
       "      <td>0038-7479</td>\n",
       "    </tr>\n",
       "    <tr>\n",
       "      <th>25</th>\n",
       "      <td>Spektator: tijdschrift voor Neerlandistiek. Gr...</td>\n",
       "      <td>Spektator</td>\n",
       "      <td>631.0</td>\n",
       "      <td>0165-084X</td>\n",
       "    </tr>\n",
       "    <tr>\n",
       "      <th>26</th>\n",
       "      <td>Dooijes, Dick. Boektypografische verkenningen:...</td>\n",
       "      <td>Dooijes, Dick</td>\n",
       "      <td>603.0</td>\n",
       "      <td>NaN</td>\n",
       "    </tr>\n",
       "    <tr>\n",
       "      <th>27</th>\n",
       "      <td>Yang: tijdschrift voor literatuur en kommunika...</td>\n",
       "      <td>Yang</td>\n",
       "      <td>602.0</td>\n",
       "      <td>0775-2830</td>\n",
       "    </tr>\n",
       "    <tr>\n",
       "      <th>28</th>\n",
       "      <td>Taal en tongval: tijdschrift voor de studie va...</td>\n",
       "      <td>Taal en tongval</td>\n",
       "      <td>561.0</td>\n",
       "      <td>0039-8691</td>\n",
       "    </tr>\n",
       "    <tr>\n",
       "      <th>29</th>\n",
       "      <td>Verslagen en mededelingen van de Koninklijke A...</td>\n",
       "      <td>Verslagen en mededelingen van de Koninklijke A...</td>\n",
       "      <td>559.0</td>\n",
       "      <td>0770-786X</td>\n",
       "    </tr>\n",
       "  </tbody>\n",
       "</table>\n",
       "</div>"
      ],
      "text/plain": [
       "                                      secondary_title  \\\n",
       "0   Ons erfdeel: kultureel tijdschrift voor Zuidvl...   \n",
       "1   Dietsche warande en Belfort: tijdschrift voor ...   \n",
       "2   De nieuwe taalgids: tweemaandelijks tijdschrif...   \n",
       "3   Bzzlletin; Stichting BZZTôH Teater. Voorburg: ...   \n",
       "4   Poëziekrant: tweemaandelijks tijdschrift. Gent...   \n",
       "5   Onze taal: maandblad van het Genootschap Onze ...   \n",
       "6   Vlaanderen: tweemaandelijks tijdschrift voor k...   \n",
       "7   De gids: nieuwe vaderlandsche letteroefeningen...   \n",
       "8   Levende talen: berichten en mededelingen van d...   \n",
       "9   Tijdschrift voor Nederlandse taal- en letterku...   \n",
       "10  Literatuur: tijdschrift over Nederlandse lette...   \n",
       "11  Leesidee: kritisch-bibliografisch tijdschrift;...   \n",
       "12  Maatstaf: maandblad voor letteren. 's-Gravenha...   \n",
       "13  De periscoop: spiegel van het literair en arti...   \n",
       "14  Het boek van nu: maandblad voor boekenvrienden...   \n",
       "15  Kreatief: driemaandelijks literair- en kunstkr...   \n",
       "16  Critisch bulletin: maandblad voor letterkundig...   \n",
       "17  Biekorf: dat is een leer- en leesblad voor all...   \n",
       "18  Kruispunt: driemaandelijks tijdschrift. Brugge...   \n",
       "19  Neerlandia: orgaan van het Algemeen Nederlands...   \n",
       "20         Tirade. Amsterdam: Van Oorschot, 1957-....   \n",
       "21  De Vlaamsche gids: algemeen tweemaandelijksch ...   \n",
       "22  Septentrion: revue de culture néerlandaise. Re...   \n",
       "23  Ontmoeting: letterkundig en algemeen-cultureel...   \n",
       "24  Spiegel der letteren: tijdschrift voor Nederla...   \n",
       "25  Spektator: tijdschrift voor Neerlandistiek. Gr...   \n",
       "26  Dooijes, Dick. Boektypografische verkenningen:...   \n",
       "27  Yang: tijdschrift voor literatuur en kommunika...   \n",
       "28  Taal en tongval: tijdschrift voor de studie va...   \n",
       "29  Verslagen en mededelingen van de Koninklijke A...   \n",
       "\n",
       "                                           normalized   count       issn  \n",
       "0                                         Ons erfdeel  2660.0  0030-2651  \n",
       "1                         Dietsche warande en Belfort  2461.0  0012-2645  \n",
       "2                                  De nieuwe taalgids  2359.0  0028-9922  \n",
       "3                                           Bzzlletin  1638.0  0165-0858  \n",
       "4                                         Poëziekrant  1573.0  2030-0638  \n",
       "5                                           Onze taal  1322.0  0165-7828  \n",
       "6                                          Vlaanderen  1312.0  0042-7683  \n",
       "7                                             De gids  1249.0  0016-9730  \n",
       "8                                       Levende talen  1239.0  0024-1539  \n",
       "9   Tijdschrift voor Nederlandse taal- en letterkunde   962.0  0040-7550  \n",
       "10                                         Literatuur   926.0  0168-7050  \n",
       "11                                           Leesidee   918.0  1370-1053  \n",
       "12                                           Maatstaf   886.0  0024-8851  \n",
       "13                                       De periscoop   853.0        NaN  \n",
       "14                                    Het boek van nu   813.0        NaN  \n",
       "15                                           Kreatief   808.0  0772-6376  \n",
       "16                                  Critisch bulletin   773.0        NaN  \n",
       "17                                            Biekorf   762.0        NaN  \n",
       "18                                          Kruispunt   745.0  0774-7233  \n",
       "19                                         Neerlandia   729.0  0028-2383  \n",
       "20                                             Tirade   705.0        NaN  \n",
       "21                                  De Vlaamsche gids   685.0  0042-7675  \n",
       "22                                        Septentrion   675.0  0771-8934  \n",
       "23                                         Ontmoeting   650.0        NaN  \n",
       "24                               Spiegel der letteren   643.0  0038-7479  \n",
       "25                                          Spektator   631.0  0165-084X  \n",
       "26                                      Dooijes, Dick   603.0        NaN  \n",
       "27                                               Yang   602.0  0775-2830  \n",
       "28                                    Taal en tongval   561.0  0039-8691  \n",
       "29  Verslagen en mededelingen van de Koninklijke A...   559.0  0770-786X  "
      ]
     },
     "execution_count": 6,
     "metadata": {},
     "output_type": "execute_result"
    }
   ],
   "source": [
    "jtitle = pd.read_excel('../data/journal_titles_master.xlsx')\n",
    "existing_jtitles = set(jtitle['normalized'])\n",
    "lower2jtitles = dict(zip(jtitle['normalized'].str.lower(), jtitle['normalized']))\n",
    "jtitle.head(30)"
   ]
  },
  {
   "cell_type": "code",
   "execution_count": 7,
   "id": "fb85e467",
   "metadata": {},
   "outputs": [],
   "source": [
    "def map_journal(ris, bibt):\n",
    "    \"\"\"\n",
    "    Merges the newly structured information in the bibtex returned\n",
    "    by the LLM into the already available RIS entry from the dump.\n",
    "    Reliably structured information (e.g. authors, year, keywords, ...)\n",
    "    from the RIS entries is maximally retained.\n",
    "    \"\"\"\n",
    "    #print(ris)\n",
    "    #print(bibt)\n",
    "    #print('===============================================')\n",
    "\n",
    "    for f in bibt.fields:\n",
    "        bibt.fields[f] = conv.latex_to_text(bibt.fields[f])\n",
    "    \n",
    "    # replace unstructured title with parsed journal title (if available):\n",
    "    if 'title' in bibt.fields:\n",
    "        # keep track of original title description:\n",
    "        ris['extra'] = [ris['title']]\n",
    "        ris['title'] = bibt.fields['title']\n",
    "        if ris['title'].endswith(','):\n",
    "            ris['title'] = ris['title'][:-1]\n",
    "        if ris['title'].strip().lower() in ('in', 'untitled', 'title of the article', 'title of the article (if provided)'):\n",
    "            ris['title'] = ''\n",
    "    \n",
    "    # parse pagination information:\n",
    "    if 'pagetotal' in bibt.fields:\n",
    "        ris['end_page'] = bibt.fields['pagetotal']\n",
    "    if 'pages' in bibt.fields:\n",
    "        pages = bibt.fields['pages'].split('-')\n",
    "        if len(pages) == 2:\n",
    "            ris['start_page'] = pages[0]\n",
    "            ris['end_page'] = pages[1]\n",
    "        else:\n",
    "            ris['end_page'] = bibt.fields['pages']\n",
    "\n",
    "    # collect parsed journal title (unless we had that information already, which will be more reliable)\n",
    "    if 'secondary_title' not in ris and 'journal' in bibt.fields:\n",
    "        journal = bibt.fields['journal']\n",
    "        # sometimes place of publication of the journal is added: we remove that\n",
    "        journal = journal.split('(')[0].strip()\n",
    "        journal = journal.split('[')[0].strip()\n",
    "        ris['journal_name'] = journal\n",
    "    elif 'secondary_title' in ris and 'journal' in bibt.fields:\n",
    "        ris['journal_name'] = ris['secondary_title']\n",
    "        del ris['secondary_title']\n",
    "\n",
    "    if 'journal_name' in ris:\n",
    "        jn = ris['journal_name']\n",
    "        if jn.startswith('\"') and jn.endswith('\",'):\n",
    "            jn = jn[1:-2]\n",
    "        if jn.count('\"') == 1:\n",
    "            jn = jn.replace('\"', '')\n",
    "        ris['journal_name'] = jn\n",
    "    \n",
    "    # collect information on volume and issue\n",
    "    if 'volume' in bibt.fields:\n",
    "        ris['volume'] = bibt.fields['volume']\n",
    "    if 'number' in bibt.fields:\n",
    "        ris['number'] = bibt.fields['number']\n",
    "    if 'number' not in bibt.fields and 'issue' in bibt.fields:\n",
    "        ris['number'] = bibt.fields['issue']\n",
    "    \n",
    "    if 'volume' in ris and not 'number' in ris:\n",
    "        ris['number'] = ris['volume']\n",
    "        del ris['volume']\n",
    "    \n",
    "    return ris"
   ]
  },
  {
   "cell_type": "code",
   "execution_count": 8,
   "id": "daec9dc6",
   "metadata": {},
   "outputs": [],
   "source": [
    "def map_book(ris, bibt):\n",
    "    # extract ISBN for abstract field, if available:\n",
    "    if 'orig_abstract' in ris:\n",
    "        abstract = ris['orig_abstract']\n",
    "        isbn = extract_isbn(abstract.strip())\n",
    "        if isbn:\n",
    "            ris['issn'] = isbn\n",
    "\n",
    "    # make editors authors, if applicable:\n",
    "    if 'editor' in bibt.persons:\n",
    "        if 'author' in bibt.persons:\n",
    "            ris['first_authors'] = [conv.latex_to_text(str(editor)) for editor in bibt.persons['author']]\n",
    "        else:\n",
    "            if 'author' in ris:\n",
    "                del ris['author']\n",
    "            if 'authors' in ris:\n",
    "                del ris['authors']\n",
    "        ris['tertiary_authors'] = [conv.latex_to_text(str(editor)) for editor in bibt.persons['editor']]\n",
    "\n",
    "    if 'first_authors' in ris and 'tertiary_authors' in ris:\n",
    "        if 'author' in ris:\n",
    "            del ris['author']\n",
    "        if 'authors' in ris:\n",
    "            del ris['authors']\n",
    "\n",
    "    # add translators\n",
    "    if 'translator' in bibt.fields:\n",
    "        ris['subsidiary_authors'] = conv.latex_to_text(bibt.fields['translator']).split(' and ')\n",
    "        if 'author' in ris:\n",
    "            del ris['author']\n",
    "        if 'first_authors' in ris:\n",
    "            del ris['first_authors']\n",
    "\n",
    "    for f in bibt.fields:\n",
    "        bibt.fields[f] = conv.latex_to_text(bibt.fields[f])\n",
    "    \n",
    "    # replace non-distinct title with parsed book title:\n",
    "    if 'title' in bibt.fields and bibt.fields['title']:\n",
    "        try:\n",
    "            ris['extra'].append(ris['title'])\n",
    "        except KeyError:\n",
    "            ris['extra'] = [ris['title']]\n",
    "        ris['title'] = bibt.fields['title']\n",
    "    elif 'booktitle' in bibt.fields and bibt.fields['booktitle']:\n",
    "        try:\n",
    "            ris['extra'].append(ris['title'])\n",
    "        except KeyError:\n",
    "            ris['extra'] = [ris['title']]\n",
    "        ris['title'] = bibt.fields['booktitle']\n",
    "    \n",
    "    if 'pagetotal' in bibt.fields:\n",
    "        ris['start_page'] = bibt.fields['pagetotal']\n",
    "    \n",
    "    if 'pages' in bibt.fields:\n",
    "        ris['start_page'] = bibt.fields['pages']\n",
    "    \n",
    "    if 'publisher' in bibt.fields:\n",
    "        ris['publisher'] = bibt.fields['publisher']\n",
    "\n",
    "    if 'place' in bibt.fields:\n",
    "        ris['place_published'] = bibt.fields['place']\n",
    "\n",
    "    if 'place' in bibt.fields:\n",
    "        place = bibt.fields['place']\n",
    "        if ris['extra'] and '[' + place + ']' in ris['extra'][0]:\n",
    "            place = '[' + place + ']'\n",
    "        ris['place_published'] = place\n",
    "\n",
    "    if 'address' in bibt.fields:\n",
    "        ris['place_published'] = bibt.fields['address']\n",
    "    \n",
    "    if 'location' in bibt.fields:\n",
    "        ris['place_published'] = bibt.fields['location']\n",
    "\n",
    "    if 'series' in bibt.fields:\n",
    "        if ';' in bibt.fields['series']:\n",
    "            series, vol = [e.strip() for e in bibt.fields['series'].split(';', maxsplit=1)]\n",
    "            ris['secondary_title'] = series\n",
    "            ris['note'] = vol\n",
    "        else:\n",
    "            ris['secondary_title'] = bibt.fields['series']\n",
    "\n",
    "    if 'volume' in bibt.fields:\n",
    "        ris['note'] = bibt.fields['volume']\n",
    "\n",
    "    if 'number' in bibt.fields:\n",
    "        ris['note'] = bibt.fields['number']\n",
    "\n",
    "    if 'edition' in bibt.fields:\n",
    "        ris['edition'] = bibt.fields['edition']\n",
    "    \n",
    "    return ris"
   ]
  },
  {
   "cell_type": "code",
   "execution_count": 9,
   "id": "72dd0f1a",
   "metadata": {},
   "outputs": [],
   "source": [
    "def map_jfull(ris, bibt):\n",
    "    for f in bibt.fields:\n",
    "        bibt.fields[f] = conv.latex_to_text(bibt.fields[f])\n",
    "    \n",
    "    # extract ISSN from title field, if available:\n",
    "    if 'title' in ris:\n",
    "        abstract = ris['title']\n",
    "        issn = extract_issn(abstract.strip())\n",
    "        if issn:\n",
    "            ris['issn'] = issn\n",
    "    \n",
    "    # replace non-distinct title with parsed book title:\n",
    "    if 'title' in bibt.fields and bibt.fields['title']:\n",
    "        ris['extra'] = [ris['title']]\n",
    "        ris['title'] = bibt.fields['title']\n",
    "    elif 'booktitle' in bibt.fields and bibt.fields['booktitle']:\n",
    "        ris['extra'] = ris['title']\n",
    "        ris['title'] = bibt.fields['booktitle']\n",
    "\n",
    "    # make editors authors, if applicable:\n",
    "    if 'editor' in bibt.persons:\n",
    "        if 'author' in bibt.persons:\n",
    "            ris['first_authors'] = [conv.latex_to_text(str(editor)) for editor in bibt.persons['author']]\n",
    "        else:\n",
    "            if 'author' in ris:\n",
    "                del ris['author']\n",
    "            if 'authors' in ris:\n",
    "                del ris['authors']\n",
    "        ris['tertiary_authors'] = [conv.latex_to_text(str(editor)) for editor in bibt.persons['editor']]\n",
    "\n",
    "    if 'first_authors' in ris and 'tertiary_authors' in ris:\n",
    "        if 'author' in ris:\n",
    "            del ris['author']\n",
    "        if 'authors' in ris:\n",
    "            del ris['authors']\n",
    "\n",
    "    # add translators\n",
    "    if 'translator' in bibt.fields:\n",
    "        ris['subsidiary_authors'] = conv.latex_to_text(bibt.fields['translator']).split(' and ')\n",
    "        if 'author' in ris:\n",
    "            del ris['author']\n",
    "        if 'first_authors' in ris:\n",
    "            del ris['first_authors']\n",
    "    \n",
    "    for f in bibt.fields:\n",
    "        bibt.fields[f] = conv.latex_to_text(bibt.fields[f])\n",
    "    \n",
    "    # pagination information:\n",
    "    if 'pagetotal' in bibt.fields:\n",
    "        ris['start_page'] = bibt.fields['pagetotal']\n",
    "    if 'pages' in bibt.fields:\n",
    "        ris['start_page'] = bibt.fields['pages']\n",
    "    \n",
    "    # publisher information:\n",
    "    if 'publisher' in bibt.fields:\n",
    "        ris['publisher'] = bibt.fields['publisher']\n",
    "\n",
    "    # place of publication:\n",
    "    if 'place' in bibt.fields:\n",
    "        ris['place_published'] = bibt.fields['place']\n",
    "    if 'place' in bibt.fields:\n",
    "        place = bibt.fields['place']\n",
    "        if ris['extra'] and '[' + place + ']' in ris['extra'][0]:\n",
    "            place = '[' + place + ']'\n",
    "        ris['place_published'] = place\n",
    "    if 'address' in bibt.fields:\n",
    "        ris['place_published'] = bibt.fields['address']\n",
    "    if 'location' in bibt.fields:\n",
    "        ris['place_published'] = bibt.fields['location']\n",
    "\n",
    "    if 'volume' in bibt.fields:\n",
    "        ris['volume'] = bibt.fields['volume']\n",
    "\n",
    "    if 'number' in bibt.fields:\n",
    "        ris['note'] = bibt.fields['number']\n",
    "\n",
    "    # Hard reset to BOOK\n",
    "    ris['type_of_reference'] = 'BOOK'\n",
    "\n",
    "    if 'keywords' in ris:\n",
    "        ris['keywords'] = list(set(ris['keywords']))\n",
    "        ris['keywords'].append('Speciaal tijdschriftnummer')\n",
    "    \n",
    "    return ris"
   ]
  },
  {
   "cell_type": "code",
   "execution_count": 10,
   "id": "e2236510",
   "metadata": {},
   "outputs": [],
   "source": [
    "map_entry = {\n",
    "             'JOUR': map_journal,\n",
    "             'CHAP': map_chapter,\n",
    "             'BOOK': map_book,\n",
    "             'JFULL': map_jfull,\n",
    "             'EJOUR': map_journal,\n",
    "             'ADVS': map_book,\n",
    "             'WEB': map_book,\n",
    "            }"
   ]
  },
  {
   "cell_type": "code",
   "execution_count": 11,
   "id": "bcd701a2",
   "metadata": {},
   "outputs": [
    {
     "name": "stderr",
     "output_type": "stream",
     "text": [
      "<>:87: SyntaxWarning: invalid escape sequence '\\&'\n",
      "<>:87: SyntaxWarning: invalid escape sequence '\\&'\n",
      "/var/folders/6j/pn9nz6b55j3fpdt8gtj50crm0000gn/T/ipykernel_86941/2234798805.py:87: SyntaxWarning: invalid escape sequence '\\&'\n",
      "  line = line.replace(' &', ' \\&')\n"
     ]
    }
   ],
   "source": [
    "def deduplicate_bibtex(bibt):\n",
    "    \"\"\"\n",
    "    Deduplicate repeated fields in the bibtex returned by the LLM.\n",
    "    We only keep the first appearance of a given field.\n",
    "    \"\"\"\n",
    "    lines, fields = [], set()\n",
    "    for line in bibt.strip().split('\\n'):\n",
    "        if line.startswith('@') or line == '}':\n",
    "            lines.append(line)\n",
    "        else:\n",
    "            field = line.split('=')[0].strip()\n",
    "            if field not in fields:\n",
    "                lines.append(line)\n",
    "                fields.add(field)\n",
    "\n",
    "    clean = '\\n'.join([l for l in lines if l])\n",
    "    if not clean.strip().endswith('}'):\n",
    "        clean += '\\n}\\n'\n",
    "    \n",
    "    return clean\n",
    "\n",
    "\n",
    "def clean_bibtex(bibt):\n",
    "    \"\"\"\n",
    "    Attempts to correct some common syntactic errors in the bibtex\n",
    "    returned by the LLM (which cause the pybtex parser to fail).\n",
    "    \"\"\"\n",
    "    if not bibt:\n",
    "        return ''\n",
    "    \n",
    "    # remove erroneous markdown syntax:\n",
    "    bibt = bibt.replace('```bibtex', '').replace('```', '').replace(\"```tex\", '')\n",
    "    \n",
    "    # sometimes mutliple bibtexs are created: we only keep the first one\n",
    "    bibt = [b for b in bibt.split('@') if b.strip()]\n",
    "    bibt = '@' + bibt[0]\n",
    "\n",
    "    lines = []\n",
    "    for line in bibt.strip().split('\\n'):\n",
    "        l = line.strip()\n",
    "\n",
    "        # take care of spaces in the bibtex key:\n",
    "        if l.startswith('@') and ' ' in l:\n",
    "            line = ''.join(line.split())\n",
    "        \n",
    "        # fix missing entry keys:\n",
    "        if l in ('@article{,', '@article{'):\n",
    "            lines.append('@article{xxx,')\n",
    "            continue\n",
    "        if l in ('@book{,', '@book{'):\n",
    "            lines.append('@book{xxx,')\n",
    "            continue\n",
    "        if l in ('@incollection{,', '@incollection{'):\n",
    "            lines.append('@incollection{xxx,')\n",
    "            continue\n",
    "\n",
    "        # common errors:\n",
    "        if l.endswith(']'):\n",
    "            line += '},'\n",
    "            lines.append(line)\n",
    "            continue\n",
    "        line = line.replace('{ )', '{}')\n",
    "        if l.endswith(\"',\"):\n",
    "            line = line[:-2] + '},'\n",
    "        \n",
    "        # ensure that end-of-line syntax is respected:\n",
    "        if l != '}':\n",
    "            if not l.endswith('},'):\n",
    "                if l.endswith('}'):\n",
    "                    line += ','\n",
    "                elif not l.endswith('}') and not l.endswith(','):\n",
    "                    line += '},'\n",
    "            if l.endswith('),'):\n",
    "                line = line.replace('),', ')},')\n",
    "        \n",
    "        # add missing curly brackets:\n",
    "        if '=' in l and (not '{' in l or not '}' in l):\n",
    "            k, v = [e.strip() for e in l.split('=')][:2]\n",
    "            v.replace(',', '')\n",
    "            line = '  ' + k + '=' + '{' + v + '},'\n",
    "        \n",
    "        # remove lines with empty values:\n",
    "        if '= {},' in l:\n",
    "            continue\n",
    "\n",
    "        if ' &' in line:\n",
    "            line = line.replace(' &', ' \\&')\n",
    "        \n",
    "        # correct curly bracket syntax in title field:\n",
    "        if l.startswith('title') and l.count('}') > 1:\n",
    "            k, v = [e.strip() for e in l.split('=')][:2]\n",
    "            v = v.replace('{', '').replace('}', '')\n",
    "            line = '  ' + k + '=' + '{' + v + '},'\n",
    "\n",
    "        # correct syntax:\n",
    "        if '\",' in l and '=' in l:\n",
    "            k, v = [e.strip() for e in l.split('=')][:2]\n",
    "            if v.startswith('\"') and v.endswith('\",'):\n",
    "                v = v[1:-2]\n",
    "            line = '  ' + k + '=' + '{' + v + '},'\n",
    "\n",
    "        lines.append(line)\n",
    "\n",
    "    # recompose the lines of the bibtex entry:\n",
    "    clean = '\\n'.join([l for l in lines if l])\n",
    "    if not clean.strip().endswith('}'):\n",
    "        clean += '\\n}\\n'\n",
    "    \n",
    "    # return the deduplicated version of the bibtex entry:\n",
    "    return deduplicate_bibtex(clean)"
   ]
  },
  {
   "cell_type": "code",
   "execution_count": 12,
   "id": "739c482c",
   "metadata": {},
   "outputs": [
    {
     "name": "stdout",
     "output_type": "stream",
     "text": [
      "::: ../data/llm-dump/1940s :::\n",
      "     -  ../data/llm-dump/1940s/BOOK.xlsx (BOOK)\n"
     ]
    },
    {
     "name": "stderr",
     "output_type": "stream",
     "text": [
      "  9%|▊         | 123/1442 [00:00<00:01, 1223.68it/s]"
     ]
    },
    {
     "name": "stdout",
     "output_type": "stream",
     "text": [
      "list index out of range\n",
      "list index out of range\n",
      "list index out of range\n"
     ]
    },
    {
     "name": "stderr",
     "output_type": "stream",
     "text": [
      " 18%|█▊        | 257/1442 [00:00<00:00, 1290.21it/s]"
     ]
    },
    {
     "name": "stdout",
     "output_type": "stream",
     "text": [
      "list index out of range\n"
     ]
    },
    {
     "name": "stderr",
     "output_type": "stream",
     "text": [
      " 27%|██▋       | 394/1442 [00:00<00:00, 1325.78it/s]"
     ]
    },
    {
     "name": "stdout",
     "output_type": "stream",
     "text": [
      "syntax error in line 10: premature end of file\n",
      "list index out of range\n",
      "list index out of range\n"
     ]
    },
    {
     "name": "stderr",
     "output_type": "stream",
     "text": [
      " 47%|████▋     | 679/1442 [00:00<00:00, 1338.21it/s]"
     ]
    },
    {
     "name": "stdout",
     "output_type": "stream",
     "text": [
      "list index out of range\n",
      "list index out of range\n",
      "list index out of range\n",
      "list index out of range\n",
      "list index out of range\n"
     ]
    },
    {
     "name": "stderr",
     "output_type": "stream",
     "text": [
      " 57%|█████▋    | 821/1442 [00:00<00:00, 1365.26it/s]"
     ]
    },
    {
     "name": "stdout",
     "output_type": "stream",
     "text": [
      "list index out of range\n",
      "list index out of range\n",
      "syntax error in line 8: premature end of file\n",
      "list index out of range\n",
      "list index out of range\n",
      "list index out of range\n",
      "list index out of range\n",
      "list index out of range\n"
     ]
    },
    {
     "name": "stderr",
     "output_type": "stream",
     "text": [
      " 67%|██████▋   | 971/1442 [00:00<00:00, 1408.50it/s]"
     ]
    },
    {
     "name": "stdout",
     "output_type": "stream",
     "text": [
      "list index out of range\n"
     ]
    },
    {
     "name": "stderr",
     "output_type": "stream",
     "text": [
      " 87%|████████▋ | 1253/1442 [00:00<00:00, 1357.86it/s]"
     ]
    },
    {
     "name": "stdout",
     "output_type": "stream",
     "text": [
      "list index out of range\n",
      "list index out of range\n"
     ]
    },
    {
     "name": "stderr",
     "output_type": "stream",
     "text": [
      "100%|██████████| 1442/1442 [00:01<00:00, 1364.99it/s]"
     ]
    },
    {
     "name": "stdout",
     "output_type": "stream",
     "text": [
      "list index out of range\n"
     ]
    },
    {
     "name": "stderr",
     "output_type": "stream",
     "text": [
      "\n"
     ]
    },
    {
     "name": "stdout",
     "output_type": "stream",
     "text": [
      "status\n",
      "success    1418\n",
      "failure      24\n",
      "Name: count, dtype: int64\n",
      "     -  ../data/llm-dump/1940s/CHAP.xlsx (CHAP)\n"
     ]
    },
    {
     "name": "stderr",
     "output_type": "stream",
     "text": [
      "  6%|▋         | 113/1764 [00:00<00:01, 1119.63it/s]"
     ]
    },
    {
     "name": "stdout",
     "output_type": "stream",
     "text": [
      "syntax error in line 8: premature end of file\n"
     ]
    },
    {
     "name": "stderr",
     "output_type": "stream",
     "text": [
      " 13%|█▎        | 232/1764 [00:00<00:01, 1158.07it/s]"
     ]
    },
    {
     "name": "stdout",
     "output_type": "stream",
     "text": [
      "Too many commas in 'uitv. comité: P. De Smaele, H. Uyttersprot, F. De Tollenaere, H. Liebaers, A. Van Elslander'\n"
     ]
    },
    {
     "name": "stderr",
     "output_type": "stream",
     "text": [
      "100%|██████████| 1764/1764 [00:01<00:00, 1109.82it/s]\n"
     ]
    },
    {
     "name": "stdout",
     "output_type": "stream",
     "text": [
      "status\n",
      "success    1762\n",
      "failure       2\n",
      "Name: count, dtype: int64\n",
      "     -  ../data/llm-dump/1940s/JFULL.xlsx (JFULL)\n"
     ]
    },
    {
     "name": "stderr",
     "output_type": "stream",
     "text": [
      "100%|██████████| 68/68 [00:00<00:00, 827.30it/s]"
     ]
    },
    {
     "name": "stdout",
     "output_type": "stream",
     "text": [
      "status\n",
      "success    68\n",
      "Name: count, dtype: int64\n"
     ]
    },
    {
     "name": "stderr",
     "output_type": "stream",
     "text": [
      "\n"
     ]
    },
    {
     "name": "stdout",
     "output_type": "stream",
     "text": [
      "     -  ../data/llm-dump/1940s/JOUR.xlsx (JOUR)\n"
     ]
    },
    {
     "name": "stderr",
     "output_type": "stream",
     "text": [
      "  0%|          | 0/9897 [00:00<?, ?it/s]"
     ]
    },
    {
     "name": "stdout",
     "output_type": "stream",
     "text": [
      "list index out of range\n",
      "list index out of range\n"
     ]
    },
    {
     "name": "stderr",
     "output_type": "stream",
     "text": [
      "  3%|▎         | 313/9897 [00:00<00:05, 1599.02it/s]"
     ]
    },
    {
     "name": "stdout",
     "output_type": "stream",
     "text": [
      "list index out of range\n",
      "list index out of range\n"
     ]
    },
    {
     "name": "stderr",
     "output_type": "stream",
     "text": [
      " 12%|█▏        | 1169/9897 [00:00<00:05, 1579.10it/s]"
     ]
    },
    {
     "name": "stdout",
     "output_type": "stream",
     "text": [
      "list index out of range\n",
      "list index out of range\n",
      "list index out of range\n"
     ]
    },
    {
     "name": "stderr",
     "output_type": "stream",
     "text": [
      " 18%|█▊        | 1804/9897 [00:01<00:05, 1573.54it/s]"
     ]
    },
    {
     "name": "stdout",
     "output_type": "stream",
     "text": [
      "list index out of range\n"
     ]
    },
    {
     "name": "stderr",
     "output_type": "stream",
     "text": [
      " 83%|████████▎ | 8262/9897 [00:05<00:01, 1550.49it/s]"
     ]
    },
    {
     "name": "stdout",
     "output_type": "stream",
     "text": [
      "syntax error in line 9: premature end of file\n"
     ]
    },
    {
     "name": "stderr",
     "output_type": "stream",
     "text": [
      "100%|██████████| 9897/9897 [00:06<00:00, 1578.35it/s]\n"
     ]
    },
    {
     "name": "stdout",
     "output_type": "stream",
     "text": [
      "status\n",
      "success    9888\n",
      "failure       9\n",
      "Name: count, dtype: int64\n",
      "::: ../data/llm-dump/1950s :::\n",
      "     -  ../data/llm-dump/1950s/BOOK.xlsx (BOOK)\n"
     ]
    },
    {
     "name": "stderr",
     "output_type": "stream",
     "text": [
      " 43%|████▎     | 391/917 [00:00<00:00, 1216.49it/s]"
     ]
    },
    {
     "name": "stdout",
     "output_type": "stream",
     "text": [
      "syntax error in line 9: premature end of file\n"
     ]
    },
    {
     "name": "stderr",
     "output_type": "stream",
     "text": [
      "100%|██████████| 917/917 [00:00<00:00, 1269.05it/s]\n"
     ]
    },
    {
     "name": "stdout",
     "output_type": "stream",
     "text": [
      "status\n",
      "success    916\n",
      "failure      1\n",
      "Name: count, dtype: int64\n",
      "     -  ../data/llm-dump/1950s/CHAP.xlsx (CHAP)\n"
     ]
    },
    {
     "name": "stderr",
     "output_type": "stream",
     "text": [
      "100%|██████████| 1161/1161 [00:00<00:00, 1221.06it/s]\n"
     ]
    },
    {
     "name": "stdout",
     "output_type": "stream",
     "text": [
      "status\n",
      "success    1161\n",
      "Name: count, dtype: int64\n",
      "     -  ../data/llm-dump/1950s/JFULL.xlsx (JFULL)\n"
     ]
    },
    {
     "name": "stderr",
     "output_type": "stream",
     "text": [
      "100%|██████████| 17/17 [00:00<00:00, 609.91it/s]\n"
     ]
    },
    {
     "name": "stdout",
     "output_type": "stream",
     "text": [
      "status\n",
      "success    17\n",
      "Name: count, dtype: int64\n",
      "     -  ../data/llm-dump/1950s/JOUR.xlsx (JOUR)\n"
     ]
    },
    {
     "name": "stderr",
     "output_type": "stream",
     "text": [
      " 92%|█████████▏| 5740/6218 [00:03<00:00, 1561.90it/s]"
     ]
    },
    {
     "name": "stdout",
     "output_type": "stream",
     "text": [
      "syntax error in line 9: premature end of file\n"
     ]
    },
    {
     "name": "stderr",
     "output_type": "stream",
     "text": [
      "100%|██████████| 6218/6218 [00:03<00:00, 1613.96it/s]\n"
     ]
    },
    {
     "name": "stdout",
     "output_type": "stream",
     "text": [
      "status\n",
      "success    6217\n",
      "failure       1\n",
      "Name: count, dtype: int64\n",
      "::: ../data/llm-dump/1960s :::\n",
      "     -  ../data/llm-dump/1960s/BOOK.xlsx (BOOK)\n"
     ]
    },
    {
     "name": "stderr",
     "output_type": "stream",
     "text": [
      " 29%|██▉       | 631/2185 [00:00<00:01, 1184.92it/s]"
     ]
    },
    {
     "name": "stdout",
     "output_type": "stream",
     "text": [
      "syntax error in line 10: premature end of file\n",
      "syntax error in line 10: premature end of file\n"
     ]
    },
    {
     "name": "stderr",
     "output_type": "stream",
     "text": [
      " 64%|██████▍   | 1408/2185 [00:01<00:00, 1276.47it/s]"
     ]
    },
    {
     "name": "stdout",
     "output_type": "stream",
     "text": [
      "syntax error in line 9: premature end of file\n"
     ]
    },
    {
     "name": "stderr",
     "output_type": "stream",
     "text": [
      " 82%|████████▏ | 1802/2185 [00:01<00:00, 1294.97it/s]"
     ]
    },
    {
     "name": "stdout",
     "output_type": "stream",
     "text": [
      "Too many commas in 'Menno ter Braak; [samengesteld door D. A. M. Binnendijk, Gerrit Borgers, Jan Hulsker, Jurriaan Schrofer en Ellen Warmond]'\n"
     ]
    },
    {
     "name": "stderr",
     "output_type": "stream",
     "text": [
      "100%|██████████| 2185/2185 [00:01<00:00, 1267.78it/s]\n"
     ]
    },
    {
     "name": "stdout",
     "output_type": "stream",
     "text": [
      "status\n",
      "success    2181\n",
      "failure       4\n",
      "Name: count, dtype: int64\n",
      "     -  ../data/llm-dump/1960s/CHAP.xlsx (CHAP)\n"
     ]
    },
    {
     "name": "stderr",
     "output_type": "stream",
     "text": [
      "100%|██████████| 4084/4084 [00:03<00:00, 1179.81it/s]\n"
     ]
    },
    {
     "name": "stdout",
     "output_type": "stream",
     "text": [
      "status\n",
      "success    4084\n",
      "Name: count, dtype: int64\n",
      "     -  ../data/llm-dump/1960s/JFULL.xlsx (JFULL)\n"
     ]
    },
    {
     "name": "stderr",
     "output_type": "stream",
     "text": [
      " 39%|███▉      | 74/190 [00:00<00:00, 734.61it/s]"
     ]
    },
    {
     "name": "stdout",
     "output_type": "stream",
     "text": [
      "syntax error in line 1: '(' or '{' expected"
     ]
    },
    {
     "name": "stderr",
     "output_type": "stream",
     "text": [
      "100%|██████████| 190/190 [00:00<00:00, 794.82it/s]\n"
     ]
    },
    {
     "name": "stdout",
     "output_type": "stream",
     "text": [
      "\n",
      "status\n",
      "success    189\n",
      "failure      1\n",
      "Name: count, dtype: int64\n",
      "     -  ../data/llm-dump/1960s/JOUR.xlsx (JOUR)\n"
     ]
    },
    {
     "name": "stderr",
     "output_type": "stream",
     "text": [
      "  5%|▍         | 902/19387 [00:00<00:12, 1494.25it/s]"
     ]
    },
    {
     "name": "stdout",
     "output_type": "stream",
     "text": [
      "syntax error in line 7: premature end of file\n"
     ]
    },
    {
     "name": "stderr",
     "output_type": "stream",
     "text": [
      " 38%|███▊      | 7295/19387 [00:04<00:07, 1538.44it/s]"
     ]
    },
    {
     "name": "stdout",
     "output_type": "stream",
     "text": [
      "syntax error in line 9: premature end of file\n"
     ]
    },
    {
     "name": "stderr",
     "output_type": "stream",
     "text": [
      " 42%|████▏     | 8217/19387 [00:05<00:07, 1531.33it/s]"
     ]
    },
    {
     "name": "stdout",
     "output_type": "stream",
     "text": [
      "syntax error in line 9: premature end of file\n"
     ]
    },
    {
     "name": "stderr",
     "output_type": "stream",
     "text": [
      " 44%|████▍     | 8524/19387 [00:05<00:07, 1525.29it/s]"
     ]
    },
    {
     "name": "stdout",
     "output_type": "stream",
     "text": [
      "Too many commas in 'Neuseeland, Schweiz, Holland, Italien'\n"
     ]
    },
    {
     "name": "stderr",
     "output_type": "stream",
     "text": [
      " 52%|█████▏    | 10047/19387 [00:06<00:06, 1506.93it/s]"
     ]
    },
    {
     "name": "stdout",
     "output_type": "stream",
     "text": [
      "Too many commas in 'Apmoal, apmits, apmet, helpman'\n",
      "Too many commas in 'H. A. Gomperts, Harry Mulisch, Cees Nooteboom, et al.'\n"
     ]
    },
    {
     "name": "stderr",
     "output_type": "stream",
     "text": [
      " 55%|█████▌    | 10708/19387 [00:07<00:06, 1444.63it/s]"
     ]
    },
    {
     "name": "stdout",
     "output_type": "stream",
     "text": [
      "Too many commas in 'Hildeboldinga, Hilbolding, Hilbolling, Hubbeling, Hummelding, Hummeling'\n"
     ]
    },
    {
     "name": "stderr",
     "output_type": "stream",
     "text": [
      " 58%|█████▊    | 11316/19387 [00:07<00:05, 1432.63it/s]"
     ]
    },
    {
     "name": "stdout",
     "output_type": "stream",
     "text": [
      "syntax error in line 11: premature end of file\n"
     ]
    },
    {
     "name": "stderr",
     "output_type": "stream",
     "text": [
      " 62%|██████▏   | 11945/19387 [00:07<00:04, 1537.71it/s]"
     ]
    },
    {
     "name": "stdout",
     "output_type": "stream",
     "text": [
      "syntax error in line 1: entry key expected\n"
     ]
    },
    {
     "name": "stderr",
     "output_type": "stream",
     "text": [
      " 65%|██████▍   | 12574/19387 [00:08<00:04, 1561.39it/s]"
     ]
    },
    {
     "name": "stdout",
     "output_type": "stream",
     "text": [
      "syntax error in line 7: premature end of file\n"
     ]
    },
    {
     "name": "stderr",
     "output_type": "stream",
     "text": [
      " 79%|███████▉  | 15303/19387 [00:10<00:02, 1590.97it/s]"
     ]
    },
    {
     "name": "stdout",
     "output_type": "stream",
     "text": [
      "syntax error in line 10: premature end of file\n"
     ]
    },
    {
     "name": "stderr",
     "output_type": "stream",
     "text": [
      " 81%|████████▏ | 15780/19387 [00:10<00:02, 1550.20it/s]"
     ]
    },
    {
     "name": "stdout",
     "output_type": "stream",
     "text": [
      "syntax error in line 10: premature end of file\n"
     ]
    },
    {
     "name": "stderr",
     "output_type": "stream",
     "text": [
      " 85%|████████▍ | 16409/19387 [00:10<00:01, 1545.92it/s]"
     ]
    },
    {
     "name": "stdout",
     "output_type": "stream",
     "text": [
      "syntax error in line 10: premature end of file\n"
     ]
    },
    {
     "name": "stderr",
     "output_type": "stream",
     "text": [
      " 95%|█████████▍| 18404/19387 [00:12<00:00, 1496.57it/s]"
     ]
    },
    {
     "name": "stdout",
     "output_type": "stream",
     "text": [
      "syntax error in line 10: premature end of file\n"
     ]
    },
    {
     "name": "stderr",
     "output_type": "stream",
     "text": [
      "100%|██████████| 19387/19387 [00:12<00:00, 1529.83it/s]\n"
     ]
    },
    {
     "name": "stdout",
     "output_type": "stream",
     "text": [
      "status\n",
      "success    19373\n",
      "failure       14\n",
      "Name: count, dtype: int64\n",
      "::: ../data/llm-dump/1970s :::\n",
      "     -  ../data/llm-dump/1970s/BOOK.xlsx (BOOK)\n"
     ]
    },
    {
     "name": "stderr",
     "output_type": "stream",
     "text": [
      " 40%|████      | 1451/3623 [00:01<00:01, 1279.10it/s]"
     ]
    },
    {
     "name": "stdout",
     "output_type": "stream",
     "text": [
      "syntax error in line 9: premature end of file\n"
     ]
    },
    {
     "name": "stderr",
     "output_type": "stream",
     "text": [
      " 80%|███████▉  | 2889/3623 [00:02<00:00, 1281.70it/s]"
     ]
    },
    {
     "name": "stdout",
     "output_type": "stream",
     "text": [
      "syntax error in line 6: '=' expected\n"
     ]
    },
    {
     "name": "stderr",
     "output_type": "stream",
     "text": [
      " 95%|█████████▍| 3428/3623 [00:02<00:00, 1318.91it/s]"
     ]
    },
    {
     "name": "stdout",
     "output_type": "stream",
     "text": [
      "syntax error in line 8: '=' expected\n"
     ]
    },
    {
     "name": "stderr",
     "output_type": "stream",
     "text": [
      "100%|██████████| 3623/3623 [00:02<00:00, 1262.71it/s]\n"
     ]
    },
    {
     "name": "stdout",
     "output_type": "stream",
     "text": [
      "Too many commas in 'met medew. van Cola Debrot, Charles Eyck, Albert Helman, [et al.]'\n",
      "status\n",
      "success    3619\n",
      "failure       4\n",
      "Name: count, dtype: int64\n",
      "     -  ../data/llm-dump/1970s/CHAP.xlsx (CHAP)\n"
     ]
    },
    {
     "name": "stderr",
     "output_type": "stream",
     "text": [
      " 66%|██████▌   | 4390/6650 [00:03<00:02, 1065.90it/s]"
     ]
    },
    {
     "name": "stdout",
     "output_type": "stream",
     "text": [
      "Too many commas in '[F. Berckelaers, Geert Grub, Herman van den Reeck, et al.]'\n"
     ]
    },
    {
     "name": "stderr",
     "output_type": "stream",
     "text": [
      " 71%|███████   | 4713/6650 [00:04<00:01, 1039.09it/s]"
     ]
    },
    {
     "name": "stdout",
     "output_type": "stream",
     "text": [
      "syntax error in line 10: premature end of file\n"
     ]
    },
    {
     "name": "stderr",
     "output_type": "stream",
     "text": [
      " 91%|█████████ | 6039/6650 [00:05<00:00, 998.43it/s] "
     ]
    },
    {
     "name": "stdout",
     "output_type": "stream",
     "text": [
      "Too many commas in 'Herman Uyttersprot, Claude van de Berge, Leo Mets, Adriaan Magerman, Daan Boens, Jan Vercammen'\n",
      "Too many commas in 'Herman Uyttersprot, Claude van de Berge, Leo Mets, Adriaan Magerman, Daan Boens, Jan Vercammen; door José de Poortere... [et al.]'\n",
      "syntax error in line 9: premature end of file\n"
     ]
    },
    {
     "name": "stderr",
     "output_type": "stream",
     "text": [
      "100%|██████████| 6650/6650 [00:06<00:00, 1071.01it/s]\n"
     ]
    },
    {
     "name": "stdout",
     "output_type": "stream",
     "text": [
      "status\n",
      "success    6645\n",
      "failure       5\n",
      "Name: count, dtype: int64\n",
      "     -  ../data/llm-dump/1970s/JFULL.xlsx (JFULL)\n"
     ]
    },
    {
     "name": "stderr",
     "output_type": "stream",
     "text": [
      "100%|██████████| 273/273 [00:00<00:00, 674.56it/s]"
     ]
    },
    {
     "name": "stdout",
     "output_type": "stream",
     "text": [
      "syntax error in line 1: '(' or '{' expected\n",
      "status\n",
      "success    272\n",
      "failure      1\n",
      "Name: count, dtype: int64\n"
     ]
    },
    {
     "name": "stderr",
     "output_type": "stream",
     "text": [
      "\n"
     ]
    },
    {
     "name": "stdout",
     "output_type": "stream",
     "text": [
      "     -  ../data/llm-dump/1970s/JOUR.xlsx (JOUR)\n"
     ]
    },
    {
     "name": "stderr",
     "output_type": "stream",
     "text": [
      "  7%|▋         | 1661/25511 [00:01<00:16, 1459.07it/s]"
     ]
    },
    {
     "name": "stdout",
     "output_type": "stream",
     "text": [
      "Too many commas in 'Pedagogen, psychologen, leertheoretici, psycholinguïsten, linguïsten, sociolinguïsten'\n"
     ]
    },
    {
     "name": "stderr",
     "output_type": "stream",
     "text": [
      " 10%|▉         | 2543/25511 [00:01<00:15, 1436.83it/s]"
     ]
    },
    {
     "name": "stdout",
     "output_type": "stream",
     "text": [
      "syntax error in line 13: premature end of file\n"
     ]
    },
    {
     "name": "stderr",
     "output_type": "stream",
     "text": [
      " 14%|█▍        | 3604/25511 [00:02<00:14, 1513.83it/s]"
     ]
    },
    {
     "name": "stdout",
     "output_type": "stream",
     "text": [
      "syntax error in line 6: '}' expected\n"
     ]
    },
    {
     "name": "stderr",
     "output_type": "stream",
     "text": [
      " 21%|██        | 5303/25511 [00:03<00:13, 1524.69it/s]"
     ]
    },
    {
     "name": "stdout",
     "output_type": "stream",
     "text": [
      "syntax error in line 8: premature end of file\n"
     ]
    },
    {
     "name": "stderr",
     "output_type": "stream",
     "text": [
      " 26%|██▌       | 6666/25511 [00:04<00:12, 1493.97it/s]"
     ]
    },
    {
     "name": "stdout",
     "output_type": "stream",
     "text": [
      "syntax error in line 9: premature end of file\n"
     ]
    },
    {
     "name": "stderr",
     "output_type": "stream",
     "text": [
      " 28%|██▊       | 7269/25511 [00:04<00:12, 1473.52it/s]"
     ]
    },
    {
     "name": "stdout",
     "output_type": "stream",
     "text": [
      "syntax error in line 12: premature end of file\n"
     ]
    },
    {
     "name": "stderr",
     "output_type": "stream",
     "text": [
      " 39%|███▉      | 10008/25511 [00:06<00:10, 1500.18it/s]"
     ]
    },
    {
     "name": "stdout",
     "output_type": "stream",
     "text": [
      "syntax error in line 9: premature end of file\n"
     ]
    },
    {
     "name": "stderr",
     "output_type": "stream",
     "text": [
      " 49%|████▊     | 12387/25511 [00:08<00:09, 1408.82it/s]"
     ]
    },
    {
     "name": "stdout",
     "output_type": "stream",
     "text": [
      "syntax error in line 12: premature end of file\n"
     ]
    },
    {
     "name": "stderr",
     "output_type": "stream",
     "text": [
      " 51%|█████     | 12974/25511 [00:08<00:08, 1444.81it/s]"
     ]
    },
    {
     "name": "stdout",
     "output_type": "stream",
     "text": [
      "Too many commas in 'Spijkerhard, straatarm, doodkalm, druipnat, propvol'\n"
     ]
    },
    {
     "name": "stderr",
     "output_type": "stream",
     "text": [
      " 66%|██████▌   | 16887/25511 [00:11<00:05, 1482.03it/s]"
     ]
    },
    {
     "name": "stdout",
     "output_type": "stream",
     "text": [
      "Too many commas in 'De steen der wijze critici. Een schaduwloopje met M. Janssens, M.J.G. de Jong, H. Bousset, A. Nuis en J. Veulemans'\n"
     ]
    },
    {
     "name": "stderr",
     "output_type": "stream",
     "text": [
      " 85%|████████▍ | 21625/25511 [00:14<00:02, 1398.36it/s]"
     ]
    },
    {
     "name": "stdout",
     "output_type": "stream",
     "text": [
      "syntax error in line 9: premature end of file\n"
     ]
    },
    {
     "name": "stderr",
     "output_type": "stream",
     "text": [
      " 91%|█████████ | 23172/25511 [00:15<00:01, 1373.94it/s]"
     ]
    },
    {
     "name": "stdout",
     "output_type": "stream",
     "text": [
      "list index out of range\n",
      "syntax error in line 12: premature end of file\n"
     ]
    },
    {
     "name": "stderr",
     "output_type": "stream",
     "text": [
      " 95%|█████████▍| 24173/25511 [00:16<00:00, 1412.68it/s]"
     ]
    },
    {
     "name": "stdout",
     "output_type": "stream",
     "text": [
      "syntax error in line 3: '=' expected\n"
     ]
    },
    {
     "name": "stderr",
     "output_type": "stream",
     "text": [
      " 97%|█████████▋| 24623/25511 [00:16<00:00, 1471.09it/s]"
     ]
    },
    {
     "name": "stdout",
     "output_type": "stream",
     "text": [
      "list index out of range\n"
     ]
    },
    {
     "name": "stderr",
     "output_type": "stream",
     "text": [
      "100%|██████████| 25511/25511 [00:17<00:00, 1457.96it/s]\n"
     ]
    },
    {
     "name": "stdout",
     "output_type": "stream",
     "text": [
      "list index out of range\n",
      "syntax error in line 1: '(' or '{' expected\n",
      "list index out of range\n",
      "status\n",
      "success    25493\n",
      "failure       18\n",
      "Name: count, dtype: int64\n",
      "::: ../data/llm-dump/1980s :::\n",
      "     -  ../data/llm-dump/1980s/ADVS.xlsx (ADVS)\n"
     ]
    },
    {
     "name": "stderr",
     "output_type": "stream",
     "text": [
      "100%|██████████| 2/2 [00:00<00:00, 1154.66it/s]"
     ]
    },
    {
     "name": "stdout",
     "output_type": "stream",
     "text": [
      "status\n",
      "success    2\n",
      "Name: count, dtype: int64\n"
     ]
    },
    {
     "name": "stderr",
     "output_type": "stream",
     "text": [
      "\n"
     ]
    },
    {
     "name": "stdout",
     "output_type": "stream",
     "text": [
      "     -  ../data/llm-dump/1980s/BOOK.xlsx (BOOK)\n"
     ]
    },
    {
     "name": "stderr",
     "output_type": "stream",
     "text": [
      " 56%|█████▌    | 3768/6722 [00:03<00:02, 1201.67it/s]"
     ]
    },
    {
     "name": "stdout",
     "output_type": "stream",
     "text": [
      "syntax error in line 1: a valid name expected\n"
     ]
    },
    {
     "name": "stderr",
     "output_type": "stream",
     "text": [
      " 67%|██████▋   | 4512/6722 [00:03<00:01, 1206.17it/s]"
     ]
    },
    {
     "name": "stdout",
     "output_type": "stream",
     "text": [
      "syntax error in line 7: premature end of file\n"
     ]
    },
    {
     "name": "stderr",
     "output_type": "stream",
     "text": [
      " 82%|████████▏ | 5507/6722 [00:04<00:00, 1217.90it/s]"
     ]
    },
    {
     "name": "stdout",
     "output_type": "stream",
     "text": [
      "syntax error in line 4: premature end of file\n"
     ]
    },
    {
     "name": "stderr",
     "output_type": "stream",
     "text": [
      "100%|██████████| 6722/6722 [00:05<00:00, 1150.35it/s]\n"
     ]
    },
    {
     "name": "stdout",
     "output_type": "stream",
     "text": [
      "syntax error in line 4: premature end of file\n",
      "status\n",
      "success    6718\n",
      "failure       4\n",
      "Name: count, dtype: int64\n",
      "     -  ../data/llm-dump/1980s/CHAP.xlsx (CHAP)\n"
     ]
    },
    {
     "name": "stderr",
     "output_type": "stream",
     "text": [
      "  7%|▋         | 805/12289 [00:00<00:11, 1025.91it/s]"
     ]
    },
    {
     "name": "stdout",
     "output_type": "stream",
     "text": [
      "syntax error in line 12: premature end of file\n"
     ]
    },
    {
     "name": "stderr",
     "output_type": "stream",
     "text": [
      " 10%|▉         | 1222/12289 [00:01<00:10, 1023.33it/s]"
     ]
    },
    {
     "name": "stdout",
     "output_type": "stream",
     "text": [
      "syntax error in line 10: premature end of file\n"
     ]
    },
    {
     "name": "stderr",
     "output_type": "stream",
     "text": [
      " 12%|█▏        | 1433/12289 [00:01<00:10, 992.10it/s] "
     ]
    },
    {
     "name": "stdout",
     "output_type": "stream",
     "text": [
      "Too many commas in 'Werkgroep taal buitenlandse werknemers, R. Bok-Bennema, Roos van Eeden, Bert Jansen... [et al.]'\n"
     ]
    },
    {
     "name": "stderr",
     "output_type": "stream",
     "text": [
      " 15%|█▌        | 1855/12289 [00:01<00:10, 988.59it/s] "
     ]
    },
    {
     "name": "stdout",
     "output_type": "stream",
     "text": [
      "Too many commas in 'Leidse werkgroep moedertaaldidactiek, Hans Hulshof (eindred.), Helge Bonset, Bernard Schut, Heleen van der Straaten'\n",
      "Too many commas in 'Leidse werkgroep moedertaaldidactiek, Hans Hulshof (eindred.); Helge Bonset, Bernard Schut, Heleen van der Straaten et al.'\n"
     ]
    },
    {
     "name": "stderr",
     "output_type": "stream",
     "text": [
      " 29%|██▊       | 3514/12289 [00:03<00:08, 1020.80it/s]"
     ]
    },
    {
     "name": "stdout",
     "output_type": "stream",
     "text": [
      "syntax error in line 12: premature end of file\n"
     ]
    },
    {
     "name": "stderr",
     "output_type": "stream",
     "text": [
      " 43%|████▎     | 5251/12289 [00:05<00:07, 930.84it/s] "
     ]
    },
    {
     "name": "stdout",
     "output_type": "stream",
     "text": [
      "Too many commas in 'Germonprez, Fred. Croquison, Pierre, Nicolas'\n"
     ]
    },
    {
     "name": "stderr",
     "output_type": "stream",
     "text": [
      " 57%|█████▋    | 7049/12289 [00:07<00:06, 846.09it/s]"
     ]
    },
    {
     "name": "stdout",
     "output_type": "stream",
     "text": [
      "Too many commas in 'samenstellers van de catalogus: Albert Ampe, Elly Cockx-Indestege, Erik Drigsdahl, Frans Hendrickx, Jozef Andriessen, Jan Deschamps, Karel Porteman, Paul Verdeyen'\n"
     ]
    },
    {
     "name": "stderr",
     "output_type": "stream",
     "text": [
      " 83%|████████▎ | 10169/12289 [00:10<00:02, 964.89it/s]"
     ]
    },
    {
     "name": "stdout",
     "output_type": "stream",
     "text": [
      "Too many commas in 'Mies Bouhuys (inl.), Wilma Soederhuizen (interviews), Anita Löwenhardt (research), Marjo van Soest (red.)'\n"
     ]
    },
    {
     "name": "stderr",
     "output_type": "stream",
     "text": [
      " 86%|████████▌ | 10571/12289 [00:11<00:01, 945.98it/s]"
     ]
    },
    {
     "name": "stdout",
     "output_type": "stream",
     "text": [
      "syntax error in line 11: '=' expected\n",
      "Too many commas in 'Creten, J. & Geerts, G. & Jaspaert, K.'\n"
     ]
    },
    {
     "name": "stderr",
     "output_type": "stream",
     "text": [
      " 93%|█████████▎| 11373/12289 [00:11<00:00, 938.13it/s]"
     ]
    },
    {
     "name": "stdout",
     "output_type": "stream",
     "text": [
      "syntax error in line 6: '=' expected\n"
     ]
    },
    {
     "name": "stderr",
     "output_type": "stream",
     "text": [
      "100%|██████████| 12289/12289 [00:12<00:00, 954.00it/s]\n"
     ]
    },
    {
     "name": "stdout",
     "output_type": "stream",
     "text": [
      "status\n",
      "success    12277\n",
      "failure       12\n",
      "Name: count, dtype: int64\n",
      "     -  ../data/llm-dump/1980s/JFULL.xlsx (JFULL)\n"
     ]
    },
    {
     "name": "stderr",
     "output_type": "stream",
     "text": [
      " 11%|█▏        | 70/619 [00:00<00:00, 697.99it/s]"
     ]
    },
    {
     "name": "stdout",
     "output_type": "stream",
     "text": [
      "syntax error in line 11: '}' expected\n"
     ]
    },
    {
     "name": "stderr",
     "output_type": "stream",
     "text": [
      " 54%|█████▍    | 336/619 [00:00<00:00, 626.63it/s]"
     ]
    },
    {
     "name": "stdout",
     "output_type": "stream",
     "text": [
      "syntax error in line 1: '(' or '{' expected\n"
     ]
    },
    {
     "name": "stderr",
     "output_type": "stream",
     "text": [
      " 88%|████████▊ | 545/619 [00:00<00:00, 674.68it/s]"
     ]
    },
    {
     "name": "stdout",
     "output_type": "stream",
     "text": [
      "syntax error in line 1: '(' or '{' expected\n",
      "syntax error in line 1: '(' or '{' expected\n"
     ]
    },
    {
     "name": "stderr",
     "output_type": "stream",
     "text": [
      "100%|██████████| 619/619 [00:00<00:00, 656.78it/s]\n"
     ]
    },
    {
     "name": "stdout",
     "output_type": "stream",
     "text": [
      "status\n",
      "success    615\n",
      "failure      4\n",
      "Name: count, dtype: int64\n",
      "     -  ../data/llm-dump/1980s/JOUR.xlsx (JOUR)\n"
     ]
    },
    {
     "name": "stderr",
     "output_type": "stream",
     "text": [
      "  9%|▉         | 3192/34995 [00:02<00:21, 1488.39it/s]"
     ]
    },
    {
     "name": "stdout",
     "output_type": "stream",
     "text": [
      "syntax error in line 10: premature end of file\n"
     ]
    },
    {
     "name": "stderr",
     "output_type": "stream",
     "text": [
      " 25%|██▌       | 8875/34995 [00:06<00:18, 1432.05it/s]"
     ]
    },
    {
     "name": "stdout",
     "output_type": "stream",
     "text": [
      "list index out of range\n"
     ]
    },
    {
     "name": "stderr",
     "output_type": "stream",
     "text": [
      " 27%|██▋       | 9309/34995 [00:06<00:18, 1425.73it/s]"
     ]
    },
    {
     "name": "stdout",
     "output_type": "stream",
     "text": [
      "syntax error in line 11: premature end of file\n"
     ]
    },
    {
     "name": "stderr",
     "output_type": "stream",
     "text": [
      " 28%|██▊       | 9744/34995 [00:06<00:17, 1434.18it/s]"
     ]
    },
    {
     "name": "stdout",
     "output_type": "stream",
     "text": [
      "list index out of range\n"
     ]
    },
    {
     "name": "stderr",
     "output_type": "stream",
     "text": [
      " 36%|███▌      | 12643/34995 [00:08<00:15, 1446.05it/s]"
     ]
    },
    {
     "name": "stdout",
     "output_type": "stream",
     "text": [
      "syntax error in line 11: premature end of file\n",
      "syntax error in line 10: '=' expected\n"
     ]
    },
    {
     "name": "stderr",
     "output_type": "stream",
     "text": [
      " 39%|███▉      | 13781/34995 [00:09<00:16, 1253.97it/s]"
     ]
    },
    {
     "name": "stdout",
     "output_type": "stream",
     "text": [
      "syntax error in line 9: premature end of file\n"
     ]
    },
    {
     "name": "stderr",
     "output_type": "stream",
     "text": [
      " 46%|████▌     | 16070/34995 [00:11<00:13, 1437.37it/s]"
     ]
    },
    {
     "name": "stdout",
     "output_type": "stream",
     "text": [
      "syntax error in line 10: premature end of file\n"
     ]
    },
    {
     "name": "stderr",
     "output_type": "stream",
     "text": [
      " 48%|████▊     | 16942/34995 [00:11<00:12, 1433.14it/s]"
     ]
    },
    {
     "name": "stdout",
     "output_type": "stream",
     "text": [
      "syntax error in line 10: premature end of file\n",
      "syntax error in line 9: premature end of file\n"
     ]
    },
    {
     "name": "stderr",
     "output_type": "stream",
     "text": [
      " 53%|█████▎    | 18547/34995 [00:12<00:11, 1468.80it/s]"
     ]
    },
    {
     "name": "stdout",
     "output_type": "stream",
     "text": [
      "Too many commas in 'Chabot, De Vree, Tentije, Groot'\n"
     ]
    },
    {
     "name": "stderr",
     "output_type": "stream",
     "text": [
      " 55%|█████▌    | 19277/34995 [00:13<00:10, 1444.10it/s]"
     ]
    },
    {
     "name": "stdout",
     "output_type": "stream",
     "text": [
      "syntax error in line 10: premature end of file\n"
     ]
    },
    {
     "name": "stderr",
     "output_type": "stream",
     "text": [
      " 58%|█████▊    | 20153/34995 [00:14<00:10, 1459.25it/s]"
     ]
    },
    {
     "name": "stdout",
     "output_type": "stream",
     "text": [
      "syntax error in line 10: premature end of file\n"
     ]
    },
    {
     "name": "stderr",
     "output_type": "stream",
     "text": [
      " 62%|██████▏   | 21605/34995 [00:15<00:09, 1454.54it/s]"
     ]
    },
    {
     "name": "stdout",
     "output_type": "stream",
     "text": [
      "Too many commas in 'Van verpreuvelen, tot verpreulen, verprillen, en wat er zoal bij komt kijken'\n"
     ]
    },
    {
     "name": "stderr",
     "output_type": "stream",
     "text": [
      " 67%|██████▋   | 23439/34995 [00:16<00:07, 1586.59it/s]"
     ]
    },
    {
     "name": "stdout",
     "output_type": "stream",
     "text": [
      "syntax error in line 2: '=' expected\n"
     ]
    },
    {
     "name": "stderr",
     "output_type": "stream",
     "text": [
      " 76%|███████▌  | 26649/34995 [00:18<00:05, 1454.25it/s]"
     ]
    },
    {
     "name": "stdout",
     "output_type": "stream",
     "text": [
      "syntax error in line 6: '}' expected\n"
     ]
    },
    {
     "name": "stderr",
     "output_type": "stream",
     "text": [
      " 88%|████████▊ | 30865/34995 [00:21<00:03, 1313.57it/s]"
     ]
    },
    {
     "name": "stdout",
     "output_type": "stream",
     "text": [
      "syntax error in line 10: premature end of file\n",
      "syntax error in line 10: premature end of file\n"
     ]
    },
    {
     "name": "stderr",
     "output_type": "stream",
     "text": [
      "100%|██████████| 34995/34995 [00:24<00:00, 1429.94it/s]\n"
     ]
    },
    {
     "name": "stdout",
     "output_type": "stream",
     "text": [
      "status\n",
      "success    34977\n",
      "failure       18\n",
      "Name: count, dtype: int64\n",
      "     -  ../data/llm-dump/1980s/WEB.xlsx (WEB)\n"
     ]
    },
    {
     "name": "stderr",
     "output_type": "stream",
     "text": [
      "100%|██████████| 1/1 [00:00<00:00, 791.23it/s]\n"
     ]
    },
    {
     "name": "stdout",
     "output_type": "stream",
     "text": [
      "status\n",
      "success    1\n",
      "Name: count, dtype: int64\n",
      "::: ../data/llm-dump/1990s :::\n",
      "     -  ../data/llm-dump/1990s/ADVS.xlsx (ADVS)\n"
     ]
    },
    {
     "name": "stderr",
     "output_type": "stream",
     "text": [
      "100%|██████████| 33/33 [00:00<00:00, 896.99it/s]"
     ]
    },
    {
     "name": "stdout",
     "output_type": "stream",
     "text": [
      "status\n",
      "success    33\n",
      "Name: count, dtype: int64\n"
     ]
    },
    {
     "name": "stderr",
     "output_type": "stream",
     "text": [
      "\n"
     ]
    },
    {
     "name": "stdout",
     "output_type": "stream",
     "text": [
      "     -  ../data/llm-dump/1990s/BOOK.xlsx (BOOK)\n"
     ]
    },
    {
     "name": "stderr",
     "output_type": "stream",
     "text": [
      " 27%|██▋       | 2189/7992 [00:01<00:04, 1213.11it/s]"
     ]
    },
    {
     "name": "stdout",
     "output_type": "stream",
     "text": [
      "syntax error in line 4: premature end of file\n"
     ]
    },
    {
     "name": "stderr",
     "output_type": "stream",
     "text": [
      " 40%|███▉      | 3195/7992 [00:02<00:03, 1231.21it/s]"
     ]
    },
    {
     "name": "stdout",
     "output_type": "stream",
     "text": [
      "Too many commas in '[onder redactie van:] W. Haeseryn, K. Romijn, G. Geerts, J. de Rooij \\\\& M. C. van den Toorn'\n",
      "syntax error in line 1: '(' or '{' expected\n"
     ]
    },
    {
     "name": "stderr",
     "output_type": "stream",
     "text": [
      " 53%|█████▎    | 4203/7992 [00:03<00:03, 1231.18it/s]"
     ]
    },
    {
     "name": "stdout",
     "output_type": "stream",
     "text": [
      "syntax error in line 1: '=' expected\n"
     ]
    },
    {
     "name": "stderr",
     "output_type": "stream",
     "text": [
      " 76%|███████▌  | 6092/7992 [00:05<00:01, 1101.50it/s]"
     ]
    },
    {
     "name": "stdout",
     "output_type": "stream",
     "text": [
      "Too many commas in 'Luc François (eindred.) en Beatrijs Baelde, Maarten Bresseleers, Sofie Descamps, Sofie Geschier, Thijs Lambrecht, Christophe Verbruggen'\n"
     ]
    },
    {
     "name": "stderr",
     "output_type": "stream",
     "text": [
      " 93%|█████████▎| 7449/7992 [00:06<00:00, 1012.49it/s]"
     ]
    },
    {
     "name": "stdout",
     "output_type": "stream",
     "text": [
      "syntax error in line 4: '=' expected\n"
     ]
    },
    {
     "name": "stderr",
     "output_type": "stream",
     "text": [
      "100%|██████████| 7992/7992 [00:06<00:00, 1144.92it/s]\n"
     ]
    },
    {
     "name": "stdout",
     "output_type": "stream",
     "text": [
      "status\n",
      "success    7986\n",
      "failure       6\n",
      "Name: count, dtype: int64\n",
      "     -  ../data/llm-dump/1990s/CHAP.xlsx (CHAP)\n"
     ]
    },
    {
     "name": "stderr",
     "output_type": "stream",
     "text": [
      " 20%|██        | 2854/14247 [00:03<00:12, 920.05it/s] "
     ]
    },
    {
     "name": "stdout",
     "output_type": "stream",
     "text": [
      "syntax error in line 10: premature end of file\n"
     ]
    },
    {
     "name": "stderr",
     "output_type": "stream",
     "text": [
      " 37%|███▋      | 5304/14247 [00:05<00:10, 858.84it/s]"
     ]
    },
    {
     "name": "stdout",
     "output_type": "stream",
     "text": [
      "Too many commas in 'K. Humbeeck, E. Bruinsma, K. Haagdorens, J. Dierinck, B. Nuyens'\n"
     ]
    },
    {
     "name": "stderr",
     "output_type": "stream",
     "text": [
      " 40%|████      | 5731/14247 [00:06<00:10, 826.35it/s]"
     ]
    },
    {
     "name": "stdout",
     "output_type": "stream",
     "text": [
      "syntax error in line 12: premature end of file\n"
     ]
    },
    {
     "name": "stderr",
     "output_type": "stream",
     "text": [
      " 48%|████▊     | 6785/14247 [00:07<00:09, 764.28it/s]"
     ]
    },
    {
     "name": "stdout",
     "output_type": "stream",
     "text": [
      "syntax error in line 12: premature end of file\n"
     ]
    },
    {
     "name": "stderr",
     "output_type": "stream",
     "text": [
      " 51%|█████     | 7279/14247 [00:08<00:08, 791.78it/s]"
     ]
    },
    {
     "name": "stdout",
     "output_type": "stream",
     "text": [
      "syntax error in line 8: premature end of file\n"
     ]
    },
    {
     "name": "stderr",
     "output_type": "stream",
     "text": [
      " 54%|█████▍    | 7712/14247 [00:08<00:07, 863.76it/s]"
     ]
    },
    {
     "name": "stdout",
     "output_type": "stream",
     "text": [
      "syntax error in line 6: '=' expected\n"
     ]
    },
    {
     "name": "stderr",
     "output_type": "stream",
     "text": [
      " 73%|███████▎  | 10346/14247 [00:12<00:04, 895.07it/s]"
     ]
    },
    {
     "name": "stdout",
     "output_type": "stream",
     "text": [
      "syntax error in line 9: premature end of file\n"
     ]
    },
    {
     "name": "stderr",
     "output_type": "stream",
     "text": [
      " 75%|███████▌  | 10711/14247 [00:12<00:03, 895.81it/s]"
     ]
    },
    {
     "name": "stdout",
     "output_type": "stream",
     "text": [
      "syntax error in line 11: premature end of file\n"
     ]
    },
    {
     "name": "stderr",
     "output_type": "stream",
     "text": [
      " 83%|████████▎ | 11803/14247 [00:13<00:02, 849.29it/s]"
     ]
    },
    {
     "name": "stdout",
     "output_type": "stream",
     "text": [
      "Too many commas in 'de Jong, Erik \\\\& Schellekens, Claudia \\\\& Tummers, Harry'\n"
     ]
    },
    {
     "name": "stderr",
     "output_type": "stream",
     "text": [
      "100%|█████████▉| 14194/14247 [00:16<00:00, 849.09it/s]"
     ]
    },
    {
     "name": "stdout",
     "output_type": "stream",
     "text": [
      "Too many commas in \"Boon, Louis Paul; bezorgd door K. Humbeeck, E. Bruinsma, K. Haagdorens, J. Dierinck \\\\& B. Nuyens; m.m.v. D. de Geest, Anne Marie Musschoot \\\\& Y. T'Sjoen\"\n"
     ]
    },
    {
     "name": "stderr",
     "output_type": "stream",
     "text": [
      "100%|██████████| 14247/14247 [00:16<00:00, 854.34it/s]\n"
     ]
    },
    {
     "name": "stdout",
     "output_type": "stream",
     "text": [
      "status\n",
      "success    14237\n",
      "failure       10\n",
      "Name: count, dtype: int64\n",
      "     -  ../data/llm-dump/1990s/EJOUR.xlsx (EJOUR)\n"
     ]
    },
    {
     "name": "stderr",
     "output_type": "stream",
     "text": [
      "100%|██████████| 97/97 [00:00<00:00, 867.27it/s]\n"
     ]
    },
    {
     "name": "stdout",
     "output_type": "stream",
     "text": [
      "list index out of range\n",
      "status\n",
      "success    96\n",
      "failure     1\n",
      "Name: count, dtype: int64\n",
      "     -  ../data/llm-dump/1990s/JFULL.xlsx (JFULL)\n"
     ]
    },
    {
     "name": "stderr",
     "output_type": "stream",
     "text": [
      " 78%|███████▊  | 512/660 [00:00<00:00, 595.94it/s]"
     ]
    },
    {
     "name": "stdout",
     "output_type": "stream",
     "text": [
      "syntax error in line 8: '=' expected\n",
      "syntax error in line 13: '}' expected\n"
     ]
    },
    {
     "name": "stderr",
     "output_type": "stream",
     "text": [
      "100%|██████████| 660/660 [00:01<00:00, 569.96it/s]\n"
     ]
    },
    {
     "name": "stdout",
     "output_type": "stream",
     "text": [
      "syntax error in line 11: premature end of file\n",
      "status\n",
      "success    657\n",
      "failure      3\n",
      "Name: count, dtype: int64\n",
      "     -  ../data/llm-dump/1990s/JOUR.xlsx (JOUR)\n"
     ]
    },
    {
     "name": "stderr",
     "output_type": "stream",
     "text": [
      "  8%|▊         | 3642/44498 [00:02<00:29, 1397.21it/s]"
     ]
    },
    {
     "name": "stdout",
     "output_type": "stream",
     "text": [
      "syntax error in line 10: premature end of file\n"
     ]
    },
    {
     "name": "stderr",
     "output_type": "stream",
     "text": [
      " 17%|█▋        | 7567/44498 [00:05<00:26, 1398.44it/s]"
     ]
    },
    {
     "name": "stdout",
     "output_type": "stream",
     "text": [
      "syntax error in line 12: premature end of file\n"
     ]
    },
    {
     "name": "stderr",
     "output_type": "stream",
     "text": [
      " 21%|██        | 9374/44498 [00:06<00:26, 1350.13it/s]"
     ]
    },
    {
     "name": "stdout",
     "output_type": "stream",
     "text": [
      "syntax error in line 8: premature end of file\n"
     ]
    },
    {
     "name": "stderr",
     "output_type": "stream",
     "text": [
      " 24%|██▍       | 10898/44498 [00:07<00:25, 1330.98it/s]"
     ]
    },
    {
     "name": "stdout",
     "output_type": "stream",
     "text": [
      "Too many commas in 'Klos, klos, klos, hoorde je ze naar boven komen'\n"
     ]
    },
    {
     "name": "stderr",
     "output_type": "stream",
     "text": [
      " 27%|██▋       | 11836/44498 [00:08<00:24, 1326.21it/s]"
     ]
    },
    {
     "name": "stdout",
     "output_type": "stream",
     "text": [
      "syntax error in line 10: '=' expected\n"
     ]
    },
    {
     "name": "stderr",
     "output_type": "stream",
     "text": [
      " 28%|██▊       | 12385/44498 [00:09<00:24, 1323.28it/s]"
     ]
    },
    {
     "name": "stdout",
     "output_type": "stream",
     "text": [
      "syntax error in line 10: premature end of file\n"
     ]
    },
    {
     "name": "stderr",
     "output_type": "stream",
     "text": [
      " 31%|███       | 13887/44498 [00:10<00:22, 1371.03it/s]"
     ]
    },
    {
     "name": "stdout",
     "output_type": "stream",
     "text": [
      "syntax error in line 9: premature end of file\n"
     ]
    },
    {
     "name": "stderr",
     "output_type": "stream",
     "text": [
      " 35%|███▍      | 15565/44498 [00:11<00:22, 1286.90it/s]"
     ]
    },
    {
     "name": "stdout",
     "output_type": "stream",
     "text": [
      "syntax error in line 10: premature end of file\n"
     ]
    },
    {
     "name": "stderr",
     "output_type": "stream",
     "text": [
      " 46%|████▌     | 20477/44498 [00:15<00:18, 1267.80it/s]"
     ]
    },
    {
     "name": "stdout",
     "output_type": "stream",
     "text": [
      "syntax error in line 10: premature end of file\n",
      "syntax error in line 1: '(' or '{' expected\n"
     ]
    },
    {
     "name": "stderr",
     "output_type": "stream",
     "text": [
      " 52%|█████▏    | 23198/44498 [00:17<00:15, 1362.13it/s]"
     ]
    },
    {
     "name": "stdout",
     "output_type": "stream",
     "text": [
      "syntax error in line 10: premature end of file\n"
     ]
    },
    {
     "name": "stderr",
     "output_type": "stream",
     "text": [
      " 55%|█████▌    | 24543/44498 [00:18<00:12, 1546.47it/s]"
     ]
    },
    {
     "name": "stdout",
     "output_type": "stream",
     "text": [
      "syntax error in line 12: premature end of file\n"
     ]
    },
    {
     "name": "stderr",
     "output_type": "stream",
     "text": [
      " 57%|█████▋    | 25158/44498 [00:18<00:12, 1502.65it/s]"
     ]
    },
    {
     "name": "stdout",
     "output_type": "stream",
     "text": [
      "syntax error in line 8: premature end of file\n"
     ]
    },
    {
     "name": "stderr",
     "output_type": "stream",
     "text": [
      " 62%|██████▏   | 27541/44498 [00:20<00:10, 1585.43it/s]"
     ]
    },
    {
     "name": "stdout",
     "output_type": "stream",
     "text": [
      "syntax error in line 1: '(' or '{' expected\n"
     ]
    },
    {
     "name": "stderr",
     "output_type": "stream",
     "text": [
      " 68%|██████▊   | 30343/44498 [00:22<00:09, 1444.46it/s]"
     ]
    },
    {
     "name": "stdout",
     "output_type": "stream",
     "text": [
      "syntax error in line 4: '=' expected\n"
     ]
    },
    {
     "name": "stderr",
     "output_type": "stream",
     "text": [
      " 69%|██████▉   | 30630/44498 [00:22<00:09, 1391.47it/s]"
     ]
    },
    {
     "name": "stdout",
     "output_type": "stream",
     "text": [
      "syntax error in line 4: '=' expected\n"
     ]
    },
    {
     "name": "stderr",
     "output_type": "stream",
     "text": [
      " 72%|███████▏  | 31895/44498 [00:23<00:10, 1223.19it/s]"
     ]
    },
    {
     "name": "stdout",
     "output_type": "stream",
     "text": [
      "syntax error in line 10: premature end of file\n"
     ]
    },
    {
     "name": "stderr",
     "output_type": "stream",
     "text": [
      " 73%|███████▎  | 32301/44498 [00:23<00:09, 1283.86it/s]"
     ]
    },
    {
     "name": "stdout",
     "output_type": "stream",
     "text": [
      "syntax error in line 11: premature end of file\n"
     ]
    },
    {
     "name": "stderr",
     "output_type": "stream",
     "text": [
      " 74%|███████▍  | 33130/44498 [00:24<00:08, 1348.80it/s]"
     ]
    },
    {
     "name": "stdout",
     "output_type": "stream",
     "text": [
      "syntax error in line 9: premature end of file\n"
     ]
    },
    {
     "name": "stderr",
     "output_type": "stream",
     "text": [
      " 76%|███████▋  | 33969/44498 [00:24<00:07, 1405.43it/s]"
     ]
    },
    {
     "name": "stdout",
     "output_type": "stream",
     "text": [
      "syntax error in line 7: premature end of file\n"
     ]
    },
    {
     "name": "stderr",
     "output_type": "stream",
     "text": [
      " 78%|███████▊  | 34798/44498 [00:25<00:07, 1281.51it/s]"
     ]
    },
    {
     "name": "stdout",
     "output_type": "stream",
     "text": [
      "list index out of range\n",
      "syntax error in line 10: premature end of file\n",
      "syntax error in line 9: premature end of file\n"
     ]
    },
    {
     "name": "stderr",
     "output_type": "stream",
     "text": [
      " 83%|████████▎ | 37056/44498 [00:27<00:05, 1347.04it/s]"
     ]
    },
    {
     "name": "stdout",
     "output_type": "stream",
     "text": [
      "syntax error in line 9: '=' expected\n"
     ]
    },
    {
     "name": "stderr",
     "output_type": "stream",
     "text": [
      " 90%|████████▉ | 39834/44498 [00:28<00:02, 1569.82it/s]"
     ]
    },
    {
     "name": "stdout",
     "output_type": "stream",
     "text": [
      "syntax error in line 10: premature end of file\n"
     ]
    },
    {
     "name": "stderr",
     "output_type": "stream",
     "text": [
      "100%|██████████| 44498/44498 [00:32<00:00, 1388.03it/s]\n"
     ]
    },
    {
     "name": "stdout",
     "output_type": "stream",
     "text": [
      "status\n",
      "success    44473\n",
      "failure       25\n",
      "Name: count, dtype: int64\n",
      "     -  ../data/llm-dump/1990s/WEB.xlsx (WEB)\n"
     ]
    },
    {
     "name": "stderr",
     "output_type": "stream",
     "text": [
      "100%|██████████| 10/10 [00:00<00:00, 1233.36it/s]\n"
     ]
    },
    {
     "name": "stdout",
     "output_type": "stream",
     "text": [
      "status\n",
      "success    10\n",
      "Name: count, dtype: int64\n",
      "::: ../data/llm-dump/2000s :::\n",
      "     -  ../data/llm-dump/2000s/ADVS.xlsx (ADVS)\n"
     ]
    },
    {
     "name": "stderr",
     "output_type": "stream",
     "text": [
      "100%|██████████| 54/54 [00:00<00:00, 1051.75it/s]"
     ]
    },
    {
     "name": "stdout",
     "output_type": "stream",
     "text": [
      "status\n",
      "success    54\n",
      "Name: count, dtype: int64\n"
     ]
    },
    {
     "name": "stderr",
     "output_type": "stream",
     "text": [
      "\n"
     ]
    },
    {
     "name": "stdout",
     "output_type": "stream",
     "text": [
      "     -  ../data/llm-dump/2000s/BOOK.xlsx (BOOK)\n"
     ]
    },
    {
     "name": "stderr",
     "output_type": "stream",
     "text": [
      " 13%|█▎        | 806/6229 [00:00<00:04, 1188.37it/s]"
     ]
    },
    {
     "name": "stdout",
     "output_type": "stream",
     "text": [
      "Too many commas in \"Kris Humbeeck (wetenschappelijke leiding), Britt Kennis (coördinatie), Ernst Bruinsma, Anne Marie Musschoot, Matthijs de Ridder, Yves T'Sjoen\"\n"
     ]
    },
    {
     "name": "stderr",
     "output_type": "stream",
     "text": [
      " 32%|███▏      | 1980/6229 [00:01<00:03, 1319.46it/s]"
     ]
    },
    {
     "name": "stdout",
     "output_type": "stream",
     "text": [
      "syntax error in line 8: premature end of file\n"
     ]
    },
    {
     "name": "stderr",
     "output_type": "stream",
     "text": [
      " 38%|███▊      | 2374/6229 [00:01<00:03, 1226.02it/s]"
     ]
    },
    {
     "name": "stdout",
     "output_type": "stream",
     "text": [
      "Too many commas in 'Harry N. Sierman \\\\& Querido, Reynoud Homan \\\\& Wim Quist, Irma Boon \\\\& Paul Fentener van Vlissingen; [samenstelling, tekst en interviews: Mathieu Loman; tekstbijdragen: Judith Belinfante ... et al.; fotografie: Iman Heystek... et al.]'\n",
      "Too many commas in \"Kris Humbeeck (wetenschappelijke leiding); Britt Kennis (coördinatie), Ernst Bruinsma, Anne Marie Musschoot, Matthijs de Ridder, Yves T'Sjoen\"\n"
     ]
    },
    {
     "name": "stderr",
     "output_type": "stream",
     "text": [
      " 60%|██████    | 3756/6229 [00:03<00:02, 1172.10it/s]"
     ]
    },
    {
     "name": "stdout",
     "output_type": "stream",
     "text": [
      "Too many commas in 'Jo Tollebeek (hoofdredacteur), Geert Buelens, Gita Deneckere, Chantal Kesteloot, Sophie de Schaepdrijver'\n"
     ]
    },
    {
     "name": "stderr",
     "output_type": "stream",
     "text": [
      " 72%|███████▏  | 4470/6229 [00:03<00:01, 1185.35it/s]"
     ]
    },
    {
     "name": "stdout",
     "output_type": "stream",
     "text": [
      "Too many commas in 'M. Celeste Augusto, Karolien van Eck, Carla de Albuquerque Dias, Ivana Brasileiro Reis'\n",
      "syntax error in line 2: '}' expected\n"
     ]
    },
    {
     "name": "stderr",
     "output_type": "stream",
     "text": [
      " 83%|████████▎ | 5192/6229 [00:04<00:00, 1189.72it/s]"
     ]
    },
    {
     "name": "stdout",
     "output_type": "stream",
     "text": [
      "Too many commas in 'Suzan van Dijk (chief editor), P. Broomans, J. F. van der Meulen, W. R. D. van Oostrum'\n",
      "syntax error in line 3: premature end of file\n"
     ]
    },
    {
     "name": "stderr",
     "output_type": "stream",
     "text": [
      "100%|██████████| 6229/6229 [00:05<00:00, 1194.95it/s]\n"
     ]
    },
    {
     "name": "stdout",
     "output_type": "stream",
     "text": [
      "status\n",
      "success    6220\n",
      "failure       9\n",
      "Name: count, dtype: int64\n",
      "     -  ../data/llm-dump/2000s/CHAP.xlsx (CHAP)\n"
     ]
    },
    {
     "name": "stderr",
     "output_type": "stream",
     "text": [
      "  6%|▋         | 693/11027 [00:00<00:11, 881.07it/s]"
     ]
    },
    {
     "name": "stdout",
     "output_type": "stream",
     "text": [
      "syntax error in line 1: '(' or '{' expected\n"
     ]
    },
    {
     "name": "stderr",
     "output_type": "stream",
     "text": [
      " 26%|██▌       | 2883/11027 [00:03<00:08, 960.30it/s] "
     ]
    },
    {
     "name": "stdout",
     "output_type": "stream",
     "text": [
      "syntax error in line 10: premature end of file\n"
     ]
    },
    {
     "name": "stderr",
     "output_type": "stream",
     "text": [
      " 28%|██▊       | 3075/11027 [00:03<00:09, 861.46it/s]"
     ]
    },
    {
     "name": "stdout",
     "output_type": "stream",
     "text": [
      "Too many commas in 'Taeldeman, man van de taal, schatbewaarder van de taal; Johan De Caluwe, Georges De Schutter, Magda Devos, Jacques Van Keymeulen'\n"
     ]
    },
    {
     "name": "stderr",
     "output_type": "stream",
     "text": [
      " 29%|██▉       | 3251/11027 [00:03<00:09, 842.71it/s]"
     ]
    },
    {
     "name": "stdout",
     "output_type": "stream",
     "text": [
      "syntax error in line 1: '=' expected\n"
     ]
    },
    {
     "name": "stderr",
     "output_type": "stream",
     "text": [
      " 84%|████████▍ | 9317/11027 [00:11<00:02, 750.01it/s]"
     ]
    },
    {
     "name": "stdout",
     "output_type": "stream",
     "text": [
      "Too many commas in 'Lenz, Alexandra N. \\\\& Gooskens, Charlotte \\\\& Reker, Siemon'\n"
     ]
    },
    {
     "name": "stderr",
     "output_type": "stream",
     "text": [
      " 88%|████████▊ | 9670/11027 [00:11<00:01, 825.62it/s]"
     ]
    },
    {
     "name": "stdout",
     "output_type": "stream",
     "text": [
      "syntax error in line 6: '=' expected\n"
     ]
    },
    {
     "name": "stderr",
     "output_type": "stream",
     "text": [
      "100%|██████████| 11027/11027 [00:13<00:00, 830.62it/s]\n"
     ]
    },
    {
     "name": "stdout",
     "output_type": "stream",
     "text": [
      "status\n",
      "success    11021\n",
      "failure        6\n",
      "Name: count, dtype: int64\n",
      "     -  ../data/llm-dump/2000s/EJOUR.xlsx (EJOUR)\n"
     ]
    },
    {
     "name": "stderr",
     "output_type": "stream",
     "text": [
      "100%|██████████| 628/628 [00:00<00:00, 1332.33it/s]\n"
     ]
    },
    {
     "name": "stdout",
     "output_type": "stream",
     "text": [
      "status\n",
      "success    628\n",
      "Name: count, dtype: int64\n",
      "     -  ../data/llm-dump/2000s/JFULL.xlsx (JFULL)\n"
     ]
    },
    {
     "name": "stderr",
     "output_type": "stream",
     "text": [
      " 52%|█████▏    | 249/479 [00:00<00:00, 624.81it/s]"
     ]
    },
    {
     "name": "stdout",
     "output_type": "stream",
     "text": [
      "Too many commas in 'Jimmy Koppen, Marnix Beyen, Christel Stalpaert, Harry Van Velthoven'\n",
      "Too many commas in '[redactie: Toef Jaeger, Menno Lievers, Ilja Leonard Pfeijffer, Allard Schröder]'\n"
     ]
    },
    {
     "name": "stderr",
     "output_type": "stream",
     "text": [
      "100%|██████████| 479/479 [00:00<00:00, 618.83it/s]"
     ]
    },
    {
     "name": "stdout",
     "output_type": "stream",
     "text": [
      "syntax error in line 4: '=' expected\n",
      "syntax error in line 4: '=' expected\n",
      "Too many commas in 'Floris Cavyn, Evelyne Coussens (eindredactie), Wouter Hillaert (hoofd- en eindredactie), et al.'\n",
      "Too many commas in 'Georges Martyn, Gretha Donker, Sjoerd Faber, Dirk Heirbaut'\n"
     ]
    },
    {
     "name": "stderr",
     "output_type": "stream",
     "text": [
      "\n"
     ]
    },
    {
     "name": "stdout",
     "output_type": "stream",
     "text": [
      "status\n",
      "success    473\n",
      "failure      6\n",
      "Name: count, dtype: int64\n",
      "     -  ../data/llm-dump/2000s/JOUR.xlsx (JOUR)\n"
     ]
    },
    {
     "name": "stderr",
     "output_type": "stream",
     "text": [
      "  4%|▍         | 1155/27745 [00:00<00:18, 1446.17it/s]"
     ]
    },
    {
     "name": "stdout",
     "output_type": "stream",
     "text": [
      "syntax error in line 10: premature end of file\n"
     ]
    },
    {
     "name": "stderr",
     "output_type": "stream",
     "text": [
      " 37%|███▋      | 10283/27745 [00:07<00:12, 1346.66it/s]"
     ]
    },
    {
     "name": "stdout",
     "output_type": "stream",
     "text": [
      "syntax error in line 11: premature end of file\n"
     ]
    },
    {
     "name": "stderr",
     "output_type": "stream",
     "text": [
      " 40%|████      | 11110/27745 [00:08<00:12, 1360.28it/s]"
     ]
    },
    {
     "name": "stdout",
     "output_type": "stream",
     "text": [
      "syntax error in line 4: premature end of file\n"
     ]
    },
    {
     "name": "stderr",
     "output_type": "stream",
     "text": [
      " 68%|██████▊   | 18953/27745 [00:13<00:06, 1394.22it/s]"
     ]
    },
    {
     "name": "stdout",
     "output_type": "stream",
     "text": [
      "syntax error in line 3: premature end of file\n"
     ]
    },
    {
     "name": "stderr",
     "output_type": "stream",
     "text": [
      " 80%|███████▉  | 22118/27745 [00:16<00:04, 1354.87it/s]"
     ]
    },
    {
     "name": "stdout",
     "output_type": "stream",
     "text": [
      "syntax error in line 10: premature end of file\n"
     ]
    },
    {
     "name": "stderr",
     "output_type": "stream",
     "text": [
      " 83%|████████▎ | 22921/27745 [00:16<00:03, 1327.15it/s]"
     ]
    },
    {
     "name": "stdout",
     "output_type": "stream",
     "text": [
      "syntax error in line 5: premature end of file\n"
     ]
    },
    {
     "name": "stderr",
     "output_type": "stream",
     "text": [
      " 85%|████████▍ | 23577/27745 [00:17<00:03, 1272.89it/s]"
     ]
    },
    {
     "name": "stdout",
     "output_type": "stream",
     "text": [
      "syntax error in line 10: premature end of file\n"
     ]
    },
    {
     "name": "stderr",
     "output_type": "stream",
     "text": [
      " 93%|█████████▎| 25909/27745 [00:19<00:01, 1305.52it/s]"
     ]
    },
    {
     "name": "stdout",
     "output_type": "stream",
     "text": [
      "syntax error in line 10: premature end of file\n",
      "list index out of range\n"
     ]
    },
    {
     "name": "stderr",
     "output_type": "stream",
     "text": [
      " 99%|█████████▉| 27566/27745 [00:20<00:00, 1482.99it/s]"
     ]
    },
    {
     "name": "stdout",
     "output_type": "stream",
     "text": [
      "syntax error in line 9: premature end of file\n"
     ]
    },
    {
     "name": "stderr",
     "output_type": "stream",
     "text": [
      "100%|██████████| 27745/27745 [00:20<00:00, 1361.12it/s]\n"
     ]
    },
    {
     "name": "stdout",
     "output_type": "stream",
     "text": [
      "status\n",
      "success    27735\n",
      "failure       10\n",
      "Name: count, dtype: int64\n",
      "     -  ../data/llm-dump/2000s/WEB.xlsx (WEB)\n"
     ]
    },
    {
     "name": "stderr",
     "output_type": "stream",
     "text": [
      " 28%|██▊       | 137/485 [00:00<00:00, 1369.17it/s]"
     ]
    },
    {
     "name": "stdout",
     "output_type": "stream",
     "text": [
      "Too many commas in 'redactie: Dirk Caluwé (redactionele leiding), An Boumans, Stefaan Croon, Sylvianne de Schepper, Katleen Maesen en Kristien Spillebeen; met dank aan Anne Ruette, Sara van Calster, Marianne van Scherpenzeel, Veronique Verreycken en de Werkgroep Spelling Suriname'\n"
     ]
    },
    {
     "name": "stderr",
     "output_type": "stream",
     "text": [
      " 57%|█████▋    | 275/485 [00:00<00:00, 1374.02it/s]"
     ]
    },
    {
     "name": "stdout",
     "output_type": "stream",
     "text": [
      "Too many commas in 'redactie: Peter Boot, Herman Brinkman, Peter de Bruijn, Jan Gielkens, Joke Roelevink en Renske Siemens'\n"
     ]
    },
    {
     "name": "stderr",
     "output_type": "stream",
     "text": [
      "100%|██████████| 485/485 [00:00<00:00, 1419.07it/s]\n"
     ]
    },
    {
     "name": "stdout",
     "output_type": "stream",
     "text": [
      "status\n",
      "success    483\n",
      "failure      2\n",
      "Name: count, dtype: int64\n",
      "::: ../data/llm-dump/2010s :::\n",
      "     -  ../data/llm-dump/2010s/ADVS.xlsx (ADVS)\n"
     ]
    },
    {
     "name": "stderr",
     "output_type": "stream",
     "text": [
      "100%|██████████| 9/9 [00:00<00:00, 1201.42it/s]\n"
     ]
    },
    {
     "name": "stdout",
     "output_type": "stream",
     "text": [
      "status\n",
      "success    9\n",
      "Name: count, dtype: int64\n",
      "     -  ../data/llm-dump/2010s/BOOK.xlsx (BOOK)\n"
     ]
    },
    {
     "name": "stderr",
     "output_type": "stream",
     "text": [
      " 47%|████▋     | 1834/3891 [00:01<00:01, 1266.22it/s]"
     ]
    },
    {
     "name": "stdout",
     "output_type": "stream",
     "text": [
      "Too many commas in \"[samenstelling:] Johan Pas \\\\& Yves T'Sjoen; [met medewerking van Filip Demeyer... [et al.; teksten: Roger de Neef, Johan Pas, Yves T'Sjoen, Els van Damme]\"\n",
      "Too many commas in 'Kurt Feyaerts, Geert Brône, Karoline Claes, Birgitta Meex, Steven Schoonjans \\\\& Jelena Vranjes'\n"
     ]
    },
    {
     "name": "stderr",
     "output_type": "stream",
     "text": [
      " 70%|███████   | 2730/3891 [00:02<00:00, 1247.32it/s]"
     ]
    },
    {
     "name": "stdout",
     "output_type": "stream",
     "text": [
      "syntax error in line 1: '=' expected\n"
     ]
    },
    {
     "name": "stderr",
     "output_type": "stream",
     "text": [
      " 80%|████████  | 3125/3891 [00:02<00:00, 1272.19it/s]"
     ]
    },
    {
     "name": "stdout",
     "output_type": "stream",
     "text": [
      "Too many commas in 'Carolien Ceton (hoofdredactie), Annemie Halsema, Ineke van der Burg, Karen Vintges en Veronica Vasterling'\n"
     ]
    },
    {
     "name": "stderr",
     "output_type": "stream",
     "text": [
      " 90%|█████████ | 3515/3891 [00:02<00:00, 1279.66it/s]"
     ]
    },
    {
     "name": "stdout",
     "output_type": "stream",
     "text": [
      "Too many commas in 'Michaël van Houtte, Pieterjan Buggenhout, Tom de Ridder, Veronique de Tier'\n",
      "Too many commas in \"Kris Humbeeck (wetenschappelijke leiding); Britt Kennis (coördinatie), Ernst Bruinsma, Taana Peeters, Matthijs de Ridder, Valerie Rousseau, Tom Sintobin, Yves T'Sjoen, Liesbeth Vantorre, Sara Verbeeck\"\n",
      "Too many commas in \"Kris Humbeeck (wetenschappelĳke leiding), Britt Kennis (coördinatie), Ernst Bruinsma, Anne Marie Musschoot, Taana Peeters, Matthijs de Ridder, Yves T'Sjoen, Liesbeth Vantorre\"\n"
     ]
    },
    {
     "name": "stderr",
     "output_type": "stream",
     "text": [
      "100%|██████████| 3891/3891 [00:03<00:00, 1280.51it/s]\n"
     ]
    },
    {
     "name": "stdout",
     "output_type": "stream",
     "text": [
      "syntax error in line 3: premature end of file\n",
      "status\n",
      "success    3883\n",
      "failure       8\n",
      "Name: count, dtype: int64\n",
      "     -  ../data/llm-dump/2010s/CHAP.xlsx (CHAP)\n"
     ]
    },
    {
     "name": "stderr",
     "output_type": "stream",
     "text": [
      "  4%|▍         | 237/6300 [00:00<00:07, 789.69it/s]"
     ]
    },
    {
     "name": "stdout",
     "output_type": "stream",
     "text": [
      "Too many commas in 'Astrid Geudens, Dieter Baeyens, Kirsten Schraeyen, Kathleen Maetens, Jolien de Brauwer \\\\& Maaike Loncke'\n"
     ]
    },
    {
     "name": "stderr",
     "output_type": "stream",
     "text": [
      " 13%|█▎        | 824/6300 [00:01<00:08, 639.82it/s]"
     ]
    },
    {
     "name": "stdout",
     "output_type": "stream",
     "text": [
      "Too many commas in 'Herbert Van Uffelen, Dirk de Geest, Susan Mahmody, Pieter Verstraeten'\n"
     ]
    },
    {
     "name": "stderr",
     "output_type": "stream",
     "text": [
      " 22%|██▏       | 1407/6300 [00:01<00:06, 767.86it/s]"
     ]
    },
    {
     "name": "stdout",
     "output_type": "stream",
     "text": [
      "syntax error in line 11: premature end of file\n"
     ]
    },
    {
     "name": "stderr",
     "output_type": "stream",
     "text": [
      " 46%|████▋     | 2926/6300 [00:03<00:04, 772.86it/s]"
     ]
    },
    {
     "name": "stdout",
     "output_type": "stream",
     "text": [
      "Too many commas in \"Michiels, Ivo; Nuyens, Bart; T'Sjoen, Yves; van Damme, Els\"\n"
     ]
    },
    {
     "name": "stderr",
     "output_type": "stream",
     "text": [
      " 69%|██████▉   | 4348/6300 [00:05<00:02, 751.96it/s]"
     ]
    },
    {
     "name": "stdout",
     "output_type": "stream",
     "text": [
      "syntax error in line 10: premature end of file\n"
     ]
    },
    {
     "name": "stderr",
     "output_type": "stream",
     "text": [
      " 76%|███████▌  | 4762/6300 [00:06<00:01, 795.95it/s]"
     ]
    },
    {
     "name": "stdout",
     "output_type": "stream",
     "text": [
      "syntax error in line 6: '=' expected\n"
     ]
    },
    {
     "name": "stderr",
     "output_type": "stream",
     "text": [
      " 82%|████████▏ | 5193/6300 [00:06<00:01, 783.37it/s]"
     ]
    },
    {
     "name": "stdout",
     "output_type": "stream",
     "text": [
      "Too many commas in 'Carolien Ceton (hoofdredactie), Annemie Halsema, Ineke van der Burg, Karen Vintges en Veronica Vasterling'\n",
      "Too many commas in 'Carolien Ceton (hoofdredactie), Annemie Halsema, Ineke van der Burg, Karen Vintges en Veronica Vasterling'\n",
      "Too many commas in 'Timothy Colleman, Johan De Caluwe, Veronique De Tier, Anne-Sophie Ghyselen, Liesbet Triest, Roxane Vandenberghe & Ulrike Vogl'\n"
     ]
    },
    {
     "name": "stderr",
     "output_type": "stream",
     "text": [
      " 90%|█████████ | 5683/6300 [00:07<00:00, 761.29it/s]"
     ]
    },
    {
     "name": "stdout",
     "output_type": "stream",
     "text": [
      "list index out of range\n",
      "Too many commas in 'Els Hendrickx, Karl Hendrickx, Willy Martin, Hans Smessaert, William Van Belle en Joop van der Horst'\n"
     ]
    },
    {
     "name": "stderr",
     "output_type": "stream",
     "text": [
      " 96%|█████████▋| 6069/6300 [00:07<00:00, 751.75it/s]"
     ]
    },
    {
     "name": "stdout",
     "output_type": "stream",
     "text": [
      "Too many commas in 'Herbert van Uffelen, Dirk de Geest, Marlou de Bont, Christine Hermann'\n"
     ]
    },
    {
     "name": "stderr",
     "output_type": "stream",
     "text": [
      "100%|██████████| 6300/6300 [00:08<00:00, 777.41it/s]\n"
     ]
    },
    {
     "name": "stdout",
     "output_type": "stream",
     "text": [
      "status\n",
      "success    6288\n",
      "failure      12\n",
      "Name: count, dtype: int64\n",
      "     -  ../data/llm-dump/2010s/EJOUR.xlsx (EJOUR)\n"
     ]
    },
    {
     "name": "stderr",
     "output_type": "stream",
     "text": [
      " 20%|██        | 114/569 [00:00<00:00, 1136.53it/s]"
     ]
    },
    {
     "name": "stdout",
     "output_type": "stream",
     "text": [
      "Too many commas in 'Peter Boot, Herman Brinkman, Peter de Bruijn, Jan Gielkens, Joke Roelevink en Renske Siemens'\n"
     ]
    },
    {
     "name": "stderr",
     "output_type": "stream",
     "text": [
      "100%|██████████| 569/569 [00:00<00:00, 1402.77it/s]\n"
     ]
    },
    {
     "name": "stdout",
     "output_type": "stream",
     "text": [
      "status\n",
      "success    568\n",
      "failure      1\n",
      "Name: count, dtype: int64\n",
      "     -  ../data/llm-dump/2010s/JFULL.xlsx (JFULL)\n"
     ]
    },
    {
     "name": "stderr",
     "output_type": "stream",
     "text": [
      " 14%|█▎        | 60/442 [00:00<00:00, 599.08it/s]"
     ]
    },
    {
     "name": "stdout",
     "output_type": "stream",
     "text": [
      "syntax error in line 10: premature end of file\n"
     ]
    },
    {
     "name": "stderr",
     "output_type": "stream",
     "text": [
      " 43%|████▎     | 188/442 [00:00<00:00, 556.00it/s]"
     ]
    },
    {
     "name": "stdout",
     "output_type": "stream",
     "text": [
      "syntax error in line 4: premature end of file\n",
      "syntax error in line 1: entry key expected\n",
      "syntax error in line 5: premature end of file\n"
     ]
    },
    {
     "name": "stderr",
     "output_type": "stream",
     "text": [
      "100%|██████████| 442/442 [00:00<00:00, 583.95it/s]"
     ]
    },
    {
     "name": "stdout",
     "output_type": "stream",
     "text": [
      "syntax error in line 6: premature end of file\n",
      "syntax error in line 6: premature end of file\n",
      "Too many commas in 'Gábor Pusztai, Réka Bozzay, Jaap Doedens, Annyke de Jong, Márta Kántor-Faragó \\\\& Gert Loosen'\n"
     ]
    },
    {
     "name": "stderr",
     "output_type": "stream",
     "text": [
      "\n"
     ]
    },
    {
     "name": "stdout",
     "output_type": "stream",
     "text": [
      "status\n",
      "success    435\n",
      "failure      7\n",
      "Name: count, dtype: int64\n",
      "     -  ../data/llm-dump/2010s/JOUR.xlsx (JOUR)\n"
     ]
    },
    {
     "name": "stderr",
     "output_type": "stream",
     "text": [
      "  1%|          | 236/20043 [00:00<00:19, 1010.71it/s]"
     ]
    },
    {
     "name": "stdout",
     "output_type": "stream",
     "text": [
      "syntax error in line 7: premature end of file\n"
     ]
    },
    {
     "name": "stderr",
     "output_type": "stream",
     "text": [
      "  9%|▉         | 1836/20043 [00:01<00:13, 1334.97it/s]"
     ]
    },
    {
     "name": "stdout",
     "output_type": "stream",
     "text": [
      "syntax error in line 10: premature end of file\n"
     ]
    },
    {
     "name": "stderr",
     "output_type": "stream",
     "text": [
      " 19%|█▉        | 3874/20043 [00:02<00:11, 1350.57it/s]"
     ]
    },
    {
     "name": "stdout",
     "output_type": "stream",
     "text": [
      "syntax error in line 10: premature end of file\n"
     ]
    },
    {
     "name": "stderr",
     "output_type": "stream",
     "text": [
      " 27%|██▋       | 5380/20043 [00:04<00:10, 1363.32it/s]"
     ]
    },
    {
     "name": "stdout",
     "output_type": "stream",
     "text": [
      "syntax error in line 8: premature end of file\n",
      "syntax error in line 9: premature end of file\n"
     ]
    },
    {
     "name": "stderr",
     "output_type": "stream",
     "text": [
      " 32%|███▏      | 6445/20043 [00:04<00:10, 1280.77it/s]"
     ]
    },
    {
     "name": "stdout",
     "output_type": "stream",
     "text": [
      "Too many commas in 'Peter Boot, Herman Brinkman, Peter de Bruijn, Jan Gielkens, Joke Roelevink, Renske Siemens'\n"
     ]
    },
    {
     "name": "stderr",
     "output_type": "stream",
     "text": [
      " 34%|███▎      | 6719/20043 [00:05<00:10, 1292.13it/s]"
     ]
    },
    {
     "name": "stdout",
     "output_type": "stream",
     "text": [
      "syntax error in line 1: '(' or '{' expected\n"
     ]
    },
    {
     "name": "stderr",
     "output_type": "stream",
     "text": [
      " 37%|███▋      | 7374/20043 [00:05<00:09, 1301.34it/s]"
     ]
    },
    {
     "name": "stdout",
     "output_type": "stream",
     "text": [
      "syntax error in line 9: premature end of file\n"
     ]
    },
    {
     "name": "stderr",
     "output_type": "stream",
     "text": [
      " 42%|████▏     | 8436/20043 [00:06<00:08, 1329.89it/s]"
     ]
    },
    {
     "name": "stdout",
     "output_type": "stream",
     "text": [
      "syntax error in line 5: premature end of file\n",
      "syntax error in line 5: premature end of file\n"
     ]
    },
    {
     "name": "stderr",
     "output_type": "stream",
     "text": [
      " 76%|███████▌  | 15155/20043 [00:11<00:03, 1349.25it/s]"
     ]
    },
    {
     "name": "stdout",
     "output_type": "stream",
     "text": [
      "Too many commas in \"Lucy B. en C. W. van der Hoogt-prijs 2017: advies van de Commissie voor schone letteren; [Pia de Jong, Kaster Freriks, Lieke Marsman, Gerard Raat, Yves T'Sjoen]\"\n"
     ]
    },
    {
     "name": "stderr",
     "output_type": "stream",
     "text": [
      " 85%|████████▌ | 17096/20043 [00:13<00:02, 1366.63it/s]"
     ]
    },
    {
     "name": "stdout",
     "output_type": "stream",
     "text": [
      "syntax error in line 7: '=' expected\n"
     ]
    },
    {
     "name": "stderr",
     "output_type": "stream",
     "text": [
      " 98%|█████████▊| 19589/20043 [00:14<00:00, 1314.50it/s]"
     ]
    },
    {
     "name": "stdout",
     "output_type": "stream",
     "text": [
      "syntax error in line 10: premature end of file\n"
     ]
    },
    {
     "name": "stderr",
     "output_type": "stream",
     "text": [
      "100%|██████████| 20043/20043 [00:15<00:00, 1316.65it/s]\n"
     ]
    },
    {
     "name": "stdout",
     "output_type": "stream",
     "text": [
      "status\n",
      "success    20030\n",
      "failure       13\n",
      "Name: count, dtype: int64\n",
      "     -  ../data/llm-dump/2010s/WEB.xlsx (WEB)\n"
     ]
    },
    {
     "name": "stderr",
     "output_type": "stream",
     "text": [
      "100%|██████████| 85/85 [00:00<00:00, 636.53it/s]\n"
     ]
    },
    {
     "name": "stdout",
     "output_type": "stream",
     "text": [
      "status\n",
      "success    85\n",
      "Name: count, dtype: int64\n",
      "::: ../data/llm-dump/2020s :::\n",
      "     -  ../data/llm-dump/2020s/ADVS.xlsx (ADVS)\n"
     ]
    },
    {
     "name": "stderr",
     "output_type": "stream",
     "text": [
      "100%|██████████| 2/2 [00:00<00:00, 2176.60it/s]"
     ]
    },
    {
     "name": "stdout",
     "output_type": "stream",
     "text": [
      "syntax error in line 6: premature end of file\n",
      "status\n",
      "success    1\n",
      "failure    1\n",
      "Name: count, dtype: int64\n"
     ]
    },
    {
     "name": "stderr",
     "output_type": "stream",
     "text": [
      "\n"
     ]
    },
    {
     "name": "stdout",
     "output_type": "stream",
     "text": [
      "     -  ../data/llm-dump/2020s/BOOK.xlsx (BOOK)\n"
     ]
    },
    {
     "name": "stderr",
     "output_type": "stream",
     "text": [
      "100%|██████████| 825/825 [00:00<00:00, 1340.91it/s]"
     ]
    },
    {
     "name": "stdout",
     "output_type": "stream",
     "text": [
      "Too many commas in 'Dijkhof, E. C. i.s.m. A. Berteloot, J. A. A. M. Biemans, J. W. J. Burgers, V. Van Camp, H. van Engen, J. S. Love, E. De Paermentier, A. T. Smith, en M. K. Williams'\n"
     ]
    },
    {
     "name": "stderr",
     "output_type": "stream",
     "text": [
      "\n"
     ]
    },
    {
     "name": "stdout",
     "output_type": "stream",
     "text": [
      "status\n",
      "success    824\n",
      "failure      1\n",
      "Name: count, dtype: int64\n",
      "     -  ../data/llm-dump/2020s/CHAP.xlsx (CHAP)\n"
     ]
    },
    {
     "name": "stderr",
     "output_type": "stream",
     "text": [
      "100%|██████████| 1627/1627 [00:01<00:00, 829.85it/s]\n"
     ]
    },
    {
     "name": "stdout",
     "output_type": "stream",
     "text": [
      "status\n",
      "success    1627\n",
      "Name: count, dtype: int64\n",
      "     -  ../data/llm-dump/2020s/EJOUR.xlsx (EJOUR)\n"
     ]
    },
    {
     "name": "stderr",
     "output_type": "stream",
     "text": [
      "100%|██████████| 251/251 [00:00<00:00, 1465.85it/s]\n"
     ]
    },
    {
     "name": "stdout",
     "output_type": "stream",
     "text": [
      "status\n",
      "success    251\n",
      "Name: count, dtype: int64\n",
      "     -  ../data/llm-dump/2020s/JFULL.xlsx (JFULL)\n"
     ]
    },
    {
     "name": "stderr",
     "output_type": "stream",
     "text": [
      "100%|██████████| 161/161 [00:00<00:00, 644.40it/s]\n"
     ]
    },
    {
     "name": "stdout",
     "output_type": "stream",
     "text": [
      "status\n",
      "success    161\n",
      "Name: count, dtype: int64\n",
      "     -  ../data/llm-dump/2020s/JOUR.xlsx (JOUR)\n"
     ]
    },
    {
     "name": "stderr",
     "output_type": "stream",
     "text": [
      " 23%|██▎       | 1221/5238 [00:00<00:02, 1368.56it/s]"
     ]
    },
    {
     "name": "stdout",
     "output_type": "stream",
     "text": [
      "syntax error in line 3: '=' expected\n"
     ]
    },
    {
     "name": "stderr",
     "output_type": "stream",
     "text": [
      "100%|██████████| 5238/5238 [00:03<00:00, 1327.21it/s]\n"
     ]
    },
    {
     "name": "stdout",
     "output_type": "stream",
     "text": [
      "status\n",
      "success    5237\n",
      "failure       1\n",
      "Name: count, dtype: int64\n",
      "     -  ../data/llm-dump/2020s/WEB.xlsx (WEB)\n"
     ]
    },
    {
     "name": "stderr",
     "output_type": "stream",
     "text": [
      "100%|██████████| 1/1 [00:00<00:00, 1216.45it/s]\n"
     ]
    },
    {
     "name": "stdout",
     "output_type": "stream",
     "text": [
      "status\n",
      "success    1\n",
      "Name: count, dtype: int64\n",
      "::: ../data/llm-dump/misc :::\n",
      "     -  ../data/llm-dump/misc/ADVS.xlsx (ADVS)\n"
     ]
    },
    {
     "name": "stderr",
     "output_type": "stream",
     "text": [
      "100%|██████████| 3/3 [00:00<00:00, 866.35it/s]\n"
     ]
    },
    {
     "name": "stdout",
     "output_type": "stream",
     "text": [
      "status\n",
      "success    3\n",
      "Name: count, dtype: int64\n",
      "     -  ../data/llm-dump/misc/BOOK.xlsx (BOOK)\n"
     ]
    },
    {
     "name": "stderr",
     "output_type": "stream",
     "text": [
      " 78%|███████▊  | 917/1182 [00:00<00:00, 1323.24it/s]"
     ]
    },
    {
     "name": "stdout",
     "output_type": "stream",
     "text": [
      "syntax error in line 7: '}' expected\n"
     ]
    },
    {
     "name": "stderr",
     "output_type": "stream",
     "text": [
      "100%|██████████| 1182/1182 [00:00<00:00, 1286.57it/s]\n"
     ]
    },
    {
     "name": "stdout",
     "output_type": "stream",
     "text": [
      "syntax error in line 7: premature end of file\n",
      "status\n",
      "success    1180\n",
      "failure       2\n",
      "Name: count, dtype: int64\n",
      "     -  ../data/llm-dump/misc/CHAP.xlsx (CHAP)\n"
     ]
    },
    {
     "name": "stderr",
     "output_type": "stream",
     "text": [
      "100%|██████████| 470/470 [00:00<00:00, 1094.81it/s]\n"
     ]
    },
    {
     "name": "stdout",
     "output_type": "stream",
     "text": [
      "syntax error in line 14: premature end of file\n",
      "status\n",
      "success    469\n",
      "failure      1\n",
      "Name: count, dtype: int64\n",
      "     -  ../data/llm-dump/misc/EJOUR.xlsx (EJOUR)\n"
     ]
    },
    {
     "name": "stderr",
     "output_type": "stream",
     "text": [
      "100%|██████████| 2/2 [00:00<00:00, 1203.19it/s]\n"
     ]
    },
    {
     "name": "stdout",
     "output_type": "stream",
     "text": [
      "status\n",
      "success    2\n",
      "Name: count, dtype: int64\n",
      "     -  ../data/llm-dump/misc/JFULL.xlsx (JFULL)\n"
     ]
    },
    {
     "name": "stderr",
     "output_type": "stream",
     "text": [
      "  4%|▍         | 233/6051 [00:00<00:08, 689.01it/s]"
     ]
    },
    {
     "name": "stdout",
     "output_type": "stream",
     "text": [
      "syntax error in line 7: '}' expected\n"
     ]
    },
    {
     "name": "stderr",
     "output_type": "stream",
     "text": [
      "  8%|▊         | 507/6051 [00:00<00:08, 621.21it/s]"
     ]
    },
    {
     "name": "stdout",
     "output_type": "stream",
     "text": [
      "syntax error in line 6: premature end of file\n",
      "syntax error in line 7: premature end of file\n",
      "syntax error in line 1: a valid name expected\n"
     ]
    },
    {
     "name": "stderr",
     "output_type": "stream",
     "text": [
      " 11%|█         | 641/6051 [00:01<00:08, 615.04it/s]"
     ]
    },
    {
     "name": "stdout",
     "output_type": "stream",
     "text": [
      "syntax error in line 1: a valid name expected\n"
     ]
    },
    {
     "name": "stderr",
     "output_type": "stream",
     "text": [
      " 15%|█▌        | 908/6051 [00:01<00:08, 641.77it/s]"
     ]
    },
    {
     "name": "stdout",
     "output_type": "stream",
     "text": [
      "syntax error in line 1: '(' or '{' expected\n"
     ]
    },
    {
     "name": "stderr",
     "output_type": "stream",
     "text": [
      " 19%|█▉        | 1173/6051 [00:01<00:07, 655.52it/s]"
     ]
    },
    {
     "name": "stdout",
     "output_type": "stream",
     "text": [
      "syntax error in line 1: a valid name expected\n",
      "syntax error in line 2: '=' expected\n",
      "syntax error in line 4: '}' expected\n"
     ]
    },
    {
     "name": "stderr",
     "output_type": "stream",
     "text": [
      " 23%|██▎       | 1372/6051 [00:02<00:07, 625.28it/s]"
     ]
    },
    {
     "name": "stdout",
     "output_type": "stream",
     "text": [
      "syntax error in line 4: '}' expected\n",
      "syntax error in line 5: '}' expected\n"
     ]
    },
    {
     "name": "stderr",
     "output_type": "stream",
     "text": [
      " 27%|██▋       | 1651/6051 [00:02<00:06, 661.84it/s]"
     ]
    },
    {
     "name": "stdout",
     "output_type": "stream",
     "text": [
      "syntax error in line 5: '}' expected\n"
     ]
    },
    {
     "name": "stderr",
     "output_type": "stream",
     "text": [
      " 31%|███       | 1852/6051 [00:02<00:06, 654.72it/s]"
     ]
    },
    {
     "name": "stdout",
     "output_type": "stream",
     "text": [
      "Too many commas in 'Ostfriesischen Landschaft in Verb. mit den Heimatvereinen, der Industrie- und Handelskammer für Ostfriesland und Papenburg, der Handwerkskammer Aurich, dem Landesverkehrsverband Ostfriesland und dem Landwirtschaftlichen Hauptverein für Ostfriesland'\n",
      "syntax error in line 6: premature end of file\n",
      "entry with key JaarverslagCoehoorn has a duplicate issn field\n"
     ]
    },
    {
     "name": "stderr",
     "output_type": "stream",
     "text": [
      " 34%|███▍      | 2063/6051 [00:03<00:05, 687.12it/s]"
     ]
    },
    {
     "name": "stdout",
     "output_type": "stream",
     "text": [
      "syntax error in line 1: a valid name expected\n",
      "syntax error in line 11: '=' expected\n"
     ]
    },
    {
     "name": "stderr",
     "output_type": "stream",
     "text": [
      " 39%|███▉      | 2360/6051 [00:03<00:05, 715.93it/s]"
     ]
    },
    {
     "name": "stdout",
     "output_type": "stream",
     "text": [
      "syntax error in line 8: premature end of file\n",
      "syntax error in line 5: '}' expected\n"
     ]
    },
    {
     "name": "stderr",
     "output_type": "stream",
     "text": [
      " 41%|████▏     | 2509/6051 [00:03<00:05, 696.84it/s]"
     ]
    },
    {
     "name": "stdout",
     "output_type": "stream",
     "text": [
      "syntax error in line 1: '(' or '{' expected\n",
      "syntax error in line 4: '}' expected\n",
      "syntax error in line 5: '}' expected\n",
      "syntax error in line 5: '}' expected\n",
      "syntax error in line 5: '}' expected\n"
     ]
    },
    {
     "name": "stderr",
     "output_type": "stream",
     "text": [
      " 47%|████▋     | 2863/6051 [00:04<00:03, 826.37it/s]"
     ]
    },
    {
     "name": "stdout",
     "output_type": "stream",
     "text": [
      "syntax error in line 5: '}' expected\n",
      "syntax error in line 6: '=' expected\n"
     ]
    },
    {
     "name": "stderr",
     "output_type": "stream",
     "text": [
      " 50%|█████     | 3039/6051 [00:04<00:03, 850.85it/s]"
     ]
    },
    {
     "name": "stdout",
     "output_type": "stream",
     "text": [
      "syntax error in line 5: '}' expected\n",
      "syntax error in line 1: a valid name expected\n",
      "syntax error in line 7: premature end of file\n"
     ]
    },
    {
     "name": "stderr",
     "output_type": "stream",
     "text": [
      " 57%|█████▋    | 3475/6051 [00:04<00:02, 865.32it/s]"
     ]
    },
    {
     "name": "stdout",
     "output_type": "stream",
     "text": [
      "syntax error in line 5: '}' expected\n"
     ]
    },
    {
     "name": "stderr",
     "output_type": "stream",
     "text": [
      " 60%|██████    | 3648/6051 [00:05<00:02, 834.64it/s]"
     ]
    },
    {
     "name": "stdout",
     "output_type": "stream",
     "text": [
      "Too many commas in 'historische Kommission f{\\\\\"u}r Hannover, Oldenburg, Braunschweig, Schaumburg-Lippe und Bremen'\n",
      "syntax error in line 1: ')' expected\n",
      "Too many commas in 'Wilken Engelbrecht, Judit Gera, Marta Kantor Farago, Jelica Novakovic, Jan Pekelder, Jana Raksanyiova'\n"
     ]
    },
    {
     "name": "stderr",
     "output_type": "stream",
     "text": [
      " 69%|██████▉   | 4170/6051 [00:05<00:02, 850.22it/s]"
     ]
    },
    {
     "name": "stdout",
     "output_type": "stream",
     "text": [
      "syntax error in line 1: a valid name expected\n",
      "Too many commas in 'Centrale Vereniging voor Openbare Bibliotheken, Centrum voor Literatuuronderzoekers, Nederlands Instituut voor Informatie, Documentatie en Registratuur, Nederlandse Vereniging van Bedrijfsarchivarissen, Nederlandse Vereniging van Bibliothecarissen'\n",
      "syntax error in line 1: a valid name expected\n"
     ]
    },
    {
     "name": "stderr",
     "output_type": "stream",
     "text": [
      " 73%|███████▎  | 4437/6051 [00:06<00:01, 864.96it/s]"
     ]
    },
    {
     "name": "stdout",
     "output_type": "stream",
     "text": [
      "syntax error in line 4: '}' expected\n",
      "syntax error in line 8: '}' expected\n"
     ]
    },
    {
     "name": "stderr",
     "output_type": "stream",
     "text": [
      " 79%|███████▉  | 4791/6051 [00:06<00:01, 789.70it/s]"
     ]
    },
    {
     "name": "stdout",
     "output_type": "stream",
     "text": [
      "syntax error in line 16: premature end of file\n",
      "syntax error in line 1: a valid name expected\n"
     ]
    },
    {
     "name": "stderr",
     "output_type": "stream",
     "text": [
      " 82%|████████▏ | 4953/6051 [00:06<00:01, 776.83it/s]"
     ]
    },
    {
     "name": "stdout",
     "output_type": "stream",
     "text": [
      "syntax error in line 1: a valid name expected\n"
     ]
    },
    {
     "name": "stderr",
     "output_type": "stream",
     "text": [
      " 87%|████████▋ | 5272/6051 [00:07<00:01, 767.63it/s]"
     ]
    },
    {
     "name": "stdout",
     "output_type": "stream",
     "text": [
      "Too many commas in 'Bureau voor Muziekauteursrecht, BUMA, Stichting tot Exploitatie van Mechanische Reproductierechten der Auteurs, STEMRA en Stichting SEBA tot Exploitatie van Auteursrechten'\n",
      "syntax error in line 5: '}' expected\n",
      "syntax error in line 5: '}' expected\n",
      "syntax error in line 5: '}' expected\n"
     ]
    },
    {
     "name": "stderr",
     "output_type": "stream",
     "text": [
      " 90%|████████▉ | 5429/6051 [00:07<00:00, 773.54it/s]"
     ]
    },
    {
     "name": "stdout",
     "output_type": "stream",
     "text": [
      "syntax error in line 12: '=' expected\n",
      "syntax error in line 5: '}' expected\n"
     ]
    },
    {
     "name": "stderr",
     "output_type": "stream",
     "text": [
      " 96%|█████████▌| 5824/6051 [00:07<00:00, 778.22it/s]"
     ]
    },
    {
     "name": "stdout",
     "output_type": "stream",
     "text": [
      "syntax error in line 1: entry key expected\n"
     ]
    },
    {
     "name": "stderr",
     "output_type": "stream",
     "text": [
      "100%|██████████| 6051/6051 [00:08<00:00, 744.94it/s]\n"
     ]
    },
    {
     "name": "stdout",
     "output_type": "stream",
     "text": [
      "status\n",
      "success    6003\n",
      "failure      48\n",
      "Name: count, dtype: int64\n",
      "     -  ../data/llm-dump/misc/JOUR.xlsx (JOUR)\n"
     ]
    },
    {
     "name": "stderr",
     "output_type": "stream",
     "text": [
      " 42%|████▏     | 1454/3483 [00:01<00:01, 1379.52it/s]"
     ]
    },
    {
     "name": "stdout",
     "output_type": "stream",
     "text": [
      "syntax error in line 9: premature end of file\n"
     ]
    },
    {
     "name": "stderr",
     "output_type": "stream",
     "text": [
      " 94%|█████████▍| 3278/3483 [00:02<00:00, 1382.22it/s]"
     ]
    },
    {
     "name": "stdout",
     "output_type": "stream",
     "text": [
      "syntax error in line 8: premature end of file\n",
      "syntax error in line 8: premature end of file\n"
     ]
    },
    {
     "name": "stderr",
     "output_type": "stream",
     "text": [
      "100%|██████████| 3483/3483 [00:02<00:00, 1385.40it/s]\n"
     ]
    },
    {
     "name": "stdout",
     "output_type": "stream",
     "text": [
      "status\n",
      "success    3480\n",
      "failure       3\n",
      "Name: count, dtype: int64\n",
      "     -  ../data/llm-dump/misc/WEB.xlsx (WEB)\n"
     ]
    },
    {
     "name": "stderr",
     "output_type": "stream",
     "text": [
      "100%|██████████| 32/32 [00:00<00:00, 1381.99it/s]"
     ]
    },
    {
     "name": "stdout",
     "output_type": "stream",
     "text": [
      "Too many commas in 'Wim van Anrooij, Ingrid Biesheuvel, Karina van Dalen-Oskam, Jan Noordegraaf'\n",
      "status\n",
      "success    31\n",
      "failure     1\n",
      "Name: count, dtype: int64\n"
     ]
    },
    {
     "name": "stderr",
     "output_type": "stream",
     "text": [
      "\n"
     ]
    }
   ],
   "source": [
    "llm_path = '../data/llm-dump'\n",
    "\n",
    "new_jtitles = Counter()\n",
    "\n",
    "for decade_folder in sorted(glob.glob(f'{llm_path}/*')):\n",
    "    #if '2010s' not in decade_folder:\n",
    "    #        continue\n",
    "    print(':::', decade_folder, ':::')\n",
    "\n",
    "    for spreadsheet_path in sorted(glob.glob(f'{decade_folder}/*.xlsx')):\n",
    "        df = pd.read_excel(spreadsheet_path, header=0, engine='openpyxl')\n",
    "        #n = 5000\n",
    "        #if len(df) > n:\n",
    "        #    df = df.sample(n)\n",
    "\n",
    "        if 'bibtex' not in df.columns:\n",
    "            continue\n",
    "    \n",
    "        ptype = os.path.basename(spreadsheet_path).replace('.xlsx', '')\n",
    "        print('     - ', spreadsheet_path, f'({ptype})')\n",
    "\n",
    "        if ptype not in ('BOOK', 'JOUR', 'CHAP', 'JFULL', 'EJOUR', 'ADVS', 'WEB'):\n",
    "        #if ptype != 'JFULL':\n",
    "            continue\n",
    "        \n",
    "        # parse the RIS (stored as JSON strings in the spreadsheet)\n",
    "        df['RIS'] = df['RIS'].apply(json.loads)\n",
    "\n",
    "        # clean (and deduplicate the bibtex returned by the LLM)\n",
    "        cleaned = []\n",
    "        for bt in df['bibtex']:\n",
    "            if isinstance(bt, str):\n",
    "                cleaned.append(clean_bibtex(bt))\n",
    "            else:\n",
    "                cleaned.append('')\n",
    "        df['bibtex-clean'] = cleaned\n",
    "\n",
    "        # Update the available RIS entries with newly structure info,\n",
    "        # returned by the LLM (and keep tracked of whether or not that is successful):\n",
    "        updated_ris, status = [], []\n",
    "        for ris, bibtex_str in tqdm(list(zip(df['RIS'], df['bibtex-clean']))):\n",
    "            if 'abstract' in ris:\n",
    "                ris['orig_abstract'] = ris['abstract']\n",
    "                del ris['abstract']\n",
    "            if isinstance(bibtex_str, str):\n",
    "                try:\n",
    "                    #print(bibtex_parse)\n",
    "                    bibtex_parse = parse_string(bibtex_str, 'bibtex')\n",
    "                    single_key = list(bibtex_parse.entries.keys())[0]\n",
    "                    updated = map_entry[ptype](ris.copy(), bibtex_parse.entries[single_key])\n",
    "\n",
    "                    # keep track of new journal titles which lack a normalized variant,\n",
    "                    # (unless the difference is only in capitalization):\n",
    "                    if ptype in 'JOUR' and 'journal_name' in updated and updated['journal_name'] not in existing_jtitles:\n",
    "                        try:\n",
    "                            updated['journal_name'] = lower2jtitles[updated['journal_name'].lower()]\n",
    "                        except KeyError:\n",
    "                            new_jtitles[updated['journal_name']] += 1\n",
    "                    \n",
    "                    updated['label'] = 'success'\n",
    "                    if 'authors' not in updated and 'secondary_authors' not in updated and \\\n",
    "                        'primary_authors' not in updated and 'tertiary_authors' not in updated \\\n",
    "                        and 'subsidiary_authors' not in updated:\n",
    "                        if 'keywords' in updated:\n",
    "                            updated['keywords'].append('Zonder auteur')\n",
    "                        else:\n",
    "                            updated['keywords'] = ['Zonder auteur']\n",
    "                    \n",
    "                    updated_ris.append(updated)\n",
    "                    status.append('success')\n",
    "                except Exception as e:\n",
    "                    print(e)\n",
    "                    ris['label'] = f'failure ({str(e)})'\n",
    "                    updated_ris.append(ris)\n",
    "                    status.append('failure')\n",
    "            else:\n",
    "                ris['label'] = 'failure'\n",
    "                updated_ris.append(ris)\n",
    "                status.append('failure')\n",
    "\n",
    "        # store the newly merged information as a JSON string that holds a RIS entry:\n",
    "        df['consolidated'] = [json.dumps(r, indent=2, ensure_ascii=False) for r in updated_ris]\n",
    "        df['status'] = status\n",
    "\n",
    "        # re-encode the original RIS entry as a JSON string in the original column:\n",
    "        df['RIS'] = [json.dumps(d, indent=2, ensure_ascii=False) for d in df['RIS']]\n",
    "\n",
    "        # remove the cleaned bibtex string:\n",
    "        del df['bibtex-clean']\n",
    "\n",
    "        # output new spreadsheet:\n",
    "        df.to_excel(spreadsheet_path, index=False, header=True)\n",
    "\n",
    "        # Ensure that 'extra' field is correctly set as a list for each record\n",
    "        for record in updated_ris:\n",
    "            if 'extra' in record and not isinstance(record['extra'], str):\n",
    "                record['extra'] = ' /// '.join(record['extra'])\n",
    "\n",
    "        # output updated RIS file:\n",
    "        with open(f'{decade_folder}/{ptype}_consolidated.ris', 'w') as bibliography_file:\n",
    "            rispy.dump(updated_ris, bibliography_file, mapping=mappings)\n",
    "\n",
    "        # show the failure statistics:\n",
    "        print(df['status'].value_counts())"
   ]
  },
  {
   "cell_type": "markdown",
   "id": "6d759fd3",
   "metadata": {},
   "source": [
    "Extract journal titles for which we don't have a normalization yet and map them provionally to the closest available normalized title (using the Levenshtein distance):"
   ]
  },
  {
   "cell_type": "code",
   "execution_count": 13,
   "id": "71a03b77",
   "metadata": {},
   "outputs": [],
   "source": [
    "#mappings = []\n",
    "#for nj, cnt in new_jtitles.items():\n",
    "#    distances = np.array([lev.distance(nj, oj) for oj in jtitle['normalized']])\n",
    "#    mappings.append([nj, cnt] + list(jtitle.iloc[np.argmin(distances)][['normalized', 'issn']]))\n",
    "\n",
    "#mappings = pd.DataFrame(mappings, columns=['raw title', 'count', 'normalized', 'issn'])\n",
    "#mappings = mappings.sort_values('count', ascending=False)\n",
    "#mappings.head(30)"
   ]
  },
  {
   "cell_type": "markdown",
   "id": "b61476c0",
   "metadata": {},
   "source": [
    "We save this spreadsheet for manual correction:"
   ]
  },
  {
   "cell_type": "code",
   "execution_count": 14,
   "id": "1316bcd9",
   "metadata": {},
   "outputs": [],
   "source": [
    "#mappings.to_excel('../data/journal_titles_2ndBatch.xlsx', header=True, index=False)"
   ]
  },
  {
   "cell_type": "code",
   "execution_count": null,
   "id": "fe12a9ce",
   "metadata": {},
   "outputs": [],
   "source": []
  },
  {
   "cell_type": "code",
   "execution_count": null,
   "id": "849d4d7a",
   "metadata": {},
   "outputs": [],
   "source": []
  },
  {
   "cell_type": "code",
   "execution_count": null,
   "id": "72c34be5",
   "metadata": {},
   "outputs": [],
   "source": []
  }
 ],
 "metadata": {
  "kernelspec": {
   "display_name": "py3.12",
   "language": "python",
   "name": "python3"
  },
  "language_info": {
   "codemirror_mode": {
    "name": "ipython",
    "version": 3
   },
   "file_extension": ".py",
   "mimetype": "text/x-python",
   "name": "python",
   "nbconvert_exporter": "python",
   "pygments_lexer": "ipython3",
   "version": "3.12.7"
  }
 },
 "nbformat": 4,
 "nbformat_minor": 5
}
