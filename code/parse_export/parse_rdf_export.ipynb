{
 "cells": [
  {
   "cell_type": "code",
   "execution_count": 1,
   "metadata": {},
   "outputs": [],
   "source": [
    "import json\n",
    "import os\n",
    "from glob import glob\n",
    "\n",
    "from lxml import etree\n",
    "from tqdm.auto import tqdm\n",
    "import rispy"
   ]
  },
  {
   "cell_type": "code",
   "execution_count": 2,
   "metadata": {},
   "outputs": [],
   "source": [
    "namespaces = {\n",
    "    'rdf': 'http://www.w3.org/1999/02/22-rdf-syntax-ns#',\n",
    "    'res': 'http://purl.org/vocab/resourcelist/schema#',\n",
    "    'z': 'http://www.zotero.org/namespaces/export#',\n",
    "    'ctag': 'http://commontag.org/ns#',\n",
    "    'dcterms': 'http://purl.org/dc/terms/',\n",
    "    'bibo': 'http://purl.org/ontology/bibo/',\n",
    "    'foaf': 'http://xmlns.com/foaf/0.1/',\n",
    "    'address': 'http://schemas.talis.com/2005/address/schema#'\n",
    "}"
   ]
  },
  {
   "cell_type": "markdown",
   "metadata": {},
   "source": [
    "Some auxiliary functions:"
   ]
  },
  {
   "cell_type": "code",
   "execution_count": 3,
   "metadata": {},
   "outputs": [],
   "source": [
    "def get_author_lookup(root):\n",
    "    author_lookup = {}\n",
    "    persons = root.findall('.//foaf:Person', namespaces=namespaces)\n",
    "\n",
    "    for person in persons:\n",
    "        node_id = person.get('{http://www.w3.org/1999/02/22-rdf-syntax-ns#}nodeID')\n",
    "        if not node_id:\n",
    "            continue\n",
    "\n",
    "        given_name = person.find('foaf:givenName', namespaces)\n",
    "        surname = person.find('foaf:surname', namespaces)\n",
    "\n",
    "        person_str = ''\n",
    "        if surname is not None:\n",
    "            person_str += surname.text\n",
    "            if given_name is not None:\n",
    "                person_str += ', ' + given_name.text\n",
    "        \n",
    "        author_lookup[node_id] = person_str\n",
    "    \n",
    "    return author_lookup\n",
    "\n",
    "def get_keyword_lookup(root):\n",
    "    keyword_lookup = {}\n",
    "    user_tags = root.findall('.//ctag:UserTag', namespaces)\n",
    "    for user_tag in user_tags:\n",
    "        node_id = user_tag.get('{http://www.w3.org/1999/02/22-rdf-syntax-ns#}nodeID')\n",
    "        if not node_id:\n",
    "            continue\n",
    "        label = user_tag.find('ctag:label', namespaces)\n",
    "        if label is not None:\n",
    "            keyword_lookup[node_id] = label.text.replace('(auteur)', '').strip()\n",
    "\n",
    "    return keyword_lookup\n",
    "\n",
    "def parse_keywords(z_node, keyword_lookup):\n",
    "    keywords = []\n",
    "    tagged_elements = z_node.findall('.//ctag:tagged', namespaces=namespaces)\n",
    "    for tagged in tagged_elements:\n",
    "        node_id = tagged.get('{http://www.w3.org/1999/02/22-rdf-syntax-ns#}nodeID')\n",
    "        if node_id and node_id in keyword_lookup:\n",
    "            keywords.append(keyword_lookup[node_id])\n",
    "\n",
    "        user_tag = tagged.find('ctag:UserTag/ctag:label', namespaces=namespaces)\n",
    "        if user_tag is not None:\n",
    "            keywords.append(user_tag.text)\n",
    "\n",
    "    return {'keywords': keywords}"
   ]
  },
  {
   "cell_type": "markdown",
   "metadata": {},
   "source": [
    "Category-specific parsing functions:"
   ]
  },
  {
   "cell_type": "code",
   "execution_count": 4,
   "metadata": {},
   "outputs": [],
   "source": [
    "## journal articles\n",
    "def parse_academic_article(article, author_lookup):\n",
    "    bibo_info = {}\n",
    "\n",
    "    # Authors\n",
    "    authors = []\n",
    "    author_list = article.find('.//rdf:Seq', namespaces=namespaces)\n",
    "    if author_list is not None:\n",
    "        for li in author_list.findall('rdf:li', namespaces=namespaces):\n",
    "            node_id = li.get('{http://www.w3.org/1999/02/22-rdf-syntax-ns#}nodeID')\n",
    "            if node_id in author_lookup:\n",
    "                authors.append(author_lookup[node_id])\n",
    "    if authors:\n",
    "        bibo_info['first_authors'] = authors\n",
    "\n",
    "    # Basic metadata\n",
    "    for node_name, field_key in [\n",
    "        ('dcterms:title', 'title'),\n",
    "        ('bibo:uri', 'urls'),\n",
    "        ('dcterms:abstract', 'abstract'),\n",
    "        ('bibo:doi', 'doi'),\n",
    "        ('bibo:shortTitle', 'short_title'),\n",
    "        ('dcterms:source', 'notes_abstract')\n",
    "    ]:\n",
    "        node = article.find(node_name, namespaces)\n",
    "        if node is not None and node.text:\n",
    "            bibo_info[field_key] = node.text\n",
    "\n",
    "    # Pages\n",
    "    pages_node = article.find('bibo:pages', namespaces)\n",
    "    if pages_node is not None and pages_node.text:\n",
    "        pages = pages_node.text.split('-')\n",
    "        if len(pages) == 2:\n",
    "            start_page, end_page = pages\n",
    "        else:\n",
    "            start_page = end_page = pages[0]\n",
    "        bibo_info['start_page'] = '-'.join((start_page, end_page))\n",
    "\n",
    "    # Reviews\n",
    "    reviews_node = article.find('.//bibo:lccn', namespaces)\n",
    "    if reviews_node is not None and reviews_node.text:\n",
    "        bibo_info['research_notes'] = reviews_node.text\n",
    "\n",
    "    # Issue information\n",
    "    issue_node = article.find('.//bibo:Issue', namespaces=namespaces)\n",
    "    if issue_node is not None:\n",
    "        for node_name, field_key in [\n",
    "            ('dcterms:date', 'year'),\n",
    "            ('bibo:volume', 'volume'),\n",
    "            ('bibo:issue', 'number')\n",
    "        ]:\n",
    "            node = issue_node.find(node_name, namespaces=namespaces)\n",
    "            if node is not None and node.text:\n",
    "                bibo_info[field_key] = node.text\n",
    "\n",
    "    # Journal information\n",
    "    journal_node = article.find('.//bibo:Journal', namespaces)\n",
    "    if journal_node is not None:\n",
    "        # Journal title\n",
    "        journal_title_node = journal_node.find('dcterms:title', namespaces)\n",
    "        if journal_title_node is not None and journal_title_node.text:\n",
    "            bibo_info['journal_name'] = journal_title_node.text\n",
    "        \n",
    "        # ISSN\n",
    "        issn_node = journal_node.find('bibo:issn', namespaces)\n",
    "        if issn_node is not None and issn_node.text:\n",
    "            bibo_info['issn'] = issn_node.text\n",
    "\n",
    "        # Look for Series within the Journal node\n",
    "        series_nodes = journal_node.findall('.//bibo:Series', namespaces)\n",
    "        if series_nodes:\n",
    "            for series_node in series_nodes:\n",
    "                if series_node is not None:\n",
    "                    title_node = series_node.find('dcterms:title', namespaces)\n",
    "                    if title_node is not None and title_node.text:\n",
    "                        bibo_info['tertiary_title'] = title_node.text\n",
    "                        break\n",
    "\n",
    "    return bibo_info\n",
    "\n",
    "def parse_jour(z_node, author_lookup, keyword_lookup):\n",
    "    info = {}\n",
    "    \n",
    "    # Try to find the academic article node\n",
    "    bibo_node = None\n",
    "    \n",
    "    # First check direct child\n",
    "    next_node = z_node.getnext()\n",
    "    if next_node is not None and next_node.tag == '{' + namespaces['bibo'] + '}AcademicArticle':\n",
    "        bibo_node = next_node\n",
    "    \n",
    "    # If not found, try resource reference\n",
    "    if bibo_node is None:\n",
    "        resource_url = z_node.xpath('.//res:resource/@rdf:resource', namespaces=namespaces)\n",
    "        if resource_url:\n",
    "            try:\n",
    "                articles = z_node.xpath(f\"//bibo:AcademicArticle\", namespaces=namespaces)\n",
    "                for article in articles:\n",
    "                    if article.get('{'+namespaces['rdf']+'}about') == resource_url[0]:\n",
    "                        bibo_node = article\n",
    "                        break\n",
    "            except:\n",
    "                pass\n",
    "    \n",
    "    # If still not found, try direct search\n",
    "    if bibo_node is None:\n",
    "        articles = z_node.xpath('.//bibo:AcademicArticle', namespaces=namespaces)\n",
    "        if articles:\n",
    "            bibo_node = articles[0] if isinstance(articles, list) else articles\n",
    "    \n",
    "    # Only parse if we found a valid node\n",
    "    if bibo_node is not None:\n",
    "        info.update(parse_academic_article(bibo_node, author_lookup))\n",
    "    \n",
    "    # Add keywords regardless\n",
    "    info.update(parse_keywords(z_node, keyword_lookup=keyword_lookup))\n",
    "    return info\n",
    "\n",
    "## books:\n",
    "def parse_bibo_book(book, author_lookup):\n",
    "    bibo_info = {}\n",
    "\n",
    "    authors = []\n",
    "    author_list = book.find('.//bibo:authorList/rdf:Seq', namespaces)\n",
    "    if author_list is not None:\n",
    "        for li in author_list.findall('rdf:li', namespaces):\n",
    "            node_id = li.get('{http://www.w3.org/1999/02/22-rdf-syntax-ns#}nodeID')\n",
    "            if node_id in author_lookup:\n",
    "                authors.append(author_lookup[node_id])\n",
    "    if authors:\n",
    "        bibo_info['first_authors'] = authors\n",
    "\n",
    "    editors = []\n",
    "    editor_list = book.find('.//bibo:editorList/rdf:Seq', namespaces)\n",
    "    if editor_list is not None:\n",
    "        for li in editor_list.findall('rdf:li', namespaces):\n",
    "            node_id = li.get('{http://www.w3.org/1999/02/22-rdf-syntax-ns#}nodeID')\n",
    "            if node_id in author_lookup:\n",
    "                editors.append(author_lookup[node_id])\n",
    "    if editors:\n",
    "        bibo_info['secondary_authors'] = editors\n",
    "\n",
    "    translators = []\n",
    "    for translator_node in book.findall('.//bibo:translator', namespaces):\n",
    "        node_id = translator_node.get('{http://www.w3.org/1999/02/22-rdf-syntax-ns#}nodeID')\n",
    "        if node_id in author_lookup:\n",
    "            translators.append(author_lookup[node_id])\n",
    "    if translators:\n",
    "        bibo_info['tertiary_authors'] = translators\n",
    "\n",
    "    source_node = book.find('dcterms:source', namespaces)\n",
    "    if source_node is not None:\n",
    "        bibo_info['notes_abstract'] = source_node.text\n",
    "\n",
    "    edition_node = book.find('bibo:edition', namespaces)\n",
    "    if edition_node is not None:\n",
    "        bibo_info['edition'] = edition_node.text\n",
    "\n",
    "    title_node = book.find('dcterms:title', namespaces)\n",
    "    if title_node is not None:\n",
    "        bibo_info['title'] = title_node.text\n",
    "\n",
    "    date_node = book.find('dcterms:date', namespaces)\n",
    "    if date_node is not None:\n",
    "        bibo_info['year'] = date_node.text\n",
    "\n",
    "    uri_node = book.find('bibo:uri', namespaces)\n",
    "    if uri_node is not None:\n",
    "        bibo_info['urls'] = uri_node.text\n",
    "    \n",
    "    abstract_node = book.find('dcterms:abstract', namespaces)\n",
    "    if abstract_node is not None:\n",
    "        bibo_info['abstract'] = abstract_node.text\n",
    "    \n",
    "    pages_node = book.find('bibo:numPages', namespaces)\n",
    "    if pages_node is not None:\n",
    "        bibo_info['start_page'] = pages_node.text\n",
    "    \n",
    "    isbn_nodes = book.findall('bibo:isbn13', namespaces)\n",
    "    if isbn_nodes is not None:\n",
    "        bibo_info['issn'] = ' '.join([inode.text for inode in isbn_nodes])\n",
    "    \n",
    "    doi_node = book.find('bibo:doi', namespaces)\n",
    "    if doi_node is not None:\n",
    "        bibo_info['doi'] = doi_node.text\n",
    "\n",
    "    reviews_node = book.find('.//bibo:lccn', namespaces)\n",
    "    if reviews_node is not None:\n",
    "        bibo_info['research_notes'] = reviews_node.text\n",
    "    \n",
    "    volume_node = book.find('bibo:volume', namespaces)\n",
    "    if volume_node is not None:\n",
    "        bibo_info['volume'] = volume_node.text\n",
    "\n",
    "    reviewed_node = book.find('.//bibo:shortTitle', namespaces)\n",
    "    if reviewed_node is not None:\n",
    "        bibo_info['reviewed_item'] = reviewed_node.text\n",
    "\n",
    "    series_node = book.find('.//bibo:Series', namespaces)\n",
    "    if series_node is not None:\n",
    "        series_title_node = series_node.find('dcterms:title', namespaces)\n",
    "        if series_title_node is not None:\n",
    "            bibo_info['secondary_title'] = series_title_node.text\n",
    "        series_number_node = series_node.find('bibo:number', namespaces)\n",
    "        if series_number_node is not None:\n",
    "            bibo_info['note'] = series_number_node.text\n",
    "\n",
    "    publisher_node = book.find('{http://purl.org/dc/terms/}publisher/foaf:Organization', namespaces)\n",
    "    if publisher_node is not None:\n",
    "        publisher_name_node = publisher_node.find('{http://xmlns.com/foaf/0.1/}name', namespaces)\n",
    "        locality_node = publisher_node.find('{http://schemas.talis.com/2005/address/schema#}localityName', namespaces)\n",
    "\n",
    "        if publisher_name_node is not None:\n",
    "            bibo_info['publisher'] = publisher_name_node.text\n",
    "        if locality_node is not None:\n",
    "            bibo_info['place_published'] = locality_node.text\n",
    "   \n",
    "    return bibo_info\n",
    "    \n",
    "def parse_book(z_node, author_lookup, keyword_lookup):\n",
    "    info = {}\n",
    "\n",
    "    next_node = z_node.getnext()\n",
    "    if next_node is not None and next_node.tag == '{' + namespaces['bibo'] + '}Book':\n",
    "        bibo_node = next_node\n",
    "    else:\n",
    "        resource_node = z_node.find('{http://purl.org/vocab/resourcelist/schema#}resource')\n",
    "        if resource_node is not None:\n",
    "            bibo_node = resource_node.find('{http://purl.org/ontology/bibo/}Book')\n",
    "        else:\n",
    "            bibo_node = z_node.find('{http://purl.org/ontology/bibo/}Book')\n",
    "    \n",
    "    if bibo_node is not None:\n",
    "        info.update(parse_bibo_book(bibo_node, author_lookup))\n",
    "    \n",
    "    info.update(parse_keywords(z_node, keyword_lookup))\n",
    "    return info\n",
    "\n",
    "## chapters:\n",
    "def parse_bibo_chapter(chapter, author_lookup):\n",
    "    bibo_info = {}\n",
    "\n",
    "    authors = []\n",
    "    author_list = chapter.find('.//bibo:authorList/rdf:Seq', namespaces=namespaces)\n",
    "    if author_list is not None:\n",
    "        for li in author_list.findall('rdf:li', namespaces=namespaces):\n",
    "            node_id = li.get('{http://www.w3.org/1999/02/22-rdf-syntax-ns#}nodeID')\n",
    "            if node_id in author_lookup:\n",
    "                authors.append(author_lookup[node_id])\n",
    "    if authors:\n",
    "        bibo_info['first_authors'] = authors\n",
    "\n",
    "    editors = []\n",
    "    editor_list = chapter.find('.//bibo:editorList/rdf:Seq', namespaces=namespaces)\n",
    "    if editor_list is not None:\n",
    "        for li in editor_list.findall('rdf:li', namespaces=namespaces):\n",
    "            node_id = li.get('{http://www.w3.org/1999/02/22-rdf-syntax-ns#}nodeID')\n",
    "            if node_id in author_lookup:\n",
    "                editors.append(author_lookup[node_id])\n",
    "    if editors:\n",
    "        bibo_info['secondary_authors'] = editors\n",
    "\n",
    "    translators = []\n",
    "    for translator_node in chapter.findall('.//bibo:translator', namespaces):\n",
    "        node_id = translator_node.get('{http://www.w3.org/1999/02/22-rdf-syntax-ns#}nodeID')\n",
    "        if node_id in author_lookup:\n",
    "            translators.append(author_lookup[node_id])\n",
    "    if translators:\n",
    "        bibo_info['tertiary_authors'] = translators\n",
    "\n",
    "    source_node = chapter.find('dcterms:source', namespaces)\n",
    "    if source_node is not None:\n",
    "        bibo_info['notes_abstract'] = source_node.text\n",
    "\n",
    "    title_node = chapter.find('dcterms:title', namespaces)\n",
    "    if title_node is not None:\n",
    "        bibo_info['title'] = title_node.text\n",
    "\n",
    "    date_node = chapter.find('dcterms:date', namespaces)\n",
    "    if date_node is not None:\n",
    "        bibo_info['year'] = date_node.text\n",
    "\n",
    "    uri_node = chapter.find('bibo:uri', namespaces)\n",
    "    if uri_node is not None:\n",
    "        bibo_info['urls'] = uri_node.text\n",
    "    \n",
    "    abstract_node = chapter.find('dcterms:abstract', namespaces)\n",
    "    if abstract_node is not None:\n",
    "        bibo_info['abstract'] = abstract_node.text\n",
    "\n",
    "    reviews_node = chapter.find('.//bibo:lccn', namespaces)\n",
    "    if reviews_node is not None:\n",
    "        bibo_info['research_notes'] = reviews_node.text\n",
    "    \n",
    "    pages_node = chapter.find('bibo:pages', namespaces)\n",
    "    if pages_node is not None:\n",
    "        bibo_info['start_page'] = pages_node.text\n",
    "    \n",
    "    isbn_nodes = chapter.findall('bibo:isbn13', namespaces)\n",
    "    if isbn_nodes:\n",
    "        bibo_info['issn'] = ' '.join([inode.text for inode in isbn_nodes])\n",
    "    \n",
    "    doi_node = chapter.find('bibo:doi', namespaces)\n",
    "    if doi_node is not None:\n",
    "        bibo_info['doi'] = doi_node.text\n",
    "\n",
    "    volume_node = chapter.find('bibo:volume', namespaces)\n",
    "    if volume_node is not None:\n",
    "        bibo_info['volume'] = volume_node.text\n",
    "\n",
    "    series_node = chapter.find('.//bibo:Series', namespaces)\n",
    "    if series_node is not None:\n",
    "        series_title_node = series_node.find('dcterms:title', namespaces)\n",
    "        if series_title_node is not None:\n",
    "            bibo_info['tertiary_title'] = series_title_node.text\n",
    "        series_number_node = series_node.find('bibo:number', namespaces)\n",
    "        if series_number_node is not None:\n",
    "            bibo_info['number'] = series_number_node.text\n",
    "\n",
    "    reviewed_node = chapter.find('.//bibo:shortTitle', namespaces)\n",
    "    if reviewed_node is not None:\n",
    "        bibo_info['short_title'] = reviewed_node.text\n",
    "\n",
    "    edited_book_node = chapter.find('.//bibo:EditedBook', namespaces)\n",
    "    if edited_book_node is not None:\n",
    "        edited_book_title_node = edited_book_node.find('dcterms:title', namespaces)\n",
    "        if edited_book_title_node is not None:\n",
    "            bibo_info['secondary_title'] = edited_book_title_node.text\n",
    "\n",
    "        edited_book_year_node = edited_book_node.find('dcterms:date', namespaces)\n",
    "        if edited_book_year_node is not None:\n",
    "            bibo_info['year'] = edited_book_year_node.text\n",
    "\n",
    "        isbn_node = edited_book_node.find('bibo:isbn13', namespaces)\n",
    "        if isbn_node is not None:\n",
    "            bibo_info['issn'] = isbn_node.text\n",
    "\n",
    "        publisher_node = edited_book_node.find('dcterms:publisher/foaf:Organization', namespaces)\n",
    "        if publisher_node is not None:\n",
    "            publisher_name_node = publisher_node.find('foaf:name', namespaces)\n",
    "            locality_node = publisher_node.find('address:localityName', namespaces)\n",
    "\n",
    "            if publisher_name_node is not None:\n",
    "                bibo_info['publisher'] = publisher_name_node.text\n",
    "            if locality_node is not None:\n",
    "                bibo_info['place_published'] = locality_node.text\n",
    "   \n",
    "    return bibo_info\n",
    "\n",
    "\n",
    "def parse_chapter(z_node, author_lookup, keyword_lookup):\n",
    "    info = {}\n",
    "\n",
    "    next_node = z_node.getnext()\n",
    "    if next_node is not None and next_node.tag == '{' + namespaces['bibo'] + '}BookSection':\n",
    "        bibo_node = next_node\n",
    "    else:\n",
    "        resource_node = z_node.find('res:resource', namespaces)\n",
    "        if resource_node is not None:\n",
    "            bibo_node = resource_node.find('bibo:BookSection', namespaces)\n",
    "        else:\n",
    "            bibo_node = z_node.find('bibo:BookSection', namespaces)\n",
    "    \n",
    "    if bibo_node is not None:\n",
    "        info.update(parse_bibo_chapter(bibo_node, author_lookup))\n",
    "    \n",
    "    info.update(parse_keywords(z_node, keyword_lookup))\n",
    "\n",
    "    return info\n",
    "\n",
    "## web pages:\n",
    "def parse_bibo_webpage(book, author_lookup):\n",
    "    bibo_info = {}\n",
    "\n",
    "    authors = []\n",
    "    author_list = book.find('.//bibo:authorList/rdf:Seq', namespaces)\n",
    "    if author_list is not None:\n",
    "        for li in author_list.findall('rdf:li', namespaces):\n",
    "            node_id = li.get('{http://www.w3.org/1999/02/22-rdf-syntax-ns#}nodeID')\n",
    "            if node_id in author_lookup:\n",
    "                authors.append(author_lookup[node_id])\n",
    "    if authors:\n",
    "        bibo_info['first_authors'] = authors\n",
    "\n",
    "    editors = []\n",
    "    editor_list = book.find('.//bibo:editorList/rdf:Seq', namespaces)\n",
    "    if editor_list is not None:\n",
    "        for li in editor_list.findall('rdf:li', namespaces):\n",
    "            node_id = li.get('{http://www.w3.org/1999/02/22-rdf-syntax-ns#}nodeID')\n",
    "            if node_id in author_lookup:\n",
    "                editors.append(author_lookup[node_id])\n",
    "    if editors:\n",
    "        bibo_info['tertiary_authors'] = editors\n",
    "\n",
    "    translators = []\n",
    "    for translator_node in book.findall('.//bibo:translator', namespaces):\n",
    "        node_id = translator_node.get('{http://www.w3.org/1999/02/22-rdf-syntax-ns#}nodeID')\n",
    "        if node_id in author_lookup:\n",
    "            translators.append(author_lookup[node_id])\n",
    "    if translators:\n",
    "        bibo_info['subsidiary_authors'] = translators\n",
    "\n",
    "    source_node = book.find('dcterms:source', namespaces)\n",
    "    if source_node is not None:\n",
    "        bibo_info['notes_abstract'] = source_node.text\n",
    "\n",
    "    title_node = book.find('dcterms:title', namespaces)\n",
    "    if title_node is not None:\n",
    "        bibo_info['title'] = title_node.text\n",
    "\n",
    "    date_node = book.find('.//dcterms:date', namespaces)\n",
    "    if date_node is not None:\n",
    "        bibo_info['year'] = date_node.text\n",
    "\n",
    "    uri_node = book.find('bibo:uri', namespaces)\n",
    "    if uri_node is not None:\n",
    "        bibo_info['urls'] = uri_node.text\n",
    "    \n",
    "    abstract_node = book.find('dcterms:abstract', namespaces)\n",
    "    if abstract_node is not None:\n",
    "        bibo_info['abstract'] = abstract_node.text\n",
    "    \n",
    "    pages_node = book.find('bibo:numPages', namespaces)\n",
    "    if pages_node is not None:\n",
    "        bibo_info['start_page'] = pages_node.text\n",
    "    \n",
    "    isbn_nodes = book.findall('bibo:isbn13', namespaces)\n",
    "    if isbn_nodes is not None:\n",
    "        bibo_info['issn'] = ' '.join([inode.text for inode in isbn_nodes])\n",
    "    \n",
    "    doi_node = book.find('bibo:doi', namespaces)\n",
    "    if doi_node is not None:\n",
    "        bibo_info['doi'] = doi_node.text\n",
    "    \n",
    "    reviews_node = book.find('.//dcterms:language', namespaces)\n",
    "    if reviews_node is not None:\n",
    "        bibo_info['research_notes'] = reviews_node.text\n",
    "\n",
    "    volume_node = book.find('bibo:volume', namespaces)\n",
    "    if volume_node is not None:\n",
    "        bibo_info['volume'] = volume_node.text\n",
    "\n",
    "    series_node = book.find('.//bibo:Series', namespaces)\n",
    "    if series_node is not None:\n",
    "        series_title_node = series_node.find('dcterms:title', namespaces)\n",
    "        if series_title_node is not None:\n",
    "            bibo_info['secondary_title'] = series_title_node.text\n",
    "        series_number_node = series_node.find('bibo:number', namespaces)\n",
    "        if series_number_node is not None:\n",
    "            bibo_info['note'] = series_number_node.text\n",
    "\n",
    "    reviewed_node = book.find('.//bibo:shortTitle', namespaces)\n",
    "    if reviewed_node is not None:\n",
    "        bibo_info['short_title'] = reviewed_node.text\n",
    "\n",
    "    publisher_node = book.find('{http://purl.org/dc/terms/}publisher/foaf:Organization', namespaces)\n",
    "    if publisher_node is not None:\n",
    "        publisher_name_node = publisher_node.find('{http://xmlns.com/foaf/0.1/}name', namespaces)\n",
    "        locality_node = publisher_node.find('{http://schemas.talis.com/2005/address/schema#}localityName', namespaces)\n",
    "\n",
    "        if publisher_name_node is not None:\n",
    "            bibo_info['publisher'] = publisher_name_node.text\n",
    "        if locality_node is not None:\n",
    "            bibo_info['place_published'] = locality_node.text\n",
    "   \n",
    "    return bibo_info\n",
    "    \n",
    "def parse_web(z_node, author_lookup, keyword_lookup):\n",
    "    info = {}\n",
    "\n",
    "    next_node = z_node.getnext()\n",
    "    if next_node is not None and next_node.tag == '{' + namespaces['bibo'] + '}Webpage':\n",
    "        bibo_node = next_node\n",
    "    else:\n",
    "        resource_node = z_node.find('{http://purl.org/vocab/resourcelist/schema#}resource')\n",
    "        if resource_node is not None:\n",
    "            bibo_node = resource_node.find('{http://purl.org/ontology/bibo/}Webpage')\n",
    "        else:\n",
    "            bibo_node = z_node.find('{http://purl.org/ontology/bibo/}Webpage')\n",
    "    \n",
    "    if bibo_node is not None:\n",
    "        info.update(parse_bibo_webpage(bibo_node, author_lookup))\n",
    "    \n",
    "    info.update(parse_keywords(z_node, keyword_lookup))\n",
    "\n",
    "    return info\n",
    "\n",
    "## cdroms etc\n",
    "def parse_bibo_film(book, author_lookup):\n",
    "    bibo_info = {}\n",
    "\n",
    "    authors = []\n",
    "    author_list = book.find('.//bibo:authorList/rdf:Seq', namespaces)\n",
    "    if author_list is not None:\n",
    "        for li in author_list.findall('rdf:li', namespaces):\n",
    "            node_id = li.get('{http://www.w3.org/1999/02/22-rdf-syntax-ns#}nodeID')\n",
    "            if node_id in author_lookup:\n",
    "                authors.append(author_lookup[node_id])\n",
    "    if authors:\n",
    "        bibo_info['first_authors'] = authors\n",
    "\n",
    "    editors = []\n",
    "    editor_list = book.find('.//bibo:editorList/rdf:Seq', namespaces)\n",
    "    if editor_list is not None:\n",
    "        for li in editor_list.findall('rdf:li', namespaces):\n",
    "            node_id = li.get('{http://www.w3.org/1999/02/22-rdf-syntax-ns#}nodeID')\n",
    "            if node_id in author_lookup:\n",
    "                editors.append(author_lookup[node_id])\n",
    "    if editors:\n",
    "        bibo_info['tertiary_authors'] = editors\n",
    "\n",
    "    translators = []\n",
    "    for translator_node in book.findall('.//bibo:translator', namespaces):\n",
    "        node_id = translator_node.get('{http://www.w3.org/1999/02/22-rdf-syntax-ns#}nodeID')\n",
    "        if node_id in author_lookup:\n",
    "            translators.append(author_lookup[node_id])\n",
    "    if translators:\n",
    "        bibo_info['subsidiary_authors'] = translators\n",
    "\n",
    "    source_node = book.find('dcterms:source', namespaces)\n",
    "    if source_node is not None:\n",
    "        bibo_info['notes_abstract'] = source_node.text\n",
    "\n",
    "    title_node = book.find('dcterms:title', namespaces)\n",
    "    if title_node is not None:\n",
    "        bibo_info['title'] = title_node.text\n",
    "\n",
    "    date_node = book.find('.//dcterms:date', namespaces)\n",
    "    if date_node is not None:\n",
    "        bibo_info['year'] = date_node.text\n",
    "\n",
    "    uri_node = book.find('bibo:uri', namespaces)\n",
    "    if uri_node is not None:\n",
    "        bibo_info['urls'] = uri_node.text\n",
    "    \n",
    "    abstract_node = book.find('dcterms:abstract', namespaces)\n",
    "    if abstract_node is not None:\n",
    "        bibo_info['abstract'] = abstract_node.text\n",
    "    \n",
    "    pages_node = book.find('bibo:numPages', namespaces)\n",
    "    if pages_node is not None:\n",
    "        bibo_info['start_page'] = pages_node.text\n",
    "    \n",
    "    isbn_nodes = book.findall('bibo:isbn13', namespaces)\n",
    "    if isbn_nodes is not None:\n",
    "        bibo_info['issn'] = ' '.join([inode.text for inode in isbn_nodes])\n",
    "    \n",
    "    doi_node = book.find('bibo:doi', namespaces)\n",
    "    if doi_node is not None:\n",
    "        bibo_info['doi'] = doi_node.text\n",
    "    \n",
    "    reviews_node = book.find('bibo:lccn', namespaces)\n",
    "    if reviews_node is not None and reviews_node.text:\n",
    "        bibo_info['research_notes'] = reviews_node.text.strip()\n",
    "\n",
    "    volume_node = book.find('bibo:volume', namespaces)\n",
    "    if volume_node is not None:\n",
    "        bibo_info['volume'] = volume_node.text\n",
    "\n",
    "    series_node = book.find('.//bibo:Series', namespaces)\n",
    "    if series_node is not None:\n",
    "        series_title_node = series_node.find('dcterms:title', namespaces)\n",
    "        if series_title_node is not None:\n",
    "            bibo_info['secondary_title'] = series_title_node.text\n",
    "        series_number_node = series_node.find('bibo:number', namespaces)\n",
    "        if series_number_node is not None:\n",
    "            bibo_info['note'] = series_number_node.text\n",
    "\n",
    "    publisher_node = book.find('{http://purl.org/dc/terms/}publisher/foaf:Organization', namespaces)\n",
    "    if publisher_node is not None:\n",
    "        publisher_name_node = publisher_node.find('{http://xmlns.com/foaf/0.1/}name', namespaces)\n",
    "        locality_node = publisher_node.find('{http://schemas.talis.com/2005/address/schema#}localityName', namespaces)\n",
    "\n",
    "        if publisher_name_node is not None:\n",
    "            bibo_info['publisher'] = publisher_name_node.text\n",
    "        if locality_node is not None:\n",
    "            bibo_info['place_published'] = locality_node.text\n",
    "   \n",
    "    return bibo_info\n",
    "    \n",
    "def parse_advs(z_node, author_lookup, keyword_lookup):\n",
    "    info = {}\n",
    "\n",
    "    bibo_node = None\n",
    "    next_node = z_node.getnext()\n",
    "    if next_node is not None and next_node.tag == '{' + namespaces['bibo'] + '}Film':\n",
    "        bibo_node = next_node\n",
    "    else:\n",
    "        resource_node = z_node.find('res:resource', namespaces)\n",
    "        if resource_node is not None:\n",
    "            bibo_node = resource_node.find('bibo:Film', namespaces)\n",
    "        else:\n",
    "            bibo_node = z_node.find('bibo:Film', namespaces)\n",
    "    \n",
    "    if bibo_node is not None:\n",
    "        info.update(parse_bibo_film(bibo_node, author_lookup))\n",
    "    \n",
    "    info.update(parse_keywords(z_node, keyword_lookup))\n",
    "    return info"
   ]
  },
  {
   "cell_type": "code",
   "execution_count": 6,
   "metadata": {},
   "outputs": [
    {
     "data": {
      "application/vnd.jupyter.widget-view+json": {
       "model_id": "0b2027072d2340d29fe75e9c788492ef",
       "version_major": 2,
       "version_minor": 0
      },
      "text/plain": [
       "Processing files:   0%|          | 0/58 [00:00<?, ?it/s]"
      ]
     },
     "metadata": {},
     "output_type": "display_data"
    },
    {
     "data": {
      "application/vnd.jupyter.widget-view+json": {
       "model_id": "0ef70a81b1c546f5a8b0be980dd22c96",
       "version_major": 2,
       "version_minor": 0
      },
      "text/plain": [
       "ADVS 2000s.rdf:   0%|          | 0/54 [00:00<?, ?it/s]"
      ]
     },
     "metadata": {},
     "output_type": "display_data"
    },
    {
     "data": {
      "application/vnd.jupyter.widget-view+json": {
       "model_id": "5a80aa1cc68646d8810fcb4cd047d962",
       "version_major": 2,
       "version_minor": 0
      },
      "text/plain": [
       "Nieuwe invoer 14-3-2024 tot 9-12-2024.rdf:   0%|          | 0/14504 [00:00<?, ?it/s]"
      ]
     },
     "metadata": {},
     "output_type": "display_data"
    },
    {
     "data": {
      "application/vnd.jupyter.widget-view+json": {
       "model_id": "61583f658c664decbdabea88bb6148de",
       "version_major": 2,
       "version_minor": 0
      },
      "text/plain": [
       "WEB 1980s.rdf:   0%|          | 0/1 [00:00<?, ?it/s]"
      ]
     },
     "metadata": {},
     "output_type": "display_data"
    },
    {
     "data": {
      "application/vnd.jupyter.widget-view+json": {
       "model_id": "b665caf895894d588a9d566652e2eded",
       "version_major": 2,
       "version_minor": 0
      },
      "text/plain": [
       "CHAP 1960s.rdf:   0%|          | 0/4084 [00:00<?, ?it/s]"
      ]
     },
     "metadata": {},
     "output_type": "display_data"
    },
    {
     "data": {
      "application/vnd.jupyter.widget-view+json": {
       "model_id": "f3b126ae5b984146b3d7c1d99742c5cd",
       "version_major": 2,
       "version_minor": 0
      },
      "text/plain": [
       "CHAP 1940s.rdf:   0%|          | 0/1764 [00:00<?, ?it/s]"
      ]
     },
     "metadata": {},
     "output_type": "display_data"
    },
    {
     "data": {
      "application/vnd.jupyter.widget-view+json": {
       "model_id": "d32bbab2e42b41dc803bebecd6b05960",
       "version_major": 2,
       "version_minor": 0
      },
      "text/plain": [
       "EJOUR MISC.rdf:   0%|          | 0/2 [00:00<?, ?it/s]"
      ]
     },
     "metadata": {},
     "output_type": "display_data"
    },
    {
     "data": {
      "application/vnd.jupyter.widget-view+json": {
       "model_id": "7c0509b321414c5da164559ae3b5d286",
       "version_major": 2,
       "version_minor": 0
      },
      "text/plain": [
       "JOUR 1990s.rdf:   0%|          | 0/44498 [00:00<?, ?it/s]"
      ]
     },
     "metadata": {},
     "output_type": "display_data"
    },
    {
     "data": {
      "application/vnd.jupyter.widget-view+json": {
       "model_id": "6ea054cad0c3404fa7d3c68c759fee38",
       "version_major": 2,
       "version_minor": 0
      },
      "text/plain": [
       "ADVS 2020s.rdf:   0%|          | 0/2 [00:00<?, ?it/s]"
      ]
     },
     "metadata": {},
     "output_type": "display_data"
    },
    {
     "data": {
      "application/vnd.jupyter.widget-view+json": {
       "model_id": "0c6371f93bd24efba87f6d96541cdd0b",
       "version_major": 2,
       "version_minor": 0
      },
      "text/plain": [
       "BOOK 1980s.rdf:   0%|          | 0/6722 [00:00<?, ?it/s]"
      ]
     },
     "metadata": {},
     "output_type": "display_data"
    },
    {
     "data": {
      "application/vnd.jupyter.widget-view+json": {
       "model_id": "47e57f07c1f441d48e54f0a538f7099f",
       "version_major": 2,
       "version_minor": 0
      },
      "text/plain": [
       "EJOUR 2010s.rdf:   0%|          | 0/569 [00:00<?, ?it/s]"
      ]
     },
     "metadata": {},
     "output_type": "display_data"
    },
    {
     "data": {
      "application/vnd.jupyter.widget-view+json": {
       "model_id": "5c804761e02548a2aadeb16656949962",
       "version_major": 2,
       "version_minor": 0
      },
      "text/plain": [
       "JOUR MISC.rdf:   0%|          | 0/3483 [00:00<?, ?it/s]"
      ]
     },
     "metadata": {},
     "output_type": "display_data"
    },
    {
     "data": {
      "application/vnd.jupyter.widget-view+json": {
       "model_id": "86af326cdc274a5e8e0e482c3c53a4de",
       "version_major": 2,
       "version_minor": 0
      },
      "text/plain": [
       "JOUR 2000s.rdf:   0%|          | 0/27745 [00:00<?, ?it/s]"
      ]
     },
     "metadata": {},
     "output_type": "display_data"
    },
    {
     "data": {
      "application/vnd.jupyter.widget-view+json": {
       "model_id": "34ab94b841c34ce1ba563cc1c13aa966",
       "version_major": 2,
       "version_minor": 0
      },
      "text/plain": [
       "BOOK 2010s.rdf:   0%|          | 0/3891 [00:00<?, ?it/s]"
      ]
     },
     "metadata": {},
     "output_type": "display_data"
    },
    {
     "data": {
      "application/vnd.jupyter.widget-view+json": {
       "model_id": "c9f10bc6ce934de69974857ca47cdb09",
       "version_major": 2,
       "version_minor": 0
      },
      "text/plain": [
       "JFULL 1970s.rdf:   0%|          | 0/273 [00:00<?, ?it/s]"
      ]
     },
     "metadata": {},
     "output_type": "display_data"
    },
    {
     "data": {
      "application/vnd.jupyter.widget-view+json": {
       "model_id": "e870f5b9f65f4ca7bee25c8e37439c71",
       "version_major": 2,
       "version_minor": 0
      },
      "text/plain": [
       "JFULL 1950s.rdf:   0%|          | 0/17 [00:00<?, ?it/s]"
      ]
     },
     "metadata": {},
     "output_type": "display_data"
    },
    {
     "data": {
      "application/vnd.jupyter.widget-view+json": {
       "model_id": "df221cddbd4e47af8217c647cd7bf6be",
       "version_major": 2,
       "version_minor": 0
      },
      "text/plain": [
       "JOUR 2020s.rdf:   0%|          | 0/5238 [00:00<?, ?it/s]"
      ]
     },
     "metadata": {},
     "output_type": "display_data"
    },
    {
     "data": {
      "application/vnd.jupyter.widget-view+json": {
       "model_id": "9fb89776807246a097b04a3178272f8b",
       "version_major": 2,
       "version_minor": 0
      },
      "text/plain": [
       "WEB 2010s.rdf:   0%|          | 0/85 [00:00<?, ?it/s]"
      ]
     },
     "metadata": {},
     "output_type": "display_data"
    },
    {
     "data": {
      "application/vnd.jupyter.widget-view+json": {
       "model_id": "6e004e31da3f4b9c8d4ea1b0c1bc5c62",
       "version_major": 2,
       "version_minor": 0
      },
      "text/plain": [
       "ADVS 1990s.rdf:   0%|          | 0/33 [00:00<?, ?it/s]"
      ]
     },
     "metadata": {},
     "output_type": "display_data"
    },
    {
     "data": {
      "application/vnd.jupyter.widget-view+json": {
       "model_id": "46e02663885743509e56ba63c4362955",
       "version_major": 2,
       "version_minor": 0
      },
      "text/plain": [
       "BOOK MISC.rdf:   0%|          | 0/1182 [00:00<?, ?it/s]"
      ]
     },
     "metadata": {},
     "output_type": "display_data"
    },
    {
     "data": {
      "application/vnd.jupyter.widget-view+json": {
       "model_id": "532c3effa97444e98a55c00728365f7c",
       "version_major": 2,
       "version_minor": 0
      },
      "text/plain": [
       "JOUR 1980s.rdf:   0%|          | 0/34995 [00:00<?, ?it/s]"
      ]
     },
     "metadata": {},
     "output_type": "display_data"
    },
    {
     "data": {
      "application/vnd.jupyter.widget-view+json": {
       "model_id": "77c256ca1c2f4d089d26213ce714e745",
       "version_major": 2,
       "version_minor": 0
      },
      "text/plain": [
       "CHAP 1950s.rdf:   0%|          | 0/1161 [00:00<?, ?it/s]"
      ]
     },
     "metadata": {},
     "output_type": "display_data"
    },
    {
     "data": {
      "application/vnd.jupyter.widget-view+json": {
       "model_id": "276a6099b1fb452caf241f9b140d4246",
       "version_major": 2,
       "version_minor": 0
      },
      "text/plain": [
       "EJOUR 2000s.rdf:   0%|          | 0/628 [00:00<?, ?it/s]"
      ]
     },
     "metadata": {},
     "output_type": "display_data"
    },
    {
     "data": {
      "application/vnd.jupyter.widget-view+json": {
       "model_id": "20602dcaeaec455e9122fe7afa0eda11",
       "version_major": 2,
       "version_minor": 0
      },
      "text/plain": [
       "BOOK 1990s.rdf:   0%|          | 0/7991 [00:00<?, ?it/s]"
      ]
     },
     "metadata": {},
     "output_type": "display_data"
    },
    {
     "data": {
      "application/vnd.jupyter.widget-view+json": {
       "model_id": "f10eed9c27cc4d11a4c1522a043e65e2",
       "version_major": 2,
       "version_minor": 0
      },
      "text/plain": [
       "JFULL MISC.rdf:   0%|          | 0/6051 [00:00<?, ?it/s]"
      ]
     },
     "metadata": {},
     "output_type": "display_data"
    },
    {
     "data": {
      "application/vnd.jupyter.widget-view+json": {
       "model_id": "332435be5d79414b8eebe73a26fc620a",
       "version_major": 2,
       "version_minor": 0
      },
      "text/plain": [
       "EJOUR 2020s.rdf:   0%|          | 0/251 [00:00<?, ?it/s]"
      ]
     },
     "metadata": {},
     "output_type": "display_data"
    },
    {
     "data": {
      "application/vnd.jupyter.widget-view+json": {
       "model_id": "af472e7cc5674d1ebe79efe0ca567407",
       "version_major": 2,
       "version_minor": 0
      },
      "text/plain": [
       "CHAP 1970s.rdf:   0%|          | 0/6650 [00:00<?, ?it/s]"
      ]
     },
     "metadata": {},
     "output_type": "display_data"
    },
    {
     "data": {
      "application/vnd.jupyter.widget-view+json": {
       "model_id": "39d92e774eea46818278facd542a7929",
       "version_major": 2,
       "version_minor": 0
      },
      "text/plain": [
       "WEB 1990s.rdf:   0%|          | 0/10 [00:00<?, ?it/s]"
      ]
     },
     "metadata": {},
     "output_type": "display_data"
    },
    {
     "data": {
      "application/vnd.jupyter.widget-view+json": {
       "model_id": "63ee571a852149c8b6a82591c8606b97",
       "version_major": 2,
       "version_minor": 0
      },
      "text/plain": [
       "ADVS 2010s.rdf:   0%|          | 0/9 [00:00<?, ?it/s]"
      ]
     },
     "metadata": {},
     "output_type": "display_data"
    },
    {
     "data": {
      "application/vnd.jupyter.widget-view+json": {
       "model_id": "b68dbe36a9d04f7caeec3ab13a22243a",
       "version_major": 2,
       "version_minor": 0
      },
      "text/plain": [
       "JFULL 1940s.rdf:   0%|          | 0/68 [00:00<?, ?it/s]"
      ]
     },
     "metadata": {},
     "output_type": "display_data"
    },
    {
     "data": {
      "application/vnd.jupyter.widget-view+json": {
       "model_id": "e0ed549670964aea8eec899b54f8618d",
       "version_major": 2,
       "version_minor": 0
      },
      "text/plain": [
       "BOOK 2020s.rdf:   0%|          | 0/825 [00:00<?, ?it/s]"
      ]
     },
     "metadata": {},
     "output_type": "display_data"
    },
    {
     "data": {
      "application/vnd.jupyter.widget-view+json": {
       "model_id": "300ff51e69f5457b8306c7c010a9a9f7",
       "version_major": 2,
       "version_minor": 0
      },
      "text/plain": [
       "ADVS 1980s.rdf:   0%|          | 0/2 [00:00<?, ?it/s]"
      ]
     },
     "metadata": {},
     "output_type": "display_data"
    },
    {
     "data": {
      "application/vnd.jupyter.widget-view+json": {
       "model_id": "65181c290d854bc796bfd920e8ec088e",
       "version_major": 2,
       "version_minor": 0
      },
      "text/plain": [
       "WEB 2000s.rdf:   0%|          | 0/485 [00:00<?, ?it/s]"
      ]
     },
     "metadata": {},
     "output_type": "display_data"
    },
    {
     "data": {
      "application/vnd.jupyter.widget-view+json": {
       "model_id": "64c033979c874e59a9ae5bcccc0cb4f2",
       "version_major": 2,
       "version_minor": 0
      },
      "text/plain": [
       "JOUR 2010s.rdf:   0%|          | 0/20043 [00:00<?, ?it/s]"
      ]
     },
     "metadata": {},
     "output_type": "display_data"
    },
    {
     "data": {
      "application/vnd.jupyter.widget-view+json": {
       "model_id": "7ce17884defd4c83958912113d1a1e86",
       "version_major": 2,
       "version_minor": 0
      },
      "text/plain": [
       "WEB MISC.rdf:   0%|          | 0/32 [00:00<?, ?it/s]"
      ]
     },
     "metadata": {},
     "output_type": "display_data"
    },
    {
     "data": {
      "application/vnd.jupyter.widget-view+json": {
       "model_id": "025d577bbe2f47bb8cbc9cc9f531aaad",
       "version_major": 2,
       "version_minor": 0
      },
      "text/plain": [
       "WEB 2020s.rdf:   0%|          | 0/1 [00:00<?, ?it/s]"
      ]
     },
     "metadata": {},
     "output_type": "display_data"
    },
    {
     "data": {
      "application/vnd.jupyter.widget-view+json": {
       "model_id": "8c15bbad01e045da9c5f8c7a37bad331",
       "version_major": 2,
       "version_minor": 0
      },
      "text/plain": [
       "JFULL 1960s.rdf:   0%|          | 0/190 [00:00<?, ?it/s]"
      ]
     },
     "metadata": {},
     "output_type": "display_data"
    },
    {
     "data": {
      "application/vnd.jupyter.widget-view+json": {
       "model_id": "c9187d6546104cdcaa5f00bc6a4fa034",
       "version_major": 2,
       "version_minor": 0
      },
      "text/plain": [
       "BOOK 2000s.rdf:   0%|          | 0/6229 [00:00<?, ?it/s]"
      ]
     },
     "metadata": {},
     "output_type": "display_data"
    },
    {
     "data": {
      "application/vnd.jupyter.widget-view+json": {
       "model_id": "a20066ed8d084ce184780666fa3445a1",
       "version_major": 2,
       "version_minor": 0
      },
      "text/plain": [
       "EJOUR 1990s.rdf:   0%|          | 0/97 [00:00<?, ?it/s]"
      ]
     },
     "metadata": {},
     "output_type": "display_data"
    },
    {
     "data": {
      "application/vnd.jupyter.widget-view+json": {
       "model_id": "fa24c5cc560f4e7d8a36df7f67664e45",
       "version_major": 2,
       "version_minor": 0
      },
      "text/plain": [
       "CHAP 2000s.rdf:   0%|          | 0/11027 [00:00<?, ?it/s]"
      ]
     },
     "metadata": {},
     "output_type": "display_data"
    },
    {
     "data": {
      "application/vnd.jupyter.widget-view+json": {
       "model_id": "f79cbaad410846c1b4527b1610c05600",
       "version_major": 2,
       "version_minor": 0
      },
      "text/plain": [
       "CHAP 2020s.rdf:   0%|          | 0/1627 [00:00<?, ?it/s]"
      ]
     },
     "metadata": {},
     "output_type": "display_data"
    },
    {
     "data": {
      "application/vnd.jupyter.widget-view+json": {
       "model_id": "1dad836ed4564460a4e9400f74890e32",
       "version_major": 2,
       "version_minor": 0
      },
      "text/plain": [
       "JFULL 1980s.rdf:   0%|          | 0/619 [00:00<?, ?it/s]"
      ]
     },
     "metadata": {},
     "output_type": "display_data"
    },
    {
     "data": {
      "application/vnd.jupyter.widget-view+json": {
       "model_id": "0d613cf4802f42e395310cb4f2f5a40f",
       "version_major": 2,
       "version_minor": 0
      },
      "text/plain": [
       "JOUR 1960s.rdf:   0%|          | 0/19387 [00:00<?, ?it/s]"
      ]
     },
     "metadata": {},
     "output_type": "display_data"
    },
    {
     "data": {
      "application/vnd.jupyter.widget-view+json": {
       "model_id": "9d70fac488ed493093649ca1e9657975",
       "version_major": 2,
       "version_minor": 0
      },
      "text/plain": [
       "BOOK 1970s.rdf:   0%|          | 0/3623 [00:00<?, ?it/s]"
      ]
     },
     "metadata": {},
     "output_type": "display_data"
    },
    {
     "data": {
      "application/vnd.jupyter.widget-view+json": {
       "model_id": "c837a8ea7f5b48be830ef76dfbc60c45",
       "version_major": 2,
       "version_minor": 0
      },
      "text/plain": [
       "JFULL 2010s.rdf:   0%|          | 0/442 [00:00<?, ?it/s]"
      ]
     },
     "metadata": {},
     "output_type": "display_data"
    },
    {
     "data": {
      "application/vnd.jupyter.widget-view+json": {
       "model_id": "c325ec01c9eb4b43a61a7425f56ff436",
       "version_major": 2,
       "version_minor": 0
      },
      "text/plain": [
       "BOOK 1950s.rdf:   0%|          | 0/917 [00:00<?, ?it/s]"
      ]
     },
     "metadata": {},
     "output_type": "display_data"
    },
    {
     "data": {
      "application/vnd.jupyter.widget-view+json": {
       "model_id": "8cbd3be8fea147fc87576e530458bd41",
       "version_major": 2,
       "version_minor": 0
      },
      "text/plain": [
       "CHAP MISC.rdf:   0%|          | 0/470 [00:00<?, ?it/s]"
      ]
     },
     "metadata": {},
     "output_type": "display_data"
    },
    {
     "data": {
      "application/vnd.jupyter.widget-view+json": {
       "model_id": "fba3667b1d3543d5b759675e6c7a013b",
       "version_major": 2,
       "version_minor": 0
      },
      "text/plain": [
       "JOUR 1940s.rdf:   0%|          | 0/9897 [00:00<?, ?it/s]"
      ]
     },
     "metadata": {},
     "output_type": "display_data"
    },
    {
     "data": {
      "application/vnd.jupyter.widget-view+json": {
       "model_id": "c871829d00df4a6eb00fbaea7233be98",
       "version_major": 2,
       "version_minor": 0
      },
      "text/plain": [
       "CHAP 1990s.rdf:   0%|          | 0/14247 [00:00<?, ?it/s]"
      ]
     },
     "metadata": {},
     "output_type": "display_data"
    },
    {
     "data": {
      "application/vnd.jupyter.widget-view+json": {
       "model_id": "686f77e152134453b02a65e012ee32a4",
       "version_major": 2,
       "version_minor": 0
      },
      "text/plain": [
       "JFULL 1990s.rdf:   0%|          | 0/660 [00:00<?, ?it/s]"
      ]
     },
     "metadata": {},
     "output_type": "display_data"
    },
    {
     "data": {
      "application/vnd.jupyter.widget-view+json": {
       "model_id": "d23e076bc0904469a0b0040aa38a402f",
       "version_major": 2,
       "version_minor": 0
      },
      "text/plain": [
       "CHAP 2010s.rdf:   0%|          | 0/6300 [00:00<?, ?it/s]"
      ]
     },
     "metadata": {},
     "output_type": "display_data"
    },
    {
     "data": {
      "application/vnd.jupyter.widget-view+json": {
       "model_id": "bddf419ab59c41d6ad8a646b85dcde10",
       "version_major": 2,
       "version_minor": 0
      },
      "text/plain": [
       "JFULL 2020s.rdf:   0%|          | 0/161 [00:00<?, ?it/s]"
      ]
     },
     "metadata": {},
     "output_type": "display_data"
    },
    {
     "data": {
      "application/vnd.jupyter.widget-view+json": {
       "model_id": "04cf1fe6d2b340cfb0a0c2492958c486",
       "version_major": 2,
       "version_minor": 0
      },
      "text/plain": [
       "BOOK 1940s.rdf:   0%|          | 0/1437 [00:00<?, ?it/s]"
      ]
     },
     "metadata": {},
     "output_type": "display_data"
    },
    {
     "data": {
      "application/vnd.jupyter.widget-view+json": {
       "model_id": "ef8025acfce74ef08dbe0109ddb9edd3",
       "version_major": 2,
       "version_minor": 0
      },
      "text/plain": [
       "CHAP 1980s.rdf:   0%|          | 0/12289 [00:00<?, ?it/s]"
      ]
     },
     "metadata": {},
     "output_type": "display_data"
    },
    {
     "data": {
      "application/vnd.jupyter.widget-view+json": {
       "model_id": "54ab93266cea4243ab288d9b95c0e967",
       "version_major": 2,
       "version_minor": 0
      },
      "text/plain": [
       "JOUR 1950s.rdf:   0%|          | 0/6218 [00:00<?, ?it/s]"
      ]
     },
     "metadata": {},
     "output_type": "display_data"
    },
    {
     "data": {
      "application/vnd.jupyter.widget-view+json": {
       "model_id": "ca7625d7a99e46abbb847377e50689c6",
       "version_major": 2,
       "version_minor": 0
      },
      "text/plain": [
       "JOUR 1970s.rdf:   0%|          | 0/25511 [00:00<?, ?it/s]"
      ]
     },
     "metadata": {},
     "output_type": "display_data"
    },
    {
     "data": {
      "application/vnd.jupyter.widget-view+json": {
       "model_id": "9478671372be455788c68b696c49cf8a",
       "version_major": 2,
       "version_minor": 0
      },
      "text/plain": [
       "ADVS MISC.rdf:   0%|          | 0/3 [00:00<?, ?it/s]"
      ]
     },
     "metadata": {},
     "output_type": "display_data"
    },
    {
     "data": {
      "application/vnd.jupyter.widget-view+json": {
       "model_id": "1fbff3f4c0a841deaaa6eb623a68270e",
       "version_major": 2,
       "version_minor": 0
      },
      "text/plain": [
       "JFULL 2000s.rdf:   0%|          | 0/479 [00:00<?, ?it/s]"
      ]
     },
     "metadata": {},
     "output_type": "display_data"
    },
    {
     "data": {
      "application/vnd.jupyter.widget-view+json": {
       "model_id": "9d5517b902524deba4fc19642cdc4f00",
       "version_major": 2,
       "version_minor": 0
      },
      "text/plain": [
       "BOOK 1960s.rdf:   0%|          | 0/2185 [00:00<?, ?it/s]"
      ]
     },
     "metadata": {},
     "output_type": "display_data"
    }
   ],
   "source": [
    "for fn in tqdm(glob('../../data/BNTL_FinalExport/*.rdf'), \n",
    "               desc=\"Processing files\", \n",
    "               position=0, \n",
    "               leave=True):\n",
    "    \n",
    "    parsedf = os.path.basename(fn).replace('.rdf', '.ris')\n",
    "    parsedf = f'parsed/{parsedf}'\n",
    "    \n",
    "    with open(fn, 'r', encoding='utf-8') as file:\n",
    "        xml_content = file.read()\n",
    "    root = etree.fromstring(xml_content)\n",
    "\n",
    "    author_lookup = get_author_lookup(root)\n",
    "    keyword_lookup = get_keyword_lookup(root)\n",
    "\n",
    "    user_items = tuple(root.xpath('//z:UserItem', namespaces=namespaces))\n",
    "\n",
    "    parsed = []\n",
    "    for z_node in tqdm(user_items, \n",
    "                      desc=os.path.basename(fn),\n",
    "                      position=1, \n",
    "                      leave=False):\n",
    "        info = {}\n",
    "\n",
    "        user_item_url = z_node.xpath('@rdf:about', namespaces=namespaces)\n",
    "        if user_item_url:\n",
    "            info['id'] = user_item_url[0]\n",
    "        else:\n",
    "            continue\n",
    "        \n",
    "        access_date_node = z_node.find('z:accessDate', namespaces)\n",
    "        if access_date_node is not None:\n",
    "            info['access_date'] = access_date_node.text\n",
    "        \n",
    "        academic_article = z_node.xpath('.//bibo:AcademicArticle', namespaces=namespaces)\n",
    "        \n",
    "        if not academic_article:\n",
    "            resource_url = z_node.xpath('.//res:resource/@rdf:resource', namespaces=namespaces)\n",
    "            if resource_url:\n",
    "                try:\n",
    "                    all_articles = root.xpath(\"//bibo:AcademicArticle\", namespaces=namespaces)\n",
    "                    academic_article = [article for article in all_articles \n",
    "                                     if article.get('{'+namespaces['rdf']+'}about') == resource_url[0]]\n",
    "                except:\n",
    "                    academic_article = []\n",
    "\n",
    "        if academic_article:\n",
    "            info.update(parse_jour(z_node, author_lookup=author_lookup, keyword_lookup=keyword_lookup))\n",
    "            info['type_of_reference'] = 'JOUR'\n",
    "        \n",
    "        next_node = z_node.getnext()\n",
    "        \n",
    "        if ((next_node is not None and next_node.tag == '{' + namespaces['bibo'] + '}Book') or \n",
    "            z_node.xpath('.//bibo:Book', namespaces=namespaces)):\n",
    "            info.update(parse_book(z_node, author_lookup=author_lookup, keyword_lookup=keyword_lookup))\n",
    "            info['type_of_reference'] = 'BOOK'\n",
    "\n",
    "            if 'keywords' in info and \"Speciaal tijdschriftnummer\" in set(info['keywords']):\n",
    "                info['type_of_reference'] = 'JFULL'\n",
    "\n",
    "        elif ((next_node is not None and next_node.tag == '{' + namespaces['bibo'] + '}BookSection') or \n",
    "              z_node.xpath('.//bibo:BookSection', namespaces=namespaces)):\n",
    "            info.update(parse_chapter(z_node, author_lookup=author_lookup, keyword_lookup=keyword_lookup))\n",
    "            info['type_of_reference'] = 'CHAP'\n",
    "\n",
    "        elif ((next_node is not None and next_node.tag == '{' + namespaces['bibo'] + '}Webpage') or \n",
    "              z_node.xpath('.//bibo:Webpage', namespaces=namespaces)):\n",
    "            info.update(parse_web(z_node, author_lookup=author_lookup, keyword_lookup=keyword_lookup))\n",
    "            info['type_of_reference'] = 'WEB'\n",
    "\n",
    "        elif ((next_node is not None and next_node.tag == '{' + namespaces['bibo'] + '}Film') or \n",
    "              z_node.xpath('.//bibo:Film', namespaces=namespaces)):\n",
    "            info.update(parse_advs(z_node, author_lookup=author_lookup, keyword_lookup=keyword_lookup))\n",
    "            info['type_of_reference'] = 'ADVS'\n",
    "\n",
    "        if info:\n",
    "            if 'keywords' in info and 'foutmelding (keywords)' in info['keywords']:\n",
    "                info['keywords'].remove('foutmelding (keywords)')\n",
    "\n",
    "            if 'urls' in info and not isinstance(info['urls'], list):\n",
    "                info['urls'] = [info['urls']]\n",
    "\n",
    "            parsed.append(info)\n",
    "\n",
    "    with open(parsedf, 'w') as bibliography_file:\n",
    "        rispy.dump(parsed, bibliography_file)"
   ]
  },
  {
   "cell_type": "code",
   "execution_count": null,
   "metadata": {},
   "outputs": [],
   "source": []
  },
  {
   "cell_type": "code",
   "execution_count": null,
   "metadata": {},
   "outputs": [],
   "source": []
  }
 ],
 "metadata": {
  "kernelspec": {
   "display_name": "py3.12",
   "language": "python",
   "name": "python3"
  },
  "language_info": {
   "codemirror_mode": {
    "name": "ipython",
    "version": 3
   },
   "file_extension": ".py",
   "mimetype": "text/x-python",
   "name": "python",
   "nbconvert_exporter": "python",
   "pygments_lexer": "ipython3",
   "version": "3.12.7"
  }
 },
 "nbformat": 4,
 "nbformat_minor": 2
}
