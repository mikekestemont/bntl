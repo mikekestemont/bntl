{
 "cells": [
  {
   "cell_type": "code",
   "execution_count": 1,
   "metadata": {},
   "outputs": [],
   "source": [
    "import json\n",
    "import os\n",
    "from glob import glob\n",
    "\n",
    "from lxml import etree\n",
    "from tqdm.auto import tqdm"
   ]
  },
  {
   "cell_type": "code",
   "execution_count": 2,
   "metadata": {},
   "outputs": [],
   "source": [
    "namespaces = {\n",
    "    'rdf': 'http://www.w3.org/1999/02/22-rdf-syntax-ns#',\n",
    "    'res': 'http://purl.org/vocab/resourcelist/schema#',\n",
    "    'z': 'http://www.zotero.org/namespaces/export#',\n",
    "    'ctag': 'http://commontag.org/ns#',\n",
    "    'dcterms': 'http://purl.org/dc/terms/',\n",
    "    'bibo': 'http://purl.org/ontology/bibo/',\n",
    "    'foaf': 'http://xmlns.com/foaf/0.1/',\n",
    "    'address': 'http://schemas.talis.com/2005/address/schema#'\n",
    "}"
   ]
  },
  {
   "cell_type": "markdown",
   "metadata": {},
   "source": [
    "Some auxiliary functions:"
   ]
  },
  {
   "cell_type": "code",
   "execution_count": 3,
   "metadata": {},
   "outputs": [],
   "source": [
    "def get_author_lookup(root):\n",
    "    author_lookup = {}\n",
    "    persons = root.findall('.//foaf:Person', namespaces=namespaces)\n",
    "\n",
    "    for person in persons:\n",
    "        node_id = person.get('{http://www.w3.org/1999/02/22-rdf-syntax-ns#}nodeID')\n",
    "        if not node_id:\n",
    "            continue\n",
    "\n",
    "        given_name = person.find('foaf:givenName', namespaces)\n",
    "        surname = person.find('foaf:surname', namespaces)\n",
    "\n",
    "        person_str = ''\n",
    "        if surname is not None:\n",
    "            person_str += surname.text\n",
    "            if given_name is not None:\n",
    "                person_str += ', ' + given_name.text\n",
    "        \n",
    "        author_lookup[node_id] = person_str\n",
    "    \n",
    "    return author_lookup\n",
    "\n",
    "def get_keyword_lookup(root):\n",
    "    keyword_lookup = {}\n",
    "    user_tags = root.findall('.//ctag:UserTag', namespaces)\n",
    "    for user_tag in user_tags:\n",
    "        node_id = user_tag.get('{http://www.w3.org/1999/02/22-rdf-syntax-ns#}nodeID')\n",
    "        if not node_id:\n",
    "            continue\n",
    "        label = user_tag.find('ctag:label', namespaces)\n",
    "        if label is not None:\n",
    "            keyword_lookup[node_id] = label.text.replace('(auteur)', '').strip()\n",
    "\n",
    "    return keyword_lookup\n",
    "\n",
    "def parse_keywords(z_node, keyword_lookup):\n",
    "    keywords = []\n",
    "    tagged_elements = z_node.findall('.//ctag:tagged', namespaces=namespaces)\n",
    "    for tagged in tagged_elements:\n",
    "        node_id = tagged.get('{http://www.w3.org/1999/02/22-rdf-syntax-ns#}nodeID')\n",
    "        if node_id and node_id in keyword_lookup:\n",
    "            keywords.append(keyword_lookup[node_id])\n",
    "\n",
    "        user_tag = tagged.find('ctag:UserTag/ctag:label', namespaces=namespaces)\n",
    "        if user_tag is not None:\n",
    "            keywords.append(user_tag.text)\n",
    "\n",
    "    return {'KW': keywords}"
   ]
  },
  {
   "cell_type": "markdown",
   "metadata": {},
   "source": [
    "Category-specific parsing functions:"
   ]
  },
  {
   "cell_type": "code",
   "execution_count": 4,
   "metadata": {},
   "outputs": [],
   "source": [
    "## journal articles\n",
    "def parse_academic_article(article, author_lookup):\n",
    "    bibo_info = {}\n",
    "\n",
    "    # Authors\n",
    "    authors = []\n",
    "    author_list = article.find('.//rdf:Seq', namespaces=namespaces)\n",
    "    if author_list is not None:\n",
    "        for li in author_list.findall('rdf:li', namespaces=namespaces):\n",
    "            node_id = li.get('{http://www.w3.org/1999/02/22-rdf-syntax-ns#}nodeID')\n",
    "            if node_id in author_lookup:\n",
    "                authors.append(author_lookup[node_id])\n",
    "    if authors:\n",
    "        bibo_info['AU'] = authors\n",
    "\n",
    "    # Basic metadata\n",
    "    for node_name, field_key in [\n",
    "        ('dcterms:title', 'TI'),\n",
    "        ('bibo:uri', 'UR'),\n",
    "        ('dcterms:abstract', 'AB'),\n",
    "        ('bibo:doi', 'DO'),\n",
    "        ('bibo:shortTitle', 'ST'),\n",
    "        ('dcterms:source', 'EX')\n",
    "    ]:\n",
    "        node = article.find(node_name, namespaces)\n",
    "        if node is not None and node.text:\n",
    "            bibo_info[field_key] = node.text\n",
    "\n",
    "    # Pages\n",
    "    pages_node = article.find('bibo:pages', namespaces)\n",
    "    if pages_node is not None and pages_node.text:\n",
    "        pages = pages_node.text.split('-')\n",
    "        if len(pages) == 2:\n",
    "            start_page, end_page = pages\n",
    "        else:\n",
    "            start_page = end_page = pages[0]\n",
    "        bibo_info['SP-EP'] = '-'.join((start_page, end_page))\n",
    "\n",
    "    # Reviews\n",
    "    reviews_node = article.find('.//bibo:lccn', namespaces)\n",
    "    if reviews_node is not None and reviews_node.text:\n",
    "        bibo_info['CN'] = reviews_node.text\n",
    "\n",
    "    # Issue information\n",
    "    issue_node = article.find('.//bibo:Issue', namespaces=namespaces)\n",
    "    if issue_node is not None:\n",
    "        for node_name, field_key in [\n",
    "            ('dcterms:date', 'PY'),\n",
    "            ('bibo:volume', 'VL'),\n",
    "            ('bibo:issue', 'IS')\n",
    "        ]:\n",
    "            node = issue_node.find(node_name, namespaces=namespaces)\n",
    "            if node is not None and node.text:\n",
    "                bibo_info[field_key] = node.text\n",
    "\n",
    "    # Journal information\n",
    "    journal_node = article.find('.//bibo:Journal', namespaces)\n",
    "    if journal_node is not None:\n",
    "        # Journal title\n",
    "        journal_title_node = journal_node.find('dcterms:title', namespaces)\n",
    "        if journal_title_node is not None and journal_title_node.text:\n",
    "            bibo_info['JO'] = journal_title_node.text\n",
    "        \n",
    "        # ISSN\n",
    "        issn_node = journal_node.find('bibo:issn', namespaces)\n",
    "        if issn_node is not None and issn_node.text:\n",
    "            bibo_info['SN'] = issn_node.text\n",
    "\n",
    "        # Look for Series within the Journal node\n",
    "        series_nodes = journal_node.findall('.//bibo:Series', namespaces)\n",
    "        if series_nodes:\n",
    "            for series_node in series_nodes:\n",
    "                if series_node is not None:\n",
    "                    title_node = series_node.find('dcterms:title', namespaces)\n",
    "                    if title_node is not None and title_node.text:\n",
    "                        bibo_info['T3'] = title_node.text\n",
    "                        break\n",
    "\n",
    "    return bibo_info\n",
    "\n",
    "def parse_jour(z_node, author_lookup, keyword_lookup):\n",
    "    info = {}\n",
    "    \n",
    "    # Try to find the academic article node\n",
    "    bibo_node = None\n",
    "    \n",
    "    # First check direct child\n",
    "    next_node = z_node.getnext()\n",
    "    if next_node is not None and next_node.tag == '{' + namespaces['bibo'] + '}AcademicArticle':\n",
    "        bibo_node = next_node\n",
    "    \n",
    "    # If not found, try resource reference\n",
    "    if bibo_node is None:\n",
    "        resource_url = z_node.xpath('.//res:resource/@rdf:resource', namespaces=namespaces)\n",
    "        if resource_url:\n",
    "            try:\n",
    "                articles = z_node.xpath(f\"//bibo:AcademicArticle\", namespaces=namespaces)\n",
    "                for article in articles:\n",
    "                    if article.get('{'+namespaces['rdf']+'}about') == resource_url[0]:\n",
    "                        bibo_node = article\n",
    "                        break\n",
    "            except:\n",
    "                pass\n",
    "    \n",
    "    # If still not found, try direct search\n",
    "    if bibo_node is None:\n",
    "        articles = z_node.xpath('.//bibo:AcademicArticle', namespaces=namespaces)\n",
    "        if articles:\n",
    "            bibo_node = articles[0] if isinstance(articles, list) else articles\n",
    "    \n",
    "    # Only parse if we found a valid node\n",
    "    if bibo_node is not None:\n",
    "        info.update(parse_academic_article(bibo_node, author_lookup))\n",
    "    \n",
    "    # Add keywords regardless\n",
    "    info.update(parse_keywords(z_node, keyword_lookup=keyword_lookup))\n",
    "    return info\n",
    "\n",
    "## books:\n",
    "def parse_bibo_book(book, author_lookup):\n",
    "    bibo_info = {}\n",
    "\n",
    "    authors = []\n",
    "    author_list = book.find('.//bibo:authorList/rdf:Seq', namespaces)\n",
    "    if author_list is not None:\n",
    "        for li in author_list.findall('rdf:li', namespaces):\n",
    "            node_id = li.get('{http://www.w3.org/1999/02/22-rdf-syntax-ns#}nodeID')\n",
    "            if node_id in author_lookup:\n",
    "                authors.append(author_lookup[node_id])\n",
    "    if authors:\n",
    "        bibo_info['AU'] = authors\n",
    "\n",
    "    editors = []\n",
    "    editor_list = book.find('.//bibo:editorList/rdf:Seq', namespaces)\n",
    "    if editor_list is not None:\n",
    "        for li in editor_list.findall('rdf:li', namespaces):\n",
    "            node_id = li.get('{http://www.w3.org/1999/02/22-rdf-syntax-ns#}nodeID')\n",
    "            if node_id in author_lookup:\n",
    "                editors.append(author_lookup[node_id])\n",
    "    if editors:\n",
    "        bibo_info['A2'] = editors\n",
    "\n",
    "    translators = []\n",
    "    for translator_node in book.findall('.//bibo:translator', namespaces):\n",
    "        node_id = translator_node.get('{http://www.w3.org/1999/02/22-rdf-syntax-ns#}nodeID')\n",
    "        if node_id in author_lookup:\n",
    "            translators.append(author_lookup[node_id])\n",
    "    if translators:\n",
    "        bibo_info['A3'] = translators\n",
    "\n",
    "    source_node = book.find('dcterms:source', namespaces)\n",
    "    if source_node is not None:\n",
    "        bibo_info['EX'] = source_node.text\n",
    "\n",
    "    edition_node = book.find('bibo:edition', namespaces)\n",
    "    if edition_node is not None:\n",
    "        bibo_info['ET'] = edition_node.text\n",
    "\n",
    "    title_node = book.find('dcterms:title', namespaces)\n",
    "    if title_node is not None:\n",
    "        bibo_info['TI'] = title_node.text\n",
    "\n",
    "    date_node = book.find('dcterms:date', namespaces)\n",
    "    if date_node is not None:\n",
    "        bibo_info['PY'] = date_node.text\n",
    "\n",
    "    uri_node = book.find('bibo:uri', namespaces)\n",
    "    if uri_node is not None:\n",
    "        bibo_info['UR'] = uri_node.text\n",
    "    \n",
    "    abstract_node = book.find('dcterms:abstract', namespaces)\n",
    "    if abstract_node is not None:\n",
    "        bibo_info['AB'] = abstract_node.text\n",
    "    \n",
    "    pages_node = book.find('bibo:numPages', namespaces)\n",
    "    if pages_node is not None:\n",
    "        bibo_info['SP'] = pages_node.text\n",
    "    \n",
    "    isbn_nodes = book.findall('bibo:isbn13', namespaces)\n",
    "    if isbn_nodes is not None:\n",
    "        bibo_info['SN'] = ' '.join([inode.text for inode in isbn_nodes])\n",
    "    \n",
    "    doi_node = book.find('bibo:doi', namespaces)\n",
    "    if doi_node is not None:\n",
    "        bibo_info['DO'] = doi_node.text\n",
    "\n",
    "    reviews_node = book.find('.//bibo:lccn', namespaces)\n",
    "    if reviews_node is not None:\n",
    "        bibo_info['CN'] = reviews_node.text\n",
    "    \n",
    "    volume_node = book.find('bibo:volume', namespaces)\n",
    "    if volume_node is not None:\n",
    "        bibo_info['VL'] = volume_node.text\n",
    "\n",
    "    reviewed_node = book.find('.//bibo:shortTitle', namespaces)\n",
    "    if reviewed_node is not None:\n",
    "        bibo_info['ST'] = reviewed_node.text\n",
    "\n",
    "    series_node = book.find('.//bibo:Series', namespaces)\n",
    "    if series_node is not None:\n",
    "        series_title_node = series_node.find('dcterms:title', namespaces)\n",
    "        if series_title_node is not None:\n",
    "            bibo_info['T2'] = series_title_node.text\n",
    "        series_number_node = series_node.find('bibo:number', namespaces)\n",
    "        if series_number_node is not None:\n",
    "            bibo_info['SV'] = series_number_node.text\n",
    "\n",
    "    publisher_node = book.find('{http://purl.org/dc/terms/}publisher/foaf:Organization', namespaces)\n",
    "    if publisher_node is not None:\n",
    "        publisher_name_node = publisher_node.find('{http://xmlns.com/foaf/0.1/}name', namespaces)\n",
    "        locality_node = publisher_node.find('{http://schemas.talis.com/2005/address/schema#}localityName', namespaces)\n",
    "\n",
    "        if publisher_name_node is not None:\n",
    "            bibo_info['PB'] = publisher_name_node.text\n",
    "        if locality_node is not None:\n",
    "            bibo_info['CY'] = locality_node.text\n",
    "   \n",
    "    return bibo_info\n",
    "    \n",
    "def parse_book(z_node, author_lookup, keyword_lookup):\n",
    "    info = {}\n",
    "\n",
    "    next_node = z_node.getnext()\n",
    "    if next_node is not None and next_node.tag == '{' + namespaces['bibo'] + '}Book':\n",
    "        bibo_node = next_node\n",
    "    else:\n",
    "        resource_node = z_node.find('{http://purl.org/vocab/resourcelist/schema#}resource')\n",
    "        if resource_node is not None:\n",
    "            bibo_node = resource_node.find('{http://purl.org/ontology/bibo/}Book')\n",
    "        else:\n",
    "            bibo_node = z_node.find('{http://purl.org/ontology/bibo/}Book')\n",
    "    \n",
    "    if bibo_node is not None:\n",
    "        info.update(parse_bibo_book(bibo_node, author_lookup))\n",
    "    \n",
    "    info.update(parse_keywords(z_node, keyword_lookup))\n",
    "    return info\n",
    "\n",
    "## chapters:\n",
    "def parse_bibo_chapter(chapter, author_lookup):\n",
    "    bibo_info = {}\n",
    "\n",
    "    authors = []\n",
    "    author_list = chapter.find('.//bibo:authorList/rdf:Seq', namespaces=namespaces)\n",
    "    if author_list is not None:\n",
    "        for li in author_list.findall('rdf:li', namespaces=namespaces):\n",
    "            node_id = li.get('{http://www.w3.org/1999/02/22-rdf-syntax-ns#}nodeID')\n",
    "            if node_id in author_lookup:\n",
    "                authors.append(author_lookup[node_id])\n",
    "    if authors:\n",
    "        bibo_info['AU'] = authors\n",
    "\n",
    "    editors = []\n",
    "    editor_list = chapter.find('.//bibo:editorList/rdf:Seq', namespaces=namespaces)\n",
    "    if editor_list is not None:\n",
    "        for li in editor_list.findall('rdf:li', namespaces=namespaces):\n",
    "            node_id = li.get('{http://www.w3.org/1999/02/22-rdf-syntax-ns#}nodeID')\n",
    "            if node_id in author_lookup:\n",
    "                editors.append(author_lookup[node_id])\n",
    "    if editors:\n",
    "        bibo_info['A2'] = editors\n",
    "\n",
    "    translators = []\n",
    "    for translator_node in chapter.findall('.//bibo:translator', namespaces):\n",
    "        node_id = translator_node.get('{http://www.w3.org/1999/02/22-rdf-syntax-ns#}nodeID')\n",
    "        if node_id in author_lookup:\n",
    "            translators.append(author_lookup[node_id])\n",
    "    if translators:\n",
    "        bibo_info['A3'] = translators\n",
    "\n",
    "    source_node = chapter.find('dcterms:source', namespaces)\n",
    "    if source_node is not None:\n",
    "        bibo_info['EX'] = source_node.text\n",
    "\n",
    "    title_node = chapter.find('dcterms:title', namespaces)\n",
    "    if title_node is not None:\n",
    "        bibo_info['TI'] = title_node.text\n",
    "\n",
    "    date_node = chapter.find('dcterms:date', namespaces)\n",
    "    if date_node is not None:\n",
    "        bibo_info['PY'] = date_node.text\n",
    "\n",
    "    uri_node = chapter.find('bibo:uri', namespaces)\n",
    "    if uri_node is not None:\n",
    "        bibo_info['UR'] = uri_node.text\n",
    "    \n",
    "    abstract_node = chapter.find('dcterms:abstract', namespaces)\n",
    "    if abstract_node is not None:\n",
    "        bibo_info['AB'] = abstract_node.text\n",
    "\n",
    "    reviews_node = chapter.find('.//bibo:lccn', namespaces)\n",
    "    if reviews_node is not None:\n",
    "        bibo_info['CN'] = reviews_node.text\n",
    "    \n",
    "    pages_node = chapter.find('bibo:pages', namespaces)\n",
    "    if pages_node is not None:\n",
    "        bibo_info['SP-EP'] = pages_node.text\n",
    "    \n",
    "    isbn_nodes = chapter.findall('bibo:isbn13', namespaces)\n",
    "    if isbn_nodes:\n",
    "        bibo_info['SN'] = ' '.join([inode.text for inode in isbn_nodes])\n",
    "    \n",
    "    doi_node = chapter.find('bibo:doi', namespaces)\n",
    "    if doi_node is not None:\n",
    "        bibo_info['DO'] = doi_node.text\n",
    "\n",
    "    volume_node = chapter.find('bibo:volume', namespaces)\n",
    "    if volume_node is not None:\n",
    "        bibo_info['VL'] = volume_node.text\n",
    "\n",
    "    series_node = chapter.find('.//bibo:Series', namespaces)\n",
    "    if series_node is not None:\n",
    "        series_title_node = series_node.find('dcterms:title', namespaces)\n",
    "        if series_title_node is not None:\n",
    "            bibo_info['T3'] = series_title_node.text\n",
    "        series_number_node = series_node.find('bibo:number', namespaces)\n",
    "        if series_number_node is not None:\n",
    "            bibo_info['SV'] = series_number_node.text\n",
    "\n",
    "    reviewed_node = chapter.find('.//bibo:shortTitle', namespaces)\n",
    "    if reviewed_node is not None:\n",
    "        bibo_info['ST'] = reviewed_node.text\n",
    "\n",
    "    edited_book_node = chapter.find('.//bibo:EditedBook', namespaces)\n",
    "    if edited_book_node is not None:\n",
    "        edited_book_title_node = edited_book_node.find('dcterms:title', namespaces)\n",
    "        if edited_book_title_node is not None:\n",
    "            bibo_info['T2'] = edited_book_title_node.text\n",
    "\n",
    "        edited_book_year_node = edited_book_node.find('dcterms:date', namespaces)\n",
    "        if edited_book_year_node is not None:\n",
    "            bibo_info['PY'] = edited_book_year_node.text\n",
    "\n",
    "        isbn_node = edited_book_node.find('bibo:isbn13', namespaces)\n",
    "        if isbn_node is not None:\n",
    "            bibo_info['SN'] = isbn_node.text\n",
    "\n",
    "        publisher_node = edited_book_node.find('dcterms:publisher/foaf:Organization', namespaces)\n",
    "        if publisher_node is not None:\n",
    "            publisher_name_node = publisher_node.find('foaf:name', namespaces)\n",
    "            locality_node = publisher_node.find('address:localityName', namespaces)\n",
    "\n",
    "            if publisher_name_node is not None:\n",
    "                bibo_info['PB'] = publisher_name_node.text\n",
    "            if locality_node is not None:\n",
    "                bibo_info['CY'] = locality_node.text\n",
    "   \n",
    "    return bibo_info\n",
    "\n",
    "\n",
    "def parse_chapter(z_node, author_lookup, keyword_lookup):\n",
    "    info = {}\n",
    "\n",
    "    next_node = z_node.getnext()\n",
    "    if next_node is not None and next_node.tag == '{' + namespaces['bibo'] + '}BookSection':\n",
    "        bibo_node = next_node\n",
    "    else:\n",
    "        resource_node = z_node.find('res:resource', namespaces)\n",
    "        if resource_node is not None:\n",
    "            bibo_node = resource_node.find('bibo:BookSection', namespaces)\n",
    "        else:\n",
    "            bibo_node = z_node.find('bibo:BookSection', namespaces)\n",
    "    \n",
    "    if bibo_node is not None:\n",
    "        info.update(parse_bibo_chapter(bibo_node, author_lookup))\n",
    "    \n",
    "    info.update(parse_keywords(z_node, keyword_lookup))\n",
    "\n",
    "    return info\n",
    "\n",
    "## web pages:\n",
    "def parse_bibo_webpage(book, author_lookup):\n",
    "    bibo_info = {}\n",
    "\n",
    "    authors = []\n",
    "    author_list = book.find('.//bibo:authorList/rdf:Seq', namespaces)\n",
    "    if author_list is not None:\n",
    "        for li in author_list.findall('rdf:li', namespaces):\n",
    "            node_id = li.get('{http://www.w3.org/1999/02/22-rdf-syntax-ns#}nodeID')\n",
    "            if node_id in author_lookup:\n",
    "                authors.append(author_lookup[node_id])\n",
    "    if authors:\n",
    "        bibo_info['AU'] = authors\n",
    "\n",
    "    editors = []\n",
    "    editor_list = book.find('.//bibo:editorList/rdf:Seq', namespaces)\n",
    "    if editor_list is not None:\n",
    "        for li in editor_list.findall('rdf:li', namespaces):\n",
    "            node_id = li.get('{http://www.w3.org/1999/02/22-rdf-syntax-ns#}nodeID')\n",
    "            if node_id in author_lookup:\n",
    "                editors.append(author_lookup[node_id])\n",
    "    if editors:\n",
    "        bibo_info['A3'] = editors\n",
    "\n",
    "    translators = []\n",
    "    for translator_node in book.findall('.//bibo:translator', namespaces):\n",
    "        node_id = translator_node.get('{http://www.w3.org/1999/02/22-rdf-syntax-ns#}nodeID')\n",
    "        if node_id in author_lookup:\n",
    "            translators.append(author_lookup[node_id])\n",
    "    if translators:\n",
    "        bibo_info['A4'] = translators\n",
    "\n",
    "    source_node = book.find('dcterms:source', namespaces)\n",
    "    if source_node is not None:\n",
    "        bibo_info['EX'] = source_node.text\n",
    "\n",
    "    title_node = book.find('dcterms:title', namespaces)\n",
    "    if title_node is not None:\n",
    "        bibo_info['TI'] = title_node.text\n",
    "\n",
    "    date_node = book.find('.//dcterms:date', namespaces)\n",
    "    if date_node is not None:\n",
    "        bibo_info['PY'] = date_node.text\n",
    "\n",
    "    uri_node = book.find('bibo:uri', namespaces)\n",
    "    if uri_node is not None:\n",
    "        bibo_info['UR'] = uri_node.text\n",
    "    \n",
    "    abstract_node = book.find('dcterms:abstract', namespaces)\n",
    "    if abstract_node is not None:\n",
    "        bibo_info['AB'] = abstract_node.text\n",
    "    \n",
    "    pages_node = book.find('bibo:numPages', namespaces)\n",
    "    if pages_node is not None:\n",
    "        bibo_info['SP'] = pages_node.text\n",
    "    \n",
    "    isbn_nodes = book.findall('bibo:isbn13', namespaces)\n",
    "    if isbn_nodes is not None:\n",
    "        bibo_info['SN'] = ' '.join([inode.text for inode in isbn_nodes])\n",
    "    \n",
    "    doi_node = book.find('bibo:doi', namespaces)\n",
    "    if doi_node is not None:\n",
    "        bibo_info['DO'] = doi_node.text\n",
    "    \n",
    "    reviews_node = book.find('.//dcterms:language', namespaces)\n",
    "    if reviews_node is not None:\n",
    "        bibo_info['CN'] = reviews_node.text\n",
    "\n",
    "    volume_node = book.find('bibo:volume', namespaces)\n",
    "    if volume_node is not None:\n",
    "        bibo_info['VL'] = volume_node.text\n",
    "\n",
    "    series_node = book.find('.//bibo:Series', namespaces)\n",
    "    if series_node is not None:\n",
    "        series_title_node = series_node.find('dcterms:title', namespaces)\n",
    "        if series_title_node is not None:\n",
    "            bibo_info['T2'] = series_title_node.text\n",
    "        series_number_node = series_node.find('bibo:number', namespaces)\n",
    "        if series_number_node is not None:\n",
    "            bibo_info['SV'] = series_number_node.text\n",
    "\n",
    "    reviewed_node = book.find('.//bibo:shortTitle', namespaces)\n",
    "    if reviewed_node is not None:\n",
    "        bibo_info['ST'] = reviewed_node.text\n",
    "\n",
    "    publisher_node = book.find('{http://purl.org/dc/terms/}publisher/foaf:Organization', namespaces)\n",
    "    if publisher_node is not None:\n",
    "        publisher_name_node = publisher_node.find('{http://xmlns.com/foaf/0.1/}name', namespaces)\n",
    "        locality_node = publisher_node.find('{http://schemas.talis.com/2005/address/schema#}localityName', namespaces)\n",
    "\n",
    "        if publisher_name_node is not None:\n",
    "            bibo_info['PB'] = publisher_name_node.text\n",
    "        if locality_node is not None:\n",
    "            bibo_info['CY'] = locality_node.text\n",
    "   \n",
    "    return bibo_info\n",
    "    \n",
    "def parse_web(z_node, author_lookup, keyword_lookup):\n",
    "    info = {}\n",
    "\n",
    "    next_node = z_node.getnext()\n",
    "    if next_node is not None and next_node.tag == '{' + namespaces['bibo'] + '}Webpage':\n",
    "        bibo_node = next_node\n",
    "    else:\n",
    "        resource_node = z_node.find('{http://purl.org/vocab/resourcelist/schema#}resource')\n",
    "        if resource_node is not None:\n",
    "            bibo_node = resource_node.find('{http://purl.org/ontology/bibo/}Webpage')\n",
    "        else:\n",
    "            bibo_node = z_node.find('{http://purl.org/ontology/bibo/}Webpage')\n",
    "    \n",
    "    if bibo_node is not None:\n",
    "        info.update(parse_bibo_webpage(bibo_node, author_lookup))\n",
    "    \n",
    "    info.update(parse_keywords(z_node, keyword_lookup))\n",
    "\n",
    "    return info\n",
    "\n",
    "## cdroms etc\n",
    "def parse_bibo_film(book, author_lookup):\n",
    "    bibo_info = {}\n",
    "\n",
    "    authors = []\n",
    "    author_list = book.find('.//bibo:authorList/rdf:Seq', namespaces)\n",
    "    if author_list is not None:\n",
    "        for li in author_list.findall('rdf:li', namespaces):\n",
    "            node_id = li.get('{http://www.w3.org/1999/02/22-rdf-syntax-ns#}nodeID')\n",
    "            if node_id in author_lookup:\n",
    "                authors.append(author_lookup[node_id])\n",
    "    if authors:\n",
    "        bibo_info['AU'] = authors\n",
    "\n",
    "    editors = []\n",
    "    editor_list = book.find('.//bibo:editorList/rdf:Seq', namespaces)\n",
    "    if editor_list is not None:\n",
    "        for li in editor_list.findall('rdf:li', namespaces):\n",
    "            node_id = li.get('{http://www.w3.org/1999/02/22-rdf-syntax-ns#}nodeID')\n",
    "            if node_id in author_lookup:\n",
    "                editors.append(author_lookup[node_id])\n",
    "    if editors:\n",
    "        bibo_info['A3'] = editors\n",
    "\n",
    "    translators = []\n",
    "    for translator_node in book.findall('.//bibo:translator', namespaces):\n",
    "        node_id = translator_node.get('{http://www.w3.org/1999/02/22-rdf-syntax-ns#}nodeID')\n",
    "        if node_id in author_lookup:\n",
    "            translators.append(author_lookup[node_id])\n",
    "    if translators:\n",
    "        bibo_info['A4'] = translators\n",
    "\n",
    "    source_node = book.find('dcterms:source', namespaces)\n",
    "    if source_node is not None:\n",
    "        bibo_info['EX'] = source_node.text\n",
    "\n",
    "    title_node = book.find('dcterms:title', namespaces)\n",
    "    if title_node is not None:\n",
    "        bibo_info['TI'] = title_node.text\n",
    "\n",
    "    date_node = book.find('.//dcterms:date', namespaces)\n",
    "    if date_node is not None:\n",
    "        bibo_info['PY'] = date_node.text\n",
    "\n",
    "    uri_node = book.find('bibo:uri', namespaces)\n",
    "    if uri_node is not None:\n",
    "        bibo_info['UR'] = uri_node.text\n",
    "    \n",
    "    abstract_node = book.find('dcterms:abstract', namespaces)\n",
    "    if abstract_node is not None:\n",
    "        bibo_info['AB'] = abstract_node.text\n",
    "    \n",
    "    pages_node = book.find('bibo:numPages', namespaces)\n",
    "    if pages_node is not None:\n",
    "        bibo_info['SP'] = pages_node.text\n",
    "    \n",
    "    isbn_nodes = book.findall('bibo:isbn13', namespaces)\n",
    "    if isbn_nodes is not None:\n",
    "        bibo_info['SN'] = ' '.join([inode.text for inode in isbn_nodes])\n",
    "    \n",
    "    doi_node = book.find('bibo:doi', namespaces)\n",
    "    if doi_node is not None:\n",
    "        bibo_info['DO'] = doi_node.text\n",
    "    \n",
    "    language_node = book.find('bibo:lccn', namespaces)\n",
    "    if language_node is not None:\n",
    "        bibo_info['CN'] = language_node.text\n",
    "\n",
    "    volume_node = book.find('bibo:volume', namespaces)\n",
    "    if volume_node is not None:\n",
    "        bibo_info['VL'] = volume_node.text\n",
    "\n",
    "    series_node = book.find('.//bibo:Series', namespaces)\n",
    "    if series_node is not None:\n",
    "        series_title_node = series_node.find('dcterms:title', namespaces)\n",
    "        if series_title_node is not None:\n",
    "            bibo_info['T2'] = series_title_node.text\n",
    "        series_number_node = series_node.find('bibo:number', namespaces)\n",
    "        if series_number_node is not None:\n",
    "            bibo_info['SV'] = series_number_node.text\n",
    "\n",
    "    publisher_node = book.find('{http://purl.org/dc/terms/}publisher/foaf:Organization', namespaces)\n",
    "    if publisher_node is not None:\n",
    "        publisher_name_node = publisher_node.find('{http://xmlns.com/foaf/0.1/}name', namespaces)\n",
    "        locality_node = publisher_node.find('{http://schemas.talis.com/2005/address/schema#}localityName', namespaces)\n",
    "\n",
    "        if publisher_name_node is not None:\n",
    "            bibo_info['PB'] = publisher_name_node.text\n",
    "        if locality_node is not None:\n",
    "            bibo_info['CY'] = locality_node.text\n",
    "   \n",
    "    return bibo_info\n",
    "    \n",
    "def parse_advs(z_node, author_lookup, keyword_lookup):\n",
    "    info = {}\n",
    "\n",
    "    next_node = z_node.getnext()\n",
    "    if next_node is not None and next_node.tag == '{' + namespaces['bibo'] + '}Film':\n",
    "        bibo_node = next_node\n",
    "    else:\n",
    "        resource_node = z_node.find('{http://purl.org/vocab/resourcelist/schema#}resource')\n",
    "        if resource_node is not None:\n",
    "            bibo_node = resource_node.find('{http://purl.org/ontology/bibo/}Film')\n",
    "        else:\n",
    "            bibo_node = z_node.find('{http://purl.org/ontology/bibo/}Film')\n",
    "    \n",
    "    if bibo_node is not None:\n",
    "        info.update(parse_bibo_webpage(bibo_node, author_lookup))\n",
    "    \n",
    "    info.update(parse_keywords(z_node, keyword_lookup))\n",
    "\n",
    "    return info"
   ]
  },
  {
   "cell_type": "code",
   "execution_count": 5,
   "metadata": {},
   "outputs": [
    {
     "data": {
      "application/vnd.jupyter.widget-view+json": {
       "model_id": "fad9681d4b6b4d8c83a4a43b216603db",
       "version_major": 2,
       "version_minor": 0
      },
      "text/plain": [
       "Processing files:   0%|          | 0/58 [00:00<?, ?it/s]"
      ]
     },
     "metadata": {},
     "output_type": "display_data"
    },
    {
     "data": {
      "application/vnd.jupyter.widget-view+json": {
       "model_id": "5c7e8f492a1f457fb9a7939457634dd4",
       "version_major": 2,
       "version_minor": 0
      },
      "text/plain": [
       "ADVS 2000s.rdf:   0%|          | 0/54 [00:00<?, ?it/s]"
      ]
     },
     "metadata": {},
     "output_type": "display_data"
    },
    {
     "data": {
      "application/vnd.jupyter.widget-view+json": {
       "model_id": "54034884c4df41558b82c9575f86642f",
       "version_major": 2,
       "version_minor": 0
      },
      "text/plain": [
       "Nieuwe invoer 14-3-2024 tot 9-12-2024.rdf:   0%|          | 0/14504 [00:00<?, ?it/s]"
      ]
     },
     "metadata": {},
     "output_type": "display_data"
    },
    {
     "data": {
      "application/vnd.jupyter.widget-view+json": {
       "model_id": "e9595cfbd8cb4df8bc8e4a5d859b76b7",
       "version_major": 2,
       "version_minor": 0
      },
      "text/plain": [
       "WEB 1980s.rdf:   0%|          | 0/1 [00:00<?, ?it/s]"
      ]
     },
     "metadata": {},
     "output_type": "display_data"
    },
    {
     "data": {
      "application/vnd.jupyter.widget-view+json": {
       "model_id": "333908a5b9c14c859e2476ec98d1766a",
       "version_major": 2,
       "version_minor": 0
      },
      "text/plain": [
       "CHAP 1960s.rdf:   0%|          | 0/4084 [00:00<?, ?it/s]"
      ]
     },
     "metadata": {},
     "output_type": "display_data"
    },
    {
     "data": {
      "application/vnd.jupyter.widget-view+json": {
       "model_id": "b34154bc0a41491bb148aef865247488",
       "version_major": 2,
       "version_minor": 0
      },
      "text/plain": [
       "CHAP 1940s.rdf:   0%|          | 0/1764 [00:00<?, ?it/s]"
      ]
     },
     "metadata": {},
     "output_type": "display_data"
    },
    {
     "data": {
      "application/vnd.jupyter.widget-view+json": {
       "model_id": "cb914778cc494c3bb274542a834f8ec6",
       "version_major": 2,
       "version_minor": 0
      },
      "text/plain": [
       "EJOUR MISC.rdf:   0%|          | 0/2 [00:00<?, ?it/s]"
      ]
     },
     "metadata": {},
     "output_type": "display_data"
    },
    {
     "data": {
      "application/vnd.jupyter.widget-view+json": {
       "model_id": "fef8c7db154241a0911f260c6b342896",
       "version_major": 2,
       "version_minor": 0
      },
      "text/plain": [
       "JOUR 1990s.rdf:   0%|          | 0/44498 [00:00<?, ?it/s]"
      ]
     },
     "metadata": {},
     "output_type": "display_data"
    },
    {
     "data": {
      "application/vnd.jupyter.widget-view+json": {
       "model_id": "9fa2942bb37d473bb18823049d2d3de9",
       "version_major": 2,
       "version_minor": 0
      },
      "text/plain": [
       "ADVS 2020s.rdf:   0%|          | 0/2 [00:00<?, ?it/s]"
      ]
     },
     "metadata": {},
     "output_type": "display_data"
    },
    {
     "data": {
      "application/vnd.jupyter.widget-view+json": {
       "model_id": "aaabd93133de45879ba4c3e1acbf1cea",
       "version_major": 2,
       "version_minor": 0
      },
      "text/plain": [
       "BOOK 1980s.rdf:   0%|          | 0/6722 [00:00<?, ?it/s]"
      ]
     },
     "metadata": {},
     "output_type": "display_data"
    },
    {
     "data": {
      "application/vnd.jupyter.widget-view+json": {
       "model_id": "77640ebcd82a45b29aba823eeb07e04d",
       "version_major": 2,
       "version_minor": 0
      },
      "text/plain": [
       "EJOUR 2010s.rdf:   0%|          | 0/569 [00:00<?, ?it/s]"
      ]
     },
     "metadata": {},
     "output_type": "display_data"
    },
    {
     "data": {
      "application/vnd.jupyter.widget-view+json": {
       "model_id": "dd0c88c2d867448abc934201edc72958",
       "version_major": 2,
       "version_minor": 0
      },
      "text/plain": [
       "JOUR MISC.rdf:   0%|          | 0/3483 [00:00<?, ?it/s]"
      ]
     },
     "metadata": {},
     "output_type": "display_data"
    },
    {
     "data": {
      "application/vnd.jupyter.widget-view+json": {
       "model_id": "5760a677f3164246a82181996f51072f",
       "version_major": 2,
       "version_minor": 0
      },
      "text/plain": [
       "JOUR 2000s.rdf:   0%|          | 0/27745 [00:00<?, ?it/s]"
      ]
     },
     "metadata": {},
     "output_type": "display_data"
    },
    {
     "data": {
      "application/vnd.jupyter.widget-view+json": {
       "model_id": "d668db493a8b45a0be2b6c01b8edfd6e",
       "version_major": 2,
       "version_minor": 0
      },
      "text/plain": [
       "BOOK 2010s.rdf:   0%|          | 0/3891 [00:00<?, ?it/s]"
      ]
     },
     "metadata": {},
     "output_type": "display_data"
    },
    {
     "data": {
      "application/vnd.jupyter.widget-view+json": {
       "model_id": "fa125e0992854442bd8bbc940673b67b",
       "version_major": 2,
       "version_minor": 0
      },
      "text/plain": [
       "JFULL 1970s.rdf:   0%|          | 0/273 [00:00<?, ?it/s]"
      ]
     },
     "metadata": {},
     "output_type": "display_data"
    },
    {
     "data": {
      "application/vnd.jupyter.widget-view+json": {
       "model_id": "5d233b22e32a463d93ed5a5b56533e6b",
       "version_major": 2,
       "version_minor": 0
      },
      "text/plain": [
       "JFULL 1950s.rdf:   0%|          | 0/17 [00:00<?, ?it/s]"
      ]
     },
     "metadata": {},
     "output_type": "display_data"
    },
    {
     "data": {
      "application/vnd.jupyter.widget-view+json": {
       "model_id": "56585819382b402f97cca600edf8da41",
       "version_major": 2,
       "version_minor": 0
      },
      "text/plain": [
       "JOUR 2020s.rdf:   0%|          | 0/5238 [00:00<?, ?it/s]"
      ]
     },
     "metadata": {},
     "output_type": "display_data"
    },
    {
     "data": {
      "application/vnd.jupyter.widget-view+json": {
       "model_id": "53e489e5d7674a6289e6b0973c8f9176",
       "version_major": 2,
       "version_minor": 0
      },
      "text/plain": [
       "WEB 2010s.rdf:   0%|          | 0/85 [00:00<?, ?it/s]"
      ]
     },
     "metadata": {},
     "output_type": "display_data"
    },
    {
     "data": {
      "application/vnd.jupyter.widget-view+json": {
       "model_id": "f017915a534841f3b61c51525e7f695f",
       "version_major": 2,
       "version_minor": 0
      },
      "text/plain": [
       "ADVS 1990s.rdf:   0%|          | 0/33 [00:00<?, ?it/s]"
      ]
     },
     "metadata": {},
     "output_type": "display_data"
    },
    {
     "data": {
      "application/vnd.jupyter.widget-view+json": {
       "model_id": "8b7b726bce4e42818046ab907a74b750",
       "version_major": 2,
       "version_minor": 0
      },
      "text/plain": [
       "BOOK MISC.rdf:   0%|          | 0/1182 [00:00<?, ?it/s]"
      ]
     },
     "metadata": {},
     "output_type": "display_data"
    },
    {
     "data": {
      "application/vnd.jupyter.widget-view+json": {
       "model_id": "e5c2b6132b544b769c8252fec781cb19",
       "version_major": 2,
       "version_minor": 0
      },
      "text/plain": [
       "JOUR 1980s.rdf:   0%|          | 0/34995 [00:00<?, ?it/s]"
      ]
     },
     "metadata": {},
     "output_type": "display_data"
    },
    {
     "data": {
      "application/vnd.jupyter.widget-view+json": {
       "model_id": "c36a719036854d13874c58b0378775ef",
       "version_major": 2,
       "version_minor": 0
      },
      "text/plain": [
       "CHAP 1950s.rdf:   0%|          | 0/1161 [00:00<?, ?it/s]"
      ]
     },
     "metadata": {},
     "output_type": "display_data"
    },
    {
     "data": {
      "application/vnd.jupyter.widget-view+json": {
       "model_id": "907f0a96e7274767975444a96872d8d9",
       "version_major": 2,
       "version_minor": 0
      },
      "text/plain": [
       "EJOUR 2000s.rdf:   0%|          | 0/628 [00:00<?, ?it/s]"
      ]
     },
     "metadata": {},
     "output_type": "display_data"
    },
    {
     "data": {
      "application/vnd.jupyter.widget-view+json": {
       "model_id": "6bd2c93407c7491aaf2f6b0eee395ec1",
       "version_major": 2,
       "version_minor": 0
      },
      "text/plain": [
       "BOOK 1990s.rdf:   0%|          | 0/7991 [00:00<?, ?it/s]"
      ]
     },
     "metadata": {},
     "output_type": "display_data"
    },
    {
     "data": {
      "application/vnd.jupyter.widget-view+json": {
       "model_id": "799d27b77a7b4a69b269ac2a078d23f1",
       "version_major": 2,
       "version_minor": 0
      },
      "text/plain": [
       "JFULL MISC.rdf:   0%|          | 0/6051 [00:00<?, ?it/s]"
      ]
     },
     "metadata": {},
     "output_type": "display_data"
    },
    {
     "data": {
      "application/vnd.jupyter.widget-view+json": {
       "model_id": "372f27514eb344158788e34529836ab2",
       "version_major": 2,
       "version_minor": 0
      },
      "text/plain": [
       "EJOUR 2020s.rdf:   0%|          | 0/251 [00:00<?, ?it/s]"
      ]
     },
     "metadata": {},
     "output_type": "display_data"
    },
    {
     "data": {
      "application/vnd.jupyter.widget-view+json": {
       "model_id": "3259ccf29a8144bb8ad596f53cc895f0",
       "version_major": 2,
       "version_minor": 0
      },
      "text/plain": [
       "CHAP 1970s.rdf:   0%|          | 0/6650 [00:00<?, ?it/s]"
      ]
     },
     "metadata": {},
     "output_type": "display_data"
    },
    {
     "data": {
      "application/vnd.jupyter.widget-view+json": {
       "model_id": "2fb18e39c28f4b5c8816ff1a905c4211",
       "version_major": 2,
       "version_minor": 0
      },
      "text/plain": [
       "WEB 1990s.rdf:   0%|          | 0/10 [00:00<?, ?it/s]"
      ]
     },
     "metadata": {},
     "output_type": "display_data"
    },
    {
     "data": {
      "application/vnd.jupyter.widget-view+json": {
       "model_id": "57e16c9dbf824bb4aa867f54c15c86df",
       "version_major": 2,
       "version_minor": 0
      },
      "text/plain": [
       "ADVS 2010s.rdf:   0%|          | 0/9 [00:00<?, ?it/s]"
      ]
     },
     "metadata": {},
     "output_type": "display_data"
    },
    {
     "data": {
      "application/vnd.jupyter.widget-view+json": {
       "model_id": "faf5e00f34fc4059a0436916d7a06a20",
       "version_major": 2,
       "version_minor": 0
      },
      "text/plain": [
       "JFULL 1940s.rdf:   0%|          | 0/68 [00:00<?, ?it/s]"
      ]
     },
     "metadata": {},
     "output_type": "display_data"
    },
    {
     "data": {
      "application/vnd.jupyter.widget-view+json": {
       "model_id": "665cc8564b364524a809d3f5d2095243",
       "version_major": 2,
       "version_minor": 0
      },
      "text/plain": [
       "BOOK 2020s.rdf:   0%|          | 0/825 [00:00<?, ?it/s]"
      ]
     },
     "metadata": {},
     "output_type": "display_data"
    },
    {
     "data": {
      "application/vnd.jupyter.widget-view+json": {
       "model_id": "beb2e34f03c749bb91b5f5ff1364dcca",
       "version_major": 2,
       "version_minor": 0
      },
      "text/plain": [
       "ADVS 1980s.rdf:   0%|          | 0/2 [00:00<?, ?it/s]"
      ]
     },
     "metadata": {},
     "output_type": "display_data"
    },
    {
     "data": {
      "application/vnd.jupyter.widget-view+json": {
       "model_id": "bbcbaa6ac2fb44a7ba03e18d4d72cee3",
       "version_major": 2,
       "version_minor": 0
      },
      "text/plain": [
       "WEB 2000s.rdf:   0%|          | 0/485 [00:00<?, ?it/s]"
      ]
     },
     "metadata": {},
     "output_type": "display_data"
    },
    {
     "data": {
      "application/vnd.jupyter.widget-view+json": {
       "model_id": "ea0668eb01f046e68841d4e36bde8509",
       "version_major": 2,
       "version_minor": 0
      },
      "text/plain": [
       "JOUR 2010s.rdf:   0%|          | 0/20043 [00:00<?, ?it/s]"
      ]
     },
     "metadata": {},
     "output_type": "display_data"
    },
    {
     "data": {
      "application/vnd.jupyter.widget-view+json": {
       "model_id": "a06d7c472d874afaa57c52b993cfc2c6",
       "version_major": 2,
       "version_minor": 0
      },
      "text/plain": [
       "WEB MISC.rdf:   0%|          | 0/32 [00:00<?, ?it/s]"
      ]
     },
     "metadata": {},
     "output_type": "display_data"
    },
    {
     "data": {
      "application/vnd.jupyter.widget-view+json": {
       "model_id": "5a12e2b2dd5947dbb1c5635b5fb4b8ee",
       "version_major": 2,
       "version_minor": 0
      },
      "text/plain": [
       "WEB 2020s.rdf:   0%|          | 0/1 [00:00<?, ?it/s]"
      ]
     },
     "metadata": {},
     "output_type": "display_data"
    },
    {
     "data": {
      "application/vnd.jupyter.widget-view+json": {
       "model_id": "d4810355e698413aa238664b55602e34",
       "version_major": 2,
       "version_minor": 0
      },
      "text/plain": [
       "JFULL 1960s.rdf:   0%|          | 0/190 [00:00<?, ?it/s]"
      ]
     },
     "metadata": {},
     "output_type": "display_data"
    },
    {
     "data": {
      "application/vnd.jupyter.widget-view+json": {
       "model_id": "ce10b96034154540816d4d17318b0c66",
       "version_major": 2,
       "version_minor": 0
      },
      "text/plain": [
       "BOOK 2000s.rdf:   0%|          | 0/6229 [00:00<?, ?it/s]"
      ]
     },
     "metadata": {},
     "output_type": "display_data"
    },
    {
     "data": {
      "application/vnd.jupyter.widget-view+json": {
       "model_id": "070e5937f6db4210b0b0c7f865594ba9",
       "version_major": 2,
       "version_minor": 0
      },
      "text/plain": [
       "EJOUR 1990s.rdf:   0%|          | 0/97 [00:00<?, ?it/s]"
      ]
     },
     "metadata": {},
     "output_type": "display_data"
    },
    {
     "data": {
      "application/vnd.jupyter.widget-view+json": {
       "model_id": "be1eafb539cb4eae98f7179aa8a3ba4c",
       "version_major": 2,
       "version_minor": 0
      },
      "text/plain": [
       "CHAP 2000s.rdf:   0%|          | 0/11027 [00:00<?, ?it/s]"
      ]
     },
     "metadata": {},
     "output_type": "display_data"
    },
    {
     "data": {
      "application/vnd.jupyter.widget-view+json": {
       "model_id": "9646d19a27224f82a182f62d454dd30d",
       "version_major": 2,
       "version_minor": 0
      },
      "text/plain": [
       "CHAP 2020s.rdf:   0%|          | 0/1627 [00:00<?, ?it/s]"
      ]
     },
     "metadata": {},
     "output_type": "display_data"
    },
    {
     "data": {
      "application/vnd.jupyter.widget-view+json": {
       "model_id": "c0d14dd7c8de46c6a4357764eaac75dc",
       "version_major": 2,
       "version_minor": 0
      },
      "text/plain": [
       "JFULL 1980s.rdf:   0%|          | 0/619 [00:00<?, ?it/s]"
      ]
     },
     "metadata": {},
     "output_type": "display_data"
    },
    {
     "data": {
      "application/vnd.jupyter.widget-view+json": {
       "model_id": "58a89c6938b04be89d81664e34cdd8fa",
       "version_major": 2,
       "version_minor": 0
      },
      "text/plain": [
       "JOUR 1960s.rdf:   0%|          | 0/19387 [00:00<?, ?it/s]"
      ]
     },
     "metadata": {},
     "output_type": "display_data"
    },
    {
     "data": {
      "application/vnd.jupyter.widget-view+json": {
       "model_id": "03b55769e9ac4dea84aa04985119a066",
       "version_major": 2,
       "version_minor": 0
      },
      "text/plain": [
       "BOOK 1970s.rdf:   0%|          | 0/3623 [00:00<?, ?it/s]"
      ]
     },
     "metadata": {},
     "output_type": "display_data"
    },
    {
     "data": {
      "application/vnd.jupyter.widget-view+json": {
       "model_id": "a89975fc34614b4283845558f9f7e1d7",
       "version_major": 2,
       "version_minor": 0
      },
      "text/plain": [
       "JFULL 2010s.rdf:   0%|          | 0/442 [00:00<?, ?it/s]"
      ]
     },
     "metadata": {},
     "output_type": "display_data"
    },
    {
     "data": {
      "application/vnd.jupyter.widget-view+json": {
       "model_id": "bc62a026a9864b50b845b7ba275b85d5",
       "version_major": 2,
       "version_minor": 0
      },
      "text/plain": [
       "BOOK 1950s.rdf:   0%|          | 0/917 [00:00<?, ?it/s]"
      ]
     },
     "metadata": {},
     "output_type": "display_data"
    },
    {
     "data": {
      "application/vnd.jupyter.widget-view+json": {
       "model_id": "816106635b4241abbb44dda53327ce51",
       "version_major": 2,
       "version_minor": 0
      },
      "text/plain": [
       "CHAP MISC.rdf:   0%|          | 0/470 [00:00<?, ?it/s]"
      ]
     },
     "metadata": {},
     "output_type": "display_data"
    },
    {
     "data": {
      "application/vnd.jupyter.widget-view+json": {
       "model_id": "7d885b3ecbe449308f2a4aa4b15b3f51",
       "version_major": 2,
       "version_minor": 0
      },
      "text/plain": [
       "JOUR 1940s.rdf:   0%|          | 0/9897 [00:00<?, ?it/s]"
      ]
     },
     "metadata": {},
     "output_type": "display_data"
    },
    {
     "data": {
      "application/vnd.jupyter.widget-view+json": {
       "model_id": "01df9bd5d5504ed1a9aeb725d36159ea",
       "version_major": 2,
       "version_minor": 0
      },
      "text/plain": [
       "CHAP 1990s.rdf:   0%|          | 0/14247 [00:00<?, ?it/s]"
      ]
     },
     "metadata": {},
     "output_type": "display_data"
    },
    {
     "data": {
      "application/vnd.jupyter.widget-view+json": {
       "model_id": "b61d6f43ebbf4050bead474bd1916186",
       "version_major": 2,
       "version_minor": 0
      },
      "text/plain": [
       "JFULL 1990s.rdf:   0%|          | 0/660 [00:00<?, ?it/s]"
      ]
     },
     "metadata": {},
     "output_type": "display_data"
    },
    {
     "data": {
      "application/vnd.jupyter.widget-view+json": {
       "model_id": "803eecac32fe484aab4bd4affdc27ba3",
       "version_major": 2,
       "version_minor": 0
      },
      "text/plain": [
       "CHAP 2010s.rdf:   0%|          | 0/6300 [00:00<?, ?it/s]"
      ]
     },
     "metadata": {},
     "output_type": "display_data"
    },
    {
     "data": {
      "application/vnd.jupyter.widget-view+json": {
       "model_id": "479c15080f5d48dda6f0f279274d5fd9",
       "version_major": 2,
       "version_minor": 0
      },
      "text/plain": [
       "JFULL 2020s.rdf:   0%|          | 0/161 [00:00<?, ?it/s]"
      ]
     },
     "metadata": {},
     "output_type": "display_data"
    },
    {
     "data": {
      "application/vnd.jupyter.widget-view+json": {
       "model_id": "d956848116fd4d4fba759b03663c6c53",
       "version_major": 2,
       "version_minor": 0
      },
      "text/plain": [
       "BOOK 1940s.rdf:   0%|          | 0/1437 [00:00<?, ?it/s]"
      ]
     },
     "metadata": {},
     "output_type": "display_data"
    },
    {
     "data": {
      "application/vnd.jupyter.widget-view+json": {
       "model_id": "90f4a6399c904898b387bee290f5d2b3",
       "version_major": 2,
       "version_minor": 0
      },
      "text/plain": [
       "CHAP 1980s.rdf:   0%|          | 0/12289 [00:00<?, ?it/s]"
      ]
     },
     "metadata": {},
     "output_type": "display_data"
    },
    {
     "data": {
      "application/vnd.jupyter.widget-view+json": {
       "model_id": "34b340a5f73545d593c7574f3329f011",
       "version_major": 2,
       "version_minor": 0
      },
      "text/plain": [
       "JOUR 1950s.rdf:   0%|          | 0/6218 [00:00<?, ?it/s]"
      ]
     },
     "metadata": {},
     "output_type": "display_data"
    },
    {
     "data": {
      "application/vnd.jupyter.widget-view+json": {
       "model_id": "07f843bc643b48adb80652cda67a6b15",
       "version_major": 2,
       "version_minor": 0
      },
      "text/plain": [
       "JOUR 1970s.rdf:   0%|          | 0/25511 [00:00<?, ?it/s]"
      ]
     },
     "metadata": {},
     "output_type": "display_data"
    },
    {
     "data": {
      "application/vnd.jupyter.widget-view+json": {
       "model_id": "2d4117f03dfe4d8bac8698a69f548af6",
       "version_major": 2,
       "version_minor": 0
      },
      "text/plain": [
       "ADVS MISC.rdf:   0%|          | 0/3 [00:00<?, ?it/s]"
      ]
     },
     "metadata": {},
     "output_type": "display_data"
    },
    {
     "data": {
      "application/vnd.jupyter.widget-view+json": {
       "model_id": "9a4817e562d94c07ad40d55e9ab15168",
       "version_major": 2,
       "version_minor": 0
      },
      "text/plain": [
       "JFULL 2000s.rdf:   0%|          | 0/479 [00:00<?, ?it/s]"
      ]
     },
     "metadata": {},
     "output_type": "display_data"
    },
    {
     "data": {
      "application/vnd.jupyter.widget-view+json": {
       "model_id": "a1749765156b497499f5b638a33fad7f",
       "version_major": 2,
       "version_minor": 0
      },
      "text/plain": [
       "BOOK 1960s.rdf:   0%|          | 0/2185 [00:00<?, ?it/s]"
      ]
     },
     "metadata": {},
     "output_type": "display_data"
    }
   ],
   "source": [
    "for fn in tqdm(glob('../../data/BNTL_FinalExport/*.rdf'), \n",
    "               desc=\"Processing files\", \n",
    "               position=0, \n",
    "               leave=True):\n",
    "    \n",
    "    parsedf = os.path.basename(fn).replace('.rdf', '.json')\n",
    "    parsedf = f'parsed/{parsedf}'\n",
    "    \n",
    "    with open(fn, 'r', encoding='utf-8') as file:\n",
    "        xml_content = file.read()\n",
    "    root = etree.fromstring(xml_content)\n",
    "\n",
    "    author_lookup = get_author_lookup(root)\n",
    "    keyword_lookup = get_keyword_lookup(root)\n",
    "\n",
    "    user_items = tuple(root.xpath('//z:UserItem', namespaces=namespaces))\n",
    "\n",
    "    parsed = []\n",
    "    for z_node in tqdm(user_items, \n",
    "                      desc=os.path.basename(fn),\n",
    "                      position=1, \n",
    "                      leave=False):\n",
    "        info = {}\n",
    "\n",
    "        user_item_url = z_node.xpath('@rdf:about', namespaces=namespaces)\n",
    "        if user_item_url:\n",
    "            info['ID'] = user_item_url[0]\n",
    "        else:\n",
    "            continue\n",
    "        \n",
    "        access_date_node = z_node.find('z:accessDate', namespaces)\n",
    "        if access_date_node is not None:\n",
    "            info['Y2'] = access_date_node.text\n",
    "        \n",
    "        academic_article = z_node.xpath('.//bibo:AcademicArticle', namespaces=namespaces)\n",
    "        \n",
    "        if not academic_article:\n",
    "            resource_url = z_node.xpath('.//res:resource/@rdf:resource', namespaces=namespaces)\n",
    "            if resource_url:\n",
    "                try:\n",
    "                    all_articles = root.xpath(\"//bibo:AcademicArticle\", namespaces=namespaces)\n",
    "                    academic_article = [article for article in all_articles \n",
    "                                     if article.get('{'+namespaces['rdf']+'}about') == resource_url[0]]\n",
    "                except:\n",
    "                    academic_article = []\n",
    "\n",
    "        if academic_article:\n",
    "            info.update(parse_jour(z_node, author_lookup=author_lookup, keyword_lookup=keyword_lookup))\n",
    "            info['TY'] = 'JOUR'\n",
    "        \n",
    "        next_node = z_node.getnext()\n",
    "        \n",
    "        if ((next_node is not None and next_node.tag == '{' + namespaces['bibo'] + '}Book') or \n",
    "            z_node.xpath('.//bibo:Book', namespaces=namespaces)):\n",
    "            info.update(parse_book(z_node, author_lookup=author_lookup, keyword_lookup=keyword_lookup))\n",
    "            info['TY'] = 'BOOK'\n",
    "\n",
    "            if 'KW' in info and \"Speciaal tijdschriftnummer\" in set(info['KW']):\n",
    "                info['TY'] = 'JFULL'\n",
    "\n",
    "        elif ((next_node is not None and next_node.tag == '{' + namespaces['bibo'] + '}BookSection') or \n",
    "              z_node.xpath('.//bibo:BookSection', namespaces=namespaces)):\n",
    "            info.update(parse_chapter(z_node, author_lookup=author_lookup, keyword_lookup=keyword_lookup))\n",
    "            info['TY'] = 'CHAP'\n",
    "\n",
    "        elif ((next_node is not None and next_node.tag == '{' + namespaces['bibo'] + '}Webpage') or \n",
    "              z_node.xpath('.//bibo:Webpage', namespaces=namespaces)):\n",
    "            info.update(parse_web(z_node, author_lookup=author_lookup, keyword_lookup=keyword_lookup))\n",
    "            info['TY'] = 'WEB'\n",
    "\n",
    "        elif ((next_node is not None and next_node.tag == '{' + namespaces['bibo'] + '}Film') or \n",
    "              z_node.xpath('.//bibo:Film', namespaces=namespaces)):\n",
    "            info.update(parse_advs(z_node, author_lookup=author_lookup, keyword_lookup=keyword_lookup))\n",
    "            info['TY'] = 'ADVS'\n",
    "\n",
    "        if info:\n",
    "            if 'KW' in info and 'foutmelding (keywords)' in info['KW']:\n",
    "                info['KW'].remove('foutmelding (keywords)')\n",
    "            parsed.append(info)\n",
    "\n",
    "    with open(parsedf, 'w') as f:\n",
    "        f.write(json.dumps(parsed, indent=2))"
   ]
  },
  {
   "cell_type": "code",
   "execution_count": null,
   "metadata": {},
   "outputs": [],
   "source": []
  },
  {
   "cell_type": "code",
   "execution_count": null,
   "metadata": {},
   "outputs": [],
   "source": []
  }
 ],
 "metadata": {
  "kernelspec": {
   "display_name": "py3.12",
   "language": "python",
   "name": "python3"
  },
  "language_info": {
   "codemirror_mode": {
    "name": "ipython",
    "version": 3
   },
   "file_extension": ".py",
   "mimetype": "text/x-python",
   "name": "python",
   "nbconvert_exporter": "python",
   "pygments_lexer": "ipython3",
   "version": "3.12.7"
  }
 },
 "nbformat": 4,
 "nbformat_minor": 2
}
