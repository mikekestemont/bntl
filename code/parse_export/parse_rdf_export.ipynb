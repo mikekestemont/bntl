{
 "cells": [
  {
   "cell_type": "code",
   "execution_count": 1,
   "metadata": {},
   "outputs": [],
   "source": [
    "import json\n",
    "import os\n",
    "from glob import glob\n",
    "\n",
    "from lxml import etree\n",
    "from tqdm.auto import tqdm"
   ]
  },
  {
   "cell_type": "code",
   "execution_count": 2,
   "metadata": {},
   "outputs": [],
   "source": [
    "namespaces = {\n",
    "    'rdf': 'http://www.w3.org/1999/02/22-rdf-syntax-ns#',\n",
    "    'res': 'http://purl.org/vocab/resourcelist/schema#',\n",
    "    'z': 'http://www.zotero.org/namespaces/export#',\n",
    "    'ctag': 'http://commontag.org/ns#',\n",
    "    'dcterms': 'http://purl.org/dc/terms/',\n",
    "    'bibo': 'http://purl.org/ontology/bibo/',\n",
    "    'foaf': 'http://xmlns.com/foaf/0.1/',\n",
    "    'address': 'http://schemas.talis.com/2005/address/schema#'\n",
    "}"
   ]
  },
  {
   "cell_type": "markdown",
   "metadata": {},
   "source": [
    "Some auxiliary functions:"
   ]
  },
  {
   "cell_type": "code",
   "execution_count": 3,
   "metadata": {},
   "outputs": [],
   "source": [
    "def get_author_lookup(root):\n",
    "    author_lookup = {}\n",
    "    persons = root.findall('.//foaf:Person', namespaces=namespaces)\n",
    "\n",
    "    for person in persons:\n",
    "        node_id = person.get('{http://www.w3.org/1999/02/22-rdf-syntax-ns#}nodeID')\n",
    "        if not node_id:\n",
    "            continue\n",
    "\n",
    "        given_name = person.find('foaf:givenName', namespaces)\n",
    "        surname = person.find('foaf:surname', namespaces)\n",
    "\n",
    "        person_str = ''\n",
    "        if surname is not None:\n",
    "            person_str += surname.text\n",
    "            if given_name is not None:\n",
    "                person_str += ', ' + given_name.text\n",
    "        \n",
    "        author_lookup[node_id] = person_str\n",
    "    \n",
    "    return author_lookup\n",
    "\n",
    "def get_keyword_lookup(root):\n",
    "    keyword_lookup = {}\n",
    "    user_tags = root.findall('.//ctag:UserTag', namespaces)\n",
    "    for user_tag in user_tags:\n",
    "        node_id = user_tag.get('{http://www.w3.org/1999/02/22-rdf-syntax-ns#}nodeID')\n",
    "        if not node_id:\n",
    "            continue\n",
    "        label = user_tag.find('ctag:label', namespaces)\n",
    "        if label is not None:\n",
    "            keyword_lookup[node_id] = label.text.replace('(auteur)', '').strip()\n",
    "\n",
    "    return keyword_lookup\n",
    "\n",
    "def parse_keywords(z_node, keyword_lookup):\n",
    "    keywords = []\n",
    "    tagged_elements = z_node.findall('.//ctag:tagged', namespaces=namespaces)\n",
    "    for tagged in tagged_elements:\n",
    "        node_id = tagged.get('{http://www.w3.org/1999/02/22-rdf-syntax-ns#}nodeID')\n",
    "        if node_id and node_id in keyword_lookup:\n",
    "            keywords.append(keyword_lookup[node_id])\n",
    "\n",
    "        user_tag = tagged.find('ctag:UserTag/ctag:label', namespaces=namespaces)\n",
    "        if user_tag is not None:\n",
    "            keywords.append(user_tag.text)\n",
    "\n",
    "    return {'KW': keywords}"
   ]
  },
  {
   "cell_type": "markdown",
   "metadata": {},
   "source": [
    "Category-specific parsing functions:"
   ]
  },
  {
   "cell_type": "code",
   "execution_count": 4,
   "metadata": {},
   "outputs": [],
   "source": [
    "## journal articles\n",
    "def parse_academic_article(article, author_lookup):\n",
    "    bibo_info = {}\n",
    "\n",
    "    # Authors\n",
    "    authors = []\n",
    "    author_list = article.find('.//rdf:Seq', namespaces=namespaces)\n",
    "    if author_list is not None:\n",
    "        for li in author_list.findall('rdf:li', namespaces=namespaces):\n",
    "            node_id = li.get('{http://www.w3.org/1999/02/22-rdf-syntax-ns#}nodeID')\n",
    "            if node_id in author_lookup:\n",
    "                authors.append(author_lookup[node_id])\n",
    "    if authors:\n",
    "        bibo_info['AU'] = authors\n",
    "\n",
    "    # Basic metadata\n",
    "    for node_name, field_key in [\n",
    "        ('dcterms:title', 'TI'),\n",
    "        ('bibo:uri', 'UR'),\n",
    "        ('dcterms:abstract', 'AB'),\n",
    "        ('bibo:doi', 'DO'),\n",
    "        ('bibo:shortTitle', 'ST'),\n",
    "        ('dcterms:source', 'EX')\n",
    "    ]:\n",
    "        node = article.find(node_name, namespaces)\n",
    "        if node is not None and node.text:\n",
    "            bibo_info[field_key] = node.text\n",
    "\n",
    "    # Pages\n",
    "    pages_node = article.find('bibo:pages', namespaces)\n",
    "    if pages_node is not None and pages_node.text:\n",
    "        pages = pages_node.text.split('-')\n",
    "        if len(pages) == 2:\n",
    "            start_page, end_page = pages\n",
    "        else:\n",
    "            start_page = end_page = pages[0]\n",
    "        bibo_info['SP-EP'] = '-'.join((start_page, end_page))\n",
    "\n",
    "    # Reviews\n",
    "    reviews_node = article.find('.//bibo:lccn', namespaces)\n",
    "    if reviews_node is not None and reviews_node.text:\n",
    "        bibo_info['CN'] = reviews_node.text\n",
    "\n",
    "    # Issue information\n",
    "    issue_node = article.find('.//bibo:Issue', namespaces=namespaces)\n",
    "    if issue_node is not None:\n",
    "        for node_name, field_key in [\n",
    "            ('dcterms:date', 'PY'),\n",
    "            ('bibo:volume', 'VL'),\n",
    "            ('bibo:issue', 'IS')\n",
    "        ]:\n",
    "            node = issue_node.find(node_name, namespaces=namespaces)\n",
    "            if node is not None and node.text:\n",
    "                bibo_info[field_key] = node.text\n",
    "\n",
    "    # Journal information\n",
    "    journal_node = article.find('.//bibo:Journal', namespaces)\n",
    "    if journal_node is not None:\n",
    "        # Journal title\n",
    "        journal_title_node = journal_node.find('dcterms:title', namespaces)\n",
    "        if journal_title_node is not None and journal_title_node.text:\n",
    "            bibo_info['JO'] = journal_title_node.text\n",
    "        \n",
    "        # ISSN\n",
    "        issn_node = journal_node.find('bibo:issn', namespaces)\n",
    "        if issn_node is not None and issn_node.text:\n",
    "            bibo_info['SN'] = issn_node.text\n",
    "\n",
    "        # Look for Series within the Journal node\n",
    "        series_nodes = journal_node.findall('.//bibo:Series', namespaces)\n",
    "        if series_nodes:\n",
    "            for series_node in series_nodes:\n",
    "                if series_node is not None:\n",
    "                    title_node = series_node.find('dcterms:title', namespaces)\n",
    "                    if title_node is not None and title_node.text:\n",
    "                        bibo_info['T3'] = title_node.text\n",
    "                        break\n",
    "\n",
    "    return bibo_info\n",
    "\n",
    "def parse_jour(z_node, author_lookup, keyword_lookup):\n",
    "    info = {}\n",
    "    \n",
    "    # Try to find the academic article node\n",
    "    bibo_node = None\n",
    "    \n",
    "    # First check direct child\n",
    "    next_node = z_node.getnext()\n",
    "    if next_node is not None and next_node.tag == '{' + namespaces['bibo'] + '}AcademicArticle':\n",
    "        bibo_node = next_node\n",
    "    \n",
    "    # If not found, try resource reference\n",
    "    if bibo_node is None:\n",
    "        resource_url = z_node.xpath('.//res:resource/@rdf:resource', namespaces=namespaces)\n",
    "        if resource_url:\n",
    "            try:\n",
    "                articles = z_node.xpath(f\"//bibo:AcademicArticle\", namespaces=namespaces)\n",
    "                for article in articles:\n",
    "                    if article.get('{'+namespaces['rdf']+'}about') == resource_url[0]:\n",
    "                        bibo_node = article\n",
    "                        break\n",
    "            except:\n",
    "                pass\n",
    "    \n",
    "    # If still not found, try direct search\n",
    "    if bibo_node is None:\n",
    "        articles = z_node.xpath('.//bibo:AcademicArticle', namespaces=namespaces)\n",
    "        if articles:\n",
    "            bibo_node = articles[0] if isinstance(articles, list) else articles\n",
    "    \n",
    "    # Only parse if we found a valid node\n",
    "    if bibo_node is not None:\n",
    "        info.update(parse_academic_article(bibo_node, author_lookup))\n",
    "    \n",
    "    # Add keywords regardless\n",
    "    info.update(parse_keywords(z_node, keyword_lookup=keyword_lookup))\n",
    "    return info\n",
    "\n",
    "## books:\n",
    "def parse_bibo_book(book, author_lookup):\n",
    "    bibo_info = {}\n",
    "\n",
    "    authors = []\n",
    "    author_list = book.find('.//bibo:authorList/rdf:Seq', namespaces)\n",
    "    if author_list is not None:\n",
    "        for li in author_list.findall('rdf:li', namespaces):\n",
    "            node_id = li.get('{http://www.w3.org/1999/02/22-rdf-syntax-ns#}nodeID')\n",
    "            if node_id in author_lookup:\n",
    "                authors.append(author_lookup[node_id])\n",
    "    if authors:\n",
    "        bibo_info['AU'] = authors\n",
    "\n",
    "    editors = []\n",
    "    editor_list = book.find('.//bibo:editorList/rdf:Seq', namespaces)\n",
    "    if editor_list is not None:\n",
    "        for li in editor_list.findall('rdf:li', namespaces):\n",
    "            node_id = li.get('{http://www.w3.org/1999/02/22-rdf-syntax-ns#}nodeID')\n",
    "            if node_id in author_lookup:\n",
    "                editors.append(author_lookup[node_id])\n",
    "    if editors:\n",
    "        bibo_info['A2'] = editors\n",
    "\n",
    "    translators = []\n",
    "    for translator_node in book.findall('.//bibo:translator', namespaces):\n",
    "        node_id = translator_node.get('{http://www.w3.org/1999/02/22-rdf-syntax-ns#}nodeID')\n",
    "        if node_id in author_lookup:\n",
    "            translators.append(author_lookup[node_id])\n",
    "    if translators:\n",
    "        bibo_info['A3'] = translators\n",
    "\n",
    "    source_node = book.find('dcterms:source', namespaces)\n",
    "    if source_node is not None:\n",
    "        bibo_info['EX'] = source_node.text\n",
    "\n",
    "    edition_node = book.find('bibo:edition', namespaces)\n",
    "    if edition_node is not None:\n",
    "        bibo_info['ET'] = edition_node.text\n",
    "\n",
    "    title_node = book.find('dcterms:title', namespaces)\n",
    "    if title_node is not None:\n",
    "        bibo_info['TI'] = title_node.text\n",
    "\n",
    "    date_node = book.find('dcterms:date', namespaces)\n",
    "    if date_node is not None:\n",
    "        bibo_info['PY'] = date_node.text\n",
    "\n",
    "    uri_node = book.find('bibo:uri', namespaces)\n",
    "    if uri_node is not None:\n",
    "        bibo_info['UR'] = uri_node.text\n",
    "    \n",
    "    abstract_node = book.find('dcterms:abstract', namespaces)\n",
    "    if abstract_node is not None:\n",
    "        bibo_info['AB'] = abstract_node.text\n",
    "    \n",
    "    pages_node = book.find('bibo:numPages', namespaces)\n",
    "    if pages_node is not None:\n",
    "        bibo_info['SP'] = pages_node.text\n",
    "    \n",
    "    isbn_nodes = book.findall('bibo:isbn13', namespaces)\n",
    "    if isbn_nodes is not None:\n",
    "        bibo_info['SN'] = ' '.join([inode.text for inode in isbn_nodes])\n",
    "    \n",
    "    doi_node = book.find('bibo:doi', namespaces)\n",
    "    if doi_node is not None:\n",
    "        bibo_info['DO'] = doi_node.text\n",
    "\n",
    "    reviews_node = book.find('.//bibo:lccn', namespaces)\n",
    "    if reviews_node is not None:\n",
    "        bibo_info['CN'] = reviews_node.text\n",
    "    \n",
    "    volume_node = book.find('bibo:volume', namespaces)\n",
    "    if volume_node is not None:\n",
    "        bibo_info['VL'] = volume_node.text\n",
    "\n",
    "    reviewed_node = book.find('.//bibo:shortTitle', namespaces)\n",
    "    if reviewed_node is not None:\n",
    "        bibo_info['ST'] = reviewed_node.text\n",
    "\n",
    "    series_node = book.find('.//bibo:Series', namespaces)\n",
    "    if series_node is not None:\n",
    "        series_title_node = series_node.find('dcterms:title', namespaces)\n",
    "        if series_title_node is not None:\n",
    "            bibo_info['T2'] = series_title_node.text\n",
    "        series_number_node = series_node.find('bibo:number', namespaces)\n",
    "        if series_number_node is not None:\n",
    "            bibo_info['SV'] = series_number_node.text\n",
    "\n",
    "    publisher_node = book.find('{http://purl.org/dc/terms/}publisher/foaf:Organization', namespaces)\n",
    "    if publisher_node is not None:\n",
    "        publisher_name_node = publisher_node.find('{http://xmlns.com/foaf/0.1/}name', namespaces)\n",
    "        locality_node = publisher_node.find('{http://schemas.talis.com/2005/address/schema#}localityName', namespaces)\n",
    "\n",
    "        if publisher_name_node is not None:\n",
    "            bibo_info['PB'] = publisher_name_node.text\n",
    "        if locality_node is not None:\n",
    "            bibo_info['CY'] = locality_node.text\n",
    "   \n",
    "    return bibo_info\n",
    "    \n",
    "def parse_book(z_node, author_lookup, keyword_lookup):\n",
    "    info = {}\n",
    "\n",
    "    next_node = z_node.getnext()\n",
    "    if next_node is not None and next_node.tag == '{' + namespaces['bibo'] + '}Book':\n",
    "        bibo_node = next_node\n",
    "    else:\n",
    "        resource_node = z_node.find('{http://purl.org/vocab/resourcelist/schema#}resource')\n",
    "        if resource_node is not None:\n",
    "            bibo_node = resource_node.find('{http://purl.org/ontology/bibo/}Book')\n",
    "        else:\n",
    "            bibo_node = z_node.find('{http://purl.org/ontology/bibo/}Book')\n",
    "    \n",
    "    if bibo_node is not None:\n",
    "        info.update(parse_bibo_book(bibo_node, author_lookup))\n",
    "    \n",
    "    info.update(parse_keywords(z_node, keyword_lookup))\n",
    "    return info\n",
    "\n",
    "## chapters:\n",
    "def parse_bibo_chapter(chapter, author_lookup):\n",
    "    bibo_info = {}\n",
    "\n",
    "    authors = []\n",
    "    author_list = chapter.find('.//bibo:authorList/rdf:Seq', namespaces=namespaces)\n",
    "    if author_list is not None:\n",
    "        for li in author_list.findall('rdf:li', namespaces=namespaces):\n",
    "            node_id = li.get('{http://www.w3.org/1999/02/22-rdf-syntax-ns#}nodeID')\n",
    "            if node_id in author_lookup:\n",
    "                authors.append(author_lookup[node_id])\n",
    "    if authors:\n",
    "        bibo_info['AU'] = authors\n",
    "\n",
    "    editors = []\n",
    "    editor_list = chapter.find('.//bibo:editorList/rdf:Seq', namespaces=namespaces)\n",
    "    if editor_list is not None:\n",
    "        for li in editor_list.findall('rdf:li', namespaces=namespaces):\n",
    "            node_id = li.get('{http://www.w3.org/1999/02/22-rdf-syntax-ns#}nodeID')\n",
    "            if node_id in author_lookup:\n",
    "                editors.append(author_lookup[node_id])\n",
    "    if editors:\n",
    "        bibo_info['A2'] = editors\n",
    "\n",
    "    translators = []\n",
    "    for translator_node in chapter.findall('.//bibo:translator', namespaces):\n",
    "        node_id = translator_node.get('{http://www.w3.org/1999/02/22-rdf-syntax-ns#}nodeID')\n",
    "        if node_id in author_lookup:\n",
    "            translators.append(author_lookup[node_id])\n",
    "    if translators:\n",
    "        bibo_info['A3'] = translators\n",
    "\n",
    "    source_node = chapter.find('dcterms:source', namespaces)\n",
    "    if source_node is not None:\n",
    "        bibo_info['EX'] = source_node.text\n",
    "\n",
    "    title_node = chapter.find('dcterms:title', namespaces)\n",
    "    if title_node is not None:\n",
    "        bibo_info['TI'] = title_node.text\n",
    "\n",
    "    date_node = chapter.find('dcterms:date', namespaces)\n",
    "    if date_node is not None:\n",
    "        bibo_info['PY'] = date_node.text\n",
    "\n",
    "    uri_node = chapter.find('bibo:uri', namespaces)\n",
    "    if uri_node is not None:\n",
    "        bibo_info['UR'] = uri_node.text\n",
    "    \n",
    "    abstract_node = chapter.find('dcterms:abstract', namespaces)\n",
    "    if abstract_node is not None:\n",
    "        bibo_info['AB'] = abstract_node.text\n",
    "\n",
    "    reviews_node = chapter.find('.//bibo:lccn', namespaces)\n",
    "    if reviews_node is not None:\n",
    "        bibo_info['CN'] = reviews_node.text\n",
    "    \n",
    "    pages_node = chapter.find('bibo:pages', namespaces)\n",
    "    if pages_node is not None:\n",
    "        bibo_info['SP-EP'] = pages_node.text\n",
    "    \n",
    "    isbn_nodes = chapter.findall('bibo:isbn13', namespaces)\n",
    "    if isbn_nodes:\n",
    "        bibo_info['SN'] = ' '.join([inode.text for inode in isbn_nodes])\n",
    "    \n",
    "    doi_node = chapter.find('bibo:doi', namespaces)\n",
    "    if doi_node is not None:\n",
    "        bibo_info['DO'] = doi_node.text\n",
    "\n",
    "    volume_node = chapter.find('bibo:volume', namespaces)\n",
    "    if volume_node is not None:\n",
    "        bibo_info['VL'] = volume_node.text\n",
    "\n",
    "    series_node = chapter.find('.//bibo:Series', namespaces)\n",
    "    if series_node is not None:\n",
    "        series_title_node = series_node.find('dcterms:title', namespaces)\n",
    "        if series_title_node is not None:\n",
    "            bibo_info['T3'] = series_title_node.text\n",
    "        series_number_node = series_node.find('bibo:number', namespaces)\n",
    "        if series_number_node is not None:\n",
    "            bibo_info['SV'] = series_number_node.text\n",
    "\n",
    "    reviewed_node = chapter.find('.//bibo:shortTitle', namespaces)\n",
    "    if reviewed_node is not None:\n",
    "        bibo_info['ST'] = reviewed_node.text\n",
    "\n",
    "    edited_book_node = chapter.find('.//bibo:EditedBook', namespaces)\n",
    "    if edited_book_node is not None:\n",
    "        edited_book_title_node = edited_book_node.find('dcterms:title', namespaces)\n",
    "        if edited_book_title_node is not None:\n",
    "            bibo_info['T2'] = edited_book_title_node.text\n",
    "\n",
    "        edited_book_year_node = edited_book_node.find('dcterms:date', namespaces)\n",
    "        if edited_book_year_node is not None:\n",
    "            bibo_info['PY'] = edited_book_year_node.text\n",
    "\n",
    "        isbn_node = edited_book_node.find('bibo:isbn13', namespaces)\n",
    "        if isbn_node is not None:\n",
    "            bibo_info['SN'] = isbn_node.text\n",
    "\n",
    "        publisher_node = edited_book_node.find('dcterms:publisher/foaf:Organization', namespaces)\n",
    "        if publisher_node is not None:\n",
    "            publisher_name_node = publisher_node.find('foaf:name', namespaces)\n",
    "            locality_node = publisher_node.find('address:localityName', namespaces)\n",
    "\n",
    "            if publisher_name_node is not None:\n",
    "                bibo_info['PB'] = publisher_name_node.text\n",
    "            if locality_node is not None:\n",
    "                bibo_info['CY'] = locality_node.text\n",
    "   \n",
    "    return bibo_info\n",
    "\n",
    "\n",
    "def parse_chapter(z_node, author_lookup, keyword_lookup):\n",
    "    info = {}\n",
    "\n",
    "    next_node = z_node.getnext()\n",
    "    if next_node is not None and next_node.tag == '{' + namespaces['bibo'] + '}BookSection':\n",
    "        bibo_node = next_node\n",
    "    else:\n",
    "        resource_node = z_node.find('res:resource', namespaces)\n",
    "        if resource_node is not None:\n",
    "            bibo_node = resource_node.find('bibo:BookSection', namespaces)\n",
    "        else:\n",
    "            bibo_node = z_node.find('bibo:BookSection', namespaces)\n",
    "    \n",
    "    if bibo_node is not None:\n",
    "        info.update(parse_bibo_chapter(bibo_node, author_lookup))\n",
    "    \n",
    "    info.update(parse_keywords(z_node, keyword_lookup))\n",
    "\n",
    "    return info\n",
    "\n",
    "## web pages:\n",
    "def parse_bibo_webpage(book, author_lookup):\n",
    "    bibo_info = {}\n",
    "\n",
    "    authors = []\n",
    "    author_list = book.find('.//bibo:authorList/rdf:Seq', namespaces)\n",
    "    if author_list is not None:\n",
    "        for li in author_list.findall('rdf:li', namespaces):\n",
    "            node_id = li.get('{http://www.w3.org/1999/02/22-rdf-syntax-ns#}nodeID')\n",
    "            if node_id in author_lookup:\n",
    "                authors.append(author_lookup[node_id])\n",
    "    if authors:\n",
    "        bibo_info['AU'] = authors\n",
    "\n",
    "    editors = []\n",
    "    editor_list = book.find('.//bibo:editorList/rdf:Seq', namespaces)\n",
    "    if editor_list is not None:\n",
    "        for li in editor_list.findall('rdf:li', namespaces):\n",
    "            node_id = li.get('{http://www.w3.org/1999/02/22-rdf-syntax-ns#}nodeID')\n",
    "            if node_id in author_lookup:\n",
    "                editors.append(author_lookup[node_id])\n",
    "    if editors:\n",
    "        bibo_info['A3'] = editors\n",
    "\n",
    "    translators = []\n",
    "    for translator_node in book.findall('.//bibo:translator', namespaces):\n",
    "        node_id = translator_node.get('{http://www.w3.org/1999/02/22-rdf-syntax-ns#}nodeID')\n",
    "        if node_id in author_lookup:\n",
    "            translators.append(author_lookup[node_id])\n",
    "    if translators:\n",
    "        bibo_info['A4'] = translators\n",
    "\n",
    "    source_node = book.find('dcterms:source', namespaces)\n",
    "    if source_node is not None:\n",
    "        bibo_info['EX'] = source_node.text\n",
    "\n",
    "    title_node = book.find('dcterms:title', namespaces)\n",
    "    if title_node is not None:\n",
    "        bibo_info['TI'] = title_node.text\n",
    "\n",
    "    date_node = book.find('.//dcterms:date', namespaces)\n",
    "    if date_node is not None:\n",
    "        bibo_info['PY'] = date_node.text\n",
    "\n",
    "    uri_node = book.find('bibo:uri', namespaces)\n",
    "    if uri_node is not None:\n",
    "        bibo_info['UR'] = uri_node.text\n",
    "    \n",
    "    abstract_node = book.find('dcterms:abstract', namespaces)\n",
    "    if abstract_node is not None:\n",
    "        bibo_info['AB'] = abstract_node.text\n",
    "    \n",
    "    pages_node = book.find('bibo:numPages', namespaces)\n",
    "    if pages_node is not None:\n",
    "        bibo_info['SP'] = pages_node.text\n",
    "    \n",
    "    isbn_nodes = book.findall('bibo:isbn13', namespaces)\n",
    "    if isbn_nodes is not None:\n",
    "        bibo_info['SN'] = ' '.join([inode.text for inode in isbn_nodes])\n",
    "    \n",
    "    doi_node = book.find('bibo:doi', namespaces)\n",
    "    if doi_node is not None:\n",
    "        bibo_info['DO'] = doi_node.text\n",
    "    \n",
    "    reviews_node = book.find('.//dcterms:language', namespaces)\n",
    "    if reviews_node is not None:\n",
    "        bibo_info['CN'] = reviews_node.text\n",
    "\n",
    "    volume_node = book.find('bibo:volume', namespaces)\n",
    "    if volume_node is not None:\n",
    "        bibo_info['VL'] = volume_node.text\n",
    "\n",
    "    series_node = book.find('.//bibo:Series', namespaces)\n",
    "    if series_node is not None:\n",
    "        series_title_node = series_node.find('dcterms:title', namespaces)\n",
    "        if series_title_node is not None:\n",
    "            bibo_info['T2'] = series_title_node.text\n",
    "        series_number_node = series_node.find('bibo:number', namespaces)\n",
    "        if series_number_node is not None:\n",
    "            bibo_info['SV'] = series_number_node.text\n",
    "\n",
    "    reviewed_node = book.find('.//bibo:shortTitle', namespaces)\n",
    "    if reviewed_node is not None:\n",
    "        bibo_info['ST'] = reviewed_node.text\n",
    "\n",
    "    publisher_node = book.find('{http://purl.org/dc/terms/}publisher/foaf:Organization', namespaces)\n",
    "    if publisher_node is not None:\n",
    "        publisher_name_node = publisher_node.find('{http://xmlns.com/foaf/0.1/}name', namespaces)\n",
    "        locality_node = publisher_node.find('{http://schemas.talis.com/2005/address/schema#}localityName', namespaces)\n",
    "\n",
    "        if publisher_name_node is not None:\n",
    "            bibo_info['PB'] = publisher_name_node.text\n",
    "        if locality_node is not None:\n",
    "            bibo_info['CY'] = locality_node.text\n",
    "   \n",
    "    return bibo_info\n",
    "    \n",
    "def parse_web(z_node, author_lookup, keyword_lookup):\n",
    "    info = {}\n",
    "\n",
    "    next_node = z_node.getnext()\n",
    "    if next_node is not None and next_node.tag == '{' + namespaces['bibo'] + '}Webpage':\n",
    "        bibo_node = next_node\n",
    "    else:\n",
    "        resource_node = z_node.find('{http://purl.org/vocab/resourcelist/schema#}resource')\n",
    "        if resource_node is not None:\n",
    "            bibo_node = resource_node.find('{http://purl.org/ontology/bibo/}Webpage')\n",
    "        else:\n",
    "            bibo_node = z_node.find('{http://purl.org/ontology/bibo/}Webpage')\n",
    "    \n",
    "    if bibo_node is not None:\n",
    "        info.update(parse_bibo_webpage(bibo_node, author_lookup))\n",
    "    \n",
    "    info.update(parse_keywords(z_node, keyword_lookup))\n",
    "\n",
    "    return info\n",
    "\n",
    "## cdroms etc\n",
    "def parse_bibo_film(book, author_lookup):\n",
    "    bibo_info = {}\n",
    "\n",
    "    authors = []\n",
    "    author_list = book.find('.//bibo:authorList/rdf:Seq', namespaces)\n",
    "    if author_list is not None:\n",
    "        for li in author_list.findall('rdf:li', namespaces):\n",
    "            node_id = li.get('{http://www.w3.org/1999/02/22-rdf-syntax-ns#}nodeID')\n",
    "            if node_id in author_lookup:\n",
    "                authors.append(author_lookup[node_id])\n",
    "    if authors:\n",
    "        bibo_info['AU'] = authors\n",
    "\n",
    "    editors = []\n",
    "    editor_list = book.find('.//bibo:editorList/rdf:Seq', namespaces)\n",
    "    if editor_list is not None:\n",
    "        for li in editor_list.findall('rdf:li', namespaces):\n",
    "            node_id = li.get('{http://www.w3.org/1999/02/22-rdf-syntax-ns#}nodeID')\n",
    "            if node_id in author_lookup:\n",
    "                editors.append(author_lookup[node_id])\n",
    "    if editors:\n",
    "        bibo_info['A3'] = editors\n",
    "\n",
    "    translators = []\n",
    "    for translator_node in book.findall('.//bibo:translator', namespaces):\n",
    "        node_id = translator_node.get('{http://www.w3.org/1999/02/22-rdf-syntax-ns#}nodeID')\n",
    "        if node_id in author_lookup:\n",
    "            translators.append(author_lookup[node_id])\n",
    "    if translators:\n",
    "        bibo_info['A4'] = translators\n",
    "\n",
    "    source_node = book.find('dcterms:source', namespaces)\n",
    "    if source_node is not None:\n",
    "        bibo_info['EX'] = source_node.text\n",
    "\n",
    "    title_node = book.find('dcterms:title', namespaces)\n",
    "    if title_node is not None:\n",
    "        bibo_info['TI'] = title_node.text\n",
    "\n",
    "    date_node = book.find('.//dcterms:date', namespaces)\n",
    "    if date_node is not None:\n",
    "        bibo_info['PY'] = date_node.text\n",
    "\n",
    "    uri_node = book.find('bibo:uri', namespaces)\n",
    "    if uri_node is not None:\n",
    "        bibo_info['UR'] = uri_node.text\n",
    "    \n",
    "    abstract_node = book.find('dcterms:abstract', namespaces)\n",
    "    if abstract_node is not None:\n",
    "        bibo_info['AB'] = abstract_node.text\n",
    "    \n",
    "    pages_node = book.find('bibo:numPages', namespaces)\n",
    "    if pages_node is not None:\n",
    "        bibo_info['SP'] = pages_node.text\n",
    "    \n",
    "    isbn_nodes = book.findall('bibo:isbn13', namespaces)\n",
    "    if isbn_nodes is not None:\n",
    "        bibo_info['SN'] = ' '.join([inode.text for inode in isbn_nodes])\n",
    "    \n",
    "    doi_node = book.find('bibo:doi', namespaces)\n",
    "    if doi_node is not None:\n",
    "        bibo_info['DO'] = doi_node.text\n",
    "    \n",
    "    language_node = book.find('bibo:lccn', namespaces)\n",
    "    if language_node is not None:\n",
    "        bibo_info['CN'] = language_node.text\n",
    "\n",
    "    volume_node = book.find('bibo:volume', namespaces)\n",
    "    if volume_node is not None:\n",
    "        bibo_info['VL'] = volume_node.text\n",
    "\n",
    "    series_node = book.find('.//bibo:Series', namespaces)\n",
    "    if series_node is not None:\n",
    "        series_title_node = series_node.find('dcterms:title', namespaces)\n",
    "        if series_title_node is not None:\n",
    "            bibo_info['T2'] = series_title_node.text\n",
    "        series_number_node = series_node.find('bibo:number', namespaces)\n",
    "        if series_number_node is not None:\n",
    "            bibo_info['SV'] = series_number_node.text\n",
    "\n",
    "    publisher_node = book.find('{http://purl.org/dc/terms/}publisher/foaf:Organization', namespaces)\n",
    "    if publisher_node is not None:\n",
    "        publisher_name_node = publisher_node.find('{http://xmlns.com/foaf/0.1/}name', namespaces)\n",
    "        locality_node = publisher_node.find('{http://schemas.talis.com/2005/address/schema#}localityName', namespaces)\n",
    "\n",
    "        if publisher_name_node is not None:\n",
    "            bibo_info['PB'] = publisher_name_node.text\n",
    "        if locality_node is not None:\n",
    "            bibo_info['CY'] = locality_node.text\n",
    "   \n",
    "    return bibo_info\n",
    "    \n",
    "def parse_advs(z_node, author_lookup, keyword_lookup):\n",
    "    info = {}\n",
    "\n",
    "    next_node = z_node.getnext()\n",
    "    if next_node is not None and next_node.tag == '{' + namespaces['bibo'] + '}Film':\n",
    "        bibo_node = next_node\n",
    "    else:\n",
    "        resource_node = z_node.find('{http://purl.org/vocab/resourcelist/schema#}resource')\n",
    "        if resource_node is not None:\n",
    "            bibo_node = resource_node.find('{http://purl.org/ontology/bibo/}Film')\n",
    "        else:\n",
    "            bibo_node = z_node.find('{http://purl.org/ontology/bibo/}Film')\n",
    "    \n",
    "    if bibo_node is not None:\n",
    "        info.update(parse_bibo_webpage(bibo_node, author_lookup))\n",
    "    \n",
    "    info.update(parse_keywords(z_node, keyword_lookup))\n",
    "\n",
    "    return info"
   ]
  },
  {
   "cell_type": "code",
   "execution_count": 5,
   "metadata": {},
   "outputs": [
    {
     "data": {
      "application/vnd.jupyter.widget-view+json": {
       "model_id": "ff3a183b67214d7391c36aee289bd165",
       "version_major": 2,
       "version_minor": 0
      },
      "text/plain": [
       "Processing files:   0%|          | 0/58 [00:00<?, ?it/s]"
      ]
     },
     "metadata": {},
     "output_type": "display_data"
    },
    {
     "data": {
      "application/vnd.jupyter.widget-view+json": {
       "model_id": "3f6c9929371c4ba1af1fe1ec9696b8f3",
       "version_major": 2,
       "version_minor": 0
      },
      "text/plain": [
       "ADVS 2000s.rdf:   0%|          | 0/54 [00:00<?, ?it/s]"
      ]
     },
     "metadata": {},
     "output_type": "display_data"
    },
    {
     "data": {
      "application/vnd.jupyter.widget-view+json": {
       "model_id": "dfae710aabc345709c23587ad4c0a9d9",
       "version_major": 2,
       "version_minor": 0
      },
      "text/plain": [
       "Nieuwe invoer 14-3-2024 tot 9-12-2024.rdf:   0%|          | 0/14504 [00:00<?, ?it/s]"
      ]
     },
     "metadata": {},
     "output_type": "display_data"
    },
    {
     "data": {
      "application/vnd.jupyter.widget-view+json": {
       "model_id": "6cc6880a68424d35a006c81c590fb2c5",
       "version_major": 2,
       "version_minor": 0
      },
      "text/plain": [
       "WEB 1980s.rdf:   0%|          | 0/1 [00:00<?, ?it/s]"
      ]
     },
     "metadata": {},
     "output_type": "display_data"
    },
    {
     "data": {
      "application/vnd.jupyter.widget-view+json": {
       "model_id": "0a65d9c8c232439893348a1a88c491ee",
       "version_major": 2,
       "version_minor": 0
      },
      "text/plain": [
       "CHAP 1960s.rdf:   0%|          | 0/4084 [00:00<?, ?it/s]"
      ]
     },
     "metadata": {},
     "output_type": "display_data"
    },
    {
     "data": {
      "application/vnd.jupyter.widget-view+json": {
       "model_id": "66950efcccde4b07b605d77d7c678e80",
       "version_major": 2,
       "version_minor": 0
      },
      "text/plain": [
       "CHAP 1940s.rdf:   0%|          | 0/1764 [00:00<?, ?it/s]"
      ]
     },
     "metadata": {},
     "output_type": "display_data"
    },
    {
     "data": {
      "application/vnd.jupyter.widget-view+json": {
       "model_id": "fbb96a56b2524d8096ff8831dd3b68ab",
       "version_major": 2,
       "version_minor": 0
      },
      "text/plain": [
       "EJOUR MISC.rdf:   0%|          | 0/2 [00:00<?, ?it/s]"
      ]
     },
     "metadata": {},
     "output_type": "display_data"
    },
    {
     "data": {
      "application/vnd.jupyter.widget-view+json": {
       "model_id": "b0b072c6fe59435c937655d0040ae072",
       "version_major": 2,
       "version_minor": 0
      },
      "text/plain": [
       "JOUR 1990s.rdf:   0%|          | 0/44498 [00:00<?, ?it/s]"
      ]
     },
     "metadata": {},
     "output_type": "display_data"
    },
    {
     "data": {
      "application/vnd.jupyter.widget-view+json": {
       "model_id": "d3aeb240a33c427a802c630416587e53",
       "version_major": 2,
       "version_minor": 0
      },
      "text/plain": [
       "ADVS 2020s.rdf:   0%|          | 0/2 [00:00<?, ?it/s]"
      ]
     },
     "metadata": {},
     "output_type": "display_data"
    },
    {
     "data": {
      "application/vnd.jupyter.widget-view+json": {
       "model_id": "ad9794389f254e0bb1f5bc75bce7a0a4",
       "version_major": 2,
       "version_minor": 0
      },
      "text/plain": [
       "BOOK 1980s.rdf:   0%|          | 0/6722 [00:00<?, ?it/s]"
      ]
     },
     "metadata": {},
     "output_type": "display_data"
    },
    {
     "data": {
      "application/vnd.jupyter.widget-view+json": {
       "model_id": "104d5c03d9d84674942a36acb03596b2",
       "version_major": 2,
       "version_minor": 0
      },
      "text/plain": [
       "EJOUR 2010s.rdf:   0%|          | 0/569 [00:00<?, ?it/s]"
      ]
     },
     "metadata": {},
     "output_type": "display_data"
    },
    {
     "data": {
      "application/vnd.jupyter.widget-view+json": {
       "model_id": "fa39322b45be4b0db8f48a5d64b9da0c",
       "version_major": 2,
       "version_minor": 0
      },
      "text/plain": [
       "JOUR MISC.rdf:   0%|          | 0/3483 [00:00<?, ?it/s]"
      ]
     },
     "metadata": {},
     "output_type": "display_data"
    },
    {
     "data": {
      "application/vnd.jupyter.widget-view+json": {
       "model_id": "41da54a4ef424a48b81e142a0b7cf778",
       "version_major": 2,
       "version_minor": 0
      },
      "text/plain": [
       "JOUR 2000s.rdf:   0%|          | 0/27745 [00:00<?, ?it/s]"
      ]
     },
     "metadata": {},
     "output_type": "display_data"
    },
    {
     "data": {
      "application/vnd.jupyter.widget-view+json": {
       "model_id": "2ab616537b8e4fe7909668342d6b8b78",
       "version_major": 2,
       "version_minor": 0
      },
      "text/plain": [
       "BOOK 2010s.rdf:   0%|          | 0/3891 [00:00<?, ?it/s]"
      ]
     },
     "metadata": {},
     "output_type": "display_data"
    },
    {
     "data": {
      "application/vnd.jupyter.widget-view+json": {
       "model_id": "11ae3c150ef24abfbae6a0433a1ffbc5",
       "version_major": 2,
       "version_minor": 0
      },
      "text/plain": [
       "JFULL 1970s.rdf:   0%|          | 0/273 [00:00<?, ?it/s]"
      ]
     },
     "metadata": {},
     "output_type": "display_data"
    },
    {
     "data": {
      "application/vnd.jupyter.widget-view+json": {
       "model_id": "5b8dddc405af480483e037fa90886737",
       "version_major": 2,
       "version_minor": 0
      },
      "text/plain": [
       "JFULL 1950s.rdf:   0%|          | 0/17 [00:00<?, ?it/s]"
      ]
     },
     "metadata": {},
     "output_type": "display_data"
    },
    {
     "data": {
      "application/vnd.jupyter.widget-view+json": {
       "model_id": "a170ace72bf6467681e952d29cb2486c",
       "version_major": 2,
       "version_minor": 0
      },
      "text/plain": [
       "JOUR 2020s.rdf:   0%|          | 0/5238 [00:00<?, ?it/s]"
      ]
     },
     "metadata": {},
     "output_type": "display_data"
    },
    {
     "data": {
      "application/vnd.jupyter.widget-view+json": {
       "model_id": "8e3a44b34a064083acf6cac423a17917",
       "version_major": 2,
       "version_minor": 0
      },
      "text/plain": [
       "WEB 2010s.rdf:   0%|          | 0/85 [00:00<?, ?it/s]"
      ]
     },
     "metadata": {},
     "output_type": "display_data"
    },
    {
     "data": {
      "application/vnd.jupyter.widget-view+json": {
       "model_id": "48291b05e87648af96e9f3d87d11b439",
       "version_major": 2,
       "version_minor": 0
      },
      "text/plain": [
       "ADVS 1990s.rdf:   0%|          | 0/33 [00:00<?, ?it/s]"
      ]
     },
     "metadata": {},
     "output_type": "display_data"
    },
    {
     "data": {
      "application/vnd.jupyter.widget-view+json": {
       "model_id": "34e2afd722cb43e692f79bb310d153a4",
       "version_major": 2,
       "version_minor": 0
      },
      "text/plain": [
       "BOOK MISC.rdf:   0%|          | 0/1182 [00:00<?, ?it/s]"
      ]
     },
     "metadata": {},
     "output_type": "display_data"
    },
    {
     "data": {
      "application/vnd.jupyter.widget-view+json": {
       "model_id": "643d1bea5d4e43539c0b21fed9c23450",
       "version_major": 2,
       "version_minor": 0
      },
      "text/plain": [
       "JOUR 1980s.rdf:   0%|          | 0/34995 [00:00<?, ?it/s]"
      ]
     },
     "metadata": {},
     "output_type": "display_data"
    },
    {
     "data": {
      "application/vnd.jupyter.widget-view+json": {
       "model_id": "e0d8a161ec5548eb82d8ee44010ec9e4",
       "version_major": 2,
       "version_minor": 0
      },
      "text/plain": [
       "CHAP 1950s.rdf:   0%|          | 0/1161 [00:00<?, ?it/s]"
      ]
     },
     "metadata": {},
     "output_type": "display_data"
    },
    {
     "data": {
      "application/vnd.jupyter.widget-view+json": {
       "model_id": "c3d72d07f7d047bf9c37baa119993b4e",
       "version_major": 2,
       "version_minor": 0
      },
      "text/plain": [
       "EJOUR 2000s.rdf:   0%|          | 0/628 [00:00<?, ?it/s]"
      ]
     },
     "metadata": {},
     "output_type": "display_data"
    },
    {
     "data": {
      "application/vnd.jupyter.widget-view+json": {
       "model_id": "69e5eafcb8d7468b98b75e25cc186ccc",
       "version_major": 2,
       "version_minor": 0
      },
      "text/plain": [
       "BOOK 1990s.rdf:   0%|          | 0/7991 [00:00<?, ?it/s]"
      ]
     },
     "metadata": {},
     "output_type": "display_data"
    },
    {
     "data": {
      "application/vnd.jupyter.widget-view+json": {
       "model_id": "8d0961a850b34a018e0194ce14c9203f",
       "version_major": 2,
       "version_minor": 0
      },
      "text/plain": [
       "JFULL MISC.rdf:   0%|          | 0/6051 [00:00<?, ?it/s]"
      ]
     },
     "metadata": {},
     "output_type": "display_data"
    },
    {
     "data": {
      "application/vnd.jupyter.widget-view+json": {
       "model_id": "4b137dbc70fc4cefb9eadea1ad6439cd",
       "version_major": 2,
       "version_minor": 0
      },
      "text/plain": [
       "EJOUR 2020s.rdf:   0%|          | 0/251 [00:00<?, ?it/s]"
      ]
     },
     "metadata": {},
     "output_type": "display_data"
    },
    {
     "data": {
      "application/vnd.jupyter.widget-view+json": {
       "model_id": "e3ef6cf8a6674ea2986ef76891427e40",
       "version_major": 2,
       "version_minor": 0
      },
      "text/plain": [
       "CHAP 1970s.rdf:   0%|          | 0/6650 [00:00<?, ?it/s]"
      ]
     },
     "metadata": {},
     "output_type": "display_data"
    },
    {
     "data": {
      "application/vnd.jupyter.widget-view+json": {
       "model_id": "5adb773dab664838951316a82d50eb36",
       "version_major": 2,
       "version_minor": 0
      },
      "text/plain": [
       "WEB 1990s.rdf:   0%|          | 0/10 [00:00<?, ?it/s]"
      ]
     },
     "metadata": {},
     "output_type": "display_data"
    },
    {
     "data": {
      "application/vnd.jupyter.widget-view+json": {
       "model_id": "991e8b1de6e14577a02ad3e364050ec8",
       "version_major": 2,
       "version_minor": 0
      },
      "text/plain": [
       "ADVS 2010s.rdf:   0%|          | 0/9 [00:00<?, ?it/s]"
      ]
     },
     "metadata": {},
     "output_type": "display_data"
    },
    {
     "data": {
      "application/vnd.jupyter.widget-view+json": {
       "model_id": "b9d6bce654034e8caf132a330bbbf10b",
       "version_major": 2,
       "version_minor": 0
      },
      "text/plain": [
       "JFULL 1940s.rdf:   0%|          | 0/68 [00:00<?, ?it/s]"
      ]
     },
     "metadata": {},
     "output_type": "display_data"
    },
    {
     "data": {
      "application/vnd.jupyter.widget-view+json": {
       "model_id": "9fdcd02d62264ed8b259e6ff855c62c0",
       "version_major": 2,
       "version_minor": 0
      },
      "text/plain": [
       "BOOK 2020s.rdf:   0%|          | 0/825 [00:00<?, ?it/s]"
      ]
     },
     "metadata": {},
     "output_type": "display_data"
    },
    {
     "data": {
      "application/vnd.jupyter.widget-view+json": {
       "model_id": "e79b269d2f67467da770ac3715e639a2",
       "version_major": 2,
       "version_minor": 0
      },
      "text/plain": [
       "ADVS 1980s.rdf:   0%|          | 0/2 [00:00<?, ?it/s]"
      ]
     },
     "metadata": {},
     "output_type": "display_data"
    },
    {
     "data": {
      "application/vnd.jupyter.widget-view+json": {
       "model_id": "c6e4059be0814026aee78fb5971cdbd4",
       "version_major": 2,
       "version_minor": 0
      },
      "text/plain": [
       "WEB 2000s.rdf:   0%|          | 0/485 [00:00<?, ?it/s]"
      ]
     },
     "metadata": {},
     "output_type": "display_data"
    },
    {
     "data": {
      "application/vnd.jupyter.widget-view+json": {
       "model_id": "e2128d892bf24546b0114018c1b44a7d",
       "version_major": 2,
       "version_minor": 0
      },
      "text/plain": [
       "JOUR 2010s.rdf:   0%|          | 0/20043 [00:00<?, ?it/s]"
      ]
     },
     "metadata": {},
     "output_type": "display_data"
    },
    {
     "data": {
      "application/vnd.jupyter.widget-view+json": {
       "model_id": "67b5224ded4a40f5b7291a3dcbd174db",
       "version_major": 2,
       "version_minor": 0
      },
      "text/plain": [
       "WEB MISC.rdf:   0%|          | 0/32 [00:00<?, ?it/s]"
      ]
     },
     "metadata": {},
     "output_type": "display_data"
    },
    {
     "data": {
      "application/vnd.jupyter.widget-view+json": {
       "model_id": "cd59fee6d4f5473ea93ae85910b3e2a9",
       "version_major": 2,
       "version_minor": 0
      },
      "text/plain": [
       "WEB 2020s.rdf:   0%|          | 0/1 [00:00<?, ?it/s]"
      ]
     },
     "metadata": {},
     "output_type": "display_data"
    },
    {
     "data": {
      "application/vnd.jupyter.widget-view+json": {
       "model_id": "acd9f76edee14fb6ba535d46cde1f555",
       "version_major": 2,
       "version_minor": 0
      },
      "text/plain": [
       "JFULL 1960s.rdf:   0%|          | 0/190 [00:00<?, ?it/s]"
      ]
     },
     "metadata": {},
     "output_type": "display_data"
    },
    {
     "data": {
      "application/vnd.jupyter.widget-view+json": {
       "model_id": "fa81b56e98414e12b0c83193873473e4",
       "version_major": 2,
       "version_minor": 0
      },
      "text/plain": [
       "BOOK 2000s.rdf:   0%|          | 0/6229 [00:00<?, ?it/s]"
      ]
     },
     "metadata": {},
     "output_type": "display_data"
    },
    {
     "data": {
      "application/vnd.jupyter.widget-view+json": {
       "model_id": "181bb2e09916441a8afbffaeecfa17f2",
       "version_major": 2,
       "version_minor": 0
      },
      "text/plain": [
       "EJOUR 1990s.rdf:   0%|          | 0/97 [00:00<?, ?it/s]"
      ]
     },
     "metadata": {},
     "output_type": "display_data"
    },
    {
     "data": {
      "application/vnd.jupyter.widget-view+json": {
       "model_id": "84f14e47704a4489b3aed66f2fec2566",
       "version_major": 2,
       "version_minor": 0
      },
      "text/plain": [
       "CHAP 2000s.rdf:   0%|          | 0/11027 [00:00<?, ?it/s]"
      ]
     },
     "metadata": {},
     "output_type": "display_data"
    },
    {
     "data": {
      "application/vnd.jupyter.widget-view+json": {
       "model_id": "b96cc33e5878408b81d960eb765a273e",
       "version_major": 2,
       "version_minor": 0
      },
      "text/plain": [
       "CHAP 2020s.rdf:   0%|          | 0/1627 [00:00<?, ?it/s]"
      ]
     },
     "metadata": {},
     "output_type": "display_data"
    },
    {
     "data": {
      "application/vnd.jupyter.widget-view+json": {
       "model_id": "c0a9138abfb848dd950d6db5697d34a4",
       "version_major": 2,
       "version_minor": 0
      },
      "text/plain": [
       "JFULL 1980s.rdf:   0%|          | 0/619 [00:00<?, ?it/s]"
      ]
     },
     "metadata": {},
     "output_type": "display_data"
    },
    {
     "data": {
      "application/vnd.jupyter.widget-view+json": {
       "model_id": "81b0f7b4428548c59ff0d6c7b66b29c1",
       "version_major": 2,
       "version_minor": 0
      },
      "text/plain": [
       "JOUR 1960s.rdf:   0%|          | 0/19387 [00:00<?, ?it/s]"
      ]
     },
     "metadata": {},
     "output_type": "display_data"
    },
    {
     "data": {
      "application/vnd.jupyter.widget-view+json": {
       "model_id": "b80d31f6a02e4dcba9a2b479db89a200",
       "version_major": 2,
       "version_minor": 0
      },
      "text/plain": [
       "BOOK 1970s.rdf:   0%|          | 0/3623 [00:00<?, ?it/s]"
      ]
     },
     "metadata": {},
     "output_type": "display_data"
    },
    {
     "data": {
      "application/vnd.jupyter.widget-view+json": {
       "model_id": "3629c8a0e5a244c1a566e1b3b990170e",
       "version_major": 2,
       "version_minor": 0
      },
      "text/plain": [
       "JFULL 2010s.rdf:   0%|          | 0/442 [00:00<?, ?it/s]"
      ]
     },
     "metadata": {},
     "output_type": "display_data"
    },
    {
     "data": {
      "application/vnd.jupyter.widget-view+json": {
       "model_id": "99b0dc5a0a574b67898ca29441a33bc6",
       "version_major": 2,
       "version_minor": 0
      },
      "text/plain": [
       "BOOK 1950s.rdf:   0%|          | 0/917 [00:00<?, ?it/s]"
      ]
     },
     "metadata": {},
     "output_type": "display_data"
    },
    {
     "data": {
      "application/vnd.jupyter.widget-view+json": {
       "model_id": "66488b50c96b46b28cd358123aea50de",
       "version_major": 2,
       "version_minor": 0
      },
      "text/plain": [
       "CHAP MISC.rdf:   0%|          | 0/470 [00:00<?, ?it/s]"
      ]
     },
     "metadata": {},
     "output_type": "display_data"
    },
    {
     "data": {
      "application/vnd.jupyter.widget-view+json": {
       "model_id": "53ca05b9b984433c93a0004c3181a704",
       "version_major": 2,
       "version_minor": 0
      },
      "text/plain": [
       "JOUR 1940s.rdf:   0%|          | 0/9897 [00:00<?, ?it/s]"
      ]
     },
     "metadata": {},
     "output_type": "display_data"
    },
    {
     "data": {
      "application/vnd.jupyter.widget-view+json": {
       "model_id": "ab3e727c3b01470ebe5877bb2e0b05bb",
       "version_major": 2,
       "version_minor": 0
      },
      "text/plain": [
       "CHAP 1990s.rdf:   0%|          | 0/14247 [00:00<?, ?it/s]"
      ]
     },
     "metadata": {},
     "output_type": "display_data"
    },
    {
     "data": {
      "application/vnd.jupyter.widget-view+json": {
       "model_id": "f9fd99f15a9e42128866c75d86d4ae37",
       "version_major": 2,
       "version_minor": 0
      },
      "text/plain": [
       "JFULL 1990s.rdf:   0%|          | 0/660 [00:00<?, ?it/s]"
      ]
     },
     "metadata": {},
     "output_type": "display_data"
    },
    {
     "data": {
      "application/vnd.jupyter.widget-view+json": {
       "model_id": "9788443dfe4a414d82047264804a6478",
       "version_major": 2,
       "version_minor": 0
      },
      "text/plain": [
       "CHAP 2010s.rdf:   0%|          | 0/6300 [00:00<?, ?it/s]"
      ]
     },
     "metadata": {},
     "output_type": "display_data"
    },
    {
     "data": {
      "application/vnd.jupyter.widget-view+json": {
       "model_id": "6e3d4035091143c189515795686a3b49",
       "version_major": 2,
       "version_minor": 0
      },
      "text/plain": [
       "JFULL 2020s.rdf:   0%|          | 0/161 [00:00<?, ?it/s]"
      ]
     },
     "metadata": {},
     "output_type": "display_data"
    },
    {
     "data": {
      "application/vnd.jupyter.widget-view+json": {
       "model_id": "792428d1bd3f4619a9e5cd7d9d4d7ec4",
       "version_major": 2,
       "version_minor": 0
      },
      "text/plain": [
       "BOOK 1940s.rdf:   0%|          | 0/1437 [00:00<?, ?it/s]"
      ]
     },
     "metadata": {},
     "output_type": "display_data"
    },
    {
     "data": {
      "application/vnd.jupyter.widget-view+json": {
       "model_id": "9fe50eabf63243e3bcd13af7462b28aa",
       "version_major": 2,
       "version_minor": 0
      },
      "text/plain": [
       "CHAP 1980s.rdf:   0%|          | 0/12289 [00:00<?, ?it/s]"
      ]
     },
     "metadata": {},
     "output_type": "display_data"
    },
    {
     "data": {
      "application/vnd.jupyter.widget-view+json": {
       "model_id": "f7c87523f2a4454e95b5d2784f0f7bbc",
       "version_major": 2,
       "version_minor": 0
      },
      "text/plain": [
       "JOUR 1950s.rdf:   0%|          | 0/6218 [00:00<?, ?it/s]"
      ]
     },
     "metadata": {},
     "output_type": "display_data"
    },
    {
     "data": {
      "application/vnd.jupyter.widget-view+json": {
       "model_id": "b238ef30caef44f5a2238b094882a945",
       "version_major": 2,
       "version_minor": 0
      },
      "text/plain": [
       "JOUR 1970s.rdf:   0%|          | 0/25511 [00:00<?, ?it/s]"
      ]
     },
     "metadata": {},
     "output_type": "display_data"
    },
    {
     "data": {
      "application/vnd.jupyter.widget-view+json": {
       "model_id": "2711677ba4214bfcaab0f14d04ccc3c2",
       "version_major": 2,
       "version_minor": 0
      },
      "text/plain": [
       "ADVS MISC.rdf:   0%|          | 0/3 [00:00<?, ?it/s]"
      ]
     },
     "metadata": {},
     "output_type": "display_data"
    },
    {
     "data": {
      "application/vnd.jupyter.widget-view+json": {
       "model_id": "4d7f325aab6645ddbabd2fe508ad723b",
       "version_major": 2,
       "version_minor": 0
      },
      "text/plain": [
       "JFULL 2000s.rdf:   0%|          | 0/479 [00:00<?, ?it/s]"
      ]
     },
     "metadata": {},
     "output_type": "display_data"
    },
    {
     "data": {
      "application/vnd.jupyter.widget-view+json": {
       "model_id": "2871db0ce6644f40850a51e626a6be11",
       "version_major": 2,
       "version_minor": 0
      },
      "text/plain": [
       "BOOK 1960s.rdf:   0%|          | 0/2185 [00:00<?, ?it/s]"
      ]
     },
     "metadata": {},
     "output_type": "display_data"
    }
   ],
   "source": [
    "for fn in tqdm(glob('../../data/BNTL_FinalExport/*.rdf'), \n",
    "               desc=\"Processing files\", \n",
    "               position=0, \n",
    "               leave=True):\n",
    "    \n",
    "    parsedf = os.path.basename(fn).replace('.rdf', '.json')\n",
    "    parsedf = f'parsed/{parsedf}'\n",
    "    \n",
    "    with open(fn, 'r', encoding='utf-8') as file:\n",
    "        xml_content = file.read()\n",
    "    root = etree.fromstring(xml_content)\n",
    "\n",
    "    author_lookup = get_author_lookup(root)\n",
    "    keyword_lookup = get_keyword_lookup(root)\n",
    "\n",
    "    user_items = tuple(root.xpath('//z:UserItem', namespaces=namespaces))\n",
    "\n",
    "    parsed = []\n",
    "    for z_node in tqdm(user_items, \n",
    "                      desc=os.path.basename(fn),\n",
    "                      position=1, \n",
    "                      leave=False):\n",
    "        info = {}\n",
    "\n",
    "        user_item_url = z_node.xpath('@rdf:about', namespaces=namespaces)\n",
    "        if user_item_url:\n",
    "            info['ID'] = user_item_url[0]\n",
    "        else:\n",
    "            continue\n",
    "        \n",
    "        access_date_node = z_node.find('z:accessDate', namespaces)\n",
    "        if access_date_node is not None:\n",
    "            info['Y2'] = access_date_node.text\n",
    "        \n",
    "        academic_article = z_node.xpath('.//bibo:AcademicArticle', namespaces=namespaces)\n",
    "        \n",
    "        if not academic_article:\n",
    "            resource_url = z_node.xpath('.//res:resource/@rdf:resource', namespaces=namespaces)\n",
    "            if resource_url:\n",
    "                try:\n",
    "                    all_articles = root.xpath(\"//bibo:AcademicArticle\", namespaces=namespaces)\n",
    "                    academic_article = [article for article in all_articles \n",
    "                                     if article.get('{'+namespaces['rdf']+'}about') == resource_url[0]]\n",
    "                except:\n",
    "                    academic_article = []\n",
    "\n",
    "        if academic_article:\n",
    "            info.update(parse_jour(z_node, author_lookup=author_lookup, keyword_lookup=keyword_lookup))\n",
    "            info['TY'] = 'JOUR'\n",
    "        \n",
    "        next_node = z_node.getnext()\n",
    "        \n",
    "        if ((next_node is not None and next_node.tag == '{' + namespaces['bibo'] + '}Book') or \n",
    "            z_node.xpath('.//bibo:Book', namespaces=namespaces)):\n",
    "            info.update(parse_book(z_node, author_lookup=author_lookup, keyword_lookup=keyword_lookup))\n",
    "            info['TY'] = 'BOOK'\n",
    "\n",
    "            if 'KW' in info and \"Speciaal tijdschriftnummer\" in set(info['KW']):\n",
    "                info['TY'] = 'JFULL'\n",
    "\n",
    "        elif ((next_node is not None and next_node.tag == '{' + namespaces['bibo'] + '}BookSection') or \n",
    "              z_node.xpath('.//bibo:BookSection', namespaces=namespaces)):\n",
    "            info.update(parse_chapter(z_node, author_lookup=author_lookup, keyword_lookup=keyword_lookup))\n",
    "            info['TY'] = 'CHAP'\n",
    "\n",
    "        elif ((next_node is not None and next_node.tag == '{' + namespaces['bibo'] + '}Webpage') or \n",
    "              z_node.xpath('.//bibo:Webpage', namespaces=namespaces)):\n",
    "            info.update(parse_web(z_node, author_lookup=author_lookup, keyword_lookup=keyword_lookup))\n",
    "            info['TY'] = 'WEB'\n",
    "\n",
    "        elif ((next_node is not None and next_node.tag == '{' + namespaces['bibo'] + '}Film') or \n",
    "              z_node.xpath('.//bibo:Film', namespaces=namespaces)):\n",
    "            info.update(parse_advs(z_node, author_lookup=author_lookup, keyword_lookup=keyword_lookup))\n",
    "            info['TY'] = 'ADVS'\n",
    "\n",
    "        if info:\n",
    "            if 'KW' in info and 'foutmelding (keywords)' in info['KW']:\n",
    "                info['KW'].remove('foutmelding (keywords)')\n",
    "            parsed.append(info)\n",
    "\n",
    "    with open(parsedf, 'w') as f:\n",
    "        f.write(json.dumps(parsed, indent=2))"
   ]
  },
  {
   "cell_type": "code",
   "execution_count": null,
   "metadata": {},
   "outputs": [],
   "source": []
  },
  {
   "cell_type": "code",
   "execution_count": null,
   "metadata": {},
   "outputs": [],
   "source": []
  }
 ],
 "metadata": {
  "kernelspec": {
   "display_name": "py3.12",
   "language": "python",
   "name": "python3"
  },
  "language_info": {
   "codemirror_mode": {
    "name": "ipython",
    "version": 3
   },
   "file_extension": ".py",
   "mimetype": "text/x-python",
   "name": "python",
   "nbconvert_exporter": "python",
   "pygments_lexer": "ipython3",
   "version": "3.12.7"
  }
 },
 "nbformat": 4,
 "nbformat_minor": 2
}
